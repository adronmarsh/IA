{
  "cells": [
    {
      "cell_type": "markdown",
      "metadata": {
        "id": "s9Xjq5qrotDi"
      },
      "source": [
        "# Operadores de asignación"
      ]
    },
    {
      "cell_type": "markdown",
      "metadata": {
        "id": "DDQztHDIotDp"
      },
      "source": [
        "### ¿Cuáles son los operadores de asignación?"
      ]
    },
    {
      "cell_type": "markdown",
      "metadata": {
        "id": "ExnQGiyGotDr"
      },
      "source": [
        "En secciones anteriores ya hemos presentado el operador de asignación que utilizabamos para asignar un valor a una variable, concretamente se corresponde con `=`."
      ]
    },
    {
      "cell_type": "markdown",
      "metadata": {
        "id": "e1bdtd2iotDs"
      },
      "source": [
        "Sin embargo, una de las cosas interesantes que nos proporciona Python es un mecanismo para combinar operadores aritméticos y operadores de asignación simplificando el código que escribimos. A la combinación de ambos operadores se les denomina **_Augmented Assignment_**."
      ]
    },
    {
      "cell_type": "markdown",
      "metadata": {
        "id": "8F16M9gEotDs"
      },
      "source": [
        "<table>\n",
        "<thead>\n",
        "<tr>\n",
        "<th>Augmented<br>Assignment</th>\n",
        "<th></th>\n",
        "<th>Standard<br>Assignment</th>\n",
        "</tr>\n",
        "</thead>\n",
        "<tbody>\n",
        "<tr>\n",
        "<td><code>a += 5</code></td>\n",
        "<td>es equivalente a</td>\n",
        "<td><code>a = a + 5</code></td>\n",
        "</tr>\n",
        "<tr>\n",
        "<td><code>a /= 10</code></td>\n",
        "<td>es equivalente a</td>\n",
        "<td><code>a = a / 10</code></td>\n",
        "</tr>\n",
        "<tr>\n",
        "<td><code>a *= b</code></td>\n",
        "<td>es equivalente a</td>\n",
        "<td><code>a = a * b</code></td>\n",
        "</tr>\n",
        "</tbody>\n",
        "</table>"
      ]
    },
    {
      "cell_type": "code",
      "execution_count": null,
      "metadata": {
        "id": "OfkyrF80otDt"
      },
      "outputs": [],
      "source": [
        "num = 10"
      ]
    },
    {
      "cell_type": "code",
      "execution_count": null,
      "metadata": {
        "id": "evmC3C2DotDu"
      },
      "outputs": [],
      "source": [
        "num = num * 2"
      ]
    },
    {
      "cell_type": "code",
      "execution_count": null,
      "metadata": {
        "id": "wYIxXQ6qotDu",
        "outputId": "a0d69765-1dd5-472f-b24b-356d3e7c83fe"
      },
      "outputs": [
        {
          "data": {
            "text/plain": [
              "20"
            ]
          },
          "execution_count": 7,
          "metadata": {},
          "output_type": "execute_result"
        }
      ],
      "source": [
        "num"
      ]
    },
    {
      "cell_type": "code",
      "execution_count": null,
      "metadata": {
        "id": "-3mRB7IgotDv"
      },
      "outputs": [],
      "source": [
        "num = 10"
      ]
    },
    {
      "cell_type": "code",
      "execution_count": null,
      "metadata": {
        "id": "TVy601qTotDw"
      },
      "outputs": [],
      "source": [
        "num *= 2"
      ]
    },
    {
      "cell_type": "code",
      "execution_count": null,
      "metadata": {
        "id": "u9EXiGK_otDw",
        "outputId": "75225dfe-1a55-4763-9f22-5fb8c0f9370b"
      },
      "outputs": [
        {
          "data": {
            "text/plain": [
              "20"
            ]
          },
          "execution_count": 10,
          "metadata": {},
          "output_type": "execute_result"
        }
      ],
      "source": [
        "num"
      ]
    },
    {
      "cell_type": "code",
      "execution_count": null,
      "metadata": {
        "id": "NZKLuEK2otDy"
      },
      "outputs": [],
      "source": []
    }
  ],
  "metadata": {
    "kernelspec": {
      "display_name": "Python 3",
      "language": "python",
      "name": "python3"
    },
    "language_info": {
      "codemirror_mode": {
        "name": "ipython",
        "version": 3
      },
      "file_extension": ".py",
      "mimetype": "text/x-python",
      "name": "python",
      "nbconvert_exporter": "python",
      "pygments_lexer": "ipython3",
      "version": "3.9.2"
    },
    "colab": {
      "provenance": []
    }
  },
  "nbformat": 4,
  "nbformat_minor": 0
}