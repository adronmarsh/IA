{
 "cells": [
  {
   "cell_type": "code",
   "execution_count": 1,
   "metadata": {},
   "outputs": [
    {
     "name": "stderr",
     "output_type": "stream",
     "text": [
      "C:\\Users\\amartinezgil\\AppData\\Local\\Packages\\PythonSoftwareFoundation.Python.3.11_qbz5n2kfra8p0\\LocalCache\\local-packages\\Python311\\site-packages\\tqdm\\auto.py:21: TqdmWarning: IProgress not found. Please update jupyter and ipywidgets. See https://ipywidgets.readthedocs.io/en/stable/user_install.html\n",
      "  from .autonotebook import tqdm as notebook_tqdm\n"
     ]
    }
   ],
   "source": [
    "from datasets import Dataset\n",
    "from transformers import AutoTokenizer, AutoModelForCausalLM, Trainer, TrainingArguments\n",
    "import os"
   ]
  },
  {
   "cell_type": "code",
   "execution_count": 2,
   "metadata": {},
   "outputs": [],
   "source": [
    "# Definir la ruta al directorio donde se extrajeron los archivos\n",
    "docs_folder = 'docs'\n",
    "\n",
    "# Función para listar y leer archivos Markdown en español\n",
    "def cargar_y_combinar_markdown_en_espanol(directorio):\n",
    "    contenido = []\n",
    "    for root, _, files in os.walk(directorio):\n",
    "        for file in files:\n",
    "            if file.endswith(\".es.md\"):  # Seleccionar solo archivos en español\n",
    "                file_path = os.path.join(root, file)\n",
    "                with open(file_path, 'r', encoding='utf-8') as f:\n",
    "                    contenido.append(f.read())\n",
    "    return \"\\n\\n\".join(contenido)\n",
    "\n",
    "# Cargar y combinar contenido\n",
    "contenido_documentacion = cargar_y_combinar_markdown_en_espanol(docs_folder)\n",
    "\n",
    "texts = contenido_documentacion.split(\"\\n\\n\")  # Dividir por documentos o secciones, si es aplicable"
   ]
  },
  {
   "cell_type": "code",
   "execution_count": 3,
   "metadata": {},
   "outputs": [],
   "source": [
    "# Crear un objeto Dataset con el contenido dividido\n",
    "dataset = Dataset.from_dict({\"text\": texts})\n",
    "\n",
    "# Dividir el dataset en entrenamiento y test (o validación)\n",
    "train_test_split = dataset.train_test_split(test_size=0.1)\n",
    "train_dataset = train_test_split['train']\n",
    "test_dataset = train_test_split['test']"
   ]
  },
  {
   "cell_type": "code",
   "execution_count": 4,
   "metadata": {},
   "outputs": [
    {
     "name": "stderr",
     "output_type": "stream",
     "text": [
      "Map: 100%|██████████| 1089/1089 [00:00<00:00, 3212.67 examples/s]\n",
      "Map: 100%|██████████| 121/121 [00:00<00:00, 3558.56 examples/s]\n"
     ]
    }
   ],
   "source": [
    "# Tokenizar los datos\n",
    "model_checkpoint = \"gpt2\"  # Modelo base\n",
    "tokenizer = AutoTokenizer.from_pretrained(model_checkpoint)\n",
    "\n",
    "# Establecer el token de EOS como token de padding\n",
    "tokenizer.pad_token = tokenizer.eos_token\n",
    "\n",
    "def tokenize_and_prepare_labels(examples):\n",
    "    # Tokenizar el texto\n",
    "    tokenized_inputs = tokenizer(examples[\"text\"], padding=\"max_length\", truncation=True, max_length=512)\n",
    "\n",
    "    # Asegurarse de que las etiquetas sean los input_ids desplazados\n",
    "    tokenized_inputs[\"labels\"] = tokenized_inputs[\"input_ids\"].copy()\n",
    "    \n",
    "    # Aquí asumimos que eos_token_id es el mismo que pad_token_id, ajusta según sea necesario\n",
    "    pad_token_id = tokenizer.pad_token_id\n",
    "\n",
    "    # Desplazar las etiquetas una posición a la derecha y añadir el pad token al inicio\n",
    "    tokenized_inputs[\"labels\"] = [[pad_token_id] + label[:-1] for label in tokenized_inputs[\"labels\"]]\n",
    "    \n",
    "    return tokenized_inputs\n",
    "\n",
    "# Aplicar esta función al dataset\n",
    "tokenized_train = train_dataset.map(tokenize_and_prepare_labels, batched=True)\n",
    "tokenized_test = test_dataset.map(tokenize_and_prepare_labels, batched=True)"
   ]
  },
  {
   "cell_type": "code",
   "execution_count": 5,
   "metadata": {},
   "outputs": [
    {
     "name": "stderr",
     "output_type": "stream",
     "text": [
      " 92%|█████████▏| 500/545 [1:33:04<09:12, 12.28s/it]  "
     ]
    },
    {
     "name": "stdout",
     "output_type": "stream",
     "text": [
      "{'loss': 0.1564, 'learning_rate': 1.6513761467889911e-06, 'epoch': 0.92}\n"
     ]
    },
    {
     "name": "stderr",
     "output_type": "stream",
     "text": [
      "                                                   \n",
      " 92%|█████████▏| 500/545 [1:37:15<09:12, 12.28s/it]"
     ]
    },
    {
     "name": "stdout",
     "output_type": "stream",
     "text": [
      "{'eval_loss': 0.006177566479891539, 'eval_runtime': 250.6912, 'eval_samples_per_second': 0.483, 'eval_steps_per_second': 0.243, 'epoch': 0.92}\n"
     ]
    },
    {
     "name": "stderr",
     "output_type": "stream",
     "text": [
      "100%|██████████| 545/545 [1:44:32<00:00, 11.51s/it]  "
     ]
    },
    {
     "name": "stdout",
     "output_type": "stream",
     "text": [
      "{'train_runtime': 6272.7509, 'train_samples_per_second': 0.174, 'train_steps_per_second': 0.087, 'train_loss': 0.14406084303462177, 'epoch': 1.0}\n"
     ]
    },
    {
     "name": "stderr",
     "output_type": "stream",
     "text": [
      "\n"
     ]
    },
    {
     "data": {
      "text/plain": [
       "TrainOutput(global_step=545, training_loss=0.14406084303462177, metrics={'train_runtime': 6272.7509, 'train_samples_per_second': 0.174, 'train_steps_per_second': 0.087, 'train_loss': 0.14406084303462177, 'epoch': 1.0})"
      ]
     },
     "execution_count": 5,
     "metadata": {},
     "output_type": "execute_result"
    }
   ],
   "source": [
    "# Cargar el modelo preentrenado\n",
    "model = AutoModelForCausalLM.from_pretrained(model_checkpoint)\n",
    "\n",
    "# Configurar los argumentos de entrenamiento\n",
    "training_args = TrainingArguments(\n",
    "    output_dir=\"./results\",\n",
    "    evaluation_strategy=\"steps\",\n",
    "    learning_rate=2e-5,\n",
    "    weight_decay=0.01,\n",
    "    num_train_epochs=1,\n",
    "    per_device_train_batch_size=2,  # Ajuste según la capacidad de tu hardware\n",
    "    per_device_eval_batch_size=2,\n",
    ")\n",
    "\n",
    "# Inicializar el Trainer\n",
    "trainer = Trainer(\n",
    "    model=model,\n",
    "    args=training_args,\n",
    "    train_dataset=tokenized_train,\n",
    "    eval_dataset=tokenized_test,\n",
    ")\n",
    "\n",
    "# Entrenar el modelo\n",
    "trainer.train()"
   ]
  },
  {
   "cell_type": "code",
   "execution_count": 6,
   "metadata": {},
   "outputs": [],
   "source": [
    "# Guardar el modelo ajustado\n",
    "trainer.save_model(\"/mnt/data/wakamiti_finetuned_model\")"
   ]
  }
 ],
 "metadata": {
  "kernelspec": {
   "display_name": "Python 3",
   "language": "python",
   "name": "python3"
  },
  "language_info": {
   "codemirror_mode": {
    "name": "ipython",
    "version": 3
   },
   "file_extension": ".py",
   "mimetype": "text/x-python",
   "name": "python",
   "nbconvert_exporter": "python",
   "pygments_lexer": "ipython3",
   "version": "3.11.7"
  }
 },
 "nbformat": 4,
 "nbformat_minor": 2
}
