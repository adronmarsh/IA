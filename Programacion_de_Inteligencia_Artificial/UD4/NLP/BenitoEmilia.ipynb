{
  "cells": [
    {
      "cell_type": "markdown",
      "metadata": {
        "id": "4-1GTTiTF7DD"
      },
      "source": [
        "**Objetivo: Vamos a crear una LSTM capaz de clasificar si una secuencia de novela pertenece a Benito Pérez Galdós o a Emilia Pardo Bazán**"
      ]
    },
    {
      "cell_type": "markdown",
      "metadata": {
        "id": "Igs91yOqc9BR"
      },
      "source": [
        "Guión del ejercicio\n",
        "1. Importar las librerias\n",
        "2. Descargar el texto(novelas)\n",
        "3. Preparar el texto máximo de 250 palabras\n",
        "4. Crear el dataframe\n",
        "5. 80% entrenamiento, 20%validación\n",
        "6. Ponemos a punto todas las variables\n",
        "7. Tokenizar\n",
        "8. Probamos que funciona el tokenizador\n",
        "9. Padding\n",
        "10. Creamos la RNN- LSTM 👶\n",
        "11. Compilamos, entrenamos...\n",
        "12. Predecimos"
      ]
    },
    {
      "cell_type": "code",
      "execution_count": 3,
      "metadata": {
        "id": "0tS-bUSagJGv"
      },
      "outputs": [],
      "source": [
        "URLS = [\n",
        "    (\"galdos\", \"http://www.gutenberg.org/cache/epub/52392/pg52392.txt\"),  # Miau\n",
        "    (\"galdos\", \"http://www.gutenberg.org/cache/epub/15725/pg15725.txt\"),  # Doña Perfecta\n",
        "    (\"galdos\", \"http://www.gutenberg.org/cache/epub/17013/pg17013.txt\"),  # Fortunata y Jacinta\n",
        "    (\"bazan\", \"https://www.gutenberg.org/files/65632/65632-0.txt\"),  # La prueba\n",
        "    (\"bazan\", \"https://www.gutenberg.org/files/58059/58059-0.txt\"),  # La Madre Naturaleza\n",
        "    (\"bazan\", \"https://www.gutenberg.org/cache/epub/17491/pg17491.txt\"),  # La Tribuna\n",
        "]"
      ]
    },
    {
      "cell_type": "markdown",
      "metadata": {},
      "source": [
        "## 1.- Importar las librerías"
      ]
    },
    {
      "cell_type": "code",
      "execution_count": 4,
      "metadata": {
        "id": "3suTB5UcmezT"
      },
      "outputs": [
        {
          "name": "stdout",
          "output_type": "stream",
          "text": [
            "WARNING:tensorflow:From C:\\Users\\AMG\\AppData\\Local\\Packages\\PythonSoftwareFoundation.Python.3.11_qbz5n2kfra8p0\\LocalCache\\local-packages\\Python311\\site-packages\\keras\\src\\losses.py:2976: The name tf.losses.sparse_softmax_cross_entropy is deprecated. Please use tf.compat.v1.losses.sparse_softmax_cross_entropy instead.\n",
            "\n"
          ]
        }
      ],
      "source": [
        "import csv\n",
        "import tensorflow as tf\n",
        "import numpy as np\n",
        "import pandas as pd\n",
        "import matplotlib.pyplot as plt\n",
        "import requests\n",
        "from tqdm import tqdm\n",
        "from keras.preprocessing.text import Tokenizer\n",
        "from keras.preprocessing.sequence import pad_sequences"
      ]
    },
    {
      "cell_type": "markdown",
      "metadata": {},
      "source": [
        "## 2.- Descargar texto"
      ]
    },
    {
      "cell_type": "code",
      "execution_count": 5,
      "metadata": {
        "colab": {
          "base_uri": "https://localhost:8080/"
        },
        "id": "TYdHOqYhnZ-M",
        "outputId": "440a1570-0b76-4042-a679-8a5d014af552"
      },
      "outputs": [
        {
          "name": "stderr",
          "output_type": "stream",
          "text": [
            "100%|██████████| 6/6 [00:13<00:00,  2.21s/it]\n"
          ]
        }
      ],
      "source": [
        "galdos=\"\"\n",
        "bazan =\"\"\n",
        "for autor, url in tqdm(URLS):\n",
        "  texto =requests.get(url).text\n",
        "  empieza=\"START OF \"\n",
        "  acaba = \"END OF \"\n",
        "  texto =texto[texto.index(empieza):texto.index(acaba)]\n",
        "\n",
        "  if autor ==\"galdos\":\n",
        "    galdos += \"\\n\" + texto\n",
        "  else:\n",
        "    bazan += \"\\n\" + texto\n"
      ]
    },
    {
      "cell_type": "markdown",
      "metadata": {},
      "source": [
        "## 3.- Preparar el texto máximo de 250 palabras"
      ]
    },
    {
      "cell_type": "code",
      "execution_count": 6,
      "metadata": {
        "id": "0_HIfMU1sPes"
      },
      "outputs": [],
      "source": [
        "n=250\n",
        "\n",
        "galdos_split=galdos.split()\n",
        "trocitos_galdos= [galdos_split[i:i+n] for i in range(0, len(galdos_split),n)]\n",
        "\n",
        "bazan_split=bazan.split()\n",
        "trocitos_bazan= [bazan_split[i:i+n] for i in range(0, len(bazan_split),n)]"
      ]
    },
    {
      "cell_type": "code",
      "execution_count": 7,
      "metadata": {
        "colab": {
          "base_uri": "https://localhost:8080/"
        },
        "id": "RdDN3N7Ku_wN",
        "outputId": "3941e94c-e947-46e7-e5ae-1134fd5821fb"
      },
      "outputs": [
        {
          "data": {
            "text/plain": [
              "(2426, 868)"
            ]
          },
          "execution_count": 7,
          "metadata": {},
          "output_type": "execute_result"
        }
      ],
      "source": [
        "#¿Pregunta al aire?\n",
        "#¿Quién hacía las novelas más largas?\n",
        "#Benito\n",
        "\n",
        "galdos_longitud=len(trocitos_galdos)\n",
        "bazan_longitud=len(trocitos_bazan)\n",
        "galdos_longitud, bazan_longitud"
      ]
    },
    {
      "cell_type": "markdown",
      "metadata": {},
      "source": [
        "## 4.- Preparar el dataframe"
      ]
    },
    {
      "cell_type": "markdown",
      "metadata": {
        "id": "4FrSy5KjvQL8"
      },
      "source": [
        "Ahora vamos a crear un **dataframe**\n",
        "con una columna con  el texto y\n",
        " labels, 1 si es galdos y un 0 bazan\n",
        "\n"
      ]
    },
    {
      "cell_type": "code",
      "execution_count": 8,
      "metadata": {
        "colab": {
          "base_uri": "https://localhost:8080/"
        },
        "id": "vyG4CGmivrDx",
        "outputId": "950692d6-2992-4051-b276-c3ed1e6e83c5"
      },
      "outputs": [
        {
          "name": "stdout",
          "output_type": "stream",
          "text": [
            "Este es el primer trozo seguido del segundo y aquí terminamos\n"
          ]
        }
      ],
      "source": [
        "# Lista de trozos de texto\n",
        "trocitos = [\"Este es el primer trozo\", \"seguido del segundo\", \"y aquí terminamos\"]\n",
        "\n",
        "# Unir los trozos en una sola cadena, separados por un espacio\n",
        "texto_unido = \" \".join(trocitos)\n",
        "\n",
        "# Mostrar el resultado\n",
        "print(texto_unido)"
      ]
    },
    {
      "cell_type": "code",
      "execution_count": 9,
      "metadata": {},
      "outputs": [],
      "source": [
        "def preparar_dataframe(text_chunks, label):\n",
        "    \"\"\"\n",
        "    Crea un DataFrame a partir de trozos de texto, asigna una etiqueta,\n",
        "    mezcla los datos aleatoriamente y reinicia el índice.\n",
        "\n",
        "    Args:\n",
        "    - text_chunks: Lista de listas de strings (cada sublista es un trozo de texto).\n",
        "    - label: Entero, la etiqueta a asignar a todos los textos.\n",
        "\n",
        "    Returns:\n",
        "    - DataFrame de pandas con los textos y las etiquetas.\n",
        "    \"\"\"\n",
        "\n",
        "    # Crear el DataFrame a partir de los trozos de texto\n",
        "    df = pd.DataFrame([\" \".join(chunk) for chunk in text_chunks], columns=[\"text\"])\n",
        "\n",
        "    # Asignar la etiqueta\n",
        "    df = df.assign(label=label)\n",
        "\n",
        "    # Mezclar aleatoriamente y reiniciar el índice\n",
        "    df = df.sample(frac=1).reset_index(drop=True)\n",
        "    return df\n",
        "\n",
        "# Usar la función para preparar los DataFrames de Galdós y Bazán\n",
        "galdos_df = preparar_dataframe(trocitos_galdos, label=1)\n",
        "bazan_df = preparar_dataframe(trocitos_bazan, label=0)"
      ]
    },
    {
      "cell_type": "code",
      "execution_count": 10,
      "metadata": {},
      "outputs": [
        {
          "data": {
            "text/html": [
              "<div>\n",
              "<style scoped>\n",
              "    .dataframe tbody tr th:only-of-type {\n",
              "        vertical-align: middle;\n",
              "    }\n",
              "\n",
              "    .dataframe tbody tr th {\n",
              "        vertical-align: top;\n",
              "    }\n",
              "\n",
              "    .dataframe thead th {\n",
              "        text-align: right;\n",
              "    }\n",
              "</style>\n",
              "<table border=\"1\" class=\"dataframe\">\n",
              "  <thead>\n",
              "    <tr style=\"text-align: right;\">\n",
              "      <th></th>\n",
              "      <th>text</th>\n",
              "      <th>label</th>\n",
              "    </tr>\n",
              "  </thead>\n",
              "  <tbody>\n",
              "    <tr>\n",
              "      <th>0</th>\n",
              "      <td>que fue a verle después de anochecido. No sabí...</td>\n",
              "      <td>1</td>\n",
              "    </tr>\n",
              "    <tr>\n",
              "      <th>1</th>\n",
              "      <td>Los verdaderamente unidos no existían más que ...</td>\n",
              "      <td>1</td>\n",
              "    </tr>\n",
              "    <tr>\n",
              "      <th>2</th>\n",
              "      <td>somos [5] amigos. --Gracias. No vale la pena. ...</td>\n",
              "      <td>1</td>\n",
              "    </tr>\n",
              "    <tr>\n",
              "      <th>3</th>\n",
              "      <td>salido!» pero no tenía noticia de esta palabra...</td>\n",
              "      <td>1</td>\n",
              "    </tr>\n",
              "    <tr>\n",
              "      <th>4</th>\n",
              "      <td>él ningún afán grande ni esa curiosidad sedien...</td>\n",
              "      <td>1</td>\n",
              "    </tr>\n",
              "    <tr>\n",
              "      <th>...</th>\n",
              "      <td>...</td>\n",
              "      <td>...</td>\n",
              "    </tr>\n",
              "    <tr>\n",
              "      <th>2421</th>\n",
              "      <td>--Basta, no siga usted--dijo Maxi, ceñudo, cor...</td>\n",
              "      <td>1</td>\n",
              "    </tr>\n",
              "    <tr>\n",
              "      <th>2422</th>\n",
              "      <td>ginete. Verdad es que a quien de casta le vien...</td>\n",
              "      <td>1</td>\n",
              "    </tr>\n",
              "    <tr>\n",
              "      <th>2423</th>\n",
              "      <td>álbum para enseñárselo á Paca y á _Canelo_. Bi...</td>\n",
              "      <td>1</td>\n",
              "    </tr>\n",
              "    <tr>\n",
              "      <th>2424</th>\n",
              "      <td>frenética, revertida otra vez bruscamente a la...</td>\n",
              "      <td>1</td>\n",
              "    </tr>\n",
              "    <tr>\n",
              "      <th>2425</th>\n",
              "      <td>en la tristeza del instante presente, sin ayer...</td>\n",
              "      <td>1</td>\n",
              "    </tr>\n",
              "  </tbody>\n",
              "</table>\n",
              "<p>2426 rows × 2 columns</p>\n",
              "</div>"
            ],
            "text/plain": [
              "                                                   text  label\n",
              "0     que fue a verle después de anochecido. No sabí...      1\n",
              "1     Los verdaderamente unidos no existían más que ...      1\n",
              "2     somos [5] amigos. --Gracias. No vale la pena. ...      1\n",
              "3     salido!» pero no tenía noticia de esta palabra...      1\n",
              "4     él ningún afán grande ni esa curiosidad sedien...      1\n",
              "...                                                 ...    ...\n",
              "2421  --Basta, no siga usted--dijo Maxi, ceñudo, cor...      1\n",
              "2422  ginete. Verdad es que a quien de casta le vien...      1\n",
              "2423  álbum para enseñárselo á Paca y á _Canelo_. Bi...      1\n",
              "2424  frenética, revertida otra vez bruscamente a la...      1\n",
              "2425  en la tristeza del instante presente, sin ayer...      1\n",
              "\n",
              "[2426 rows x 2 columns]"
            ]
          },
          "execution_count": 10,
          "metadata": {},
          "output_type": "execute_result"
        }
      ],
      "source": [
        "galdos_df"
      ]
    },
    {
      "cell_type": "code",
      "execution_count": 11,
      "metadata": {},
      "outputs": [
        {
          "data": {
            "text/html": [
              "<div>\n",
              "<style scoped>\n",
              "    .dataframe tbody tr th:only-of-type {\n",
              "        vertical-align: middle;\n",
              "    }\n",
              "\n",
              "    .dataframe tbody tr th {\n",
              "        vertical-align: top;\n",
              "    }\n",
              "\n",
              "    .dataframe thead th {\n",
              "        text-align: right;\n",
              "    }\n",
              "</style>\n",
              "<table border=\"1\" class=\"dataframe\">\n",
              "  <thead>\n",
              "    <tr style=\"text-align: right;\">\n",
              "      <th></th>\n",
              "      <th>text</th>\n",
              "      <th>label</th>\n",
              "    </tr>\n",
              "  </thead>\n",
              "  <tbody>\n",
              "    <tr>\n",
              "      <th>0</th>\n",
              "      <td>resuelto adelantar el regreso a Madrid. Â«Feli...</td>\n",
              "      <td>0</td>\n",
              "    </tr>\n",
              "    <tr>\n",
              "      <th>1</th>\n",
              "      <td>mostrando su agilidad y fuerza en el duro ejer...</td>\n",
              "      <td>0</td>\n",
              "    </tr>\n",
              "    <tr>\n",
              "      <th>2</th>\n",
              "      <td>Un golpe de gente que desembocaba en la calle ...</td>\n",
              "      <td>0</td>\n",
              "    </tr>\n",
              "    <tr>\n",
              "      <th>3</th>\n",
              "      <td>como la de los sordomudos, me llamÃ³; sin duda...</td>\n",
              "      <td>0</td>\n",
              "    </tr>\n",
              "    <tr>\n",
              "      <th>4</th>\n",
              "      <td>ver más de cerca al capitán general portador d...</td>\n",
              "      <td>0</td>\n",
              "    </tr>\n",
              "    <tr>\n",
              "      <th>...</th>\n",
              "      <td>...</td>\n",
              "      <td>...</td>\n",
              "    </tr>\n",
              "    <tr>\n",
              "      <th>863</th>\n",
              "      <td>un puro, lo cual ejecutó con bastante soltura;...</td>\n",
              "      <td>0</td>\n",
              "    </tr>\n",
              "    <tr>\n",
              "      <th>864</th>\n",
              "      <td>cualquier canto de la senda. Iba el seÃ±or Ant...</td>\n",
              "      <td>0</td>\n",
              "    </tr>\n",
              "    <tr>\n",
              "      <th>865</th>\n",
              "      <td>ver cuatro coles? --Si usted no tiene ocupaciÃ...</td>\n",
              "      <td>0</td>\n",
              "    </tr>\n",
              "    <tr>\n",
              "      <th>866</th>\n",
              "      <td>a menear los palitroques, hay que arreglar los...</td>\n",
              "      <td>0</td>\n",
              "    </tr>\n",
              "    <tr>\n",
              "      <th>867</th>\n",
              "      <td>un pucherito donde estaba ya la cascarilla, le...</td>\n",
              "      <td>0</td>\n",
              "    </tr>\n",
              "  </tbody>\n",
              "</table>\n",
              "<p>868 rows × 2 columns</p>\n",
              "</div>"
            ],
            "text/plain": [
              "                                                  text  label\n",
              "0    resuelto adelantar el regreso a Madrid. Â«Feli...      0\n",
              "1    mostrando su agilidad y fuerza en el duro ejer...      0\n",
              "2    Un golpe de gente que desembocaba en la calle ...      0\n",
              "3    como la de los sordomudos, me llamÃ³; sin duda...      0\n",
              "4    ver más de cerca al capitán general portador d...      0\n",
              "..                                                 ...    ...\n",
              "863  un puro, lo cual ejecutó con bastante soltura;...      0\n",
              "864  cualquier canto de la senda. Iba el seÃ±or Ant...      0\n",
              "865  ver cuatro coles? --Si usted no tiene ocupaciÃ...      0\n",
              "866  a menear los palitroques, hay que arreglar los...      0\n",
              "867  un pucherito donde estaba ya la cascarilla, le...      0\n",
              "\n",
              "[868 rows x 2 columns]"
            ]
          },
          "execution_count": 11,
          "metadata": {},
          "output_type": "execute_result"
        }
      ],
      "source": [
        "bazan_df"
      ]
    },
    {
      "cell_type": "markdown",
      "metadata": {},
      "source": [
        "## 5.- 80% entrenamiento, 20%validación"
      ]
    },
    {
      "cell_type": "code",
      "execution_count": 12,
      "metadata": {},
      "outputs": [],
      "source": [
        "# Lo que vamos a hacer es hacer el 80% del train\n",
        "train_df=pd.concat(\n",
        "    [galdos_df[:int(galdos_longitud*.8)],bazan_df[:int(bazan_longitud*.8)]],\n",
        "    ignore_index=True\n",
        "    ).sample(frac=1).reset_index(drop=True)"
      ]
    },
    {
      "cell_type": "code",
      "execution_count": 13,
      "metadata": {},
      "outputs": [
        {
          "data": {
            "text/html": [
              "<div>\n",
              "<style scoped>\n",
              "    .dataframe tbody tr th:only-of-type {\n",
              "        vertical-align: middle;\n",
              "    }\n",
              "\n",
              "    .dataframe tbody tr th {\n",
              "        vertical-align: top;\n",
              "    }\n",
              "\n",
              "    .dataframe thead th {\n",
              "        text-align: right;\n",
              "    }\n",
              "</style>\n",
              "<table border=\"1\" class=\"dataframe\">\n",
              "  <thead>\n",
              "    <tr style=\"text-align: right;\">\n",
              "      <th></th>\n",
              "      <th>text</th>\n",
              "      <th>label</th>\n",
              "    </tr>\n",
              "  </thead>\n",
              "  <tbody>\n",
              "    <tr>\n",
              "      <th>0</th>\n",
              "      <td>y serenidad, fue que se oyeron los pasos de do...</td>\n",
              "      <td>1</td>\n",
              "    </tr>\n",
              "    <tr>\n",
              "      <th>1</th>\n",
              "      <td>el pueril instrumento--. ¡Ah!, calavera, así m...</td>\n",
              "      <td>1</td>\n",
              "    </tr>\n",
              "    <tr>\n",
              "      <th>2</th>\n",
              "      <td>la casa del cura un bienestar modesto. AsÃ­ se...</td>\n",
              "      <td>0</td>\n",
              "    </tr>\n",
              "    <tr>\n",
              "      <th>3</th>\n",
              "      <td>propio de los del segundo de la derecha. En el...</td>\n",
              "      <td>1</td>\n",
              "    </tr>\n",
              "    <tr>\n",
              "      <th>4</th>\n",
              "      <td>y mi sombrero de copa, que había estrenado par...</td>\n",
              "      <td>1</td>\n",
              "    </tr>\n",
              "    <tr>\n",
              "      <th>...</th>\n",
              "      <td>...</td>\n",
              "      <td>...</td>\n",
              "    </tr>\n",
              "    <tr>\n",
              "      <th>2629</th>\n",
              "      <td>Le daba miedo aquella medicina. Tomola Maxi y ...</td>\n",
              "      <td>1</td>\n",
              "    </tr>\n",
              "    <tr>\n",
              "      <th>2630</th>\n",
              "      <td>los amorosos 22 brazos del tío Licurgo. Frisab...</td>\n",
              "      <td>1</td>\n",
              "    </tr>\n",
              "    <tr>\n",
              "      <th>2631</th>\n",
              "      <td>tales vocablos a personas dispuestas a unirse ...</td>\n",
              "      <td>1</td>\n",
              "    </tr>\n",
              "    <tr>\n",
              "      <th>2632</th>\n",
              "      <td>_onomatopoeia for the rustling sound of a fan,...</td>\n",
              "      <td>1</td>\n",
              "    </tr>\n",
              "    <tr>\n",
              "      <th>2633</th>\n",
              "      <td>el memorialista le observaba con ademán sospec...</td>\n",
              "      <td>1</td>\n",
              "    </tr>\n",
              "  </tbody>\n",
              "</table>\n",
              "<p>2634 rows × 2 columns</p>\n",
              "</div>"
            ],
            "text/plain": [
              "                                                   text  label\n",
              "0     y serenidad, fue que se oyeron los pasos de do...      1\n",
              "1     el pueril instrumento--. ¡Ah!, calavera, así m...      1\n",
              "2     la casa del cura un bienestar modesto. AsÃ­ se...      0\n",
              "3     propio de los del segundo de la derecha. En el...      1\n",
              "4     y mi sombrero de copa, que había estrenado par...      1\n",
              "...                                                 ...    ...\n",
              "2629  Le daba miedo aquella medicina. Tomola Maxi y ...      1\n",
              "2630  los amorosos 22 brazos del tío Licurgo. Frisab...      1\n",
              "2631  tales vocablos a personas dispuestas a unirse ...      1\n",
              "2632  _onomatopoeia for the rustling sound of a fan,...      1\n",
              "2633  el memorialista le observaba con ademán sospec...      1\n",
              "\n",
              "[2634 rows x 2 columns]"
            ]
          },
          "execution_count": 13,
          "metadata": {},
          "output_type": "execute_result"
        }
      ],
      "source": [
        "train_df"
      ]
    },
    {
      "cell_type": "code",
      "execution_count": 14,
      "metadata": {},
      "outputs": [
        {
          "data": {
            "text/html": [
              "<div>\n",
              "<style scoped>\n",
              "    .dataframe tbody tr th:only-of-type {\n",
              "        vertical-align: middle;\n",
              "    }\n",
              "\n",
              "    .dataframe tbody tr th {\n",
              "        vertical-align: top;\n",
              "    }\n",
              "\n",
              "    .dataframe thead th {\n",
              "        text-align: right;\n",
              "    }\n",
              "</style>\n",
              "<table border=\"1\" class=\"dataframe\">\n",
              "  <thead>\n",
              "    <tr style=\"text-align: right;\">\n",
              "      <th></th>\n",
              "      <th>text</th>\n",
              "      <th>label</th>\n",
              "    </tr>\n",
              "  </thead>\n",
              "  <tbody>\n",
              "    <tr>\n",
              "      <th>0</th>\n",
              "      <td>place. =colophón= (_A._ =colofón=) _m_ colopho...</td>\n",
              "      <td>1</td>\n",
              "    </tr>\n",
              "    <tr>\n",
              "      <th>1</th>\n",
              "      <td>y confianzuda, y como el espacio es allí tan r...</td>\n",
              "      <td>1</td>\n",
              "    </tr>\n",
              "    <tr>\n",
              "      <th>2</th>\n",
              "      <td>el portal. «Tenemos mucho que hablar--le dijo ...</td>\n",
              "      <td>1</td>\n",
              "    </tr>\n",
              "    <tr>\n",
              "      <th>3</th>\n",
              "      <td>traer provisión de árnica, reconocerle bien la...</td>\n",
              "      <td>1</td>\n",
              "    </tr>\n",
              "    <tr>\n",
              "      <th>4</th>\n",
              "      <td>algo más. Hoy no te supiste la lección de Gram...</td>\n",
              "      <td>1</td>\n",
              "    </tr>\n",
              "    <tr>\n",
              "      <th>...</th>\n",
              "      <td>...</td>\n",
              "      <td>...</td>\n",
              "    </tr>\n",
              "    <tr>\n",
              "      <th>655</th>\n",
              "      <td>25 =por cuya razón=: cf. n. on p. 24, l. 7. =1...</td>\n",
              "      <td>1</td>\n",
              "    </tr>\n",
              "    <tr>\n",
              "      <th>656</th>\n",
              "      <td>que es ahora, que quieras que no, tomo cartas ...</td>\n",
              "      <td>1</td>\n",
              "    </tr>\n",
              "    <tr>\n",
              "      <th>657</th>\n",
              "      <td>ni los muertos; a su lado, con largo redingote...</td>\n",
              "      <td>0</td>\n",
              "    </tr>\n",
              "    <tr>\n",
              "      <th>658</th>\n",
              "      <td>nada, y sin embargo... Pero es preciso vigilar...</td>\n",
              "      <td>1</td>\n",
              "    </tr>\n",
              "    <tr>\n",
              "      <th>659</th>\n",
              "      <td>de las Comendadoras y su cabeza en la calle de...</td>\n",
              "      <td>1</td>\n",
              "    </tr>\n",
              "  </tbody>\n",
              "</table>\n",
              "<p>660 rows × 2 columns</p>\n",
              "</div>"
            ],
            "text/plain": [
              "                                                  text  label\n",
              "0    place. =colophón= (_A._ =colofón=) _m_ colopho...      1\n",
              "1    y confianzuda, y como el espacio es allí tan r...      1\n",
              "2    el portal. «Tenemos mucho que hablar--le dijo ...      1\n",
              "3    traer provisión de árnica, reconocerle bien la...      1\n",
              "4    algo más. Hoy no te supiste la lección de Gram...      1\n",
              "..                                                 ...    ...\n",
              "655  25 =por cuya razón=: cf. n. on p. 24, l. 7. =1...      1\n",
              "656  que es ahora, que quieras que no, tomo cartas ...      1\n",
              "657  ni los muertos; a su lado, con largo redingote...      0\n",
              "658  nada, y sin embargo... Pero es preciso vigilar...      1\n",
              "659  de las Comendadoras y su cabeza en la calle de...      1\n",
              "\n",
              "[660 rows x 2 columns]"
            ]
          },
          "execution_count": 14,
          "metadata": {},
          "output_type": "execute_result"
        }
      ],
      "source": [
        "eval_df = pd.concat(\n",
        "    [galdos_df[int(galdos_longitud*.8):], bazan_df[int(bazan_longitud*.8):]],\n",
        "    ignore_index=True\n",
        ").sample(frac=1).reset_index(drop=True)\n",
        "eval_df"
      ]
    },
    {
      "cell_type": "code",
      "execution_count": 15,
      "metadata": {},
      "outputs": [
        {
          "data": {
            "text/plain": [
              "label\n",
              "1    1940\n",
              "0     694\n",
              "Name: count, dtype: int64"
            ]
          },
          "execution_count": 15,
          "metadata": {},
          "output_type": "execute_result"
        }
      ],
      "source": [
        "train_df['label'].value_counts()"
      ]
    },
    {
      "cell_type": "code",
      "execution_count": 16,
      "metadata": {},
      "outputs": [
        {
          "data": {
            "text/plain": [
              "label\n",
              "1    486\n",
              "0    174\n",
              "Name: count, dtype: int64"
            ]
          },
          "execution_count": 16,
          "metadata": {},
          "output_type": "execute_result"
        }
      ],
      "source": [
        "eval_df['label'].value_counts()"
      ]
    },
    {
      "cell_type": "markdown",
      "metadata": {},
      "source": [
        "## 6.- Establecer las variables para tokenizar"
      ]
    },
    {
      "cell_type": "markdown",
      "metadata": {},
      "source": [
        "### Parámetros de red\n",
        "\n",
        "**vocab_size** = cómo de largo queremos sea. Si es muy pequeño, habrá muchos\n",
        "tokens que no conocemos, si es muy largo... muuuuchooo tiempo entrenado\n",
        "\n",
        "**max_length**=> Tamaño de la secuencia.\n",
        "\n",
        "**embedding_dim** => Como de grande van a ser los vectores que van a representar\n",
        "a nuesto vocabulario.\n",
        "\n",
        "**trunc_type** => truncar (post= al final)\n",
        "**padding_type** => si es mas corta de 250.... post\n",
        "**oov_tok** <OOV> Out of vocabulary\n",
        "\n"
      ]
    },
    {
      "cell_type": "code",
      "execution_count": 17,
      "metadata": {},
      "outputs": [],
      "source": [
        "vocab_size=5000\n",
        "embedding_dim=64\n",
        "max_length=250\n",
        "trunc_type = 'post'\n",
        "padding_type = 'post'\n",
        "oov_tok = '<OOV>'"
      ]
    },
    {
      "cell_type": "markdown",
      "metadata": {},
      "source": [
        "## 7.- Tokenización"
      ]
    },
    {
      "cell_type": "code",
      "execution_count": 19,
      "metadata": {},
      "outputs": [],
      "source": [
        "train_articles=train_df['text'].tolist()\n",
        "tokenizer = Tokenizer(num_words=vocab_size, oov_token=oov_tok, lower=True)\n",
        "tokenizer.fit_on_texts(train_articles)\n",
        "\n",
        "word_index=tokenizer.word_index\n"
      ]
    },
    {
      "cell_type": "code",
      "execution_count": 20,
      "metadata": {},
      "outputs": [
        {
          "data": {
            "text/plain": [
              "{'<OOV>': 1,\n",
              " 'de': 2,\n",
              " 'que': 3,\n",
              " 'la': 4,\n",
              " 'y': 5,\n",
              " 'el': 6,\n",
              " 'a': 7,\n",
              " 'en': 8,\n",
              " 'no': 9,\n",
              " 'se': 10}"
            ]
          },
          "execution_count": 20,
          "metadata": {},
          "output_type": "execute_result"
        }
      ],
      "source": [
        "# Crea el diccionario\n",
        "dict(list(word_index.items())[0:10])"
      ]
    },
    {
      "cell_type": "markdown",
      "metadata": {},
      "source": [
        "## 8.- Prueba de funcionamiento de la tokenización"
      ]
    },
    {
      "cell_type": "code",
      "execution_count": 21,
      "metadata": {},
      "outputs": [],
      "source": [
        "train_sequencies = tokenizer.texts_to_sequences(train_articles)"
      ]
    },
    {
      "cell_type": "code",
      "execution_count": 25,
      "metadata": {},
      "outputs": [
        {
          "name": "stdout",
          "output_type": "stream",
          "text": [
            "[5, 1277, 115, 3, 10, 2530, 12, 596, 2, 67, 151, 5, 13, 158, 3888, 1689, 731, 3, 198, 229, 59, 181, 633, 30, 97, 2, 1, 1, 18, 46, 16, 17, 424, 4, 1, 22, 1206, 4, 3639, 1, 4, 715, 4, 248, 87, 597, 1, 67, 151, 8, 4, 164, 43, 32, 3092, 7, 1939, 11, 47, 18, 1, 15, 558, 5, 35, 663, 40, 463, 3, 32, 1, 9, 153, 74, 23, 37, 137, 1253, 4, 181, 5, 6, 429, 2531, 14, 358, 1, 1, 214, 57, 123, 330, 3, 15, 664, 422, 37, 1, 154, 1, 149, 1, 87, 9, 395, 24, 1, 9, 27, 9, 981, 66, 165, 79, 307, 140, 46, 235, 1512, 3, 4, 2532, 18, 4150, 72, 92, 9, 4804, 1, 170, 14, 748, 847, 156, 629, 42, 453, 4424, 3, 920, 9, 1940, 297, 8, 549, 86, 4, 3247, 5, 88, 3, 19, 1, 519, 267, 1, 156, 1, 25, 3, 552, 94, 15, 1, 2, 4425, 5, 1, 3, 23, 583, 171, 38, 1001, 6, 650, 113, 2, 265, 1779, 1, 30, 57, 123, 7, 48, 2, 67, 1, 1, 235, 88, 1278, 27, 87, 2656, 19, 1, 229, 5, 179, 4426, 7, 1, 7, 15, 1549, 8, 268, 64, 1, 7, 270, 43, 18, 1, 6, 113, 28, 9, 46, 66, 5, 57, 214, 1, 30, 535, 179, 1941, 3, 13, 181, 4151, 138, 2, 476, 24, 1, 237, 47, 1550, 192, 4, 1, 2, 15, 1, 153, 3, 19, 3422, 14, 1636, 7, 48]\n"
          ]
        }
      ],
      "source": [
        "print(train_sequencies[0])"
      ]
    },
    {
      "cell_type": "code",
      "execution_count": 23,
      "metadata": {},
      "outputs": [
        {
          "data": {
            "text/plain": [
              "'y serenidad, fue que se oyeron los pasos de doña Lupe, y su voz temerosa: «Mira, Papitos, que voy allá...». --Tía, venga usted... Está de jarana... --¡Acusón!--le dijo por lo bajo la chicuela al coger la lámpara--, feón. --La culpa la tienes tú--añadió severamente doña Lupe, en la puerta--, porque te pones a jugar con ella, le ríes las gracias, y ya ves. Cuando quieres que te respete, no puede ser. Es muy mal criada. La tía y el sobrino hablaron un instante. «¿También vendrás tarde esta noche? Mira que las noches están muy frías. Estas heladas son crueles. Tú no estás para valentías». --No, si no siento nada. Nunca he estado mejor--dijo Rubín, sintiendo que la timidez le ganaba otra vez. --No hagamos simplezas... Hace un frío horrible. ¡Qué año tan malo! ¿Creerás que anoche no pude entrar en calor hasta la madrugada? Y eso que me eché encima cuatro mantas. ¡Qué atrocidad! Como que estamos entre las _Cátedras de Roma y Antioquía_, que es, según decía mi Jáuregui, el peor tiempo de Madrid. --v-- ¿Va usted esta noche a casa de doña Silvia?--preguntole Rubín. --Eso pienso. Si tú sales me dejarás allá, y luego irás a buscarme a las once en punto. Esto contrariaba a Maximiliano, porque le tasaba el tiempo; pero no dijo nada. --Y esta tarde, ¿sale usted?--preguntó luego deseando que su tía saliese antes de comer, para verificar, mientras ella estuviese fuera, la sustitución de las huchas. --Puede que me llegue un ratito a casa'"
            ]
          },
          "execution_count": 23,
          "metadata": {},
          "output_type": "execute_result"
        }
      ],
      "source": [
        "train_articles[0]"
      ]
    },
    {
      "cell_type": "markdown",
      "metadata": {},
      "source": [
        "## 9.- Padding"
      ]
    },
    {
      "cell_type": "code",
      "execution_count": 26,
      "metadata": {},
      "outputs": [],
      "source": [
        "# Aplicar padding\n",
        "train_padded = pad_sequences(train_sequencies, maxlen=max_length, padding=padding_type, truncating=trunc_type)"
      ]
    },
    {
      "cell_type": "code",
      "execution_count": 29,
      "metadata": {},
      "outputs": [],
      "source": [
        "validation_articles = eval_df['text'].tolist()\n",
        "validation_sequences = tokenizer.texts_to_sequences(validation_articles)\n",
        "validation_padded = pad_sequences(validation_sequences, maxlen=max_length)"
      ]
    },
    {
      "cell_type": "markdown",
      "metadata": {},
      "source": [
        "## 10.- Construir Red Neuronal"
      ]
    },
    {
      "cell_type": "markdown",
      "metadata": {},
      "source": [
        "- sequential API de Keras\n",
        "- Embedding vocab_size * embedding_dim\n",
        "- LSTM(de manera bidireccional)\n",
        "- Densa con sigmoid y de tipo clasificación binaria"
      ]
    },
    {
      "cell_type": "code",
      "execution_count": 31,
      "metadata": {},
      "outputs": [
        {
          "name": "stdout",
          "output_type": "stream",
          "text": [
            "WARNING:tensorflow:From C:\\Users\\AMG\\AppData\\Local\\Packages\\PythonSoftwareFoundation.Python.3.11_qbz5n2kfra8p0\\LocalCache\\local-packages\\Python311\\site-packages\\keras\\src\\backend.py:873: The name tf.get_default_graph is deprecated. Please use tf.compat.v1.get_default_graph instead.\n",
            "\n"
          ]
        }
      ],
      "source": [
        "model=tf.keras.Sequential([\n",
        "    tf.keras.layers.Embedding(vocab_size, embedding_dim),\n",
        "    tf.keras.layers.Bidirectional(tf.keras.layers.LSTM(embedding_dim)),\n",
        "    tf.keras.layers.Dense(embedding_dim, activation='relu'),\n",
        "    tf.keras.layers.Dense(1, activation='sigmoid')\n",
        "])"
      ]
    },
    {
      "cell_type": "code",
      "execution_count": 32,
      "metadata": {},
      "outputs": [
        {
          "name": "stdout",
          "output_type": "stream",
          "text": [
            "Model: \"sequential\"\n",
            "_________________________________________________________________\n",
            " Layer (type)                Output Shape              Param #   \n",
            "=================================================================\n",
            " embedding (Embedding)       (None, None, 64)          320000    \n",
            "                                                                 \n",
            " bidirectional (Bidirection  (None, 128)               66048     \n",
            " al)                                                             \n",
            "                                                                 \n",
            " dense (Dense)               (None, 64)                8256      \n",
            "                                                                 \n",
            " dense_1 (Dense)             (None, 1)                 65        \n",
            "                                                                 \n",
            "=================================================================\n",
            "Total params: 394369 (1.50 MB)\n",
            "Trainable params: 394369 (1.50 MB)\n",
            "Non-trainable params: 0 (0.00 Byte)\n",
            "_________________________________________________________________\n"
          ]
        }
      ],
      "source": [
        "model.summary()"
      ]
    },
    {
      "cell_type": "markdown",
      "metadata": {},
      "source": [
        "## 11.- Compilar y entrenar Red Neuronal"
      ]
    },
    {
      "cell_type": "code",
      "execution_count": 33,
      "metadata": {},
      "outputs": [
        {
          "name": "stdout",
          "output_type": "stream",
          "text": [
            "WARNING:tensorflow:From C:\\Users\\AMG\\AppData\\Local\\Packages\\PythonSoftwareFoundation.Python.3.11_qbz5n2kfra8p0\\LocalCache\\local-packages\\Python311\\site-packages\\keras\\src\\optimizers\\__init__.py:309: The name tf.train.Optimizer is deprecated. Please use tf.compat.v1.train.Optimizer instead.\n",
            "\n"
          ]
        }
      ],
      "source": [
        "model.compile(loss='binary_crossentropy', optimizer='adam', metrics=['accuracy'])"
      ]
    },
    {
      "cell_type": "code",
      "execution_count": 37,
      "metadata": {},
      "outputs": [],
      "source": [
        "num_epochs=3\n",
        "train_labels = train_df['label'].tolist()\n",
        "val_labels = eval_df['label'].tolist()\n",
        "\n",
        "train_label=np.array(train_labels)\n",
        "validation_label = np.array(val_labels)"
      ]
    },
    {
      "cell_type": "code",
      "execution_count": 38,
      "metadata": {},
      "outputs": [
        {
          "name": "stdout",
          "output_type": "stream",
          "text": [
            "Epoch 1/3\n",
            "WARNING:tensorflow:From C:\\Users\\AMG\\AppData\\Local\\Packages\\PythonSoftwareFoundation.Python.3.11_qbz5n2kfra8p0\\LocalCache\\local-packages\\Python311\\site-packages\\keras\\src\\utils\\tf_utils.py:492: The name tf.ragged.RaggedTensorValue is deprecated. Please use tf.compat.v1.ragged.RaggedTensorValue instead.\n",
            "\n",
            "WARNING:tensorflow:From C:\\Users\\AMG\\AppData\\Local\\Packages\\PythonSoftwareFoundation.Python.3.11_qbz5n2kfra8p0\\LocalCache\\local-packages\\Python311\\site-packages\\keras\\src\\engine\\base_layer_utils.py:384: The name tf.executing_eagerly_outside_functions is deprecated. Please use tf.compat.v1.executing_eagerly_outside_functions instead.\n",
            "\n",
            "83/83 - 11s - loss: 0.5508 - accuracy: 0.7430 - val_loss: 0.2352 - val_accuracy: 0.9364 - 11s/epoch - 138ms/step\n",
            "Epoch 2/3\n",
            "83/83 - 7s - loss: 0.1133 - accuracy: 0.9639 - val_loss: 0.1022 - val_accuracy: 0.9485 - 7s/epoch - 81ms/step\n",
            "Epoch 3/3\n",
            "83/83 - 7s - loss: 0.0388 - accuracy: 0.9856 - val_loss: 0.0317 - val_accuracy: 0.9879 - 7s/epoch - 81ms/step\n"
          ]
        }
      ],
      "source": [
        "history = model.fit(\n",
        "    train_padded, train_label, epochs=num_epochs,\n",
        "    validation_data=(validation_padded, validation_label), verbose=2)\n"
      ]
    },
    {
      "cell_type": "code",
      "execution_count": 42,
      "metadata": {},
      "outputs": [
        {
          "data": {
            "image/png": "[encoded data removed]",
            "text/plain": [
              "<Figure size 640x480 with 1 Axes>"
            ]
          },
          "metadata": {},
          "output_type": "display_data"
        }
      ],
      "source": [
        "def plot_graphs(history, string):\n",
        "  plt.plot(history.history[string])\n",
        "  plt.plot(history.history['val_'+string])\n",
        "  plt.xlabel(\"Epochs\")\n",
        "  plt.ylabel(string)\n",
        "  plt.legend([string, 'val'+string])\n",
        "  plt.show()\n",
        "\n",
        "plot_graphs(history, \"accuracy\")\n"
      ]
    },
    {
      "cell_type": "markdown",
      "metadata": {},
      "source": [
        "## 12.- Predicciones"
      ]
    },
    {
      "cell_type": "markdown",
      "metadata": {},
      "source": [
        "Si el resultado de la predicción es < que 0,5 quiere decir que ha detectado que el texto es de Emilia.\n",
        "\n",
        "Si el resultado de la predicción es > que 0,5 quiere decir que ha detectado que el texto es de Benito.\n"
      ]
    },
    {
      "cell_type": "code",
      "execution_count": 51,
      "metadata": {},
      "outputs": [
        {
          "name": "stdout",
          "output_type": "stream",
          "text": [
            "1/1 [==============================] - 0s 69ms/step\n",
            "[[0.99755496]]\n"
          ]
        }
      ],
      "source": [
        "txt = ['''\n",
        "para que el triunfo fuese completo era menester que a Maxi le entrase una enfermedad asquerosa, repugnante y pestífera, de esas que ahuyentan hasta a los más allegados. Ella, entonces, daría pruebas de ser tan ángel como otra cualquiera, y tendría alma, paciencia, valor y estómago para todo. «Y entonces vería _esa_ si aquí hay perfecciones o no hay perfecciones, y que cada una es cada una... Lo malo sería que no lo viese, porque acá no ha de venir...». Maximiliano la distrajo de esta meditación, dando quejidos profundos. Ya conocía aquello su mujer y sabía el remedio, que era volverlo suavemente del otro lado... «¡Qué sueño!--murmuró Maxi medio despierto--. Soñaba que te habías marchado... y yo te había cogido de un pie, y tú tirabas, y yo tiraba más, y tirando se me rompía la bolsa del aneurisma, y todo el cuarto se llenaba de sangre, todo el cuarto, hasta el techo...». Le arrulló para que se durmiera, y ella se durmió también. Levantose temprano porque tenía que trabajar. Después de las nueve, cuando entró en la alcoba a ver si a su marido se le ofrecía alguna cosa, este se estaba vistiendo, y en una disposición de ánimo muy distinta de la que tuviera la noche anterior. No sólo parecía recobrado de su debilidad, sino que estaba inquieto, ágil y como si acabara de tomar un excitante muy enérgico. En cuanto entró su mujer, se fue derecho a ella, abotonándose el cuello de la camisa, y en tono\n",
        "''']\n",
        "\n",
        "seq=tokenizer.texts_to_sequences(txt)\n",
        "padded=pad_sequences(seq, maxlen=max_length)\n",
        "pred=model.predict(padded)\n",
        "print(pred)"
      ]
    },
    {
      "cell_type": "markdown",
      "metadata": {},
      "source": [
        "## Mejoras\n",
        "- utf-8\n",
        "- quitar stopwords\n",
        "- aumentar el tamaño de vocabulario\n",
        "- max_length\n",
        "- WordEmbedding\n",
        "- Cuantos más datos, mucho mejor"
      ]
    },
    {
      "cell_type": "code",
      "execution_count": null,
      "metadata": {},
      "outputs": [],
      "source": []
    }
  ],
  "metadata": {
    "colab": {
      "provenance": []
    },
    "kernelspec": {
      "display_name": "Python 3",
      "name": "python3"
    },
    "language_info": {
      "codemirror_mode": {
        "name": "ipython",
        "version": 3
      },
      "file_extension": ".py",
      "mimetype": "text/x-python",
      "name": "python",
      "nbconvert_exporter": "python",
      "pygments_lexer": "ipython3",
      "version": "3.11.8"
    }
  },
  "nbformat": 4,
  "nbformat_minor": 0
}
