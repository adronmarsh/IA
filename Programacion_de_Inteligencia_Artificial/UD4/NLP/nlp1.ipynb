{
 "cells": [
  {
   "cell_type": "markdown",
   "metadata": {},
   "source": [
    "# Word2Vec con Gensim"
   ]
  },
  {
   "cell_type": "markdown",
   "metadata": {},
   "source": [
    "## 1.- Instalación y cargar el modelo"
   ]
  },
  {
   "cell_type": "code",
   "execution_count": 3,
   "metadata": {},
   "outputs": [
    {
     "name": "stdout",
     "output_type": "stream",
     "text": [
      "Collecting gensim\n",
      "  Downloading gensim-4.3.2-cp311-cp311-win_amd64.whl.metadata (8.5 kB)\n",
      "Requirement already satisfied: numpy>=1.18.5 in c:\\users\\adri\\appdata\\local\\packages\\pythonsoftwarefoundation.python.3.11_qbz5n2kfra8p0\\localcache\\local-packages\\python311\\site-packages (from gensim) (1.26.4)\n",
      "Requirement already satisfied: scipy>=1.7.0 in c:\\users\\adri\\appdata\\local\\packages\\pythonsoftwarefoundation.python.3.11_qbz5n2kfra8p0\\localcache\\local-packages\\python311\\site-packages (from gensim) (1.12.0)\n",
      "Collecting smart-open>=1.8.1 (from gensim)\n",
      "  Downloading smart_open-6.4.0-py3-none-any.whl.metadata (21 kB)\n",
      "Downloading gensim-4.3.2-cp311-cp311-win_amd64.whl (24.0 MB)\n",
      "   ---------------------------------------- 0.0/24.0 MB ? eta -:--:--\n",
      "   ---------------------------------------- 0.0/24.0 MB ? eta -:--:--\n",
      "   ---------------------------------------- 0.1/24.0 MB 1.3 MB/s eta 0:00:19\n",
      "   ---------------------------------------- 0.3/24.0 MB 2.4 MB/s eta 0:00:10\n",
      "   - -------------------------------------- 0.8/24.0 MB 4.9 MB/s eta 0:00:05\n",
      "   -- ------------------------------------- 1.3/24.0 MB 6.4 MB/s eta 0:00:04\n",
      "   --- ------------------------------------ 1.8/24.0 MB 7.3 MB/s eta 0:00:04\n",
      "   --- ------------------------------------ 2.3/24.0 MB 7.9 MB/s eta 0:00:03\n",
      "   ---- ----------------------------------- 2.9/24.0 MB 8.3 MB/s eta 0:00:03\n",
      "   ----- ---------------------------------- 3.4/24.0 MB 8.6 MB/s eta 0:00:03\n",
      "   ------ --------------------------------- 3.9/24.0 MB 8.9 MB/s eta 0:00:03\n",
      "   ------- -------------------------------- 4.5/24.0 MB 9.2 MB/s eta 0:00:03\n",
      "   -------- ------------------------------- 5.0/24.0 MB 9.4 MB/s eta 0:00:03\n",
      "   --------- ------------------------------ 5.6/24.0 MB 9.6 MB/s eta 0:00:02\n",
      "   ---------- ----------------------------- 6.1/24.0 MB 9.8 MB/s eta 0:00:02\n",
      "   ----------- ---------------------------- 6.7/24.0 MB 9.9 MB/s eta 0:00:02\n",
      "   ------------ --------------------------- 7.2/24.0 MB 10.0 MB/s eta 0:00:02\n",
      "   ------------ --------------------------- 7.7/24.0 MB 10.1 MB/s eta 0:00:02\n",
      "   ------------- -------------------------- 8.3/24.0 MB 10.2 MB/s eta 0:00:02\n",
      "   -------------- ------------------------- 8.9/24.0 MB 10.3 MB/s eta 0:00:02\n",
      "   --------------- ------------------------ 9.4/24.0 MB 10.4 MB/s eta 0:00:02\n",
      "   ---------------- ----------------------- 10.0/24.0 MB 10.5 MB/s eta 0:00:02\n",
      "   ------------------ --------------------- 11.0/24.0 MB 11.5 MB/s eta 0:00:02\n",
      "   ------------------- -------------------- 11.4/24.0 MB 11.5 MB/s eta 0:00:02\n",
      "   ------------------- -------------------- 12.0/24.0 MB 11.5 MB/s eta 0:00:02\n",
      "   -------------------- ------------------- 12.1/24.0 MB 11.5 MB/s eta 0:00:02\n",
      "   -------------------- ------------------- 12.1/24.0 MB 11.5 MB/s eta 0:00:02\n",
      "   --------------------- ------------------ 13.1/24.0 MB 11.3 MB/s eta 0:00:01\n",
      "   ---------------------- ----------------- 13.5/24.0 MB 10.9 MB/s eta 0:00:01\n",
      "   ------------------------ --------------- 14.7/24.0 MB 11.7 MB/s eta 0:00:01\n",
      "   ------------------------- -------------- 15.2/24.0 MB 11.7 MB/s eta 0:00:01\n",
      "   -------------------------- ------------- 15.8/24.0 MB 11.7 MB/s eta 0:00:01\n",
      "   --------------------------- ------------ 16.3/24.0 MB 11.7 MB/s eta 0:00:01\n",
      "   ---------------------------- ----------- 16.8/24.0 MB 11.7 MB/s eta 0:00:01\n",
      "   ---------------------------- ----------- 17.4/24.0 MB 11.7 MB/s eta 0:00:01\n",
      "   ----------------------------- ---------- 17.9/24.0 MB 11.5 MB/s eta 0:00:01\n",
      "   ------------------------------ --------- 18.4/24.0 MB 11.5 MB/s eta 0:00:01\n",
      "   ------------------------------- -------- 18.8/24.0 MB 11.5 MB/s eta 0:00:01\n",
      "   -------------------------------- ------- 19.3/24.0 MB 11.3 MB/s eta 0:00:01\n",
      "   --------------------------------- ------ 19.9/24.0 MB 11.3 MB/s eta 0:00:01\n",
      "   ---------------------------------- ----- 20.4/24.0 MB 11.3 MB/s eta 0:00:01\n",
      "   ---------------------------------- ----- 20.9/24.0 MB 11.1 MB/s eta 0:00:01\n",
      "   ----------------------------------- ---- 21.4/24.0 MB 11.1 MB/s eta 0:00:01\n",
      "   ------------------------------------ --- 22.0/24.0 MB 11.1 MB/s eta 0:00:01\n",
      "   ------------------------------------- -- 22.5/24.0 MB 12.4 MB/s eta 0:00:01\n",
      "   -------------------------------------- - 23.0/24.0 MB 11.7 MB/s eta 0:00:01\n",
      "   ---------------------------------------  23.5/24.0 MB 11.9 MB/s eta 0:00:01\n",
      "   ---------------------------------------  24.0/24.0 MB 11.7 MB/s eta 0:00:01\n",
      "   ---------------------------------------  24.0/24.0 MB 11.7 MB/s eta 0:00:01\n",
      "   ---------------------------------------  24.0/24.0 MB 11.7 MB/s eta 0:00:01\n",
      "   ---------------------------------------  24.0/24.0 MB 11.7 MB/s eta 0:00:01\n",
      "   ---------------------------------------- 24.0/24.0 MB 9.9 MB/s eta 0:00:00\n",
      "Downloading smart_open-6.4.0-py3-none-any.whl (57 kB)\n",
      "   ---------------------------------------- 0.0/57.0 kB ? eta -:--:--\n",
      "   ---------------------------------------- 57.0/57.0 kB ? eta 0:00:00\n",
      "Installing collected packages: smart-open, gensim\n",
      "Successfully installed gensim-4.3.2 smart-open-6.4.0\n",
      "Note: you may need to restart the kernel to use updated packages.\n"
     ]
    }
   ],
   "source": [
    "# %pip install --upgrade gensim"
   ]
  },
  {
   "cell_type": "code",
   "execution_count": 4,
   "metadata": {},
   "outputs": [],
   "source": [
    "import gensim.downloader as api"
   ]
  },
  {
   "cell_type": "code",
   "execution_count": 5,
   "metadata": {},
   "outputs": [
    {
     "name": "stdout",
     "output_type": "stream",
     "text": [
      "[==================================================] 100.0% 1662.8/1662.8MB downloaded\n"
     ]
    }
   ],
   "source": [
    "model = api.load(\"word2vec-google-news-300\")"
   ]
  },
  {
   "cell_type": "markdown",
   "metadata": {},
   "source": [
    "## 2.- Similitud de palabras"
   ]
  },
  {
   "cell_type": "markdown",
   "metadata": {},
   "source": [
    "Analizar similitud entre palabras"
   ]
  },
  {
   "cell_type": "code",
   "execution_count": 6,
   "metadata": {},
   "outputs": [
    {
     "data": {
      "text/plain": [
       "0.6510957"
      ]
     },
     "execution_count": 6,
     "metadata": {},
     "output_type": "execute_result"
    }
   ],
   "source": [
    "model.similarity(\"king\", \"queen\")"
   ]
  },
  {
   "cell_type": "code",
   "execution_count": 7,
   "metadata": {},
   "outputs": [
    {
     "data": {
      "text/plain": [
       "0.22942673"
      ]
     },
     "execution_count": 7,
     "metadata": {},
     "output_type": "execute_result"
    }
   ],
   "source": [
    "model.similarity(\"king\", \"man\")"
   ]
  },
  {
   "cell_type": "code",
   "execution_count": 8,
   "metadata": {},
   "outputs": [
    {
     "data": {
      "text/plain": [
       "0.09978465"
      ]
     },
     "execution_count": 8,
     "metadata": {},
     "output_type": "execute_result"
    }
   ],
   "source": [
    "model.similarity(\"king\", \"potato\")"
   ]
  },
  {
   "cell_type": "markdown",
   "metadata": {},
   "source": [
    "Encontrar las palabras con mayor similitud al conjunto de palabras especificado"
   ]
  },
  {
   "cell_type": "code",
   "execution_count": 9,
   "metadata": {},
   "outputs": [
    {
     "data": {
      "text/plain": [
       "[('monarch', 0.7042067050933838),\n",
       " ('kings', 0.6780861616134644),\n",
       " ('princess', 0.6731551885604858),\n",
       " ('queens', 0.6679497957229614),\n",
       " ('prince', 0.6435247659683228)]"
      ]
     },
     "execution_count": 9,
     "metadata": {},
     "output_type": "execute_result"
    }
   ],
   "source": [
    "model.most_similar([\"king\",\"queen\"], topn = 5)"
   ]
  },
  {
   "cell_type": "code",
   "execution_count": 10,
   "metadata": {},
   "outputs": [
    {
     "data": {
      "text/plain": [
       "[('carrots', 0.7536594867706299),\n",
       " ('tomatoes', 0.7129638195037842),\n",
       " ('celery', 0.7025030851364136),\n",
       " ('broccoli', 0.6796350479125977),\n",
       " ('cherry_tomatoes', 0.662927508354187)]"
      ]
     },
     "execution_count": 10,
     "metadata": {},
     "output_type": "execute_result"
    }
   ],
   "source": [
    "model.most_similar([\"tomato\",\"carrot\"], topn = 5)"
   ]
  },
  {
   "cell_type": "markdown",
   "metadata": {},
   "source": [
    "Encontrar palabras que no tienen relación"
   ]
  },
  {
   "cell_type": "code",
   "execution_count": 13,
   "metadata": {},
   "outputs": [
    {
     "data": {
      "text/plain": [
       "'water'"
      ]
     },
     "execution_count": 13,
     "metadata": {},
     "output_type": "execute_result"
    }
   ],
   "source": [
    "model.doesnt_match([\"summer\", \"fall\", \"spring\", \"water\"])"
   ]
  },
  {
   "cell_type": "markdown",
   "metadata": {},
   "source": [
    "Ejercicio 1\n",
    "\n",
    "Usando el modelo word2vec, muestra la similitud con las palabras \"man\" y \"woman\" de esta lista\n",
    "\n",
    "```python\n",
    "    words=[\n",
    "        \"wife\",\n",
    "        \"husband\", \"child\", \"president\"\n",
    "    ]\n",
    "```"
   ]
  },
  {
   "cell_type": "code",
   "execution_count": 50,
   "metadata": {},
   "outputs": [
    {
     "data": {
      "text/plain": [
       "{'wife': {'man': 0.32920915, 'woman': 0.444824},\n",
       " 'husband': {'man': 0.34499747, 'woman': 0.49281383},\n",
       " 'child': {'man': 0.31633338, 'woman': 0.47500372},\n",
       " 'president': {'man': 0.028424604, 'woman': 0.062676705}}"
      ]
     },
     "execution_count": 50,
     "metadata": {},
     "output_type": "execute_result"
    },
    {
     "ename": "",
     "evalue": "",
     "output_type": "error",
     "traceback": [
      "\u001b[1;31mThe Kernel crashed while executing code in the current cell or a previous cell. \n",
      "\u001b[1;31mPlease review the code in the cell(s) to identify a possible cause of the failure. \n",
      "\u001b[1;31mClick <a href='https://aka.ms/vscodeJupyterKernelCrash'>here</a> for more info. \n",
      "\u001b[1;31mView Jupyter <a href='command:jupyter.viewOutput'>log</a> for further details."
     ]
    }
   ],
   "source": [
    "words=[\"wife\",\"husband\", \"child\", \"president\"]\n",
    "similarities = {}\n",
    "for word in words:\n",
    "    similarities[word] = {\n",
    "        \"man\": model.similarity(word, \"man\"),\n",
    "        \"woman\": model.similarity(word, \"woman\")\n",
    "    }\n",
    "    \n",
    "similarities"
   ]
  },
  {
   "cell_type": "code",
   "execution_count": 48,
   "metadata": {},
   "outputs": [
    {
     "data": {
      "text/plain": [
       "[('teenage_girl', 0.7174351811408997),\n",
       " ('girl', 0.7137972116470337),\n",
       " ('teenager', 0.6865389943122864),\n",
       " ('boy', 0.6810464262962341),\n",
       " ('teen_ager', 0.5822051763534546)]"
      ]
     },
     "execution_count": 48,
     "metadata": {},
     "output_type": "execute_result"
    }
   ],
   "source": [
    "model.most_similar([\"woman\",\"man\"], topn = 5)"
   ]
  },
  {
   "cell_type": "markdown",
   "metadata": {},
   "source": [
    "Ejercicio 2\n",
    "\n",
    "Sumar y restar vectores\n",
    "\n",
    "French is to France as Spanish is to _____"
   ]
  },
  {
   "cell_type": "code",
   "execution_count": 15,
   "metadata": {},
   "outputs": [
    {
     "data": {
      "text/plain": [
       "[('Spain', 0.8138449192047119)]"
      ]
     },
     "execution_count": 15,
     "metadata": {},
     "output_type": "execute_result"
    }
   ],
   "source": [
    "model.most_similar(positive=[\"Spanish\", \"France\"], negative=[\"French\"], topn=1)"
   ]
  },
  {
   "cell_type": "code",
   "execution_count": 30,
   "metadata": {},
   "outputs": [
    {
     "data": {
      "text/plain": [
       "[('taco', 0.6266060471534729)]"
      ]
     },
     "execution_count": 30,
     "metadata": {},
     "output_type": "execute_result"
    }
   ],
   "source": [
    "# Ejemplo con Word2vec\n",
    "# USA is to burger as Mexico is to ____\n",
    "model.most_similar(positive=[\"Mexico\", \"burger\"], negative=[\"USA\"], topn=1)"
   ]
  },
  {
   "cell_type": "code",
   "execution_count": 46,
   "metadata": {},
   "outputs": [
    {
     "data": {
      "text/plain": [
       "[('Pete_Yost_Lara_Jakes', 0.5271499156951904)]"
      ]
     },
     "execution_count": 46,
     "metadata": {},
     "output_type": "execute_result"
    }
   ],
   "source": [
    "model.most_similar(positive=[\"Spain\", \"Jordan\"], negative=[\"USA\"], topn=1)"
   ]
  }
 ],
 "metadata": {
  "kernelspec": {
   "display_name": "Python 3",
   "language": "python",
   "name": "python3"
  },
  "language_info": {
   "codemirror_mode": {
    "name": "ipython",
    "version": 3
   },
   "file_extension": ".py",
   "mimetype": "text/x-python",
   "name": "python",
   "nbconvert_exporter": "python",
   "pygments_lexer": "ipython3",
   "version": "3.11.8"
  }
 },
 "nbformat": 4,
 "nbformat_minor": 2
}
