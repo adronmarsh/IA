{
 "cells": [
  {
   "cell_type": "markdown",
   "metadata": {},
   "source": [
    "\n",
    "[Word Embeddings](https://lena-voita.github.io/nlp_course/word_embeddings.html)\n"
   ]
  },
  {
   "cell_type": "markdown",
   "metadata": {},
   "source": [
    "[Illustrated Word2vec](https://jalammar.github.io/illustrated-word2vec/)"
   ]
  },
  {
   "cell_type": "markdown",
   "metadata": {},
   "source": [
    "[👉🔴 Redes neuronales EMBEDDINGS en Español + Word2Vec (NLP); QUÉ SON, CÓMO y PORQUÉ FUNCIONAN](https://www.youtube.com/watch?v=blVlMwSuq3s)"
   ]
  },
  {
   "cell_type": "markdown",
   "metadata": {},
   "source": [
    "[Word2vec explicado: Procesamiento del lenguaje natural (NLP)\n",
    "](https://www.youtube.com/watch?v=ErHYXszga5g)"
   ]
  }
 ],
 "metadata": {
  "language_info": {
   "name": "python"
  }
 },
 "nbformat": 4,
 "nbformat_minor": 2
}
