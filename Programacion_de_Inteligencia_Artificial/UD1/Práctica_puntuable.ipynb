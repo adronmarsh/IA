{
 "cells": [
  {
   "cell_type": "code",
   "execution_count": 1,
   "metadata": {},
   "outputs": [],
   "source": [
    "import numpy as np"
   ]
  },
  {
   "cell_type": "markdown",
   "metadata": {},
   "source": [
    "#### 1. Crear un vector con valores dentro del rango 10 a 49"
   ]
  },
  {
   "cell_type": "code",
   "execution_count": 2,
   "metadata": {},
   "outputs": [
    {
     "data": {
      "text/plain": [
       "array([10, 11, 12, 13, 14, 15, 16, 17, 18, 19, 20, 21, 22, 23, 24, 25, 26,\n",
       "       27, 28, 29, 30, 31, 32, 33, 34, 35, 36, 37, 38, 39, 40, 41, 42, 43,\n",
       "       44, 45, 46, 47, 48, 49])"
      ]
     },
     "execution_count": 2,
     "metadata": {},
     "output_type": "execute_result"
    }
   ],
   "source": [
    "vector = np.arange(10, 50)\n",
    "vector"
   ]
  },
  {
   "cell_type": "markdown",
   "metadata": {},
   "source": [
    "#### 2. Invertir el vector"
   ]
  },
  {
   "cell_type": "code",
   "execution_count": 3,
   "metadata": {},
   "outputs": [
    {
     "data": {
      "text/plain": [
       "array([49, 48, 47, 46, 45, 44, 43, 42, 41, 40, 39, 38, 37, 36, 35, 34, 33,\n",
       "       32, 31, 30, 29, 28, 27, 26, 25, 24, 23, 22, 21, 20, 19, 18, 17, 16,\n",
       "       15, 14, 13, 12, 11, 10])"
      ]
     },
     "execution_count": 3,
     "metadata": {},
     "output_type": "execute_result"
    }
   ],
   "source": [
    "vector[::-1]"
   ]
  },
  {
   "cell_type": "markdown",
   "metadata": {},
   "source": [
    "#### 3. Crear una matriz 3x3 con valores de 0 a 8"
   ]
  },
  {
   "cell_type": "code",
   "execution_count": 4,
   "metadata": {},
   "outputs": [
    {
     "data": {
      "text/plain": [
       "[[0, 1, 2], [3, 4, 5], [6, 7, 8]]"
      ]
     },
     "execution_count": 4,
     "metadata": {},
     "output_type": "execute_result"
    }
   ],
   "source": [
    "matriz = [[0,1,2], [3,4,5], [6,7,8]]\n",
    "matriz"
   ]
  },
  {
   "cell_type": "markdown",
   "metadata": {},
   "source": [
    "#### 4. Crear una matriz con valores al azar con forma 3x3x3"
   ]
  },
  {
   "cell_type": "code",
   "execution_count": 5,
   "metadata": {},
   "outputs": [
    {
     "data": {
      "text/plain": [
       "array([[[0.61355915, 0.88213357, 0.83582552],\n",
       "        [0.395678  , 0.97151381, 0.88568228],\n",
       "        [0.74902633, 0.28427033, 0.64738181]],\n",
       "\n",
       "       [[0.10242097, 0.06194152, 0.00765413],\n",
       "        [0.71576428, 0.54407529, 0.11395935],\n",
       "        [0.64554089, 0.64308431, 0.53172343]],\n",
       "\n",
       "       [[0.0895679 , 0.62701847, 0.0037802 ],\n",
       "        [0.69412695, 0.34491682, 0.28668919],\n",
       "        [0.71265923, 0.45539189, 0.1815592 ]]])"
      ]
     },
     "execution_count": 5,
     "metadata": {},
     "output_type": "execute_result"
    }
   ],
   "source": [
    "a = np.random.rand(3,3,3)\n",
    "a"
   ]
  },
  {
   "cell_type": "markdown",
   "metadata": {},
   "source": [
    "#### 5. Crear una matriz de 10x10 con 1's en los bordes y 0 en el interior (con rangos de índices)"
   ]
  },
  {
   "cell_type": "code",
   "execution_count": 6,
   "metadata": {},
   "outputs": [
    {
     "data": {
      "text/plain": [
       "array([[1., 1., 1., 1., 1., 1., 1., 1., 1., 1.],\n",
       "       [1., 0., 0., 0., 0., 0., 0., 0., 0., 1.],\n",
       "       [1., 0., 0., 0., 0., 0., 0., 0., 0., 1.],\n",
       "       [1., 0., 0., 0., 0., 0., 0., 0., 0., 1.],\n",
       "       [1., 0., 0., 0., 0., 0., 0., 0., 0., 1.],\n",
       "       [1., 0., 0., 0., 0., 0., 0., 0., 0., 1.],\n",
       "       [1., 0., 0., 0., 0., 0., 0., 0., 0., 1.],\n",
       "       [1., 0., 0., 0., 0., 0., 0., 0., 0., 1.],\n",
       "       [1., 0., 0., 0., 0., 0., 0., 0., 0., 1.],\n",
       "       [1., 1., 1., 1., 1., 1., 1., 1., 1., 1.]])"
      ]
     },
     "execution_count": 6,
     "metadata": {},
     "output_type": "execute_result"
    }
   ],
   "source": [
    "a = np.ones((10,10))\n",
    "\n",
    "a[1:-1,1:-1] = 0\n",
    "a"
   ]
  },
  {
   "cell_type": "markdown",
   "metadata": {},
   "source": [
    "#### 6. Crear una matriz de 5 x 4."
   ]
  },
  {
   "cell_type": "code",
   "execution_count": 7,
   "metadata": {},
   "outputs": [
    {
     "data": {
      "text/plain": [
       "array([[-1.19724276, -1.72099968, -0.11557048,  1.38225456,  0.46385693],\n",
       "       [-0.1960865 ,  0.19274895,  0.54381389,  0.436327  ,  0.91166523],\n",
       "       [ 1.32363942,  1.82859263, -1.7279439 , -0.6359847 ,  1.43487874],\n",
       "       [-0.67745602, -0.69389899,  0.0820458 ,  1.36355978,  0.22936853]])"
      ]
     },
     "execution_count": 7,
     "metadata": {},
     "output_type": "execute_result"
    }
   ],
   "source": [
    "a = np.random.randn(4,5)\n",
    "a"
   ]
  },
  {
   "cell_type": "markdown",
   "metadata": {},
   "source": [
    "    6.1 Muestra los valores máximos por columna"
   ]
  },
  {
   "cell_type": "code",
   "execution_count": 8,
   "metadata": {},
   "outputs": [
    {
     "name": "stdout",
     "output_type": "stream",
     "text": [
      "1.323639421084759\n",
      "1.8285926257711702\n",
      "0.5438138942091879\n",
      "1.382254562458192\n"
     ]
    }
   ],
   "source": [
    "col0 = [fila[0] for fila in a]\n",
    "col1 = [fila[1] for fila in a]\n",
    "col2 = [fila[2] for fila in a]\n",
    "col3 = [fila[3] for fila in a]\n",
    "print(np.amax(col0))\n",
    "print(np.amax(col1))\n",
    "print(np.amax(col2))\n",
    "print(np.amax(col3))"
   ]
  },
  {
   "cell_type": "markdown",
   "metadata": {},
   "source": [
    "    6.2 Muestra los valores mínimos por columna\n"
   ]
  },
  {
   "cell_type": "code",
   "execution_count": 9,
   "metadata": {},
   "outputs": [
    {
     "name": "stdout",
     "output_type": "stream",
     "text": [
      "-1.1972427630648674\n",
      "-1.7209996795452112\n",
      "-1.7279438974664654\n",
      "-0.635984701292265\n"
     ]
    }
   ],
   "source": [
    "print(np.amin(col0))\n",
    "print(np.amin(col1))\n",
    "print(np.amin(col2))\n",
    "print(np.amin(col3))"
   ]
  },
  {
   "cell_type": "markdown",
   "metadata": {},
   "source": [
    "    6.3 Muestra los valores máximos por fila\n"
   ]
  },
  {
   "cell_type": "code",
   "execution_count": 10,
   "metadata": {},
   "outputs": [
    {
     "name": "stdout",
     "output_type": "stream",
     "text": [
      "1.382254562458192\n",
      "0.9116652268244062\n",
      "1.8285926257711702\n",
      "1.363559781493132\n"
     ]
    }
   ],
   "source": [
    "print(np.amax(a[:1]))\n",
    "print(np.amax(a[1:2]))\n",
    "print(np.amax(a[2:3]))\n",
    "print(np.amax(a[3:4]))"
   ]
  },
  {
   "cell_type": "markdown",
   "metadata": {},
   "source": [
    "    6.4 Muestra los valores mínimos por fila\n"
   ]
  },
  {
   "cell_type": "code",
   "execution_count": 11,
   "metadata": {},
   "outputs": [
    {
     "name": "stdout",
     "output_type": "stream",
     "text": [
      "-1.7209996795452112\n",
      "-0.1960865032201044\n",
      "-1.7279438974664654\n",
      "-0.6938989906709203\n"
     ]
    }
   ],
   "source": [
    "print(np.amin(a[:1]))\n",
    "print(np.amin(a[1:2]))\n",
    "print(np.amin(a[2:3]))\n",
    "print(np.amin(a[3:4]))"
   ]
  },
  {
   "cell_type": "markdown",
   "metadata": {},
   "source": [
    "    6.5 Muestra el valor máximo\n"
   ]
  },
  {
   "cell_type": "code",
   "execution_count": 12,
   "metadata": {},
   "outputs": [
    {
     "data": {
      "text/plain": [
       "1.8285926257711702"
      ]
     },
     "execution_count": 12,
     "metadata": {},
     "output_type": "execute_result"
    }
   ],
   "source": [
    "np.amax(a)"
   ]
  },
  {
   "cell_type": "markdown",
   "metadata": {},
   "source": [
    "    6.6 Muestra el valor mínimo\n"
   ]
  },
  {
   "cell_type": "code",
   "execution_count": 13,
   "metadata": {},
   "outputs": [
    {
     "data": {
      "text/plain": [
       "-1.7279438974664654"
      ]
     },
     "execution_count": 13,
     "metadata": {},
     "output_type": "execute_result"
    }
   ],
   "source": [
    "np.amin(a)"
   ]
  },
  {
   "cell_type": "markdown",
   "metadata": {},
   "source": [
    "    6.7 Muestra la posición del máximo"
   ]
  },
  {
   "cell_type": "code",
   "execution_count": 14,
   "metadata": {},
   "outputs": [
    {
     "data": {
      "text/plain": [
       "11"
      ]
     },
     "execution_count": 14,
     "metadata": {},
     "output_type": "execute_result"
    }
   ],
   "source": [
    "np.argmax(a)\n"
   ]
  },
  {
   "cell_type": "markdown",
   "metadata": {},
   "source": [
    "    6.8 Muestra la posición del mínimo\n"
   ]
  },
  {
   "cell_type": "code",
   "execution_count": 15,
   "metadata": {},
   "outputs": [
    {
     "data": {
      "text/plain": [
       "12"
      ]
     },
     "execution_count": 15,
     "metadata": {},
     "output_type": "execute_result"
    }
   ],
   "source": [
    "np.argmin(a)"
   ]
  },
  {
   "cell_type": "markdown",
   "metadata": {},
   "source": [
    "#### 7. Escribir un programa que pregunte al usuario por las ventas de un rango de años y muestre por pantalla una serie con los datos de las ventas indexada por los años, antes y después de aplicarles un descuento del 10%. (Nota: con que preguntes dos años, es más que suficiente)\n"
   ]
  },
  {
   "cell_type": "code",
   "execution_count": 19,
   "metadata": {},
   "outputs": [
    {
     "name": "stdout",
     "output_type": "stream",
     "text": [
      "Precio inicial: [220, 231, 184, 265, 284] \n",
      "Precio con 10% de descuento: [[198.  207.9 165.6 238.5 255.6]]\n"
     ]
    }
   ],
   "source": [
    "fecha1 = int(input(\"Fecha 1:\"))\n",
    "fecha2 = int(input(\"Fecha 2:\"))\n",
    "b =np.arange(fecha1, fecha2)\n",
    "fechas = {\n",
    "    2010: {\n",
    "        \"ventas\": 220\n",
    "    },\n",
    "    2011: {\n",
    "        \"ventas\": 231\n",
    "    },\n",
    "    2012: {\n",
    "        \"ventas\": 184\n",
    "    },\n",
    "    2013: {\n",
    "        \"ventas\": 265\n",
    "    },\n",
    "    2014: {\n",
    "        \"ventas\": 284\n",
    "    }\n",
    "}\n",
    "precio_inicial = []\n",
    "descuento = []\n",
    "for i in b: \n",
    "    precio_inicial.append(fechas[i][\"ventas\"])\n",
    "descuento.append(np.multiply(precio_inicial,0.10))\n",
    "precio_final = np.subtract(precio_inicial, descuento)\n",
    "\n",
    "\n",
    "print(\"Precio inicial: {} \\nPrecio con 10% de descuento: {}\".format(precio_inicial, precio_final))"
   ]
  },
  {
   "cell_type": "code",
   "execution_count": 17,
   "metadata": {},
   "outputs": [
    {
     "name": "stdout",
     "output_type": "stream",
     "text": [
      "Precio inicial: 1 \n",
      "Precio con descuento: 0\n"
     ]
    }
   ],
   "source": [
    "a = 1\n",
    "descuento = 0\n",
    "print(f\"Precio inicial: {a} \\nPrecio con descuento: {descuento}\")\n"
   ]
  },
  {
   "cell_type": "markdown",
   "metadata": {},
   "source": [
    "#### 8. Escribir una función que reciba un diccionario con las notas de los alumno de un curso y devuelva una serie con la nota mínima, la máxima, media y la desviación típica"
   ]
  },
  {
   "cell_type": "code",
   "execution_count": 18,
   "metadata": {},
   "outputs": [
    {
     "data": {
      "text/plain": [
       "('Nota máxima:', 10, 'Nota mínima:', 2, 'Nota media:', 'Desviación típica:')"
      ]
     },
     "execution_count": 18,
     "metadata": {},
     "output_type": "execute_result"
    }
   ],
   "source": [
    "notas = {'Jaime':2,\n",
    "         'Adrián': 10,\n",
    "         'Pablo': 4,\n",
    "         'Jorge': 3,\n",
    "         'David': 7,\n",
    "         'Manuel': 9,\n",
    "         'Sara': 6,\n",
    "         'Lucía': 3}\n",
    "\n",
    "def calcular_notas(notas):\n",
    "    nota_max = 0\n",
    "    nota_min = 10\n",
    "    for i in notas :\n",
    "        a = notas.get(i)\n",
    "        if nota_max < a: nota_max = a\n",
    "        if nota_min > a: nota_min = a\n",
    "    \n",
    "    return \"Nota máxima:\", nota_max, \"Nota mínima:\", nota_min,\"Nota media:\", \"Desviación típica:\"\n",
    "calcular_notas(notas)"
   ]
  },
  {
   "cell_type": "markdown",
   "metadata": {},
   "source": []
  },
  {
   "cell_type": "markdown",
   "metadata": {},
   "source": [
    "#### 9. Escribir una función que reciba un diccionario con las notas de los alumnos de un curso y devuelva una serie con las notas de los alumnos aprobados ordenadas de mayor a menor."
   ]
  },
  {
   "cell_type": "code",
   "execution_count": 46,
   "metadata": {},
   "outputs": [
    {
     "data": {
      "text/plain": [
       "[10, 9, 7, 6, 4, 3, 3, 2]"
      ]
     },
     "execution_count": 46,
     "metadata": {},
     "output_type": "execute_result"
    }
   ],
   "source": [
    "notas = {'Jaime':2,\n",
    "         'Adrián': 10,\n",
    "         'Pablo': 4,\n",
    "         'Jorge': 3,\n",
    "         'David': 7,\n",
    "         'Manuel': 9,\n",
    "         'Sara': 6,\n",
    "         'Lucía': 3}\n",
    "\n",
    "def calcular_notas(notas):\n",
    "    a = []\n",
    "    for i in notas :\n",
    "        a.append(notas.get(i))\n",
    "    a.sort(reverse = True)\n",
    "    return a\n",
    "calcular_notas(notas)"
   ]
  },
  {
   "cell_type": "code",
   "execution_count": null,
   "metadata": {},
   "outputs": [],
   "source": []
  }
 ],
 "metadata": {
  "kernelspec": {
   "display_name": "Python 3",
   "language": "python",
   "name": "python3"
  },
  "language_info": {
   "codemirror_mode": {
    "name": "ipython",
    "version": 3
   },
   "file_extension": ".py",
   "mimetype": "text/x-python",
   "name": "python",
   "nbconvert_exporter": "python",
   "pygments_lexer": "ipython3",
   "version": "3.11.1"
  }
 },
 "nbformat": 4,
 "nbformat_minor": 2
}
