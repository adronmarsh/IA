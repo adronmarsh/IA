{
  "cells": [
    {
      "cell_type": "markdown",
      "metadata": {
        "id": "TXWlLYIf2y4i"
      },
      "source": [
        "# Decorators"
      ]
    },
    {
      "cell_type": "markdown",
      "metadata": {
        "id": "tpTwku602y4k"
      },
      "source": [
        "### 1. Conceptos avanzados sobre funciones"
      ]
    },
    {
      "cell_type": "markdown",
      "metadata": {
        "id": "sbl-WL4R2y4k"
      },
      "source": [
        "En Python las funciones también se consideran objetos y como consecuencia de esto se pueden asignar a una variable, almacenarlas en estructuras de datos (listas, tuplas, diccionarios...) o incluso pasarlas como argumento de otras funciones."
      ]
    },
    {
      "cell_type": "code",
      "execution_count": 2,
      "metadata": {
        "id": "lgTeMRwT2y4k"
      },
      "outputs": [],
      "source": [
        "def func():\n",
        "  print(\"Adiós gente\")"
      ]
    },
    {
      "cell_type": "code",
      "execution_count": 3,
      "metadata": {
        "id": "-35eCQJv2y4l",
        "colab": {
          "base_uri": "https://localhost:8080/"
        },
        "outputId": "e212d035-468f-418b-816a-0d7271e9da97"
      },
      "outputs": [
        {
          "output_type": "execute_result",
          "data": {
            "text/plain": [
              "<function __main__.func()>"
            ]
          },
          "metadata": {},
          "execution_count": 3
        }
      ],
      "source": [
        "func"
      ]
    },
    {
      "cell_type": "code",
      "execution_count": 4,
      "metadata": {
        "id": "Ebj1gxOY2y4l"
      },
      "outputs": [],
      "source": [
        "var = func"
      ]
    },
    {
      "cell_type": "code",
      "execution_count": 5,
      "metadata": {
        "id": "cvEjslRh2y4l",
        "colab": {
          "base_uri": "https://localhost:8080/"
        },
        "outputId": "21741866-5a7d-4f8c-cdc5-73023195d805"
      },
      "outputs": [
        {
          "output_type": "stream",
          "name": "stdout",
          "text": [
            "Adiós gente\n"
          ]
        }
      ],
      "source": [
        "var()"
      ]
    },
    {
      "cell_type": "code",
      "source": [
        "def func2(func):\n",
        "  func()"
      ],
      "metadata": {
        "id": "D7DtR8if3BVE"
      },
      "execution_count": 6,
      "outputs": []
    },
    {
      "cell_type": "code",
      "source": [
        "func2(func)"
      ],
      "metadata": {
        "colab": {
          "base_uri": "https://localhost:8080/"
        },
        "id": "pkE7M8-P3BYT",
        "outputId": "e9de08c4-44b5-4a3a-cfaa-807c6d71174b"
      },
      "execution_count": 7,
      "outputs": [
        {
          "output_type": "stream",
          "name": "stdout",
          "text": [
            "Adiós gente\n"
          ]
        }
      ]
    },
    {
      "cell_type": "code",
      "source": [
        "func2(func())"
      ],
      "metadata": {
        "colab": {
          "base_uri": "https://localhost:8080/",
          "height": 262
        },
        "id": "Di2IkMVO3Ba7",
        "outputId": "b3798ca3-74b8-4802-f810-e8850200be6f"
      },
      "execution_count": 8,
      "outputs": [
        {
          "output_type": "stream",
          "name": "stdout",
          "text": [
            "Adiós gente\n"
          ]
        },
        {
          "output_type": "error",
          "ename": "TypeError",
          "evalue": "ignored",
          "traceback": [
            "\u001b[0;31m---------------------------------------------------------------------------\u001b[0m",
            "\u001b[0;31mTypeError\u001b[0m                                 Traceback (most recent call last)",
            "\u001b[0;32m<ipython-input-8-8779b35ab619>\u001b[0m in \u001b[0;36m<cell line: 1>\u001b[0;34m()\u001b[0m\n\u001b[0;32m----> 1\u001b[0;31m \u001b[0mfunc2\u001b[0m\u001b[0;34m(\u001b[0m\u001b[0mfunc\u001b[0m\u001b[0;34m(\u001b[0m\u001b[0;34m)\u001b[0m\u001b[0;34m)\u001b[0m\u001b[0;34m\u001b[0m\u001b[0;34m\u001b[0m\u001b[0m\n\u001b[0m",
            "\u001b[0;32m<ipython-input-6-b8eaa11b54cd>\u001b[0m in \u001b[0;36mfunc2\u001b[0;34m(func)\u001b[0m\n\u001b[1;32m      1\u001b[0m \u001b[0;32mdef\u001b[0m \u001b[0mfunc2\u001b[0m\u001b[0;34m(\u001b[0m\u001b[0mfunc\u001b[0m\u001b[0;34m)\u001b[0m\u001b[0;34m:\u001b[0m\u001b[0;34m\u001b[0m\u001b[0;34m\u001b[0m\u001b[0m\n\u001b[0;32m----> 2\u001b[0;31m   \u001b[0mfunc\u001b[0m\u001b[0;34m(\u001b[0m\u001b[0;34m)\u001b[0m\u001b[0;34m\u001b[0m\u001b[0;34m\u001b[0m\u001b[0m\n\u001b[0m",
            "\u001b[0;31mTypeError\u001b[0m: 'NoneType' object is not callable"
          ]
        }
      ]
    },
    {
      "cell_type": "code",
      "execution_count": null,
      "metadata": {
        "id": "hsdRuB3y2y4l"
      },
      "outputs": [],
      "source": []
    },
    {
      "cell_type": "markdown",
      "metadata": {
        "id": "AFxukRgW2y4l"
      },
      "source": [
        "### 2. ¿Qué es un _decorator_?"
      ]
    },
    {
      "cell_type": "markdown",
      "metadata": {
        "id": "87vbyqIv2y4l"
      },
      "source": [
        "Los _decorator_ envuelven una función, modificando su comportamiento realizando una combinación de todas las propiedades que hemos visto anteriormente."
      ]
    },
    {
      "cell_type": "code",
      "execution_count": 12,
      "metadata": {
        "id": "BXlrkvKb2y4l"
      },
      "outputs": [],
      "source": [
        "def my_function():\n",
        "  print(\"Holaaa\")"
      ]
    },
    {
      "cell_type": "code",
      "execution_count": 13,
      "metadata": {
        "id": "_psfrd6q2y4l"
      },
      "outputs": [],
      "source": [
        "def my_decorator(func):\n",
        "  def wrapper():\n",
        "    print(\"Puedo ejecutar código antes\")\n",
        "    func()\n",
        "    print(\"Hacer código después de la función\")\n",
        "  return wrapper # Devuelvo una referencia al envoltorio"
      ]
    },
    {
      "cell_type": "code",
      "execution_count": 14,
      "metadata": {
        "id": "4l972xJR2y4m"
      },
      "outputs": [],
      "source": [
        "my_function_mod = my_decorator(my_function)"
      ]
    },
    {
      "cell_type": "code",
      "execution_count": 15,
      "metadata": {
        "id": "uGBwW4Oh2y4m",
        "colab": {
          "base_uri": "https://localhost:8080/"
        },
        "outputId": "c274bdfc-198e-4d4e-ffcc-259ca5a5a888"
      },
      "outputs": [
        {
          "output_type": "stream",
          "name": "stdout",
          "text": [
            "Puedo ejecutar código antes\n",
            "Holaaa\n",
            "Hacer código después de la función\n"
          ]
        }
      ],
      "source": [
        "my_function_mod()"
      ]
    },
    {
      "cell_type": "markdown",
      "metadata": {
        "id": "rGdYIOr12y4m"
      },
      "source": [
        "Podemos utilizar _decorators_ para modificar el comportamiento de una función que programemos, por ejemplo, añadiendo condiciones que se evalúen antes de ejecutar la función ya existente que no queremos modificar."
      ]
    },
    {
      "cell_type": "code",
      "execution_count": 17,
      "metadata": {
        "id": "uw0-w8IK2y4m"
      },
      "outputs": [],
      "source": [
        "def my_decorator(func):\n",
        "  def wrapper():\n",
        "    if var < 5:\n",
        "      func()\n",
        "    else:\n",
        "      print(\"No se puede ejecutar\")\n",
        "  return wrapper # Devuelvo una referencia al envoltorio"
      ]
    },
    {
      "cell_type": "code",
      "execution_count": 20,
      "metadata": {
        "id": "qKYurAmQ2y4m"
      },
      "outputs": [],
      "source": [
        "function = my_decorator(my_function)"
      ]
    },
    {
      "cell_type": "code",
      "execution_count": 21,
      "metadata": {
        "id": "NoeCybpb2y4m"
      },
      "outputs": [],
      "source": [
        "var = 2"
      ]
    },
    {
      "cell_type": "code",
      "execution_count": 22,
      "metadata": {
        "id": "MpGp0OUI2y4m",
        "colab": {
          "base_uri": "https://localhost:8080/"
        },
        "outputId": "eaad38e5-4814-4715-8534-87bceb339cec"
      },
      "outputs": [
        {
          "output_type": "stream",
          "name": "stdout",
          "text": [
            "Holaaa\n"
          ]
        }
      ],
      "source": [
        "function()"
      ]
    },
    {
      "cell_type": "code",
      "execution_count": 23,
      "metadata": {
        "id": "Ukd7hYhN2y4m"
      },
      "outputs": [],
      "source": [
        "var = 10"
      ]
    },
    {
      "cell_type": "code",
      "execution_count": 24,
      "metadata": {
        "id": "-bgjiDGk2y4m",
        "colab": {
          "base_uri": "https://localhost:8080/"
        },
        "outputId": "d15c1317-b1d2-4595-8f49-83bbb71b20c8"
      },
      "outputs": [
        {
          "output_type": "stream",
          "name": "stdout",
          "text": [
            "No se puede ejecutar\n"
          ]
        }
      ],
      "source": [
        "function()"
      ]
    },
    {
      "cell_type": "code",
      "execution_count": null,
      "metadata": {
        "id": "QSVaAzTl2y4m"
      },
      "outputs": [],
      "source": []
    },
    {
      "cell_type": "markdown",
      "metadata": {
        "id": "ugCY_1n-2y4m"
      },
      "source": [
        "### 3. _Syntactic Sugar_"
      ]
    },
    {
      "cell_type": "markdown",
      "metadata": {
        "id": "XFnE1v1e2y4m"
      },
      "source": [
        "La sintaxis que hemos utilizado en el apartado anterior para definir el _decorator_ es bastante compleja, por ello, Python nos proporciona una alternativa mucho más sencilla."
      ]
    },
    {
      "cell_type": "code",
      "execution_count": 25,
      "metadata": {
        "id": "mvdd5w0j2y4n"
      },
      "outputs": [],
      "source": [
        "def my_decorator(func):\n",
        "  def wrapper():\n",
        "    if var < 5:\n",
        "      func()\n",
        "    else:\n",
        "      print(\"No se puede ejecutar\")\n",
        "  return wrapper # Devuelvo una referencia al envoltorio"
      ]
    },
    {
      "cell_type": "code",
      "execution_count": 26,
      "metadata": {
        "id": "EByNpeNs2y4n"
      },
      "outputs": [],
      "source": [
        "@my_decorator\n",
        "def my_function():\n",
        "  print(\"Hola Mundo\")"
      ]
    },
    {
      "cell_type": "code",
      "execution_count": 28,
      "metadata": {
        "id": "BzVJPIFs2y4n"
      },
      "outputs": [],
      "source": [
        "var = 3"
      ]
    },
    {
      "cell_type": "code",
      "source": [
        "my_function()"
      ],
      "metadata": {
        "colab": {
          "base_uri": "https://localhost:8080/"
        },
        "id": "JUMieyqD7HtF",
        "outputId": "35aaa51a-2e40-4997-8e70-26d22b2d4162"
      },
      "execution_count": 29,
      "outputs": [
        {
          "output_type": "stream",
          "name": "stdout",
          "text": [
            "Hola Mundo\n"
          ]
        }
      ]
    },
    {
      "cell_type": "code",
      "source": [
        "var = 10"
      ],
      "metadata": {
        "id": "96pm49n77Y8I"
      },
      "execution_count": 30,
      "outputs": []
    },
    {
      "cell_type": "code",
      "source": [
        "my_function()"
      ],
      "metadata": {
        "colab": {
          "base_uri": "https://localhost:8080/"
        },
        "id": "s4KOKCkF7axH",
        "outputId": "e77472f1-5260-42fc-dc6c-50fc3eeafa81"
      },
      "execution_count": 31,
      "outputs": [
        {
          "output_type": "stream",
          "name": "stdout",
          "text": [
            "No se puede ejecutar\n"
          ]
        }
      ]
    },
    {
      "cell_type": "markdown",
      "metadata": {
        "id": "gH8Za7Zv2y4n"
      },
      "source": [
        "### 4. _Decorators_ en las Clases"
      ]
    },
    {
      "cell_type": "markdown",
      "metadata": {
        "id": "Qrqgej_I2y4n"
      },
      "source": [
        "Una de las cosas interesantes sobre los _decorators_ es que Python nos proporciona varios definidos por defecto que podemos utilizar dentro de una clase.\n",
        "\n",
        "Uno de los _decorators_ más interesantes que podemos utilizar es `@property`, que nos permite definir métodos en una clase para consultar y modificar un atributo interno."
      ]
    },
    {
      "cell_type": "code",
      "execution_count": 32,
      "metadata": {
        "id": "qQ0H9u512y4n"
      },
      "outputs": [],
      "source": [
        "class Coche():\n",
        "    \"\"\"Esta clase representa un coche.\"\"\"\n",
        "\n",
        "    def __init__(self, modelo, potencia, consumo):\n",
        "        \"\"\"Inicializa los atributos de instancia.\n",
        "\n",
        "        Argumentos posicionales:\n",
        "        modelo -- string que representa el modelo del coche\n",
        "        potencia -- int que representa la potencia en cv\n",
        "        conumo -- int que representa el consumo en l/100km\n",
        "        \"\"\"\n",
        "        self._modelo = modelo\n",
        "        self._potencia = potencia\n",
        "        self._consumo = consumo\n",
        "        self._km_actuales = 0\n",
        "\n",
        "    def especificaciones(self):\n",
        "        \"\"\"Muestra las especicificaciones del coche.\"\"\"\n",
        "        print(\"Modelo:\", self._modelo,\n",
        "             \"\\nPotencia: {} cv\".format(self._potencia),\n",
        "             \"\\nConsumo: {} l/100km\".format(self._consumo),\n",
        "             \"\\nKilometros actuales:\", self._km_actuales)\n",
        "\n",
        "    @property\n",
        "    def kilometros(self):\n",
        "      return self._km_actuales\n",
        "\n",
        "    @kilometros.setter\n",
        "    def kilometros(self, kilometros):\n",
        "        \"\"\"Actualiza los kilometros del coche.\"\"\"\n",
        "        if kilometros > self._km_actuales:\n",
        "            self._km_actuales = kilometros\n",
        "        else:\n",
        "            print(\"ERROR: No se puede establecer un numero de kilometros inferior al actual\")\n",
        "\n",
        "    def consumo_total(self):\n",
        "        \"\"\"Muestra el consumo total del coche desde el kilometro 0.\"\"\"\n",
        "        consumo_total = (self._km_actuales / 100) * self._consumo\n",
        "        print(\"El consumo total es de {} litros\".format(consumo_total))"
      ]
    },
    {
      "cell_type": "code",
      "execution_count": 34,
      "metadata": {
        "id": "87QS-uGl2y4o"
      },
      "outputs": [],
      "source": [
        "bmw = Coche(\"i3\", 150, 6)"
      ]
    },
    {
      "cell_type": "code",
      "execution_count": 35,
      "metadata": {
        "id": "A7W57Flb2y4o",
        "colab": {
          "base_uri": "https://localhost:8080/"
        },
        "outputId": "25026dec-4ba8-4784-a8a9-9259d4b70401"
      },
      "outputs": [
        {
          "output_type": "execute_result",
          "data": {
            "text/plain": [
              "0"
            ]
          },
          "metadata": {},
          "execution_count": 35
        }
      ],
      "source": [
        "bmw.kilometros"
      ]
    },
    {
      "cell_type": "code",
      "execution_count": 36,
      "metadata": {
        "id": "0X1pw1y52y4o",
        "colab": {
          "base_uri": "https://localhost:8080/"
        },
        "outputId": "7a8997ee-645b-44f6-db60-6a7f7d8b0641"
      },
      "outputs": [
        {
          "output_type": "stream",
          "name": "stdout",
          "text": [
            "ERROR: No se puede establecer un numero de kilometros inferior al actual\n"
          ]
        }
      ],
      "source": [
        "bmw.kilometros = -200"
      ]
    },
    {
      "cell_type": "code",
      "execution_count": 37,
      "metadata": {
        "id": "1PLRBmRY2y4o",
        "colab": {
          "base_uri": "https://localhost:8080/"
        },
        "outputId": "2ca6802d-e878-44ee-c14d-a93d7b5d9d92"
      },
      "outputs": [
        {
          "output_type": "execute_result",
          "data": {
            "text/plain": [
              "0"
            ]
          },
          "metadata": {},
          "execution_count": 37
        }
      ],
      "source": [
        "bmw.kilometros"
      ]
    },
    {
      "cell_type": "code",
      "execution_count": null,
      "metadata": {
        "id": "lMUM-iX22y4o"
      },
      "outputs": [],
      "source": []
    },
    {
      "cell_type": "code",
      "execution_count": null,
      "metadata": {
        "id": "qiL-oyuj2y4o"
      },
      "outputs": [],
      "source": []
    },
    {
      "cell_type": "code",
      "execution_count": null,
      "metadata": {
        "id": "lwpiSLVA2y4o"
      },
      "outputs": [],
      "source": []
    },
    {
      "cell_type": "code",
      "execution_count": null,
      "metadata": {
        "id": "B7KUy7rj2y4o"
      },
      "outputs": [],
      "source": []
    }
  ],
  "metadata": {
    "kernelspec": {
      "display_name": "Python 3",
      "language": "python",
      "name": "python3"
    },
    "language_info": {
      "codemirror_mode": {
        "name": "ipython",
        "version": 3
      },
      "file_extension": ".py",
      "mimetype": "text/x-python",
      "name": "python",
      "nbconvert_exporter": "python",
      "pygments_lexer": "ipython3",
      "version": "3.8.5"
    },
    "colab": {
      "provenance": []
    }
  },
  "nbformat": 4,
  "nbformat_minor": 0
}