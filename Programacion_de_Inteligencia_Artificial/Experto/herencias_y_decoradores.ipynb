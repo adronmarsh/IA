{
 "cells": [
  {
   "cell_type": "code",
   "execution_count": 1,
   "metadata": {},
   "outputs": [],
   "source": [
    "class Persona:\n",
    "    def __init__(self, nombre: str, apellido: str, edad: int):\n",
    "        self.nombre = nombre\n",
    "        self.apellido = apellido\n",
    "        self.edad = edad\n",
    "\n",
    "    def imprime_nombre(self) -> None:\n",
    "        print(self.nombre, self.apellido)"
   ]
  },
  {
   "cell_type": "code",
   "execution_count": 2,
   "metadata": {},
   "outputs": [],
   "source": [
    "class Estudiante(Persona):\n",
    "    def __init__(self, nombre: str, apellido: str, edad: int, colegio: str):\n",
    "        self.colegio = colegio\n",
    "        super().__init__(\n",
    "            nombre = nombre,\n",
    "            apellido = apellido,\n",
    "            edad = edad\n",
    "        )\n",
    "    def imprime_nombre(self) -> None:\n",
    "            print(self.nombre, self.apellido, self.colegio)\n",
    "\n",
    "    def devuelve_edad(self) -> int:\n",
    "        return self.edad"
   ]
  },
  {
   "cell_type": "code",
   "execution_count": 3,
   "metadata": {},
   "outputs": [
    {
     "name": "stdout",
     "output_type": "stream",
     "text": [
      "Lucas Herandez UPV\n"
     ]
    },
    {
     "data": {
      "text/plain": [
       "25"
      ]
     },
     "execution_count": 3,
     "metadata": {},
     "output_type": "execute_result"
    }
   ],
   "source": [
    "estudiante1 = Estudiante(\n",
    "    nombre = 'Lucas',\n",
    "    apellido= 'Herandez',\n",
    "    edad=25,\n",
    "    colegio='UPV'\n",
    ")\n",
    "\n",
    "estudiante1.imprime_nombre()\n",
    "estudiante1.devuelve_edad()"
   ]
  },
  {
   "cell_type": "code",
   "execution_count": 4,
   "metadata": {},
   "outputs": [],
   "source": [
    "class Persona:\n",
    "    def __init__(self, nombre: str, apellido: str, edad: int):\n",
    "        self.nombre = nombre\n",
    "        self.apellido = apellido\n",
    "        self.edad = edad\n",
    "\n",
    "    def imprime_nombre(self) -> None:\n",
    "        print(self.nombre, self.apellido)\n",
    "\n",
    "    def imprime_ocupacion(self) -> None:\n",
    "        print(self.obten_actividad())\n",
    "\n",
    "class Trabajador(Persona):\n",
    "    def __init__(self, nombre: str, apellido: str, edad: int, empresa: str) -> None:\n",
    "        self.empresa: str = empresa\n",
    "        super().__init__(\n",
    "            nombre,\n",
    "            apellido,\n",
    "            edad\n",
    "        )\n",
    "    def imprime_nombre(self) -> None:\n",
    "        print(self.nombre, self.apellido, self.empresa)\n",
    "    \n",
    "    def obten_actividad(self) -> str:\n",
    "        return 'Trabajador'"
   ]
  },
  {
   "cell_type": "code",
   "execution_count": 5,
   "metadata": {},
   "outputs": [],
   "source": [
    "persona1 = Persona(\n",
    "    nombre = 'Juan',\n",
    "    apellido = 'García',\n",
    "    edad = 21\n",
    ")"
   ]
  },
  {
   "cell_type": "code",
   "execution_count": 6,
   "metadata": {},
   "outputs": [
    {
     "name": "stdout",
     "output_type": "stream",
     "text": [
      "Juan García\n"
     ]
    }
   ],
   "source": [
    "persona1.imprime_nombre()"
   ]
  },
  {
   "cell_type": "code",
   "execution_count": 7,
   "metadata": {},
   "outputs": [],
   "source": [
    "# persona1.imprime_ocupacion()"
   ]
  },
  {
   "cell_type": "code",
   "execution_count": 8,
   "metadata": {},
   "outputs": [],
   "source": [
    "trabajador1: Trabajador = Trabajador(\n",
    "    nombre = 'Juan',\n",
    "    apellido = 'García',\n",
    "    edad = 21,\n",
    "    empresa = 'IES Abastos'\n",
    ")"
   ]
  },
  {
   "cell_type": "code",
   "execution_count": 9,
   "metadata": {},
   "outputs": [
    {
     "name": "stdout",
     "output_type": "stream",
     "text": [
      "Juan García IES Abastos\n"
     ]
    }
   ],
   "source": [
    "trabajador1.imprime_nombre()"
   ]
  },
  {
   "cell_type": "code",
   "execution_count": 10,
   "metadata": {},
   "outputs": [
    {
     "name": "stdout",
     "output_type": "stream",
     "text": [
      "Trabajador\n"
     ]
    }
   ],
   "source": [
    "trabajador1.imprime_ocupacion()"
   ]
  },
  {
   "cell_type": "code",
   "execution_count": 11,
   "metadata": {},
   "outputs": [],
   "source": [
    "class Vehiculo:\n",
    "    def __init__(self, marca: str, modelo: str, potencia: int):\n",
    "        self.marca = marca,\n",
    "        self.modelo = modelo,\n",
    "        self.potencia = potencia\n",
    "    \n",
    "    @staticmethod\n",
    "    def transforma_kmh_a_mph(velocidad_kmh: int) -> float:\n",
    "        return velocidad_kmh * 0.6214"
   ]
  },
  {
   "cell_type": "code",
   "execution_count": 12,
   "metadata": {},
   "outputs": [
    {
     "data": {
      "text/plain": [
       "62.13999999999999"
      ]
     },
     "execution_count": 12,
     "metadata": {},
     "output_type": "execute_result"
    }
   ],
   "source": [
    "Vehiculo.transforma_kmh_a_mph(velocidad_kmh = 100)"
   ]
  },
  {
   "cell_type": "code",
   "execution_count": 13,
   "metadata": {},
   "outputs": [],
   "source": [
    "vehiculo = Vehiculo(\n",
    "    marca = 'Seat',\n",
    "    modelo = 'Leon',\n",
    "    potencia = 100\n",
    ")"
   ]
  },
  {
   "cell_type": "code",
   "execution_count": 14,
   "metadata": {},
   "outputs": [
    {
     "data": {
      "text/plain": [
       "62.13999999999999"
      ]
     },
     "execution_count": 14,
     "metadata": {},
     "output_type": "execute_result"
    }
   ],
   "source": [
    "vehiculo.transforma_kmh_a_mph(100)"
   ]
  },
  {
   "cell_type": "code",
   "execution_count": 15,
   "metadata": {},
   "outputs": [],
   "source": [
    "class Vehiculo:\n",
    "    def __init__(self, marca: str, modelo: str, potencia: int):\n",
    "        self.marca = marca,\n",
    "        self.modelo = modelo,\n",
    "        self.potencia = potencia"
   ]
  },
  {
   "cell_type": "code",
   "execution_count": 16,
   "metadata": {},
   "outputs": [],
   "source": [
    "from dataclasses import dataclass\n",
    "\n",
    "@dataclass\n",
    "class Vehiculo:\n",
    "    marca: str\n",
    "    modelo: str\n",
    "    potencia: int\n",
    "\n",
    "    def imprime_marca(self):\n",
    "        print(self.marca)"
   ]
  },
  {
   "cell_type": "code",
   "execution_count": 17,
   "metadata": {},
   "outputs": [],
   "source": [
    "vehiculo1 = Vehiculo(\n",
    "    marca = 'Seat',\n",
    "    modelo = 'Leon',\n",
    "    potencia = 100\n",
    ")"
   ]
  },
  {
   "cell_type": "code",
   "execution_count": 18,
   "metadata": {},
   "outputs": [
    {
     "name": "stdout",
     "output_type": "stream",
     "text": [
      "Seat\n"
     ]
    }
   ],
   "source": [
    "vehiculo1.imprime_marca()"
   ]
  },
  {
   "cell_type": "code",
   "execution_count": 19,
   "metadata": {},
   "outputs": [
    {
     "data": {
      "text/plain": [
       "[1, 2, 3, 4, 5, 6, 7, 8, 9]"
      ]
     },
     "execution_count": 19,
     "metadata": {},
     "output_type": "execute_result"
    }
   ],
   "source": [
    "@dataclass\n",
    "class Intervalo:\n",
    "    inicio: int\n",
    "    fin: int\n",
    "\n",
    "    @property\n",
    "    def rango(self):\n",
    "        return [i for i in range(self.inicio, self.fin)]\n",
    "        \n",
    "intervalo1 = Intervalo(1, 10)\n",
    "intervalo1.rango"
   ]
  },
  {
   "cell_type": "code",
   "execution_count": 20,
   "metadata": {},
   "outputs": [
    {
     "data": {
      "text/plain": [
       "[1, 2, 3, 4, 5, 6, 7, 8, 9]"
      ]
     },
     "execution_count": 20,
     "metadata": {},
     "output_type": "execute_result"
    }
   ],
   "source": [
    "class Intervalo:\n",
    "    def __init__(self, inicio: int, fin:int):\n",
    "        self.inicio: int = inicio\n",
    "        self.fin: int = fin\n",
    "        self.rango = [i for i in range(self.inicio, self.fin)]\n",
    "    \n",
    "intervalo1 = Intervalo(1, 10)\n",
    "intervalo1.rango"
   ]
  },
  {
   "cell_type": "code",
   "execution_count": 22,
   "metadata": {},
   "outputs": [],
   "source": [
    "from __future__ import annotations\n",
    "from datetime import date\n",
    "from functools import total_ordering\n",
    "\n",
    "@dataclass\n",
    "@total_ordering\n",
    "class Periodo:\n",
    "    fecha_inicio: date\n",
    "    fecha_fin: date\n",
    "\n",
    "    def __eq__(self, otro_periodo: Periodo) -> bool:\n",
    "        return (self.fecha_inicio, self.fecha_fin) == (otro_periodo.fecha_inicio, otro_periodo.fecha_fin)\n",
    "\n",
    "    def __lt__(self, otro_periodo: Periodo) -> bool:\n",
    "        return self.fecha_inicio < otro_periodo.fecha_fin"
   ]
  },
  {
   "cell_type": "code",
   "execution_count": 23,
   "metadata": {},
   "outputs": [],
   "source": [
    "periodo1 = Periodo(\n",
    "    fecha_inicio = date(2022, 10, 1),\n",
    "    fecha_fin = date(2022, 12, 1)\n",
    ")\n",
    "\n",
    "periodo2 = Periodo(\n",
    "    fecha_inicio = date(2022, 10, 1),\n",
    "    fecha_fin = date(2023, 1, 1)\n",
    ")\n"
   ]
  },
  {
   "cell_type": "code",
   "execution_count": 26,
   "metadata": {},
   "outputs": [
    {
     "data": {
      "text/plain": [
       "False"
      ]
     },
     "execution_count": 26,
     "metadata": {},
     "output_type": "execute_result"
    }
   ],
   "source": [
    "periodo1 == periodo2"
   ]
  },
  {
   "cell_type": "code",
   "execution_count": 33,
   "metadata": {},
   "outputs": [],
   "source": [
    "def funcion_decoradora(func):\n",
    "    def metodo_decorador(*args, **kwargs):\n",
    "        print(\"Antes de que se ejecute el método\")\n",
    "        func(*args, **kwargs)\n",
    "        print(\"El método ya se ha ejecutado\")\n",
    "    return metodo_decorador\n",
    "\n",
    "@funcion_decoradora\n",
    "def imprime_nombre(nombre: str):\n",
    "    print(nombre)\n",
    "\n",
    "imprime_nombre_modificado = funcion_decoradora(imprime_nombre)\n",
    "imprime_nombre_modificado(\"Sergio\")"
   ]
  },
  {
   "cell_type": "code",
   "execution_count": 34,
   "metadata": {},
   "outputs": [
    {
     "name": "stdout",
     "output_type": "stream",
     "text": [
      "Antes de que se ejecute el método\n",
      "Sergio\n",
      "El método ya se ha ejecutado\n"
     ]
    }
   ],
   "source": [
    "imprime_nombre(\"Sergio\")"
   ]
  }
 ],
 "metadata": {
  "kernelspec": {
   "display_name": "Python 3",
   "language": "python",
   "name": "python3"
  },
  "language_info": {
   "codemirror_mode": {
    "name": "ipython",
    "version": 3
   },
   "file_extension": ".py",
   "mimetype": "text/x-python",
   "name": "python",
   "nbconvert_exporter": "python",
   "pygments_lexer": "ipython3",
   "version": "3.10.12"
  }
 },
 "nbformat": 4,
 "nbformat_minor": 2
}
