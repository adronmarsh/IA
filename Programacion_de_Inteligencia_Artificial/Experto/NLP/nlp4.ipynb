{
 "cells": [
  {
   "cell_type": "markdown",
   "metadata": {},
   "source": [
    "# Generar texto"
   ]
  },
  {
   "cell_type": "markdown",
   "metadata": {},
   "source": [
    "## Importar librerías"
   ]
  },
  {
   "cell_type": "code",
   "execution_count": 1,
   "metadata": {},
   "outputs": [
    {
     "name": "stdout",
     "output_type": "stream",
     "text": [
      "WARNING:tensorflow:From C:\\Users\\AMG\\AppData\\Local\\Packages\\PythonSoftwareFoundation.Python.3.11_qbz5n2kfra8p0\\LocalCache\\local-packages\\Python311\\site-packages\\keras\\src\\losses.py:2976: The name tf.losses.sparse_softmax_cross_entropy is deprecated. Please use tf.compat.v1.losses.sparse_softmax_cross_entropy instead.\n",
      "\n"
     ]
    }
   ],
   "source": [
    "import tensorflow as tf\n",
    "import numpy as np\n",
    "from tensorflow.keras.preprocessing.text import Tokenizer\n",
    "from tensorflow.keras.preprocessing.sequence import pad_sequences"
   ]
  },
  {
   "cell_type": "markdown",
   "metadata": {},
   "source": [
    "## Importar datos"
   ]
  },
  {
   "cell_type": "code",
   "execution_count": 8,
   "metadata": {},
   "outputs": [
    {
     "name": "stdout",
     "output_type": "stream",
     "text": [
      "['for a while there, it was rough ', ' but lately, i have been doing better ', ' than the last four cold decembers ', ' i recall ', ' and i see my family every month ', ' i found a girl my parents love ', ' she will come and stay the night ', ' and i think i might have it all']\n"
     ]
    }
   ],
   "source": [
    "data=\"For a while there, it was rough \\n But lately, I have been doing better \\n Than the last four cold Decembers \\n I recall \\n And I see my family every month \\n I found a girl my parents love \\n She will come and stay the night \\n And I think I might have it all\"\n",
    "corpus = data.lower().split(\"\\n\") # Es una canción por lo que lo separamos en líneas\n",
    "print(corpus)"
   ]
  },
  {
   "cell_type": "markdown",
   "metadata": {},
   "source": [
    "## Tokenizar"
   ]
  },
  {
   "cell_type": "code",
   "execution_count": 10,
   "metadata": {},
   "outputs": [],
   "source": [
    "tokenizer = Tokenizer()\n",
    "tokenizer.fit_on_texts(corpus)\n",
    "total_words = len(tokenizer.word_index) + 1"
   ]
  },
  {
   "cell_type": "code",
   "execution_count": 12,
   "metadata": {},
   "outputs": [
    {
     "name": "stdout",
     "output_type": "stream",
     "text": [
      "{'i': 1, 'and': 2, 'a': 3, 'it': 4, 'have': 5, 'the': 6, 'my': 7, 'for': 8, 'while': 9, 'there': 10, 'was': 11, 'rough': 12, 'but': 13, 'lately': 14, 'been': 15, 'doing': 16, 'better': 17, 'than': 18, 'last': 19, 'four': 20, 'cold': 21, 'decembers': 22, 'recall': 23, 'see': 24, 'family': 25, 'every': 26, 'month': 27, 'found': 28, 'girl': 29, 'parents': 30, 'love': 31, 'she': 32, 'will': 33, 'come': 34, 'stay': 35, 'night': 36, 'think': 37, 'might': 38, 'all': 39}\n"
     ]
    }
   ],
   "source": [
    "print(tokenizer.word_index)"
   ]
  },
  {
   "cell_type": "markdown",
   "metadata": {},
   "source": [
    "Vamos a hacer algo parecido a lo siguiente:\n",
    "\n",
    "yo estoy usando Tensorflow\n",
    "\n",
    "yo ---> estoy\n",
    "\n",
    "yo estoy ---> usando\n",
    "\n",
    "yo estoy usando ---> Tensorflow\n"
   ]
  },
  {
   "cell_type": "code",
   "execution_count": 19,
   "metadata": {},
   "outputs": [],
   "source": [
    "# Tokeniza las palabras del dataset\n",
    "input_sequences = []\n",
    "for line in corpus:\n",
    "  token_list = tokenizer.texts_to_sequences([line])[0]\n",
    "  for i in range(1, len(token_list)):\n",
    "    sub_sequence = token_list[:i+1]\n",
    "    input_sequences.append(sub_sequence)\n",
    "\n",
    "max_sequence_len = max(len(x) for x in input_sequences) # Obtiene el número máximo de tokens por secuencia\n",
    "input_sequences = np.array(pad_sequences(input_sequences, maxlen=max_sequence_len, padding='pre'))\n",
    "xs, labels = input_sequences[:, :-1], input_sequences[:,-1]\n",
    "ys = tf.keras.utils.to_categorical(labels, num_classes=total_words)"
   ]
  },
  {
   "cell_type": "code",
   "execution_count": 20,
   "metadata": {},
   "outputs": [
    {
     "data": {
      "text/plain": [
       "array([0, 0, 0, 0, 0, 0, 8])"
      ]
     },
     "execution_count": 20,
     "metadata": {},
     "output_type": "execute_result"
    }
   ],
   "source": [
    "xs[0]"
   ]
  },
  {
   "cell_type": "code",
   "execution_count": null,
   "metadata": {},
   "outputs": [],
   "source": []
  }
 ],
 "metadata": {
  "kernelspec": {
   "display_name": "Python 3",
   "language": "python",
   "name": "python3"
  },
  "language_info": {
   "codemirror_mode": {
    "name": "ipython",
    "version": 3
   },
   "file_extension": ".py",
   "mimetype": "text/x-python",
   "name": "python",
   "nbconvert_exporter": "python",
   "pygments_lexer": "ipython3",
   "version": "3.11.8"
  }
 },
 "nbformat": 4,
 "nbformat_minor": 2
}
