{
 "cells": [
  {
   "cell_type": "markdown",
   "metadata": {},
   "source": [
    "# Generar texto"
   ]
  },
  {
   "cell_type": "markdown",
   "metadata": {},
   "source": [
    "## Importar librerías"
   ]
  },
  {
   "cell_type": "code",
   "execution_count": 1,
   "metadata": {},
   "outputs": [
    {
     "name": "stdout",
     "output_type": "stream",
     "text": [
      "WARNING:tensorflow:From C:\\Users\\AMG\\AppData\\Local\\Packages\\PythonSoftwareFoundation.Python.3.11_qbz5n2kfra8p0\\LocalCache\\local-packages\\Python311\\site-packages\\keras\\src\\losses.py:2976: The name tf.losses.sparse_softmax_cross_entropy is deprecated. Please use tf.compat.v1.losses.sparse_softmax_cross_entropy instead.\n",
      "\n"
     ]
    }
   ],
   "source": [
    "import tensorflow as tf\n",
    "import numpy as np\n",
    "from tensorflow.keras.preprocessing.text import Tokenizer\n",
    "from tensorflow.keras.preprocessing.sequence import pad_sequences"
   ]
  },
  {
   "cell_type": "markdown",
   "metadata": {},
   "source": [
    "## Importar datos"
   ]
  },
  {
   "cell_type": "code",
   "execution_count": 2,
   "metadata": {},
   "outputs": [
    {
     "name": "stdout",
     "output_type": "stream",
     "text": [
      "['for a while there, it was rough ', ' but lately, i have been doing better ', ' than the last four cold decembers ', ' i recall ', ' and i see my family every month ', ' i found a girl my parents love ', ' she will come and stay the night ', ' and i think i might have it all']\n"
     ]
    }
   ],
   "source": [
    "data=\"For a while there, it was rough \\n But lately, I have been doing better \\n Than the last four cold Decembers \\n I recall \\n And I see my family every month \\n I found a girl my parents love \\n She will come and stay the night \\n And I think I might have it all\"\n",
    "corpus = data.lower().split(\"\\n\") # Es una canción por lo que lo separamos en líneas\n",
    "print(corpus)"
   ]
  },
  {
   "cell_type": "markdown",
   "metadata": {},
   "source": [
    "## Tokenizar"
   ]
  },
  {
   "cell_type": "code",
   "execution_count": 3,
   "metadata": {},
   "outputs": [],
   "source": [
    "tokenizer = Tokenizer()\n",
    "tokenizer.fit_on_texts(corpus)\n",
    "total_words = len(tokenizer.word_index) + 1"
   ]
  },
  {
   "cell_type": "code",
   "execution_count": 4,
   "metadata": {},
   "outputs": [
    {
     "name": "stdout",
     "output_type": "stream",
     "text": [
      "{'i': 1, 'and': 2, 'a': 3, 'it': 4, 'have': 5, 'the': 6, 'my': 7, 'for': 8, 'while': 9, 'there': 10, 'was': 11, 'rough': 12, 'but': 13, 'lately': 14, 'been': 15, 'doing': 16, 'better': 17, 'than': 18, 'last': 19, 'four': 20, 'cold': 21, 'decembers': 22, 'recall': 23, 'see': 24, 'family': 25, 'every': 26, 'month': 27, 'found': 28, 'girl': 29, 'parents': 30, 'love': 31, 'she': 32, 'will': 33, 'come': 34, 'stay': 35, 'night': 36, 'think': 37, 'might': 38, 'all': 39}\n"
     ]
    }
   ],
   "source": [
    "print(tokenizer.word_index)"
   ]
  },
  {
   "cell_type": "markdown",
   "metadata": {},
   "source": [
    "Vamos a hacer algo parecido a lo siguiente:\n",
    "\n",
    "yo estoy usando Tensorflow\n",
    "\n",
    "yo ---> estoy\n",
    "\n",
    "yo estoy ---> usando\n",
    "\n",
    "yo estoy usando ---> Tensorflow\n"
   ]
  },
  {
   "cell_type": "code",
   "execution_count": 5,
   "metadata": {},
   "outputs": [],
   "source": [
    "# Tokeniza las palabras del dataset\n",
    "input_sequences = []\n",
    "for line in corpus:\n",
    "  token_list = tokenizer.texts_to_sequences([line])[0]\n",
    "  for i in range(1, len(token_list)):\n",
    "    sub_sequence = token_list[:i+1]\n",
    "    input_sequences.append(sub_sequence)\n",
    "\n",
    "max_sequence_len = max(len(x) for x in input_sequences) # Obtiene el número máximo de tokens por secuencia\n",
    "input_sequences = np.array(pad_sequences(input_sequences, maxlen=max_sequence_len, padding='pre'))\n",
    "xs, labels = input_sequences[:, :-1], input_sequences[:,-1]\n",
    "ys = tf.keras.utils.to_categorical(labels, num_classes=total_words)"
   ]
  },
  {
   "cell_type": "code",
   "execution_count": 6,
   "metadata": {},
   "outputs": [
    {
     "name": "stdout",
     "output_type": "stream",
     "text": [
      "Sample sentence: ['but', 'lately,', 'i', 'have', 'been', 'doing', 'better']\n"
     ]
    },
    {
     "ename": "KeyError",
     "evalue": "'lately,'",
     "output_type": "error",
     "traceback": [
      "\u001b[1;31m---------------------------------------------------------------------------\u001b[0m",
      "\u001b[1;31mKeyError\u001b[0m                                  Traceback (most recent call last)",
      "Cell \u001b[1;32mIn[6], line 6\u001b[0m\n\u001b[0;32m      4\u001b[0m token_list \u001b[38;5;241m=\u001b[39m []\n\u001b[0;32m      5\u001b[0m \u001b[38;5;28;01mfor\u001b[39;00m word \u001b[38;5;129;01min\u001b[39;00m sentence:\n\u001b[1;32m----> 6\u001b[0m   token_list\u001b[38;5;241m.\u001b[39mappend(\u001b[43mtokenizer\u001b[49m\u001b[38;5;241;43m.\u001b[39;49m\u001b[43mword_index\u001b[49m\u001b[43m[\u001b[49m\u001b[43mword\u001b[49m\u001b[43m]\u001b[49m)\n\u001b[0;32m      8\u001b[0m \u001b[38;5;28mprint\u001b[39m(token_list)\n",
      "\u001b[1;31mKeyError\u001b[0m: 'lately,'"
     ]
    }
   ],
   "source": [
    "sentence = corpus[1].split()\n",
    "print(f\"Sample sentence: {sentence}\")\n",
    "\n",
    "token_list = []\n",
    "for word in sentence:\n",
    "  token_list.append(tokenizer.word_index[word])\n",
    "\n",
    "print(token_list)"
   ]
  },
  {
   "cell_type": "code",
   "execution_count": 7,
   "metadata": {},
   "outputs": [
    {
     "name": "stdout",
     "output_type": "stream",
     "text": [
      "WARNING:tensorflow:From C:\\Users\\AMG\\AppData\\Local\\Packages\\PythonSoftwareFoundation.Python.3.11_qbz5n2kfra8p0\\LocalCache\\local-packages\\Python311\\site-packages\\keras\\src\\backend.py:873: The name tf.get_default_graph is deprecated. Please use tf.compat.v1.get_default_graph instead.\n",
      "\n",
      "WARNING:tensorflow:From C:\\Users\\AMG\\AppData\\Local\\Packages\\PythonSoftwareFoundation.Python.3.11_qbz5n2kfra8p0\\LocalCache\\local-packages\\Python311\\site-packages\\keras\\src\\optimizers\\__init__.py:309: The name tf.train.Optimizer is deprecated. Please use tf.compat.v1.train.Optimizer instead.\n",
      "\n",
      "Model: \"sequential\"\n",
      "_________________________________________________________________\n",
      " Layer (type)                Output Shape              Param #   \n",
      "=================================================================\n",
      " embedding (Embedding)       (None, 7, 64)             2560      \n",
      "                                                                 \n",
      " bidirectional (Bidirection  (None, 96)                43392     \n",
      " al)                                                             \n",
      "                                                                 \n",
      " dense (Dense)               (None, 36)                3492      \n",
      "                                                                 \n",
      " dense_1 (Dense)             (None, 40)                1480      \n",
      "                                                                 \n",
      "=================================================================\n",
      "Total params: 50924 (198.92 KB)\n",
      "Trainable params: 50924 (198.92 KB)\n",
      "Non-trainable params: 0 (0.00 Byte)\n",
      "_________________________________________________________________\n"
     ]
    }
   ],
   "source": [
    "model = tf.keras.Sequential([\n",
    "    tf.keras.layers.Embedding(total_words, 64, input_length=7),\n",
    "    tf.keras.layers.Bidirectional(tf.keras.layers.LSTM(48)),\n",
    "    tf.keras.layers.Dense(36, activation='relu'),\n",
    "    tf.keras.layers.Dense(total_words, activation='softmax')\n",
    "])\n",
    "model.compile(loss='categorical_crossentropy', optimizer='adam', metrics=['accuracy'])\n",
    "model.summary()"
   ]
  },
  {
   "cell_type": "code",
   "execution_count": 8,
   "metadata": {},
   "outputs": [
    {
     "name": "stdout",
     "output_type": "stream",
     "text": [
      "Epoch 1/100\n",
      "WARNING:tensorflow:From C:\\Users\\AMG\\AppData\\Local\\Packages\\PythonSoftwareFoundation.Python.3.11_qbz5n2kfra8p0\\LocalCache\\local-packages\\Python311\\site-packages\\keras\\src\\utils\\tf_utils.py:492: The name tf.ragged.RaggedTensorValue is deprecated. Please use tf.compat.v1.ragged.RaggedTensorValue instead.\n",
      "\n",
      "WARNING:tensorflow:From C:\\Users\\AMG\\AppData\\Local\\Packages\\PythonSoftwareFoundation.Python.3.11_qbz5n2kfra8p0\\LocalCache\\local-packages\\Python311\\site-packages\\keras\\src\\engine\\base_layer_utils.py:384: The name tf.executing_eagerly_outside_functions is deprecated. Please use tf.compat.v1.executing_eagerly_outside_functions instead.\n",
      "\n",
      "2/2 [==============================] - 15s 14ms/step - loss: 3.6912 - accuracy: 0.0233\n",
      "Epoch 2/100\n",
      "2/2 [==============================] - 0s 10ms/step - loss: 3.6854 - accuracy: 0.0930\n",
      "Epoch 3/100\n",
      "2/2 [==============================] - 0s 17ms/step - loss: 3.6817 - accuracy: 0.1163\n",
      "Epoch 4/100\n",
      "2/2 [==============================] - 0s 18ms/step - loss: 3.6782 - accuracy: 0.1163\n",
      "Epoch 5/100\n",
      "2/2 [==============================] - 0s 15ms/step - loss: 3.6742 - accuracy: 0.1163\n",
      "Epoch 6/100\n",
      "2/2 [==============================] - 0s 14ms/step - loss: 3.6695 - accuracy: 0.1163\n",
      "Epoch 7/100\n",
      "2/2 [==============================] - 0s 15ms/step - loss: 3.6645 - accuracy: 0.1163\n",
      "Epoch 8/100\n",
      "2/2 [==============================] - 0s 9ms/step - loss: 3.6588 - accuracy: 0.1163\n",
      "Epoch 9/100\n",
      "2/2 [==============================] - 0s 13ms/step - loss: 3.6519 - accuracy: 0.1163\n",
      "Epoch 10/100\n",
      "2/2 [==============================] - 0s 12ms/step - loss: 3.6457 - accuracy: 0.1163\n",
      "Epoch 11/100\n",
      "2/2 [==============================] - 0s 12ms/step - loss: 3.6355 - accuracy: 0.1163\n",
      "Epoch 12/100\n",
      "2/2 [==============================] - 0s 16ms/step - loss: 3.6262 - accuracy: 0.1163\n",
      "Epoch 13/100\n",
      "2/2 [==============================] - 0s 19ms/step - loss: 3.6139 - accuracy: 0.1163\n",
      "Epoch 14/100\n",
      "2/2 [==============================] - 0s 14ms/step - loss: 3.6013 - accuracy: 0.1163\n",
      "Epoch 15/100\n",
      "2/2 [==============================] - 0s 14ms/step - loss: 3.5867 - accuracy: 0.1163\n",
      "Epoch 16/100\n",
      "2/2 [==============================] - 0s 13ms/step - loss: 3.5658 - accuracy: 0.1163\n",
      "Epoch 17/100\n",
      "2/2 [==============================] - 0s 10ms/step - loss: 3.5462 - accuracy: 0.0930\n",
      "Epoch 18/100\n",
      "2/2 [==============================] - 0s 11ms/step - loss: 3.5291 - accuracy: 0.0930\n",
      "Epoch 19/100\n",
      "2/2 [==============================] - 0s 11ms/step - loss: 3.5018 - accuracy: 0.0930\n",
      "Epoch 20/100\n",
      "2/2 [==============================] - 0s 16ms/step - loss: 3.4802 - accuracy: 0.0930\n",
      "Epoch 21/100\n",
      "2/2 [==============================] - 0s 13ms/step - loss: 3.4525 - accuracy: 0.0930\n",
      "Epoch 22/100\n",
      "2/2 [==============================] - 0s 11ms/step - loss: 3.4364 - accuracy: 0.0930\n",
      "Epoch 23/100\n",
      "2/2 [==============================] - 0s 16ms/step - loss: 3.4135 - accuracy: 0.0930\n",
      "Epoch 24/100\n",
      "2/2 [==============================] - 0s 12ms/step - loss: 3.3954 - accuracy: 0.0930\n",
      "Epoch 25/100\n",
      "2/2 [==============================] - 0s 15ms/step - loss: 3.3763 - accuracy: 0.0930\n",
      "Epoch 26/100\n",
      "2/2 [==============================] - 0s 15ms/step - loss: 3.3532 - accuracy: 0.0930\n",
      "Epoch 27/100\n",
      "2/2 [==============================] - 0s 9ms/step - loss: 3.3282 - accuracy: 0.0930\n",
      "Epoch 28/100\n",
      "2/2 [==============================] - 0s 14ms/step - loss: 3.3044 - accuracy: 0.1395\n",
      "Epoch 29/100\n",
      "2/2 [==============================] - 0s 14ms/step - loss: 3.2806 - accuracy: 0.1395\n",
      "Epoch 30/100\n",
      "2/2 [==============================] - 0s 11ms/step - loss: 3.2592 - accuracy: 0.1628\n",
      "Epoch 31/100\n",
      "2/2 [==============================] - 0s 12ms/step - loss: 3.2369 - accuracy: 0.1628\n",
      "Epoch 32/100\n",
      "2/2 [==============================] - 0s 20ms/step - loss: 3.2103 - accuracy: 0.1628\n",
      "Epoch 33/100\n",
      "2/2 [==============================] - 0s 12ms/step - loss: 3.1840 - accuracy: 0.1628\n",
      "Epoch 34/100\n",
      "2/2 [==============================] - 0s 11ms/step - loss: 3.1550 - accuracy: 0.1628\n",
      "Epoch 35/100\n",
      "2/2 [==============================] - 0s 10ms/step - loss: 3.1254 - accuracy: 0.1628\n",
      "Epoch 36/100\n",
      "2/2 [==============================] - 0s 11ms/step - loss: 3.0931 - accuracy: 0.1860\n",
      "Epoch 37/100\n",
      "2/2 [==============================] - 0s 12ms/step - loss: 3.0566 - accuracy: 0.2093\n",
      "Epoch 38/100\n",
      "2/2 [==============================] - 0s 9ms/step - loss: 3.0225 - accuracy: 0.2093\n",
      "Epoch 39/100\n",
      "2/2 [==============================] - 0s 10ms/step - loss: 2.9769 - accuracy: 0.2326\n",
      "Epoch 40/100\n",
      "2/2 [==============================] - 0s 9ms/step - loss: 2.9383 - accuracy: 0.2791\n",
      "Epoch 41/100\n",
      "2/2 [==============================] - 0s 13ms/step - loss: 2.8918 - accuracy: 0.2791\n",
      "Epoch 42/100\n",
      "2/2 [==============================] - 0s 13ms/step - loss: 2.8529 - accuracy: 0.2326\n",
      "Epoch 43/100\n",
      "2/2 [==============================] - 0s 14ms/step - loss: 2.8048 - accuracy: 0.2326\n",
      "Epoch 44/100\n",
      "2/2 [==============================] - 0s 13ms/step - loss: 2.7779 - accuracy: 0.2326\n",
      "Epoch 45/100\n",
      "2/2 [==============================] - 0s 26ms/step - loss: 2.7278 - accuracy: 0.2326\n",
      "Epoch 46/100\n",
      "2/2 [==============================] - 0s 23ms/step - loss: 2.6776 - accuracy: 0.2326\n",
      "Epoch 47/100\n",
      "2/2 [==============================] - 0s 13ms/step - loss: 2.6273 - accuracy: 0.2558\n",
      "Epoch 48/100\n",
      "2/2 [==============================] - 0s 19ms/step - loss: 2.5810 - accuracy: 0.2558\n",
      "Epoch 49/100\n",
      "2/2 [==============================] - 0s 14ms/step - loss: 2.5343 - accuracy: 0.2791\n",
      "Epoch 50/100\n",
      "2/2 [==============================] - 0s 11ms/step - loss: 2.4763 - accuracy: 0.3023\n",
      "Epoch 51/100\n",
      "2/2 [==============================] - 0s 11ms/step - loss: 2.4236 - accuracy: 0.2791\n",
      "Epoch 52/100\n",
      "2/2 [==============================] - 0s 8ms/step - loss: 2.3733 - accuracy: 0.2791\n",
      "Epoch 53/100\n",
      "2/2 [==============================] - 0s 11ms/step - loss: 2.3192 - accuracy: 0.2558\n",
      "Epoch 54/100\n",
      "2/2 [==============================] - 0s 17ms/step - loss: 2.2683 - accuracy: 0.3023\n",
      "Epoch 55/100\n",
      "2/2 [==============================] - 0s 14ms/step - loss: 2.2144 - accuracy: 0.3023\n",
      "Epoch 56/100\n",
      "2/2 [==============================] - 0s 12ms/step - loss: 2.1604 - accuracy: 0.3488\n",
      "Epoch 57/100\n",
      "2/2 [==============================] - 0s 10ms/step - loss: 2.1064 - accuracy: 0.3488\n",
      "Epoch 58/100\n",
      "2/2 [==============================] - 0s 18ms/step - loss: 2.0503 - accuracy: 0.3953\n",
      "Epoch 59/100\n",
      "2/2 [==============================] - 0s 20ms/step - loss: 1.9895 - accuracy: 0.3953\n",
      "Epoch 60/100\n",
      "2/2 [==============================] - 0s 16ms/step - loss: 1.9264 - accuracy: 0.4419\n",
      "Epoch 61/100\n",
      "2/2 [==============================] - 0s 10ms/step - loss: 1.8646 - accuracy: 0.4884\n",
      "Epoch 62/100\n",
      "2/2 [==============================] - 0s 11ms/step - loss: 1.8035 - accuracy: 0.4884\n",
      "Epoch 63/100\n",
      "2/2 [==============================] - 0s 12ms/step - loss: 1.7453 - accuracy: 0.4651\n",
      "Epoch 64/100\n",
      "2/2 [==============================] - 0s 13ms/step - loss: 1.7031 - accuracy: 0.4884\n",
      "Epoch 65/100\n",
      "2/2 [==============================] - 0s 10ms/step - loss: 1.6495 - accuracy: 0.5116\n",
      "Epoch 66/100\n",
      "2/2 [==============================] - 0s 11ms/step - loss: 1.5862 - accuracy: 0.6047\n",
      "Epoch 67/100\n",
      "2/2 [==============================] - 0s 10ms/step - loss: 1.5391 - accuracy: 0.6512\n",
      "Epoch 68/100\n",
      "2/2 [==============================] - 0s 10ms/step - loss: 1.4855 - accuracy: 0.6512\n",
      "Epoch 69/100\n",
      "2/2 [==============================] - 0s 14ms/step - loss: 1.4337 - accuracy: 0.6744\n",
      "Epoch 70/100\n",
      "2/2 [==============================] - 0s 10ms/step - loss: 1.3820 - accuracy: 0.6977\n",
      "Epoch 71/100\n",
      "2/2 [==============================] - 0s 9ms/step - loss: 1.3412 - accuracy: 0.6977\n",
      "Epoch 72/100\n",
      "2/2 [==============================] - 0s 10ms/step - loss: 1.2943 - accuracy: 0.6977\n",
      "Epoch 73/100\n",
      "2/2 [==============================] - 0s 10ms/step - loss: 1.2528 - accuracy: 0.7209\n",
      "Epoch 74/100\n",
      "2/2 [==============================] - 0s 49ms/step - loss: 1.2139 - accuracy: 0.6977\n",
      "Epoch 75/100\n",
      "2/2 [==============================] - 0s 8ms/step - loss: 1.1747 - accuracy: 0.7209\n",
      "Epoch 76/100\n",
      "2/2 [==============================] - 0s 7ms/step - loss: 1.1405 - accuracy: 0.7442\n",
      "Epoch 77/100\n",
      "2/2 [==============================] - 0s 11ms/step - loss: 1.1028 - accuracy: 0.7674\n",
      "Epoch 78/100\n",
      "2/2 [==============================] - 0s 16ms/step - loss: 1.0640 - accuracy: 0.7907\n",
      "Epoch 79/100\n",
      "2/2 [==============================] - 0s 10ms/step - loss: 1.0450 - accuracy: 0.7907\n",
      "Epoch 80/100\n",
      "2/2 [==============================] - 0s 10ms/step - loss: 1.0087 - accuracy: 0.7907\n",
      "Epoch 81/100\n",
      "2/2 [==============================] - 0s 15ms/step - loss: 0.9692 - accuracy: 0.8372\n",
      "Epoch 82/100\n",
      "2/2 [==============================] - 0s 18ms/step - loss: 0.9439 - accuracy: 0.8372\n",
      "Epoch 83/100\n",
      "2/2 [==============================] - 0s 9ms/step - loss: 0.9128 - accuracy: 0.8605\n",
      "Epoch 84/100\n",
      "2/2 [==============================] - 0s 16ms/step - loss: 0.8966 - accuracy: 0.8837\n",
      "Epoch 85/100\n",
      "2/2 [==============================] - 0s 16ms/step - loss: 0.8685 - accuracy: 0.8837\n",
      "Epoch 86/100\n",
      "2/2 [==============================] - 0s 9ms/step - loss: 0.8509 - accuracy: 0.8372\n",
      "Epoch 87/100\n",
      "2/2 [==============================] - 0s 11ms/step - loss: 0.8305 - accuracy: 0.8372\n",
      "Epoch 88/100\n",
      "2/2 [==============================] - 0s 12ms/step - loss: 0.8011 - accuracy: 0.8372\n",
      "Epoch 89/100\n",
      "2/2 [==============================] - 0s 12ms/step - loss: 0.7757 - accuracy: 0.8605\n",
      "Epoch 90/100\n",
      "2/2 [==============================] - 0s 12ms/step - loss: 0.7507 - accuracy: 0.8837\n",
      "Epoch 91/100\n",
      "2/2 [==============================] - 0s 23ms/step - loss: 0.7297 - accuracy: 0.8837\n",
      "Epoch 92/100\n",
      "2/2 [==============================] - 0s 10ms/step - loss: 0.7086 - accuracy: 0.9070\n",
      "Epoch 93/100\n",
      "2/2 [==============================] - 0s 18ms/step - loss: 0.6913 - accuracy: 0.9070\n",
      "Epoch 94/100\n",
      "2/2 [==============================] - 0s 16ms/step - loss: 0.6702 - accuracy: 0.9070\n",
      "Epoch 95/100\n",
      "2/2 [==============================] - 0s 11ms/step - loss: 0.6514 - accuracy: 0.9070\n",
      "Epoch 96/100\n",
      "2/2 [==============================] - 0s 14ms/step - loss: 0.6341 - accuracy: 0.9070\n",
      "Epoch 97/100\n",
      "2/2 [==============================] - 0s 42ms/step - loss: 0.6190 - accuracy: 0.8837\n",
      "Epoch 98/100\n",
      "2/2 [==============================] - 0s 16ms/step - loss: 0.6012 - accuracy: 0.9302\n",
      "Epoch 99/100\n",
      "2/2 [==============================] - 0s 9ms/step - loss: 0.5857 - accuracy: 0.9302\n",
      "Epoch 100/100\n",
      "2/2 [==============================] - 0s 9ms/step - loss: 0.5716 - accuracy: 0.9302\n"
     ]
    }
   ],
   "source": [
    "history = model.fit(xs, ys, epochs=100)"
   ]
  },
  {
   "cell_type": "code",
   "execution_count": 9,
   "metadata": {},
   "outputs": [],
   "source": [
    "import matplotlib.pyplot as plt\n",
    "\n",
    "def plot_graphs(history, string):\n",
    "  plt.plot(history.history[string])\n",
    "  plt.xlabel(\"Epochs\")\n",
    "  plt.ylabel(string)\n",
    "  plt.show()"
   ]
  },
  {
   "cell_type": "code",
   "execution_count": 10,
   "metadata": {},
   "outputs": [
    {
     "data": {
      "text/plain": [
       "[0.023255813866853714,\n",
       " 0.09302325546741486,\n",
       " 0.11627907305955887,\n",
       " 0.11627907305955887,\n",
       " 0.11627907305955887,\n",
       " 0.11627907305955887,\n",
       " 0.11627907305955887,\n",
       " 0.11627907305955887,\n",
       " 0.11627907305955887,\n",
       " 0.11627907305955887,\n",
       " 0.11627907305955887,\n",
       " 0.11627907305955887,\n",
       " 0.11627907305955887,\n",
       " 0.11627907305955887,\n",
       " 0.11627907305955887,\n",
       " 0.11627907305955887,\n",
       " 0.09302325546741486,\n",
       " 0.09302325546741486,\n",
       " 0.09302325546741486,\n",
       " 0.09302325546741486,\n",
       " 0.09302325546741486,\n",
       " 0.09302325546741486,\n",
       " 0.09302325546741486,\n",
       " 0.09302325546741486,\n",
       " 0.09302325546741486,\n",
       " 0.09302325546741486,\n",
       " 0.09302325546741486,\n",
       " 0.13953489065170288,\n",
       " 0.13953489065170288,\n",
       " 0.1627907007932663,\n",
       " 0.1627907007932663,\n",
       " 0.1627907007932663,\n",
       " 0.1627907007932663,\n",
       " 0.1627907007932663,\n",
       " 0.1627907007932663,\n",
       " 0.1860465109348297,\n",
       " 0.20930232107639313,\n",
       " 0.20930232107639313,\n",
       " 0.23255814611911774,\n",
       " 0.27906978130340576,\n",
       " 0.27906978130340576,\n",
       " 0.23255814611911774,\n",
       " 0.23255814611911774,\n",
       " 0.23255814611911774,\n",
       " 0.23255814611911774,\n",
       " 0.23255814611911774,\n",
       " 0.25581395626068115,\n",
       " 0.25581395626068115,\n",
       " 0.27906978130340576,\n",
       " 0.302325576543808,\n",
       " 0.27906978130340576,\n",
       " 0.27906978130340576,\n",
       " 0.25581395626068115,\n",
       " 0.302325576543808,\n",
       " 0.302325576543808,\n",
       " 0.3488371968269348,\n",
       " 0.3488371968269348,\n",
       " 0.39534884691238403,\n",
       " 0.39534884691238403,\n",
       " 0.44186046719551086,\n",
       " 0.4883720874786377,\n",
       " 0.4883720874786377,\n",
       " 0.4651162922382355,\n",
       " 0.4883720874786377,\n",
       " 0.5116279125213623,\n",
       " 0.604651153087616,\n",
       " 0.6511628031730652,\n",
       " 0.6511628031730652,\n",
       " 0.6744186282157898,\n",
       " 0.6976743936538696,\n",
       " 0.6976743936538696,\n",
       " 0.6976743936538696,\n",
       " 0.7209302186965942,\n",
       " 0.6976743936538696,\n",
       " 0.7209302186965942,\n",
       " 0.7441860437393188,\n",
       " 0.7674418687820435,\n",
       " 0.7906976938247681,\n",
       " 0.7906976938247681,\n",
       " 0.7906976938247681,\n",
       " 0.8372092843055725,\n",
       " 0.8372092843055725,\n",
       " 0.8604651093482971,\n",
       " 0.8837209343910217,\n",
       " 0.8837209343910217,\n",
       " 0.8372092843055725,\n",
       " 0.8372092843055725,\n",
       " 0.8372092843055725,\n",
       " 0.8604651093482971,\n",
       " 0.8837209343910217,\n",
       " 0.8837209343910217,\n",
       " 0.9069767594337463,\n",
       " 0.9069767594337463,\n",
       " 0.9069767594337463,\n",
       " 0.9069767594337463,\n",
       " 0.9069767594337463,\n",
       " 0.8837209343910217,\n",
       " 0.930232584476471,\n",
       " 0.930232584476471,\n",
       " 0.930232584476471]"
      ]
     },
     "execution_count": 10,
     "metadata": {},
     "output_type": "execute_result"
    }
   ],
   "source": [
    "history.history['accuracy']"
   ]
  },
  {
   "cell_type": "code",
   "execution_count": 11,
   "metadata": {},
   "outputs": [
    {
     "data": {
      "image/png": "[encoded data removed]",
      "text/plain": [
       "<Figure size 640x480 with 1 Axes>"
      ]
     },
     "metadata": {},
     "output_type": "display_data"
    }
   ],
   "source": [
    "plot_graphs(history, 'accuracy')"
   ]
  },
  {
   "cell_type": "markdown",
   "metadata": {},
   "source": [
    "### Predecir 3 palabras siguientes"
   ]
  },
  {
   "cell_type": "code",
   "execution_count": 20,
   "metadata": {},
   "outputs": [
    {
     "name": "stdout",
     "output_type": "stream",
     "text": [
      "1/1 [==============================] - 0s 66ms/step\n",
      "than the last four\n",
      "1/1 [==============================] - 0s 62ms/step\n",
      "than the last four cold\n",
      "1/1 [==============================] - 0s 51ms/step\n",
      "than the last four cold decembers\n"
     ]
    }
   ],
   "source": [
    "seed_text = \"than the last\"\n",
    "next_words = 3\n",
    "\n",
    "for _ in range(next_words):\n",
    "  token_list = tokenizer.texts_to_sequences([seed_text])[0]\n",
    "  token_list = pad_sequences([token_list], maxlen=max_sequence_len-1, padding='pre')\n",
    "  probabilities = model.predict(token_list)\n",
    "  predicted = np.argmax(probabilities, axis=-1)[0]\n",
    "  if predicted != 0:\n",
    "    output_word = tokenizer.index_word[predicted]\n",
    "    seed_text += \" \" + output_word\n",
    "    print(seed_text)"
   ]
  },
  {
   "cell_type": "markdown",
   "metadata": {},
   "source": [
    "### Dara aleatoridad a la predicción"
   ]
  },
  {
   "cell_type": "code",
   "execution_count": 23,
   "metadata": {},
   "outputs": [
    {
     "name": "stdout",
     "output_type": "stream",
     "text": [
      "1/1 [==============================] - 0s 60ms/step\n",
      "than the last cold\n",
      "1/1 [==============================] - 0s 63ms/step\n",
      "than the last cold four\n",
      "1/1 [==============================] - 0s 62ms/step\n",
      "than the last cold four decembers\n"
     ]
    }
   ],
   "source": [
    "seed_text = \"than the last\"\n",
    "next_words = 3\n",
    "\n",
    "for _ in range(next_words):\n",
    "  token_list = tokenizer.texts_to_sequences([seed_text])[0]\n",
    "  token_list = pad_sequences([token_list], maxlen=max_sequence_len-1, padding='pre')\n",
    "  probabilities = model.predict(token_list)\n",
    "\n",
    "  choice = np.random.choice([1,2,3])\n",
    "  predicted = np.argsort(probabilities, axis=-1)[0][-choice]\n",
    "  if predicted != 0:\n",
    "    output_word = tokenizer.index_word[predicted]\n",
    "    seed_text += \" \" + output_word\n",
    "    print(seed_text)"
   ]
  }
 ],
 "metadata": {
  "kernelspec": {
   "display_name": "Python 3",
   "language": "python",
   "name": "python3"
  },
  "language_info": {
   "codemirror_mode": {
    "name": "ipython",
    "version": 3
   },
   "file_extension": ".py",
   "mimetype": "text/x-python",
   "name": "python",
   "nbconvert_exporter": "python",
   "pygments_lexer": "ipython3",
   "version": "3.11.8"
  }
 },
 "nbformat": 4,
 "nbformat_minor": 2
}
