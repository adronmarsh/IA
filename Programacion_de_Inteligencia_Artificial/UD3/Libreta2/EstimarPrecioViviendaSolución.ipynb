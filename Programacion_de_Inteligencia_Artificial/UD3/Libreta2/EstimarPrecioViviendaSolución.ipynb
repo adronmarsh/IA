{
  "cells": [
    {
      "cell_type": "markdown",
      "metadata": {
        "id": "OW1HrglD0Bwd"
      },
      "source": [
        "\\# Ejercicio práctico: Estimar los precios de una vivienda"
      ]
    },
    {
      "cell_type": "markdown",
      "metadata": {
        "id": "FBHGhqV0z8x2"
      },
      "source": [
        "A continuación realizaremos un pequeño ejercicio para estimar el precio de una vivienda a partir del número de habitaciones.\n",
        "\n",
        "Imaginemos que el precio de la vivienda parte de base de 50.000€, y cada dormitorio proporciona un coste extra de 50.000€. A modo de ejemplo, una casa de 1 un dormitorio costará 100.000€, y una de dos costará 150.000€.\n",
        "\n",
        "¿Cómo crearíamos una red neuronal que aprenda esta relación para predecir que una casa de 7 habitaciones cuesta cerca de 400k, etc?\n",
        "\n",
        "Las redes neruonales se comportan mejor cuando los valores se encuentran en escalas pequeñas, por lo que en lugar de 150.000€, podemos utilizar 15, sabiendo que representa decenas de miles de euros."
      ]
    },
    {
      "cell_type": "code",
      "execution_count": null,
      "metadata": {
        "id": "-ceVP_ci2I1F"
      },
      "outputs": [],
      "source": [
        "import tensorflow as tf\n",
        "import numpy as np\n",
        "from tensorflow import keras"
      ]
    },
    {
      "cell_type": "code",
      "execution_count": null,
      "metadata": {
        "id": "Z0WbgV2Ez8Se"
      },
      "outputs": [],
      "source": [
        "def precio_vivienda():\n",
        "    # Define los vectores de entrenamiento\n",
        "    x = np.array([1.0, 2.0, 3.0, 4.0, 5.0], dtype=float)\n",
        "    y = np.array([10.0, 15.0, 20.0, 25.0, 30.0], dtype=float)\n",
        "    # Define la red neuronal. Una simple capa de una simple neurona será suficiente.\n",
        "    model = tf.keras.Sequential([keras.layers.Dense(units=1, input_shape=[1])])\n",
        "    # Compilamos el modelo\n",
        "    model.compile(optimizer='sgd', loss='mean_squared_error')\n",
        "    # Establece el optimizador como Stochastic Gradient Descent\n",
        "    # Utiliza error cuadrático medio como loss function\n",
        "    model.fit(x, y, epochs = 1)\n",
        "    # Entrena el modelo\n",
        "    return model"
      ]
    },
    {
      "cell_type": "code",
      "execution_count": null,
      "metadata": {
        "colab": {
          "base_uri": "https://localhost:8080/"
        },
        "id": "WTA8gHss2QvE",
        "outputId": "651686e8-0af0-482b-a67f-8cd2dad3c140"
      },
      "outputs": [
        {
          "name": "stdout",
          "output_type": "stream",
          "text": [
            "1/1 [==============================] - 0s 325ms/step - loss: 270.9254\n"
          ]
        }
      ],
      "source": [
        "model=precio_vivienda()"
      ]
    },
    {
      "cell_type": "code",
      "execution_count": null,
      "metadata": {
        "colab": {
          "base_uri": "https://localhost:8080/"
        },
        "id": "QWOwx2Fe2Tz0",
        "outputId": "5c50cf48-bf41-4c3d-ab95-b8900217e7e6"
      },
      "outputs": [
        {
          "name": "stdout",
          "output_type": "stream",
          "text": [
            "1/1 [==============================] - 0s 27ms/step\n"
          ]
        },
        {
          "data": {
            "text/plain": [
              "array([[17.990171]], dtype=float32)"
            ]
          },
          "execution_count": 6,
          "metadata": {},
          "output_type": "execute_result"
        }
      ],
      "source": [
        "new_home = 7.0\n",
        "model.predict([new_home])\n"
      ]
    }
  ],
  "metadata": {
    "colab": {
      "provenance": []
    },
    "kernelspec": {
      "display_name": "Python 3",
      "name": "python3"
    },
    "language_info": {
      "name": "python"
    }
  },
  "nbformat": 4,
  "nbformat_minor": 0
}
