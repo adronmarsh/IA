{
  "cells": [
    {
      "cell_type": "markdown",
      "metadata": {
        "id": "qzRccjk0kMtt"
      },
      "source": [
        "# Aproximación de una función definida"
      ]
    },
    {
      "cell_type": "markdown",
      "metadata": {
        "id": "XEk1Hp5_kUKK"
      },
      "source": [
        "Comenzaremos con algo simple que nos permita adquirir una buena base. En esta ocasión la red neuronal aprenderá la siguiente relación entre dos números. La relación viene determinada por la siguiente expresión:\n",
        "\n",
        "```\n",
        "def función_hw(x):\n",
        "     y = (2 * x) - 1\n",
        "     return y\n",
        "```\n",
        "\n",
        "Entonces, ¿cómo puede aprender una relación que a priori es deconocida? ¡Usando datos! Al alimentarlo con un conjunto de x e y, debería poder descubrir la relación entre ellos.\n",
        "Obviamente, este es un paradigma muy diferente de lo que podríamos estar acostumbrado."
      ]
    },
    {
      "cell_type": "markdown",
      "metadata": {
        "id": "QC06rvvDkaTl"
      },
      "source": [
        "## Importamos los modulos que vamos a necesitar\n",
        "\n",
        "Importamos [TensorFlow](https://www.tensorflow.org/) y lo llamamos `tf` por convención y facilidad de uso.\n",
        "\n",
        "Luego, importamos una biblioteca llamada [`numpy`](https://numpy.org) que ayuda a representar los datos como matrices fácilmente y a optimizar las operaciones numéricas.\n",
        "\n",
        "El marco que usará para construir una red neuronal como una secuencia de capas se llama [`keras`](https://keras.io/)."
      ]
    },
    {
      "cell_type": "code",
      "execution_count": 45,
      "metadata": {
        "id": "Mm5rsct4km5N"
      },
      "outputs": [],
      "source": [
        "import tensorflow as tf\n",
        "import numpy as np\n",
        "from tensorflow import keras"
      ]
    },
    {
      "cell_type": "code",
      "execution_count": 46,
      "metadata": {
        "colab": {
          "base_uri": "https://localhost:8080/",
          "height": 35
        },
        "id": "YxPMavNLjQ8B",
        "outputId": "c82284d4-a0cd-4f5f-9d10-8c760e856acd"
      },
      "outputs": [
        {
          "data": {
            "text/plain": [
              "'2.15.0'"
            ]
          },
          "execution_count": 46,
          "metadata": {},
          "output_type": "execute_result"
        }
      ],
      "source": [
        "tf.__version__"
      ]
    },
    {
      "cell_type": "code",
      "execution_count": 47,
      "metadata": {
        "colab": {
          "base_uri": "https://localhost:8080/"
        },
        "id": "qDRFC7icffa3",
        "outputId": "1b7b0392-d7c9-41a8-ab1e-02525c106c9d"
      },
      "outputs": [
        {
          "data": {
            "text/plain": [
              "['AggregationMethod',\n",
              " 'Assert',\n",
              " 'CriticalSection',\n",
              " 'DType',\n",
              " 'DeviceSpec',\n",
              " 'GradientTape',\n",
              " 'Graph',\n",
              " 'IndexedSlices',\n",
              " 'IndexedSlicesSpec',\n",
              " 'Module',\n",
              " 'Operation',\n",
              " 'OptionalSpec',\n",
              " 'RaggedTensor',\n",
              " 'RaggedTensorSpec',\n",
              " 'RegisterGradient',\n",
              " 'SparseTensor',\n",
              " 'SparseTensorSpec',\n",
              " 'Tensor',\n",
              " 'TensorArray',\n",
              " 'TensorArraySpec',\n",
              " 'TensorShape',\n",
              " 'TensorSpec',\n",
              " 'TypeSpec',\n",
              " 'UnconnectedGradients',\n",
              " 'Variable',\n",
              " 'VariableAggregation',\n",
              " 'VariableSynchronization',\n",
              " '_API_MODULE',\n",
              " '_KerasLazyLoader',\n",
              " '_LazyLoader',\n",
              " '__all__',\n",
              " '__builtins__',\n",
              " '__cached__',\n",
              " '__compiler_version__',\n",
              " '__cxx11_abi_flag__',\n",
              " '__cxx_version__',\n",
              " '__doc__',\n",
              " '__file__',\n",
              " '__git_version__',\n",
              " '__internal__',\n",
              " '__loader__',\n",
              " '__monolithic_build__',\n",
              " '__name__',\n",
              " '__operators__',\n",
              " '__package__',\n",
              " '__path__',\n",
              " '__spec__',\n",
              " '__version__',\n",
              " '_api',\n",
              " '_compat',\n",
              " '_current_file_location',\n",
              " '_current_module',\n",
              " '_distutils',\n",
              " '_estimator_module',\n",
              " '_fi',\n",
              " '_initializers',\n",
              " '_inspect',\n",
              " '_kernel_dir',\n",
              " '_ll',\n",
              " '_logging',\n",
              " '_losses',\n",
              " '_major_api_version',\n",
              " '_metrics',\n",
              " '_module_dir',\n",
              " '_module_util',\n",
              " '_names_with_underscore',\n",
              " '_optimizers',\n",
              " '_os',\n",
              " '_plugin_dir',\n",
              " '_running_from_pip_package',\n",
              " '_s',\n",
              " '_site',\n",
              " '_site_packages_dirs',\n",
              " '_sys',\n",
              " '_tf2',\n",
              " '_tf_api_dir',\n",
              " '_tf_dir',\n",
              " '_tf_uses_legacy_keras',\n",
              " '_typing',\n",
              " 'abs',\n",
              " 'acos',\n",
              " 'acosh',\n",
              " 'add',\n",
              " 'add_n',\n",
              " 'approx_top_k',\n",
              " 'argmax',\n",
              " 'argmin',\n",
              " 'argsort',\n",
              " 'as_dtype',\n",
              " 'as_string',\n",
              " 'asin',\n",
              " 'asinh',\n",
              " 'assert_equal',\n",
              " 'assert_greater',\n",
              " 'assert_less',\n",
              " 'assert_rank',\n",
              " 'atan',\n",
              " 'atan2',\n",
              " 'atanh',\n",
              " 'audio',\n",
              " 'autodiff',\n",
              " 'autograph',\n",
              " 'batch_to_space',\n",
              " 'bfloat16',\n",
              " 'bitcast',\n",
              " 'bitwise',\n",
              " 'bool',\n",
              " 'boolean_mask',\n",
              " 'broadcast_dynamic_shape',\n",
              " 'broadcast_static_shape',\n",
              " 'broadcast_to',\n",
              " 'case',\n",
              " 'cast',\n",
              " 'clip_by_global_norm',\n",
              " 'clip_by_norm',\n",
              " 'clip_by_value',\n",
              " 'compat',\n",
              " 'complex',\n",
              " 'complex128',\n",
              " 'complex64',\n",
              " 'concat',\n",
              " 'cond',\n",
              " 'config',\n",
              " 'constant',\n",
              " 'constant_initializer',\n",
              " 'control_dependencies',\n",
              " 'conv',\n",
              " 'conv2d_backprop_filter_v2',\n",
              " 'conv2d_backprop_input_v2',\n",
              " 'convert_to_tensor',\n",
              " 'cos',\n",
              " 'cosh',\n",
              " 'cumsum',\n",
              " 'custom_gradient',\n",
              " 'data',\n",
              " 'debugging',\n",
              " 'device',\n",
              " 'distribute',\n",
              " 'divide',\n",
              " 'double',\n",
              " 'dtensor',\n",
              " 'dtypes',\n",
              " 'dynamic_partition',\n",
              " 'dynamic_stitch',\n",
              " 'edit_distance',\n",
              " 'eig',\n",
              " 'eigvals',\n",
              " 'einsum',\n",
              " 'ensure_shape',\n",
              " 'equal',\n",
              " 'errors',\n",
              " 'estimator',\n",
              " 'executing_eagerly',\n",
              " 'exp',\n",
              " 'expand_dims',\n",
              " 'experimental',\n",
              " 'extract_volume_patches',\n",
              " 'eye',\n",
              " 'feature_column',\n",
              " 'fftnd',\n",
              " 'fill',\n",
              " 'fingerprint',\n",
              " 'float16',\n",
              " 'float32',\n",
              " 'float64',\n",
              " 'floor',\n",
              " 'foldl',\n",
              " 'foldr',\n",
              " 'function',\n",
              " 'gather',\n",
              " 'gather_nd',\n",
              " 'get_current_name_scope',\n",
              " 'get_logger',\n",
              " 'get_static_value',\n",
              " 'grad_pass_through',\n",
              " 'gradients',\n",
              " 'graph_util',\n",
              " 'greater',\n",
              " 'greater_equal',\n",
              " 'group',\n",
              " 'guarantee_const',\n",
              " 'half',\n",
              " 'hessians',\n",
              " 'histogram_fixed_width',\n",
              " 'histogram_fixed_width_bins',\n",
              " 'identity',\n",
              " 'identity_n',\n",
              " 'ifftnd',\n",
              " 'image',\n",
              " 'import_graph_def',\n",
              " 'init_scope',\n",
              " 'initializers',\n",
              " 'inside_function',\n",
              " 'int16',\n",
              " 'int32',\n",
              " 'int64',\n",
              " 'int8',\n",
              " 'io',\n",
              " 'irfftnd',\n",
              " 'is_symbolic_tensor',\n",
              " 'is_tensor',\n",
              " 'keras',\n",
              " 'less',\n",
              " 'less_equal',\n",
              " 'linalg',\n",
              " 'linspace',\n",
              " 'lite',\n",
              " 'load_library',\n",
              " 'load_op_library',\n",
              " 'logical_and',\n",
              " 'logical_not',\n",
              " 'logical_or',\n",
              " 'lookup',\n",
              " 'losses',\n",
              " 'make_ndarray',\n",
              " 'make_tensor_proto',\n",
              " 'map_fn',\n",
              " 'math',\n",
              " 'matmul',\n",
              " 'matrix_square_root',\n",
              " 'maximum',\n",
              " 'meshgrid',\n",
              " 'metrics',\n",
              " 'minimum',\n",
              " 'mlir',\n",
              " 'multiply',\n",
              " 'name_scope',\n",
              " 'negative',\n",
              " 'nest',\n",
              " 'newaxis',\n",
              " 'nn',\n",
              " 'no_gradient',\n",
              " 'no_op',\n",
              " 'nondifferentiable_batch_function',\n",
              " 'norm',\n",
              " 'not_equal',\n",
              " 'numpy_function',\n",
              " 'one_hot',\n",
              " 'ones',\n",
              " 'ones_initializer',\n",
              " 'ones_like',\n",
              " 'optimizers',\n",
              " 'pad',\n",
              " 'parallel_stack',\n",
              " 'pow',\n",
              " 'print',\n",
              " 'profiler',\n",
              " 'py_function',\n",
              " 'qint16',\n",
              " 'qint32',\n",
              " 'qint8',\n",
              " 'quantization',\n",
              " 'queue',\n",
              " 'quint16',\n",
              " 'quint8',\n",
              " 'ragged',\n",
              " 'ragged_fill_empty_rows',\n",
              " 'ragged_fill_empty_rows_grad',\n",
              " 'random',\n",
              " 'random_index_shuffle',\n",
              " 'random_normal_initializer',\n",
              " 'random_uniform_initializer',\n",
              " 'range',\n",
              " 'rank',\n",
              " 'raw_ops',\n",
              " 'realdiv',\n",
              " 'recompute_grad',\n",
              " 'reduce_all',\n",
              " 'reduce_any',\n",
              " 'reduce_logsumexp',\n",
              " 'reduce_max',\n",
              " 'reduce_mean',\n",
              " 'reduce_min',\n",
              " 'reduce_prod',\n",
              " 'reduce_sum',\n",
              " 'register_tensor_conversion_function',\n",
              " 'repeat',\n",
              " 'required_space_to_batch_paddings',\n",
              " 'reshape',\n",
              " 'resource',\n",
              " 'reverse',\n",
              " 'reverse_sequence',\n",
              " 'rfftnd',\n",
              " 'roll',\n",
              " 'round',\n",
              " 'saturate_cast',\n",
              " 'saved_model',\n",
              " 'scalar_mul',\n",
              " 'scan',\n",
              " 'scatter_nd',\n",
              " 'searchsorted',\n",
              " 'security',\n",
              " 'sequence_mask',\n",
              " 'sets',\n",
              " 'shape',\n",
              " 'shape_n',\n",
              " 'sigmoid',\n",
              " 'sign',\n",
              " 'signal',\n",
              " 'sin',\n",
              " 'sinh',\n",
              " 'size',\n",
              " 'slice',\n",
              " 'sort',\n",
              " 'space_to_batch',\n",
              " 'space_to_batch_nd',\n",
              " 'sparse',\n",
              " 'split',\n",
              " 'sqrt',\n",
              " 'square',\n",
              " 'squeeze',\n",
              " 'stack',\n",
              " 'stop_gradient',\n",
              " 'strided_slice',\n",
              " 'string',\n",
              " 'strings',\n",
              " 'subtract',\n",
              " 'summary',\n",
              " 'switch_case',\n",
              " 'sysconfig',\n",
              " 'tan',\n",
              " 'tanh',\n",
              " 'tensor_scatter_nd_add',\n",
              " 'tensor_scatter_nd_max',\n",
              " 'tensor_scatter_nd_min',\n",
              " 'tensor_scatter_nd_sub',\n",
              " 'tensor_scatter_nd_update',\n",
              " 'tensordot',\n",
              " 'test',\n",
              " 'tile',\n",
              " 'timestamp',\n",
              " 'tools',\n",
              " 'tpu',\n",
              " 'train',\n",
              " 'transpose',\n",
              " 'truediv',\n",
              " 'truncatediv',\n",
              " 'truncatemod',\n",
              " 'tsl',\n",
              " 'tuple',\n",
              " 'type_spec_from_value',\n",
              " 'types',\n",
              " 'uint16',\n",
              " 'uint32',\n",
              " 'uint64',\n",
              " 'uint8',\n",
              " 'unique',\n",
              " 'unique_with_counts',\n",
              " 'unravel_index',\n",
              " 'unstack',\n",
              " 'variable_creator_scope',\n",
              " 'variant',\n",
              " 'vectorized_map',\n",
              " 'version',\n",
              " 'where',\n",
              " 'while_loop',\n",
              " 'xla',\n",
              " 'zeros',\n",
              " 'zeros_initializer',\n",
              " 'zeros_like']"
            ]
          },
          "execution_count": 47,
          "metadata": {},
          "output_type": "execute_result"
        }
      ],
      "source": [
        "dir(tf)"
      ]
    },
    {
      "cell_type": "markdown",
      "metadata": {
        "id": "54VEhDYukuQF"
      },
      "source": [
        "## Definimos y compilamos la red neuronal\n",
        "\n",
        "Crearemos la red neuronal más simple posible, formada por una capa de una única neurona. Utilizaremos la clase [Sequential](https://keras.io/api/models/secuencial/) de Keras, la cual permite definir la red como una secuencia de [capas](https://keras.io /api/capas/). Podemos usar una sola capa [Dense](https://keras.io/api/layers/core_layers/dense/) para construir esta red simple como se muestra a continuación. En la primera capa siempre debemos indicar el tamaño del vector de entrada, en esta caso de una única dimensión."
      ]
    },
    {
      "cell_type": "code",
      "execution_count": 48,
      "metadata": {
        "id": "wjQU1Gp3kwIN"
      },
      "outputs": [],
      "source": [
        "# Construimos un modelo simple secuencial\n",
        "model = tf.keras.Sequential([\n",
        "  keras.layers.Dense(units=1, input_shape=[1])\n",
        "\n",
        "])"
      ]
    },
    {
      "cell_type": "markdown",
      "metadata": {
        "id": "ZojpRBGjk4Mh"
      },
      "source": [
        "A continuación compilaremos la red neuronal, para ello, debemos especificar dos funciones: una [loss function](https://keras.io/api/losses/) y un [optimizer](https://keras.io/api/optimizers/).\n",
        "\n",
        "Recordemos que la relación definida inicialmente era `y=2x-1`. Cuando estamos durante la fase de entrenamiento, nuestro modelo comienza a hacer suposiciones, tal vez `y=10x+10`. La loss function mide las respuestas adivinadas contra las respuestas correctas conocidas y mide como de bien o de mal nos estamos acercando a nuestro valor correcto.\n",
        "\n",
        "Posteriormente, utilizamos la función optimizer para modificar las variables de la red neuronal de tal forma que el valor devuelto por la función de pérdidas sea mínimo.\n",
        "\n",
        "Además, debemos identificar el número de veces, épocas, que los datos deben pasar por nuestra red neuronal. Cuanta mayor sea la complejidad del problema, más veceses deberá recorrer la red neuronal nuestros datos durante el entrenamiento.\n",
        "\n",
        "En este caso utilizaremos error cuadrático medio como loss function y stochastic gradient descent como optimizer.\n",
        "\n",
        "Poco a poco iremos viendo cuales son las más apropiadas según el tipo de problema."
      ]
    },
    {
      "cell_type": "code",
      "execution_count": 49,
      "metadata": {
        "id": "4j4okB5tk3ae"
      },
      "outputs": [],
      "source": [
        "# Compilamos el modelo\n",
        "model.compile(loss='mean_squared_error', optimizer='sgd')\n"
      ]
    },
    {
      "cell_type": "markdown",
      "metadata": {
        "id": "h6PobT7klGIz"
      },
      "source": [
        "## Proporcionar los datos de entrenamiento\n",
        "\n",
        "A continuación crearemos nuestro conjunto de datos de entrenamiento, los realizaremos acorde a la relación definida antes. Utilizaremos Numpy para definir los arrays.\n"
      ]
    },
    {
      "cell_type": "code",
      "execution_count": 50,
      "metadata": {
        "id": "jhOrCkDLlJGR"
      },
      "outputs": [],
      "source": [
        "# Declaramos los vectores de entrenamiento\n",
        "x = np.array([-1.0,0.0,1.0,2.0,3.0,4.0], dtype=float)\n",
        "y = np.array([-3.0, -1.0, 1.0, 3.0, 5.0, 7.0], dtype=float)"
      ]
    },
    {
      "cell_type": "markdown",
      "metadata": {
        "id": "Z39TGMpmlRcb"
      },
      "source": [
        "# Entrenando la red neuronal\n",
        "\n",
        "El proceso de entrenamiento de la red neuronal, donde 'aprende' la relación entre las x y las y, se encuentra en [`model.fit()`](https://keras.io/api/models/model_training_apis/#fit-método). Aquí es donde tiene lugar la magia. Inicialmente se inicilizan las pesos de la red, se pasan los datos de entrada, se calcula la function loss, con el optimizer se modifican los pesos de la red, y se vuelve a iniciar el proceso."
      ]
    },
    {
      "cell_type": "code",
      "execution_count": 236,
      "metadata": {
        "colab": {
          "base_uri": "https://localhost:8080/"
        },
        "id": "Rye7zVmslUKk",
        "outputId": "4f0ad4c0-c1bd-420a-d4ff-47269d9eb2c2"
      },
      "outputs": [
        {
          "name": "stdout",
          "output_type": "stream",
          "text": [
            "Epoch 1/25\n",
            "1/1 [==============================] - 0s 6ms/step - loss: 1.0604e-11\n",
            "Epoch 2/25\n",
            "1/1 [==============================] - 0s 3ms/step - loss: 1.0604e-11\n",
            "Epoch 3/25\n",
            "1/1 [==============================] - 0s 0s/step - loss: 1.0604e-11\n",
            "Epoch 4/25\n",
            "1/1 [==============================] - 0s 36ms/step - loss: 1.0604e-11\n",
            "Epoch 5/25\n",
            "1/1 [==============================] - 0s 5ms/step - loss: 1.0604e-11\n",
            "Epoch 6/25\n",
            "1/1 [==============================] - 0s 10ms/step - loss: 1.0604e-11\n",
            "Epoch 7/25\n",
            "1/1 [==============================] - 0s 3ms/step - loss: 1.0604e-11\n",
            "Epoch 8/25\n",
            "1/1 [==============================] - 0s 0s/step - loss: 1.0604e-11\n",
            "Epoch 9/25\n",
            "1/1 [==============================] - 0s 10ms/step - loss: 1.0604e-11\n",
            "Epoch 10/25\n",
            "1/1 [==============================] - 0s 0s/step - loss: 1.0604e-11\n",
            "Epoch 11/25\n",
            "1/1 [==============================] - 0s 0s/step - loss: 1.0604e-11\n",
            "Epoch 12/25\n",
            "1/1 [==============================] - 0s 0s/step - loss: 1.0604e-11\n",
            "Epoch 13/25\n",
            "1/1 [==============================] - 0s 19ms/step - loss: 1.0604e-11\n",
            "Epoch 14/25\n",
            "1/1 [==============================] - 0s 0s/step - loss: 1.0604e-11\n",
            "Epoch 15/25\n",
            "1/1 [==============================] - 0s 0s/step - loss: 1.0604e-11\n",
            "Epoch 16/25\n",
            "1/1 [==============================] - 0s 13ms/step - loss: 1.0604e-11\n",
            "Epoch 17/25\n",
            "1/1 [==============================] - 0s 0s/step - loss: 1.0604e-11\n",
            "Epoch 18/25\n",
            "1/1 [==============================] - 0s 0s/step - loss: 1.0604e-11\n",
            "Epoch 19/25\n",
            "1/1 [==============================] - 0s 13ms/step - loss: 1.0604e-11\n",
            "Epoch 20/25\n",
            "1/1 [==============================] - 0s 0s/step - loss: 1.0604e-11\n",
            "Epoch 21/25\n",
            "1/1 [==============================] - 0s 0s/step - loss: 1.0604e-11\n",
            "Epoch 22/25\n",
            "1/1 [==============================] - 0s 0s/step - loss: 1.0604e-11\n",
            "Epoch 23/25\n",
            "1/1 [==============================] - 0s 17ms/step - loss: 1.0604e-11\n",
            "Epoch 24/25\n",
            "1/1 [==============================] - 0s 0s/step - loss: 1.0604e-11\n",
            "Epoch 25/25\n",
            "1/1 [==============================] - 0s 0s/step - loss: 1.0604e-11\n"
          ]
        },
        {
          "data": {
            "text/plain": [
              "<keras.src.callbacks.History at 0x1e45192f1d0>"
            ]
          },
          "execution_count": 236,
          "metadata": {},
          "output_type": "execute_result"
        }
      ],
      "source": [
        "# Entrenamos el modelo\n",
        "model.fit(x,y, epochs=25)"
      ]
    },
    {
      "cell_type": "markdown",
      "metadata": {
        "id": "J8ExmHGllcy4"
      },
      "source": [
        "Ahora tenemos un modelo que ha sido entrenado para aprender la relación entre `x` e `y`. Podemos usar el método [`model.predict()`](https://keras.io/api/models/model_training_apis/#predict-method) para que descubra la `y` cuando tenemos una `x` desconocida. Entonces, por ejemplo, si `x=10`, ¿Qué valor de `y` obtendremos?"
      ]
    },
    {
      "cell_type": "code",
      "execution_count": null,
      "metadata": {},
      "outputs": [],
      "source": []
    },
    {
      "cell_type": "code",
      "execution_count": 237,
      "metadata": {
        "colab": {
          "base_uri": "https://localhost:8080/"
        },
        "id": "tfi81P8VliJX",
        "outputId": "6d5adb2f-5ac4-47d4-bd95-9a5284c5a1bd"
      },
      "outputs": [
        {
          "name": "stdout",
          "output_type": "stream",
          "text": [
            "1/1 [==============================] - 0s 39ms/step\n"
          ]
        },
        {
          "data": {
            "text/plain": [
              "array([[18.999987]], dtype=float32)"
            ]
          },
          "execution_count": 237,
          "metadata": {},
          "output_type": "execute_result"
        }
      ],
      "source": [
        "# Hacemos una predicción\n",
        "model.predict([10.0])\n",
        "\n",
        "# 10 * 2 - 1 = 19"
      ]
    },
    {
      "cell_type": "markdown",
      "metadata": {
        "id": "4Ave4mHElmgp"
      },
      "source": [
        "Podrías haber pensado en '19', ¿verdad? Pero terminó siendo un poco por debajo. ¿Por qué crees que es?\n",
        "\n",
        "Recuerde que las redes neuronales se ocupan de las probabilidades. Entonces, dados los datos con los que alimentamos el modelo, calculó que existe una probabilidad muy alta de que la relación entre `x` e `y` sea `y=2x-1`, pero con solo 6 puntos de datos no podemos estar seguros.\n",
        "\n",
        "A medida que trabajemos con redes neuronales, veremos que este patrón se repite. Casi siempre trataremos con probabilidades."
      ]
    }
  ],
  "metadata": {
    "colab": {
      "provenance": []
    },
    "kernelspec": {
      "display_name": "Python 3",
      "name": "python3"
    },
    "language_info": {
      "codemirror_mode": {
        "name": "ipython",
        "version": 3
      },
      "file_extension": ".py",
      "mimetype": "text/x-python",
      "name": "python",
      "nbconvert_exporter": "python",
      "pygments_lexer": "ipython3",
      "version": "3.11.6"
    }
  },
  "nbformat": 4,
  "nbformat_minor": 0
}
