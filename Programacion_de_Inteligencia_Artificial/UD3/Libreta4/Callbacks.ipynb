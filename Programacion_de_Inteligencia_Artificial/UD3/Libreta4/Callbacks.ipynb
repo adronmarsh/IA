{
  "cells": [
    {
      "cell_type": "markdown",
      "metadata": {
        "id": "uLCnbxhWrjXD"
      },
      "source": [
        "# Uso de callbacks\n",
        "\n",
        "En este ejercicio, implementaremos métodos de callbacks para detener el entrenamiento cuando se cumpla una métrica específica. Esta es una función útil, ya que permitirá no completar todas las épocas cuando se alcance este umbral. Por ejemplo, si configuramos 1000 épocas y la precisión deseada ya se alcanza en la época 200, el entrenamiento se detendrá automáticamente. Veamos cómo se implementa esto en las siguientes secciones."
      ]
    },
    {
      "cell_type": "markdown",
      "metadata": {
        "id": "AzcJ1enAruL2"
      },
      "source": [
        "## Cargamos y normalizamos el conjunto de datos MNIST de moda\n",
        "\n",
        "Al igual que en el ejercicio anterior, volveremos a utilizar el conjunto de datos Fashion MNIST.Recuerda que debemos ormalizar los valores de píxeles para ayudar a optimizar el entrenamiento."
      ]
    },
    {
      "cell_type": "code",
      "execution_count": 1,
      "metadata": {
        "colab": {
          "base_uri": "https://localhost:8080/"
        },
        "id": "JGaDdEH0rvcf",
        "outputId": "065bf64c-964b-4ae2-f73c-6bd85fdf96dd"
      },
      "outputs": [
        {
          "name": "stdout",
          "output_type": "stream",
          "text": [
            "WARNING:tensorflow:From c:\\Users\\Adron\\AppData\\Local\\Programs\\Python\\Python311\\Lib\\site-packages\\keras\\src\\losses.py:2976: The name tf.losses.sparse_softmax_cross_entropy is deprecated. Please use tf.compat.v1.losses.sparse_softmax_cross_entropy instead.\n",
            "\n",
            "Downloading data from https://storage.googleapis.com/tensorflow/tf-keras-datasets/train-labels-idx1-ubyte.gz\n",
            "29515/29515 [==============================] - 0s 0us/step\n",
            "Downloading data from https://storage.googleapis.com/tensorflow/tf-keras-datasets/train-images-idx3-ubyte.gz\n",
            "26421880/26421880 [==============================] - 1s 0us/step\n",
            "Downloading data from https://storage.googleapis.com/tensorflow/tf-keras-datasets/t10k-labels-idx1-ubyte.gz\n",
            "5148/5148 [==============================] - 0s 0s/step\n",
            "Downloading data from https://storage.googleapis.com/tensorflow/tf-keras-datasets/t10k-images-idx3-ubyte.gz\n",
            "4422102/4422102 [==============================] - 0s 0us/step\n"
          ]
        }
      ],
      "source": [
        "import tensorflow as tf\n",
        "\n",
        "mnist=tf.keras.datasets.fashion_mnist\n",
        "\n",
        "(x_train, y_entrenamiento),(x_test, y_test) = mnist.load_data()\n",
        "\n",
        "x_train = x_train / 255.0\n",
        "x_test = x_test / 255.0"
      ]
    },
    {
      "cell_type": "markdown",
      "metadata": {
        "id": "sbbyt0mKr2qq"
      },
      "source": [
        "## Creamos una clase callbacks\n",
        "\n",
        "Puede crear un método callbacks definiendo una clase que herede la clase base [tf.keras.callbacks.Callback](https://www.tensorflow.org/api_docs/python/tf/keras/callbacks/Callback). Desde allí, pudemos definir los métodos disponibles para establecer dónde se ejecutará la evaluación del método. Por ejemplo, a continuación, utilizará el método [on_epoch_end()](https://www.tensorflow.org/api_docs/python/tf/keras/callbacks/Callback#on_epoch_end) para verificar el valor de la loss function al final de la época."
      ]
    },
    {
      "cell_type": "code",
      "execution_count": 2,
      "metadata": {
        "id": "8Ltvh1CLr_8d"
      },
      "outputs": [],
      "source": [
        "class myCallback(tf.keras.callbacks.Callback):\n",
        "  def on_epoch_end(self, epoch, logs=None):\n",
        "    if(logs.get('loss') < 0.6):\n",
        "      self.model.stop_training = True\n",
        "\n",
        "# Instanciamos la clase\n",
        "callbacks = myCallback()"
      ]
    },
    {
      "cell_type": "markdown",
      "metadata": {
        "id": "j0lCEmWxsGPI"
      },
      "source": [
        "## Definimos y compilamos el modelo\n",
        "\n",
        "A continuación, definiremos y compilaremos el modelo. La arquitectura será similar a la que se construyó en el laboratorio anterior. Luego, estableceremos el optimizador, la loss function y las métricas que usaremos para el entrenamiento."
      ]
    },
    {
      "cell_type": "code",
      "execution_count": 3,
      "metadata": {
        "id": "g3O5kRs9sHX5"
      },
      "outputs": [
        {
          "name": "stdout",
          "output_type": "stream",
          "text": [
            "WARNING:tensorflow:From c:\\Users\\Adron\\AppData\\Local\\Programs\\Python\\Python311\\Lib\\site-packages\\keras\\src\\backend.py:873: The name tf.get_default_graph is deprecated. Please use tf.compat.v1.get_default_graph instead.\n",
            "\n"
          ]
        }
      ],
      "source": [
        "model = tf.keras.models.Sequential([\n",
        "  tf.keras.layers.Flatten(),\n",
        "  tf.keras.layers.Dense(512, activation=tf.nn.relu),\n",
        "  tf.keras.layers.Dense(10, activation=tf.nn.softmax)\n",
        "])\n",
        "\n",
        "model.compile(optimizer=tf.optimizers.Adam(),\n",
        "              loss='sparse_categorical_crossentropy',\n",
        "              metrics=['accuracy'])"
      ]
    },
    {
      "cell_type": "markdown",
      "metadata": {
        "id": "0vtbMOxxsMvI"
      },
      "source": [
        "### Entrenamos al modelo\n",
        "\n",
        "Ahora estamos listos para entrenar el modelo. Para configurar la devolución de llamada, simplemente configure el parámetro `callbacks` en la instancia `myCallback` que declaramos anteriormente."
      ]
    },
    {
      "cell_type": "code",
      "execution_count": 4,
      "metadata": {
        "colab": {
          "base_uri": "https://localhost:8080/"
        },
        "id": "7jAx-E4CsUUf",
        "outputId": "4a5eff6b-9e94-496e-d76c-dc5e541fce61"
      },
      "outputs": [
        {
          "name": "stdout",
          "output_type": "stream",
          "text": [
            "Epoch 1/15\n",
            "WARNING:tensorflow:From c:\\Users\\Adron\\AppData\\Local\\Programs\\Python\\Python311\\Lib\\site-packages\\keras\\src\\utils\\tf_utils.py:492: The name tf.ragged.RaggedTensorValue is deprecated. Please use tf.compat.v1.ragged.RaggedTensorValue instead.\n",
            "\n",
            "WARNING:tensorflow:From c:\\Users\\Adron\\AppData\\Local\\Programs\\Python\\Python311\\Lib\\site-packages\\keras\\src\\engine\\base_layer_utils.py:384: The name tf.executing_eagerly_outside_functions is deprecated. Please use tf.compat.v1.executing_eagerly_outside_functions instead.\n",
            "\n",
            "1875/1875 [==============================] - 17s 8ms/step - loss: 0.4756 - accuracy: 0.8299\n"
          ]
        },
        {
          "data": {
            "text/plain": [
              "<keras.src.callbacks.History at 0x200d5178850>"
            ]
          },
          "execution_count": 4,
          "metadata": {},
          "output_type": "execute_result"
        }
      ],
      "source": [
        "model.fit(x_train,y_entrenamiento, epochs = 15, callbacks = [callbacks])"
      ]
    },
    {
      "cell_type": "code",
      "execution_count": 5,
      "metadata": {},
      "outputs": [
        {
          "name": "stdout",
          "output_type": "stream",
          "text": [
            "313/313 [==============================] - 1s 3ms/step - loss: 0.4053 - accuracy: 0.8539\n"
          ]
        },
        {
          "data": {
            "text/plain": [
              "[0.40526899695396423, 0.8539000153541565]"
            ]
          },
          "execution_count": 5,
          "metadata": {},
          "output_type": "execute_result"
        }
      ],
      "source": [
        "model.evaluate(x_test, y_test)"
      ]
    },
    {
      "cell_type": "markdown",
      "metadata": {
        "id": "ahh9wiDUsYXR"
      },
      "source": [
        "Notarás que el entrenamiento no necesita completar las 10 épocas. Al evaluar el méotodo al final de la época, podemos verificar los parámetros de entrenamiento y comparar si cumplimos con el umbral establecido en la definición de la función. En este caso, simplemente se detendrá cuando la loss function caiga por debajo de `0.40` después de la época actual.\n",
        "\n",
        "*Desafío opcional: modifica el código para que el entrenamiento se detenga cuando la métrica de precisión supere el 60 %.*"
      ]
    }
  ],
  "metadata": {
    "colab": {
      "provenance": []
    },
    "kernelspec": {
      "display_name": "Python 3",
      "name": "python3"
    },
    "language_info": {
      "codemirror_mode": {
        "name": "ipython",
        "version": 3
      },
      "file_extension": ".py",
      "mimetype": "text/x-python",
      "name": "python",
      "nbconvert_exporter": "python",
      "pygments_lexer": "ipython3",
      "version": "3.11.1"
    }
  },
  "nbformat": 4,
  "nbformat_minor": 0
}
