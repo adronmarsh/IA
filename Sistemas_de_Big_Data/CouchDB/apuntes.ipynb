{
 "cells": [
  {
   "cell_type": "markdown",
   "metadata": {},
   "source": [
    "| | COUCHDB | MONGODB |\n",
    "|:--------:|:--------:|:--------:|\n",
    "| Data model | JSON | BSON |\n",
    "| Interface | HTTP/REST | Custom Protocol over TCP/IP |\n",
    "| Object Storage | Database contains Documents | Database contains Collections, Collections contains Documents |\n",
    "| Query Method | Map/Reduce (js + others) creating Views + Range queries | Map/Reduce (js) creating + Object-Based query Collections language |"
   ]
  },
  {
   "cell_type": "code",
   "execution_count": null,
   "metadata": {},
   "outputs": [],
   "source": []
  },
  {
   "cell_type": "markdown",
   "metadata": {},
   "source": [
    "Apuntes sobre CouchDB\n",
    "=====================\n",
    "\n",
    "Introducción a CouchDB\n",
    "----------------------\n",
    "\n",
    "CouchDB es una base de datos NoSQL de código abierto que se centra en la facilidad de uso, la escalabilidad y la tolerancia a fallos. Fue desarrollado por Apache Software Foundation y utiliza un modelo de datos JSON para almacenar información.\n",
    "\n",
    "### Características clave:\n",
    "\n",
    "1.  **Documentos JSON:** CouchDB almacena datos en forma de documentos JSON, lo que facilita la flexibilidad y la interoperabilidad.\n",
    "    \n",
    "2.  **Modelo de datos sin esquema:** No se requiere un esquema fijo para los documentos, lo que permite agregar campos de manera dinámica.\n",
    "    \n",
    "3.  **Multi-Version Concurrency Control (MVCC):** CouchDB utiliza MVCC para manejar conflictos de escritura y versiones de documentos.\n",
    "    \n",
    "4.  **Escalabilidad:** Puede distribuirse en clústeres para manejar grandes volúmenes de datos y cargas de trabajo.\n",
    "    \n",
    "5.  **Replicación:** Ofrece una replicación bidireccional robusta para garantizar la disponibilidad y la redundancia de datos.\n",
    "    \n",
    "\n",
    "Instalación de CouchDB\n",
    "----------------------\n",
    "\n",
    "Para instalar CouchDB, sigue estos pasos:\n",
    "\n",
    "1.  Descarga e instala la versión adecuada para tu sistema operativo desde el sitio web oficial de CouchDB.\n",
    "    \n",
    "2.  Después de la instalación, inicia el servicio CouchDB.\n",
    "    \n",
    "3.  Accede a la interfaz web de CouchDB en `http://localhost:5984/_utils/` para administrar la base de datos.\n",
    "    \n",
    "\n",
    "Interactuando con CouchDB\n",
    "-------------------------\n",
    "\n",
    "### Creación de una base de datos\n",
    "\n",
    "Puedes crear una base de datos en CouchDB utilizando la interfaz web o la API HTTP. Aquí tienes un ejemplo de cómo crear una base de datos usando la API HTTP:"
   ]
  },
  {
   "cell_type": "code",
   "execution_count": null,
   "metadata": {},
   "outputs": [],
   "source": [
    "import requests\n",
    "\n",
    "url = 'http://localhost:5984/amg-database'\n",
    "headers = {'Content-Type': 'application/json'}\n",
    "\n",
    "response = requests.put(url, headers=headers)\n",
    "\n",
    "if response.status_code == 201:\n",
    "    print('Base de datos creada con éxito')\n",
    "else:\n",
    "    print('Error al crear la base de datos')\n"
   ]
  },
  {
   "cell_type": "markdown",
   "metadata": {},
   "source": [
    "### Operaciones CRUD\n",
    "\n",
    "*   **Crear un documento:**"
   ]
  },
  {
   "cell_type": "code",
   "execution_count": null,
   "metadata": {},
   "outputs": [],
   "source": [
    "import requests\n",
    "\n",
    "url = 'http://localhost:5984/amg-database/id-del-documento'\n",
    "data = {'campo1': 'valor1', 'campo2': 'valor2'}\n",
    "\n",
    "response = requests.put(url, json=data)\n",
    "\n",
    "if response.status_code == 201:\n",
    "    print('Documento creado con éxito')\n",
    "else:\n",
    "    print('Error al crear el documento')\n"
   ]
  },
  {
   "cell_type": "markdown",
   "metadata": {},
   "source": [
    "*   **Leer un documento:**\n"
   ]
  },
  {
   "cell_type": "code",
   "execution_count": null,
   "metadata": {},
   "outputs": [],
   "source": [
    "import requests\n",
    "\n",
    "url = 'http://localhost:5984/amg-database/id-del-documento'\n",
    "\n",
    "response = requests.get(url)\n",
    "\n",
    "if response.status_code == 200:\n",
    "    documento = response.json()\n",
    "    print(documento)\n",
    "else:\n",
    "    print('Error al leer el documento')\n"
   ]
  },
  {
   "cell_type": "markdown",
   "metadata": {},
   "source": [
    "*   **Actualizar un documento:**\n"
   ]
  },
  {
   "cell_type": "code",
   "execution_count": null,
   "metadata": {},
   "outputs": [],
   "source": [
    "import requests\n",
    "\n",
    "url = 'http://localhost:5984/amg-database/id-del-documento'\n",
    "data = {'campo1': 'nuevo-valor1', 'campo2': 'nuevo-valor2', '_rev': 'revision-del-documento'}\n",
    "\n",
    "response = requests.put(url, json=data)\n",
    "\n",
    "if response.status_code == 201:\n",
    "    print('Documento actualizado con éxito')\n",
    "else:\n",
    "    print('Error al actualizar el documento')\n"
   ]
  },
  {
   "cell_type": "markdown",
   "metadata": {},
   "source": [
    "*   **Eliminar un documento:**"
   ]
  },
  {
   "cell_type": "code",
   "execution_count": null,
   "metadata": {},
   "outputs": [],
   "source": [
    "import requests\n",
    "\n",
    "url = 'http://localhost:5984/amg-database/id-del-documento?rev=revision-del-documento'\n",
    "\n",
    "response = requests.delete(url)\n",
    "\n",
    "if response.status_code == 200:\n",
    "    print('Documento eliminado con éxito')\n",
    "else:\n",
    "    print('Error al eliminar el documento')\n"
   ]
  },
  {
   "cell_type": "markdown",
   "metadata": {},
   "source": [
    "Replicación en CouchDB\n",
    "----------------------\n",
    "\n",
    "La replicación en CouchDB es una característica poderosa que permite sincronizar bases de datos entre clústeres o nodos. Esto garantiza la redundancia y la alta disponibilidad de datos. Puedes configurar la replicación tanto a través de la interfaz web como mediante la API HTTP.\n",
    "\n",
    "### Ejemplo de replicación:"
   ]
  },
  {
   "cell_type": "code",
   "execution_count": null,
   "metadata": {},
   "outputs": [],
   "source": [
    "import requests\n",
    "\n",
    "url = 'http://localhost:5984/_replicate'\n",
    "data = {\n",
    "    'source': 'amg-database',\n",
    "    'target': 'http://otro-nodo:5984/otra-base-de-datos',\n",
    "    'create_target': True\n",
    "}\n",
    "\n",
    "response = requests.post(url, json=data)\n",
    "\n",
    "if response.status_code == 200:\n",
    "    print('Replicación exitosa')\n",
    "else:\n",
    "    print('Error en la replicación')\n"
   ]
  }
 ],
 "metadata": {
  "language_info": {
   "name": "python"
  }
 },
 "nbformat": 4,
 "nbformat_minor": 2
}
