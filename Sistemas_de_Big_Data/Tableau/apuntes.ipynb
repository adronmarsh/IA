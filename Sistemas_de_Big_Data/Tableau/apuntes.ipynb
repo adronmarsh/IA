{
 "cells": [
  {
   "cell_type": "markdown",
   "metadata": {},
   "source": [
    "Tableau es una herramienta de visualización de datos ampliamente utilizada en el análisis de negocios y la inteligencia empresarial. Permite a los usuarios crear y compartir de manera interactiva y visual paneles de control que ilustran patrones, tendencias y densidades de datos. Tableau ofrece diferentes productos, incluyendo Tableau Desktop, Tableau Server y Tableau Online. Dos variantes notables son Tableau Public y Tableau (refiriéndose generalmente a Tableau Desktop).\n",
    "\n",
    "# Comparación entre Tableau Public y Tableau Desktop\n",
    "\n",
    "## Tableau Public\n",
    "- **Costo**: Gratuito.\n",
    "- **Almacenamiento de datos**: Los datos y los dashboards se almacenan en la nube de Tableau Public, accesibles públicamente.\n",
    "- **Conectividad de datos**: Limitada a archivos como Excel, Google Sheets, y otras fuentes de datos básicas.\n",
    "- **Privacidad**: No permite guardar trabajos de manera privada. Todo se publica en el sitio web de Tableau Public.\n",
    "- **Funcionalidad**: Tiene menos características y capacidades en comparación con Tableau Desktop.\n",
    "\n",
    "## Tableau Desktop\n",
    "- **Costo**: De pago, con diferentes opciones de licencia.\n",
    "- **Almacenamiento de datos**: Permite guardar trabajos localmente o en Tableau Server/Tableau Online para compartirlos de manera controlada.\n",
    "- **Conectividad de datos**: Ofrece una amplia gama de conexiones a bases de datos, aplicaciones en la nube y otras fuentes de datos avanzadas.\n",
    "- **Privacidad**: Ofrece opciones de privacidad completas para guardar y compartir datos.\n",
    "- **Funcionalidad**: Incluye todas las capacidades y funciones avanzadas de Tableau.\n",
    "\n",
    "## Tabla Comparativa\n",
    "\n",
    "| Característica         | Tableau Public             | Tableau Desktop            |\n",
    "|------------------------|----------------------------|----------------------------|\n",
    "| Costo                  | Gratuito                   | De pago                    |\n",
    "| Almacenamiento de datos| En la nube (público)       | Local / Tableau Server     |\n",
    "| Conectividad de datos  | Limitada                   | Amplia                     |\n",
    "| Privacidad             | Público                    | Configurable               |\n",
    "| Funcionalidad          | Básica                     | Completa                   |"
   ]
  }
 ],
 "metadata": {
  "language_info": {
   "name": "python"
  }
 },
 "nbformat": 4,
 "nbformat_minor": 2
}
