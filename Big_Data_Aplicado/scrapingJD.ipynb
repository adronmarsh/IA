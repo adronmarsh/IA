{
 "cells": [
  {
   "cell_type": "code",
   "execution_count": 3,
   "metadata": {},
   "outputs": [],
   "source": [
    "import requests\n",
    "from bs4 import BeautifulSoup"
   ]
  },
  {
   "cell_type": "code",
   "execution_count": 14,
   "metadata": {},
   "outputs": [
    {
     "name": "stdout",
     "output_type": "stream",
     "text": [
      "º Nike Dunk Low | 120,00€ | https://www.jdsports.es/product/blanco-nike-dunk-low/19594450_jdsportses/\n",
      "º Nike Air Force 1 Low | 130,00€ | https://www.jdsports.es/product/gris-nike-air-force-1-low/19596032_jdsportses/\n",
      "º Nike Air Force 1 '07 LV8 | 130,00€ | https://www.jdsports.es/product/blanco-nike-air-force-1-07-lv8/19596041_jdsportses/\n",
      "º adidas Originals ZX 750 | 110,00€ | https://www.jdsports.es/product/marrn-adidas-originals-zx-750/19594688_jdsportses/\n",
      "º Nike Air Force 1 Low | 120,00€ | https://www.jdsports.es/product/negro-nike-air-force-1-low/19593811_jdsportses/\n",
      "º adidas Originals Handball Spezial | 110,00€ | https://www.jdsports.es/product/adidas-originals-handball-spezial/19592312_jdsportses/\n",
      "º Nike Dunk Low | 130,00€ | https://www.jdsports.es/product/azul-nike-dunk-low/19582474_jdsportses/\n",
      "º Nike Air Force 1 '07 LV8 | 130,00€ | https://www.jdsports.es/product/negro-nike-air-force-1-07-lv8/16592272_jdsportses/\n",
      "º adidas Originals ZX 750 | 110,00€ | https://www.jdsports.es/product/rojo-adidas-originals-zx-750/19601777_jdsportses/\n",
      "º Nike Dunk Low | 120,00€ | https://www.jdsports.es/product/negro-nike-dunk-low/19581609_jdsportses/\n",
      "º Nike Dunk Low | 130,00€ | https://www.jdsports.es/product/gris-nike-dunk-low/19596593_jdsportses/\n",
      "º Nike Air Force 1 Low | 120,00€ | https://www.jdsports.es/product/blanco-nike-air-force-1-low/19575420_jdsportses/\n",
      "º adidas Originals AS 520 | 110,00€ | https://www.jdsports.es/product/verde-adidas-originals-as-520/19600173_jdsportses/\n",
      "º Nike Air Max Pulse | 170,00€ | https://www.jdsports.es/product/negro-nike-air-max-pulse/19599815_jdsportses/\n",
      "º Nike Air VaporMax 2023 | 230,00€ | https://www.jdsports.es/product/negro-nike-air-vapormax-2023/19600186_jdsportses/\n",
      "º Converse Chuck Taylor All Star High | 80,00€ | https://www.jdsports.es/product/gris-converse-chuck-taylor-all-star-high/19601783_jdsportses/\n",
      "º adidas Originals Drop Step Low | 110,00€ | https://www.jdsports.es/product/gris-adidas-originals-drop-step-low/19396557_jdsportses/\n",
      "º Nike Air Max 95 Ultra | 190,00€ | https://www.jdsports.es/product/gris-nike-air-max-95-ultra/19595013_jdsportses/\n",
      "º Nike Dunk Low | 130,00€ | https://www.jdsports.es/product/blanco-nike-dunk-low/19590000_jdsportses/\n",
      "º Nike Air VaporMax Plus | 225,00€ | https://www.jdsports.es/product/negro-nike-air-vapormax-plus/19598325_jdsportses/\n",
      "º Nike Air Max Pulse | 160,00€ | https://www.jdsports.es/product/negro-nike-air-max-pulse/19575122_jdsportses/\n",
      "º Fila Ray Tracer | 70,00€ | https://www.jdsports.es/product/gris-fila-ray-tracer/19599440_jdsportses/\n",
      "º adidas Originals RIVALRY LOW$ | 110,00€ | https://www.jdsports.es/product/blanco-adidas-originals-rivalry-low/19585249_jdsportses/\n",
      "º adidas Originals AS 520 | 110,00€ | https://www.jdsports.es/product/negro-adidas-originals-as-520/19600174_jdsportses/\n",
      "º adidas Originals ZX 750 | 110,00€ | https://www.jdsports.es/product/beige-adidas-originals-zx-750/19594689_jdsportses/\n",
      "º Nike Metcon 9 | 140,00€ | https://www.jdsports.es/product/negro-nike-metcon-9/19596303_jdsportses/\n",
      "º Lacoste Deviation II | 120,00€ | https://www.jdsports.es/product/gris-lacoste-deviation-ii/19589941_jdsportses/\n",
      "º Nike Vomero 17 | 160,00€ | https://www.jdsports.es/product/negro-nike-vomero-17/19598636_jdsportses/\n",
      "º New Balance 2002R | 150,00€ | https://www.jdsports.es/product/gris-new-balance-2002r/19590767_jdsportses/\n",
      "º Lacoste Lerond Plus | 115,00€ | https://www.jdsports.es/product/blanco-lacoste-lerond-plus/19590766_jdsportses/\n",
      "º Vans Knu Skool | 90,00€ | https://www.jdsports.es/product/marrn-vans-knu-skool/19599446_jdsportses/\n",
      "º Emporio Armani EA7 B&W Knit | 200,00€ | https://www.jdsports.es/product/negro-emporio-armani-ea7-bandw-knit/19593766_jdsportses/\n",
      "º Nike Air VaporMax 2023 | 230,00€ | https://www.jdsports.es/product/blanco-nike-air-vapormax-2023/19574933_jdsportses/\n",
      "º New Balance 1906R | 160,00€ | https://www.jdsports.es/product/negro-new-balance-1906r/19587303_jdsportses/\n",
      "º Nike Dunk Low | 130,00€ | https://www.jdsports.es/product/negro-nike-dunk-low/19575159_jdsportses/\n",
      "º Nike Air Force 1 Low | 120,00€ | https://www.jdsports.es/product/blanco-nike-air-force-1-low/1267679_jdsportses/\n",
      "º adidas Box Hog 4 | 113,00€ | https://www.jdsports.es/product/blanco-adidas-box-hog-4/19602256_jdsportses/\n",
      "º New Balance 327 | 120,00€ | https://www.jdsports.es/product/negro-new-balance-327/19595351_jdsportses/\n",
      "º Nike Metcon 9 | 140,00€ | https://www.jdsports.es/product/negro-nike-metcon-9/19585587_jdsportses/\n",
      "º adidas Originals LA Trainer OG | 110,00€ | https://www.jdsports.es/product/adidas-originals-la-trainer-og/19594122_jdsportses/\n",
      "º Jordan Max Aura 5 | 130,00€ | https://www.jdsports.es/product/negro-jordan-max-aura-5/19581582_jdsportses/\n",
      "º New Balance 1906R | 160,00€ | https://www.jdsports.es/product/gris-new-balance-1906r/19587302_jdsportses/\n",
      "º adidas Originals Zapatilla NMD_G1 | 160,00€ | https://www.jdsports.es/product/adidas-originals-zapatilla-nmdg1/19583501_jdsportses/\n",
      "º adidas Originals Handball Spezial | 110,00€ | https://www.jdsports.es/product/gris-adidas-originals-handball-spezial/16475984_jdsportses/\n",
      "º Vans Knu Skool | 90,00€ | https://www.jdsports.es/product/negro-vans-knu-skool/19358819_jdsportses/\n",
      "º Nike Full Force Low | 100,00€ | https://www.jdsports.es/product/blanco-nike-full-force-low/19594659_jdsportses/\n",
      "º Nike Air VaporMax 2023 | 230,00€ | https://www.jdsports.es/product/negro-nike-air-vapormax-2023/19500955_jdsportses/\n",
      "º adidas Originals LA Trainer OG | 110,00€ | https://www.jdsports.es/product/negro-adidas-originals-la-trainer-og/19595097_jdsportses/\n",
      "º Lacoste Deviation II | 120,00€ | https://www.jdsports.es/product/blanco-lacoste-deviation-ii/19592583_jdsportses/\n",
      "º adidas Originals Rivalry Low | 110,00€ | https://www.jdsports.es/product/blanco-adidas-originals-rivalry-low/19584233_jdsportses/\n",
      "º New Balance 550 | 140,00€ | https://www.jdsports.es/product/blanco-new-balance-550/19588468_jdsportses/\n",
      "º adidas Originals Zapatilla Rivalry Low | 110,00€ | https://www.jdsports.es/product/adidas-originals-zapatilla-rivalry-low/19590689_jdsportses/\n",
      "º Nike Air Flight 89 | 130,00€ | https://www.jdsports.es/product/blanco-nike-air-flight-89/19587621_jdsportses/\n",
      "º Nike Air Max 95 | 190,00€ | https://www.jdsports.es/product/negro-nike-air-max-95/19595090_jdsportses/\n",
      "º Nike Air Force 1 Low para mujer | 120,00€ | https://www.jdsports.es/product/blanco-nike-air-force-1-low-para-mujer/1267779_jdsportses/\n",
      "º New Balance 550 | 140,00€ | https://www.jdsports.es/product/blanco-new-balance-550/19573887_jdsportses/\n",
      "º adidas Originals ZX 750 | 110,00€ | https://www.jdsports.es/product/gris-adidas-originals-zx-750/19585435_jdsportses/\n",
      "º New Balance 327 | 120,00€ | https://www.jdsports.es/product/negro-new-balance-327/19596281_jdsportses/\n",
      "º Fila Ray Tracer | 70,00€ | https://www.jdsports.es/product/negro-fila-ray-tracer/19599308_jdsportses/\n",
      "º Nike React Pegasus Trail 4 | 140,00€ | https://www.jdsports.es/product/negro-nike-react-pegasus-trail-4/16472066_jdsportses/\n",
      "º adidas Originals Rivalry Low | 110,00€ | https://www.jdsports.es/product/azul-adidas-originals-rivalry-low/19582151_jdsportses/\n",
      "º Nike Air VaporMax Plus | 225,00€ | https://www.jdsports.es/product/negro-nike-air-vapormax-plus/15970809_jdsportses/\n",
      "º adidas Originals Forum Low Classic | 120,00€ | https://www.jdsports.es/product/blanco-adidas-originals-forum-low-classic/19584861_jdsportses/\n",
      "º adidas Zapatilla Adi2000 | 120,00€ | https://www.jdsports.es/product/adidas-zapatilla-adi2000/19583387_jdsportses/\n",
      "º Reebok Classic Leather | 90,00€ | https://www.jdsports.es/product/blanco-reebok-classic-leather/19583940_jdsportses/\n",
      "º Nike Air Max 97 Terrascape | 200,00€ | https://www.jdsports.es/product/negro-nike-air-max-97-terrascape/19574823_jdsportses/\n",
      "º adidas Originals Jeans | 110,00€ | https://www.jdsports.es/product/gris-adidas-originals-jeans/19577964_jdsportses/\n",
      "º Jordan Air 1 | 140,00€ | https://www.jdsports.es/product/blanco-jordan-air-1/19511432_jdsportses/\n",
      "º New Balance 2002R | 150,00€ | https://www.jdsports.es/product/gris-new-balance-2002r/19286425_jdsportses/\n",
      "º Nike Air Trainer 1 | 135,00€ | https://www.jdsports.es/product/negro-nike-air-trainer-1/19500925_jdsportses/\n",
      "º Reebok NPC II | 70,00€ | https://www.jdsports.es/product/blanco-reebok-npc-ii/19581466_jdsportses/\n",
      "º Nike Dunk Low | 120,00€ | https://www.jdsports.es/product/blanco-nike-dunk-low/16253527_jdsportses/\n"
     ]
    }
   ],
   "source": [
    "page = requests.get('https://www.jdsports.es/hombre/calzado-de-hombre/zapatillas/')\n",
    "soup = BeautifulSoup(page.content, 'html.parser')\n",
    "product_items = soup.find_all(class_='productListItem')\n",
    "\n",
    "for product in product_items:\n",
    "    product_title = product.find(class_='itemTitle').find('a').text\n",
    "    product_price = product.find(class_='itemPrice').find(class_='pri').text\n",
    "    product_link = product.find(class_='itemTitle').find('a')['href']\n",
    "\n",
    "\n",
    "    print(f\"º\",product_title, \"|\", product_price, \"|\", \"https://www.jdsports.es\"+product_link )"
   ]
  },
  {
   "cell_type": "code",
   "execution_count": null,
   "metadata": {},
   "outputs": [],
   "source": []
  }
 ],
 "metadata": {
  "kernelspec": {
   "display_name": "Python 3",
   "language": "python",
   "name": "python3"
  },
  "language_info": {
   "codemirror_mode": {
    "name": "ipython",
    "version": 3
   },
   "file_extension": ".py",
   "mimetype": "text/x-python",
   "name": "python",
   "nbconvert_exporter": "python",
   "pygments_lexer": "ipython3",
   "version": "3.11.1"
  }
 },
 "nbformat": 4,
 "nbformat_minor": 2
}
