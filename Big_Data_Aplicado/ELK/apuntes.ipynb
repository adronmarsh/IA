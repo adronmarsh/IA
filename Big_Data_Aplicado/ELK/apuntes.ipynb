{
 "cells": [
  {
   "cell_type": "code",
   "execution_count": null,
   "metadata": {},
   "outputs": [],
   "source": []
  },
  {
   "cell_type": "markdown",
   "metadata": {},
   "source": [
    "- **Consulta Bool**: Se utiliza una consulta \"bool\" que permite combinar múltiples consultas booleanas juntas. En este caso, se utilizan las cláusulas \"must\" y \"should\".\n",
    "- **Cláusula \"must\"**: La cláusula \"must\" especifica que los documentos recuperados deben coincidir con todos los criterios especificados. En este caso, se utiliza una consulta \"match\" en el campo \"descripción\" para buscar documentos que contengan la frase \"tenis de uso diario\".\n",
    "- **Cláusula \"should\"**: La cláusula \"should\" especifica que los documentos que coincidan con los criterios especificados se considerarán más relevantes, pero no son obligatorios. En este caso, se utiliza una consulta \"match\" en el campo \"nombre\" para buscar documentos que contengan la frase \"tenis de uso diario\". Posicionará con mayor prioridad los resultados que contengan esa frase en el campo \"nombre\".\n"
   ]
  },
  {
   "cell_type": "markdown",
   "metadata": {},
   "source": [
    "# Peticiones Elasticsearch para \"productos-adrian\"\n",
    "\n",
    "## Eliminar el índice de productos\n",
    "\n",
    "```json\n",
    "DELETE productos-adrian/\n",
    "```"
   ]
  },
  {
   "cell_type": "markdown",
   "metadata": {},
   "source": [
    "## Agregar documentos al índice\n",
    "----------------------------\n",
    "\n",
    "### Documento 1: Teléfono celular\n",
    "\n",
    "```json\n",
    "PUT productos-adrian/_doc/1\n",
    "{\n",
    "  \"sku\": 101,\n",
    "  \"nombre\": \"teléfono celular\",\n",
    "  \"descripción\": \"Buen teléfono para cualquier situación.\",\n",
    "  \"precio\": 1000.95\n",
    "}\n",
    "```\n",
    "### Documento 3: Raqueta de tenis\n",
    "\n",
    "```json\n",
    "PUT productos-adrian/_doc/3\n",
    "{\n",
    "  \"sku\": 403,\n",
    "  \"nombre\": \"raqueta de tenis\",\n",
    "  \"descripción\": \"Raqueta de tenis aprobada por los mejores torneos. Fácil de guardar en cualquier armario. El gran tenista Raúl Ramírez en una ocasión usó una de estas raquetas de tenis (o una muy parecida) cuando jugó con uno de sus sobrinos.\",\n",
    "  \"precio\": 450.95\n",
    "}\n",
    "```\n",
    "### Documento 4: Tenis de uso diario\n",
    "\n",
    "```json\n",
    "\n",
    "PUT productos-adrian/_doc/4\n",
    "{\n",
    "  \"sku\": 111,\n",
    "  \"nombre\": \"tenis de uso diario\",\n",
    "  \"descripción\": \"Camine con confianza en pavimento, lodo, alfombras, madera, y mas con estos tenis de alta tecnología y de alta calidad.\"\n",
    "}\n",
    "```\n",
    "### Documento 5: Pintura de color rosa\n",
    "\n",
    "```json\n",
    "\n",
    "PUT productos-adrian/_doc/5\n",
    "{\n",
    "  \"sku\": 334,\n",
    "  \"nombre\": \"pintura de color de rosa\",\n",
    "  \"descripción\": \"A diario es posible el uso de esta pintura. Su uso es muy conveniente aun cuando su uso sea diario.\"\n",
    "}\n",
    "```\n",
    "### Documento 6: Pelota de playa\n",
    "\n",
    "```json\n",
    "\n",
    "PUT productos-adrian/_doc/6\n",
    "{\n",
    "  \"sku\": 132,\n",
    "  \"nombre\": \"pelota de playa\",\n",
    "  \"descripción\": \"Una pelota de playa para jugar.\",\n",
    "  \"precio\": 20.95\n",
    "}\n",
    "\n",
    "\n",
    "```"
   ]
  },
  {
   "cell_type": "markdown",
   "metadata": {},
   "source": [
    "El cuerpo de la consulta especifica el criterio de búsqueda:\n",
    "\n",
    "- `\"query\": { ... }`: Indica que estás definiendo una consulta de búsqueda.\n",
    "- `\"bool\": { ... }`: Utiliza una consulta booleana para combinar múltiples condiciones de búsqueda.\n",
    "  - `\"must\": [ ... ]`: Especifica una lista de condiciones que deben cumplirse (operador lógico \"AND\").\n",
    "    - `\"match\": { ... }`: Utiliza una consulta de coincidencia para buscar documentos que contengan la frase \"tenis de uso diario\" en el campo \"descripción\".\n",
    "  - `\"should\": [ ... ]`: Especifica una lista de condiciones que son opcionales y se utilizarán para aumentar la relevancia de los documentos que las cumplan (operador lógico \"OR\").\n",
    "    - `\"match\": { ... }`: Utiliza una consulta de coincidencia para buscar documentos que contengan la frase \"tenis de uso diario\" en el campo \"nombre\".\n",
    "    - `\"match_phrase\": { ... }`: Utiliza una consulta de coincidencia de frase para buscar documentos que contengan la frase \"tenis de uso diario\" como una sola unidad en el campo \"nombre\".\n",
    "\n",
    "Esta consulta busca documentos en el índice \"productos\" que contengan la frase \"tenis de uso diario\" en el campo \"descripción\" y que también coincidan opcionalmente con esta frase en el campo \"nombre\". La diferencia con la anterior es que el segundo \"should\" también utiliza una coincidencia de frase para considerar la búsqueda de manera más exacta.\n"
   ]
  }
 ],
 "metadata": {
  "language_info": {
   "name": "python"
  }
 },
 "nbformat": 4,
 "nbformat_minor": 2
}
