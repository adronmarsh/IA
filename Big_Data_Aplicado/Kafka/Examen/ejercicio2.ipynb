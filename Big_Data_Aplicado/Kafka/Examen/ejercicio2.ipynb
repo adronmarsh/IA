{
 "cells": [
  {
   "cell_type": "markdown",
   "metadata": {},
   "source": [
    "Ejercicio 2: Crear productor y mandar 100 mensajes"
   ]
  },
  {
   "cell_type": "code",
   "execution_count": 2,
   "metadata": {},
   "outputs": [
    {
     "name": "stdout",
     "output_type": "stream",
     "text": [
      "Message produced: <cimpl.Message object at 0x7fdc702f3e40>\n"
     ]
    },
    {
     "ename": "",
     "evalue": "",
     "output_type": "error",
     "traceback": [
      "\u001b[1;31mThe Kernel crashed while executing code in the the current cell or a previous cell. Please review the code in the cell(s) to identify a possible cause of the failure. Click <a href='https://aka.ms/vscodeJupyterKernelCrash'>here</a> for more info. View Jupyter <a href='command:jupyter.viewOutput'>log</a> for further details."
     ]
    }
   ],
   "source": [
    "from confluent_kafka import Producer \n",
    "import socket\n",
    "\n",
    "conf = {'bootstrap.servers': 'localhost:9092',  # Configurar la dirección del servidor Kafka\n",
    "        'client.id': socket.gethostname()}  # Configurar el ID del cliente como el nombre del host\n",
    "\n",
    "producer = Producer(conf)  # Crear una instancia de la clase Producer con la configuración proporcionada\n",
    "\n",
    "def acked(err, msg):\n",
    "    \"\"\"\n",
    "    Función de callback para manejar el resultado de la entrega del mensaje.\n",
    "\n",
    "    Parameters:\n",
    "    - err: Objeto de error, None si la entrega fue exitosa.\n",
    "    - msg: Objeto de mensaje que contiene información sobre el mensaje producido.\n",
    "    \"\"\"\n",
    "    if err is not None:\n",
    "        print(\"Failed to deliver message: %s: %s\" % (str(msg), str(err)))\n",
    "    else:\n",
    "        print(\"Message produced: %s\" % (str(msg)))\n",
    "    producer.poll(1)  # Permitir que el productor realice cualquier trabajo pendiente durante 1 milisegundo\n",
    "\n",
    "\n",
    "for i in range(100):\n",
    "    producer.poll(1)\n",
    "    mensaje = \"contenido del topic:\"\n",
    "    producer.produce('project', key=\"key\", value=str(mensaje), callback=acked)\n"
   ]
  },
  {
   "cell_type": "code",
   "execution_count": null,
   "metadata": {},
   "outputs": [],
   "source": []
  }
 ],
 "metadata": {
  "kernelspec": {
   "display_name": "Python 3",
   "language": "python",
   "name": "python3"
  },
  "language_info": {
   "codemirror_mode": {
    "name": "ipython",
    "version": 3
   },
   "file_extension": ".py",
   "mimetype": "text/x-python",
   "name": "python",
   "nbconvert_exporter": "python",
   "pygments_lexer": "ipython3",
   "version": "3.10.12"
  }
 },
 "nbformat": 4,
 "nbformat_minor": 2
}
