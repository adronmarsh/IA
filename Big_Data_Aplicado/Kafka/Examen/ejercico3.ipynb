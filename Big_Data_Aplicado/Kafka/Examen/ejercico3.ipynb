{
 "cells": [
  {
   "cell_type": "markdown",
   "metadata": {},
   "source": [
    "Ejercicio 3: Crear productor, leer el contenido del fichero ejercicio3.csv en formato json al topic ejercicio3"
   ]
  },
  {
   "cell_type": "markdown",
   "metadata": {},
   "source": [
    "bin/kafka-topics.sh --create --bootstrap-server localhost:9092 --replication-factor 1 --partitions 1 --topic ejercicio3"
   ]
  },
  {
   "cell_type": "code",
   "execution_count": 1,
   "metadata": {},
   "outputs": [],
   "source": [
    "from confluent_kafka import Producer \n",
    "import socket\n",
    "import pandas as pd\n",
    "\n",
    "conf = {'bootstrap.servers': 'localhost:9092',  # Configurar la dirección del servidor Kafka\n",
    "        'client.id': socket.gethostname()}  # Configurar el ID del cliente como el nombre del host\n",
    "\n",
    "producer = Producer(conf)  # Crear una instancia de la clase Producer con la configuración proporcionada\n",
    "\n",
    "def acked(err, msg):\n",
    "    \"\"\"\n",
    "    Función de callback para manejar el resultado de la entrega del mensaje.\n",
    "\n",
    "    Parameters:\n",
    "    - err: Objeto de error, None si la entrega fue exitosa.\n",
    "    - msg: Objeto de mensaje que contiene información sobre el mensaje producido.\n",
    "    \"\"\"\n",
    "    if err is not None:\n",
    "        print(\"Failed to deliver message: %s: %s\" % (str(msg), str(err)))\n",
    "    else:\n",
    "        print(\"Message produced: %s\" % (str(msg)))\n",
    "    producer.poll(1)  # Permitir que el productor realice cualquier trabajo pendiente durante 1 milisegundo\n",
    "\n",
    "    csv = pd.read_csv('ejercicio3.csv')\n",
    "    csv = csv.split(',')\n",
    "    for i in range(len(csv)):\n",
    "        producer.produce('project', key=\"key\", value=csv, callback=acked)\n"
   ]
  },
  {
   "cell_type": "code",
   "execution_count": 4,
   "metadata": {},
   "outputs": [],
   "source": [
    "a = pd.read_csv('ejercicio3.csv')"
   ]
  },
  {
   "cell_type": "code",
   "execution_count": 5,
   "metadata": {},
   "outputs": [
    {
     "data": {
      "text/html": [
       "<div>\n",
       "<style scoped>\n",
       "    .dataframe tbody tr th:only-of-type {\n",
       "        vertical-align: middle;\n",
       "    }\n",
       "\n",
       "    .dataframe tbody tr th {\n",
       "        vertical-align: top;\n",
       "    }\n",
       "\n",
       "    .dataframe thead th {\n",
       "        text-align: right;\n",
       "    }\n",
       "</style>\n",
       "<table border=\"1\" class=\"dataframe\">\n",
       "  <thead>\n",
       "    <tr style=\"text-align: right;\">\n",
       "      <th></th>\n",
       "    </tr>\n",
       "  </thead>\n",
       "  <tbody>\n",
       "    <tr>\n",
       "      <th>0</th>\n",
       "    </tr>\n",
       "    <tr>\n",
       "      <th>1</th>\n",
       "    </tr>\n",
       "    <tr>\n",
       "      <th>2</th>\n",
       "    </tr>\n",
       "  </tbody>\n",
       "</table>\n",
       "</div>"
      ],
      "text/plain": [
       "Empty DataFrame\n",
       "Columns: []\n",
       "Index: [0, 1, 2]"
      ]
     },
     "execution_count": 5,
     "metadata": {},
     "output_type": "execute_result"
    }
   ],
   "source": []
  },
  {
   "cell_type": "code",
   "execution_count": null,
   "metadata": {},
   "outputs": [],
   "source": []
  }
 ],
 "metadata": {
  "kernelspec": {
   "display_name": "Python 3",
   "language": "python",
   "name": "python3"
  },
  "language_info": {
   "codemirror_mode": {
    "name": "ipython",
    "version": 3
   },
   "file_extension": ".py",
   "mimetype": "text/x-python",
   "name": "python",
   "nbconvert_exporter": "python",
   "pygments_lexer": "ipython3",
   "version": "3.10.12"
  }
 },
 "nbformat": 4,
 "nbformat_minor": 2
}
