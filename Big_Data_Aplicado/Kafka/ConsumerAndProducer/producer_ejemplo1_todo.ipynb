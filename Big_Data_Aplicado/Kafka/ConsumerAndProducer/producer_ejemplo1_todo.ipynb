{
 "cells": [
  {
   "cell_type": "markdown",
   "id": "6d7be8e2-7b89-4038-94fd-14650444fa14",
   "metadata": {},
   "source": [
    "# Ejercicio 1\n",
    "\n",
    "Prerrequisito:\n",
    " - Tener arrancancado zookeeper y kafka\n",
    " - Crear el topic \"ejercicio1\n",
    " - Crear un comsumidor en la consola que este escuchando del topic \"ejercicio1\". los mensajes enviados al topic en este ejercio, aparecerán en dicha consola.\n",
    "\n",
    "A través de la librerie de confluent, crear un productor y mandar un mensaje al topic \"ejemplo1\".\n",
    "\n",
    "Seguir la guía oficial de la libreria: https://docs.confluent.io/clients-confluent-kafka-python/current/overview.html\n",
    "\n"
   ]
  },
  {
   "cell_type": "code",
   "execution_count": 1,
   "id": "3214b162-6784-43f3-b69d-5446c5acb946",
   "metadata": {},
   "outputs": [
    {
     "name": "stdout",
     "output_type": "stream",
     "text": [
      "Defaulting to user installation because normal site-packages is not writeable\n",
      "Requirement already satisfied: confluent-kafka in /home/aibg/.local/lib/python3.10/site-packages (2.3.0)\n"
     ]
    }
   ],
   "source": [
    "# Instalar librería confluent-kafka\n",
    "import sys\n",
    "!{sys.executable} -m pip install confluent-kafka"
   ]
  },
  {
   "cell_type": "markdown",
   "metadata": {},
   "source": [
    "1.- Importar las librerías necesarias"
   ]
  },
  {
   "cell_type": "code",
   "execution_count": 2,
   "id": "aa46a5a5-0045-41b9-be7b-2a8eef3c5586",
   "metadata": {},
   "outputs": [],
   "source": [
    "from confluent_kafka import Producer \n",
    "import socket"
   ]
  },
  {
   "cell_type": "markdown",
   "metadata": {},
   "source": [
    "2.- Configurar Kafka"
   ]
  },
  {
   "cell_type": "code",
   "execution_count": 1,
   "id": "d9f68cdc-b543-4768-a037-d2b42fda0411",
   "metadata": {},
   "outputs": [
    {
     "name": "stderr",
     "output_type": "stream",
     "text": [
      "%6|1701368934.825|FAIL|A208-100#producer-1| [thrd:A208-100:9092/0]: A208-100:9092/0: Disconnected (after 1826944ms in state UP)\n",
      "%3|1701368934.825|FAIL|A208-100#producer-1| [thrd:localhost:9092/bootstrap]: localhost:9092/bootstrap: Connect to ipv4#127.0.0.1:9092 failed: Connection refused (after 0ms in state CONNECT)\n",
      "%3|1701368934.905|FAIL|A208-100#producer-1| [thrd:A208-100:9092/0]: A208-100:9092/0: Connect to ipv4#127.0.1.1:9092 failed: Connection refused (after 0ms in state CONNECT)\n",
      "%3|1701368935.905|FAIL|A208-100#producer-1| [thrd:localhost:9092/bootstrap]: localhost:9092/bootstrap: Connect to ipv4#127.0.0.1:9092 failed: Connection refused (after 0ms in state CONNECT, 1 identical error(s) suppressed)\n",
      "%3|1701368937.906|FAIL|A208-100#producer-1| [thrd:A208-100:9092/0]: A208-100:9092/0: Connect to ipv4#127.0.1.1:9092 failed: Connection refused (after 0ms in state CONNECT, 1 identical error(s) suppressed)\n",
      "%3|1701368966.907|FAIL|A208-100#producer-1| [thrd:localhost:9092/bootstrap]: localhost:9092/bootstrap: Connect to ipv4#127.0.0.1:9092 failed: Connection refused (after 0ms in state CONNECT, 16 identical error(s) suppressed)\n",
      "%3|1701368967.907|FAIL|A208-100#producer-1| [thrd:A208-100:9092/0]: A208-100:9092/0: Connect to ipv4#127.0.1.1:9092 failed: Connection refused (after 0ms in state CONNECT, 15 identical error(s) suppressed)\n",
      "%3|1701368997.908|FAIL|A208-100#producer-1| [thrd:localhost:9092/bootstrap]: localhost:9092/bootstrap: Connect to ipv4#127.0.0.1:9092 failed: Connection refused (after 0ms in state CONNECT, 13 identical error(s) suppressed)\n",
      "%3|1701369000.909|FAIL|A208-100#producer-1| [thrd:A208-100:9092/0]: A208-100:9092/0: Connect to ipv4#127.0.1.1:9092 failed: Connection refused (after 0ms in state CONNECT, 18 identical error(s) suppressed)\n",
      "%3|1701369027.910|FAIL|A208-100#producer-1| [thrd:localhost:9092/bootstrap]: localhost:9092/bootstrap: Connect to ipv4#127.0.0.1:9092 failed: Connection refused (after 0ms in state CONNECT, 20 identical error(s) suppressed)\n",
      "%3|1701369031.910|FAIL|A208-100#producer-1| [thrd:A208-100:9092/0]: A208-100:9092/0: Connect to ipv4#127.0.1.1:9092 failed: Connection refused (after 0ms in state CONNECT, 11 identical error(s) suppressed)\n"
     ]
    }
   ],
   "source": [
    "from confluent_kafka import Producer \n",
    "import socket\n",
    "\n",
    "conf = {'bootstrap.servers': 'localhost:9092',  # Configurar la dirección del servidor Kafka\n",
    "        'client.id': socket.gethostname()}  # Configurar el ID del cliente como el nombre del host\n",
    "\n",
    "producer = Producer(conf)  # Crear una instancia de la clase Producer con la configuración proporcionada\n",
    "\n",
    "def acked(err, msg):\n",
    "    \"\"\"\n",
    "    Función de callback para manejar el resultado de la entrega del mensaje.\n",
    "\n",
    "    Parameters:\n",
    "    - err: Objeto de error, None si la entrega fue exitosa.\n",
    "    - msg: Objeto de mensaje que contiene información sobre el mensaje producido.\n",
    "    \"\"\"\n",
    "    if err is not None:\n",
    "        print(\"Failed to deliver message: %s: %s\" % (str(msg), str(err)))\n",
    "    else:\n",
    "        print(\"Message produced: %s\" % (str(msg)))\n",
    "\n",
    "producer.poll(1)  # Permitir que el productor realice cualquier trabajo pendiente durante 1 milisegundo\n",
    "\n",
    "producer.produce('ejercicio1', key=\"key\", value=\"Mensaje de prueba2\", callback=acked)"
   ]
  },
  {
   "cell_type": "markdown",
   "metadata": {},
   "source": [
    "3.- Usar la clase Producer, crear un mensaje para el topic \"ejercicio1\" y enviarlo de manera asíncrona"
   ]
  },
  {
   "cell_type": "code",
   "execution_count": 6,
   "id": "682fdcb2-60a0-452d-b59c-cc325736a937",
   "metadata": {},
   "outputs": [],
   "source": [
    "producer.produce('ejercicio1', key=\"key\", value=\"Mensaje de prueba2\", callback=acked)"
   ]
  }
 ],
 "metadata": {
  "kernelspec": {
   "display_name": "Python 3 (ipykernel)",
   "language": "python",
   "name": "python3"
  },
  "language_info": {
   "codemirror_mode": {
    "name": "ipython",
    "version": 3
   },
   "file_extension": ".py",
   "mimetype": "text/x-python",
   "name": "python",
   "nbconvert_exporter": "python",
   "pygments_lexer": "ipython3",
   "version": "3.10.12"
  }
 },
 "nbformat": 4,
 "nbformat_minor": 5
}
