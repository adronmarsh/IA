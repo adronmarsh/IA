{
 "cells": [
  {
   "cell_type": "markdown",
   "id": "f3323313-2482-42ed-8dbc-6542f7c3ed66",
   "metadata": {},
   "source": [
    "# Data Frame\n"
   ]
  },
  {
   "cell_type": "markdown",
   "id": "2ec51afc-4015-43bd-b92e-4d842d83b82d",
   "metadata": {},
   "source": [
    "## Creacion de un dataframe a partir de un fichero csv\n",
    "\n",
    "{\"nombre\":\"Eleven\", \"edad\": 12, \"sexo\":\"M\"}\n",
    "\n",
    "{\"nombre\":\"Hopper\", \"edad\": 45, \"sexo\":\"H\"}\n",
    "\n",
    "{\"nombre\":\"Will\", \"edad\": 11, \"sexo\":\"H\"}\n",
    "\n",
    "{\"nombre\":\"Max\", \"edad\": 11, \"sexo\":\"M\"}\n",
    "\n",
    "{\"nombre\":\"Mike\", \"edad\": 11, \"sexo\":\"H\"}\n",
    "\n",
    "{\"nombre\":\"Lucas\", \"edad\": 11, \"sexo\":\"H\"}\n",
    "\n",
    "{\"nombre\":\"Dustin\", \"edad\": 11, \"sexo\":\"H\"}\n",
    "\n",
    "{\"nombre\":\"Eleven\", \"edad\": 12, \"sexo\":\"M\"}\n",
    "\n",
    "{\"nombre\":\"Nancy\", \"edad\": 23, \"sexo\":\"M\"}\n",
    "\n",
    "{\"nombre\":\"Jonathan\", \"edad\": 24, \"sexo\":\"H\"}\n"
   ]
  },
  {
   "cell_type": "code",
   "execution_count": 1,
   "id": "6ee02e69-c6fa-4fb6-bc8c-53b6e1eedfd4",
   "metadata": {},
   "outputs": [
    {
     "name": "stdout",
     "output_type": "stream",
     "text": [
      "<pyspark.sql.session.SparkSession object at 0x7fc021722730>\n"
     ]
    }
   ],
   "source": [
    "\n",
    "from pyspark.sql import SparkSession\n",
    "spark = SparkSession.builder.appName(\"Spark3\").getOrCreate()\n",
    "print(spark)\n",
    "\n",
    "df = spark.read.options(header='True', inferSchema='True').json(\"stranger.json\")\n",
    "##df = spark.read.json(\"stranger.json\")\n",
    "\n",
    "\n",
    "\n",
    "\n"
   ]
  },
  {
   "cell_type": "code",
   "execution_count": 2,
   "id": "36daf3bd-e7df-4b4e-b733-650cfc022fe8",
   "metadata": {},
   "outputs": [
    {
     "data": {
      "text/plain": [
       "10"
      ]
     },
     "execution_count": 2,
     "metadata": {},
     "output_type": "execute_result"
    }
   ],
   "source": [
    "#Mostrar numero de elementos de un Dataframe\n",
    "df.count()"
   ]
  },
  {
   "cell_type": "code",
   "execution_count": 3,
   "id": "35a71e48-7cbb-43ee-8641-8cee978a1374",
   "metadata": {},
   "outputs": [
    {
     "data": {
      "text/plain": [
       "['edad', 'nombre', 'sexo']"
      ]
     },
     "execution_count": 3,
     "metadata": {},
     "output_type": "execute_result"
    }
   ],
   "source": [
    "#mostramos las columnas de un dataframe\n",
    "df.columns"
   ]
  },
  {
   "cell_type": "code",
   "execution_count": null,
   "id": "0ea11992",
   "metadata": {},
   "outputs": [],
   "source": []
  },
  {
   "cell_type": "code",
   "execution_count": 4,
   "id": "85ea09f2-ee4a-43d7-a3f3-81ea9128fab1",
   "metadata": {},
   "outputs": [
    {
     "name": "stdout",
     "output_type": "stream",
     "text": [
      "root\n",
      " |-- edad: long (nullable = true)\n",
      " |-- nombre: string (nullable = true)\n",
      " |-- sexo: string (nullable = true)\n",
      "\n"
     ]
    }
   ],
   "source": [
    "#mostramos la estructura de un dataframe\n",
    "df.printSchema()"
   ]
  },
  {
   "cell_type": "code",
   "execution_count": 5,
   "id": "c93b6913-6aa0-42f3-97c2-959c974710f2",
   "metadata": {},
   "outputs": [
    {
     "name": "stdout",
     "output_type": "stream",
     "text": [
      "+----+--------+----+\n",
      "|edad|  nombre|sexo|\n",
      "+----+--------+----+\n",
      "|  12|  Eleven|   M|\n",
      "|  45|  Hopper|   H|\n",
      "|  11|    Will|   H|\n",
      "|  11|     Max|   M|\n",
      "|  11|    Mike|   H|\n",
      "|  11|   Lucas|   H|\n",
      "|  11|  Dustin|   H|\n",
      "|  12|  Eleven|   M|\n",
      "|  23|   Nancy|   M|\n",
      "|  24|Jonathan|   H|\n",
      "+----+--------+----+\n",
      "\n"
     ]
    }
   ],
   "source": [
    "#ver el contenido de un dataframe a partir del comando show\n",
    "\n",
    "df.show()"
   ]
  },
  {
   "cell_type": "code",
   "execution_count": 6,
   "id": "24985209-d3f8-4cfb-bafe-15e623e950f2",
   "metadata": {},
   "outputs": [
    {
     "name": "stdout",
     "output_type": "stream",
     "text": [
      "+--------+----+\n",
      "|  nombre|sexo|\n",
      "+--------+----+\n",
      "|  Eleven|   M|\n",
      "|  Hopper|   H|\n",
      "|    Will|   H|\n",
      "|     Max|   M|\n",
      "|    Mike|   H|\n",
      "|   Lucas|   H|\n",
      "|  Dustin|   H|\n",
      "|  Eleven|   M|\n",
      "|   Nancy|   M|\n",
      "|Jonathan|   H|\n",
      "+--------+----+\n",
      "\n"
     ]
    }
   ],
   "source": [
    "#seleccionamos un subconjunto de las columna\n",
    "dfNombreSexo = df.select(\"nombre\", \"sexo\")\n",
    "dfNombreSexo.show()\n",
    "\n",
    "\n"
   ]
  },
  {
   "cell_type": "code",
   "execution_count": 7,
   "id": "427dde66-4e54-4a71-bd81-0260e86e671d",
   "metadata": {},
   "outputs": [
    {
     "name": "stdout",
     "output_type": "stream",
     "text": [
      "+----+--------+----+\n",
      "|edad|  nombre|sexo|\n",
      "+----+--------+----+\n",
      "|  45|  Hopper|   H|\n",
      "|  23|   Nancy|   M|\n",
      "|  24|Jonathan|   H|\n",
      "+----+--------+----+\n",
      "\n"
     ]
    }
   ],
   "source": [
    "##filtramos los datos, y que nos muestre solo las personas mayores de edad\n",
    "\n",
    "dfMayores = df.filter(df.edad>=18)\n",
    "dfMayores. show()"
   ]
  },
  {
   "cell_type": "code",
   "execution_count": 8,
   "id": "444d1413-5e3d-4203-99e4-14f065f470ca",
   "metadata": {},
   "outputs": [
    {
     "data": {
      "text/plain": [
       "Row(edad=12, nombre='Eleven', sexo='M')"
      ]
     },
     "execution_count": 8,
     "metadata": {},
     "output_type": "execute_result"
    }
   ],
   "source": [
    "#primer elementos\n",
    "df.first()\n"
   ]
  },
  {
   "cell_type": "code",
   "execution_count": 9,
   "id": "eea1b016-348b-46b4-bd61-965447084bc6",
   "metadata": {},
   "outputs": [
    {
     "data": {
      "text/plain": [
       "[Row(edad=12, nombre='Eleven', sexo='M'),\n",
       " Row(edad=45, nombre='Hopper', sexo='H')]"
      ]
     },
     "execution_count": 9,
     "metadata": {},
     "output_type": "execute_result"
    }
   ],
   "source": [
    "#head -->  es quivalente al take - recupera los primeros elementos\n",
    "df.head(2)"
   ]
  },
  {
   "cell_type": "code",
   "execution_count": 10,
   "id": "c8549332-759b-4524-924e-1bcfbc8875e1",
   "metadata": {},
   "outputs": [
    {
     "name": "stderr",
     "output_type": "stream",
     "text": [
      "[Stage 17:========================================>               (54 + 5) / 75]\r"
     ]
    },
    {
     "name": "stdout",
     "output_type": "stream",
     "text": [
      "+----+-----+\n",
      "|edad|count|\n",
      "+----+-----+\n",
      "|  12|    2|\n",
      "|  11|    5|\n",
      "|  23|    1|\n",
      "|  45|    1|\n",
      "|  24|    1|\n",
      "+----+-----+\n",
      "\n"
     ]
    },
    {
     "name": "stderr",
     "output_type": "stream",
     "text": [
      "\r",
      "[Stage 17:=======================================================>(74 + 1) / 75]\r",
      "\r",
      "                                                                                \r"
     ]
    }
   ],
   "source": [
    "#groupby\n",
    "#agrupa los elementos en base a los valores de una determinada columna\n",
    "# en este caso agrupa las personas que tengan la misma edad y nos devuelve el numero de repeticiones\n",
    "\n",
    "df.groupBy(\"edad\").count().show()"
   ]
  },
  {
   "cell_type": "code",
   "execution_count": 11,
   "id": "6223da85-19c9-4972-8925-3fb2efa2c1c9",
   "metadata": {},
   "outputs": [
    {
     "name": "stdout",
     "output_type": "stream",
     "text": [
      "+-------+------------------+------+----+\n",
      "|summary|              edad|nombre|sexo|\n",
      "+-------+------------------+------+----+\n",
      "|  count|                10|    10|  10|\n",
      "|   mean|              17.1|  null|null|\n",
      "| stddev|11.049886877249017|  null|null|\n",
      "|    min|                11|Dustin|   H|\n",
      "|    max|                45|  Will|   M|\n",
      "+-------+------------------+------+----+\n",
      "\n"
     ]
    }
   ],
   "source": [
    "#describe nos devuelve un resumen estadístico de los datos\n",
    "df.describe().show()"
   ]
  },
  {
   "cell_type": "markdown",
   "id": "1d0e18ea-9e85-4680-9ce7-cb1836f04416",
   "metadata": {},
   "source": [
    "# Ahora vamos a crear un data frame desde un fichero .txt\n"
   ]
  },
  {
   "cell_type": "code",
   "execution_count": 12,
   "id": "2d295c97-5301-4502-a612-059fbf1cbbf6",
   "metadata": {},
   "outputs": [
    {
     "name": "stdout",
     "output_type": "stream",
     "text": [
      "+---------------+\n",
      "|          value|\n",
      "+---------------+\n",
      "|  Eleven, 12, M|\n",
      "|  Hopper, 45, H|\n",
      "|    Will, 11, H|\n",
      "|     Max, 11, M|\n",
      "|    Mike, 11, H|\n",
      "|   Lucas, 11, H|\n",
      "|  Dustin, 11, H|\n",
      "|  Eleven, 12, M|\n",
      "|   Nancy, 23, M|\n",
      "|Jonathan, 24, H|\n",
      "+---------------+\n",
      "\n"
     ]
    }
   ],
   "source": [
    "dftxt = spark.read.text(\"stranger.txt\")\n",
    "dftxt.show()"
   ]
  },
  {
   "cell_type": "code",
   "execution_count": 13,
   "id": "2b095336-e402-44c1-b83f-a7d7174b516f",
   "metadata": {},
   "outputs": [
    {
     "name": "stdout",
     "output_type": "stream",
     "text": [
      "+-----------------+\n",
      "|             col1|\n",
      "+-----------------+\n",
      "|  [Eleven, 12, M]|\n",
      "|  [Hopper, 45, H]|\n",
      "|    [Will, 11, H]|\n",
      "|     [Max, 11, M]|\n",
      "|    [Mike, 11, H]|\n",
      "|   [Lucas, 11, H]|\n",
      "|  [Dustin, 11, H]|\n",
      "|  [Eleven, 12, M]|\n",
      "|   [Nancy, 23, M]|\n",
      "|[Jonathan, 24, H]|\n",
      "+-----------------+\n",
      "\n"
     ]
    }
   ],
   "source": [
    "dfcol1= dftxt.selectExpr(\"split(value, ', ') as col1\").show()\n"
   ]
  },
  {
   "cell_type": "code",
   "execution_count": 15,
   "id": "47c25d06-b49d-4560-bc58-4b62b1db52cb",
   "metadata": {},
   "outputs": [
    {
     "name": "stdout",
     "output_type": "stream",
     "text": [
      "+--------+---+---+\n",
      "|       a|  b|  c|\n",
      "+--------+---+---+\n",
      "|  Eleven| 12|  M|\n",
      "|  Hopper| 45|  H|\n",
      "|    Will| 11|  H|\n",
      "|     Max| 11|  M|\n",
      "|    Mike| 11|  H|\n",
      "|   Lucas| 11|  H|\n",
      "|  Dustin| 11|  H|\n",
      "|  Eleven| 12|  M|\n",
      "|   Nancy| 23|  M|\n",
      "|Jonathan| 24|  H|\n",
      "+--------+---+---+\n",
      "\n"
     ]
    }
   ],
   "source": [
    "#import spark.implicits\n",
    "\n",
    "def partir(fila):\n",
    "    elements = fila.split(\", \")\n",
    "    return elements                                   \n",
    " \n",
    "#print(partir(\"hola , fff ,ffff\"))            \n",
    "          \n",
    "    \n",
    "rdd1 = dftxt.rdd  \n",
    "#rdd1.collect()\n",
    "rddfile = rdd1.map(lambda x: partir(x[0]))\n",
    "#rddfile.collect()\n",
    "rddfile.toDF(schema=['a', 'b', 'c']).show()"
   ]
  },
  {
   "cell_type": "code",
   "execution_count": null,
   "id": "b9e1975d-fc19-4f12-b2d9-a267233cc151",
   "metadata": {},
   "outputs": [],
   "source": []
  }
 ],
 "metadata": {
  "kernelspec": {
   "display_name": "Python 3 (ipykernel)",
   "language": "python",
   "name": "python3"
  },
  "language_info": {
   "codemirror_mode": {
    "name": "ipython",
    "version": 3
   },
   "file_extension": ".py",
   "mimetype": "text/x-python",
   "name": "python",
   "nbconvert_exporter": "python",
   "pygments_lexer": "ipython3",
   "version": "3.8.10"
  }
 },
 "nbformat": 4,
 "nbformat_minor": 5
}
