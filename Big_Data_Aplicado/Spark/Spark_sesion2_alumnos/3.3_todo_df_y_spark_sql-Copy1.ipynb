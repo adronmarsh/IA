{
 "cells": [
  {
   "cell_type": "markdown",
   "id": "f1ca568a-5dcf-4cff-8298-6d1232e217b5",
   "metadata": {},
   "source": [
    "# 3 Spark DataFrame y Spark SQL\n",
    "\n",
    "\n",
    "\n",
    "### como se creaba un RDD\n",
    "from pyspark.sql import SparkSession\n",
    "spark = SparkSession.builder.appName(\"Spark1\").getOrCreate()\n",
    "\n",
    "<b>rdd = spark.sparkContext.parallelize([1,2,3,4,5,6])\n",
    "</b>\n",
    "\n",
    "## como creamos un Dataframe\n",
    "from pyspark.sql import SparkSession\n",
    "spark = SparkSession.builder.appName(\"Spark3\").getOrCreate()\n",
    "\n",
    "<b>df = spark.read.options(header='True', inferSchema='True').csv(\"./datos/2019-Nov.csv\")\n",
    "</b>\n",
    "\n",
    "\n",
    "\n",
    "- ejemplo de Data Frame y Spark SQL con python\n",
    "\n",
    "\n",
    "- Descargamos los datos de una tienda de cosmetico 2,5GB partidos en 5 ficheros \n",
    "https://www.kaggle.com/mkechinov/ecommerce-events-history-in-cosmetics-shop\n",
    "\n",
    "\n"
   ]
  },
  {
   "cell_type": "code",
   "execution_count": 1,
   "id": "a59c5373-1be8-479e-96a8-f587471b3af6",
   "metadata": {},
   "outputs": [
    {
     "name": "stdout",
     "output_type": "stream",
     "text": [
      "<pyspark.sql.session.SparkSession object at 0x7f88e66d97f0>\n"
     ]
    },
    {
     "name": "stderr",
     "output_type": "stream",
     "text": [
      "                                                                                \r"
     ]
    }
   ],
   "source": [
    "\n",
    "from pyspark.sql import SparkSession\n",
    "spark = SparkSession.builder.appName(\"Spark3\").getOrCreate()\n",
    "print(spark)\n",
    "\n",
    "\n",
    "\n",
    "df = spark.read.options(header='True', inferSchema='True').csv(\"./datos/*.csv\")\n",
    "\n",
    "\n",
    "\n"
   ]
  },
  {
   "cell_type": "code",
   "execution_count": 2,
   "id": "2a203caf-909b-4e80-9768-69eeb57f30e7",
   "metadata": {},
   "outputs": [
    {
     "name": "stderr",
     "output_type": "stream",
     "text": [
      "                                                                                \r"
     ]
    },
    {
     "data": {
      "text/plain": [
       "20440397"
      ]
     },
     "execution_count": 2,
     "metadata": {},
     "output_type": "execute_result"
    }
   ],
   "source": [
    "#contamos el numero de registros\n",
    "df.count()"
   ]
  },
  {
   "cell_type": "code",
   "execution_count": 8,
   "id": "ee55149a-52d0-4ec7-b048-c7ebfba4c6da",
   "metadata": {},
   "outputs": [
    {
     "name": "stdout",
     "output_type": "stream",
     "text": [
      "root\n",
      " |-- event_time: string (nullable = true)\n",
      " |-- event_type: string (nullable = true)\n",
      " |-- product_id: integer (nullable = true)\n",
      " |-- category_id: long (nullable = true)\n",
      " |-- category_code: string (nullable = true)\n",
      " |-- brand: string (nullable = true)\n",
      " |-- price: double (nullable = true)\n",
      " |-- user_id: integer (nullable = true)\n",
      " |-- user_session: string (nullable = true)\n",
      "\n"
     ]
    }
   ],
   "source": [
    "#sacamos la estructura de los datos\n",
    "df.printSchema()"
   ]
  },
  {
   "cell_type": "code",
   "execution_count": 12,
   "id": "d35b63a3-5add-4ff2-a96a-f307d5be3442",
   "metadata": {},
   "outputs": [
    {
     "data": {
      "text/plain": [
       "[Row(event_time='2019-12-01 00:00:02 UTC', event_type='cart', product_id=4958, category_id=1487580009471148064, category_code=None, brand='runail', price=1.19, user_id=494077766, user_session='c99a50e8-2fac-4c4d-89ec-41c05f114554'),\n",
       " Row(event_time='2019-12-01 00:00:34 UTC', event_type='cart', product_id=5335, category_id=1487580009605365797, category_code=None, brand='runail', price=0.4, user_id=494077766, user_session='c99a50e8-2fac-4c4d-89ec-41c05f114554')]"
      ]
     },
     "execution_count": 12,
     "metadata": {},
     "output_type": "execute_result"
    }
   ],
   "source": [
    "#mostramos los primeros elementos\n",
    "#filter , head\n",
    "\n"
   ]
  },
  {
   "cell_type": "code",
   "execution_count": 4,
   "id": "f1c3527d-01a4-41c9-a3b4-ffc21d235d0e",
   "metadata": {},
   "outputs": [
    {
     "name": "stderr",
     "output_type": "stream",
     "text": [
      "                                                                                \r"
     ]
    },
    {
     "name": "stdout",
     "output_type": "stream",
     "text": [
      "+----------------+\n",
      "|      event_type|\n",
      "+----------------+\n",
      "|        purchase|\n",
      "|            view|\n",
      "|            cart|\n",
      "|remove_from_cart|\n",
      "+----------------+\n",
      "\n"
     ]
    }
   ],
   "source": [
    "#buscamos todos los tipos de eventos\n",
    "#select, distinct\n",
    "\n",
    "\n",
    "\n",
    "\n"
   ]
  },
  {
   "cell_type": "code",
   "execution_count": 5,
   "id": "8ec08be1-f0e2-4e2c-a7b5-0dc896f1df8d",
   "metadata": {},
   "outputs": [
    {
     "name": "stderr",
     "output_type": "stream",
     "text": [
      "[Stage 14:===============================================>        (16 + 3) / 19]\r"
     ]
    },
    {
     "name": "stdout",
     "output_type": "stream",
     "text": [
      "+------------+\n",
      "|       brand|\n",
      "+------------+\n",
      "|     beautix|\n",
      "|     farmona|\n",
      "|  dr.gloderm|\n",
      "|   profhenna|\n",
      "|    bioderma|\n",
      "|     philips|\n",
      "|invisibobble|\n",
      "|       riche|\n",
      "|        nova|\n",
      "|        oniq|\n",
      "|    lebelage|\n",
      "|     vilenta|\n",
      "|       fancy|\n",
      "|      jaguar|\n",
      "|      tertio|\n",
      "|    siberina|\n",
      "|   koreatida|\n",
      "|         jas|\n",
      "|rocknailstar|\n",
      "|   depilflax|\n",
      "+------------+\n",
      "only showing top 20 rows\n",
      "\n"
     ]
    },
    {
     "name": "stderr",
     "output_type": "stream",
     "text": [
      "                                                                                \r"
     ]
    }
   ],
   "source": [
    "#buscamos todas las marcas distintas\n",
    "\n",
    "\n"
   ]
  },
  {
   "cell_type": "code",
   "execution_count": 6,
   "id": "e5e91b57-f107-436b-bbce-b77e80d5891a",
   "metadata": {},
   "outputs": [
    {
     "name": "stderr",
     "output_type": "stream",
     "text": [
      "                                                                                \r"
     ]
    },
    {
     "data": {
      "text/plain": [
       "254"
      ]
     },
     "execution_count": 6,
     "metadata": {},
     "output_type": "execute_result"
    }
   ],
   "source": [
    "#buscamos todas sesiones \n",
    "\n"
   ]
  },
  {
   "cell_type": "code",
   "execution_count": 7,
   "id": "1b3b939a-8f5a-4672-8171-083ee83749dc",
   "metadata": {},
   "outputs": [
    {
     "name": "stdout",
     "output_type": "stream",
     "text": [
      "+----------+\n",
      "|product_id|\n",
      "+----------+\n",
      "|      4958|\n",
      "|   5629988|\n",
      "|      5335|\n",
      "|   5755170|\n",
      "|   5755170|\n",
      "|   5755170|\n",
      "|   5761411|\n",
      "|   5761411|\n",
      "|   5904369|\n",
      "|   5600449|\n",
      "|   5666749|\n",
      "|   5862564|\n",
      "|   5700046|\n",
      "|   5700046|\n",
      "|   5862313|\n",
      "|   5798924|\n",
      "|   5810157|\n",
      "|   5693501|\n",
      "|   5693501|\n",
      "|   5860196|\n",
      "+----------+\n",
      "only showing top 20 rows\n",
      "\n"
     ]
    }
   ],
   "source": [
    "#al ser una tienda y tener listado de compras, podemos sacar listados de produyctos relacionados\n",
    "\n",
    "#primero scamos dotos los podructos que se hayan comprado\n",
    "\n"
   ]
  },
  {
   "cell_type": "code",
   "execution_count": 40,
   "id": "f116cff9-5353-4caa-b746-b0409de46579",
   "metadata": {},
   "outputs": [
    {
     "name": "stderr",
     "output_type": "stream",
     "text": [
      "                                                                                \r"
     ]
    },
    {
     "data": {
      "text/plain": [
       "35469"
      ]
     },
     "execution_count": 40,
     "metadata": {},
     "output_type": "execute_result"
    }
   ],
   "source": [
    "# dado el producto 5844397\n",
    "# obtengo todas las sesiones de compra que contengan dicho producto\n",
    "\n",
    "#buscamos los procutos que se hayan comprado en dichas sesiones\n",
    "#isin\n",
    "\n",
    "\n"
   ]
  },
  {
   "cell_type": "code",
   "execution_count": 44,
   "id": "5935e3aa-5384-4dcd-b2b9-2dafb966a688",
   "metadata": {},
   "outputs": [
    {
     "name": "stderr",
     "output_type": "stream",
     "text": [
      "                                                                                \r"
     ]
    }
   ],
   "source": [
    "#products_related.write.mode(\"overwrite\").csv(\"./datos/products_related\")"
   ]
  },
  {
   "cell_type": "code",
   "execution_count": 35,
   "id": "4a2ea2a6-011e-4376-b0a9-0d773a329938",
   "metadata": {},
   "outputs": [
    {
     "name": "stderr",
     "output_type": "stream",
     "text": [
      "[Stage 53:===============================================>        (16 + 3) / 19]\r"
     ]
    },
    {
     "name": "stdout",
     "output_type": "stream",
     "text": [
      "+---------+-------+\n",
      "|    brand|  count|\n",
      "+---------+-------+\n",
      "|     null|2461542|\n",
      "|   runail| 485213|\n",
      "|    irisk| 330089|\n",
      "|   masura| 244789|\n",
      "|  grattol| 214863|\n",
      "|bpw.style| 130202|\n",
      "| ingarden| 122627|\n",
      "|    estel|  85872|\n",
      "|   kapous|  71152|\n",
      "|freedecor|  69048|\n",
      "|      uno|  66527|\n",
      "|  italwax|  64500|\n",
      "|     pole|  57147|\n",
      "|  bluesky|  56623|\n",
      "| haruyama|  54471|\n",
      "|     milv|  50232|\n",
      "|    domix|  46742|\n",
      "| nagaraku|  44487|\n",
      "| jessnail|  42647|\n",
      "|  concept|  42172|\n",
      "+---------+-------+\n",
      "only showing top 20 rows\n",
      "\n"
     ]
    },
    {
     "name": "stderr",
     "output_type": "stream",
     "text": [
      "                                                                                \r"
     ]
    }
   ],
   "source": [
    "#obtener las marcas que mas se meten en el carrito\n",
    "#marcas= df.filter(\"event_type='cart'\").groupBy(\"brand\")\n"
   ]
  },
  {
   "cell_type": "markdown",
   "id": "d14392e1-73af-43e7-a5a5-6297fb21174d",
   "metadata": {},
   "source": [
    "# Con Data frame tambien podemos trabajar con la api de SQL\n",
    "\n",
    "Las consultas SQL no funcionan con RDD"
   ]
  },
  {
   "cell_type": "code",
   "execution_count": 50,
   "id": "a4177d76-ebca-4066-b1c5-2e9e4f062bca",
   "metadata": {},
   "outputs": [
    {
     "name": "stdout",
     "output_type": "stream",
     "text": [
      "+--------------------+----------+----------+-------------------+-------------+-----+-----+---------+--------------------+\n",
      "|          event_time|event_type|product_id|        category_id|category_code|brand|price|  user_id|        user_session|\n",
      "+--------------------+----------+----------+-------------------+-------------+-----+-----+---------+--------------------+\n",
      "|2019-11-01 00:00:...|      view|   5802432|1487580009286598681|         null| null| 0.32|562076640|09fafd6c-6c99-46b...|\n",
      "|2019-11-01 00:00:...|      cart|   5844397|1487580006317032337|         null| null| 2.38|553329724|2067216c-31b5-455...|\n",
      "|2019-11-01 00:00:...|      view|   5837166|1783999064103190764|         null|  pnb|22.22|556138645|57ed222e-a54a-490...|\n",
      "+--------------------+----------+----------+-------------------+-------------+-----+-----+---------+--------------------+\n",
      "\n"
     ]
    }
   ],
   "source": [
    "df.createOrReplaceTempView(\"data\")\n",
    "spark.sql(\"select * from data limit 3\").show()"
   ]
  },
  {
   "cell_type": "code",
   "execution_count": 47,
   "id": "189177b6-052e-4602-92f6-d84c6873b24c",
   "metadata": {},
   "outputs": [
    {
     "name": "stdout",
     "output_type": "stream",
     "text": [
      "+--------------------+----------+----------+-------------------+-------------+--------+-----+---------+--------------------+\n",
      "|          event_time|event_type|product_id|        category_id|category_code|   brand|price|  user_id|        user_session|\n",
      "+--------------------+----------+----------+-------------------+-------------+--------+-----+---------+--------------------+\n",
      "|2019-11-01 00:00:...|      cart|   5844397|1487580006317032337|         null|    null| 2.38|553329724|2067216c-31b5-455...|\n",
      "|2019-11-01 00:00:...|      cart|   5876812|1487580010100293687|         null|jessnail| 3.16|564506666|186c1951-8052-4b3...|\n",
      "|2019-11-01 00:01:...|      cart|      4607|1487580010796548183|         null|  runail| 0.38|553329724|2067216c-31b5-455...|\n",
      "+--------------------+----------+----------+-------------------+-------------+--------+-----+---------+--------------------+\n",
      "\n"
     ]
    }
   ],
   "source": [
    "spark.sql(\"select * from data where event_type='cart' limit 3\").show()"
   ]
  },
  {
   "cell_type": "code",
   "execution_count": 51,
   "id": "c657177a-333d-4864-82f8-def93bfcaecb",
   "metadata": {},
   "outputs": [
    {
     "name": "stderr",
     "output_type": "stream",
     "text": [
      "[Stage 102:>                                                        (0 + 4) / 4]\r"
     ]
    },
    {
     "name": "stdout",
     "output_type": "stream",
     "text": [
      "+--------+\n",
      "|count(1)|\n",
      "+--------+\n",
      "| 1240628|\n",
      "+--------+\n",
      "\n"
     ]
    },
    {
     "name": "stderr",
     "output_type": "stream",
     "text": [
      "                                                                                \r"
     ]
    }
   ],
   "source": [
    "spark.sql(\"select count(*) from data where event_type='cart'\").show()"
   ]
  },
  {
   "cell_type": "code",
   "execution_count": null,
   "id": "8f5dbf0c-cff7-496f-adeb-a29a2643bdec",
   "metadata": {},
   "outputs": [],
   "source": []
  },
  {
   "cell_type": "code",
   "execution_count": null,
   "id": "6cc6c294-31e4-447b-afc3-f0cffa0b0ab7",
   "metadata": {},
   "outputs": [],
   "source": []
  }
 ],
 "metadata": {
  "kernelspec": {
   "display_name": "Python 3 (ipykernel)",
   "language": "python",
   "name": "python3"
  },
  "language_info": {
   "codemirror_mode": {
    "name": "ipython",
    "version": 3
   },
   "file_extension": ".py",
   "mimetype": "text/x-python",
   "name": "python",
   "nbconvert_exporter": "python",
   "pygments_lexer": "ipython3",
   "version": "3.8.10"
  }
 },
 "nbformat": 4,
 "nbformat_minor": 5
}
