{
 "cells": [
  {
   "cell_type": "markdown",
   "metadata": {},
   "source": [
    "### a. ¿Qué es la neurotecnología?\n",
    "\n",
    "La neurotecnología es un conjunto de herramientas que se utilizan para estudiar, entender, visualizar e incluso controlar el cerebro.\n",
    "\n",
    "### b. La tecnología utilizada con el macaco, ¿es invasiva o no invasiva? ¿cuál es la principal ventaja \n",
    "de la invasiva frente a la no invasiva y de la no invasiva frente a la invasiva?\n",
    "\n",
    "La tecnología utilizada con el mono sería invasiva ya que es un chip que se mete directamente dentro del cerebro. \n",
    "\n",
    "La principal ventaja de la invasiva es que es más cómoda de utilizar, sin embargo puede ser más peligrosa y difícil de implantar.\n",
    "\n",
    "### c. En el artículo aparece una imagen que muestra el posible avance cronológico de los \n",
    "implantes tecnológicos. Según este avance para que década deberíamos tener resueltas las \n",
    "cuestiones éticas en este campo. Justifica tu respuesta\n",
    "\n",
    "Estas cuestiones deberían estar resueltas en la década actual ya que ya se están empezando a utilizar estas tecnologías.\n",
    "\n",
    "### d. Escribe 2 usos que según tu parecer serían correctos de la neurotecnología.\n",
    "\n",
    "1. **Rehabilitación neurológica:** La neurotecnología puede ayudar en la rehabilitación de lesiones cerebrales o trastornos neurológicos, usando interfaces cerebro-computadora (BCI) o estimulación cerebral para recuperar funciones perdidas.\n",
    "\n",
    "2. **Mejora del rendimiento cognitivo:** Se puede emplear la neurotecnología para mejorar la memoria, concentración y toma de decisiones en personas sanas mediante la estimulación cerebral, útil en educación, trabajo y deporte, pero debe usarse éticamente.\n",
    "\n",
    "### e. Escribe los 2 usos  más inquietantes y menos deseables que según tu parecer se podrían alcanzar con un uso poco ético de la Neurotecnología.\n",
    "\n",
    "1. **Manipulación del pensamiento y control mental:** Uso de la neurotecnología para manipular los pensamientos y comportamientos de las personas sin su consentimiento, lo que podría llevar al control mental y la pérdida de autonomía.\n",
    "\n",
    "2. **Creación de armas neurales:** Desarrollo de armas que afecten el sistema nervioso humano, con el potencial de causar daño indiscriminado y violaciones graves de los derechos humanos en conflictos militares o actos terroristas."
   ]
  }
 ],
 "metadata": {
  "language_info": {
   "name": "python"
  }
 },
 "nbformat": 4,
 "nbformat_minor": 2
}
