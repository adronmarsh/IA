{
 "cells": [
  {
   "cell_type": "markdown",
   "metadata": {},
   "source": [
    "| Aspecto | Regresión | Clasificación | Refuerzo (Reinforcement Learning) |\n",
    "| --- | --- | --- | --- |\n",
    "| Tipo de problema | Predicción de valores numéricos o continuos | Asignación a categorías o clases | Aprendizaje de decisiones secuenciales en un entorno para maximizar recompensas |\n",
    "| Objetivo principal | Encontrar una función que mapee las características de entrada a un valor de salida | Aprender una función que separe efectivamente las clases basándose en características de entrada | Aprender una política óptima para maximizar una recompensa acumulativa a lo largo del tiempo |\n",
    "| Ejemplos comunes | Predicción de precios, estimación de temperaturas, pronóstico de tiempo de entrega | Detección de spam, reconocimiento de dígitos escritos a mano, detección de enfermedades en imágenes médicas | Juegos de video, robótica, control de procesos industriales, gestión de carteras financieras |\n",
    "| Métricas de evaluación | MSE, R-squared, error absoluto medio | Precisión, sensibilidad, especificidad, matriz de confusión | Recompensa acumulativa, tasa de aprendizaje del agente, valor de la función de valor |"
   ]
  },
  {
   "cell_type": "markdown",
   "metadata": {},
   "source": [
    "| Componente | Input | Output | Ejemplo |\n",
    "| --- | --- | --- | --- |\n",
    "| ASR | Audio | Texto | Google Recognition System, Amazon Transcript |\n",
    "| NLU | Texto | Intención, Slot | Google Dialogflow, Amazon Lex |\n",
    "| DM | Intención, Slot, Contexto | Respuesta | IBM Watson Assistant, Rasa |\n",
    "| TTS | Texto | Audio | Google Text-to-Speech, Amazon Polly |"
   ]
  },
  {
   "cell_type": "markdown",
   "metadata": {},
   "source": [
    "| Contexto | Sistema Cognitivo | Decisión | BigData | Ejemplo |\n",
    "| --- | --- | --- | --- | --- |\n",
    "| Cámara | Detección de anomalías | Detectar mascarillas | Guardar todas las fotos | Comprobar si alguien lleva puesta la mascarilla |\n",
    "| - | - | - | Kafka (para enviar las imágenes a la base de datos) | - |\n"
   ]
  }
 ],
 "metadata": {
  "language_info": {
   "name": "python"
  }
 },
 "nbformat": 4,
 "nbformat_minor": 2
}
