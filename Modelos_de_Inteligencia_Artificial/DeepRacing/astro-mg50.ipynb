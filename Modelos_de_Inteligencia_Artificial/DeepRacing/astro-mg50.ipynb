{
 "cells": [
  {
   "cell_type": "code",
   "execution_count": null,
   "metadata": {},
   "outputs": [],
   "source": [
    "def reward_function(params):\n",
    "    # Parámetros de entrada\n",
    "    all_wheels_on_track = params['all_wheels_on_track']\n",
    "    speed = params['speed']\n",
    "    steering_angle = params['steering_angle']\n",
    "    track_width = params['track_width']\n",
    "    distance_from_center = params['distance_from_center']\n",
    "\n",
    "    # Configuraciones básicas\n",
    "    reward = 1e-3\n",
    "\n",
    "    # Velocidades mínima y máxima deseadas\n",
    "    min_speed = 0.72\n",
    "    max_speed = 1.25\n",
    "\n",
    "    # Penalización por salir completamente de la pista\n",
    "    if not all_wheels_on_track:\n",
    "        return reward\n",
    "\n",
    "\n",
    "    if speed < min_speed:\n",
    "        reward *= 0.5  # Penalización por ir demasiado lento\n",
    "    elif speed > max_speed:\n",
    "        reward *= 0.5  # Penalización por exceder la velocidad máxima\n",
    "    else:\n",
    "        reward += speed  # Recompensa por mantener una velocidad óptima\n",
    "\n",
    "    # Recompensa base por mantenerse en la pista\n",
    "    reward = 1.0\n",
    "\n",
    "    # Recompensa adicional por tomar curvas cerradas de manera agresiva\n",
    "    if abs(steering_angle) > 27:\n",
    "        # Calcular la proximidad al borde interno de la pista\n",
    "        inner_track_limit = 0.1 * track_width\n",
    "        if distance_from_center <= inner_track_limit:\n",
    "            reward += 2.2 \n",
    "\n",
    "    # Devuelve el valor de la recompensa\n",
    "    return float(reward)\n"
   ]
  }
 ],
 "metadata": {
  "language_info": {
   "name": "python"
  }
 },
 "nbformat": 4,
 "nbformat_minor": 2
}
