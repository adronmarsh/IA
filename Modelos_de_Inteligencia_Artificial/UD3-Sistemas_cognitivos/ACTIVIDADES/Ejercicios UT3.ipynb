{
 "cells": [
  {
   "cell_type": "markdown",
   "metadata": {},
   "source": [
    "## Ejercicio 1"
   ]
  },
  {
   "cell_type": "markdown",
   "metadata": {},
   "source": [
    "| Contexto | Decisión | Sistema cognitivo | Big Data |\n",
    "|:--------:|:--------:|:-----------------:|:--------:|\n",
    "| Micro, altavoz    | Respuesta, más rápido | Regresión         | Consumidos, temas programados|\n"
   ]
  },
  {
   "cell_type": "markdown",
   "metadata": {},
   "source": [
    "## Ejercicio 2"
   ]
  },
  {
   "cell_type": "markdown",
   "metadata": {},
   "source": [
    "| Contexto | Decisión | Sistema cognitivo | Big Data |\n",
    "|:--------:|:--------:|:-----------------:|:--------:|\n",
    "| Cámara    | Objeto, persona| Clasificador         | Imagen|"
   ]
  },
  {
   "cell_type": "markdown",
   "metadata": {},
   "source": [
    "## Ejercicio 3"
   ]
  },
  {
   "cell_type": "markdown",
   "metadata": {},
   "source": [
    "| Contexto | Decisión | Sistema cognitivo | Big Data |\n",
    "|:--------:|:--------:|:-----------------:|:--------:|\n",
    "| Cámara | Detectar la cantidad de pepitas en cada galleta |  Clasificador        | Imágenes de galletas |\n"
   ]
  },
  {
   "cell_type": "markdown",
   "metadata": {},
   "source": [
    "## Ejercicio 4"
   ]
  },
  {
   "cell_type": "markdown",
   "metadata": {},
   "source": [
    "| Contexto | Decisión | Sistema cognitivo | Big Data |\n",
    "|:--------:|:--------:|:-----------------:|:--------:|\n",
    "| Camión para mover cajas | + Velocidad, + Independencia  |  Clasificador        | Imágenes, Líneas internas |\n"
   ]
  },
  {
   "cell_type": "markdown",
   "metadata": {},
   "source": [
    "## Ejercicio 5"
   ]
  },
  {
   "cell_type": "markdown",
   "metadata": {},
   "source": [
    "| Contexto | Decisión | Sistema cognitivo | Big Data |\n",
    "|:--------:|:--------:|:-----------------:|:--------:|\n",
    "| Dron | Código paquete | Clasificador     | Imágenes |\n"
   ]
  },
  {
   "cell_type": "markdown",
   "metadata": {},
   "source": [
    "## Ejercicio 6"
   ]
  },
  {
   "cell_type": "markdown",
   "metadata": {},
   "source": [
    "| Contexto | Decisión | Sistema cognitivo | Big Data |\n",
    "|:--------:|:--------:|:-----------------:|:--------:|\n",
    "| Cámara | Fichar | Clasificador     | Imagen |\n"
   ]
  },
  {
   "cell_type": "markdown",
   "metadata": {},
   "source": [
    "## Ejercicio 7"
   ]
  },
  {
   "cell_type": "markdown",
   "metadata": {},
   "source": [
    "| Contexto | Decisión | Sistema cognitivo | Big Data |\n",
    "|:--------:|:--------:|:-----------------:|:--------:|\n",
    "| Cámara | Detectar anomalías en el entorno  | Clasificador | Imágenes |\n"
   ]
  }
 ],
 "metadata": {
  "kernelspec": {
   "display_name": "Python 3",
   "language": "python",
   "name": "python3"
  },
  "language_info": {
   "codemirror_mode": {
    "name": "ipython",
    "version": 3
   },
   "file_extension": ".py",
   "mimetype": "text/x-python",
   "name": "python",
   "nbconvert_exporter": "python",
   "pygments_lexer": "ipython3",
   "version": "3.11.6"
  }
 },
 "nbformat": 4,
 "nbformat_minor": 2
}
