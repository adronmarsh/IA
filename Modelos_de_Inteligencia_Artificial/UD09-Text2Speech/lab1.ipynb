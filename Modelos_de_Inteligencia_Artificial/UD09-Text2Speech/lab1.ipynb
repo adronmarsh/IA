{
 "cells": [
  {
   "cell_type": "markdown",
   "metadata": {},
   "source": [
    "## Ejercicio 1\n",
    "```ssml\n",
    "<!--ID=B7267351-473F-409D-9765-754A8EBCDE05;Version=1|{\"VoiceNameToIdMapItems\":[{\"Id\":\"9314d042-c519-4087-ba99-1a49d78e2d9f\",\"Name\":\"Microsoft Server Speech Text to Speech Voice (es-ES, ElviraNeural)\",\"ShortName\":\"es-ES-ElviraNeural\",\"Locale\":\"es-ES\",\"VoiceType\":\"StandardVoice\"}]}-->\n",
    "<speak xmlns=\"http://www.w3.org/2001/10/synthesis\" xmlns:mstts=\"http://www.w3.org/2001/mstts\" xmlns:emo=\"http://www.w3.org/2009/10/emotionml\" version=\"1.0\" xml:lang=\"es-ES\"><voice name=\"es-ES-ElviraNeural\">\n",
    "El streamer vasco ha anunciado que este año prepara de nuevo un programa especial para las Campanadas de fin de año y este domingo <break time=\"5000ms\" /> desvela quién le acompañará\n",
    "</voice></speak>\n",
    "```"
   ]
  },
  {
   "cell_type": "markdown",
   "metadata": {},
   "source": [
    "## Ejercicio 2\n",
    "```ssml\n",
    "<!--ID=B7267351-473F-409D-9765-754A8EBCDE05;Version=1|{\"VoiceNameToIdMapItems\":[{\"Id\":\"19eaa6ae-0655-4704-928b-28e1f1b917b2\",\"Name\":\"Microsoft Server Speech Text to Speech Voice (en-US, JennyMultilingualNeural)\",\"ShortName\":\"en-US-JennyMultilingualNeural\",\"Locale\":\"en-US\",\"VoiceType\":\"StandardVoice\"}]}-->\n",
    "<speak xmlns=\"http://www.w3.org/2001/10/synthesis\" xmlns:mstts=\"http://www.w3.org/2001/mstts\" xmlns:emo=\"http://www.w3.org/2009/10/emotionml\" version=\"1.0\" xml:lang=\"en-US\">\n",
    "     <voice name=\"en-US-JennyMultilingualNeural\">\n",
    "         <lang xml:lang=\"es-ES\">El</lang>\n",
    "         <lang xml:lang=\"en-US\">streamer </lang>\n",
    "         <lang xml:lang=\"es-ES\">vasco ha anunciado que este año prepara de nuevo un programa especial para las Campanadas de fin de año y este domingo desvela quién le acompañará </lang>\n",
    "    </voice>\n",
    "</speak>\n",
    "```"
   ]
  },
  {
   "cell_type": "markdown",
   "metadata": {},
   "source": [
    "## Ejercicio 3\n",
    "```ssml\n",
    "<speak version=\"1.0\" xmlns=\"http://www.w3.org/2001/10/synthesis\" xml:lang=\"en-US\">\n",
    "<voice name=\"es-ES-ElviraNeural\">\n",
    "El streamer vasco ha anunciado que este año prepara de nuevo un programa especial para  \n",
    "     <prosody volume=\"+100%\">\n",
    "las Campanadas de fin de año\n",
    "     </prosody>\n",
    "y este domingo desvela quién le acompañará\n",
    "</voice>\n",
    "</speak>\n",
    "```"
   ]
  },
  {
   "cell_type": "markdown",
   "metadata": {},
   "source": [
    "## Ejercicio 4\n",
    "```ssml\n",
    "<!--ID=B7267351-473F-409D-9765-754A8EBCDE05;Version=1|{\"VoiceNameToIdMapItems\":[{\"Id\":\"9314d042-c519-4087-ba99-1a49d78e2d9f\",\"Name\":\"Microsoft Server Speech Text to Speech Voice (es-ES, ElviraNeural)\",\"ShortName\":\"es-ES-ElviraNeural\",\"Locale\":\"es-ES\",\"VoiceType\":\"StandardVoice\"}]}-->\n",
    "<speak xmlns=\"http://www.w3.org/2001/10/synthesis\" xmlns:mstts=\"http://www.w3.org/2001/mstts\" xmlns:emo=\"http://www.w3.org/2009/10/emotionml\" version=\"1.0\" xml:lang=\"es-ES\"><voice name=\"es-ES-ElviraNeural\">\n",
    "El streamer vasco ha anunciado que este año prepara de nuevo un programa especial para  \n",
    "     \n",
    "<prosody volume=\"+100%\">las Campanadas de fin de año\n",
    "     </prosody>\n",
    "y este domingo\n",
    "<prosody volume=\"-50%\">desvela quién le acompañará\n",
    "     </prosody>\n",
    "</voice></speak>\n",
    "```"
   ]
  },
  {
   "cell_type": "markdown",
   "metadata": {},
   "source": [
    "## Ejercicio 5\n",
    "```ssml\n",
    "<speak version=\"1.0\" xmlns=\"http://www.w3.org/2001/10/synthesis\" xml:lang=\"es-ES\"> <voice \n",
    "name=\"es-ES-ElviraNeural\">\n",
    "<p>El streamer vasco ha anunciado que este año prepara de nuevo un programa especial para las Campanadas de fin de año y este domingo desvela quién le acompañará. </p><p> También  hay  un  rumor  por  la  red  que  se  ha  enfadado  con  su compañero Auronplay debido a la serie TortillaLand, al parecer no le gusta que jueguen con el nombre de un plato tan típico y bueno como la tortilla</p>\n",
    "</voice> </speak>\n",
    "```"
   ]
  },
  {
   "cell_type": "markdown",
   "metadata": {},
   "source": [
    "## Ejercicio 6\n",
    "```ssml\n",
    "<speak version=\"1.0\" xmlns=\"http://www.w3.org/2001/10/synthesis\" xml:lang=\"es-ES\"> <voice \n",
    "name=\"es-ES-ElviraNeural\">\n",
    "El streamer vasco ha anunciado que este año prepara de nuevo un programa especial para las Campanadas de fin de año y este domingo desvela quién le acompañará. <mstts:silence  type=\"Sentenceboundary\" value=\"3000ms\"/> También  hay  un  rumor  por  la  red  que  se  ha  enfadado  con  su compañero Auronplay debido a la serie TortillaLand, al parecer no le gusta que jueguen con el nombre de un plato tan típico y bueno como la tortilla. El  conocido  como  gigante  noble  es  capaz  de cenar una tortilla española de 6 huevos. <mstts:silence  type=\"Sentenceboundary\" value=\"3000ms\"/>\n",
    "</voice> </speak>\n",
    "```"
   ]
  },
  {
   "cell_type": "markdown",
   "metadata": {},
   "source": [
    "## Ejercicio 7\n",
    "```ssml\n",
    "<!--ID=B7267351-473F-409D-9765-754A8EBCDE05;Version=1|{\"VoiceNameToIdMapItems\":[{\"Id\":\"9314d042-c519-4087-ba99-1a49d78e2d9f\",\"Name\":\"Microsoft Server Speech Text to Speech Voice (es-ES, ElviraNeural)\",\"ShortName\":\"es-ES-ElviraNeural\",\"Locale\":\"es-ES\",\"VoiceType\":\"StandardVoice\"}]}-->\n",
    "<speak xmlns=\"http://www.w3.org/2001/10/synthesis\" xmlns:mstts=\"http://www.w3.org/2001/mstts\" xmlns:emo=\"http://www.w3.org/2009/10/emotionml\" version=\"1.0\" xml:lang=\"es-ES\"><voice name=\"es-ES-ElviraNeural\">     \n",
    "<prosody volume=\"+100%\">\n",
    "Rosalía y Rauw Alejandro concedió una entrevista al programa puertorriqueño Alofoke sin censura donde habló sobre el eclipse sufrido por el gigante noble.\n",
    "</prosody>\n",
    "<prosody volume=\"-75%\">Rosalía y Rauw Alejandro concedió una entrevista al programa puertorriqueño Alofoke sin censura donde habló sobre el eclipse sufrido por el gigante noble.”\n",
    "     </prosody>\n",
    "</voice></speak>\n",
    "```"
   ]
  },
  {
   "cell_type": "markdown",
   "metadata": {},
   "source": [
    "## Ejercicio 8\n",
    "```ssml\n",
    "<!--ID=B7267351-473F-409D-9765-754A8EBCDE05;Version=1|{\"VoiceNameToIdMapItems\":[{\"Id\":\"9314d042-c519-4087-ba99-1a49d78e2d9f\",\"Name\":\"Microsoft Server Speech Text to Speech Voice (es-ES, ElviraNeural)\",\"ShortName\":\"es-ES-ElviraNeural\",\"Locale\":\"es-ES\",\"VoiceType\":\"StandardVoice\"}]}-->\n",
    "<speak version=\"1.0\" xmlns=\"http://www.w3.org/2001/10/synthesis\" xml:lang=\"en-US\">\n",
    "<voice name=\"es-ES-ElviraNeural\">\n",
    "     <prosody rate=\"-20.00%\">\n",
    "         La cantante española comentó cuando se puso delante es como  si  el  mundo  se  hubiera  parado,  todo  pasaba  muy despacio como si Rauw Alejandro y yo estuviéramos solos\n",
    "     </prosody>\n",
    "</voice>\n",
    "</speak>\n",
    "```"
   ]
  },
  {
   "cell_type": "markdown",
   "metadata": {},
   "source": [
    "## Ejercicio 9\n",
    "```ssml\n",
    "<speak version=\"1.0\" xmlns=\"http://www.w3.org/2001/10/synthesis\" xml:lang=\"es-ES\">\n",
    "<voice name=\"es-ES-ElviraNeural\">\n",
    "<prosody volume = \"x-loud\"> \n",
    "Las  autoridades  fiscales  de  varias  de  las  provincias  más prósperas  de  China,  entre  ellas  Pekín  y  Shanghái, \n",
    "</prosody> \n",
    "<prosody volume=\"silent\"> han  dado  a famosos e 'influencers' de internet un plazo de diez días para que \n",
    "</prosody> \n",
    "<prosody volume=\"+3db\"> se  pongan  al  día  en  el  pago  de  sus  impuestos  so  pena  de  un severo castigo\" si no lo hacen, informaron hoy medios locales. \n",
    "</prosody>\n",
    "</voice>\n",
    "</speak>\n",
    "```"
   ]
  },
  {
   "cell_type": "markdown",
   "metadata": {},
   "source": [
    "## Ejercicio 10\n",
    "```ssml\n",
    "<speak version=\"1.0\" xmlns=\"http://www.w3.org/2001/10/synthesis\" xml:lang=\"es-ES\">\n",
    "<voice name=\"es-ES-ElviraNeural\">\n",
    "    <prosody rate=\"fast\">  \n",
    "  Las autoridades fiscales de varias de las provincias másprósperas de China, entre ellas Pekín y Shanghái, \n",
    "    </prosody>\n",
    "    <prosody rate=\"slow\">\n",
    "han dado a famosos e 'influencers' de internet un plazo de diez días para que \n",
    "</prosody>\n",
    "  <prosody rate=\"50%\">\n",
    "se pongan al día en el pago de sus impuestos so pena de un \"severo castigo\" si no lo hacen, informaron hoy medios locales.\n",
    "</prosody>\n",
    "</voice>\n",
    "</speak>\n",
    "```"
   ]
  }
 ],
 "metadata": {
  "language_info": {
   "name": "python"
  }
 },
 "nbformat": 4,
 "nbformat_minor": 2
}
