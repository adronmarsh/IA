{
  "nbformat": 4,
  "nbformat_minor": 0,
  "metadata": {
    "colab": {
      "provenance": [],
      "collapsed_sections": [
        "9ZEWWqKCbqOX",
        "pqg5au9tbvyw",
        "NW52HPsGbz93",
        "FuBWriq0vOFi",
        "Ty6lXtOHvC9E"
      ]
    },
    "kernelspec": {
      "name": "python3",
      "display_name": "Python 3"
    },
    "language_info": {
      "name": "python"
    }
  },
  "cells": [
    {
      "cell_type": "markdown",
      "metadata": {
        "id": "5pagTDWmwIA6"
      },
      "source": [
        "# Titanic Dataset:\n",
        "https://www.kaggle.com/c/titanic/data\n"
      ]
    },
    {
      "cell_type": "markdown",
      "metadata": {
        "id": "JEyk2yX7aUvG"
      },
      "source": [
        "¿Para que nos sirve cada uno de los imports que hacemos?"
      ]
    },
    {
      "cell_type": "code",
      "metadata": {
        "id": "HL7fwWBJT0D-"
      },
      "source": [
        "import numpy as np\n",
        "import pandas as pd\n",
        "import seaborn as sns\n",
        "import matplotlib.pyplot as plt"
      ],
      "execution_count": null,
      "outputs": []
    },
    {
      "cell_type": "markdown",
      "metadata": {
        "id": "vAABRiOIULR7"
      },
      "source": [
        "Bases de datos necesarias: *titanic_train y titanic_test*"
      ]
    },
    {
      "cell_type": "code",
      "metadata": {
        "id": "0AUnC_g2UAqf"
      },
      "source": [
        "df_train = pd.read_csv('titanic_train.csv', header = 0, dtype={'Age': np.float64})\n",
        "df_test  = pd.read_csv('titanic_test.csv' , header = 0, dtype={'Age': np.float64})\n",
        "df = df_train.append(df_test, ignore_index=True)"
      ],
      "execution_count": null,
      "outputs": []
    },
    {
      "cell_type": "markdown",
      "metadata": {
        "id": "ESqLQ7V7VW4-"
      },
      "source": [
        "# Procesado de los datos"
      ]
    },
    {
      "cell_type": "markdown",
      "metadata": {
        "id": "SGQY8N0OWyWw"
      },
      "source": [
        "Recordemos primero los **problemas** con los que nos podemos encontrar en una base de datos:\n",
        "\n",
        "\n",
        "1.   Valores Nan\n",
        "2.   Valores categóricos\n",
        "\n",
        "En el ejercicio que se presenta a contincuación será necesario enfrentarse a estas situaciones para poder pasar los datos correctos al algoritmo.\n",
        "¿Cuáles son los distintos métodos que hemos trabajado para poder solventar estas situaciones?\n",
        "\n"
      ]
    },
    {
      "cell_type": "markdown",
      "metadata": {
        "id": "9ZEWWqKCbqOX"
      },
      "source": [
        "## ¿Con que tipo de información vamos a trabajar?"
      ]
    },
    {
      "cell_type": "markdown",
      "metadata": {
        "id": "pT75HFEUa6Mp"
      },
      "source": [
        "A partir de la información subministrada por ***df.info()***; ¿Qué variables deben ser modificadas? ¿Porque razón? ¿ Qué métodos podemos emplear?\n",
        "\n"
      ]
    },
    {
      "cell_type": "code",
      "metadata": {
        "colab": {
          "base_uri": "https://localhost:8080/"
        },
        "id": "W1KkeYXyVjSb",
        "outputId": "331dba52-e8b2-46fa-83f7-ba92cc8d8f3c"
      },
      "source": [
        "df.info()"
      ],
      "execution_count": null,
      "outputs": [
        {
          "output_type": "stream",
          "name": "stdout",
          "text": [
            "<class 'pandas.core.frame.DataFrame'>\n",
            "RangeIndex: 1309 entries, 0 to 1308\n",
            "Data columns (total 12 columns):\n",
            " #   Column       Non-Null Count  Dtype  \n",
            "---  ------       --------------  -----  \n",
            " 0   PassengerId  1309 non-null   int64  \n",
            " 1   Survived     1309 non-null   int64  \n",
            " 2   Pclass       1309 non-null   int64  \n",
            " 3   Name         1309 non-null   object \n",
            " 4   Sex          1309 non-null   object \n",
            " 5   Age          1046 non-null   float64\n",
            " 6   SibSp        1309 non-null   int64  \n",
            " 7   Parch        1309 non-null   int64  \n",
            " 8   Ticket       1309 non-null   object \n",
            " 9   Fare         1308 non-null   float64\n",
            " 10  Cabin        295 non-null    object \n",
            " 11  Embarked     1307 non-null   object \n",
            "dtypes: float64(2), int64(5), object(5)\n",
            "memory usage: 122.8+ KB\n"
          ]
        }
      ]
    },
    {
      "cell_type": "code",
      "metadata": {
        "id": "4S2pA-eRVn0B",
        "colab": {
          "base_uri": "https://localhost:8080/",
          "height": 345
        },
        "outputId": "568816bd-ba0e-4556-d498-7abd0a11518e"
      },
      "source": [
        "#Si queremos ver únicamente los primeros valores que hay en una base de datos ejecutamos:\n",
        "df.head()\n",
        "#Recordemos la importancia de visualizar la tabla, para poder ver de una manera clara como está estructurada la información"
      ],
      "execution_count": null,
      "outputs": [
        {
          "output_type": "execute_result",
          "data": {
            "text/html": [
              "<div>\n",
              "<style scoped>\n",
              "    .dataframe tbody tr th:only-of-type {\n",
              "        vertical-align: middle;\n",
              "    }\n",
              "\n",
              "    .dataframe tbody tr th {\n",
              "        vertical-align: top;\n",
              "    }\n",
              "\n",
              "    .dataframe thead th {\n",
              "        text-align: right;\n",
              "    }\n",
              "</style>\n",
              "<table border=\"1\" class=\"dataframe\">\n",
              "  <thead>\n",
              "    <tr style=\"text-align: right;\">\n",
              "      <th></th>\n",
              "      <th>PassengerId</th>\n",
              "      <th>Survived</th>\n",
              "      <th>Pclass</th>\n",
              "      <th>Name</th>\n",
              "      <th>Sex</th>\n",
              "      <th>Age</th>\n",
              "      <th>SibSp</th>\n",
              "      <th>Parch</th>\n",
              "      <th>Ticket</th>\n",
              "      <th>Fare</th>\n",
              "      <th>Cabin</th>\n",
              "      <th>Embarked</th>\n",
              "    </tr>\n",
              "  </thead>\n",
              "  <tbody>\n",
              "    <tr>\n",
              "      <th>0</th>\n",
              "      <td>1</td>\n",
              "      <td>0</td>\n",
              "      <td>3</td>\n",
              "      <td>Braund, Mr. Owen Harris</td>\n",
              "      <td>male</td>\n",
              "      <td>22.0</td>\n",
              "      <td>1</td>\n",
              "      <td>0</td>\n",
              "      <td>A/5 21171</td>\n",
              "      <td>7.2500</td>\n",
              "      <td>NaN</td>\n",
              "      <td>S</td>\n",
              "    </tr>\n",
              "    <tr>\n",
              "      <th>1</th>\n",
              "      <td>2</td>\n",
              "      <td>1</td>\n",
              "      <td>1</td>\n",
              "      <td>Cumings, Mrs. John Bradley (Florence Briggs Th...</td>\n",
              "      <td>female</td>\n",
              "      <td>38.0</td>\n",
              "      <td>1</td>\n",
              "      <td>0</td>\n",
              "      <td>PC 17599</td>\n",
              "      <td>71.2833</td>\n",
              "      <td>C85</td>\n",
              "      <td>C</td>\n",
              "    </tr>\n",
              "    <tr>\n",
              "      <th>2</th>\n",
              "      <td>3</td>\n",
              "      <td>1</td>\n",
              "      <td>3</td>\n",
              "      <td>Heikkinen, Miss. Laina</td>\n",
              "      <td>female</td>\n",
              "      <td>26.0</td>\n",
              "      <td>0</td>\n",
              "      <td>0</td>\n",
              "      <td>STON/O2. 3101282</td>\n",
              "      <td>7.9250</td>\n",
              "      <td>NaN</td>\n",
              "      <td>S</td>\n",
              "    </tr>\n",
              "    <tr>\n",
              "      <th>3</th>\n",
              "      <td>4</td>\n",
              "      <td>1</td>\n",
              "      <td>1</td>\n",
              "      <td>Futrelle, Mrs. Jacques Heath (Lily May Peel)</td>\n",
              "      <td>female</td>\n",
              "      <td>35.0</td>\n",
              "      <td>1</td>\n",
              "      <td>0</td>\n",
              "      <td>113803</td>\n",
              "      <td>53.1000</td>\n",
              "      <td>C123</td>\n",
              "      <td>S</td>\n",
              "    </tr>\n",
              "    <tr>\n",
              "      <th>4</th>\n",
              "      <td>5</td>\n",
              "      <td>0</td>\n",
              "      <td>3</td>\n",
              "      <td>Allen, Mr. William Henry</td>\n",
              "      <td>male</td>\n",
              "      <td>35.0</td>\n",
              "      <td>0</td>\n",
              "      <td>0</td>\n",
              "      <td>373450</td>\n",
              "      <td>8.0500</td>\n",
              "      <td>NaN</td>\n",
              "      <td>S</td>\n",
              "    </tr>\n",
              "  </tbody>\n",
              "</table>\n",
              "</div>"
            ],
            "text/plain": [
              "   PassengerId  Survived  Pclass  ...     Fare Cabin  Embarked\n",
              "0            1         0       3  ...   7.2500   NaN         S\n",
              "1            2         1       1  ...  71.2833   C85         C\n",
              "2            3         1       3  ...   7.9250   NaN         S\n",
              "3            4         1       1  ...  53.1000  C123         S\n",
              "4            5         0       3  ...   8.0500   NaN         S\n",
              "\n",
              "[5 rows x 12 columns]"
            ]
          },
          "metadata": {},
          "execution_count": 4
        }
      ]
    },
    {
      "cell_type": "code",
      "metadata": {
        "id": "gRXZvP9xVrn0",
        "colab": {
          "base_uri": "https://localhost:8080/"
        },
        "outputId": "fed114e8-cea5-42b6-f7e6-6597f09bc74e"
      },
      "source": [
        "#¿Cuántas filas tiene nuestra base de datos?\n",
        "df.shape[0]"
      ],
      "execution_count": null,
      "outputs": [
        {
          "output_type": "execute_result",
          "data": {
            "text/plain": [
              "1309"
            ]
          },
          "metadata": {},
          "execution_count": 5
        }
      ]
    },
    {
      "cell_type": "markdown",
      "metadata": {
        "id": "pqg5au9tbvyw"
      },
      "source": [
        "## Transformaciones"
      ]
    },
    {
      "cell_type": "markdown",
      "metadata": {
        "id": "NW52HPsGbz93"
      },
      "source": [
        "### Datos categóricos"
      ]
    },
    {
      "cell_type": "markdown",
      "metadata": {
        "id": "zTQj9JRAgnc6"
      },
      "source": [
        "Podemos hacer transformaciones binarias"
      ]
    },
    {
      "cell_type": "markdown",
      "metadata": {
        "id": "FrG4t9INvvbm"
      },
      "source": [
        "**SEXO**"
      ]
    },
    {
      "cell_type": "code",
      "metadata": {
        "id": "xoD1MUxVVzlG",
        "outputId": "d162f7b7-41cc-4450-bc65-ed6aa54a6cd2",
        "colab": {
          "base_uri": "https://localhost:8080/",
          "height": 165
        }
      },
      "source": [
        "df['Sex'] = df['Sex'].map({'male': 0, 'female':1})"
      ],
      "execution_count": null,
      "outputs": [
        {
          "output_type": "error",
          "ename": "NameError",
          "evalue": "ignored",
          "traceback": [
            "\u001b[0;31m---------------------------------------------------------------------------\u001b[0m",
            "\u001b[0;31mNameError\u001b[0m                                 Traceback (most recent call last)",
            "\u001b[0;32m<ipython-input-1-d913bbd6b43d>\u001b[0m in \u001b[0;36m<module>\u001b[0;34m\u001b[0m\n\u001b[0;32m----> 1\u001b[0;31m \u001b[0mdf\u001b[0m\u001b[0;34m[\u001b[0m\u001b[0;34m'Sex'\u001b[0m\u001b[0;34m]\u001b[0m \u001b[0;34m=\u001b[0m \u001b[0mdf\u001b[0m\u001b[0;34m[\u001b[0m\u001b[0;34m'Sex'\u001b[0m\u001b[0;34m]\u001b[0m\u001b[0;34m.\u001b[0m\u001b[0mmap\u001b[0m\u001b[0;34m(\u001b[0m\u001b[0;34m{\u001b[0m\u001b[0;34m'male'\u001b[0m\u001b[0;34m:\u001b[0m \u001b[0;36m0\u001b[0m\u001b[0;34m,\u001b[0m \u001b[0;34m'female'\u001b[0m\u001b[0;34m:\u001b[0m\u001b[0;36m1\u001b[0m\u001b[0;34m}\u001b[0m\u001b[0;34m)\u001b[0m\u001b[0;34m\u001b[0m\u001b[0;34m\u001b[0m\u001b[0m\n\u001b[0m",
            "\u001b[0;31mNameError\u001b[0m: name 'df' is not defined"
          ]
        }
      ]
    },
    {
      "cell_type": "code",
      "metadata": {
        "id": "3oXwZuVegqe5"
      },
      "source": [
        "df.head()"
      ],
      "execution_count": null,
      "outputs": []
    },
    {
      "cell_type": "markdown",
      "metadata": {
        "id": "eFfXcuxfWAcV"
      },
      "source": [
        "**TICKET**\n",
        "Para transformar también debemos comprender los datos con los que trabajamos."
      ]
    },
    {
      "cell_type": "code",
      "metadata": {
        "id": "KDlEjJcrb0Wq"
      },
      "source": [
        "df['Ticket'].value_counts()"
      ],
      "execution_count": null,
      "outputs": []
    },
    {
      "cell_type": "code",
      "metadata": {
        "id": "UjtV9JZoV2_l"
      },
      "source": [
        "df['Ticket'] = df['Ticket'].map(lambda k: k[0])\n",
        "df.head()"
      ],
      "execution_count": null,
      "outputs": []
    },
    {
      "cell_type": "markdown",
      "metadata": {
        "id": "6QBTWjurWU_b"
      },
      "source": [
        "¿Que hace la siguiente función?¿Para qué nos puede servir?"
      ]
    },
    {
      "cell_type": "code",
      "metadata": {
        "id": "0OJ7FceqWbOE"
      },
      "source": [
        "def encode_label(df):\n",
        "    return df.astype('category').cat.codes"
      ],
      "execution_count": null,
      "outputs": []
    },
    {
      "cell_type": "code",
      "metadata": {
        "id": "NS2ja4WJdIht"
      },
      "source": [
        "df['Ticket'].value_counts()"
      ],
      "execution_count": null,
      "outputs": []
    },
    {
      "cell_type": "code",
      "metadata": {
        "id": "HQmlMfs8V28i"
      },
      "source": [
        "df['Ticket'] = df['Ticket'].replace(['A','W','F','L','5','6','7','8','9'], '4')\n",
        "df['Ticket'].value_counts()"
      ],
      "execution_count": null,
      "outputs": []
    },
    {
      "cell_type": "code",
      "metadata": {
        "id": "bkgKKL_yxsYT"
      },
      "source": [
        "df['Ticket'] = encode_label(df['Ticket'])\n",
        "df['Ticket'].value_counts()"
      ],
      "execution_count": null,
      "outputs": []
    },
    {
      "cell_type": "code",
      "metadata": {
        "id": "dElt3UrEV25O"
      },
      "source": [
        "df['Ticket'].value_counts()"
      ],
      "execution_count": null,
      "outputs": []
    },
    {
      "cell_type": "code",
      "metadata": {
        "id": "OjYCPmdRV216"
      },
      "source": [
        "df.head()"
      ],
      "execution_count": null,
      "outputs": []
    },
    {
      "cell_type": "markdown",
      "metadata": {
        "id": "4i0XG9MaYOpn"
      },
      "source": [
        "Mientras que en las situaciones numéricas como se ha visto anteriormente si que es posible resolver los valores que nos faltan mirando resultados comunes, en sitaciones categoricas es más distinto. Una situación por ejemplo a la que nos enfrentamos es la de la cabina."
      ]
    },
    {
      "cell_type": "code",
      "metadata": {
        "id": "JhKxvXptYOUq"
      },
      "source": [
        "df['Cabin'].isnull().sum(axis=0)"
      ],
      "execution_count": null,
      "outputs": []
    },
    {
      "cell_type": "code",
      "metadata": {
        "id": "HsjSQa0RYgav"
      },
      "source": [
        "#En este caso vamos a decantarnos por eliminar aquellas columnas sobrantes\n",
        "df = df.drop(labels=['Cabin'], axis=1)"
      ],
      "execution_count": null,
      "outputs": []
    },
    {
      "cell_type": "code",
      "metadata": {
        "id": "9mo2UvAiYhkq"
      },
      "source": [
        "df.head()"
      ],
      "execution_count": null,
      "outputs": []
    },
    {
      "cell_type": "markdown",
      "metadata": {
        "id": "zwS-HRoPjoJy"
      },
      "source": [
        "**EMBARKED**\n",
        "\n",
        "La variable **Embarked** nos indica el puerto en que nuestros pasajeros embarcaron"
      ]
    },
    {
      "cell_type": "code",
      "metadata": {
        "id": "SlDixRn1Yjnz"
      },
      "source": [
        "#Hay algún valor nulo?\n",
        "df['Embarked'].isna().value_counts()"
      ],
      "execution_count": null,
      "outputs": []
    },
    {
      "cell_type": "code",
      "metadata": {
        "id": "bHpgAVw6Yl8g"
      },
      "source": [
        "#¿Cuántos muestras de cada clase tenemos?\n",
        "df['Embarked'].value_counts()"
      ],
      "execution_count": null,
      "outputs": []
    },
    {
      "cell_type": "code",
      "metadata": {
        "id": "0l_TSvO4Yl5u"
      },
      "source": [
        "#Podemos plantear dos situaciones; podríamos llenar los huecos con el valor más común, dado que solo son 2 los valores que nos faltan. O podríamos eliminar estas filas.\n",
        "#Emplea el método que más te guste.\n",
        "df['Embarked'].fillna(\"S\", inplace=True)"
      ],
      "execution_count": null,
      "outputs": []
    },
    {
      "cell_type": "code",
      "metadata": {
        "id": "lHhPeXo8Yl3L"
      },
      "source": [
        "df['Embarked'].isna().value_counts()"
      ],
      "execution_count": null,
      "outputs": []
    },
    {
      "cell_type": "code",
      "metadata": {
        "id": "u2SgRaG9Yl0u"
      },
      "source": [
        "#Finalmente; es importante tener en cuenta de que se trata de un valor categórico, razón por la cual debemos trasformarlo a una clase numérica. 0,1,2.\n",
        "#Pista: anteriormente hemos definido una función que realiza esta tarea, úsala aquí también.\n",
        "df['Embarked'] = encode_label(df['Embarked'])"
      ],
      "execution_count": null,
      "outputs": []
    },
    {
      "cell_type": "code",
      "metadata": {
        "id": "KYzkZo2gYlxT"
      },
      "source": [
        "df.head()"
      ],
      "execution_count": null,
      "outputs": []
    },
    {
      "cell_type": "markdown",
      "metadata": {
        "id": "5f-bRlTiY3hk"
      },
      "source": [
        "**NAME: NOMBRE**\n",
        "¿Qué opciones tenemos con el nombre? \n",
        "\n",
        "Una variable como el nombre puede darnos mucha más información de la que pueda parecer a simple vista. Por ejemplo los títulos noviliarios suelen ser añadidos al nombre. Ante esta situación poemos extraer nuevos datos. A simple vista sinó el nombre en si no nos aporta información ya que es una variable única para cada pasajero"
      ]
    },
    {
      "cell_type": "code",
      "metadata": {
        "id": "I2PhnfnrYlt6"
      },
      "source": [
        "#¿Cómo está estructurado el nombre? ¿Dónde se encuentra la información que nos interesa?\n",
        "df['Title'] = df['Name'].map(lambda z: z.split(\",\")[1].split(\".\")[0])\n",
        "df['Title'].value_counts()"
      ],
      "execution_count": null,
      "outputs": []
    },
    {
      "cell_type": "code",
      "metadata": {
        "id": "Lrvpl67iZECU"
      },
      "source": [
        "#En el paso anterior nos hemos quedado con variables categóricas; ¿Cómo las transformamos a numéricas?\n",
        "df['Title'] = encode_label(df['Title'])\n",
        "df['Title'].value_counts()"
      ],
      "execution_count": null,
      "outputs": []
    },
    {
      "cell_type": "code",
      "metadata": {
        "id": "96M7-9HblAf7"
      },
      "source": [
        "#El método presentado pordría ser una opción; sin embargo da lugar a muchas clases.\n",
        "df.head()"
      ],
      "execution_count": null,
      "outputs": []
    },
    {
      "cell_type": "code",
      "metadata": {
        "id": "S6CStwpJZD_g"
      },
      "source": [
        "#Otra opción sería clasificarlos por clases\n",
        "def get_titles(df):\n",
        "    title_dictionary = {\n",
        "        \"Capt\": \"Officer\",\n",
        "        \"Col\": \"Officer\",\n",
        "        \"Major\": \"Officer\",\n",
        "        \"Jonkheer\": \"Royalty\",\n",
        "        \"Don\": \"Royalty\",\n",
        "        \"Dona\": \"Royalty\",\n",
        "        \"Sir\": \"Royalty\",\n",
        "        \"Dr\": \"Officer\",\n",
        "        \"Rev\": \"Officer\",\n",
        "        \"the Countess\": \"Royalty\",\n",
        "        \"Mme\": \"Mrs\",\n",
        "        \"Mlle\": \"Miss\",\n",
        "        \"Ms\": \"Mrs\",\n",
        "        \"Mr\": \"Mr\",\n",
        "        \"Mrs\": \"Mrs\",\n",
        "        \"Miss\": \"Miss\",\n",
        "        \"Master\": \"Master\",\n",
        "        \"Lady\": \"Royalty\"\n",
        "    }\n",
        "    # print(df['Name'])\n",
        "\n",
        "    def process_name(x):\n",
        "        # print(x)\n",
        "        return x.split(',')[1].split('.')[0].strip()\n",
        "\n",
        "    df['Title'] = df['Name'].map(process_name)\n",
        "    df['Title'] = df.Title.map(title_dictionary)\n",
        "    # print(df['Name'][df['Title'].isna()])\n",
        "\n",
        "    return df"
      ],
      "execution_count": null,
      "outputs": []
    },
    {
      "cell_type": "code",
      "metadata": {
        "id": "ES1Vf7C9ZD8e"
      },
      "source": [
        "#De esta manera nos quedamos únicamente con cinco grupos.\n",
        "df = get_titles(df)\n",
        "df['Title'] = df['Title'].map({'Officer': 0, 'Royalty': 1, 'Mrs': 2, 'Miss': 3, 'Master': 4, 'Mr': 5}).astype(int)\n",
        "df.head()"
      ],
      "execution_count": null,
      "outputs": []
    },
    {
      "cell_type": "code",
      "metadata": {
        "id": "dtMqPn7XZD5x"
      },
      "source": [
        "#Como hemos comentado anteriormente la variable nombre por si sola no nos interesa, por lo cual deberemos eliminarla\n",
        "df.drop(labels=['Name'], axis=1, inplace=True)"
      ],
      "execution_count": null,
      "outputs": []
    },
    {
      "cell_type": "code",
      "metadata": {
        "id": "0q_MLG9DZD2j"
      },
      "source": [
        "df.head()"
      ],
      "execution_count": null,
      "outputs": []
    },
    {
      "cell_type": "markdown",
      "metadata": {
        "id": "FuBWriq0vOFi"
      },
      "source": [
        "### Datos numéricos"
      ]
    },
    {
      "cell_type": "code",
      "metadata": {
        "id": "S2Wjqo4Er0-S"
      },
      "source": [],
      "execution_count": null,
      "outputs": []
    },
    {
      "cell_type": "markdown",
      "metadata": {
        "id": "6Ah4wO_xhEhm"
      },
      "source": [
        "**FARE: TARIFA**\n",
        "\n",
        "\n",
        "*   ¿Variable numérica o categórica?\n",
        "*   Tenemos missing values? ¿Qué método puedo emplear para substituirlos?\n",
        "\n",
        "\n"
      ]
    },
    {
      "cell_type": "code",
      "metadata": {
        "id": "JIMsOKUuXaBp",
        "colab": {
          "base_uri": "https://localhost:8080/"
        },
        "outputId": "60c1228d-cbe1-4676-c9c4-fe0020910d46"
      },
      "source": [
        "# Tenemos valores numéricos?\n",
        "df['Fare'].isna().value_counts()"
      ],
      "execution_count": null,
      "outputs": [
        {
          "output_type": "execute_result",
          "data": {
            "text/plain": [
              "False    1308\n",
              "True        1\n",
              "Name: Fare, dtype: int64"
            ]
          },
          "metadata": {},
          "execution_count": 32
        }
      ]
    },
    {
      "cell_type": "code",
      "metadata": {
        "id": "JB_W7UUiXc0c",
        "colab": {
          "base_uri": "https://localhost:8080/",
          "height": 81
        },
        "outputId": "09cf8109-241a-4c32-895f-91c0d6560aee"
      },
      "source": [
        "# ¿Cómo es la fila en la que me falta el valor?\n",
        "na_fare = df[df['Fare'].isna()]\n",
        "na_fare"
      ],
      "execution_count": null,
      "outputs": [
        {
          "output_type": "execute_result",
          "data": {
            "text/html": [
              "<div>\n",
              "<style scoped>\n",
              "    .dataframe tbody tr th:only-of-type {\n",
              "        vertical-align: middle;\n",
              "    }\n",
              "\n",
              "    .dataframe tbody tr th {\n",
              "        vertical-align: top;\n",
              "    }\n",
              "\n",
              "    .dataframe thead th {\n",
              "        text-align: right;\n",
              "    }\n",
              "</style>\n",
              "<table border=\"1\" class=\"dataframe\">\n",
              "  <thead>\n",
              "    <tr style=\"text-align: right;\">\n",
              "      <th></th>\n",
              "      <th>PassengerId</th>\n",
              "      <th>Survived</th>\n",
              "      <th>Pclass</th>\n",
              "      <th>Sex</th>\n",
              "      <th>Age</th>\n",
              "      <th>SibSp</th>\n",
              "      <th>Parch</th>\n",
              "      <th>Ticket</th>\n",
              "      <th>Fare</th>\n",
              "      <th>Embarked</th>\n",
              "      <th>Title</th>\n",
              "    </tr>\n",
              "  </thead>\n",
              "  <tbody>\n",
              "    <tr>\n",
              "      <th>1043</th>\n",
              "      <td>1044</td>\n",
              "      <td>0</td>\n",
              "      <td>3</td>\n",
              "      <td>0</td>\n",
              "      <td>60.5</td>\n",
              "      <td>0</td>\n",
              "      <td>0</td>\n",
              "      <td>2</td>\n",
              "      <td>NaN</td>\n",
              "      <td>2</td>\n",
              "      <td>5</td>\n",
              "    </tr>\n",
              "  </tbody>\n",
              "</table>\n",
              "</div>"
            ],
            "text/plain": [
              "      PassengerId  Survived  Pclass  Sex  ...  Ticket  Fare  Embarked  Title\n",
              "1043         1044         0       3    0  ...       2   NaN         2      5\n",
              "\n",
              "[1 rows x 11 columns]"
            ]
          },
          "metadata": {},
          "execution_count": 33
        }
      ]
    },
    {
      "cell_type": "code",
      "metadata": {
        "colab": {
          "base_uri": "https://localhost:8080/"
        },
        "id": "q2CeRMk44-dl",
        "outputId": "852842d0-81ac-4516-d9af-765a89a50243"
      },
      "source": [
        "print(na_fare['Ticket'].values[0])\n"
      ],
      "execution_count": null,
      "outputs": [
        {
          "output_type": "stream",
          "name": "stdout",
          "text": [
            "2\n"
          ]
        }
      ]
    },
    {
      "cell_type": "code",
      "metadata": {
        "id": "O_6uE3oMXlC3",
        "colab": {
          "base_uri": "https://localhost:8080/"
        },
        "outputId": "df3e9939-dbc7-44da-e087-98233e928a92"
      },
      "source": [
        "#En este caso particular se quiere emplear la media para poder llenar el hueco. Por elección individual, creo que Ticket, Pclass y Embarked son variables interesantes que\n",
        "#definen el tipo de persona que adquiere ese ticket, por lo tanto su coste. Cual es el valor medio del ticket para aquellos pasajeros que cumplen las mismas condiciones\n",
        "#que nosotros?\n",
        "media = df['Fare'].loc[ (df['Ticket'] == na_fare['Ticket'].values[0]) & \n",
        "                            (df['Pclass'] == na_fare['Pclass'].values[0]) &\n",
        "                            (df['Embarked'] == na_fare['Embarked'].values[0])].mean()\n",
        "media"
      ],
      "execution_count": null,
      "outputs": [
        {
          "output_type": "execute_result",
          "data": {
            "text/plain": [
              "12.072079522184305"
            ]
          },
          "metadata": {},
          "execution_count": 35
        }
      ]
    },
    {
      "cell_type": "code",
      "metadata": {
        "id": "RrIef4PuXnEC",
        "colab": {
          "base_uri": "https://localhost:8080/"
        },
        "outputId": "ba1f58f9-92e2-44bf-aaa6-6ede6b6ed0cf"
      },
      "source": [
        "#Y si en lugar del valor medio usamos la mediana? ¿Cuál de los dos será mejor y porque?\n",
        "guess_Fare = df['Fare'].loc[ (df['Ticket'] == na_fare['Ticket'].values[0]) & \n",
        "                            (df['Pclass'] == na_fare['Pclass'].values[0]) & \n",
        "                            (df['Embarked'] == na_fare['Embarked'].values[0])].median()\n",
        "guess_Fare"
      ],
      "execution_count": null,
      "outputs": [
        {
          "output_type": "execute_result",
          "data": {
            "text/plain": [
              "8.05"
            ]
          },
          "metadata": {},
          "execution_count": 36
        }
      ]
    },
    {
      "cell_type": "code",
      "metadata": {
        "id": "wOP3lZJ5in9K"
      },
      "source": [
        "#Llena los huecos con el valor que creas más conveniente\n",
        "df['Fare'].fillna(guess_Fare , inplace=True)"
      ],
      "execution_count": null,
      "outputs": []
    },
    {
      "cell_type": "code",
      "metadata": {
        "id": "TkXJ8qitXo7S",
        "colab": {
          "base_uri": "https://localhost:8080/"
        },
        "outputId": "fab39cb6-fefe-47b0-fbd1-acb42527a548"
      },
      "source": [
        "#Comprobamos que no nos queden huecos\n",
        "df['Fare'].isna().value_counts()"
      ],
      "execution_count": null,
      "outputs": [
        {
          "output_type": "execute_result",
          "data": {
            "text/plain": [
              "False    1309\n",
              "Name: Fare, dtype: int64"
            ]
          },
          "metadata": {},
          "execution_count": 38
        }
      ]
    },
    {
      "cell_type": "markdown",
      "metadata": {
        "id": "FWbumuhlX1zr"
      },
      "source": [
        "Es cierto que hemos trabajado con valore categoricos en los que es imprescindible poder cambiarlos a clases numéricas, por ejemplo. Sin embargo hay situaciones en las que un rango de valores numéricos también es interesante poderlos transformar en clases de tal manera que tengamos agrupaciones."
      ]
    },
    {
      "cell_type": "code",
      "metadata": {
        "id": "HaVvelp7YHjx",
        "colab": {
          "base_uri": "https://localhost:8080/",
          "height": 283
        },
        "outputId": "3176d4da-25b7-4e73-df94-d30cb518808c"
      },
      "source": [
        "#Puede observarse mediante un gráfico la distribución de los datos. ¿Qué información podemos extraer?¿Nos permite esta representación una división de los datos?\n",
        "df.boxplot('Fare')"
      ],
      "execution_count": null,
      "outputs": [
        {
          "output_type": "execute_result",
          "data": {
            "text/plain": [
              "<matplotlib.axes._subplots.AxesSubplot at 0x7fd10cf42bd0>"
            ]
          },
          "metadata": {},
          "execution_count": 39
        },
        {
          "output_type": "display_data",
          "data": {
            "image/png": "[encoded data removed]",
            "text/plain": [
              "<Figure size 432x288 with 1 Axes>"
            ]
          },
          "metadata": {
            "needs_background": "light"
          }
        }
      ]
    },
    {
      "cell_type": "code",
      "metadata": {
        "colab": {
          "base_uri": "https://localhost:8080/"
        },
        "id": "FvkpEwd7Ggoc",
        "outputId": "bcb5ec50-b885-4e0c-e9db-2f8f6933a8d9"
      },
      "source": [
        "df['Fare'].describe()"
      ],
      "execution_count": null,
      "outputs": [
        {
          "output_type": "execute_result",
          "data": {
            "text/plain": [
              "count    1309.000000\n",
              "mean       33.276193\n",
              "std        51.743584\n",
              "min         0.000000\n",
              "25%         7.895800\n",
              "50%        14.454200\n",
              "75%        31.275000\n",
              "max       512.329200\n",
              "Name: Fare, dtype: float64"
            ]
          },
          "metadata": {},
          "execution_count": 40
        }
      ]
    },
    {
      "cell_type": "code",
      "metadata": {
        "id": "b0yyR9o9YJsV",
        "colab": {
          "base_uri": "https://localhost:8080/",
          "height": 206
        },
        "outputId": "0ec660c4-85cd-44b5-c9ae-71811afaeea8"
      },
      "source": [
        "df['Fare-bin'] = pd.qcut(df.Fare,5,labels=[1,2,3,4,5]).astype(int)\n",
        "df.head()"
      ],
      "execution_count": null,
      "outputs": [
        {
          "output_type": "execute_result",
          "data": {
            "text/html": [
              "<div>\n",
              "<style scoped>\n",
              "    .dataframe tbody tr th:only-of-type {\n",
              "        vertical-align: middle;\n",
              "    }\n",
              "\n",
              "    .dataframe tbody tr th {\n",
              "        vertical-align: top;\n",
              "    }\n",
              "\n",
              "    .dataframe thead th {\n",
              "        text-align: right;\n",
              "    }\n",
              "</style>\n",
              "<table border=\"1\" class=\"dataframe\">\n",
              "  <thead>\n",
              "    <tr style=\"text-align: right;\">\n",
              "      <th></th>\n",
              "      <th>PassengerId</th>\n",
              "      <th>Survived</th>\n",
              "      <th>Pclass</th>\n",
              "      <th>Sex</th>\n",
              "      <th>Age</th>\n",
              "      <th>SibSp</th>\n",
              "      <th>Parch</th>\n",
              "      <th>Ticket</th>\n",
              "      <th>Fare</th>\n",
              "      <th>Embarked</th>\n",
              "      <th>Title</th>\n",
              "      <th>Fare-bin</th>\n",
              "    </tr>\n",
              "  </thead>\n",
              "  <tbody>\n",
              "    <tr>\n",
              "      <th>0</th>\n",
              "      <td>1</td>\n",
              "      <td>0</td>\n",
              "      <td>3</td>\n",
              "      <td>0</td>\n",
              "      <td>22.0</td>\n",
              "      <td>1</td>\n",
              "      <td>0</td>\n",
              "      <td>3</td>\n",
              "      <td>7.2500</td>\n",
              "      <td>2</td>\n",
              "      <td>5</td>\n",
              "      <td>1</td>\n",
              "    </tr>\n",
              "    <tr>\n",
              "      <th>1</th>\n",
              "      <td>2</td>\n",
              "      <td>1</td>\n",
              "      <td>1</td>\n",
              "      <td>1</td>\n",
              "      <td>38.0</td>\n",
              "      <td>1</td>\n",
              "      <td>0</td>\n",
              "      <td>5</td>\n",
              "      <td>71.2833</td>\n",
              "      <td>0</td>\n",
              "      <td>2</td>\n",
              "      <td>5</td>\n",
              "    </tr>\n",
              "    <tr>\n",
              "      <th>2</th>\n",
              "      <td>3</td>\n",
              "      <td>1</td>\n",
              "      <td>3</td>\n",
              "      <td>1</td>\n",
              "      <td>26.0</td>\n",
              "      <td>0</td>\n",
              "      <td>0</td>\n",
              "      <td>6</td>\n",
              "      <td>7.9250</td>\n",
              "      <td>2</td>\n",
              "      <td>3</td>\n",
              "      <td>2</td>\n",
              "    </tr>\n",
              "    <tr>\n",
              "      <th>3</th>\n",
              "      <td>4</td>\n",
              "      <td>1</td>\n",
              "      <td>1</td>\n",
              "      <td>1</td>\n",
              "      <td>35.0</td>\n",
              "      <td>1</td>\n",
              "      <td>0</td>\n",
              "      <td>0</td>\n",
              "      <td>53.1000</td>\n",
              "      <td>2</td>\n",
              "      <td>2</td>\n",
              "      <td>5</td>\n",
              "    </tr>\n",
              "    <tr>\n",
              "      <th>4</th>\n",
              "      <td>5</td>\n",
              "      <td>0</td>\n",
              "      <td>3</td>\n",
              "      <td>0</td>\n",
              "      <td>35.0</td>\n",
              "      <td>0</td>\n",
              "      <td>0</td>\n",
              "      <td>2</td>\n",
              "      <td>8.0500</td>\n",
              "      <td>2</td>\n",
              "      <td>5</td>\n",
              "      <td>2</td>\n",
              "    </tr>\n",
              "  </tbody>\n",
              "</table>\n",
              "</div>"
            ],
            "text/plain": [
              "   PassengerId  Survived  Pclass  Sex  ...     Fare  Embarked  Title  Fare-bin\n",
              "0            1         0       3    0  ...   7.2500         2      5         1\n",
              "1            2         1       1    1  ...  71.2833         0      2         5\n",
              "2            3         1       3    1  ...   7.9250         2      3         2\n",
              "3            4         1       1    1  ...  53.1000         2      2         5\n",
              "4            5         0       3    0  ...   8.0500         2      5         2\n",
              "\n",
              "[5 rows x 12 columns]"
            ]
          },
          "metadata": {},
          "execution_count": 41
        }
      ]
    },
    {
      "cell_type": "markdown",
      "metadata": {
        "id": "JRLX1lyGr9Iq"
      },
      "source": [
        "**PassengerID**"
      ]
    },
    {
      "cell_type": "code",
      "metadata": {
        "id": "5TbWnBp6ZOfd"
      },
      "source": [
        "#¿Nos indica algo?¿Podemos eliminarla?\n",
        "df.drop('PassengerId',axis= 1, inplace=True)"
      ],
      "execution_count": null,
      "outputs": []
    },
    {
      "cell_type": "code",
      "metadata": {
        "id": "DMgK9tXwZDcf",
        "colab": {
          "base_uri": "https://localhost:8080/",
          "height": 206
        },
        "outputId": "3fa28306-3166-436f-c57a-719582d5c37c"
      },
      "source": [
        "df.head()"
      ],
      "execution_count": null,
      "outputs": [
        {
          "output_type": "execute_result",
          "data": {
            "text/html": [
              "<div>\n",
              "<style scoped>\n",
              "    .dataframe tbody tr th:only-of-type {\n",
              "        vertical-align: middle;\n",
              "    }\n",
              "\n",
              "    .dataframe tbody tr th {\n",
              "        vertical-align: top;\n",
              "    }\n",
              "\n",
              "    .dataframe thead th {\n",
              "        text-align: right;\n",
              "    }\n",
              "</style>\n",
              "<table border=\"1\" class=\"dataframe\">\n",
              "  <thead>\n",
              "    <tr style=\"text-align: right;\">\n",
              "      <th></th>\n",
              "      <th>Survived</th>\n",
              "      <th>Pclass</th>\n",
              "      <th>Sex</th>\n",
              "      <th>Age</th>\n",
              "      <th>SibSp</th>\n",
              "      <th>Parch</th>\n",
              "      <th>Ticket</th>\n",
              "      <th>Fare</th>\n",
              "      <th>Embarked</th>\n",
              "      <th>Title</th>\n",
              "      <th>Fare-bin</th>\n",
              "    </tr>\n",
              "  </thead>\n",
              "  <tbody>\n",
              "    <tr>\n",
              "      <th>0</th>\n",
              "      <td>0</td>\n",
              "      <td>3</td>\n",
              "      <td>0</td>\n",
              "      <td>22.0</td>\n",
              "      <td>1</td>\n",
              "      <td>0</td>\n",
              "      <td>3</td>\n",
              "      <td>7.2500</td>\n",
              "      <td>2</td>\n",
              "      <td>5</td>\n",
              "      <td>1</td>\n",
              "    </tr>\n",
              "    <tr>\n",
              "      <th>1</th>\n",
              "      <td>1</td>\n",
              "      <td>1</td>\n",
              "      <td>1</td>\n",
              "      <td>38.0</td>\n",
              "      <td>1</td>\n",
              "      <td>0</td>\n",
              "      <td>5</td>\n",
              "      <td>71.2833</td>\n",
              "      <td>0</td>\n",
              "      <td>2</td>\n",
              "      <td>5</td>\n",
              "    </tr>\n",
              "    <tr>\n",
              "      <th>2</th>\n",
              "      <td>1</td>\n",
              "      <td>3</td>\n",
              "      <td>1</td>\n",
              "      <td>26.0</td>\n",
              "      <td>0</td>\n",
              "      <td>0</td>\n",
              "      <td>6</td>\n",
              "      <td>7.9250</td>\n",
              "      <td>2</td>\n",
              "      <td>3</td>\n",
              "      <td>2</td>\n",
              "    </tr>\n",
              "    <tr>\n",
              "      <th>3</th>\n",
              "      <td>1</td>\n",
              "      <td>1</td>\n",
              "      <td>1</td>\n",
              "      <td>35.0</td>\n",
              "      <td>1</td>\n",
              "      <td>0</td>\n",
              "      <td>0</td>\n",
              "      <td>53.1000</td>\n",
              "      <td>2</td>\n",
              "      <td>2</td>\n",
              "      <td>5</td>\n",
              "    </tr>\n",
              "    <tr>\n",
              "      <th>4</th>\n",
              "      <td>0</td>\n",
              "      <td>3</td>\n",
              "      <td>0</td>\n",
              "      <td>35.0</td>\n",
              "      <td>0</td>\n",
              "      <td>0</td>\n",
              "      <td>2</td>\n",
              "      <td>8.0500</td>\n",
              "      <td>2</td>\n",
              "      <td>5</td>\n",
              "      <td>2</td>\n",
              "    </tr>\n",
              "  </tbody>\n",
              "</table>\n",
              "</div>"
            ],
            "text/plain": [
              "   Survived  Pclass  Sex   Age  ...     Fare  Embarked  Title  Fare-bin\n",
              "0         0       3    0  22.0  ...   7.2500         2      5         1\n",
              "1         1       1    1  38.0  ...  71.2833         0      2         5\n",
              "2         1       3    1  26.0  ...   7.9250         2      3         2\n",
              "3         1       1    1  35.0  ...  53.1000         2      2         5\n",
              "4         0       3    0  35.0  ...   8.0500         2      5         2\n",
              "\n",
              "[5 rows x 11 columns]"
            ]
          },
          "metadata": {},
          "execution_count": 43
        }
      ]
    },
    {
      "cell_type": "markdown",
      "metadata": {
        "id": "qwGayzeWsGE9"
      },
      "source": [
        "**EDAD**"
      ]
    },
    {
      "cell_type": "code",
      "metadata": {
        "id": "ZBm5tk9MZU3e",
        "colab": {
          "base_uri": "https://localhost:8080/"
        },
        "outputId": "8b0d53ad-cfbf-4db2-b269-c2cdb29fa435"
      },
      "source": [
        "#¿Tenemos valores nulos?\n",
        "df['Age'].isna().value_counts()"
      ],
      "execution_count": null,
      "outputs": [
        {
          "output_type": "execute_result",
          "data": {
            "text/plain": [
              "False    1046\n",
              "True      263\n",
              "Name: Age, dtype: int64"
            ]
          },
          "metadata": {},
          "execution_count": 44
        }
      ]
    },
    {
      "cell_type": "markdown",
      "metadata": {
        "id": "sBZzU-dUZbrz"
      },
      "source": [
        "Otra manera de llenar los huecos no es solo haciendo la media sino empleando un algortimo por si mismo para poder predecir estos valores nulos."
      ]
    },
    {
      "cell_type": "code",
      "metadata": {
        "id": "zpVpolv4Zj-h"
      },
      "source": [
        "# Importamos la clase RandomForestRegressor\n",
        "from sklearn.ensemble import RandomForestRegressor"
      ],
      "execution_count": null,
      "outputs": []
    },
    {
      "cell_type": "code",
      "metadata": {
        "id": "Gi7Oidu8Zj5q"
      },
      "source": [
        "#¿Qué variables nos interesan para tener en cuenta?\n",
        "df_sub = df[['Age','Title','Fare','SibSp']]"
      ],
      "execution_count": null,
      "outputs": []
    },
    {
      "cell_type": "code",
      "metadata": {
        "id": "Zo3CDq0yZj2g"
      },
      "source": [
        "#Para poder entrenar el modelo y comprobar que funciona adecuadamente para aplicarlo a los datos desconocidos debemos:\n",
        "# 1. eliminar aquellas filas nulas de los datos de entrenamiento\n",
        "# 2. guardar en test las filas nulas.\n",
        "X_train  = df_sub.dropna().drop('Age', axis=1)\n",
        "y_train  = df['Age'].dropna()\n",
        "\n",
        "X_test = df_sub.loc[np.isnan(df.Age)].drop('Age', axis=1)"
      ],
      "execution_count": null,
      "outputs": []
    },
    {
      "cell_type": "code",
      "metadata": {
        "id": "voAnafitZj0E",
        "colab": {
          "base_uri": "https://localhost:8080/"
        },
        "outputId": "59d2cb61-b162-4486-d8c2-980895010f1d"
      },
      "source": [
        "# Aplicamos el algortimo\n",
        "# Para ello creamos una instancia de RandomForestRegresor \n",
        "regressor = RandomForestRegressor(n_estimators = 300)\n",
        "# La función fit() nos permite entrenar el modelo, ajustados pesos dependiendo de los datos\n",
        "regressor.fit(X_train, y_train)\n",
        "# Una vez entrenado el modelo, este está listo para hacer predicciones, lo que se realiza mediante el método predict()\n",
        "y_pred = np.round(regressor.predict(X_test),1)\n",
        "y_pred"
      ],
      "execution_count": null,
      "outputs": [
        {
          "output_type": "execute_result",
          "data": {
            "text/plain": [
              "array([28. , 32.1, 39.2, 27.5, 21.3, 27.8, 29. , 27.3, 25.9, 27.8, 30.9,\n",
              "       36.5, 27.3, 25.5, 40.2, 30.9,  6.5, 27.8, 30.9, 22.4, 30.9, 30.9,\n",
              "       27.8, 27.6,  7.1, 30.9, 37.9,  5.7, 32. , 30.9, 24.6, 12.6, 42. ,\n",
              "       38.8,  6.2, 21.1, 31.2, 56.1, 30.5, 37.9, 27.3, 17. , 26.9, 27.8,\n",
              "        7.6, 22.6, 16.9,  8.8, 30.9, 59.4, 37.9, 27.3, 43.4, 27.3, 36.8,\n",
              "       38.7, 30.9, 41.5, 27.3, 23.9, 22.9, 30.9, 29.8, 17. , 14.3, 37.8,\n",
              "       27.8, 23.6, 60.1, 27.5, 21.3, 21.3, 36.5, 29.4, 27.3, 32.5, 27.8,\n",
              "       26.4,  7.6, 27.8, 25.6, 36.8, 27. , 27.8, 30.9, 37.9, 23.6, 23.5,\n",
              "       19.6, 30.9, 33.6, 37.9, 30.9, 36.8, 26.4, 30.9, 46.6, 36.8,  7.6,\n",
              "       19.6, 28.1, 37.3, 26. , 46.1, 30.9, 37.1, 27.5, 25.9, 34.1, 25.9,\n",
              "       30.6, 32.2, 23.8, 31.5, 34.2, 37.9, 30.9, 20.2, 25.9, 27.3, 24.9,\n",
              "       24.6, 30.9, 27.3, 15.4, 27.5, 27.8, 43.5, 26.8,  8.8, 37.9, 26.4,\n",
              "       36.8, 27.7, 29.7, 32.5, 27.8, 22.7, 27.8, 27.6, 33.5, 36.8, 20.2,\n",
              "       29.7, 17.4,  6.5, 46.1, 37.9, 17.8, 36.8, 27.8, 27.8, 45. , 32.2,\n",
              "       46.1, 34.1, 27.5, 37.9, 26.4, 31.4, 37.9, 21.1, 50.9, 36.8, 35.4,\n",
              "       29.7, 37.9, 25.9, 30.9, 45. , 17. , 35.1, 25.9, 21.1, 27.4, 27.8,\n",
              "        6.9, 27.8, 42.1, 25.5, 44.8, 20.2, 29.7, 46.1, 37.9, 38.1, 27.7,\n",
              "       26.9, 30.9, 27.8, 31.4, 25. , 29.5, 27.6, 30.9, 37.9, 37.9, 24.6,\n",
              "       22.4, 36.3, 26.9, 37.9, 14.3, 44.3, 26.8, 50.3, 46.1, 27.8, 17.4,\n",
              "       35.4, 48.3, 32.5, 25.9, 37.9, 21.1, 38.7, 27. ,  5.2, 44. , 26.8,\n",
              "       21.3, 30.9, 32. , 27.3, 26.6, 26.3,  2.9, 24.9, 32.5, 37.9, 27.8,\n",
              "       36.8, 32.5, 20.2, 37.9,  8.8, 27.5, 27.3, 30.9, 25.9, 30.9, 40.4,\n",
              "       25.9, 25.5, 31.2, 27.3, 32. , 27.5,  1.6, 36.5,  6.4, 26.6, 37.9,\n",
              "       36.1, 25. , 37.9, 30.2, 34.6, 20.5, 27.3, 30.9, 30.9,  2.7])"
            ]
          },
          "metadata": {},
          "execution_count": 49
        }
      ]
    },
    {
      "cell_type": "code",
      "metadata": {
        "id": "WRDpF8_AZjvN",
        "colab": {
          "base_uri": "https://localhost:8080/"
        },
        "outputId": "5af8483c-9786-44a1-8283-78e66fa78b8f"
      },
      "source": [
        "# Sustituimos estos valores en el dataset\n",
        "df.Age.loc[df.Age.isnull()] = y_pred"
      ],
      "execution_count": null,
      "outputs": [
        {
          "output_type": "stream",
          "name": "stderr",
          "text": [
            "/usr/local/lib/python3.7/dist-packages/pandas/core/indexing.py:670: SettingWithCopyWarning: \n",
            "A value is trying to be set on a copy of a slice from a DataFrame\n",
            "\n",
            "See the caveats in the documentation: https://pandas.pydata.org/pandas-docs/stable/user_guide/indexing.html#returning-a-view-versus-a-copy\n",
            "  iloc._setitem_with_indexer(indexer, value)\n"
          ]
        }
      ]
    },
    {
      "cell_type": "code",
      "metadata": {
        "id": "JztA1oAVspX_",
        "colab": {
          "base_uri": "https://localhost:8080/"
        },
        "outputId": "5c5ed106-5b59-457c-cda6-6acfdec1a979"
      },
      "source": [
        "# Comprobamos si nos quedan valores nulos o no\n",
        "df.Age.isnull().sum(axis=0)"
      ],
      "execution_count": null,
      "outputs": [
        {
          "output_type": "execute_result",
          "data": {
            "text/plain": [
              "0"
            ]
          },
          "metadata": {},
          "execution_count": 51
        }
      ]
    },
    {
      "cell_type": "code",
      "metadata": {
        "id": "s4g1YOV1Zjru",
        "colab": {
          "base_uri": "https://localhost:8080/",
          "height": 204
        },
        "outputId": "941cf23e-f504-4f51-d824-07c3cebbbaad"
      },
      "source": [
        "df.head()"
      ],
      "execution_count": null,
      "outputs": [
        {
          "output_type": "execute_result",
          "data": {
            "text/html": [
              "<div>\n",
              "<style scoped>\n",
              "    .dataframe tbody tr th:only-of-type {\n",
              "        vertical-align: middle;\n",
              "    }\n",
              "\n",
              "    .dataframe tbody tr th {\n",
              "        vertical-align: top;\n",
              "    }\n",
              "\n",
              "    .dataframe thead th {\n",
              "        text-align: right;\n",
              "    }\n",
              "</style>\n",
              "<table border=\"1\" class=\"dataframe\">\n",
              "  <thead>\n",
              "    <tr style=\"text-align: right;\">\n",
              "      <th></th>\n",
              "      <th>Survived</th>\n",
              "      <th>Pclass</th>\n",
              "      <th>Sex</th>\n",
              "      <th>Age</th>\n",
              "      <th>SibSp</th>\n",
              "      <th>Parch</th>\n",
              "      <th>Ticket</th>\n",
              "      <th>Fare</th>\n",
              "      <th>Embarked</th>\n",
              "      <th>Title</th>\n",
              "      <th>Fare-bin</th>\n",
              "    </tr>\n",
              "  </thead>\n",
              "  <tbody>\n",
              "    <tr>\n",
              "      <th>0</th>\n",
              "      <td>0</td>\n",
              "      <td>3</td>\n",
              "      <td>0</td>\n",
              "      <td>22.0</td>\n",
              "      <td>1</td>\n",
              "      <td>0</td>\n",
              "      <td>3</td>\n",
              "      <td>7.2500</td>\n",
              "      <td>2</td>\n",
              "      <td>5</td>\n",
              "      <td>1</td>\n",
              "    </tr>\n",
              "    <tr>\n",
              "      <th>1</th>\n",
              "      <td>1</td>\n",
              "      <td>1</td>\n",
              "      <td>1</td>\n",
              "      <td>38.0</td>\n",
              "      <td>1</td>\n",
              "      <td>0</td>\n",
              "      <td>5</td>\n",
              "      <td>71.2833</td>\n",
              "      <td>0</td>\n",
              "      <td>2</td>\n",
              "      <td>5</td>\n",
              "    </tr>\n",
              "    <tr>\n",
              "      <th>2</th>\n",
              "      <td>1</td>\n",
              "      <td>3</td>\n",
              "      <td>1</td>\n",
              "      <td>26.0</td>\n",
              "      <td>0</td>\n",
              "      <td>0</td>\n",
              "      <td>6</td>\n",
              "      <td>7.9250</td>\n",
              "      <td>2</td>\n",
              "      <td>3</td>\n",
              "      <td>2</td>\n",
              "    </tr>\n",
              "    <tr>\n",
              "      <th>3</th>\n",
              "      <td>1</td>\n",
              "      <td>1</td>\n",
              "      <td>1</td>\n",
              "      <td>35.0</td>\n",
              "      <td>1</td>\n",
              "      <td>0</td>\n",
              "      <td>0</td>\n",
              "      <td>53.1000</td>\n",
              "      <td>2</td>\n",
              "      <td>2</td>\n",
              "      <td>5</td>\n",
              "    </tr>\n",
              "    <tr>\n",
              "      <th>4</th>\n",
              "      <td>0</td>\n",
              "      <td>3</td>\n",
              "      <td>0</td>\n",
              "      <td>35.0</td>\n",
              "      <td>0</td>\n",
              "      <td>0</td>\n",
              "      <td>2</td>\n",
              "      <td>8.0500</td>\n",
              "      <td>2</td>\n",
              "      <td>5</td>\n",
              "      <td>2</td>\n",
              "    </tr>\n",
              "  </tbody>\n",
              "</table>\n",
              "</div>"
            ],
            "text/plain": [
              "   Survived  Pclass  Sex   Age  ...     Fare  Embarked  Title  Fare-bin\n",
              "0         0       3    0  22.0  ...   7.2500         2      5         1\n",
              "1         1       1    1  38.0  ...  71.2833         0      2         5\n",
              "2         1       3    1  26.0  ...   7.9250         2      3         2\n",
              "3         1       1    1  35.0  ...  53.1000         2      2         5\n",
              "4         0       3    0  35.0  ...   8.0500         2      5         2\n",
              "\n",
              "[5 rows x 11 columns]"
            ]
          },
          "metadata": {},
          "execution_count": 250
        }
      ]
    },
    {
      "cell_type": "markdown",
      "metadata": {
        "id": "s0ut9U12tBQ_"
      },
      "source": [
        "Como se ha comentado anteriormente, tener muchas clases distintas no nos favorece necesariamente. Ante esta situación podemos hacer grupos para poder reducir el número de clases, por ejemplo por rango de edades."
      ]
    },
    {
      "cell_type": "code",
      "metadata": {
        "id": "J4jScawiZ7ck"
      },
      "source": [
        "df['Age-bin'] = df['Age']\n",
        "df.loc[df['Age-bin'] <= 16, 'Age-bin'] = 0\n",
        "df.loc[(df['Age-bin'] > 16) & (df['Age-bin'] <= 32), 'Age-bin'] = 1\n",
        "df.loc[(df['Age-bin'] > 32), 'Age-bin'] = 2"
      ],
      "execution_count": null,
      "outputs": []
    },
    {
      "cell_type": "markdown",
      "metadata": {
        "id": "P990v_fYuvHi"
      },
      "source": [
        "Un aspecto a añadir pueden ser los **dummies** en los cuales en lugar de tener una columna donde aparecen múltiples clases tenemos una columna con cada una de las clases indicando si el elemento de esa fila pertence a la clase '1' o no '0'."
      ]
    },
    {
      "cell_type": "code",
      "metadata": {
        "id": "8QVSNu0laIZg"
      },
      "source": [
        "df['FamilySize'] = df['Parch'] + df['SibSp'] + 1\n",
        "df['Singleton'] = df['FamilySize'].map(lambda s: 1 if s == 1 else 0)\n",
        "df['SmallFamily'] = df['FamilySize'].map(lambda s: 1 if 2 <= s <= 3 else 0)\n",
        "df['MediumFamily'] = df['FamilySize'].map(lambda s: 1 if s == 4 else 0)\n",
        "df['LargeFamily'] = df['FamilySize'].map(lambda s: 1 if 5 <= s else 0)\n"
      ],
      "execution_count": null,
      "outputs": []
    },
    {
      "cell_type": "markdown",
      "metadata": {
        "id": "Ty6lXtOHvC9E"
      },
      "source": [
        "### Ahora ya tenemos nuestra base de datos lista, por el momento...."
      ]
    },
    {
      "cell_type": "code",
      "metadata": {
        "id": "crMeSm2UaKt1"
      },
      "source": [
        "df.head()"
      ],
      "execution_count": null,
      "outputs": []
    },
    {
      "cell_type": "markdown",
      "metadata": {
        "id": "ozWz6sZGUTdu"
      },
      "source": [
        "**Para pensar:**\n",
        "\n",
        "\n",
        "1.   ¿Qué efecto tiene escoger de manera aleatoria el % de datos que van al entrenamiento (train) y a la prueba (test). ¿Cómo afecta nuestro resultado a la accuracy? ¿Qué nos está indicando de los datos?\n",
        "2. ¿Cuáles son las variables que hemos de tratar para poder usar la base de datos?\n",
        "\n"
      ]
    },
    {
      "cell_type": "code",
      "metadata": {
        "id": "hCg08Rz-UtEU"
      },
      "source": [],
      "execution_count": null,
      "outputs": []
    }
  ]
}