{
  "nbformat": 4,
  "nbformat_minor": 0,
  "metadata": {
    "colab": {
      "provenance": []
    },
    "kernelspec": {
      "name": "python3",
      "display_name": "Python 3"
    },
    "language_info": {
      "name": "python"
    }
  },
  "cells": [
    {
      "cell_type": "markdown",
      "metadata": {
        "id": "wDmHZ7azljfD"
      },
      "source": [
        "En el ejemplo que vamos a utilizar, vamos a imaginarnos que una organización sin fines de lucro soporta su operación mediante la organización periódica de una campaña para recaudar fondos por correo. Esta organización ha creado una base de datos con más de 40 mil personas que por lo menos una vez en el pasado ha sido donante. La campaña de recaudación de fondos se realiza mediante el envío a una lista de correo (o un subconjunto de ella) de un regalo simbólico y la solicitud de una donación. Una vez que se planifica la campaña, el costo total de la misma se conoce de forma automática\n",
        "La idea es que, utilizando las técnicas de Machine Learning sobre la base de datos de esta organización, podamos ayudarla a maximizar los beneficios de la campaña de recaudación, esto es, lograr el máximo importe posible de dinero recaudado, minimizando lo más que se pueda el costo total de la campaña\n",
        "Nuestro objetivo es ayudar a esta organización sin fines de lucro a seleccionar de su lista de correo los donantes a los que debe abordar a los efectos de maximizar los beneficios de la campaña de recaudación"
      ]
    },
    {
      "cell_type": "code",
      "metadata": {
        "id": "vOcuTLashFeU"
      },
      "source": [
        "# Importando las librerías que vamos a utilizar\n",
        "import pandas as pd\n",
        "import numpy as np \n",
        "import matplotlib.pyplot as plt \n",
        "import seaborn as sns \n",
        "from sklearn.preprocessing import LabelEncoder\n",
        "\n",
        "# graficos incrustados\n",
        "%matplotlib inline\n",
        "\n",
        "# parametros esteticos de seaborn\n",
        "sns.set_palette(\"deep\", desat=.6)\n",
        "sns.set_context(rc={\"figure.figsize\": (8, 4)})"
      ],
      "execution_count": 2,
      "outputs": []
    },
    {
      "cell_type": "code",
      "metadata": {
        "id": "9tRHPT0EigZ9"
      },
      "source": [
        "# importando el dataset a un Dataframe de Pandas\n",
        "ONG_data = pd.read_csv('ONG.csv', header=0)"
      ],
      "execution_count": 5,
      "outputs": []
    },
    {
      "cell_type": "code",
      "metadata": {
        "colab": {
          "base_uri": "https://localhost:8080/",
          "height": 255
        },
        "id": "-tLig4c1ixmW",
        "outputId": "06e84638-8a57-4556-e705-d150f4473bc7"
      },
      "source": [
        "# Examinando las primeras filas y columnas del dataset\n",
        "ONG_data.head()"
      ],
      "execution_count": null,
      "outputs": [
        {
          "output_type": "execute_result",
          "data": {
            "text/html": [
              "<div>\n",
              "<style scoped>\n",
              "    .dataframe tbody tr th:only-of-type {\n",
              "        vertical-align: middle;\n",
              "    }\n",
              "\n",
              "    .dataframe tbody tr th {\n",
              "        vertical-align: top;\n",
              "    }\n",
              "\n",
              "    .dataframe thead th {\n",
              "        text-align: right;\n",
              "    }\n",
              "</style>\n",
              "<table border=\"1\" class=\"dataframe\">\n",
              "  <thead>\n",
              "    <tr style=\"text-align: right;\">\n",
              "      <th></th>\n",
              "      <th>ODATEDW</th>\n",
              "      <th>OSOURCE</th>\n",
              "      <th>TCODE</th>\n",
              "      <th>STATE</th>\n",
              "      <th>ZIP</th>\n",
              "      <th>MAILCODE</th>\n",
              "      <th>PVASTATE</th>\n",
              "      <th>DOB</th>\n",
              "      <th>NOEXCH</th>\n",
              "      <th>RECINHSE</th>\n",
              "      <th>RECP3</th>\n",
              "      <th>RECPGVG</th>\n",
              "      <th>RECSWEEP</th>\n",
              "      <th>MDMAUD</th>\n",
              "      <th>DOMAIN</th>\n",
              "      <th>CLUSTER</th>\n",
              "      <th>AGE</th>\n",
              "      <th>AGEFLAG</th>\n",
              "      <th>HOMEOWNR</th>\n",
              "      <th>CHILD03</th>\n",
              "      <th>CHILD07</th>\n",
              "      <th>CHILD12</th>\n",
              "      <th>CHILD18</th>\n",
              "      <th>NUMCHLD</th>\n",
              "      <th>INCOME</th>\n",
              "      <th>GENDER</th>\n",
              "      <th>WEALTH1</th>\n",
              "      <th>HIT</th>\n",
              "      <th>MBCRAFT</th>\n",
              "      <th>MBGARDEN</th>\n",
              "      <th>MBBOOKS</th>\n",
              "      <th>MBCOLECT</th>\n",
              "      <th>MAGFAML</th>\n",
              "      <th>MAGFEM</th>\n",
              "      <th>MAGMALE</th>\n",
              "      <th>PUBGARDN</th>\n",
              "      <th>PUBCULIN</th>\n",
              "      <th>PUBHLTH</th>\n",
              "      <th>PUBDOITY</th>\n",
              "      <th>PUBNEWFN</th>\n",
              "      <th>...</th>\n",
              "      <th>RAMNT_10</th>\n",
              "      <th>RAMNT_11</th>\n",
              "      <th>RAMNT_12</th>\n",
              "      <th>RAMNT_13</th>\n",
              "      <th>RAMNT_14</th>\n",
              "      <th>RAMNT_15</th>\n",
              "      <th>RAMNT_16</th>\n",
              "      <th>RAMNT_17</th>\n",
              "      <th>RAMNT_18</th>\n",
              "      <th>RAMNT_19</th>\n",
              "      <th>RAMNT_20</th>\n",
              "      <th>RAMNT_21</th>\n",
              "      <th>RAMNT_22</th>\n",
              "      <th>RAMNT_23</th>\n",
              "      <th>RAMNT_24</th>\n",
              "      <th>RAMNTALL</th>\n",
              "      <th>NGIFTALL</th>\n",
              "      <th>CARDGIFT</th>\n",
              "      <th>MINRAMNT</th>\n",
              "      <th>MINRDATE</th>\n",
              "      <th>MAXRAMNT</th>\n",
              "      <th>MAXRDATE</th>\n",
              "      <th>LASTGIFT</th>\n",
              "      <th>LASTDATE</th>\n",
              "      <th>FISTDATE</th>\n",
              "      <th>NEXTDATE</th>\n",
              "      <th>TIMELAG</th>\n",
              "      <th>AVGGIFT</th>\n",
              "      <th>IDX</th>\n",
              "      <th>DONOR_FLAG</th>\n",
              "      <th>DONOR_AMOUNT</th>\n",
              "      <th>HPHONE_D</th>\n",
              "      <th>RFA_2R</th>\n",
              "      <th>RFA_2F</th>\n",
              "      <th>RFA_2A</th>\n",
              "      <th>MDMAUD_R</th>\n",
              "      <th>MDMAUD_F</th>\n",
              "      <th>MDMAUD_A</th>\n",
              "      <th>CLUSTER2</th>\n",
              "      <th>GEOCODE2</th>\n",
              "    </tr>\n",
              "  </thead>\n",
              "  <tbody>\n",
              "    <tr>\n",
              "      <th>0</th>\n",
              "      <td>8901</td>\n",
              "      <td>GRI</td>\n",
              "      <td>0</td>\n",
              "      <td>IL</td>\n",
              "      <td>61081</td>\n",
              "      <td></td>\n",
              "      <td></td>\n",
              "      <td>3712</td>\n",
              "      <td>0</td>\n",
              "      <td></td>\n",
              "      <td></td>\n",
              "      <td></td>\n",
              "      <td></td>\n",
              "      <td>XXXX</td>\n",
              "      <td>T2</td>\n",
              "      <td>36.0</td>\n",
              "      <td>60.0</td>\n",
              "      <td></td>\n",
              "      <td></td>\n",
              "      <td></td>\n",
              "      <td></td>\n",
              "      <td></td>\n",
              "      <td></td>\n",
              "      <td>NaN</td>\n",
              "      <td>NaN</td>\n",
              "      <td>F</td>\n",
              "      <td>NaN</td>\n",
              "      <td>0</td>\n",
              "      <td>NaN</td>\n",
              "      <td>NaN</td>\n",
              "      <td>NaN</td>\n",
              "      <td>NaN</td>\n",
              "      <td>NaN</td>\n",
              "      <td>NaN</td>\n",
              "      <td>NaN</td>\n",
              "      <td>NaN</td>\n",
              "      <td>NaN</td>\n",
              "      <td>NaN</td>\n",
              "      <td>NaN</td>\n",
              "      <td>NaN</td>\n",
              "      <td>...</td>\n",
              "      <td>10.0</td>\n",
              "      <td>NaN</td>\n",
              "      <td>NaN</td>\n",
              "      <td>NaN</td>\n",
              "      <td>10.0</td>\n",
              "      <td>11.0</td>\n",
              "      <td>11.0</td>\n",
              "      <td>11.0</td>\n",
              "      <td>NaN</td>\n",
              "      <td>NaN</td>\n",
              "      <td>NaN</td>\n",
              "      <td>NaN</td>\n",
              "      <td>NaN</td>\n",
              "      <td>11.0</td>\n",
              "      <td>9.0</td>\n",
              "      <td>240.0</td>\n",
              "      <td>31</td>\n",
              "      <td>14</td>\n",
              "      <td>5.0</td>\n",
              "      <td>9208</td>\n",
              "      <td>12.0</td>\n",
              "      <td>9402</td>\n",
              "      <td>10.0</td>\n",
              "      <td>9512</td>\n",
              "      <td>8911</td>\n",
              "      <td>9003.0</td>\n",
              "      <td>4.0</td>\n",
              "      <td>7.741935</td>\n",
              "      <td>95515</td>\n",
              "      <td>0</td>\n",
              "      <td>0.0</td>\n",
              "      <td>0</td>\n",
              "      <td>L</td>\n",
              "      <td>4</td>\n",
              "      <td>E</td>\n",
              "      <td>X</td>\n",
              "      <td>X</td>\n",
              "      <td>X</td>\n",
              "      <td>39.0</td>\n",
              "      <td>C</td>\n",
              "    </tr>\n",
              "    <tr>\n",
              "      <th>1</th>\n",
              "      <td>9401</td>\n",
              "      <td>NWN</td>\n",
              "      <td>0</td>\n",
              "      <td>LA</td>\n",
              "      <td>70611</td>\n",
              "      <td></td>\n",
              "      <td></td>\n",
              "      <td>0</td>\n",
              "      <td>0</td>\n",
              "      <td></td>\n",
              "      <td></td>\n",
              "      <td></td>\n",
              "      <td></td>\n",
              "      <td>XXXX</td>\n",
              "      <td>T2</td>\n",
              "      <td>39.0</td>\n",
              "      <td>NaN</td>\n",
              "      <td></td>\n",
              "      <td>U</td>\n",
              "      <td></td>\n",
              "      <td></td>\n",
              "      <td></td>\n",
              "      <td></td>\n",
              "      <td>NaN</td>\n",
              "      <td>2.0</td>\n",
              "      <td>F</td>\n",
              "      <td>9.0</td>\n",
              "      <td>1</td>\n",
              "      <td>0.0</td>\n",
              "      <td>0.0</td>\n",
              "      <td>0.0</td>\n",
              "      <td>0.0</td>\n",
              "      <td>0.0</td>\n",
              "      <td>0.0</td>\n",
              "      <td>0.0</td>\n",
              "      <td>0.0</td>\n",
              "      <td>0.0</td>\n",
              "      <td>0.0</td>\n",
              "      <td>0.0</td>\n",
              "      <td>0.0</td>\n",
              "      <td>...</td>\n",
              "      <td>NaN</td>\n",
              "      <td>NaN</td>\n",
              "      <td>NaN</td>\n",
              "      <td>11.0</td>\n",
              "      <td>5.0</td>\n",
              "      <td>NaN</td>\n",
              "      <td>5.0</td>\n",
              "      <td>NaN</td>\n",
              "      <td>NaN</td>\n",
              "      <td>NaN</td>\n",
              "      <td>NaN</td>\n",
              "      <td>NaN</td>\n",
              "      <td>NaN</td>\n",
              "      <td>NaN</td>\n",
              "      <td>5.0</td>\n",
              "      <td>31.0</td>\n",
              "      <td>5</td>\n",
              "      <td>4</td>\n",
              "      <td>5.0</td>\n",
              "      <td>9507</td>\n",
              "      <td>11.0</td>\n",
              "      <td>9508</td>\n",
              "      <td>11.0</td>\n",
              "      <td>9508</td>\n",
              "      <td>9401</td>\n",
              "      <td>9407.0</td>\n",
              "      <td>6.0</td>\n",
              "      <td>6.200000</td>\n",
              "      <td>109359</td>\n",
              "      <td>0</td>\n",
              "      <td>0.0</td>\n",
              "      <td>1</td>\n",
              "      <td>L</td>\n",
              "      <td>3</td>\n",
              "      <td>E</td>\n",
              "      <td>X</td>\n",
              "      <td>X</td>\n",
              "      <td>X</td>\n",
              "      <td>38.0</td>\n",
              "      <td>C</td>\n",
              "    </tr>\n",
              "    <tr>\n",
              "      <th>2</th>\n",
              "      <td>9401</td>\n",
              "      <td>MSD</td>\n",
              "      <td>1</td>\n",
              "      <td>TN</td>\n",
              "      <td>37127-</td>\n",
              "      <td></td>\n",
              "      <td></td>\n",
              "      <td>3211</td>\n",
              "      <td>0</td>\n",
              "      <td></td>\n",
              "      <td></td>\n",
              "      <td></td>\n",
              "      <td></td>\n",
              "      <td>XXXX</td>\n",
              "      <td>T1</td>\n",
              "      <td>35.0</td>\n",
              "      <td>65.0</td>\n",
              "      <td>I</td>\n",
              "      <td></td>\n",
              "      <td></td>\n",
              "      <td></td>\n",
              "      <td></td>\n",
              "      <td></td>\n",
              "      <td>NaN</td>\n",
              "      <td>NaN</td>\n",
              "      <td>M</td>\n",
              "      <td>NaN</td>\n",
              "      <td>0</td>\n",
              "      <td>NaN</td>\n",
              "      <td>NaN</td>\n",
              "      <td>NaN</td>\n",
              "      <td>NaN</td>\n",
              "      <td>NaN</td>\n",
              "      <td>NaN</td>\n",
              "      <td>NaN</td>\n",
              "      <td>NaN</td>\n",
              "      <td>NaN</td>\n",
              "      <td>NaN</td>\n",
              "      <td>NaN</td>\n",
              "      <td>NaN</td>\n",
              "      <td>...</td>\n",
              "      <td>NaN</td>\n",
              "      <td>NaN</td>\n",
              "      <td>NaN</td>\n",
              "      <td>NaN</td>\n",
              "      <td>NaN</td>\n",
              "      <td>NaN</td>\n",
              "      <td>15.0</td>\n",
              "      <td>NaN</td>\n",
              "      <td>NaN</td>\n",
              "      <td>NaN</td>\n",
              "      <td>NaN</td>\n",
              "      <td>NaN</td>\n",
              "      <td>NaN</td>\n",
              "      <td>NaN</td>\n",
              "      <td>NaN</td>\n",
              "      <td>28.0</td>\n",
              "      <td>3</td>\n",
              "      <td>1</td>\n",
              "      <td>3.0</td>\n",
              "      <td>9309</td>\n",
              "      <td>15.0</td>\n",
              "      <td>9504</td>\n",
              "      <td>15.0</td>\n",
              "      <td>9504</td>\n",
              "      <td>9309</td>\n",
              "      <td>9404.0</td>\n",
              "      <td>7.0</td>\n",
              "      <td>9.333333</td>\n",
              "      <td>49909</td>\n",
              "      <td>0</td>\n",
              "      <td>0.0</td>\n",
              "      <td>0</td>\n",
              "      <td>L</td>\n",
              "      <td>1</td>\n",
              "      <td>F</td>\n",
              "      <td>X</td>\n",
              "      <td>X</td>\n",
              "      <td>X</td>\n",
              "      <td>34.0</td>\n",
              "      <td>B</td>\n",
              "    </tr>\n",
              "    <tr>\n",
              "      <th>3</th>\n",
              "      <td>8901</td>\n",
              "      <td>ENQ</td>\n",
              "      <td>0</td>\n",
              "      <td>MN</td>\n",
              "      <td>56475</td>\n",
              "      <td></td>\n",
              "      <td></td>\n",
              "      <td>2603</td>\n",
              "      <td>0</td>\n",
              "      <td></td>\n",
              "      <td></td>\n",
              "      <td></td>\n",
              "      <td></td>\n",
              "      <td>XXXX</td>\n",
              "      <td>R3</td>\n",
              "      <td>51.0</td>\n",
              "      <td>72.0</td>\n",
              "      <td></td>\n",
              "      <td>H</td>\n",
              "      <td></td>\n",
              "      <td></td>\n",
              "      <td></td>\n",
              "      <td></td>\n",
              "      <td>2.0</td>\n",
              "      <td>4.0</td>\n",
              "      <td>F</td>\n",
              "      <td>2.0</td>\n",
              "      <td>16</td>\n",
              "      <td>1.0</td>\n",
              "      <td>1.0</td>\n",
              "      <td>1.0</td>\n",
              "      <td>0.0</td>\n",
              "      <td>1.0</td>\n",
              "      <td>0.0</td>\n",
              "      <td>0.0</td>\n",
              "      <td>0.0</td>\n",
              "      <td>0.0</td>\n",
              "      <td>0.0</td>\n",
              "      <td>1.0</td>\n",
              "      <td>0.0</td>\n",
              "      <td>...</td>\n",
              "      <td>NaN</td>\n",
              "      <td>NaN</td>\n",
              "      <td>5.0</td>\n",
              "      <td>NaN</td>\n",
              "      <td>NaN</td>\n",
              "      <td>NaN</td>\n",
              "      <td>4.0</td>\n",
              "      <td>NaN</td>\n",
              "      <td>NaN</td>\n",
              "      <td>NaN</td>\n",
              "      <td>4.0</td>\n",
              "      <td>NaN</td>\n",
              "      <td>NaN</td>\n",
              "      <td>NaN</td>\n",
              "      <td>NaN</td>\n",
              "      <td>48.0</td>\n",
              "      <td>9</td>\n",
              "      <td>5</td>\n",
              "      <td>4.0</td>\n",
              "      <td>9507</td>\n",
              "      <td>7.0</td>\n",
              "      <td>9102</td>\n",
              "      <td>6.0</td>\n",
              "      <td>9601</td>\n",
              "      <td>8905</td>\n",
              "      <td>8910.0</td>\n",
              "      <td>5.0</td>\n",
              "      <td>5.333333</td>\n",
              "      <td>85548</td>\n",
              "      <td>0</td>\n",
              "      <td>0.0</td>\n",
              "      <td>1</td>\n",
              "      <td>L</td>\n",
              "      <td>4</td>\n",
              "      <td>D</td>\n",
              "      <td>X</td>\n",
              "      <td>X</td>\n",
              "      <td>X</td>\n",
              "      <td>57.0</td>\n",
              "      <td>D</td>\n",
              "    </tr>\n",
              "    <tr>\n",
              "      <th>4</th>\n",
              "      <td>9201</td>\n",
              "      <td>HCC</td>\n",
              "      <td>1</td>\n",
              "      <td>LA</td>\n",
              "      <td>70791</td>\n",
              "      <td></td>\n",
              "      <td></td>\n",
              "      <td>0</td>\n",
              "      <td>0</td>\n",
              "      <td>X</td>\n",
              "      <td></td>\n",
              "      <td></td>\n",
              "      <td></td>\n",
              "      <td>XXXX</td>\n",
              "      <td>T2</td>\n",
              "      <td>40.0</td>\n",
              "      <td>NaN</td>\n",
              "      <td></td>\n",
              "      <td></td>\n",
              "      <td></td>\n",
              "      <td></td>\n",
              "      <td></td>\n",
              "      <td></td>\n",
              "      <td>NaN</td>\n",
              "      <td>NaN</td>\n",
              "      <td>M</td>\n",
              "      <td>NaN</td>\n",
              "      <td>0</td>\n",
              "      <td>NaN</td>\n",
              "      <td>NaN</td>\n",
              "      <td>NaN</td>\n",
              "      <td>NaN</td>\n",
              "      <td>NaN</td>\n",
              "      <td>NaN</td>\n",
              "      <td>NaN</td>\n",
              "      <td>NaN</td>\n",
              "      <td>NaN</td>\n",
              "      <td>NaN</td>\n",
              "      <td>NaN</td>\n",
              "      <td>NaN</td>\n",
              "      <td>...</td>\n",
              "      <td>NaN</td>\n",
              "      <td>NaN</td>\n",
              "      <td>NaN</td>\n",
              "      <td>NaN</td>\n",
              "      <td>50.0</td>\n",
              "      <td>NaN</td>\n",
              "      <td>NaN</td>\n",
              "      <td>NaN</td>\n",
              "      <td>NaN</td>\n",
              "      <td>NaN</td>\n",
              "      <td>NaN</td>\n",
              "      <td>20.0</td>\n",
              "      <td>NaN</td>\n",
              "      <td>NaN</td>\n",
              "      <td>NaN</td>\n",
              "      <td>245.0</td>\n",
              "      <td>12</td>\n",
              "      <td>4</td>\n",
              "      <td>5.0</td>\n",
              "      <td>9211</td>\n",
              "      <td>50.0</td>\n",
              "      <td>9412</td>\n",
              "      <td>25.0</td>\n",
              "      <td>9612</td>\n",
              "      <td>9210</td>\n",
              "      <td>9211.0</td>\n",
              "      <td>1.0</td>\n",
              "      <td>20.416667</td>\n",
              "      <td>12890</td>\n",
              "      <td>0</td>\n",
              "      <td>0.0</td>\n",
              "      <td>0</td>\n",
              "      <td>L</td>\n",
              "      <td>1</td>\n",
              "      <td>G</td>\n",
              "      <td>X</td>\n",
              "      <td>X</td>\n",
              "      <td>X</td>\n",
              "      <td>38.0</td>\n",
              "      <td>B</td>\n",
              "    </tr>\n",
              "  </tbody>\n",
              "</table>\n",
              "<p>5 rows × 481 columns</p>\n",
              "</div>"
            ],
            "text/plain": [
              "   ODATEDW OSOURCE  TCODE STATE  ... MDMAUD_F MDMAUD_A CLUSTER2  GEOCODE2\n",
              "0     8901     GRI      0    IL  ...        X        X     39.0         C\n",
              "1     9401     NWN      0    LA  ...        X        X     38.0         C\n",
              "2     9401     MSD      1    TN  ...        X        X     34.0         B\n",
              "3     8901     ENQ      0    MN  ...        X        X     57.0         D\n",
              "4     9201     HCC      1    LA  ...        X        X     38.0         B\n",
              "\n",
              "[5 rows x 481 columns]"
            ]
          },
          "metadata": {},
          "execution_count": 11
        }
      ]
    },
    {
      "cell_type": "code",
      "metadata": {
        "colab": {
          "base_uri": "https://localhost:8080/"
        },
        "id": "5cIsKP-ei1D-",
        "outputId": "ed4a54b4-30ea-46bc-9f55-a04716158ddc"
      },
      "source": [
        "# Controlando la cantidad de registros\n",
        "ONG_data['DONOR_AMOUNT'].count()"
      ],
      "execution_count": null,
      "outputs": [
        {
          "output_type": "execute_result",
          "data": {
            "text/plain": [
              "47720"
            ]
          },
          "metadata": {},
          "execution_count": 12
        }
      ]
    },
    {
      "cell_type": "code",
      "metadata": {
        "colab": {
          "base_uri": "https://localhost:8080/"
        },
        "id": "EsUGMNNqi4vb",
        "outputId": "f59544a9-16d8-4224-8b3f-ee28ad279599"
      },
      "source": [
        "# Controlando valores nulos\n",
        "ONG_data.isnull().any().any()"
      ],
      "execution_count": null,
      "outputs": [
        {
          "output_type": "execute_result",
          "data": {
            "text/plain": [
              "True"
            ]
          },
          "metadata": {},
          "execution_count": 13
        }
      ]
    },
    {
      "cell_type": "code",
      "metadata": {
        "colab": {
          "base_uri": "https://localhost:8080/"
        },
        "id": "sCXLx-w-i8OM",
        "outputId": "7889db77-4ee4-4a05-cc43-11e7ad92dbb6"
      },
      "source": [
        "# Agrupando columnas por tipo de datos\n",
        "tipos = ONG_data.columns.to_series().groupby(ONG_data.dtypes).groups\n",
        "\n",
        "# Armando lista de columnas categóricas\n",
        "ctext = tipos[np.dtype('object')]\n",
        "len(ctext)  # cantidad de columnas con datos categóricos. "
      ],
      "execution_count": null,
      "outputs": [
        {
          "output_type": "execute_result",
          "data": {
            "text/plain": [
              "68"
            ]
          },
          "metadata": {},
          "execution_count": 14
        }
      ]
    },
    {
      "cell_type": "code",
      "metadata": {
        "colab": {
          "base_uri": "https://localhost:8080/"
        },
        "id": "80sHhapxjA2r",
        "outputId": "740e9639-d5c5-4d9c-e18a-060789e6f0c3"
      },
      "source": [
        "# Armando lista de columnas numéricas\n",
        "columnas = ONG_data.columns  # lista de todas las columnas\n",
        "cnum = list(set(columnas) - set(ctext))\n",
        "len(cnum)"
      ],
      "execution_count": null,
      "outputs": [
        {
          "output_type": "execute_result",
          "data": {
            "text/plain": [
              "413"
            ]
          },
          "metadata": {},
          "execution_count": 15
        }
      ]
    },
    {
      "cell_type": "markdown",
      "metadata": {
        "id": "YqfbMcC2JP2l"
      },
      "source": [
        "Ahora ya logramos separar a las 481 columnas que tiene nuestro dataset. 68 columnas contienen datos categóricos y 413 contienen datos cuantitativos. Procedamos a inferir los valores faltantes."
      ]
    },
    {
      "cell_type": "code",
      "metadata": {
        "id": "WpIxRJJkjGS2"
      },
      "source": [
        "# Completando valores faltantas datos cuantititavos\n",
        "for c in cnum:\n",
        "    mean = ONG_data[c].mean()\n",
        "    ONG_data[c] = ONG_data[c].fillna(mean)"
      ],
      "execution_count": null,
      "outputs": []
    },
    {
      "cell_type": "code",
      "metadata": {
        "id": "9ilpR23HkKz3"
      },
      "source": [
        "# Completando valores faltantas datos categóricos\n",
        "for c in ctext:\n",
        "    mode = ONG_data[c].mode()[0]\n",
        "    ONG_data[c] = ONG_data[c].fillna(mode)"
      ],
      "execution_count": null,
      "outputs": []
    },
    {
      "cell_type": "code",
      "metadata": {
        "colab": {
          "base_uri": "https://localhost:8080/"
        },
        "id": "ftOmrcC_kF_i",
        "outputId": "e06c1e77-b2ec-424b-ad9d-d15223d811bd"
      },
      "source": [
        "# Controlando que no hayan valores faltantes\n",
        "ONG_data.isnull().any().any()"
      ],
      "execution_count": null,
      "outputs": [
        {
          "output_type": "execute_result",
          "data": {
            "text/plain": [
              "False"
            ]
          },
          "metadata": {},
          "execution_count": 18
        }
      ]
    },
    {
      "cell_type": "code",
      "metadata": {
        "colab": {
          "base_uri": "https://localhost:8080/"
        },
        "id": "b_pvIWYSkXlO",
        "outputId": "d41cd336-3588-4186-8770-121b9f009ea7"
      },
      "source": [
        "\n",
        "# Calculando el porcentaje de donantes sobre toda la base de datos\n",
        "porcent_donantes = (ONG_data[ONG_data.DONOR_AMOUNT \n",
        "                             > 0]['DONOR_AMOUNT'].count() * 1.0\n",
        "       / ONG_data['DONOR_AMOUNT'].count()) * 100.0\n",
        "print(\"El procentaje de donantes de la base de datos es {0:.2f}%\"\n",
        "      .format(porcent_donantes))"
      ],
      "execution_count": null,
      "outputs": [
        {
          "output_type": "stream",
          "name": "stdout",
          "text": [
            "El procentaje de donantes de la base de datos es 5.08%\n"
          ]
        }
      ]
    },
    {
      "cell_type": "code",
      "metadata": {
        "colab": {
          "base_uri": "https://localhost:8080/",
          "height": 264
        },
        "id": "xLy8VY03keFV",
        "outputId": "d3a3d797-db9d-4145-e116-c9dadb9bd2ef"
      },
      "source": [
        "# Grafico de totas del porcentaje de donantes\n",
        "# Agrupando por DONOR_FLAG\n",
        "donantes = ONG_data.groupby('DONOR_FLAG').IDX.count() \n",
        "# Creando las leyendas del grafico.\n",
        "labels = [ 'Donante\\n' + str(round(x * 1.0 / donantes.sum() * \n",
        "                            100.0, 2)) + '%'  for x in donantes ]\n",
        "labels[0] = 'No ' + labels[0]\n",
        "\n",
        "plt.pie(donantes, labels=labels)\n",
        "plt.title('Porcion de donantes')\n",
        "plt.show()"
      ],
      "execution_count": null,
      "outputs": [
        {
          "output_type": "display_data",
          "data": {
            "image/png": "[encoded data removed]",
            "text/plain": [
              "<Figure size 432x288 with 1 Axes>"
            ]
          },
          "metadata": {}
        }
      ]
    },
    {
      "cell_type": "markdown",
      "metadata": {
        "id": "AGBRLoDalSG1"
      },
      "source": [
        "Aquí podemos ver que el porcentaje de personas que fueron donantes en el pasado es realmente muy bajo, solo un 5 % del total de la base de datos (2423 personas). Este es un dato importante a tener en cuenta ya que al existir tanta diferencia entre las clases a clasificar, esto puede afectar considerablemente a nuestro algoritmo de aprendizaje. Exploremos también un poco más en detalle a este grupo pequeño de personas que fueron donantes; veamos por ejemplo como se dividen de acuerdo a la cantidad de dinero donado."
      ]
    },
    {
      "cell_type": "code",
      "metadata": {
        "colab": {
          "base_uri": "https://localhost:8080/"
        },
        "id": "6i6V7nCEJrwM",
        "outputId": "1e0af3cb-589c-4b2f-f161-9c7ceac88360"
      },
      "source": [
        "\n",
        "# Creando subset con solo los donates\n",
        "ONG_donantes = ONG_data[ONG_data.DONOR_AMOUNT > 0]\n",
        "\n",
        "# cantidad de donantes\n",
        "len(ONG_donantes)"
      ],
      "execution_count": null,
      "outputs": [
        {
          "output_type": "execute_result",
          "data": {
            "text/plain": [
              "2423"
            ]
          },
          "metadata": {},
          "execution_count": 36
        }
      ]
    },
    {
      "cell_type": "code",
      "metadata": {
        "colab": {
          "base_uri": "https://localhost:8080/",
          "height": 337
        },
        "id": "AiYH8xcLkp44",
        "outputId": "e3e4e334-0ee7-4c5e-9cdc-9a45da253d2e"
      },
      "source": [
        "\n",
        "# Analizando el importe de donanciones\n",
        "# Creando un segmentos de importes\n",
        "imp_segm = pd.cut(ONG_donantes['DONOR_AMOUNT'], \n",
        "                  [0, 10,  20, 30, 40, 50, 60, 100, 200])\n",
        "# Creando el grafico de barras desde pandas\n",
        "plot = pd.value_counts(imp_segm).plot(kind='bar',\n",
        "                                      title='Importes de donacion')\n",
        "plot.set_ylabel('Cant de donantes')\n",
        "plot.set_xlabel('Rango de importes')\n",
        "plt.show()"
      ],
      "execution_count": null,
      "outputs": [
        {
          "output_type": "display_data",
          "data": {
            "image/png": "[encoded data removed]",
            "text/plain": [
              "<Figure size 432x288 with 1 Axes>"
            ]
          },
          "metadata": {
            "needs_background": "light"
          }
        }
      ]
    },
    {
      "cell_type": "code",
      "metadata": {
        "colab": {
          "base_uri": "https://localhost:8080/"
        },
        "id": "HBYfuKiMk4k6",
        "outputId": "e4f45def-f7f3-4eaf-b991-33d9b71ac39a"
      },
      "source": [
        "# Agrupación por segmento segun importe donado.\n",
        "pd.value_counts(imp_segm)"
      ],
      "execution_count": null,
      "outputs": [
        {
          "output_type": "execute_result",
          "data": {
            "text/plain": [
              "(0, 10]       1026\n",
              "(10, 20]       921\n",
              "(20, 30]       358\n",
              "(30, 40]        53\n",
              "(40, 50]        43\n",
              "(60, 100]       15\n",
              "(50, 60]         4\n",
              "(100, 200]       3\n",
              "Name: DONOR_AMOUNT, dtype: int64"
            ]
          },
          "metadata": {},
          "execution_count": 38
        }
      ]
    },
    {
      "cell_type": "code",
      "metadata": {
        "colab": {
          "base_uri": "https://localhost:8080/"
        },
        "id": "FnB_S2T0k-48",
        "outputId": "f8ebe82a-2997-4690-f78a-e9d328736545"
      },
      "source": [
        "# importe de donación promedio\n",
        "ONG_donantes['DONOR_AMOUNT'].mean()"
      ],
      "execution_count": null,
      "outputs": [
        {
          "output_type": "execute_result",
          "data": {
            "text/plain": [
              "15.598237721832438"
            ]
          },
          "metadata": {},
          "execution_count": 41
        }
      ]
    },
    {
      "cell_type": "code",
      "metadata": {
        "colab": {
          "base_uri": "https://localhost:8080/",
          "height": 335
        },
        "id": "bc4pgkSMlIg9",
        "outputId": "2efc5709-d1d3-4a99-d0a7-91eb9560a198"
      },
      "source": [
        "\n",
        "# Gráfico de cajas del importe de donación\n",
        "sns.boxplot(list(ONG_data['DONOR_AMOUNT']))\n",
        "plt.title('importe de donación')\n",
        "plt.show()"
      ],
      "execution_count": null,
      "outputs": [
        {
          "output_type": "stream",
          "name": "stderr",
          "text": [
            "/usr/local/lib/python3.7/dist-packages/seaborn/_decorators.py:43: FutureWarning: Pass the following variable as a keyword arg: x. From version 0.12, the only valid positional argument will be `data`, and passing other arguments without an explicit keyword will result in an error or misinterpretation.\n",
            "  FutureWarning\n"
          ]
        },
        {
          "output_type": "display_data",
          "data": {
            "image/png": "[encoded data removed]",
            "text/plain": [
              "<Figure size 432x288 with 1 Axes>"
            ]
          },
          "metadata": {
            "needs_background": "light"
          }
        }
      ]
    },
    {
      "cell_type": "markdown",
      "metadata": {
        "id": "_f4r21wKHlbY"
      },
      "source": [
        "Este análisis nos muestra que la mayor cantidad de donaciones caen en un rango de importes entre 0 y 30, siendo la donación promedio 15.60. También podemos ver que donaciones que superen un importe de 50 son casos realmente poco frecuentes, por lo que constituyen valores atípicos y sería prudente eliminar estos casos al entrenar nuestro modelo para que no distorsionen los resultados."
      ]
    },
    {
      "cell_type": "markdown",
      "metadata": {
        "id": "nHhhe9ooHqmk"
      },
      "source": [
        "Otra exploración interesante que podríamos realizar sobre nuestro dataset relacionado con los donantes, es ver como se divide este grupo en términos de género y edad. Comencemos con el género"
      ]
    },
    {
      "cell_type": "code",
      "metadata": {
        "colab": {
          "base_uri": "https://localhost:8080/",
          "height": 294
        },
        "id": "G-yJUIHRIC9W",
        "outputId": "8f3401a0-a9c6-42a1-87bc-0b1a3a284998"
      },
      "source": [
        "# Grafico del género de los donantes\n",
        "ONG_data.groupby('GENDER').size().plot(kind='bar')\n",
        "plt.title('Distribución por género')\n",
        "plt.show()"
      ],
      "execution_count": null,
      "outputs": [
        {
          "output_type": "display_data",
          "data": {
            "image/png": "[encoded data removed]",
            "text/plain": [
              "<Figure size 432x288 with 1 Axes>"
            ]
          },
          "metadata": {
            "needs_background": "light"
          }
        }
      ]
    },
    {
      "cell_type": "code",
      "metadata": {
        "colab": {
          "base_uri": "https://localhost:8080/",
          "height": 355
        },
        "id": "lQFmwJ61Hv_d",
        "outputId": "79b7db35-f954-403a-b4eb-2bfa1653f571"
      },
      "source": [
        "\n",
        "# Donaciones segun el género\n",
        "ONG_donantes[(ONG_donantes.DONOR_AMOUNT <= 50)\n",
        "             & (ONG_donantes.GENDER.isin(['F', 'M'])\n",
        "               )][['DONOR_AMOUNT', 'GENDER']].boxplot(by='GENDER')\n",
        "plt.title('Donantes segun sexo')\n",
        "plt.show()"
      ],
      "execution_count": null,
      "outputs": [
        {
          "output_type": "stream",
          "name": "stderr",
          "text": [
            "/usr/local/lib/python3.7/dist-packages/numpy/core/_asarray.py:83: VisibleDeprecationWarning: Creating an ndarray from ragged nested sequences (which is a list-or-tuple of lists-or-tuples-or ndarrays with different lengths or shapes) is deprecated. If you meant to do this, you must specify 'dtype=object' when creating the ndarray\n",
            "  return array(a, dtype, copy=False, order=order)\n"
          ]
        },
        {
          "output_type": "display_data",
          "data": {
            "image/png": "[encoded data removed]",
            "text/plain": [
              "<Figure size 432x288 with 1 Axes>"
            ]
          },
          "metadata": {
            "needs_background": "light"
          }
        }
      ]
    },
    {
      "cell_type": "code",
      "metadata": {
        "colab": {
          "base_uri": "https://localhost:8080/"
        },
        "id": "EP2PLrqdI1E_",
        "outputId": "3766f83d-70c2-4d8e-e04c-fcfaeaec096a"
      },
      "source": [
        "# Media de impote donado por mujeres\n",
        "ONG_donantes[ONG_donantes.GENDER == 'F'][['DONOR_AMOUNT']].mean()"
      ],
      "execution_count": null,
      "outputs": [
        {
          "output_type": "execute_result",
          "data": {
            "text/plain": [
              "DONOR_AMOUNT    14.610311\n",
              "dtype: float64"
            ]
          },
          "metadata": {},
          "execution_count": 46
        }
      ]
    },
    {
      "cell_type": "code",
      "metadata": {
        "colab": {
          "base_uri": "https://localhost:8080/"
        },
        "id": "2X1BBmi8KYQI",
        "outputId": "01cf006a-7018-4288-c407-952a85b3d710"
      },
      "source": [
        "# Media de impote donado por hombres\n",
        "ONG_donantes[ONG_donantes.GENDER == 'M'][['DONOR_AMOUNT']].mean()"
      ],
      "execution_count": null,
      "outputs": [
        {
          "output_type": "execute_result",
          "data": {
            "text/plain": [
              "DONOR_AMOUNT    16.81989\n",
              "dtype: float64"
            ]
          },
          "metadata": {},
          "execution_count": 47
        }
      ]
    },
    {
      "cell_type": "markdown",
      "metadata": {
        "id": "3ZYiz_YJKbba"
      },
      "source": [
        "Aquí vemos que las mujeres suelen estar más propensas a donar, aunque donan un importe promedio menor (14.61) al que donan los hombres (16.82). Veamos ahora como se comportan las donaciones respecto a la edad."
      ]
    },
    {
      "cell_type": "code",
      "metadata": {
        "colab": {
          "base_uri": "https://localhost:8080/",
          "height": 281
        },
        "id": "bEdhO_1oKeF6",
        "outputId": "9a41f83b-7e57-4eed-dc8c-e68f42030c16"
      },
      "source": [
        "# Distribución de la edad de los donantes\n",
        "ONG_donantes['AGE'].hist().set_title('Distribución de donantes segun edad')\n",
        "plt.show()"
      ],
      "execution_count": null,
      "outputs": [
        {
          "output_type": "display_data",
          "data": {
            "image/png": "[encoded data removed]",
            "text/plain": [
              "<Figure size 432x288 with 1 Axes>"
            ]
          },
          "metadata": {
            "needs_background": "light"
          }
        }
      ]
    },
    {
      "cell_type": "code",
      "metadata": {
        "colab": {
          "base_uri": "https://localhost:8080/",
          "height": 435
        },
        "id": "zJjcM54TKh4F",
        "outputId": "cd5f3a09-3795-46f9-a238-368046b17b30"
      },
      "source": [
        "# Agrupando la edad por rango de a 10\n",
        "AGE2 = pd.cut(ONG_donantes['AGE'], range(0, 100, 10))\n",
        "ONG_donantes['AGE2'] = AGE2\n",
        "\n",
        "# Gráfico de barras de donaciones por edad\n",
        "pd.value_counts(AGE2).plot(kind='bar', title='Donaciones por edad')\n",
        "plt.show()"
      ],
      "execution_count": null,
      "outputs": [
        {
          "output_type": "stream",
          "name": "stderr",
          "text": [
            "/usr/local/lib/python3.7/dist-packages/ipykernel_launcher.py:3: SettingWithCopyWarning: \n",
            "A value is trying to be set on a copy of a slice from a DataFrame.\n",
            "Try using .loc[row_indexer,col_indexer] = value instead\n",
            "\n",
            "See the caveats in the documentation: https://pandas.pydata.org/pandas-docs/stable/user_guide/indexing.html#returning-a-view-versus-a-copy\n",
            "  This is separate from the ipykernel package so we can avoid doing imports until\n"
          ]
        },
        {
          "output_type": "display_data",
          "data": {
            "image/png": "[encoded data removed]",
            "text/plain": [
              "<Figure size 432x288 with 1 Axes>"
            ]
          },
          "metadata": {
            "needs_background": "light"
          }
        }
      ]
    },
    {
      "cell_type": "code",
      "metadata": {
        "colab": {
          "base_uri": "https://localhost:8080/",
          "height": 355
        },
        "id": "kXsIUy0WKlj5",
        "outputId": "03c5be09-0c0b-4c4f-fcff-9d41ab8916c1"
      },
      "source": [
        "\n",
        "# Importes de donación por grango de edad\n",
        "ONG_donantes[ONG_donantes.DONOR_AMOUNT <= 50][['DONOR_AMOUNT', \n",
        "                                               'AGE2']].boxplot(by='AGE2')\n",
        "plt.title('Importe de donación por edad')\n",
        "plt.show()"
      ],
      "execution_count": null,
      "outputs": [
        {
          "output_type": "stream",
          "name": "stderr",
          "text": [
            "/usr/local/lib/python3.7/dist-packages/numpy/core/_asarray.py:83: VisibleDeprecationWarning: Creating an ndarray from ragged nested sequences (which is a list-or-tuple of lists-or-tuples-or ndarrays with different lengths or shapes) is deprecated. If you meant to do this, you must specify 'dtype=object' when creating the ndarray\n",
            "  return array(a, dtype, copy=False, order=order)\n"
          ]
        },
        {
          "output_type": "display_data",
          "data": {
            "image/png": "[encoded data removed]",
            "text/plain": [
              "<Figure size 432x288 with 1 Axes>"
            ]
          },
          "metadata": {
            "needs_background": "light"
          }
        }
      ]
    },
    {
      "cell_type": "markdown",
      "metadata": {
        "id": "d3J9eeYVKqRi"
      },
      "source": [
        "En este último análisis podemos ver que la mayor cantidad de los donantes son personas de entre 60 y 70 años, aunque la media de importe donado más alta la tienen las personas que van desde los 30 a los 60 años."
      ]
    }
  ]
}