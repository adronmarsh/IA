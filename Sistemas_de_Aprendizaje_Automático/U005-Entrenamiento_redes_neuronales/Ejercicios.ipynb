{
 "cells": [
  {
   "cell_type": "markdown",
   "metadata": {},
   "source": [
    "## ¿Cómo está estructurado el documento?\n",
    "\n",
    "Tenemos varios puntos. Introducción al NP, Metodos utilizados y dentro de ella 3 puntos más, Experimentos y resultados del proyecto, Discusiones, Conlcusiones acerca del proyecto, Conocimientos obtenidos en base al proyecto.\n"
   ]
  },
  {
   "cell_type": "markdown",
   "metadata": {},
   "source": [
    "## ¿Cuantas funciones de activación aparecen? Enumeralas.\n",
    "\n",
    "Aparecen 8 funciones de activación:\n",
    "- Relu\n",
    "- Leaky-Relu\n",
    "- Tanh\n",
    "- ELU\n",
    "- Swish\n",
    "- PFLU\n",
    "- MISH\n",
    "- Modulus"
   ]
  },
  {
   "cell_type": "markdown",
   "metadata": {},
   "source": [
    "## ¿Cuántos autores aparecen citados? ¿En qué páginas aparecen las referencias?\n",
    "Aparecen citados en las referencias 76 autores. Todos van apareciendo entre las páginas 1 y 7 aunque podemos ver todas las referencias al final del documento."
   ]
  },
  {
   "cell_type": "markdown",
   "metadata": {},
   "source": [
    "## Enumera los dataset que utiliza.\n",
    "Se utilizan los siguientes datasets:\n",
    "- MNIST\n",
    "- Fashion-MNIST\n",
    "- CIFAR-10\n",
    "- CIFAR-100"
   ]
  },
  {
   "cell_type": "markdown",
   "metadata": {},
   "source": [
    "## Enumera las arquitecturas que utiliza para el experimento.\n",
    "Las arquitecturas que se utilizan son:\n",
    "- LeNet-5\n",
    "- AlexNet\n",
    "- VGG16\n",
    "- ResNet-18"
   ]
  },
  {
   "cell_type": "markdown",
   "metadata": {},
   "source": [
    "## ¿Qué métrica de desempeño utilizan?\n",
    "La métrica de desempeño utilizada en el experimento es la precisión de clasificación (accuracy) para evaluar el rendimiento de las distintas funciones de activación en las arquitecturas de red seleccionadas."
   ]
  },
  {
   "cell_type": "markdown",
   "metadata": {},
   "source": [
    "## ¿Podemos acceder al código del experimento?\n",
    "Sí, el código está disponible en GitHub, el enlace al respositorio se encuentra en la página 9. "
   ]
  },
  {
   "cell_type": "markdown",
   "metadata": {},
   "source": [
    "## ¿Qué conclusiones podemos sacar de este experimento?\n",
    "De este experimento podemos sacar como conclusión que la función de activación propuesta (Modulus) es más eficaz que otras funciones de activación más convencionales a la hora de la precisión de clasificación."
   ]
  },
  {
   "cell_type": "markdown",
   "metadata": {},
   "source": [
    "4\n",
    "\t8 \n",
    "2\n",
    "\t\t6\n",
    "-2\n",
    "\n",
    "\n",
    "\n",
    "2\n",
    "\t1\n",
    "4\t\t1\n",
    "\n",
    "1\n",
    "\n",
    "-------------------------------\n",
    "\n",
    "5\n",
    "\t5\n",
    "4\n",
    "\t\t-15\n",
    "-3\n",
    "\n",
    "\n",
    "\n",
    "-3\n",
    "\t-3\n",
    "0\n",
    "\t\t1\n",
    "5\n",
    "\n",
    "-------------------------------\n",
    "\n",
    "5\n",
    "\t20\n",
    "4\n",
    "\t\t24 * 2 = 48\n",
    "1\n",
    "\t4\n",
    "3\n",
    "\n",
    "\n",
    "8\n",
    "\t2\n",
    "10\n",
    "\t\t2 * 2 = 1\n",
    "3\n",
    "\t2\n",
    "5\n",
    "\n",
    "-------------------------------\n",
    "\n",
    "5\n",
    "\t5\n",
    "4\n",
    "\t\t8 * 3 = 24\n",
    "1\n",
    "\t3\n",
    "3\n",
    "\n",
    "\n",
    "3\n",
    "\t3\n",
    "0\n",
    "\t\t3 * 3 = 1\n",
    "9\n",
    "\t3\n",
    "3\n",
    "\n",
    "-------------------------------\n",
    "\n"
   ]
  }
 ],
 "metadata": {
  "language_info": {
   "name": "python"
  }
 },
 "nbformat": 4,
 "nbformat_minor": 2
}
