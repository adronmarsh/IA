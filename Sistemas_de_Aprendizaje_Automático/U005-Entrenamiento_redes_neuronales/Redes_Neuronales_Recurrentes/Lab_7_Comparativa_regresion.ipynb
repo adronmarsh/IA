{
  "nbformat": 4,
  "nbformat_minor": 0,
  "metadata": {
    "colab": {
      "provenance": [],
      "toc_visible": true
    },
    "kernelspec": {
      "name": "python3",
      "display_name": "Python 3"
    },
    "language_info": {
      "name": "python"
    }
  },
  "cells": [
    {
      "cell_type": "markdown",
      "source": [
        "# Regresión en Redes Neuronales Arficiales\n",
        "\n",
        "Durante la asignatura hemos visto distintos de solucionar problemas de regresión, de hecho en la primera clase dijimos: \"A lo largo del curso y la asignatura veremos que un mismo problema se puede solucionar de distintas formas\"\n",
        "\n",
        "Vamos a experimentar con varios tipos de redes neuronales para predecir el valor de una acción. Vamos a trabajar con la acción de Pharmamar para lo cual necesitamos su histórico desde el 1-1-2011\n",
        "\n",
        "https://es.finance.yahoo.com/quote/AAPL/history?p=AAPL\n",
        "\n",
        "En aules podéis decargaros el archivo: PHM.MC.csv\n",
        "\n",
        "El objetivo de esta práctica es predecir el precio máximo de la acción para el día siguiente a uno dado."
      ],
      "metadata": {
        "id": "HHBzTpZ_iNIt"
      }
    },
    {
      "cell_type": "markdown",
      "source": [
        "## **1. Preparación de datos**"
      ],
      "metadata": {
        "id": "8uOs0LiXY53N"
      }
    },
    {
      "cell_type": "code",
      "execution_count": null,
      "metadata": {
        "id": "c8qUlIpcgvE0"
      },
      "outputs": [],
      "source": [
        "import numpy as np\n",
        "np.random.seed(4)\n",
        "import pandas as pd\n",
        "import plotly \n",
        "import plotly.express as px\n",
        "import matplotlib.pyplot as plt\n",
        "import tensorflow as tf\n",
        "\n",
        "from keras.wrappers.scikit_learn import KerasClassifier, KerasRegressor\n",
        "from keras.models import Sequential\n",
        "from keras.layers import Input, Dense, LSTM, Dropout\n",
        "from sklearn.preprocessing import MinMaxScaler\n",
        "from sklearn.model_selection import GridSearchCV"
      ]
    },
    {
      "cell_type": "code",
      "source": [
        "df = pd.read_csv('PHM.MC.csv', index_col='Date', parse_dates=['Date'])\n",
        "df.info()"
      ],
      "metadata": {
        "colab": {
          "base_uri": "https://localhost:8080/"
        },
        "id": "fmWZ6RXHj2a9",
        "outputId": "510a9f69-3a6b-44c2-e71d-a4b1dd35eb30"
      },
      "execution_count": null,
      "outputs": [
        {
          "output_type": "stream",
          "name": "stdout",
          "text": [
            "<class 'pandas.core.frame.DataFrame'>\n",
            "DatetimeIndex: 2862 entries, 2011-01-03 to 2022-03-08\n",
            "Data columns (total 6 columns):\n",
            " #   Column     Non-Null Count  Dtype  \n",
            "---  ------     --------------  -----  \n",
            " 0   Open       2861 non-null   float64\n",
            " 1   High       2861 non-null   float64\n",
            " 2   Low        2861 non-null   float64\n",
            " 3   Close      2861 non-null   float64\n",
            " 4   Adj Close  2861 non-null   float64\n",
            " 5   Volume     2861 non-null   float64\n",
            "dtypes: float64(6)\n",
            "memory usage: 156.5 KB\n"
          ]
        }
      ]
    },
    {
      "cell_type": "code",
      "source": [
        "df.isnull().sum()"
      ],
      "metadata": {
        "colab": {
          "base_uri": "https://localhost:8080/"
        },
        "id": "GsEl_Ff03ALw",
        "outputId": "f6efadd3-f61a-472c-ce99-8a92058c239f"
      },
      "execution_count": null,
      "outputs": [
        {
          "output_type": "execute_result",
          "data": {
            "text/plain": [
              "Open         1\n",
              "High         1\n",
              "Low          1\n",
              "Close        1\n",
              "Adj Close    1\n",
              "Volume       1\n",
              "dtype: int64"
            ]
          },
          "metadata": {},
          "execution_count": 4
        }
      ]
    },
    {
      "cell_type": "code",
      "source": [
        "# Hay una fila con nulos\n",
        "df = df.dropna()\n",
        "df.isnull().sum()"
      ],
      "metadata": {
        "colab": {
          "base_uri": "https://localhost:8080/"
        },
        "id": "Ajd-cmiI3AJa",
        "outputId": "e157312a-657a-4616-f3bf-72fa508f56fe"
      },
      "execution_count": null,
      "outputs": [
        {
          "output_type": "execute_result",
          "data": {
            "text/plain": [
              "Open         0\n",
              "High         0\n",
              "Low          0\n",
              "Close        0\n",
              "Adj Close    0\n",
              "Volume       0\n",
              "dtype: int64"
            ]
          },
          "metadata": {},
          "execution_count": 5
        }
      ]
    },
    {
      "cell_type": "code",
      "source": [
        "df.head()"
      ],
      "metadata": {
        "colab": {
          "base_uri": "https://localhost:8080/",
          "height": 237
        },
        "id": "wVQj41QDpbwV",
        "outputId": "cf7feb20-26bf-4480-8528-cad5393156af"
      },
      "execution_count": null,
      "outputs": [
        {
          "output_type": "execute_result",
          "data": {
            "text/plain": [
              "                 Open       High        Low      Close  Adj Close   Volume\n",
              "Date                                                                      \n",
              "2011-01-03  33.600136  34.560139  32.400127  33.720135  33.336208  24366.0\n",
              "2011-01-04  33.600136  34.140137  33.000134  33.120132  32.743038  21499.0\n",
              "2011-01-05  33.540134  33.540134  32.700130  33.000134  32.624405  11077.0\n",
              "2011-01-06  33.420132  33.420132  31.920128  32.220127  31.853281   8829.0\n",
              "2011-01-07  32.040127  32.580132  31.200125  31.200125  30.844891  25342.0"
            ],
            "text/html": [
              "\n",
              "  <div id=\"df-f9b66872-f907-4f74-9edf-5ad335689467\">\n",
              "    <div class=\"colab-df-container\">\n",
              "      <div>\n",
              "<style scoped>\n",
              "    .dataframe tbody tr th:only-of-type {\n",
              "        vertical-align: middle;\n",
              "    }\n",
              "\n",
              "    .dataframe tbody tr th {\n",
              "        vertical-align: top;\n",
              "    }\n",
              "\n",
              "    .dataframe thead th {\n",
              "        text-align: right;\n",
              "    }\n",
              "</style>\n",
              "<table border=\"1\" class=\"dataframe\">\n",
              "  <thead>\n",
              "    <tr style=\"text-align: right;\">\n",
              "      <th></th>\n",
              "      <th>Open</th>\n",
              "      <th>High</th>\n",
              "      <th>Low</th>\n",
              "      <th>Close</th>\n",
              "      <th>Adj Close</th>\n",
              "      <th>Volume</th>\n",
              "    </tr>\n",
              "    <tr>\n",
              "      <th>Date</th>\n",
              "      <th></th>\n",
              "      <th></th>\n",
              "      <th></th>\n",
              "      <th></th>\n",
              "      <th></th>\n",
              "      <th></th>\n",
              "    </tr>\n",
              "  </thead>\n",
              "  <tbody>\n",
              "    <tr>\n",
              "      <th>2011-01-03</th>\n",
              "      <td>33.600136</td>\n",
              "      <td>34.560139</td>\n",
              "      <td>32.400127</td>\n",
              "      <td>33.720135</td>\n",
              "      <td>33.336208</td>\n",
              "      <td>24366.0</td>\n",
              "    </tr>\n",
              "    <tr>\n",
              "      <th>2011-01-04</th>\n",
              "      <td>33.600136</td>\n",
              "      <td>34.140137</td>\n",
              "      <td>33.000134</td>\n",
              "      <td>33.120132</td>\n",
              "      <td>32.743038</td>\n",
              "      <td>21499.0</td>\n",
              "    </tr>\n",
              "    <tr>\n",
              "      <th>2011-01-05</th>\n",
              "      <td>33.540134</td>\n",
              "      <td>33.540134</td>\n",
              "      <td>32.700130</td>\n",
              "      <td>33.000134</td>\n",
              "      <td>32.624405</td>\n",
              "      <td>11077.0</td>\n",
              "    </tr>\n",
              "    <tr>\n",
              "      <th>2011-01-06</th>\n",
              "      <td>33.420132</td>\n",
              "      <td>33.420132</td>\n",
              "      <td>31.920128</td>\n",
              "      <td>32.220127</td>\n",
              "      <td>31.853281</td>\n",
              "      <td>8829.0</td>\n",
              "    </tr>\n",
              "    <tr>\n",
              "      <th>2011-01-07</th>\n",
              "      <td>32.040127</td>\n",
              "      <td>32.580132</td>\n",
              "      <td>31.200125</td>\n",
              "      <td>31.200125</td>\n",
              "      <td>30.844891</td>\n",
              "      <td>25342.0</td>\n",
              "    </tr>\n",
              "  </tbody>\n",
              "</table>\n",
              "</div>\n",
              "      <button class=\"colab-df-convert\" onclick=\"convertToInteractive('df-f9b66872-f907-4f74-9edf-5ad335689467')\"\n",
              "              title=\"Convert this dataframe to an interactive table.\"\n",
              "              style=\"display:none;\">\n",
              "        \n",
              "  <svg xmlns=\"http://www.w3.org/2000/svg\" height=\"24px\"viewBox=\"0 0 24 24\"\n",
              "       width=\"24px\">\n",
              "    <path d=\"M0 0h24v24H0V0z\" fill=\"none\"/>\n",
              "    <path d=\"M18.56 5.44l.94 2.06.94-2.06 2.06-.94-2.06-.94-.94-2.06-.94 2.06-2.06.94zm-11 1L8.5 8.5l.94-2.06 2.06-.94-2.06-.94L8.5 2.5l-.94 2.06-2.06.94zm10 10l.94 2.06.94-2.06 2.06-.94-2.06-.94-.94-2.06-.94 2.06-2.06.94z\"/><path d=\"M17.41 7.96l-1.37-1.37c-.4-.4-.92-.59-1.43-.59-.52 0-1.04.2-1.43.59L10.3 9.45l-7.72 7.72c-.78.78-.78 2.05 0 2.83L4 21.41c.39.39.9.59 1.41.59.51 0 1.02-.2 1.41-.59l7.78-7.78 2.81-2.81c.8-.78.8-2.07 0-2.86zM5.41 20L4 18.59l7.72-7.72 1.47 1.35L5.41 20z\"/>\n",
              "  </svg>\n",
              "      </button>\n",
              "      \n",
              "  <style>\n",
              "    .colab-df-container {\n",
              "      display:flex;\n",
              "      flex-wrap:wrap;\n",
              "      gap: 12px;\n",
              "    }\n",
              "\n",
              "    .colab-df-convert {\n",
              "      background-color: #E8F0FE;\n",
              "      border: none;\n",
              "      border-radius: 50%;\n",
              "      cursor: pointer;\n",
              "      display: none;\n",
              "      fill: #1967D2;\n",
              "      height: 32px;\n",
              "      padding: 0 0 0 0;\n",
              "      width: 32px;\n",
              "    }\n",
              "\n",
              "    .colab-df-convert:hover {\n",
              "      background-color: #E2EBFA;\n",
              "      box-shadow: 0px 1px 2px rgba(60, 64, 67, 0.3), 0px 1px 3px 1px rgba(60, 64, 67, 0.15);\n",
              "      fill: #174EA6;\n",
              "    }\n",
              "\n",
              "    [theme=dark] .colab-df-convert {\n",
              "      background-color: #3B4455;\n",
              "      fill: #D2E3FC;\n",
              "    }\n",
              "\n",
              "    [theme=dark] .colab-df-convert:hover {\n",
              "      background-color: #434B5C;\n",
              "      box-shadow: 0px 1px 3px 1px rgba(0, 0, 0, 0.15);\n",
              "      filter: drop-shadow(0px 1px 2px rgba(0, 0, 0, 0.3));\n",
              "      fill: #FFFFFF;\n",
              "    }\n",
              "  </style>\n",
              "\n",
              "      <script>\n",
              "        const buttonEl =\n",
              "          document.querySelector('#df-f9b66872-f907-4f74-9edf-5ad335689467 button.colab-df-convert');\n",
              "        buttonEl.style.display =\n",
              "          google.colab.kernel.accessAllowed ? 'block' : 'none';\n",
              "\n",
              "        async function convertToInteractive(key) {\n",
              "          const element = document.querySelector('#df-f9b66872-f907-4f74-9edf-5ad335689467');\n",
              "          const dataTable =\n",
              "            await google.colab.kernel.invokeFunction('convertToInteractive',\n",
              "                                                     [key], {});\n",
              "          if (!dataTable) return;\n",
              "\n",
              "          const docLinkHtml = 'Like what you see? Visit the ' +\n",
              "            '<a target=\"_blank\" href=https://colab.research.google.com/notebooks/data_table.ipynb>data table notebook</a>'\n",
              "            + ' to learn more about interactive tables.';\n",
              "          element.innerHTML = '';\n",
              "          dataTable['output_type'] = 'display_data';\n",
              "          await google.colab.output.renderOutput(dataTable, element);\n",
              "          const docLink = document.createElement('div');\n",
              "          docLink.innerHTML = docLinkHtml;\n",
              "          element.appendChild(docLink);\n",
              "        }\n",
              "      </script>\n",
              "    </div>\n",
              "  </div>\n",
              "  "
            ]
          },
          "metadata": {},
          "execution_count": 6
        }
      ]
    },
    {
      "cell_type": "markdown",
      "source": [
        "## **2. Neural Network FF (Feed Fordward)**"
      ],
      "metadata": {
        "id": "QszrZjJDZSq4"
      }
    },
    {
      "cell_type": "markdown",
      "source": [
        "El objetivo el predecir el precio máximo de la acción para el día siguiente a uno dado"
      ],
      "metadata": {
        "id": "VRAJhOy0tAmp"
      }
    },
    {
      "cell_type": "markdown",
      "source": [
        "### **2.1 Series temporales**"
      ],
      "metadata": {
        "id": "iYsd7QRhnXW1"
      }
    },
    {
      "cell_type": "markdown",
      "source": [
        "El precio de una acción depende de la variable tiempo (serie temporal)"
      ],
      "metadata": {
        "id": "f2BFlSMULEfm"
      }
    },
    {
      "cell_type": "code",
      "source": [
        "# Nos crearemos un DataFrame con la fecha, el precio máximo para esa fecha y el precio máximo del dia siguiente\n",
        "df2 = df.drop(['Open', 'Low', 'Close', 'Adj Close', 'Volume'], axis=1)\n",
        "df3 = df2\n",
        "df3=df3.shift(periods=-1)\n",
        "df2['HighNextDay'] = df3['High']\n",
        "df2 = df2.dropna()\n",
        "df2"
      ],
      "metadata": {
        "colab": {
          "base_uri": "https://localhost:8080/",
          "height": 455
        },
        "id": "DUQDnmleoNgO",
        "outputId": "3fff90d9-caf4-4ac9-d5ad-e2d16160d476"
      },
      "execution_count": null,
      "outputs": [
        {
          "output_type": "execute_result",
          "data": {
            "text/plain": [
              "                 High  HighNextDay\n",
              "Date                              \n",
              "2011-01-03  34.560139    34.140137\n",
              "2011-01-04  34.140137    33.540134\n",
              "2011-01-05  33.540134    33.420132\n",
              "2011-01-06  33.420132    32.580132\n",
              "2011-01-07  32.580132    31.560125\n",
              "...               ...          ...\n",
              "2022-03-01  60.200001    61.459999\n",
              "2022-03-02  61.459999    62.759998\n",
              "2022-03-03  62.759998    58.220001\n",
              "2022-03-04  58.220001    56.660000\n",
              "2022-03-07  56.660000    57.980000\n",
              "\n",
              "[2860 rows x 2 columns]"
            ],
            "text/html": [
              "\n",
              "  <div id=\"df-1d43d7b6-3a4c-44ea-9650-a05f00730df3\">\n",
              "    <div class=\"colab-df-container\">\n",
              "      <div>\n",
              "<style scoped>\n",
              "    .dataframe tbody tr th:only-of-type {\n",
              "        vertical-align: middle;\n",
              "    }\n",
              "\n",
              "    .dataframe tbody tr th {\n",
              "        vertical-align: top;\n",
              "    }\n",
              "\n",
              "    .dataframe thead th {\n",
              "        text-align: right;\n",
              "    }\n",
              "</style>\n",
              "<table border=\"1\" class=\"dataframe\">\n",
              "  <thead>\n",
              "    <tr style=\"text-align: right;\">\n",
              "      <th></th>\n",
              "      <th>High</th>\n",
              "      <th>HighNextDay</th>\n",
              "    </tr>\n",
              "    <tr>\n",
              "      <th>Date</th>\n",
              "      <th></th>\n",
              "      <th></th>\n",
              "    </tr>\n",
              "  </thead>\n",
              "  <tbody>\n",
              "    <tr>\n",
              "      <th>2011-01-03</th>\n",
              "      <td>34.560139</td>\n",
              "      <td>34.140137</td>\n",
              "    </tr>\n",
              "    <tr>\n",
              "      <th>2011-01-04</th>\n",
              "      <td>34.140137</td>\n",
              "      <td>33.540134</td>\n",
              "    </tr>\n",
              "    <tr>\n",
              "      <th>2011-01-05</th>\n",
              "      <td>33.540134</td>\n",
              "      <td>33.420132</td>\n",
              "    </tr>\n",
              "    <tr>\n",
              "      <th>2011-01-06</th>\n",
              "      <td>33.420132</td>\n",
              "      <td>32.580132</td>\n",
              "    </tr>\n",
              "    <tr>\n",
              "      <th>2011-01-07</th>\n",
              "      <td>32.580132</td>\n",
              "      <td>31.560125</td>\n",
              "    </tr>\n",
              "    <tr>\n",
              "      <th>...</th>\n",
              "      <td>...</td>\n",
              "      <td>...</td>\n",
              "    </tr>\n",
              "    <tr>\n",
              "      <th>2022-03-01</th>\n",
              "      <td>60.200001</td>\n",
              "      <td>61.459999</td>\n",
              "    </tr>\n",
              "    <tr>\n",
              "      <th>2022-03-02</th>\n",
              "      <td>61.459999</td>\n",
              "      <td>62.759998</td>\n",
              "    </tr>\n",
              "    <tr>\n",
              "      <th>2022-03-03</th>\n",
              "      <td>62.759998</td>\n",
              "      <td>58.220001</td>\n",
              "    </tr>\n",
              "    <tr>\n",
              "      <th>2022-03-04</th>\n",
              "      <td>58.220001</td>\n",
              "      <td>56.660000</td>\n",
              "    </tr>\n",
              "    <tr>\n",
              "      <th>2022-03-07</th>\n",
              "      <td>56.660000</td>\n",
              "      <td>57.980000</td>\n",
              "    </tr>\n",
              "  </tbody>\n",
              "</table>\n",
              "<p>2860 rows × 2 columns</p>\n",
              "</div>\n",
              "      <button class=\"colab-df-convert\" onclick=\"convertToInteractive('df-1d43d7b6-3a4c-44ea-9650-a05f00730df3')\"\n",
              "              title=\"Convert this dataframe to an interactive table.\"\n",
              "              style=\"display:none;\">\n",
              "        \n",
              "  <svg xmlns=\"http://www.w3.org/2000/svg\" height=\"24px\"viewBox=\"0 0 24 24\"\n",
              "       width=\"24px\">\n",
              "    <path d=\"M0 0h24v24H0V0z\" fill=\"none\"/>\n",
              "    <path d=\"M18.56 5.44l.94 2.06.94-2.06 2.06-.94-2.06-.94-.94-2.06-.94 2.06-2.06.94zm-11 1L8.5 8.5l.94-2.06 2.06-.94-2.06-.94L8.5 2.5l-.94 2.06-2.06.94zm10 10l.94 2.06.94-2.06 2.06-.94-2.06-.94-.94-2.06-.94 2.06-2.06.94z\"/><path d=\"M17.41 7.96l-1.37-1.37c-.4-.4-.92-.59-1.43-.59-.52 0-1.04.2-1.43.59L10.3 9.45l-7.72 7.72c-.78.78-.78 2.05 0 2.83L4 21.41c.39.39.9.59 1.41.59.51 0 1.02-.2 1.41-.59l7.78-7.78 2.81-2.81c.8-.78.8-2.07 0-2.86zM5.41 20L4 18.59l7.72-7.72 1.47 1.35L5.41 20z\"/>\n",
              "  </svg>\n",
              "      </button>\n",
              "      \n",
              "  <style>\n",
              "    .colab-df-container {\n",
              "      display:flex;\n",
              "      flex-wrap:wrap;\n",
              "      gap: 12px;\n",
              "    }\n",
              "\n",
              "    .colab-df-convert {\n",
              "      background-color: #E8F0FE;\n",
              "      border: none;\n",
              "      border-radius: 50%;\n",
              "      cursor: pointer;\n",
              "      display: none;\n",
              "      fill: #1967D2;\n",
              "      height: 32px;\n",
              "      padding: 0 0 0 0;\n",
              "      width: 32px;\n",
              "    }\n",
              "\n",
              "    .colab-df-convert:hover {\n",
              "      background-color: #E2EBFA;\n",
              "      box-shadow: 0px 1px 2px rgba(60, 64, 67, 0.3), 0px 1px 3px 1px rgba(60, 64, 67, 0.15);\n",
              "      fill: #174EA6;\n",
              "    }\n",
              "\n",
              "    [theme=dark] .colab-df-convert {\n",
              "      background-color: #3B4455;\n",
              "      fill: #D2E3FC;\n",
              "    }\n",
              "\n",
              "    [theme=dark] .colab-df-convert:hover {\n",
              "      background-color: #434B5C;\n",
              "      box-shadow: 0px 1px 3px 1px rgba(0, 0, 0, 0.15);\n",
              "      filter: drop-shadow(0px 1px 2px rgba(0, 0, 0, 0.3));\n",
              "      fill: #FFFFFF;\n",
              "    }\n",
              "  </style>\n",
              "\n",
              "      <script>\n",
              "        const buttonEl =\n",
              "          document.querySelector('#df-1d43d7b6-3a4c-44ea-9650-a05f00730df3 button.colab-df-convert');\n",
              "        buttonEl.style.display =\n",
              "          google.colab.kernel.accessAllowed ? 'block' : 'none';\n",
              "\n",
              "        async function convertToInteractive(key) {\n",
              "          const element = document.querySelector('#df-1d43d7b6-3a4c-44ea-9650-a05f00730df3');\n",
              "          const dataTable =\n",
              "            await google.colab.kernel.invokeFunction('convertToInteractive',\n",
              "                                                     [key], {});\n",
              "          if (!dataTable) return;\n",
              "\n",
              "          const docLinkHtml = 'Like what you see? Visit the ' +\n",
              "            '<a target=\"_blank\" href=https://colab.research.google.com/notebooks/data_table.ipynb>data table notebook</a>'\n",
              "            + ' to learn more about interactive tables.';\n",
              "          element.innerHTML = '';\n",
              "          dataTable['output_type'] = 'display_data';\n",
              "          await google.colab.output.renderOutput(dataTable, element);\n",
              "          const docLink = document.createElement('div');\n",
              "          docLink.innerHTML = docLinkHtml;\n",
              "          element.appendChild(docLink);\n",
              "        }\n",
              "      </script>\n",
              "    </div>\n",
              "  </div>\n",
              "  "
            ]
          },
          "metadata": {},
          "execution_count": 7
        }
      ]
    },
    {
      "cell_type": "code",
      "source": [
        "# Vamos a coger del 2011 al 2020 para entrenamiento y los datos del 2022 para testear\n",
        "train = df2[:'2020'].iloc[:,:]\n",
        "test = df2['2021':].iloc[:,:]"
      ],
      "metadata": {
        "id": "sHKUv3l4tePk"
      },
      "execution_count": null,
      "outputs": []
    },
    {
      "cell_type": "code",
      "source": [
        "train['High'].plot(legend=True)\n",
        "test['High'].plot(legend=True)\n",
        "plt.legend(['Train (2011-2020)', 'Test (2021)'])\n",
        "plt.show"
      ],
      "metadata": {
        "colab": {
          "base_uri": "https://localhost:8080/",
          "height": 287
        },
        "id": "icQ0ec-AsHIp",
        "outputId": "782b8aa3-5077-425b-cc90-e7d3b026e5ca"
      },
      "execution_count": null,
      "outputs": [
        {
          "output_type": "execute_result",
          "data": {
            "text/plain": [
              "<function matplotlib.pyplot.show(close=None, block=None)>"
            ]
          },
          "metadata": {},
          "execution_count": 33
        },
        {
          "output_type": "display_data",
          "data": {
            "text/plain": [
              "<Figure size 432x288 with 1 Axes>"
            ],
            "image/png": "[encoded data removed]"
          },
          "metadata": {
            "needs_background": "light"
          }
        }
      ]
    },
    {
      "cell_type": "markdown",
      "source": [
        "### **2.2 Normalización**"
      ],
      "metadata": {
        "id": "7kq8fjK5CcgM"
      }
    },
    {
      "cell_type": "code",
      "source": [
        "sc = MinMaxScaler(feature_range=(0,1))\n",
        "\n",
        "X_train = sc.fit_transform(train['High'].values.reshape(-1,1))\n",
        "y_train = sc.fit_transform(train['HighNextDay'].values.reshape(-1,1))"
      ],
      "metadata": {
        "id": "69VRo_bwCiL0"
      },
      "execution_count": null,
      "outputs": []
    },
    {
      "cell_type": "markdown",
      "source": [
        "### **2.3 Modelo**"
      ],
      "metadata": {
        "id": "OKxG3M4Ow4rz"
      }
    },
    {
      "cell_type": "code",
      "source": [
        "# Specify the structure of a Neural Network\n",
        "model = Sequential(name=\"Model-with-One-Input\") \n",
        "model.add(Input(shape=(1,), name='Input-Layer'))\n",
        "model.add(Dense(2, activation='softplus', name='Hidden-Layer')) # Hidden Layer, softplus(x) = log(exp(x) + 1)\n",
        "model.add(Dense(1, activation='sigmoid', name='Output-Layer')) # Output Layer, sigmoid(x) = 1 / (1 + exp(-x))\n",
        "\n",
        "\n",
        "# Compile keras model\n",
        "model.compile(optimizer='adam', loss='binary_crossentropy')\n",
        "\n",
        "# Fit keras model on the dataset\n",
        "model.fit(X_train, y_train, batch_size=10, epochs=3)\n",
        "\n",
        "# Model Performance Summary\n",
        "print(\"\")\n",
        "print('-------------------- Model Summary --------------------')\n",
        "model.summary()\n",
        "print(\"\")\n",
        "print('-------------------- Weights and Biases --------------------')\n",
        "for layer in model.layers:\n",
        "    print(\"Layer: \", layer.name) # print layer name\n",
        "    print(\"  --Kernels (Weights): \", layer.get_weights()[0]) # weights\n",
        "    print(\"  --Biases: \", layer.get_weights()[1]) # biases"
      ],
      "metadata": {
        "colab": {
          "base_uri": "https://localhost:8080/"
        },
        "id": "GsDUbOoIq5A3",
        "outputId": "2fba8a25-7002-4fdb-942c-7a277b4b5ee6"
      },
      "execution_count": null,
      "outputs": [
        {
          "output_type": "stream",
          "name": "stdout",
          "text": [
            "Epoch 1/3\n",
            "256/256 [==============================] - 1s 2ms/step - loss: 0.5456\n",
            "Epoch 2/3\n",
            "256/256 [==============================] - 1s 2ms/step - loss: 0.4705\n",
            "Epoch 3/3\n",
            "256/256 [==============================] - 1s 2ms/step - loss: 0.4521\n",
            "\n",
            "-------------------- Model Summary --------------------\n",
            "Model: \"Model-with-One-Input\"\n",
            "_________________________________________________________________\n",
            " Layer (type)                Output Shape              Param #   \n",
            "=================================================================\n",
            " Hidden-Layer (Dense)        (None, 2)                 4         \n",
            "                                                                 \n",
            " Output-Layer (Dense)        (None, 1)                 3         \n",
            "                                                                 \n",
            "=================================================================\n",
            "Total params: 7\n",
            "Trainable params: 7\n",
            "Non-trainable params: 0\n",
            "_________________________________________________________________\n",
            "\n",
            "-------------------- Weights and Biases --------------------\n",
            "Layer:  Hidden-Layer\n",
            "  --Kernels (Weights):  [[-0.35787934  0.18107468]]\n",
            "  --Biases:  [0.5401977 0.5090124]\n",
            "Layer:  Output-Layer\n",
            "  --Kernels (Weights):  [[-0.600808  ]\n",
            " [-0.57719535]]\n",
            "  --Biases:  [-0.3749698]\n"
          ]
        }
      ]
    },
    {
      "cell_type": "markdown",
      "source": [
        "### **2.4 Predicción**"
      ],
      "metadata": {
        "id": "60G4qHbWxT74"
      }
    },
    {
      "cell_type": "code",
      "source": [
        "X_test = sc.fit_transform(test['High'].values.reshape(-1,1))\n",
        "y_test = sc.fit_transform(test['HighNextDay'].values.reshape(-1,1))\n",
        "\n",
        "# Realizamos la prediccion y aplicamos normalización inversa para que esté en escala real\n",
        "y_predicted = model.predict(X_test)\n",
        "y_predicted = sc.inverse_transform(y_predicted)\n"
      ],
      "metadata": {
        "id": "3n4JPjj5yziB",
        "colab": {
          "base_uri": "https://localhost:8080/"
        },
        "outputId": "681027b2-e037-4ffc-ccb7-9d0d42600291"
      },
      "execution_count": null,
      "outputs": [
        {
          "output_type": "stream",
          "name": "stdout",
          "text": [
            "10/10 [==============================] - 0s 2ms/step\n"
          ]
        }
      ]
    },
    {
      "cell_type": "markdown",
      "source": [
        "### **2.5 Visualizar resultados**"
      ],
      "metadata": {
        "id": "R-u2SmgQD3Z1"
      }
    },
    {
      "cell_type": "code",
      "source": [
        "test['HighPredicted'] = y_predicted\n",
        "plt.plot(train['High'], color='green')\n",
        "plt.plot(test['High'], color='red', label='Valor real de la acción')\n",
        "plt.plot(test['HighPredicted'], color='blue', label='Predicción de la acción')\n",
        "plt.xlabel('Tiempo')\n",
        "plt.ylabel('Valor de la acción')\n",
        "plt.legend()\n",
        "plt.show()"
      ],
      "metadata": {
        "id": "cH4DuRw7yuLF",
        "colab": {
          "base_uri": "https://localhost:8080/",
          "height": 386
        },
        "outputId": "8d8bba0a-53de-4b87-d16b-ca39c77d62d9"
      },
      "execution_count": null,
      "outputs": [
        {
          "output_type": "stream",
          "name": "stderr",
          "text": [
            "<ipython-input-37-cfb6259ec4ec>:1: SettingWithCopyWarning: \n",
            "A value is trying to be set on a copy of a slice from a DataFrame.\n",
            "Try using .loc[row_indexer,col_indexer] = value instead\n",
            "\n",
            "See the caveats in the documentation: https://pandas.pydata.org/pandas-docs/stable/user_guide/indexing.html#returning-a-view-versus-a-copy\n",
            "  test['HighPredicted'] = y_predicted\n"
          ]
        },
        {
          "output_type": "display_data",
          "data": {
            "text/plain": [
              "<Figure size 432x288 with 1 Axes>"
            ],
            "image/png": "[encoded data removed]"
          },
          "metadata": {
            "needs_background": "light"
          }
        }
      ]
    },
    {
      "cell_type": "markdown",
      "source": [
        "En la gráfica podemos apreciar que no ha realizado predicción. La linea azul."
      ],
      "metadata": {
        "id": "a_UQ1pQL9JTc"
      }
    },
    {
      "cell_type": "markdown",
      "source": [
        "## **3. Red neuronal optimizando parámetros**"
      ],
      "metadata": {
        "id": "VbFJjng2FTWz"
      }
    },
    {
      "cell_type": "markdown",
      "source": [
        "Podemos ajustar fácilmente los datos de regresión con el modelo secuencial de Keras y predecir los datos de prueba. En esta parte, aprenderemos brevemente cómo ajustar los datos de regresión con la **KerasRegressor** ."
      ],
      "metadata": {
        "id": "dGQs3BiJD8ZX"
      }
    },
    {
      "cell_type": "code",
      "source": [
        "# Nos crearemos un DataFrame con la fecha, el precio máximo para esa fecha y el precio máximo del dia siguiente\n",
        "df2 = df.drop(['Open', 'Low', 'Close', 'Adj Close', 'Volume'], axis=1)\n",
        "df3 = df2\n",
        "df3=df3.shift(periods=-1)\n",
        "df2['HighNextDay'] = df3['High']\n",
        "df2 = df2.dropna()"
      ],
      "metadata": {
        "id": "ySVC6zpDGyq5"
      },
      "execution_count": null,
      "outputs": []
    },
    {
      "cell_type": "code",
      "source": [
        "# Vamos a coger del 2011 al 2020 para entrenamiento y los datos del 2022 para testear\n",
        "train = df2[:'2020'].iloc[:,:]\n",
        "test = df2['2021':].iloc[:,:]"
      ],
      "metadata": {
        "id": "pjZt5FuoG7ah"
      },
      "execution_count": null,
      "outputs": []
    },
    {
      "cell_type": "code",
      "source": [
        "# Normalizamos\n",
        "sc = MinMaxScaler(feature_range=(0,1))\n",
        "\n",
        "X_train = sc.fit_transform(train['High'].values.reshape(-1,1))\n",
        "y_train = sc.fit_transform(train['HighNextDay'].values.reshape(-1,1))"
      ],
      "metadata": {
        "id": "xnjDMHbVG_di"
      },
      "execution_count": null,
      "outputs": []
    },
    {
      "cell_type": "markdown",
      "source": [
        "### **3.1 Crear modelo**"
      ],
      "metadata": {
        "id": "38Z5SPMLHERd"
      }
    },
    {
      "cell_type": "markdown",
      "source": [
        "En este punto se pide realizar una función en Python que se llame create_model, tiene que tener 4 variables de entrada:\n",
        "\n",
        "\n",
        "*   lyrs: Vector con las capas.\n",
        "*   act: Función de activación.\n",
        "*   opt: Optimizador.\n",
        "*   dr: Dropout.\n",
        "\n",
        "A continuación tenéis como debe de quedar la cabecera de la función:\n",
        "\n",
        "*   def create_model(lyrs=[1], act='linear', opt='Adam', dr=0.0):\n",
        "\n",
        "La última capa debe de ser la siguiente:\n",
        "\n",
        "*   model.add(Dense(1, activation='relu'))  \n",
        "\n",
        "\n",
        "Ayuda: La primera y última capa son fijas, lo que tenemos que crear es un bucle con el número de capas ocultas que le pasamos a la función.\n",
        "Ejemplo de lo que podemos recibir en lyrs\n",
        "*   lyrs = [[8],[10],[10,5],[12,6],[12,8,4]]\n",
        "\n",
        "\n",
        "\n",
        "\n",
        "\n"
      ],
      "metadata": {
        "id": "Qx6YnlZU93xb"
      }
    },
    {
      "cell_type": "markdown",
      "source": [
        "### **3.2 Entrenar modelo**"
      ],
      "metadata": {
        "id": "nGS9R-_4Ih8t"
      }
    },
    {
      "cell_type": "markdown",
      "source": [
        "En este punto tenéis que entrenar el modelo con los siguientes hiperparámentros:\n",
        "\n",
        "\n",
        "*   epochs=100\n",
        "*   batch_size=32\n",
        "*   validation_split=0.2\n",
        "*   verbose=0\n",
        "\n"
      ],
      "metadata": {
        "id": "tn1Cq-Kc_Wx8"
      }
    },
    {
      "cell_type": "markdown",
      "source": [
        "### **3.3 Optimizando hiperparámetros**"
      ],
      "metadata": {
        "id": "6dSli-JwI272"
      }
    },
    {
      "cell_type": "markdown",
      "source": [
        "#### 3.3.1 Batch_size y epochs"
      ],
      "metadata": {
        "id": "qTg9qROlI-ny"
      }
    },
    {
      "cell_type": "markdown",
      "source": [
        "Vamos a utilizar en este punto KerasRegressor. Para ellos vamos a probar con los siguientes hiperpáramentros:\n",
        "\n",
        "*   batch_size = [16, 32, 64]\n",
        "*   epochs = [50, 100]\n",
        "\n"
      ],
      "metadata": {
        "id": "KquV6zDGUZ1c"
      }
    },
    {
      "cell_type": "markdown",
      "source": [
        "#### **3.3.2 Optimizar algoritmo**"
      ],
      "metadata": {
        "id": "BSQt5MRxKA0y"
      }
    },
    {
      "cell_type": "markdown",
      "source": [
        "En este punto ya sabemos las mejores epochs y batch_size para nuestro modelo. Ahora vamos a experimentar con los siguientes optimizadores:\n",
        "\n",
        "    ['SGD', 'RMSprop', 'Adagrad', 'Adadelta', 'Adam', 'Nadam']\n",
        "\n",
        "(Nadam es una extensión de la versión de Adam del descenso de gradiente que incorpora Nesterov momentum)\n"
      ],
      "metadata": {
        "id": "V9ostY14UvdV"
      }
    },
    {
      "cell_type": "markdown",
      "source": [
        "#### **3.3.4 Neuronas ocultas**"
      ],
      "metadata": {
        "id": "U5surJsVKlFF"
      }
    },
    {
      "cell_type": "markdown",
      "source": [
        "En este punto vamos a experimentar con las capas que tiene que tener nuestro modelo. Las capas que se proponen son las siguientes:\n",
        "\n",
        "layers = [[8],[10],[10,5],[12,6],[12,8,4]]\n"
      ],
      "metadata": {
        "id": "951vmsUfVfMq"
      }
    },
    {
      "cell_type": "markdown",
      "source": [
        "#### **3.3.5 Dropout**"
      ],
      "metadata": {
        "id": "bKfN4B4KK1b0"
      }
    },
    {
      "cell_type": "markdown",
      "source": [
        "Vamos a experimentar como se comporta nuestra red con los siguientes dropout:\n",
        "[0.0, 0.01, 0.05, 0.1, 0.2, 0.5]"
      ],
      "metadata": {
        "id": "iZzl0SpAchz9"
      }
    },
    {
      "cell_type": "markdown",
      "source": [
        "### **3.4 Modelo final**"
      ],
      "metadata": {
        "id": "MyLZSToxLXDU"
      }
    },
    {
      "cell_type": "markdown",
      "source": [
        "En esta parte teneis que utilizar la función create_model con las capas, dropout y optimizador óptimos."
      ],
      "metadata": {
        "id": "gc6fiS0dYcTT"
      }
    },
    {
      "cell_type": "markdown",
      "source": [
        "### **3.5 Entrenando modelo final**"
      ],
      "metadata": {
        "id": "SA9MecGTLgk8"
      }
    },
    {
      "cell_type": "markdown",
      "source": [
        "En esta parte entrenaremos el módelo con las epochs y batch_size óptimas. Con un porcentaje 80/20 entrenamiento y validación."
      ],
      "metadata": {
        "id": "8jCMlHiAYnsV"
      }
    },
    {
      "cell_type": "markdown",
      "source": [
        "### **3.6 Predicciones**"
      ],
      "metadata": {
        "id": "85D6-XG9L8HQ"
      }
    },
    {
      "cell_type": "markdown",
      "source": [
        "Realizamos inferencia con los datos de test."
      ],
      "metadata": {
        "id": "8Q-BDXQXY4Sp"
      }
    },
    {
      "cell_type": "markdown",
      "source": [
        "### **3.7 Visualizando modelo final**"
      ],
      "metadata": {
        "id": "3FicppyBN0qE"
      }
    },
    {
      "cell_type": "markdown",
      "source": [
        "Visualizamos los resultados utilizando la gráfica del punto 2.5"
      ],
      "metadata": {
        "id": "_abJ2V95Y_k-"
      }
    },
    {
      "cell_type": "markdown",
      "source": [
        "## **4 .LSTM (Long Short-Term Memory)**"
      ],
      "metadata": {
        "id": "jb3BLADT47b_"
      }
    },
    {
      "cell_type": "markdown",
      "source": [
        "Las LSTM son un tipo especial de redes recurrentes. La característica principal de las redes recurrentes es que la información puede persistir introduciendo bucles en el diagrama de la red, por lo que, básicamente, pueden «recordar» estados previos y utilizar esta información para decidir cuál será el siguiente. Esta característica las hace muy adecuadas para manejar series cronológicas.\n",
        "\n",
        "![Redes_Neuronales.png](data:image/png;base64,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)\n",
        "\n"
      ],
      "metadata": {
        "id": "FfAF78eJK0eJ"
      }
    },
    {
      "cell_type": "markdown",
      "source": [
        "En A), Y depende únicamente de X. En B), Y depende de X y del valor anterior de Y. En C), la lógica es más compleja para mejorar el efecto de instancias anteriores de Y (y, por consiguiente, de X)."
      ],
      "metadata": {
        "id": "ovqWq20rNDO_"
      }
    },
    {
      "cell_type": "code",
      "source": [
        "# Vamos a coger del 2011 al 2021 para entrenamiento y los datos a partir de 2022 para testear\n",
        "# Para poder introducir los datos en una red neuronal hay que transformarlos, ya que solo funciona con arrays\n",
        "\n",
        "train = df[:'2020'].iloc[:,1:2]\n",
        "test = df['2021':].iloc[:,1:2]"
      ],
      "metadata": {
        "id": "txsvbt-TmiGL"
      },
      "execution_count": null,
      "outputs": []
    },
    {
      "cell_type": "code",
      "source": [
        "# Tiene que ser un vector columna\n",
        "train.shape"
      ],
      "metadata": {
        "colab": {
          "base_uri": "https://localhost:8080/"
        },
        "id": "5AhLiTdoM-AL",
        "outputId": "5e51b01d-07a3-464e-dbc4-f222b99ee63d"
      },
      "execution_count": null,
      "outputs": [
        {
          "output_type": "execute_result",
          "data": {
            "text/plain": [
              "(2558, 1)"
            ]
          },
          "metadata": {},
          "execution_count": 59
        }
      ]
    },
    {
      "cell_type": "code",
      "source": [
        "train['High'].plot(legend=True)\n",
        "test['High'].plot(legend=True)\n",
        "plt.legend(['Train (2011-2020)', 'Test (2021)'])\n",
        "plt.show()"
      ],
      "metadata": {
        "colab": {
          "base_uri": "https://localhost:8080/",
          "height": 269
        },
        "id": "514toUNP152K",
        "outputId": "7be4ca85-acb2-439f-fc7b-1cf647ab6878"
      },
      "execution_count": null,
      "outputs": [
        {
          "output_type": "display_data",
          "data": {
            "text/plain": [
              "<Figure size 432x288 with 1 Axes>"
            ],
            "image/png": "[encoded data removed]"
          },
          "metadata": {
            "needs_background": "light"
          }
        }
      ]
    },
    {
      "cell_type": "markdown",
      "source": [
        "### **4.1 Normalización**"
      ],
      "metadata": {
        "id": "O-Vsv-JARmNd"
      }
    },
    {
      "cell_type": "code",
      "source": [
        "sc = MinMaxScaler(feature_range=(0,1))\n",
        "train_scaled = sc.fit_transform(train)"
      ],
      "metadata": {
        "id": "M5i-qUbCogcf"
      },
      "execution_count": null,
      "outputs": []
    },
    {
      "cell_type": "markdown",
      "source": [
        "### **4.2 Estructura datos entrada**"
      ],
      "metadata": {
        "id": "BSudhQ2QRrgW"
      }
    },
    {
      "cell_type": "code",
      "source": [
        "# Hay que crear una estructura de datos para indicarle a la red lo que tiene que recordar \n",
        "# y poder hacer una predección en base a datos anteriores\n",
        "X_train = []\n",
        "y_train = []\n",
        "\n",
        "# Estructura de datos con 60 pasos y un valor de salida\n",
        "# 60 timesteps significa que para un día dado la red es capaz de mirar los 60 días anteriores:\n",
        "# 60 precios anteriores al día actual y en base a esa información predice el precio de la acción \n",
        "for i in range(60,len(train_scaled)):\n",
        "    # X: para cada día hacemos un bloque correspondiente al precio de los 60 días anteriores\n",
        "    X_train.append(train_scaled[i-60:i,0])\n",
        "    # Y: el precio del día\n",
        "    y_train.append(train_scaled[i,0])\n",
        "\n",
        "# Tenemos una matriz donde cada fila contiene 60 columnas correspondientes a los 60 días anteriores\n",
        "X_train, y_train = np.array(X_train), np.array(y_train)\n",
        "\n",
        "# Reshape X_train para que se ajuste al modelo en Keras\n",
        "# añadiendo una nueva dimensión \n",
        "X_train = np.reshape(X_train, (X_train.shape[0], X_train.shape[1], 1))\n",
        "X_train.shape"
      ],
      "metadata": {
        "colab": {
          "base_uri": "https://localhost:8080/"
        },
        "id": "TGIghOS9tESA",
        "outputId": "6c2bf93d-9064-41e1-b448-28eb4208a62b"
      },
      "execution_count": null,
      "outputs": [
        {
          "output_type": "execute_result",
          "data": {
            "text/plain": [
              "(2498, 60, 1)"
            ]
          },
          "metadata": {},
          "execution_count": 62
        }
      ]
    },
    {
      "cell_type": "markdown",
      "source": [
        "### **4.3 Modelo**"
      ],
      "metadata": {
        "id": "wH0qh63mRy0V"
      }
    },
    {
      "cell_type": "markdown",
      "source": [
        "Vamos a creamos un modelo secuencial al que iremos añadiendo capas, que pueden ser:\n",
        "\n",
        "*   Dense: Capa de neuronas artificiales\n",
        "*   LSTM: Capa de neuronas con capacidad de memoria\n",
        "*   Dropout: Es una técnica de regularización que elimina conexiones neuronales para evitar el sobreajuste, de esta forma se evita que el algoritmo memorice los datos en vez de aprender de ellos. \n",
        "\n",
        "Antes de crear la Red LSTM debemos reajustar los sets que acabamos de obtener, para indicar que cada ejemplo de entrenamiento a la entrada del modelo será un vector de 60x1.\n",
        "\n",
        "Para el caso de cada una de las salidas (almacenadas en y_train) debemos simplemente especificar que su tamaño será igual a 1, que corresponde al único valor predicho por la red."
      ],
      "metadata": {
        "id": "Wn5Rt4OlQJc1"
      }
    },
    {
      "cell_type": "markdown",
      "source": [
        "### **4.4 Compilación**"
      ],
      "metadata": {
        "id": "_gUwVxCsTjkT"
      }
    },
    {
      "cell_type": "markdown",
      "source": [
        "*   El optimizador se encarga de optimizar y actualizar los pesos de la red. Usaremos el algoritmo adam que es el que mejores resultados nos aporta.\n",
        "*   loss: Cuando la red hace una predicción coge el valor real y lo compará con la predicción. Para calcular el error de predicción, se utilizará el método error cuadrático medio. "
      ],
      "metadata": {
        "id": "-zoV4pHMTxS-"
      }
    },
    {
      "cell_type": "markdown",
      "source": [
        "### **4.5 Entrenamiento**"
      ],
      "metadata": {
        "id": "mfn-2ilVUbXk"
      }
    },
    {
      "cell_type": "markdown",
      "source": [
        "*   epochs: Especificamos las veces que la red propagara el error hacia atrás para aprender y hacer mejores predicciones. Es la cantidad de veces que la red realizará una predicción y propagara hacia atrás el error, para aprender de él y hacer mejores predicciones\n",
        "*   batch_size: Para este proceso de predicción, corrección y propagación hacia atrás, no lo haremos con un solo bloque de datos, si no de 32. Si no el entrenamiento sería demasiado pesado para la red, el tener que actualizar los pesos a cada dato. Vamos actualizando los pesos con bloques de datos."
      ],
      "metadata": {
        "id": "qMEtyd0wUoeT"
      }
    },
    {
      "cell_type": "markdown",
      "source": [
        "### **4.6 Predicciones**"
      ],
      "metadata": {
        "id": "UQJu_tqJVNAr"
      }
    },
    {
      "cell_type": "markdown",
      "source": [
        "Hay que preparar los datos como en el caso de train, esto es, hacemos bloques de 60 días para predecir el valor de la acción en el siguiente día."
      ],
      "metadata": {
        "id": "n0seoAN-jQVe"
      }
    },
    {
      "cell_type": "code",
      "source": [
        "test_scaled = sc.fit_transform(test)\n",
        "\n",
        "X_test = []\n",
        "for i in range(60,len(test_scaled)):\n",
        "    X_test.append(test_scaled[i-60:i,0])\n",
        "\n",
        "X_test = np.array(X_test)\n",
        "X_test = np.reshape(X_test, (X_test.shape[0],X_test.shape[1],1))\n",
        "\n",
        "# Realizamos la prediccion y aplicamos normalización inversa para que esté en escala real\n",
        "prediccion = modelo.predict(X_test)\n",
        "prediccion = sc.inverse_transform(prediccion)\n",
        "\n",
        "prediccion"
      ],
      "metadata": {
        "colab": {
          "base_uri": "https://localhost:8080/"
        },
        "id": "dOlzxHF7PMqf",
        "outputId": "0f55395d-f604-4bab-b007-439286cc8185"
      },
      "execution_count": null,
      "outputs": [
        {
          "output_type": "stream",
          "name": "stdout",
          "text": [
            "8/8 [==============================] - 2s 38ms/step\n"
          ]
        },
        {
          "output_type": "execute_result",
          "data": {
            "text/plain": [
              "array([[100.7755  ],\n",
              "       [100.407005],\n",
              "       [100.88563 ],\n",
              "       [100.61131 ],\n",
              "       [100.897675],\n",
              "       [100.77895 ],\n",
              "       [100.04833 ],\n",
              "       [ 99.046616],\n",
              "       [ 98.6497  ],\n",
              "       [ 96.30422 ],\n",
              "       [ 95.886406],\n",
              "       [ 96.03753 ],\n",
              "       [ 97.36973 ],\n",
              "       [ 97.58068 ],\n",
              "       [ 96.88096 ],\n",
              "       [ 95.454346],\n",
              "       [ 96.003456],\n",
              "       [ 96.50761 ],\n",
              "       [ 98.11439 ],\n",
              "       [ 96.89009 ],\n",
              "       [ 95.936615],\n",
              "       [ 94.572716],\n",
              "       [ 99.63315 ],\n",
              "       [101.687225],\n",
              "       [ 99.07344 ],\n",
              "       [ 94.75329 ],\n",
              "       [ 91.43988 ],\n",
              "       [ 88.920074],\n",
              "       [ 87.41653 ],\n",
              "       [ 87.095535],\n",
              "       [ 85.91666 ],\n",
              "       [ 85.49989 ],\n",
              "       [ 84.751656],\n",
              "       [ 84.90993 ],\n",
              "       [ 85.57863 ],\n",
              "       [ 86.13054 ],\n",
              "       [ 85.75417 ],\n",
              "       [ 85.54014 ],\n",
              "       [ 85.11436 ],\n",
              "       [ 83.755615],\n",
              "       [ 82.5969  ],\n",
              "       [ 82.22797 ],\n",
              "       [ 81.20993 ],\n",
              "       [ 79.23838 ],\n",
              "       [ 78.24793 ],\n",
              "       [ 78.0731  ],\n",
              "       [ 76.72194 ],\n",
              "       [ 76.39036 ],\n",
              "       [ 76.45843 ],\n",
              "       [ 76.900314],\n",
              "       [ 76.05837 ],\n",
              "       [ 76.121475],\n",
              "       [ 77.101234],\n",
              "       [ 78.348305],\n",
              "       [ 79.182335],\n",
              "       [ 79.83386 ],\n",
              "       [ 79.674515],\n",
              "       [ 78.43679 ],\n",
              "       [ 78.155525],\n",
              "       [ 77.93966 ],\n",
              "       [ 76.46152 ],\n",
              "       [ 75.90851 ],\n",
              "       [ 77.15182 ],\n",
              "       [ 79.484505],\n",
              "       [ 81.00809 ],\n",
              "       [ 82.50541 ],\n",
              "       [ 82.98592 ],\n",
              "       [ 80.4206  ],\n",
              "       [ 79.159805],\n",
              "       [ 78.09742 ],\n",
              "       [ 78.498665],\n",
              "       [ 78.97949 ],\n",
              "       [ 79.71714 ],\n",
              "       [ 80.64192 ],\n",
              "       [ 81.15313 ],\n",
              "       [ 81.230835],\n",
              "       [ 79.45415 ],\n",
              "       [ 77.24344 ],\n",
              "       [ 76.24515 ],\n",
              "       [ 76.90925 ],\n",
              "       [ 77.42021 ],\n",
              "       [ 77.690544],\n",
              "       [ 78.42369 ],\n",
              "       [ 79.89123 ],\n",
              "       [ 79.89707 ],\n",
              "       [ 77.82978 ],\n",
              "       [ 78.07288 ],\n",
              "       [ 79.3924  ],\n",
              "       [ 78.22497 ],\n",
              "       [ 76.36417 ],\n",
              "       [ 75.984985],\n",
              "       [ 75.59267 ],\n",
              "       [ 74.35789 ],\n",
              "       [ 72.10071 ],\n",
              "       [ 71.42036 ],\n",
              "       [ 71.78587 ],\n",
              "       [ 71.49533 ],\n",
              "       [ 71.05956 ],\n",
              "       [ 70.91938 ],\n",
              "       [ 71.081276],\n",
              "       [ 72.0685  ],\n",
              "       [ 73.74548 ],\n",
              "       [ 74.149185],\n",
              "       [ 74.19014 ],\n",
              "       [ 74.91169 ],\n",
              "       [ 77.112335],\n",
              "       [ 77.534195],\n",
              "       [ 76.02922 ],\n",
              "       [ 74.55505 ],\n",
              "       [ 73.82878 ],\n",
              "       [ 73.92176 ],\n",
              "       [ 76.391266],\n",
              "       [ 79.52462 ],\n",
              "       [ 82.09467 ],\n",
              "       [ 83.70713 ],\n",
              "       [ 83.734314],\n",
              "       [ 83.35264 ],\n",
              "       [ 82.6138  ],\n",
              "       [ 82.206696],\n",
              "       [ 81.826416],\n",
              "       [ 83.324066],\n",
              "       [ 84.682785],\n",
              "       [ 82.9928  ],\n",
              "       [ 81.31864 ],\n",
              "       [ 80.3093  ],\n",
              "       [ 80.01235 ],\n",
              "       [ 81.56643 ],\n",
              "       [ 82.16332 ],\n",
              "       [ 82.79918 ],\n",
              "       [ 81.89484 ],\n",
              "       [ 80.45373 ],\n",
              "       [ 77.65476 ],\n",
              "       [ 76.99678 ],\n",
              "       [ 75.919334],\n",
              "       [ 74.477264],\n",
              "       [ 72.97313 ],\n",
              "       [ 71.92569 ],\n",
              "       [ 72.160515],\n",
              "       [ 72.56889 ],\n",
              "       [ 72.2476  ],\n",
              "       [ 72.18952 ],\n",
              "       [ 71.948586],\n",
              "       [ 71.608604],\n",
              "       [ 71.734566],\n",
              "       [ 71.76962 ],\n",
              "       [ 72.01564 ],\n",
              "       [ 72.17196 ],\n",
              "       [ 72.21068 ],\n",
              "       [ 72.42626 ],\n",
              "       [ 71.952225],\n",
              "       [ 71.40043 ],\n",
              "       [ 70.83869 ],\n",
              "       [ 70.6211  ],\n",
              "       [ 71.27043 ],\n",
              "       [ 69.68727 ],\n",
              "       [ 66.1081  ],\n",
              "       [ 63.676517],\n",
              "       [ 62.858643],\n",
              "       [ 62.730362],\n",
              "       [ 62.598236],\n",
              "       [ 62.516075],\n",
              "       [ 62.5073  ],\n",
              "       [ 62.97389 ],\n",
              "       [ 63.22339 ],\n",
              "       [ 63.19518 ],\n",
              "       [ 62.98805 ],\n",
              "       [ 62.21021 ],\n",
              "       [ 61.715847],\n",
              "       [ 60.922455],\n",
              "       [ 60.180077],\n",
              "       [ 59.003452],\n",
              "       [ 57.7708  ],\n",
              "       [ 57.6315  ],\n",
              "       [ 58.59916 ],\n",
              "       [ 59.058186],\n",
              "       [ 58.897457],\n",
              "       [ 58.190296],\n",
              "       [ 57.298584],\n",
              "       [ 56.21179 ],\n",
              "       [ 54.76948 ],\n",
              "       [ 54.405453],\n",
              "       [ 55.051823],\n",
              "       [ 55.443   ],\n",
              "       [ 54.948853],\n",
              "       [ 54.11796 ],\n",
              "       [ 53.728203],\n",
              "       [ 53.618576],\n",
              "       [ 54.1334  ],\n",
              "       [ 54.648014],\n",
              "       [ 54.710003],\n",
              "       [ 54.95581 ],\n",
              "       [ 56.190002],\n",
              "       [ 56.80306 ],\n",
              "       [ 57.337505],\n",
              "       [ 57.285164],\n",
              "       [ 56.676815],\n",
              "       [ 56.499187],\n",
              "       [ 56.820484],\n",
              "       [ 56.661182],\n",
              "       [ 55.605377],\n",
              "       [ 54.525883],\n",
              "       [ 54.058758],\n",
              "       [ 54.092197],\n",
              "       [ 59.74658 ],\n",
              "       [ 64.475235],\n",
              "       [ 62.757236],\n",
              "       [ 59.195087],\n",
              "       [ 56.767376],\n",
              "       [ 55.819283],\n",
              "       [ 56.04471 ],\n",
              "       [ 57.36549 ],\n",
              "       [ 57.793102],\n",
              "       [ 57.021626],\n",
              "       [ 55.676018],\n",
              "       [ 55.09166 ],\n",
              "       [ 55.491093],\n",
              "       [ 55.833   ],\n",
              "       [ 55.89351 ],\n",
              "       [ 56.066036],\n",
              "       [ 56.822655],\n",
              "       [ 56.713333],\n",
              "       [ 55.9597  ],\n",
              "       [ 55.43646 ],\n",
              "       [ 55.27328 ],\n",
              "       [ 55.24847 ],\n",
              "       [ 55.49905 ],\n",
              "       [ 55.285053],\n",
              "       [ 54.423283],\n",
              "       [ 54.01077 ],\n",
              "       [ 54.2466  ],\n",
              "       [ 54.887615],\n",
              "       [ 55.00829 ],\n",
              "       [ 54.901627],\n",
              "       [ 53.88701 ],\n",
              "       [ 52.867966],\n",
              "       [ 51.491043],\n",
              "       [ 50.925346],\n",
              "       [ 52.478054],\n",
              "       [ 56.710762],\n",
              "       [ 60.69411 ],\n",
              "       [ 63.057358],\n",
              "       [ 61.361874],\n",
              "       [ 58.40152 ]], dtype=float32)"
            ]
          },
          "metadata": {},
          "execution_count": 66
        }
      ]
    },
    {
      "cell_type": "markdown",
      "source": [
        "### **4.7 Visualización del resultado**"
      ],
      "metadata": {
        "id": "VXteqpJ1j5Y1"
      }
    },
    {
      "cell_type": "markdown",
      "source": [
        "## **Conclusiones de la prácticas**"
      ],
      "metadata": {
        "id": "xhoI8ijhtKHQ"
      }
    },
    {
      "cell_type": "markdown",
      "source": [
        "En esta práctica hemos podido experimentar con una herramienta como KerasRegressor, nos permite automatizar la elección de hiperparámetros de un modelo. Por otro lado, hemos podido ver lo bien que se comportan las Redes Neuronales Recurrentes en series temporales, sin optimizar la red hemos obtenido mejores resultado que una red neuronal sólo con capas Dense. Esto es debido a que tienen una memoria interna donde se almacena un hidden state, en esta práctica hemos utilizado un tipo que se denomina LSTM, estas tienen un nuevo estado que se denomina Cell state, que ayuda a que no ocurran estos dos grandes problemas de este tipo de neuronas:\n",
        "*  Vanishing gradients: los gradientes “se desvanecen” y van a 0.\n",
        "*  Exploding gradients: los gradientes “explotan” y se hacen muy grandes.\n"
      ],
      "metadata": {
        "id": "goMh9uzmtOTK"
      }
    }
  ]
}