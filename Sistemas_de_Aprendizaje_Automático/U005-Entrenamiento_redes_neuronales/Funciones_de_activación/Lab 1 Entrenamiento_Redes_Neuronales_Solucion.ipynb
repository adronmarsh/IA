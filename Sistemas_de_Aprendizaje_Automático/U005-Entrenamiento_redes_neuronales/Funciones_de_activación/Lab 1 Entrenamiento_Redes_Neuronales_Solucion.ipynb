{
  "nbformat": 4,
  "nbformat_minor": 0,
  "metadata": {
    "colab": {
      "provenance": []
    },
    "kernelspec": {
      "display_name": "Python 3",
      "language": "python",
      "name": "python3"
    }
  },
  "cells": [
    {
      "cell_type": "markdown",
      "metadata": {
        "id": "iiDzBoKGwmMZ"
      },
      "source": [
        "Entrenamiento redes neuronales con Keras\n",
        "\n",
        "En esta primera parte, vamos a utilizar una red neuronal para clasificar imágenes de prendas de ropa. Para ello, utilizaremos Keras con TensorFlow.\n",
        "\n",
        "El dataset a utilizar es Fashion MNIST, un problema sencillo con imágenes pequeñas de ropa, pero más interesante que el dataset de MNIST. Puedes consultar más información sobre el dataset en [este enlace](https://github.com/zalandoresearch/fashion-mnist).\n",
        "\n",
        "El código utilizado para contestar tiene que quedar claramente reflejado en el Notebook. Puedes crear nuevas cells si así lo deseas para estructurar tu código y sus salidas. A la hora de entregar el notebook, **asegúrate de que los resultados de ejecutar tu código han quedado guardados** (por ejemplo, a la hora de entrenar una red neuronal tiene que verse claramente un log de los resultados de cada epoch)."
      ]
    },
    {
      "cell_type": "code",
      "metadata": {
        "id": "gSHr268SwmMa"
      },
      "source": [
        "import keras\n",
        "from keras.datasets import fashion_mnist\n",
        "from keras.models import Sequential\n",
        "from keras.layers import Dense, Dropout, Flatten\n",
        "\n",
        "from keras.optimizers import RMSprop, SGD\n",
        "import tensorflow as tf\n",
        "\n",
        "import matplotlib.pyplot as plt\n",
        "\n",
        "import numpy as np\n"
      ],
      "execution_count": 1,
      "outputs": []
    },
    {
      "cell_type": "markdown",
      "metadata": {
        "id": "PhYq8-CvwmMc"
      },
      "source": [
        "Primero, vamos a obtener los datos. Por suerte para nosotros, estos pueden ser descargados directamente desde Keras, por lo que no tendremos que preocuparnos de tratar con ficheros."
      ]
    },
    {
      "cell_type": "code",
      "metadata": {
        "id": "0mjrFULOwmMd",
        "colab": {
          "base_uri": "https://localhost:8080/"
        },
        "outputId": "a1f11807-c68f-4356-f4bd-ebb7e630b7f1"
      },
      "source": [
        "(x_train, y_train), (x_test, y_test) = fashion_mnist.load_data()"
      ],
      "execution_count": 2,
      "outputs": [
        {
          "output_type": "stream",
          "name": "stdout",
          "text": [
            "Downloading data from https://storage.googleapis.com/tensorflow/tf-keras-datasets/train-labels-idx1-ubyte.gz\n",
            "29515/29515 [==============================] - 0s 0us/step\n",
            "Downloading data from https://storage.googleapis.com/tensorflow/tf-keras-datasets/train-images-idx3-ubyte.gz\n",
            "26421880/26421880 [==============================] - 2s 0us/step\n",
            "Downloading data from https://storage.googleapis.com/tensorflow/tf-keras-datasets/t10k-labels-idx1-ubyte.gz\n",
            "5148/5148 [==============================] - 0s 0us/step\n",
            "Downloading data from https://storage.googleapis.com/tensorflow/tf-keras-datasets/t10k-images-idx3-ubyte.gz\n",
            "4422102/4422102 [==============================] - 0s 0us/step\n"
          ]
        }
      ]
    },
    {
      "cell_type": "markdown",
      "metadata": {
        "id": "AOVoeoj0wmMe"
      },
      "source": [
        "Acto seguido, normalizamos esos datos de manera similar a como hemos visto con MNIST, obteniendo valores entre 0 y 1. Este paso es muy importante para el correcto funcionamiento de nuestra red."
      ]
    },
    {
      "cell_type": "code",
      "metadata": {
        "id": "5EgKN2YWwmMf"
      },
      "source": [
        "x_train = x_train / 255.0\n",
        "x_test = x_test / 255.0"
      ],
      "execution_count": 3,
      "outputs": []
    },
    {
      "cell_type": "markdown",
      "metadata": {
        "id": "BaqXlSMBwmMg"
      },
      "source": [
        "## 1. Información sobre el dataset"
      ]
    },
    {
      "cell_type": "markdown",
      "metadata": {
        "id": "e0aer8ZZwmMh"
      },
      "source": [
        "Una vez tenemos los datos cargados en memoria, vamos a obtener información sobre los mismos."
      ]
    },
    {
      "cell_type": "markdown",
      "metadata": {
        "id": "E-im9PnEwmMh"
      },
      "source": [
        "**Pregunta 1.1 ** ¿Cuántas imágenes hay de *training* y de *test*? ¿Qué tamaño tienen las imágenes?"
      ]
    },
    {
      "cell_type": "code",
      "metadata": {
        "id": "lvP0Y4SCwmMi",
        "outputId": "6dce4bb5-f247-4f42-b904-a95f84741f0f",
        "colab": {
          "base_uri": "https://localhost:8080/"
        }
      },
      "source": [
        "\n",
        "print(\"Las imagenes de training son: \" + str(len(x_train)))\n",
        "print(\"Las imagenes de test son: \" + str(len(x_test)))\n",
        "print('Dimensiones x_train: ', np.shape(x_train))\n",
        "print('Tamaño dimensión 1 x_train: ', np.size(x_train, 1))\n",
        "print('Tamaño dimensión 2 x_train: ', np.size(x_train, 2))\n"
      ],
      "execution_count": 4,
      "outputs": [
        {
          "output_type": "stream",
          "name": "stdout",
          "text": [
            "Las imagenes de training son: 60000\n",
            "Las imagenes de test son: 10000\n",
            "Dimensiones x_train:  (60000, 28, 28)\n",
            "Tamaño dimensión 1 x_train:  28\n",
            "Tamaño dimensión 2 x_train:  28\n"
          ]
        }
      ]
    },
    {
      "cell_type": "markdown",
      "metadata": {
        "id": "90AjAOx5O5XX"
      },
      "source": [
        " \n",
        " * Hay 60000 imagenes de training.\n",
        " * Hay 10000 imagenes de entrenamiento.\n",
        " * Cada imagen  esta formada por pixeles de 28x28.\n"
      ]
    },
    {
      "cell_type": "markdown",
      "metadata": {
        "id": "F2LsvfHOwmMk"
      },
      "source": [
        "**Pregunta 1.2 ** Realizar una exploración de las variables que contienen los datos. Describir en qué consiste un example del dataset (qué información se guarda en cada imagen) y describir qué contiene la información en y."
      ]
    },
    {
      "cell_type": "code",
      "metadata": {
        "id": "3W5rzaGxwmMk",
        "outputId": "3919b50b-f592-4296-9637-5dee10747eab",
        "colab": {
          "base_uri": "https://localhost:8080/"
        }
      },
      "source": [
        "print('Dimensiones y_train: ', np.shape(y_train))\n",
        "print('Elementos de y_train: ', np.unique(y_train))\n",
        "y_train[0]\n"
      ],
      "execution_count": 5,
      "outputs": [
        {
          "output_type": "stream",
          "name": "stdout",
          "text": [
            "Dimensiones y_train:  (60000,)\n",
            "Elementos de y_train:  [0 1 2 3 4 5 6 7 8 9]\n"
          ]
        },
        {
          "output_type": "execute_result",
          "data": {
            "text/plain": [
              "9"
            ]
          },
          "metadata": {},
          "execution_count": 5
        }
      ]
    },
    {
      "cell_type": "markdown",
      "metadata": {
        "id": "zaEWKFyvwmMm"
      },
      "source": [
        " * Cada imagen del conjunto de entranamiento esta formada por pixeles de 28x28. Con valores de pixel que varian de 0 a 255. Como hemos normalizado a principio de la práctica ahora varia de 0 a 1.\n",
        " * La y es un vector de enteros, que van del 0 al 9. Estos corresponden a la class de ropa que la imagen representa.\n"
      ]
    },
    {
      "cell_type": "markdown",
      "metadata": {
        "id": "HPNa3nH0wmMn"
      },
      "source": [
        "[texto del enlace](https://)Vamos a **visualizar** una imagen de ejemplo. Prueba tu mismo a cambiar la imagen en uso para explorar el dataset visualmente ejecutando el siguiente código:"
      ]
    },
    {
      "cell_type": "code",
      "metadata": {
        "id": "WlQx9uk3wmMn"
      },
      "source": [
        "def visualize_example(x):\n",
        "    plt.figure()\n",
        "    plt.imshow(x)\n",
        "    plt.colorbar()\n",
        "    plt.grid(False)\n",
        "    plt.show()"
      ],
      "execution_count": 6,
      "outputs": []
    },
    {
      "cell_type": "code",
      "metadata": {
        "id": "YTHt4fd2wmMp",
        "outputId": "4c131547-53e2-42dd-c908-4182a116d4aa",
        "colab": {
          "base_uri": "https://localhost:8080/",
          "height": 269
        }
      },
      "source": [
        "visualize_example(x_train[11])"
      ],
      "execution_count": 7,
      "outputs": [
        {
          "output_type": "display_data",
          "data": {
            "text/plain": [
              "<Figure size 432x288 with 2 Axes>"
            ],
            "image/png": "[encoded data removed]"
          },
          "metadata": {
            "needs_background": "light"
          }
        }
      ]
    },
    {
      "cell_type": "markdown",
      "metadata": {
        "id": "USVefNOIwmMt"
      },
      "source": [
        "## 2. Entrenamiento de una red neuronal simple"
      ]
    },
    {
      "cell_type": "markdown",
      "metadata": {
        "id": "sSWjUeOdwmMt"
      },
      "source": [
        "**Pregunta 2 **. Utilizando Keras, y preparando los datos de X e y como fuera necesario, define y entrena una red neuronal que sea capaz de clasificar imágenes de Fashion MNIST con las siguientes características:\n",
        "\n",
        "* Dos hidden layers de tamaños 128 y 64, utilizando unidades **sigmoid**\n",
        "* Optimizador **sgd**.\n",
        "* Durante el entrenamiento, la red tiene que mostrar resultados de **loss** y **accuracy** por cada epoch.\n",
        "* La red debe entrenar durante **20 epochs** y batch size de **64**.\n",
        "* La última capa debe de ser una capa **softmax**.\n",
        "\n",
        "Tu red tendría que ser capaz de superar fácilmente 60% de accuracy."
      ]
    },
    {
      "cell_type": "code",
      "metadata": {
        "id": "QVTsBpSHcg-A",
        "outputId": "dafd0d19-555e-4411-b383-63d946e04b68",
        "colab": {
          "base_uri": "https://localhost:8080/"
        }
      },
      "source": [
        "y_train"
      ],
      "execution_count": 8,
      "outputs": [
        {
          "output_type": "execute_result",
          "data": {
            "text/plain": [
              "array([9, 0, 0, ..., 3, 0, 5], dtype=uint8)"
            ]
          },
          "metadata": {},
          "execution_count": 8
        }
      ]
    },
    {
      "cell_type": "code",
      "metadata": {
        "id": "cCh7qRMTwmMt"
      },
      "source": [
        "#Tenemos 10 clases que varian de 0 a 9 como hemos visto en los puntos anteriores.\n",
        "num_clases=10\n",
        "\n",
        "#Transformamos el formato de las imagenes de un vector bi-dimensional (de 28 por 28 pixeles) a un vector unidimensional (de 28*28 pixeles = 784 pixeles)\n",
        "x_train = x_train.reshape(60000, 784)\n",
        "x_test = x_test.reshape(10000, 784)\n",
        "\n",
        "\n",
        "\n",
        "#Transformamos el vector de la variable y es categorico.\n",
        "y_train = keras.utils.to_categorical(y_train, num_clases)\n",
        "y_test = keras.utils.to_categorical(y_test, num_clases)\n",
        "\n",
        "\n",
        "\n",
        "\n"
      ],
      "execution_count": 9,
      "outputs": []
    },
    {
      "cell_type": "code",
      "metadata": {
        "id": "wk8G7A7gcd66",
        "outputId": "345e7a6c-cc3a-40ae-e01c-17d0cac61f8f",
        "colab": {
          "base_uri": "https://localhost:8080/"
        }
      },
      "source": [
        "model = Sequential()\n",
        "model.add(Dense(128,activation='sigmoid', input_shape=(784,)))\n",
        "model.add(Dense(64,activation='sigmoid'))\n",
        "model.add(Dense(num_clases,activation='softmax'))\n",
        "model.summary()"
      ],
      "execution_count": 10,
      "outputs": [
        {
          "output_type": "stream",
          "name": "stdout",
          "text": [
            "Model: \"sequential\"\n",
            "_________________________________________________________________\n",
            " Layer (type)                Output Shape              Param #   \n",
            "=================================================================\n",
            " dense (Dense)               (None, 128)               100480    \n",
            "                                                                 \n",
            " dense_1 (Dense)             (None, 64)                8256      \n",
            "                                                                 \n",
            " dense_2 (Dense)             (None, 10)                650       \n",
            "                                                                 \n",
            "=================================================================\n",
            "Total params: 109,386\n",
            "Trainable params: 109,386\n",
            "Non-trainable params: 0\n",
            "_________________________________________________________________\n"
          ]
        }
      ]
    },
    {
      "cell_type": "code",
      "metadata": {
        "id": "CwIDAxcVgseJ"
      },
      "source": [
        "model.compile(loss='categorical_crossentropy',\n",
        "              optimizer=SGD(),\n",
        "             \n",
        "              metrics=['accuracy'])"
      ],
      "execution_count": 11,
      "outputs": []
    },
    {
      "cell_type": "code",
      "metadata": {
        "id": "4PZMWZzdiL-6",
        "outputId": "fa65b5c0-3889-466c-9407-fdbbdb67d6e5",
        "colab": {
          "base_uri": "https://localhost:8080/"
        }
      },
      "source": [
        "batch_size= 64\n",
        "epochs = 20\n",
        "history = model.fit(x_train, y_train,\n",
        "                    batch_size = batch_size,\n",
        "                    epochs = epochs,\n",
        "                    verbose=1,\n",
        "                    validation_data=(x_test, y_test))\n",
        "score = model.evaluate(x_test, y_test, verbose=0)\n"
      ],
      "execution_count": 12,
      "outputs": [
        {
          "output_type": "stream",
          "name": "stdout",
          "text": [
            "Epoch 1/20\n",
            "938/938 [==============================] - 20s 19ms/step - loss: 2.1809 - accuracy: 0.3876 - val_loss: 2.0098 - val_accuracy: 0.5374\n",
            "Epoch 2/20\n",
            "938/938 [==============================] - 6s 6ms/step - loss: 1.7935 - accuracy: 0.5429 - val_loss: 1.5892 - val_accuracy: 0.5617\n",
            "Epoch 3/20\n",
            "938/938 [==============================] - 6s 6ms/step - loss: 1.4311 - accuracy: 0.6116 - val_loss: 1.2999 - val_accuracy: 0.6166\n",
            "Epoch 4/20\n",
            "938/938 [==============================] - 7s 7ms/step - loss: 1.1982 - accuracy: 0.6539 - val_loss: 1.1188 - val_accuracy: 0.6596\n",
            "Epoch 5/20\n",
            "938/938 [==============================] - 6s 6ms/step - loss: 1.0482 - accuracy: 0.6823 - val_loss: 0.9970 - val_accuracy: 0.6854\n",
            "Epoch 6/20\n",
            "938/938 [==============================] - 6s 7ms/step - loss: 0.9432 - accuracy: 0.7035 - val_loss: 0.9092 - val_accuracy: 0.7039\n",
            "Epoch 7/20\n",
            "938/938 [==============================] - 5s 5ms/step - loss: 0.8653 - accuracy: 0.7183 - val_loss: 0.8437 - val_accuracy: 0.7134\n",
            "Epoch 8/20\n",
            "938/938 [==============================] - 6s 6ms/step - loss: 0.8062 - accuracy: 0.7284 - val_loss: 0.7931 - val_accuracy: 0.7266\n",
            "Epoch 9/20\n",
            "938/938 [==============================] - 5s 5ms/step - loss: 0.7610 - accuracy: 0.7382 - val_loss: 0.7546 - val_accuracy: 0.7345\n",
            "Epoch 10/20\n",
            "938/938 [==============================] - 6s 6ms/step - loss: 0.7254 - accuracy: 0.7457 - val_loss: 0.7234 - val_accuracy: 0.7400\n",
            "Epoch 11/20\n",
            "938/938 [==============================] - 6s 6ms/step - loss: 0.6969 - accuracy: 0.7528 - val_loss: 0.7001 - val_accuracy: 0.7486\n",
            "Epoch 12/20\n",
            "938/938 [==============================] - 6s 6ms/step - loss: 0.6733 - accuracy: 0.7593 - val_loss: 0.6783 - val_accuracy: 0.7547\n",
            "Epoch 13/20\n",
            "938/938 [==============================] - 7s 7ms/step - loss: 0.6534 - accuracy: 0.7649 - val_loss: 0.6618 - val_accuracy: 0.7549\n",
            "Epoch 14/20\n",
            "938/938 [==============================] - 6s 6ms/step - loss: 0.6363 - accuracy: 0.7706 - val_loss: 0.6455 - val_accuracy: 0.7650\n",
            "Epoch 15/20\n",
            "938/938 [==============================] - 5s 5ms/step - loss: 0.6210 - accuracy: 0.7758 - val_loss: 0.6326 - val_accuracy: 0.7683\n",
            "Epoch 16/20\n",
            "938/938 [==============================] - 5s 6ms/step - loss: 0.6076 - accuracy: 0.7803 - val_loss: 0.6200 - val_accuracy: 0.7761\n",
            "Epoch 17/20\n",
            "938/938 [==============================] - 6s 6ms/step - loss: 0.5953 - accuracy: 0.7853 - val_loss: 0.6094 - val_accuracy: 0.7799\n",
            "Epoch 18/20\n",
            "938/938 [==============================] - 7s 7ms/step - loss: 0.5840 - accuracy: 0.7898 - val_loss: 0.5997 - val_accuracy: 0.7826\n",
            "Epoch 19/20\n",
            "938/938 [==============================] - 5s 6ms/step - loss: 0.5738 - accuracy: 0.7933 - val_loss: 0.5897 - val_accuracy: 0.7873\n",
            "Epoch 20/20\n",
            "938/938 [==============================] - 7s 7ms/step - loss: 0.5642 - accuracy: 0.7969 - val_loss: 0.5820 - val_accuracy: 0.7871\n"
          ]
        }
      ]
    },
    {
      "cell_type": "markdown",
      "metadata": {
        "id": "CZux6TmvwmMv"
      },
      "source": [
        "## 3. Evaluación del modelo en datos de test"
      ]
    },
    {
      "cell_type": "markdown",
      "metadata": {
        "id": "0SzHBkzrwmMw"
      },
      "source": [
        "Una vez hemos entrenado nuestro modelo, vamos a evaluarlo en los datos de test de Fashion MNIST.\n",
        "\n",
        "**Pregunta 3.1 **. Utilizando el modelo recién entrenado, obtener la accuracy resultante en el dataset de test."
      ]
    },
    {
      "cell_type": "code",
      "metadata": {
        "id": "9CSLZkW1wmMw",
        "outputId": "9aff1951-c63a-4a88-b89e-74906ba9602b",
        "colab": {
          "base_uri": "https://localhost:8080/"
        }
      },
      "source": [
        "evaluation = model.evaluate(x=x_test, y=y_test, batch_size=32, verbose=1)  \n",
        "evaluation"
      ],
      "execution_count": 13,
      "outputs": [
        {
          "output_type": "stream",
          "name": "stdout",
          "text": [
            "313/313 [==============================] - 1s 3ms/step - loss: 0.5820 - accuracy: 0.7871\n"
          ]
        },
        {
          "output_type": "execute_result",
          "data": {
            "text/plain": [
              "[0.5820273160934448, 0.7871000170707703]"
            ]
          },
          "metadata": {},
          "execution_count": 13
        }
      ]
    },
    {
      "cell_type": "markdown",
      "metadata": {
        "id": "ud0JCcZpwmMx"
      },
      "source": [
        "**Pregunta 3.2 **. Utilizando el método **predict** de Keras, realizar predicciones para los datos de test. Por cada predicción resultante, ¿qué significan los números que obtenemos al hacer predict? ¿Cómo podemos obtener el valor de la clase resultante? (recordar que estamos utilizando una capa softmax para clasificar)."
      ]
    },
    {
      "cell_type": "code",
      "metadata": {
        "id": "0wrXVJJ9wmMy",
        "outputId": "f1925f79-c8ad-44a2-9d47-f81b3343c4b6",
        "colab": {
          "base_uri": "https://localhost:8080/"
        }
      },
      "source": [
        "#Ejemplo imagen 0\n",
        "predictions = model.predict(x_test)\n",
        "#Imprimimos las probabilidades de que pertenezca a cada clase.\n",
        "print(predictions[0])\n",
        "#Obtenemos el valor mayor para saber la clase resultante.\n",
        "print(np.argmax(predictions[0]))\n",
        "\n",
        "\n"
      ],
      "execution_count": 14,
      "outputs": [
        {
          "output_type": "stream",
          "name": "stdout",
          "text": [
            "313/313 [==============================] - 1s 3ms/step\n",
            "[4.0831823e-05 2.9106006e-05 3.7726457e-04 4.2516703e-04 1.2588150e-04\n",
            " 2.0985165e-01 1.8616822e-04 2.2510168e-01 1.4942086e-02 5.4892015e-01]\n",
            "9\n"
          ]
        }
      ]
    },
    {
      "cell_type": "markdown",
      "metadata": {
        "id": "fZynBpMBwmM2"
      },
      "source": [
        "Al ser la última capa de tipo softmax, el resultado es la probabilidad que la imagen que se esta tratando pertenezca a una clase especifica. La clase resultante se calcula obteniendo el valor máximo. En nuestro ejemplo el clase 9."
      ]
    }
  ]
}