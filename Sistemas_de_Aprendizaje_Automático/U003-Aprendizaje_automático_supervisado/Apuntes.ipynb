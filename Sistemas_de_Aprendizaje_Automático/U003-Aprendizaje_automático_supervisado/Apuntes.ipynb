{
 "cells": [
  {
   "cell_type": "markdown",
   "metadata": {},
   "source": [
    "1. **Regresión Lineal:**\n",
    "   - **Tipo de problema:** Utilizado para problemas de regresión, donde la variable de salida es continua.\n",
    "   - **Función de salida:** Produce una salida continua, que puede ser cualquier valor real.\n",
    "   - **Aplicaciones comunes:** Predicción de precios, estimación de cantidades, etc.\n",
    "   - **Ecuación representativa:** \\(y = mx + b\\), donde \\(y\\) es la variable de salida, \\(x\\) es la variable de entrada, \\(m\\) es la pendiente y \\(b\\) es la intersección en el eje y.\n",
    "\n",
    "2. **Regresión Logística:**\n",
    "   - **Tipo de problema:** Utilizado para problemas de clasificación binaria, donde la variable de salida es categórica con dos clases.\n",
    "   - **Función de salida:** Produce una salida que representa la probabilidad de pertenecer a una clase (generalmente entre 0 y 1).\n",
    "   - **Aplicaciones comunes:** Diagnóstico médico, spam vs. no spam, etc.\n",
    "   - **Ecuación representativa:** Utiliza la función logística \\( \\sigma(z) = \\frac{1}{1 + e^{-z}} \\), donde \\(z\\) es una combinación lineal de las variables de entrada.\n",
    "\n",
    "3. **Máquinas de Vectores de Soporte (SVM):**\n",
    "   - **Tipo de problema:** Utilizado tanto para problemas de regresión como de clasificación.\n",
    "   - **Función de salida:** En problemas de regresión, busca encontrar la función que mejor se ajusta a los datos, minimizando la diferencia entre las predicciones y los valores reales.\n",
    "   - **Aplicaciones comunes:** Reconocimiento de escritura a mano, clasificación de imágenes, etc.\n",
    "   - **Ecuación representativa:** En problemas de regresión, utiliza una función de pérdida que penaliza las desviaciones de las predicciones reales.\n",
    "\n",
    "Tabla de diferencias:\n",
    "\n",
    "| Característica                | Regresión Lineal         | Regresión Logística           | SVM                             |\n",
    "|:-----------------------------:|:------------------------:|:-----------------------------:|:-------------------------------:|\n",
    "| Tipo de problema              | Regresión                | Clasificación binaria         | Regresión y clasificación       |\n",
    "| Función de salida             | Continua                 | Probabilidad (entre 0 y 1)    | Dependiente del problema        |\n",
    "| Aplicaciones comunes          | Predicción de precios, estimación de cantidades   | Diagnóstico médico, spam vs no spam, etc.| Reconocimiento de escritura a mano, clasificación de imágenes   |\n",
    "| Ecuación representativa       | \\(y = mx + b\\)           | Función logística             | Dependiente del problema        |\n"
   ]
  }
 ],
 "metadata": {
  "language_info": {
   "name": "python"
  }
 },
 "nbformat": 4,
 "nbformat_minor": 2
}
