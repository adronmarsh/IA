{
 "cells": [
  {
   "cell_type": "markdown",
   "id": "f4c6de32",
   "metadata": {
    "papermill": {
     "duration": 0.044348,
     "end_time": "2022-01-20T20:31:45.786755",
     "exception": false,
     "start_time": "2022-01-20T20:31:45.742407",
     "status": "completed"
    },
    "tags": []
   },
   "source": [
    "# **1. Introduction**\n",
    "\n",
    "It is important that credit card companies are able to recognize fraudulent credit card transactions so that customers are not charged for items that they did not purchase.\n",
    "\n"
   ]
  },
  {
   "cell_type": "markdown",
   "id": "9ae8e221",
   "metadata": {
    "papermill": {
     "duration": 0.045282,
     "end_time": "2022-01-20T20:31:45.876227",
     "exception": false,
     "start_time": "2022-01-20T20:31:45.830945",
     "status": "completed"
    },
    "tags": []
   },
   "source": [
    "## **Content**\n",
    "This data file includes information about the time of transaction, different features of transaction, amount of transaction and if the transaction is legit or not."
   ]
  },
  {
   "cell_type": "markdown",
   "id": "fbb293cf",
   "metadata": {
    "papermill": {
     "duration": 0.043574,
     "end_time": "2022-01-20T20:31:45.963029",
     "exception": false,
     "start_time": "2022-01-20T20:31:45.919455",
     "status": "completed"
    },
    "tags": []
   },
   "source": [
    "## **Acknowledgements**\n",
    "This public dataset can be found on this [link](https://www.kaggle.com/mlg-ulb/creditcardfraud)."
   ]
  },
  {
   "cell_type": "markdown",
   "id": "abb2be34",
   "metadata": {
    "papermill": {
     "duration": 0.043515,
     "end_time": "2022-01-20T20:31:46.050456",
     "exception": false,
     "start_time": "2022-01-20T20:31:46.006941",
     "status": "completed"
    },
    "tags": []
   },
   "source": [
    "## **Process for this model building**\n",
    "1. Importing necessary libraries and dataset\n",
    "2. Getting familiar with the dataset\n",
    "3. Cleaning the dataset\n",
    "4. Processing the dataset\n",
    "5. Splitting the data into Train and Test data\n",
    "6. Training the model using Train data\n",
    "7. Checking the accuracy score of the model"
   ]
  },
  {
   "cell_type": "markdown",
   "id": "35cb77c8",
   "metadata": {
    "papermill": {
     "duration": 0.044256,
     "end_time": "2022-01-20T20:31:46.138101",
     "exception": false,
     "start_time": "2022-01-20T20:31:46.093845",
     "status": "completed"
    },
    "tags": []
   },
   "source": []
  },
  {
   "cell_type": "markdown",
   "id": "19dc6d1f",
   "metadata": {
    "papermill": {
     "duration": 0.042975,
     "end_time": "2022-01-20T20:31:46.225030",
     "exception": false,
     "start_time": "2022-01-20T20:31:46.182055",
     "status": "completed"
    },
    "tags": []
   },
   "source": [
    "# **2. Prepare**"
   ]
  },
  {
   "cell_type": "markdown",
   "id": "c3d81a45",
   "metadata": {
    "papermill": {
     "duration": 0.04302,
     "end_time": "2022-01-20T20:31:46.311388",
     "exception": false,
     "start_time": "2022-01-20T20:31:46.268368",
     "status": "completed"
    },
    "tags": []
   },
   "source": [
    "**Information on the Dataset**\n",
    "\n",
    "* The dataset contains transactions made by credit cards in September 2013 by European cardholders.\n",
    "* This dataset presents transactions that occurred in two days, where we have 492 frauds out of 284,807 transactions. The dataset is highly unbalanced, the positive class (frauds) account for 0.172% of all transactions.\n",
    "\n",
    "**Limitations of Dataset:**\n",
    "\n",
    "* Data is only of approximately 2 Days of time period.\n",
    "\n",
    "**Is Data ROCCC ?**\n",
    "\n",
    "A good data source is ROCCC which stands for **R**eliable, **O**riginal, **C**omprehensive, **C**urrent, and **C**ited.\n",
    "\n",
    "* Reliable - LOW - Not reliable as it only has data of 2 Days\n",
    "* Original - MED - Collected and analysed during a research collaboration of [Worldline and the Machine Learning Group](https://mlg.ulb.ac.be/)\n",
    "* Comprehensive - LOW - Parameters are hidden to protect the credit card information\n",
    "* Current - LOW - Data is not known how old this data is and may be not relevant\n",
    "* Cited - MED - Data collected from Worldline and the Machine Learning Group\n",
    "\n",
    "Overall, the dataset is considered to be of Good quality data but data is only of 2 Days. Hence, it is not recommended to produce recommendations based on this data."
   ]
  },
  {
   "cell_type": "markdown",
   "id": "d58ffa87",
   "metadata": {
    "papermill": {
     "duration": 0.042971,
     "end_time": "2022-01-20T20:31:46.397388",
     "exception": false,
     "start_time": "2022-01-20T20:31:46.354417",
     "status": "completed"
    },
    "tags": []
   },
   "source": [
    "**Importing Libraries**"
   ]
  },
  {
   "cell_type": "code",
   "execution_count": 1,
   "id": "50d255af",
   "metadata": {
    "_cell_guid": "b1076dfc-b9ad-4769-8c92-a6c4dae69d19",
    "_uuid": "8f2839f25d086af736a60e9eeb907d3b93b6e0e5",
    "execution": {
     "iopub.execute_input": "2022-01-20T20:31:46.488371Z",
     "iopub.status.busy": "2022-01-20T20:31:46.487204Z",
     "iopub.status.idle": "2022-01-20T20:31:47.718464Z",
     "shell.execute_reply": "2022-01-20T20:31:47.717780Z",
     "shell.execute_reply.started": "2022-01-20T20:11:05.701536Z"
    },
    "papermill": {
     "duration": 1.278255,
     "end_time": "2022-01-20T20:31:47.718631",
     "exception": false,
     "start_time": "2022-01-20T20:31:46.440376",
     "status": "completed"
    },
    "tags": []
   },
   "outputs": [],
   "source": [
    "import numpy as np\n",
    "import pandas as pd \n",
    "from sklearn.model_selection import train_test_split\n",
    "from sklearn.linear_model import LogisticRegression\n",
    "from sklearn.metrics import accuracy_score\n",
    "import matplotlib.pyplot as plt\n",
    "from sklearn.metrics import classification_report\n",
    "import seaborn as sns"
   ]
  },
  {
   "cell_type": "markdown",
   "id": "31e26343",
   "metadata": {
    "papermill": {
     "duration": 0.043115,
     "end_time": "2022-01-20T20:31:47.805692",
     "exception": false,
     "start_time": "2022-01-20T20:31:47.762577",
     "status": "completed"
    },
    "tags": []
   },
   "source": [
    "**Loading the dataset to a Pandas DataFrame**"
   ]
  },
  {
   "cell_type": "code",
   "execution_count": 2,
   "id": "de291a17",
   "metadata": {
    "execution": {
     "iopub.execute_input": "2022-01-20T20:31:47.897715Z",
     "iopub.status.busy": "2022-01-20T20:31:47.897062Z",
     "iopub.status.idle": "2022-01-20T20:31:52.285871Z",
     "shell.execute_reply": "2022-01-20T20:31:52.285271Z",
     "shell.execute_reply.started": "2022-01-20T19:33:54.408392Z"
    },
    "papermill": {
     "duration": 4.437318,
     "end_time": "2022-01-20T20:31:52.286077",
     "exception": false,
     "start_time": "2022-01-20T20:31:47.848759",
     "status": "completed"
    },
    "tags": []
   },
   "outputs": [],
   "source": [
    "credit_card_data = pd.read_csv('../input/creditcardfraud/creditcard.csv')"
   ]
  },
  {
   "cell_type": "markdown",
   "id": "1ce5ec95",
   "metadata": {
    "papermill": {
     "duration": 0.044417,
     "end_time": "2022-01-20T20:31:52.374721",
     "exception": false,
     "start_time": "2022-01-20T20:31:52.330304",
     "status": "completed"
    },
    "tags": []
   },
   "source": [
    "**First 5 Rows of the dataset**"
   ]
  },
  {
   "cell_type": "code",
   "execution_count": 3,
   "id": "3fd16b7b",
   "metadata": {
    "execution": {
     "iopub.execute_input": "2022-01-20T20:31:52.474813Z",
     "iopub.status.busy": "2022-01-20T20:31:52.474107Z",
     "iopub.status.idle": "2022-01-20T20:31:52.500999Z",
     "shell.execute_reply": "2022-01-20T20:31:52.501512Z",
     "shell.execute_reply.started": "2022-01-20T19:34:01.201543Z"
    },
    "papermill": {
     "duration": 0.083348,
     "end_time": "2022-01-20T20:31:52.501684",
     "exception": false,
     "start_time": "2022-01-20T20:31:52.418336",
     "status": "completed"
    },
    "tags": []
   },
   "outputs": [
    {
     "data": {
      "text/html": [
       "<div>\n",
       "<style scoped>\n",
       "    .dataframe tbody tr th:only-of-type {\n",
       "        vertical-align: middle;\n",
       "    }\n",
       "\n",
       "    .dataframe tbody tr th {\n",
       "        vertical-align: top;\n",
       "    }\n",
       "\n",
       "    .dataframe thead th {\n",
       "        text-align: right;\n",
       "    }\n",
       "</style>\n",
       "<table border=\"1\" class=\"dataframe\">\n",
       "  <thead>\n",
       "    <tr style=\"text-align: right;\">\n",
       "      <th></th>\n",
       "      <th>Time</th>\n",
       "      <th>V1</th>\n",
       "      <th>V2</th>\n",
       "      <th>V3</th>\n",
       "      <th>V4</th>\n",
       "      <th>V5</th>\n",
       "      <th>V6</th>\n",
       "      <th>V7</th>\n",
       "      <th>V8</th>\n",
       "      <th>V9</th>\n",
       "      <th>...</th>\n",
       "      <th>V21</th>\n",
       "      <th>V22</th>\n",
       "      <th>V23</th>\n",
       "      <th>V24</th>\n",
       "      <th>V25</th>\n",
       "      <th>V26</th>\n",
       "      <th>V27</th>\n",
       "      <th>V28</th>\n",
       "      <th>Amount</th>\n",
       "      <th>Class</th>\n",
       "    </tr>\n",
       "  </thead>\n",
       "  <tbody>\n",
       "    <tr>\n",
       "      <th>0</th>\n",
       "      <td>0.0</td>\n",
       "      <td>-1.359807</td>\n",
       "      <td>-0.072781</td>\n",
       "      <td>2.536347</td>\n",
       "      <td>1.378155</td>\n",
       "      <td>-0.338321</td>\n",
       "      <td>0.462388</td>\n",
       "      <td>0.239599</td>\n",
       "      <td>0.098698</td>\n",
       "      <td>0.363787</td>\n",
       "      <td>...</td>\n",
       "      <td>-0.018307</td>\n",
       "      <td>0.277838</td>\n",
       "      <td>-0.110474</td>\n",
       "      <td>0.066928</td>\n",
       "      <td>0.128539</td>\n",
       "      <td>-0.189115</td>\n",
       "      <td>0.133558</td>\n",
       "      <td>-0.021053</td>\n",
       "      <td>149.62</td>\n",
       "      <td>0</td>\n",
       "    </tr>\n",
       "    <tr>\n",
       "      <th>1</th>\n",
       "      <td>0.0</td>\n",
       "      <td>1.191857</td>\n",
       "      <td>0.266151</td>\n",
       "      <td>0.166480</td>\n",
       "      <td>0.448154</td>\n",
       "      <td>0.060018</td>\n",
       "      <td>-0.082361</td>\n",
       "      <td>-0.078803</td>\n",
       "      <td>0.085102</td>\n",
       "      <td>-0.255425</td>\n",
       "      <td>...</td>\n",
       "      <td>-0.225775</td>\n",
       "      <td>-0.638672</td>\n",
       "      <td>0.101288</td>\n",
       "      <td>-0.339846</td>\n",
       "      <td>0.167170</td>\n",
       "      <td>0.125895</td>\n",
       "      <td>-0.008983</td>\n",
       "      <td>0.014724</td>\n",
       "      <td>2.69</td>\n",
       "      <td>0</td>\n",
       "    </tr>\n",
       "    <tr>\n",
       "      <th>2</th>\n",
       "      <td>1.0</td>\n",
       "      <td>-1.358354</td>\n",
       "      <td>-1.340163</td>\n",
       "      <td>1.773209</td>\n",
       "      <td>0.379780</td>\n",
       "      <td>-0.503198</td>\n",
       "      <td>1.800499</td>\n",
       "      <td>0.791461</td>\n",
       "      <td>0.247676</td>\n",
       "      <td>-1.514654</td>\n",
       "      <td>...</td>\n",
       "      <td>0.247998</td>\n",
       "      <td>0.771679</td>\n",
       "      <td>0.909412</td>\n",
       "      <td>-0.689281</td>\n",
       "      <td>-0.327642</td>\n",
       "      <td>-0.139097</td>\n",
       "      <td>-0.055353</td>\n",
       "      <td>-0.059752</td>\n",
       "      <td>378.66</td>\n",
       "      <td>0</td>\n",
       "    </tr>\n",
       "    <tr>\n",
       "      <th>3</th>\n",
       "      <td>1.0</td>\n",
       "      <td>-0.966272</td>\n",
       "      <td>-0.185226</td>\n",
       "      <td>1.792993</td>\n",
       "      <td>-0.863291</td>\n",
       "      <td>-0.010309</td>\n",
       "      <td>1.247203</td>\n",
       "      <td>0.237609</td>\n",
       "      <td>0.377436</td>\n",
       "      <td>-1.387024</td>\n",
       "      <td>...</td>\n",
       "      <td>-0.108300</td>\n",
       "      <td>0.005274</td>\n",
       "      <td>-0.190321</td>\n",
       "      <td>-1.175575</td>\n",
       "      <td>0.647376</td>\n",
       "      <td>-0.221929</td>\n",
       "      <td>0.062723</td>\n",
       "      <td>0.061458</td>\n",
       "      <td>123.50</td>\n",
       "      <td>0</td>\n",
       "    </tr>\n",
       "    <tr>\n",
       "      <th>4</th>\n",
       "      <td>2.0</td>\n",
       "      <td>-1.158233</td>\n",
       "      <td>0.877737</td>\n",
       "      <td>1.548718</td>\n",
       "      <td>0.403034</td>\n",
       "      <td>-0.407193</td>\n",
       "      <td>0.095921</td>\n",
       "      <td>0.592941</td>\n",
       "      <td>-0.270533</td>\n",
       "      <td>0.817739</td>\n",
       "      <td>...</td>\n",
       "      <td>-0.009431</td>\n",
       "      <td>0.798278</td>\n",
       "      <td>-0.137458</td>\n",
       "      <td>0.141267</td>\n",
       "      <td>-0.206010</td>\n",
       "      <td>0.502292</td>\n",
       "      <td>0.219422</td>\n",
       "      <td>0.215153</td>\n",
       "      <td>69.99</td>\n",
       "      <td>0</td>\n",
       "    </tr>\n",
       "  </tbody>\n",
       "</table>\n",
       "<p>5 rows × 31 columns</p>\n",
       "</div>"
      ],
      "text/plain": [
       "   Time        V1        V2        V3        V4        V5        V6        V7  \\\n",
       "0   0.0 -1.359807 -0.072781  2.536347  1.378155 -0.338321  0.462388  0.239599   \n",
       "1   0.0  1.191857  0.266151  0.166480  0.448154  0.060018 -0.082361 -0.078803   \n",
       "2   1.0 -1.358354 -1.340163  1.773209  0.379780 -0.503198  1.800499  0.791461   \n",
       "3   1.0 -0.966272 -0.185226  1.792993 -0.863291 -0.010309  1.247203  0.237609   \n",
       "4   2.0 -1.158233  0.877737  1.548718  0.403034 -0.407193  0.095921  0.592941   \n",
       "\n",
       "         V8        V9  ...       V21       V22       V23       V24       V25  \\\n",
       "0  0.098698  0.363787  ... -0.018307  0.277838 -0.110474  0.066928  0.128539   \n",
       "1  0.085102 -0.255425  ... -0.225775 -0.638672  0.101288 -0.339846  0.167170   \n",
       "2  0.247676 -1.514654  ...  0.247998  0.771679  0.909412 -0.689281 -0.327642   \n",
       "3  0.377436 -1.387024  ... -0.108300  0.005274 -0.190321 -1.175575  0.647376   \n",
       "4 -0.270533  0.817739  ... -0.009431  0.798278 -0.137458  0.141267 -0.206010   \n",
       "\n",
       "        V26       V27       V28  Amount  Class  \n",
       "0 -0.189115  0.133558 -0.021053  149.62      0  \n",
       "1  0.125895 -0.008983  0.014724    2.69      0  \n",
       "2 -0.139097 -0.055353 -0.059752  378.66      0  \n",
       "3 -0.221929  0.062723  0.061458  123.50      0  \n",
       "4  0.502292  0.219422  0.215153   69.99      0  \n",
       "\n",
       "[5 rows x 31 columns]"
      ]
     },
     "execution_count": 3,
     "metadata": {},
     "output_type": "execute_result"
    }
   ],
   "source": [
    "credit_card_data.head()"
   ]
  },
  {
   "cell_type": "markdown",
   "id": "8fb4c003",
   "metadata": {
    "papermill": {
     "duration": 0.043855,
     "end_time": "2022-01-20T20:31:52.590196",
     "exception": false,
     "start_time": "2022-01-20T20:31:52.546341",
     "status": "completed"
    },
    "tags": []
   },
   "source": [
    "**Columns Information:**\n",
    "\n",
    "1. Time: Time of the transaction (Counted in seconds)\n",
    "2. Amount: Amount of transaction (in US Dollars)\n",
    "3. V1-V28 : Features of a particular transaction\n",
    "4. Class: Informs about whether the transaction in legit or not (0: Legit , 1: Fraud)"
   ]
  },
  {
   "cell_type": "markdown",
   "id": "f3316743",
   "metadata": {
    "papermill": {
     "duration": 0.043423,
     "end_time": "2022-01-20T20:31:52.677542",
     "exception": false,
     "start_time": "2022-01-20T20:31:52.634119",
     "status": "completed"
    },
    "tags": []
   },
   "source": [
    "**Last 5 rows of the dataset**"
   ]
  },
  {
   "cell_type": "code",
   "execution_count": 4,
   "id": "cb05c5ce",
   "metadata": {
    "execution": {
     "iopub.execute_input": "2022-01-20T20:31:52.772695Z",
     "iopub.status.busy": "2022-01-20T20:31:52.771943Z",
     "iopub.status.idle": "2022-01-20T20:31:52.793327Z",
     "shell.execute_reply": "2022-01-20T20:31:52.793932Z",
     "shell.execute_reply.started": "2022-01-20T19:34:03.448870Z"
    },
    "papermill": {
     "duration": 0.072609,
     "end_time": "2022-01-20T20:31:52.794139",
     "exception": false,
     "start_time": "2022-01-20T20:31:52.721530",
     "status": "completed"
    },
    "tags": []
   },
   "outputs": [
    {
     "data": {
      "text/html": [
       "<div>\n",
       "<style scoped>\n",
       "    .dataframe tbody tr th:only-of-type {\n",
       "        vertical-align: middle;\n",
       "    }\n",
       "\n",
       "    .dataframe tbody tr th {\n",
       "        vertical-align: top;\n",
       "    }\n",
       "\n",
       "    .dataframe thead th {\n",
       "        text-align: right;\n",
       "    }\n",
       "</style>\n",
       "<table border=\"1\" class=\"dataframe\">\n",
       "  <thead>\n",
       "    <tr style=\"text-align: right;\">\n",
       "      <th></th>\n",
       "      <th>Time</th>\n",
       "      <th>V1</th>\n",
       "      <th>V2</th>\n",
       "      <th>V3</th>\n",
       "      <th>V4</th>\n",
       "      <th>V5</th>\n",
       "      <th>V6</th>\n",
       "      <th>V7</th>\n",
       "      <th>V8</th>\n",
       "      <th>V9</th>\n",
       "      <th>...</th>\n",
       "      <th>V21</th>\n",
       "      <th>V22</th>\n",
       "      <th>V23</th>\n",
       "      <th>V24</th>\n",
       "      <th>V25</th>\n",
       "      <th>V26</th>\n",
       "      <th>V27</th>\n",
       "      <th>V28</th>\n",
       "      <th>Amount</th>\n",
       "      <th>Class</th>\n",
       "    </tr>\n",
       "  </thead>\n",
       "  <tbody>\n",
       "    <tr>\n",
       "      <th>284802</th>\n",
       "      <td>172786.0</td>\n",
       "      <td>-11.881118</td>\n",
       "      <td>10.071785</td>\n",
       "      <td>-9.834783</td>\n",
       "      <td>-2.066656</td>\n",
       "      <td>-5.364473</td>\n",
       "      <td>-2.606837</td>\n",
       "      <td>-4.918215</td>\n",
       "      <td>7.305334</td>\n",
       "      <td>1.914428</td>\n",
       "      <td>...</td>\n",
       "      <td>0.213454</td>\n",
       "      <td>0.111864</td>\n",
       "      <td>1.014480</td>\n",
       "      <td>-0.509348</td>\n",
       "      <td>1.436807</td>\n",
       "      <td>0.250034</td>\n",
       "      <td>0.943651</td>\n",
       "      <td>0.823731</td>\n",
       "      <td>0.77</td>\n",
       "      <td>0</td>\n",
       "    </tr>\n",
       "    <tr>\n",
       "      <th>284803</th>\n",
       "      <td>172787.0</td>\n",
       "      <td>-0.732789</td>\n",
       "      <td>-0.055080</td>\n",
       "      <td>2.035030</td>\n",
       "      <td>-0.738589</td>\n",
       "      <td>0.868229</td>\n",
       "      <td>1.058415</td>\n",
       "      <td>0.024330</td>\n",
       "      <td>0.294869</td>\n",
       "      <td>0.584800</td>\n",
       "      <td>...</td>\n",
       "      <td>0.214205</td>\n",
       "      <td>0.924384</td>\n",
       "      <td>0.012463</td>\n",
       "      <td>-1.016226</td>\n",
       "      <td>-0.606624</td>\n",
       "      <td>-0.395255</td>\n",
       "      <td>0.068472</td>\n",
       "      <td>-0.053527</td>\n",
       "      <td>24.79</td>\n",
       "      <td>0</td>\n",
       "    </tr>\n",
       "    <tr>\n",
       "      <th>284804</th>\n",
       "      <td>172788.0</td>\n",
       "      <td>1.919565</td>\n",
       "      <td>-0.301254</td>\n",
       "      <td>-3.249640</td>\n",
       "      <td>-0.557828</td>\n",
       "      <td>2.630515</td>\n",
       "      <td>3.031260</td>\n",
       "      <td>-0.296827</td>\n",
       "      <td>0.708417</td>\n",
       "      <td>0.432454</td>\n",
       "      <td>...</td>\n",
       "      <td>0.232045</td>\n",
       "      <td>0.578229</td>\n",
       "      <td>-0.037501</td>\n",
       "      <td>0.640134</td>\n",
       "      <td>0.265745</td>\n",
       "      <td>-0.087371</td>\n",
       "      <td>0.004455</td>\n",
       "      <td>-0.026561</td>\n",
       "      <td>67.88</td>\n",
       "      <td>0</td>\n",
       "    </tr>\n",
       "    <tr>\n",
       "      <th>284805</th>\n",
       "      <td>172788.0</td>\n",
       "      <td>-0.240440</td>\n",
       "      <td>0.530483</td>\n",
       "      <td>0.702510</td>\n",
       "      <td>0.689799</td>\n",
       "      <td>-0.377961</td>\n",
       "      <td>0.623708</td>\n",
       "      <td>-0.686180</td>\n",
       "      <td>0.679145</td>\n",
       "      <td>0.392087</td>\n",
       "      <td>...</td>\n",
       "      <td>0.265245</td>\n",
       "      <td>0.800049</td>\n",
       "      <td>-0.163298</td>\n",
       "      <td>0.123205</td>\n",
       "      <td>-0.569159</td>\n",
       "      <td>0.546668</td>\n",
       "      <td>0.108821</td>\n",
       "      <td>0.104533</td>\n",
       "      <td>10.00</td>\n",
       "      <td>0</td>\n",
       "    </tr>\n",
       "    <tr>\n",
       "      <th>284806</th>\n",
       "      <td>172792.0</td>\n",
       "      <td>-0.533413</td>\n",
       "      <td>-0.189733</td>\n",
       "      <td>0.703337</td>\n",
       "      <td>-0.506271</td>\n",
       "      <td>-0.012546</td>\n",
       "      <td>-0.649617</td>\n",
       "      <td>1.577006</td>\n",
       "      <td>-0.414650</td>\n",
       "      <td>0.486180</td>\n",
       "      <td>...</td>\n",
       "      <td>0.261057</td>\n",
       "      <td>0.643078</td>\n",
       "      <td>0.376777</td>\n",
       "      <td>0.008797</td>\n",
       "      <td>-0.473649</td>\n",
       "      <td>-0.818267</td>\n",
       "      <td>-0.002415</td>\n",
       "      <td>0.013649</td>\n",
       "      <td>217.00</td>\n",
       "      <td>0</td>\n",
       "    </tr>\n",
       "  </tbody>\n",
       "</table>\n",
       "<p>5 rows × 31 columns</p>\n",
       "</div>"
      ],
      "text/plain": [
       "            Time         V1         V2        V3        V4        V5  \\\n",
       "284802  172786.0 -11.881118  10.071785 -9.834783 -2.066656 -5.364473   \n",
       "284803  172787.0  -0.732789  -0.055080  2.035030 -0.738589  0.868229   \n",
       "284804  172788.0   1.919565  -0.301254 -3.249640 -0.557828  2.630515   \n",
       "284805  172788.0  -0.240440   0.530483  0.702510  0.689799 -0.377961   \n",
       "284806  172792.0  -0.533413  -0.189733  0.703337 -0.506271 -0.012546   \n",
       "\n",
       "              V6        V7        V8        V9  ...       V21       V22  \\\n",
       "284802 -2.606837 -4.918215  7.305334  1.914428  ...  0.213454  0.111864   \n",
       "284803  1.058415  0.024330  0.294869  0.584800  ...  0.214205  0.924384   \n",
       "284804  3.031260 -0.296827  0.708417  0.432454  ...  0.232045  0.578229   \n",
       "284805  0.623708 -0.686180  0.679145  0.392087  ...  0.265245  0.800049   \n",
       "284806 -0.649617  1.577006 -0.414650  0.486180  ...  0.261057  0.643078   \n",
       "\n",
       "             V23       V24       V25       V26       V27       V28  Amount  \\\n",
       "284802  1.014480 -0.509348  1.436807  0.250034  0.943651  0.823731    0.77   \n",
       "284803  0.012463 -1.016226 -0.606624 -0.395255  0.068472 -0.053527   24.79   \n",
       "284804 -0.037501  0.640134  0.265745 -0.087371  0.004455 -0.026561   67.88   \n",
       "284805 -0.163298  0.123205 -0.569159  0.546668  0.108821  0.104533   10.00   \n",
       "284806  0.376777  0.008797 -0.473649 -0.818267 -0.002415  0.013649  217.00   \n",
       "\n",
       "        Class  \n",
       "284802      0  \n",
       "284803      0  \n",
       "284804      0  \n",
       "284805      0  \n",
       "284806      0  \n",
       "\n",
       "[5 rows x 31 columns]"
      ]
     },
     "execution_count": 4,
     "metadata": {},
     "output_type": "execute_result"
    }
   ],
   "source": [
    "credit_card_data.tail()"
   ]
  },
  {
   "cell_type": "markdown",
   "id": "16495e62",
   "metadata": {
    "papermill": {
     "duration": 0.044338,
     "end_time": "2022-01-20T20:31:52.883582",
     "exception": false,
     "start_time": "2022-01-20T20:31:52.839244",
     "status": "completed"
    },
    "tags": []
   },
   "source": [
    "* **Finding:**\n",
    "\n",
    "The last entry of time is 172792 seconds which is equal to 2 Days of Dataset."
   ]
  },
  {
   "cell_type": "markdown",
   "id": "d53aa111",
   "metadata": {
    "papermill": {
     "duration": 0.044099,
     "end_time": "2022-01-20T20:31:52.973355",
     "exception": false,
     "start_time": "2022-01-20T20:31:52.929256",
     "status": "completed"
    },
    "tags": []
   },
   "source": [
    "**Datatype of each column**"
   ]
  },
  {
   "cell_type": "code",
   "execution_count": 5,
   "id": "121ad9ab",
   "metadata": {
    "execution": {
     "iopub.execute_input": "2022-01-20T20:31:53.069382Z",
     "iopub.status.busy": "2022-01-20T20:31:53.068665Z",
     "iopub.status.idle": "2022-01-20T20:31:53.113814Z",
     "shell.execute_reply": "2022-01-20T20:31:53.114364Z",
     "shell.execute_reply.started": "2022-01-20T19:34:05.284837Z"
    },
    "papermill": {
     "duration": 0.096677,
     "end_time": "2022-01-20T20:31:53.114540",
     "exception": false,
     "start_time": "2022-01-20T20:31:53.017863",
     "status": "completed"
    },
    "tags": []
   },
   "outputs": [
    {
     "name": "stdout",
     "output_type": "stream",
     "text": [
      "<class 'pandas.core.frame.DataFrame'>\n",
      "RangeIndex: 284807 entries, 0 to 284806\n",
      "Data columns (total 31 columns):\n",
      " #   Column  Non-Null Count   Dtype  \n",
      "---  ------  --------------   -----  \n",
      " 0   Time    284807 non-null  float64\n",
      " 1   V1      284807 non-null  float64\n",
      " 2   V2      284807 non-null  float64\n",
      " 3   V3      284807 non-null  float64\n",
      " 4   V4      284807 non-null  float64\n",
      " 5   V5      284807 non-null  float64\n",
      " 6   V6      284807 non-null  float64\n",
      " 7   V7      284807 non-null  float64\n",
      " 8   V8      284807 non-null  float64\n",
      " 9   V9      284807 non-null  float64\n",
      " 10  V10     284807 non-null  float64\n",
      " 11  V11     284807 non-null  float64\n",
      " 12  V12     284807 non-null  float64\n",
      " 13  V13     284807 non-null  float64\n",
      " 14  V14     284807 non-null  float64\n",
      " 15  V15     284807 non-null  float64\n",
      " 16  V16     284807 non-null  float64\n",
      " 17  V17     284807 non-null  float64\n",
      " 18  V18     284807 non-null  float64\n",
      " 19  V19     284807 non-null  float64\n",
      " 20  V20     284807 non-null  float64\n",
      " 21  V21     284807 non-null  float64\n",
      " 22  V22     284807 non-null  float64\n",
      " 23  V23     284807 non-null  float64\n",
      " 24  V24     284807 non-null  float64\n",
      " 25  V25     284807 non-null  float64\n",
      " 26  V26     284807 non-null  float64\n",
      " 27  V27     284807 non-null  float64\n",
      " 28  V28     284807 non-null  float64\n",
      " 29  Amount  284807 non-null  float64\n",
      " 30  Class   284807 non-null  int64  \n",
      "dtypes: float64(30), int64(1)\n",
      "memory usage: 67.4 MB\n"
     ]
    }
   ],
   "source": [
    "credit_card_data.info()"
   ]
  },
  {
   "cell_type": "markdown",
   "id": "48a6ca1c",
   "metadata": {
    "papermill": {
     "duration": 0.044511,
     "end_time": "2022-01-20T20:31:53.204673",
     "exception": false,
     "start_time": "2022-01-20T20:31:53.160162",
     "status": "completed"
    },
    "tags": []
   },
   "source": [
    "Datatype looks good. No need to change here anything"
   ]
  },
  {
   "cell_type": "markdown",
   "id": "25fcf2b7",
   "metadata": {
    "papermill": {
     "duration": 0.044494,
     "end_time": "2022-01-20T20:31:53.294031",
     "exception": false,
     "start_time": "2022-01-20T20:31:53.249537",
     "status": "completed"
    },
    "tags": []
   },
   "source": [
    "# **3: Process**\n",
    "**Key Objective:**\n",
    "\n",
    "* Observe and familiarize with data\n",
    "* Check for null or missing values\n",
    "* Perform sanity check of data"
   ]
  },
  {
   "cell_type": "markdown",
   "id": "31e43f24",
   "metadata": {
    "papermill": {
     "duration": 0.045448,
     "end_time": "2022-01-20T20:31:53.385273",
     "exception": false,
     "start_time": "2022-01-20T20:31:53.339825",
     "status": "completed"
    },
    "tags": []
   },
   "source": [
    "**Checking the no. of Null Values**"
   ]
  },
  {
   "cell_type": "code",
   "execution_count": 6,
   "id": "064a6136",
   "metadata": {
    "execution": {
     "iopub.execute_input": "2022-01-20T20:31:53.480151Z",
     "iopub.status.busy": "2022-01-20T20:31:53.479525Z",
     "iopub.status.idle": "2022-01-20T20:31:53.506059Z",
     "shell.execute_reply": "2022-01-20T20:31:53.506555Z",
     "shell.execute_reply.started": "2022-01-20T19:34:11.488407Z"
    },
    "papermill": {
     "duration": 0.075531,
     "end_time": "2022-01-20T20:31:53.506720",
     "exception": false,
     "start_time": "2022-01-20T20:31:53.431189",
     "status": "completed"
    },
    "tags": []
   },
   "outputs": [
    {
     "data": {
      "text/plain": [
       "Time      0\n",
       "V1        0\n",
       "V2        0\n",
       "V3        0\n",
       "V4        0\n",
       "V5        0\n",
       "V6        0\n",
       "V7        0\n",
       "V8        0\n",
       "V9        0\n",
       "V10       0\n",
       "V11       0\n",
       "V12       0\n",
       "V13       0\n",
       "V14       0\n",
       "V15       0\n",
       "V16       0\n",
       "V17       0\n",
       "V18       0\n",
       "V19       0\n",
       "V20       0\n",
       "V21       0\n",
       "V22       0\n",
       "V23       0\n",
       "V24       0\n",
       "V25       0\n",
       "V26       0\n",
       "V27       0\n",
       "V28       0\n",
       "Amount    0\n",
       "Class     0\n",
       "dtype: int64"
      ]
     },
     "execution_count": 6,
     "metadata": {},
     "output_type": "execute_result"
    }
   ],
   "source": [
    "credit_card_data.isnull().sum()"
   ]
  },
  {
   "cell_type": "markdown",
   "id": "57189bd5",
   "metadata": {
    "papermill": {
     "duration": 0.045048,
     "end_time": "2022-01-20T20:31:53.597932",
     "exception": false,
     "start_time": "2022-01-20T20:31:53.552884",
     "status": "completed"
    },
    "tags": []
   },
   "source": [
    "This also looks good. Moving Further."
   ]
  },
  {
   "cell_type": "markdown",
   "id": "34aa41a9",
   "metadata": {
    "papermill": {
     "duration": 0.044764,
     "end_time": "2022-01-20T20:31:53.687952",
     "exception": false,
     "start_time": "2022-01-20T20:31:53.643188",
     "status": "completed"
    },
    "tags": []
   },
   "source": [
    "**Distribution of legit transaction & fraud transaction**"
   ]
  },
  {
   "cell_type": "code",
   "execution_count": 7,
   "id": "e322d62d",
   "metadata": {
    "execution": {
     "iopub.execute_input": "2022-01-20T20:31:53.781502Z",
     "iopub.status.busy": "2022-01-20T20:31:53.780868Z",
     "iopub.status.idle": "2022-01-20T20:31:54.156761Z",
     "shell.execute_reply": "2022-01-20T20:31:54.156217Z",
     "shell.execute_reply.started": "2022-01-20T19:50:08.368237Z"
    },
    "papermill": {
     "duration": 0.42364,
     "end_time": "2022-01-20T20:31:54.156899",
     "exception": false,
     "start_time": "2022-01-20T20:31:53.733259",
     "status": "completed"
    },
    "tags": []
   },
   "outputs": [
    {
     "data": {
      "text/plain": [
       "<seaborn.axisgrid.FacetGrid at 0x7fc8bd4f81d0>"
      ]
     },
     "execution_count": 7,
     "metadata": {},
     "output_type": "execute_result"
    },
    {
     "data": {
      "image/png": "[encoded data removed]",
      "text/plain": [
       "<Figure size 506.5x360 with 1 Axes>"
      ]
     },
     "metadata": {
      "needs_background": "light"
     },
     "output_type": "display_data"
    }
   ],
   "source": [
    "count = credit_card_data['Class'].value_counts(normalize=True).mul(100).reset_index(drop=False)\n",
    "count.columns = ['flflmnt_sts_id','percent']\n",
    "(count.pipe((sns.catplot,'data'), x='flflmnt_sts_id',y='percent',hue='percent',kind='bar'))"
   ]
  },
  {
   "cell_type": "markdown",
   "id": "1e07a82b",
   "metadata": {
    "papermill": {
     "duration": 0.046957,
     "end_time": "2022-01-20T20:31:54.250530",
     "exception": false,
     "start_time": "2022-01-20T20:31:54.203573",
     "status": "completed"
    },
    "tags": []
   },
   "source": [
    "* **Finding:**\n",
    "\n",
    "Here, this shows the dataset is very unbalanced because the class of fraud transaction is very less and this can interfere with our machine learning algorithm. Our model may not be able to differentiate between Fraud and Legit trasaction using this dataset. \n",
    "\n",
    "One thing that can be done is distributing the Legit and Fraud class trasaction in equal amounts."
   ]
  },
  {
   "cell_type": "markdown",
   "id": "bcf81880",
   "metadata": {
    "papermill": {
     "duration": 0.047213,
     "end_time": "2022-01-20T20:31:54.345522",
     "exception": false,
     "start_time": "2022-01-20T20:31:54.298309",
     "status": "completed"
    },
    "tags": []
   },
   "source": [
    "**Seperating data for analysis**"
   ]
  },
  {
   "cell_type": "code",
   "execution_count": 8,
   "id": "af475d8c",
   "metadata": {
    "execution": {
     "iopub.execute_input": "2022-01-20T20:31:54.446675Z",
     "iopub.status.busy": "2022-01-20T20:31:54.445735Z",
     "iopub.status.idle": "2022-01-20T20:31:54.490381Z",
     "shell.execute_reply": "2022-01-20T20:31:54.490930Z",
     "shell.execute_reply.started": "2022-01-20T19:50:17.222660Z"
    },
    "papermill": {
     "duration": 0.096614,
     "end_time": "2022-01-20T20:31:54.491122",
     "exception": false,
     "start_time": "2022-01-20T20:31:54.394508",
     "status": "completed"
    },
    "tags": []
   },
   "outputs": [],
   "source": [
    "legit = credit_card_data[credit_card_data.Class == 0]\n",
    "fraud = credit_card_data[credit_card_data.Class == 1]"
   ]
  },
  {
   "cell_type": "code",
   "execution_count": 9,
   "id": "d60658c1",
   "metadata": {
    "execution": {
     "iopub.execute_input": "2022-01-20T20:31:54.590041Z",
     "iopub.status.busy": "2022-01-20T20:31:54.589103Z",
     "iopub.status.idle": "2022-01-20T20:31:54.592235Z",
     "shell.execute_reply": "2022-01-20T20:31:54.592729Z",
     "shell.execute_reply.started": "2022-01-20T19:50:17.756655Z"
    },
    "papermill": {
     "duration": 0.054793,
     "end_time": "2022-01-20T20:31:54.592893",
     "exception": false,
     "start_time": "2022-01-20T20:31:54.538100",
     "status": "completed"
    },
    "tags": []
   },
   "outputs": [
    {
     "name": "stdout",
     "output_type": "stream",
     "text": [
      "(284315, 31)\n",
      "(492, 31)\n"
     ]
    }
   ],
   "source": [
    "print(legit.shape)\n",
    "print(fraud.shape)"
   ]
  },
  {
   "cell_type": "markdown",
   "id": "ee2099ca",
   "metadata": {
    "papermill": {
     "duration": 0.04678,
     "end_time": "2022-01-20T20:31:54.687374",
     "exception": false,
     "start_time": "2022-01-20T20:31:54.640594",
     "status": "completed"
    },
    "tags": []
   },
   "source": [
    "**Statistical measures of data**"
   ]
  },
  {
   "cell_type": "code",
   "execution_count": 10,
   "id": "6236798d",
   "metadata": {
    "execution": {
     "iopub.execute_input": "2022-01-20T20:31:54.787409Z",
     "iopub.status.busy": "2022-01-20T20:31:54.786391Z",
     "iopub.status.idle": "2022-01-20T20:31:54.805527Z",
     "shell.execute_reply": "2022-01-20T20:31:54.804959Z",
     "shell.execute_reply.started": "2022-01-20T19:50:23.735075Z"
    },
    "papermill": {
     "duration": 0.071246,
     "end_time": "2022-01-20T20:31:54.805680",
     "exception": false,
     "start_time": "2022-01-20T20:31:54.734434",
     "status": "completed"
    },
    "tags": []
   },
   "outputs": [
    {
     "data": {
      "text/plain": [
       "count    284315.000000\n",
       "mean         88.291022\n",
       "std         250.105092\n",
       "min           0.000000\n",
       "25%           5.650000\n",
       "50%          22.000000\n",
       "75%          77.050000\n",
       "max       25691.160000\n",
       "Name: Amount, dtype: float64"
      ]
     },
     "execution_count": 10,
     "metadata": {},
     "output_type": "execute_result"
    }
   ],
   "source": [
    "legit.Amount.describe()"
   ]
  },
  {
   "cell_type": "code",
   "execution_count": 11,
   "id": "3e42d787",
   "metadata": {
    "execution": {
     "iopub.execute_input": "2022-01-20T20:31:54.909508Z",
     "iopub.status.busy": "2022-01-20T20:31:54.908577Z",
     "iopub.status.idle": "2022-01-20T20:31:54.912501Z",
     "shell.execute_reply": "2022-01-20T20:31:54.911871Z",
     "shell.execute_reply.started": "2022-01-20T19:50:31.563043Z"
    },
    "papermill": {
     "duration": 0.060105,
     "end_time": "2022-01-20T20:31:54.912635",
     "exception": false,
     "start_time": "2022-01-20T20:31:54.852530",
     "status": "completed"
    },
    "tags": []
   },
   "outputs": [
    {
     "data": {
      "text/plain": [
       "count     492.000000\n",
       "mean      122.211321\n",
       "std       256.683288\n",
       "min         0.000000\n",
       "25%         1.000000\n",
       "50%         9.250000\n",
       "75%       105.890000\n",
       "max      2125.870000\n",
       "Name: Amount, dtype: float64"
      ]
     },
     "execution_count": 11,
     "metadata": {},
     "output_type": "execute_result"
    }
   ],
   "source": [
    "fraud.Amount.describe()"
   ]
  },
  {
   "cell_type": "markdown",
   "id": "67b48c30",
   "metadata": {
    "papermill": {
     "duration": 0.047009,
     "end_time": "2022-01-20T20:31:55.007548",
     "exception": false,
     "start_time": "2022-01-20T20:31:54.960539",
     "status": "completed"
    },
    "tags": []
   },
   "source": [
    "* **Finding:**\n",
    "\n",
    "Look at the mean difference of both transaction. Fraud is having a greater mean than legit transaction."
   ]
  },
  {
   "cell_type": "markdown",
   "id": "bf55e635",
   "metadata": {
    "papermill": {
     "duration": 0.048812,
     "end_time": "2022-01-20T20:31:55.103310",
     "exception": false,
     "start_time": "2022-01-20T20:31:55.054498",
     "status": "completed"
    },
    "tags": []
   },
   "source": [
    "**Compare values for both transaction**"
   ]
  },
  {
   "cell_type": "code",
   "execution_count": 12,
   "id": "e79c1e2c",
   "metadata": {
    "execution": {
     "iopub.execute_input": "2022-01-20T20:31:55.239848Z",
     "iopub.status.busy": "2022-01-20T20:31:55.238845Z",
     "iopub.status.idle": "2022-01-20T20:31:55.338176Z",
     "shell.execute_reply": "2022-01-20T20:31:55.337485Z",
     "shell.execute_reply.started": "2022-01-20T19:50:45.729299Z"
    },
    "papermill": {
     "duration": 0.1879,
     "end_time": "2022-01-20T20:31:55.338319",
     "exception": false,
     "start_time": "2022-01-20T20:31:55.150419",
     "status": "completed"
    },
    "tags": []
   },
   "outputs": [
    {
     "data": {
      "text/html": [
       "<div>\n",
       "<style scoped>\n",
       "    .dataframe tbody tr th:only-of-type {\n",
       "        vertical-align: middle;\n",
       "    }\n",
       "\n",
       "    .dataframe tbody tr th {\n",
       "        vertical-align: top;\n",
       "    }\n",
       "\n",
       "    .dataframe thead th {\n",
       "        text-align: right;\n",
       "    }\n",
       "</style>\n",
       "<table border=\"1\" class=\"dataframe\">\n",
       "  <thead>\n",
       "    <tr style=\"text-align: right;\">\n",
       "      <th></th>\n",
       "      <th>Time</th>\n",
       "      <th>V1</th>\n",
       "      <th>V2</th>\n",
       "      <th>V3</th>\n",
       "      <th>V4</th>\n",
       "      <th>V5</th>\n",
       "      <th>V6</th>\n",
       "      <th>V7</th>\n",
       "      <th>V8</th>\n",
       "      <th>V9</th>\n",
       "      <th>...</th>\n",
       "      <th>V20</th>\n",
       "      <th>V21</th>\n",
       "      <th>V22</th>\n",
       "      <th>V23</th>\n",
       "      <th>V24</th>\n",
       "      <th>V25</th>\n",
       "      <th>V26</th>\n",
       "      <th>V27</th>\n",
       "      <th>V28</th>\n",
       "      <th>Amount</th>\n",
       "    </tr>\n",
       "    <tr>\n",
       "      <th>Class</th>\n",
       "      <th></th>\n",
       "      <th></th>\n",
       "      <th></th>\n",
       "      <th></th>\n",
       "      <th></th>\n",
       "      <th></th>\n",
       "      <th></th>\n",
       "      <th></th>\n",
       "      <th></th>\n",
       "      <th></th>\n",
       "      <th></th>\n",
       "      <th></th>\n",
       "      <th></th>\n",
       "      <th></th>\n",
       "      <th></th>\n",
       "      <th></th>\n",
       "      <th></th>\n",
       "      <th></th>\n",
       "      <th></th>\n",
       "      <th></th>\n",
       "      <th></th>\n",
       "    </tr>\n",
       "  </thead>\n",
       "  <tbody>\n",
       "    <tr>\n",
       "      <th>0</th>\n",
       "      <td>94838.202258</td>\n",
       "      <td>0.008258</td>\n",
       "      <td>-0.006271</td>\n",
       "      <td>0.012171</td>\n",
       "      <td>-0.007860</td>\n",
       "      <td>0.005453</td>\n",
       "      <td>0.002419</td>\n",
       "      <td>0.009637</td>\n",
       "      <td>-0.000987</td>\n",
       "      <td>0.004467</td>\n",
       "      <td>...</td>\n",
       "      <td>-0.000644</td>\n",
       "      <td>-0.001235</td>\n",
       "      <td>-0.000024</td>\n",
       "      <td>0.000070</td>\n",
       "      <td>0.000182</td>\n",
       "      <td>-0.000072</td>\n",
       "      <td>-0.000089</td>\n",
       "      <td>-0.000295</td>\n",
       "      <td>-0.000131</td>\n",
       "      <td>88.291022</td>\n",
       "    </tr>\n",
       "    <tr>\n",
       "      <th>1</th>\n",
       "      <td>80746.806911</td>\n",
       "      <td>-4.771948</td>\n",
       "      <td>3.623778</td>\n",
       "      <td>-7.033281</td>\n",
       "      <td>4.542029</td>\n",
       "      <td>-3.151225</td>\n",
       "      <td>-1.397737</td>\n",
       "      <td>-5.568731</td>\n",
       "      <td>0.570636</td>\n",
       "      <td>-2.581123</td>\n",
       "      <td>...</td>\n",
       "      <td>0.372319</td>\n",
       "      <td>0.713588</td>\n",
       "      <td>0.014049</td>\n",
       "      <td>-0.040308</td>\n",
       "      <td>-0.105130</td>\n",
       "      <td>0.041449</td>\n",
       "      <td>0.051648</td>\n",
       "      <td>0.170575</td>\n",
       "      <td>0.075667</td>\n",
       "      <td>122.211321</td>\n",
       "    </tr>\n",
       "  </tbody>\n",
       "</table>\n",
       "<p>2 rows × 30 columns</p>\n",
       "</div>"
      ],
      "text/plain": [
       "               Time        V1        V2        V3        V4        V5  \\\n",
       "Class                                                                   \n",
       "0      94838.202258  0.008258 -0.006271  0.012171 -0.007860  0.005453   \n",
       "1      80746.806911 -4.771948  3.623778 -7.033281  4.542029 -3.151225   \n",
       "\n",
       "             V6        V7        V8        V9  ...       V20       V21  \\\n",
       "Class                                          ...                       \n",
       "0      0.002419  0.009637 -0.000987  0.004467  ... -0.000644 -0.001235   \n",
       "1     -1.397737 -5.568731  0.570636 -2.581123  ...  0.372319  0.713588   \n",
       "\n",
       "            V22       V23       V24       V25       V26       V27       V28  \\\n",
       "Class                                                                         \n",
       "0     -0.000024  0.000070  0.000182 -0.000072 -0.000089 -0.000295 -0.000131   \n",
       "1      0.014049 -0.040308 -0.105130  0.041449  0.051648  0.170575  0.075667   \n",
       "\n",
       "           Amount  \n",
       "Class              \n",
       "0       88.291022  \n",
       "1      122.211321  \n",
       "\n",
       "[2 rows x 30 columns]"
      ]
     },
     "execution_count": 12,
     "metadata": {},
     "output_type": "execute_result"
    }
   ],
   "source": [
    "credit_card_data.groupby('Class').mean()"
   ]
  },
  {
   "cell_type": "markdown",
   "id": "9af7594f",
   "metadata": {
    "papermill": {
     "duration": 0.048071,
     "end_time": "2022-01-20T20:31:55.435950",
     "exception": false,
     "start_time": "2022-01-20T20:31:55.387879",
     "status": "completed"
    },
    "tags": []
   },
   "source": [
    "**Under-Sampling the Dataset**"
   ]
  },
  {
   "cell_type": "markdown",
   "id": "c5b01abf",
   "metadata": {
    "papermill": {
     "duration": 0.050021,
     "end_time": "2022-01-20T20:31:55.534327",
     "exception": false,
     "start_time": "2022-01-20T20:31:55.484306",
     "status": "completed"
    },
    "tags": []
   },
   "source": [
    "Build a sample dataset containing similar distribution of normal transaction and Fraud Transaction.\n",
    "\n",
    "No. of Fraud Transaction - 492"
   ]
  },
  {
   "cell_type": "code",
   "execution_count": 13,
   "id": "8ada0080",
   "metadata": {
    "execution": {
     "iopub.execute_input": "2022-01-20T20:31:55.644743Z",
     "iopub.status.busy": "2022-01-20T20:31:55.644070Z",
     "iopub.status.idle": "2022-01-20T20:31:55.646604Z",
     "shell.execute_reply": "2022-01-20T20:31:55.647125Z",
     "shell.execute_reply.started": "2022-01-20T19:50:59.709855Z"
    },
    "papermill": {
     "duration": 0.064531,
     "end_time": "2022-01-20T20:31:55.647293",
     "exception": false,
     "start_time": "2022-01-20T20:31:55.582762",
     "status": "completed"
    },
    "tags": []
   },
   "outputs": [],
   "source": [
    "#sample will pick random rows from the legit data\n",
    "\n",
    "legit_sample = legit.sample(n=492)"
   ]
  },
  {
   "cell_type": "markdown",
   "id": "6018abd8",
   "metadata": {
    "papermill": {
     "duration": 0.048626,
     "end_time": "2022-01-20T20:31:55.744551",
     "exception": false,
     "start_time": "2022-01-20T20:31:55.695925",
     "status": "completed"
    },
    "tags": []
   },
   "source": [
    "**Merging 2 Dataframes**"
   ]
  },
  {
   "cell_type": "code",
   "execution_count": 14,
   "id": "f36980e8",
   "metadata": {
    "execution": {
     "iopub.execute_input": "2022-01-20T20:31:55.846213Z",
     "iopub.status.busy": "2022-01-20T20:31:55.845490Z",
     "iopub.status.idle": "2022-01-20T20:31:55.848023Z",
     "shell.execute_reply": "2022-01-20T20:31:55.848544Z",
     "shell.execute_reply.started": "2022-01-20T19:51:05.204500Z"
    },
    "papermill": {
     "duration": 0.055562,
     "end_time": "2022-01-20T20:31:55.848711",
     "exception": false,
     "start_time": "2022-01-20T20:31:55.793149",
     "status": "completed"
    },
    "tags": []
   },
   "outputs": [],
   "source": [
    "#making a new dataset which will have same amount of rows of fraud and legit transactions\n",
    "\n",
    "new_dataset = pd.concat([legit_sample,fraud], axis = 0)"
   ]
  },
  {
   "cell_type": "code",
   "execution_count": 15,
   "id": "81bfe96f",
   "metadata": {
    "execution": {
     "iopub.execute_input": "2022-01-20T20:31:55.949238Z",
     "iopub.status.busy": "2022-01-20T20:31:55.948555Z",
     "iopub.status.idle": "2022-01-20T20:31:55.973631Z",
     "shell.execute_reply": "2022-01-20T20:31:55.973132Z",
     "shell.execute_reply.started": "2022-01-20T19:51:05.874252Z"
    },
    "papermill": {
     "duration": 0.076766,
     "end_time": "2022-01-20T20:31:55.973770",
     "exception": false,
     "start_time": "2022-01-20T20:31:55.897004",
     "status": "completed"
    },
    "tags": []
   },
   "outputs": [
    {
     "data": {
      "text/html": [
       "<div>\n",
       "<style scoped>\n",
       "    .dataframe tbody tr th:only-of-type {\n",
       "        vertical-align: middle;\n",
       "    }\n",
       "\n",
       "    .dataframe tbody tr th {\n",
       "        vertical-align: top;\n",
       "    }\n",
       "\n",
       "    .dataframe thead th {\n",
       "        text-align: right;\n",
       "    }\n",
       "</style>\n",
       "<table border=\"1\" class=\"dataframe\">\n",
       "  <thead>\n",
       "    <tr style=\"text-align: right;\">\n",
       "      <th></th>\n",
       "      <th>Time</th>\n",
       "      <th>V1</th>\n",
       "      <th>V2</th>\n",
       "      <th>V3</th>\n",
       "      <th>V4</th>\n",
       "      <th>V5</th>\n",
       "      <th>V6</th>\n",
       "      <th>V7</th>\n",
       "      <th>V8</th>\n",
       "      <th>V9</th>\n",
       "      <th>...</th>\n",
       "      <th>V21</th>\n",
       "      <th>V22</th>\n",
       "      <th>V23</th>\n",
       "      <th>V24</th>\n",
       "      <th>V25</th>\n",
       "      <th>V26</th>\n",
       "      <th>V27</th>\n",
       "      <th>V28</th>\n",
       "      <th>Amount</th>\n",
       "      <th>Class</th>\n",
       "    </tr>\n",
       "  </thead>\n",
       "  <tbody>\n",
       "    <tr>\n",
       "      <th>276948</th>\n",
       "      <td>167376.0</td>\n",
       "      <td>0.000883</td>\n",
       "      <td>0.131659</td>\n",
       "      <td>-0.134154</td>\n",
       "      <td>-0.557773</td>\n",
       "      <td>-0.455798</td>\n",
       "      <td>0.881928</td>\n",
       "      <td>-0.721391</td>\n",
       "      <td>0.975757</td>\n",
       "      <td>0.873408</td>\n",
       "      <td>...</td>\n",
       "      <td>0.317558</td>\n",
       "      <td>0.659787</td>\n",
       "      <td>0.341045</td>\n",
       "      <td>-0.332508</td>\n",
       "      <td>-1.160073</td>\n",
       "      <td>0.356185</td>\n",
       "      <td>-0.067366</td>\n",
       "      <td>-0.010981</td>\n",
       "      <td>90.90</td>\n",
       "      <td>0</td>\n",
       "    </tr>\n",
       "    <tr>\n",
       "      <th>12862</th>\n",
       "      <td>22597.0</td>\n",
       "      <td>-1.238684</td>\n",
       "      <td>0.036510</td>\n",
       "      <td>2.626052</td>\n",
       "      <td>1.683645</td>\n",
       "      <td>-0.452814</td>\n",
       "      <td>-0.134286</td>\n",
       "      <td>-0.208335</td>\n",
       "      <td>0.248817</td>\n",
       "      <td>1.531816</td>\n",
       "      <td>...</td>\n",
       "      <td>0.076584</td>\n",
       "      <td>0.294218</td>\n",
       "      <td>0.047558</td>\n",
       "      <td>0.296282</td>\n",
       "      <td>0.343450</td>\n",
       "      <td>-0.080493</td>\n",
       "      <td>0.280983</td>\n",
       "      <td>0.164256</td>\n",
       "      <td>115.00</td>\n",
       "      <td>0</td>\n",
       "    </tr>\n",
       "    <tr>\n",
       "      <th>11101</th>\n",
       "      <td>19181.0</td>\n",
       "      <td>-0.802037</td>\n",
       "      <td>0.266210</td>\n",
       "      <td>2.658371</td>\n",
       "      <td>-1.910571</td>\n",
       "      <td>0.027894</td>\n",
       "      <td>0.587127</td>\n",
       "      <td>0.140348</td>\n",
       "      <td>0.194926</td>\n",
       "      <td>2.329944</td>\n",
       "      <td>...</td>\n",
       "      <td>-0.050855</td>\n",
       "      <td>0.419235</td>\n",
       "      <td>-0.315112</td>\n",
       "      <td>-0.340323</td>\n",
       "      <td>0.280222</td>\n",
       "      <td>-0.799731</td>\n",
       "      <td>-0.056358</td>\n",
       "      <td>-0.169105</td>\n",
       "      <td>11.85</td>\n",
       "      <td>0</td>\n",
       "    </tr>\n",
       "    <tr>\n",
       "      <th>190584</th>\n",
       "      <td>128892.0</td>\n",
       "      <td>2.041347</td>\n",
       "      <td>0.104702</td>\n",
       "      <td>-1.708360</td>\n",
       "      <td>0.438858</td>\n",
       "      <td>0.379927</td>\n",
       "      <td>-0.894991</td>\n",
       "      <td>0.205127</td>\n",
       "      <td>-0.240639</td>\n",
       "      <td>0.495837</td>\n",
       "      <td>...</td>\n",
       "      <td>-0.353103</td>\n",
       "      <td>-0.950459</td>\n",
       "      <td>0.330004</td>\n",
       "      <td>0.567832</td>\n",
       "      <td>-0.269751</td>\n",
       "      <td>0.168037</td>\n",
       "      <td>-0.065979</td>\n",
       "      <td>-0.027381</td>\n",
       "      <td>17.99</td>\n",
       "      <td>0</td>\n",
       "    </tr>\n",
       "    <tr>\n",
       "      <th>173734</th>\n",
       "      <td>121619.0</td>\n",
       "      <td>0.301112</td>\n",
       "      <td>0.833446</td>\n",
       "      <td>-0.524646</td>\n",
       "      <td>1.611325</td>\n",
       "      <td>0.444283</td>\n",
       "      <td>-0.828345</td>\n",
       "      <td>0.904254</td>\n",
       "      <td>-0.533959</td>\n",
       "      <td>0.240264</td>\n",
       "      <td>...</td>\n",
       "      <td>0.141394</td>\n",
       "      <td>1.037714</td>\n",
       "      <td>0.006824</td>\n",
       "      <td>0.318497</td>\n",
       "      <td>-1.473396</td>\n",
       "      <td>0.847114</td>\n",
       "      <td>-0.262094</td>\n",
       "      <td>-0.140896</td>\n",
       "      <td>29.56</td>\n",
       "      <td>0</td>\n",
       "    </tr>\n",
       "  </tbody>\n",
       "</table>\n",
       "<p>5 rows × 31 columns</p>\n",
       "</div>"
      ],
      "text/plain": [
       "            Time        V1        V2        V3        V4        V5        V6  \\\n",
       "276948  167376.0  0.000883  0.131659 -0.134154 -0.557773 -0.455798  0.881928   \n",
       "12862    22597.0 -1.238684  0.036510  2.626052  1.683645 -0.452814 -0.134286   \n",
       "11101    19181.0 -0.802037  0.266210  2.658371 -1.910571  0.027894  0.587127   \n",
       "190584  128892.0  2.041347  0.104702 -1.708360  0.438858  0.379927 -0.894991   \n",
       "173734  121619.0  0.301112  0.833446 -0.524646  1.611325  0.444283 -0.828345   \n",
       "\n",
       "              V7        V8        V9  ...       V21       V22       V23  \\\n",
       "276948 -0.721391  0.975757  0.873408  ...  0.317558  0.659787  0.341045   \n",
       "12862  -0.208335  0.248817  1.531816  ...  0.076584  0.294218  0.047558   \n",
       "11101   0.140348  0.194926  2.329944  ... -0.050855  0.419235 -0.315112   \n",
       "190584  0.205127 -0.240639  0.495837  ... -0.353103 -0.950459  0.330004   \n",
       "173734  0.904254 -0.533959  0.240264  ...  0.141394  1.037714  0.006824   \n",
       "\n",
       "             V24       V25       V26       V27       V28  Amount  Class  \n",
       "276948 -0.332508 -1.160073  0.356185 -0.067366 -0.010981   90.90      0  \n",
       "12862   0.296282  0.343450 -0.080493  0.280983  0.164256  115.00      0  \n",
       "11101  -0.340323  0.280222 -0.799731 -0.056358 -0.169105   11.85      0  \n",
       "190584  0.567832 -0.269751  0.168037 -0.065979 -0.027381   17.99      0  \n",
       "173734  0.318497 -1.473396  0.847114 -0.262094 -0.140896   29.56      0  \n",
       "\n",
       "[5 rows x 31 columns]"
      ]
     },
     "execution_count": 15,
     "metadata": {},
     "output_type": "execute_result"
    }
   ],
   "source": [
    "new_dataset.head()"
   ]
  },
  {
   "cell_type": "code",
   "execution_count": 16,
   "id": "6f196722",
   "metadata": {
    "execution": {
     "iopub.execute_input": "2022-01-20T20:31:56.076960Z",
     "iopub.status.busy": "2022-01-20T20:31:56.075753Z",
     "iopub.status.idle": "2022-01-20T20:31:56.107170Z",
     "shell.execute_reply": "2022-01-20T20:31:56.107737Z",
     "shell.execute_reply.started": "2022-01-20T19:51:08.661914Z"
    },
    "papermill": {
     "duration": 0.085106,
     "end_time": "2022-01-20T20:31:56.107915",
     "exception": false,
     "start_time": "2022-01-20T20:31:56.022809",
     "status": "completed"
    },
    "tags": []
   },
   "outputs": [
    {
     "data": {
      "text/html": [
       "<div>\n",
       "<style scoped>\n",
       "    .dataframe tbody tr th:only-of-type {\n",
       "        vertical-align: middle;\n",
       "    }\n",
       "\n",
       "    .dataframe tbody tr th {\n",
       "        vertical-align: top;\n",
       "    }\n",
       "\n",
       "    .dataframe thead th {\n",
       "        text-align: right;\n",
       "    }\n",
       "</style>\n",
       "<table border=\"1\" class=\"dataframe\">\n",
       "  <thead>\n",
       "    <tr style=\"text-align: right;\">\n",
       "      <th></th>\n",
       "      <th>Time</th>\n",
       "      <th>V1</th>\n",
       "      <th>V2</th>\n",
       "      <th>V3</th>\n",
       "      <th>V4</th>\n",
       "      <th>V5</th>\n",
       "      <th>V6</th>\n",
       "      <th>V7</th>\n",
       "      <th>V8</th>\n",
       "      <th>V9</th>\n",
       "      <th>...</th>\n",
       "      <th>V21</th>\n",
       "      <th>V22</th>\n",
       "      <th>V23</th>\n",
       "      <th>V24</th>\n",
       "      <th>V25</th>\n",
       "      <th>V26</th>\n",
       "      <th>V27</th>\n",
       "      <th>V28</th>\n",
       "      <th>Amount</th>\n",
       "      <th>Class</th>\n",
       "    </tr>\n",
       "  </thead>\n",
       "  <tbody>\n",
       "    <tr>\n",
       "      <th>279863</th>\n",
       "      <td>169142.0</td>\n",
       "      <td>-1.927883</td>\n",
       "      <td>1.125653</td>\n",
       "      <td>-4.518331</td>\n",
       "      <td>1.749293</td>\n",
       "      <td>-1.566487</td>\n",
       "      <td>-2.010494</td>\n",
       "      <td>-0.882850</td>\n",
       "      <td>0.697211</td>\n",
       "      <td>-2.064945</td>\n",
       "      <td>...</td>\n",
       "      <td>0.778584</td>\n",
       "      <td>-0.319189</td>\n",
       "      <td>0.639419</td>\n",
       "      <td>-0.294885</td>\n",
       "      <td>0.537503</td>\n",
       "      <td>0.788395</td>\n",
       "      <td>0.292680</td>\n",
       "      <td>0.147968</td>\n",
       "      <td>390.00</td>\n",
       "      <td>1</td>\n",
       "    </tr>\n",
       "    <tr>\n",
       "      <th>280143</th>\n",
       "      <td>169347.0</td>\n",
       "      <td>1.378559</td>\n",
       "      <td>1.289381</td>\n",
       "      <td>-5.004247</td>\n",
       "      <td>1.411850</td>\n",
       "      <td>0.442581</td>\n",
       "      <td>-1.326536</td>\n",
       "      <td>-1.413170</td>\n",
       "      <td>0.248525</td>\n",
       "      <td>-1.127396</td>\n",
       "      <td>...</td>\n",
       "      <td>0.370612</td>\n",
       "      <td>0.028234</td>\n",
       "      <td>-0.145640</td>\n",
       "      <td>-0.081049</td>\n",
       "      <td>0.521875</td>\n",
       "      <td>0.739467</td>\n",
       "      <td>0.389152</td>\n",
       "      <td>0.186637</td>\n",
       "      <td>0.76</td>\n",
       "      <td>1</td>\n",
       "    </tr>\n",
       "    <tr>\n",
       "      <th>280149</th>\n",
       "      <td>169351.0</td>\n",
       "      <td>-0.676143</td>\n",
       "      <td>1.126366</td>\n",
       "      <td>-2.213700</td>\n",
       "      <td>0.468308</td>\n",
       "      <td>-1.120541</td>\n",
       "      <td>-0.003346</td>\n",
       "      <td>-2.234739</td>\n",
       "      <td>1.210158</td>\n",
       "      <td>-0.652250</td>\n",
       "      <td>...</td>\n",
       "      <td>0.751826</td>\n",
       "      <td>0.834108</td>\n",
       "      <td>0.190944</td>\n",
       "      <td>0.032070</td>\n",
       "      <td>-0.739695</td>\n",
       "      <td>0.471111</td>\n",
       "      <td>0.385107</td>\n",
       "      <td>0.194361</td>\n",
       "      <td>77.89</td>\n",
       "      <td>1</td>\n",
       "    </tr>\n",
       "    <tr>\n",
       "      <th>281144</th>\n",
       "      <td>169966.0</td>\n",
       "      <td>-3.113832</td>\n",
       "      <td>0.585864</td>\n",
       "      <td>-5.399730</td>\n",
       "      <td>1.817092</td>\n",
       "      <td>-0.840618</td>\n",
       "      <td>-2.943548</td>\n",
       "      <td>-2.208002</td>\n",
       "      <td>1.058733</td>\n",
       "      <td>-1.632333</td>\n",
       "      <td>...</td>\n",
       "      <td>0.583276</td>\n",
       "      <td>-0.269209</td>\n",
       "      <td>-0.456108</td>\n",
       "      <td>-0.183659</td>\n",
       "      <td>-0.328168</td>\n",
       "      <td>0.606116</td>\n",
       "      <td>0.884876</td>\n",
       "      <td>-0.253700</td>\n",
       "      <td>245.00</td>\n",
       "      <td>1</td>\n",
       "    </tr>\n",
       "    <tr>\n",
       "      <th>281674</th>\n",
       "      <td>170348.0</td>\n",
       "      <td>1.991976</td>\n",
       "      <td>0.158476</td>\n",
       "      <td>-2.583441</td>\n",
       "      <td>0.408670</td>\n",
       "      <td>1.151147</td>\n",
       "      <td>-0.096695</td>\n",
       "      <td>0.223050</td>\n",
       "      <td>-0.068384</td>\n",
       "      <td>0.577829</td>\n",
       "      <td>...</td>\n",
       "      <td>-0.164350</td>\n",
       "      <td>-0.295135</td>\n",
       "      <td>-0.072173</td>\n",
       "      <td>-0.450261</td>\n",
       "      <td>0.313267</td>\n",
       "      <td>-0.289617</td>\n",
       "      <td>0.002988</td>\n",
       "      <td>-0.015309</td>\n",
       "      <td>42.53</td>\n",
       "      <td>1</td>\n",
       "    </tr>\n",
       "  </tbody>\n",
       "</table>\n",
       "<p>5 rows × 31 columns</p>\n",
       "</div>"
      ],
      "text/plain": [
       "            Time        V1        V2        V3        V4        V5        V6  \\\n",
       "279863  169142.0 -1.927883  1.125653 -4.518331  1.749293 -1.566487 -2.010494   \n",
       "280143  169347.0  1.378559  1.289381 -5.004247  1.411850  0.442581 -1.326536   \n",
       "280149  169351.0 -0.676143  1.126366 -2.213700  0.468308 -1.120541 -0.003346   \n",
       "281144  169966.0 -3.113832  0.585864 -5.399730  1.817092 -0.840618 -2.943548   \n",
       "281674  170348.0  1.991976  0.158476 -2.583441  0.408670  1.151147 -0.096695   \n",
       "\n",
       "              V7        V8        V9  ...       V21       V22       V23  \\\n",
       "279863 -0.882850  0.697211 -2.064945  ...  0.778584 -0.319189  0.639419   \n",
       "280143 -1.413170  0.248525 -1.127396  ...  0.370612  0.028234 -0.145640   \n",
       "280149 -2.234739  1.210158 -0.652250  ...  0.751826  0.834108  0.190944   \n",
       "281144 -2.208002  1.058733 -1.632333  ...  0.583276 -0.269209 -0.456108   \n",
       "281674  0.223050 -0.068384  0.577829  ... -0.164350 -0.295135 -0.072173   \n",
       "\n",
       "             V24       V25       V26       V27       V28  Amount  Class  \n",
       "279863 -0.294885  0.537503  0.788395  0.292680  0.147968  390.00      1  \n",
       "280143 -0.081049  0.521875  0.739467  0.389152  0.186637    0.76      1  \n",
       "280149  0.032070 -0.739695  0.471111  0.385107  0.194361   77.89      1  \n",
       "281144 -0.183659 -0.328168  0.606116  0.884876 -0.253700  245.00      1  \n",
       "281674 -0.450261  0.313267 -0.289617  0.002988 -0.015309   42.53      1  \n",
       "\n",
       "[5 rows x 31 columns]"
      ]
     },
     "execution_count": 16,
     "metadata": {},
     "output_type": "execute_result"
    }
   ],
   "source": [
    "new_dataset.tail()"
   ]
  },
  {
   "cell_type": "code",
   "execution_count": 17,
   "id": "caaa7b78",
   "metadata": {
    "execution": {
     "iopub.execute_input": "2022-01-20T20:31:56.227854Z",
     "iopub.status.busy": "2022-01-20T20:31:56.226835Z",
     "iopub.status.idle": "2022-01-20T20:31:56.241052Z",
     "shell.execute_reply": "2022-01-20T20:31:56.242148Z",
     "shell.execute_reply.started": "2022-01-20T19:51:15.238777Z"
    },
    "papermill": {
     "duration": 0.06797,
     "end_time": "2022-01-20T20:31:56.242461",
     "exception": false,
     "start_time": "2022-01-20T20:31:56.174491",
     "status": "completed"
    },
    "tags": []
   },
   "outputs": [
    {
     "name": "stdout",
     "output_type": "stream",
     "text": [
      "<class 'pandas.core.frame.DataFrame'>\n",
      "Int64Index: 984 entries, 276948 to 281674\n",
      "Data columns (total 31 columns):\n",
      " #   Column  Non-Null Count  Dtype  \n",
      "---  ------  --------------  -----  \n",
      " 0   Time    984 non-null    float64\n",
      " 1   V1      984 non-null    float64\n",
      " 2   V2      984 non-null    float64\n",
      " 3   V3      984 non-null    float64\n",
      " 4   V4      984 non-null    float64\n",
      " 5   V5      984 non-null    float64\n",
      " 6   V6      984 non-null    float64\n",
      " 7   V7      984 non-null    float64\n",
      " 8   V8      984 non-null    float64\n",
      " 9   V9      984 non-null    float64\n",
      " 10  V10     984 non-null    float64\n",
      " 11  V11     984 non-null    float64\n",
      " 12  V12     984 non-null    float64\n",
      " 13  V13     984 non-null    float64\n",
      " 14  V14     984 non-null    float64\n",
      " 15  V15     984 non-null    float64\n",
      " 16  V16     984 non-null    float64\n",
      " 17  V17     984 non-null    float64\n",
      " 18  V18     984 non-null    float64\n",
      " 19  V19     984 non-null    float64\n",
      " 20  V20     984 non-null    float64\n",
      " 21  V21     984 non-null    float64\n",
      " 22  V22     984 non-null    float64\n",
      " 23  V23     984 non-null    float64\n",
      " 24  V24     984 non-null    float64\n",
      " 25  V25     984 non-null    float64\n",
      " 26  V26     984 non-null    float64\n",
      " 27  V27     984 non-null    float64\n",
      " 28  V28     984 non-null    float64\n",
      " 29  Amount  984 non-null    float64\n",
      " 30  Class   984 non-null    int64  \n",
      "dtypes: float64(30), int64(1)\n",
      "memory usage: 246.0 KB\n"
     ]
    }
   ],
   "source": [
    "new_dataset.info()"
   ]
  },
  {
   "cell_type": "code",
   "execution_count": 18,
   "id": "89308eb1",
   "metadata": {
    "execution": {
     "iopub.execute_input": "2022-01-20T20:31:56.350902Z",
     "iopub.status.busy": "2022-01-20T20:31:56.350128Z",
     "iopub.status.idle": "2022-01-20T20:31:56.353276Z",
     "shell.execute_reply": "2022-01-20T20:31:56.353753Z",
     "shell.execute_reply.started": "2022-01-20T19:51:15.624709Z"
    },
    "papermill": {
     "duration": 0.060078,
     "end_time": "2022-01-20T20:31:56.353915",
     "exception": false,
     "start_time": "2022-01-20T20:31:56.293837",
     "status": "completed"
    },
    "tags": []
   },
   "outputs": [
    {
     "data": {
      "text/plain": [
       "0    492\n",
       "1    492\n",
       "Name: Class, dtype: int64"
      ]
     },
     "execution_count": 18,
     "metadata": {},
     "output_type": "execute_result"
    }
   ],
   "source": [
    "new_dataset.Class.value_counts()"
   ]
  },
  {
   "cell_type": "markdown",
   "id": "52520cce",
   "metadata": {
    "papermill": {
     "duration": 0.049863,
     "end_time": "2022-01-20T20:31:56.455082",
     "exception": false,
     "start_time": "2022-01-20T20:31:56.405219",
     "status": "completed"
    },
    "tags": []
   },
   "source": [
    "* **Findings:**\n",
    "\n",
    "Now, this dataset is balanced as the count of Legit and Fraud is equal. Now our model can easily work with this and differentiate between Fraud and Legit transactions."
   ]
  },
  {
   "cell_type": "code",
   "execution_count": 19,
   "id": "0f48fa59",
   "metadata": {
    "execution": {
     "iopub.execute_input": "2022-01-20T20:31:56.561638Z",
     "iopub.status.busy": "2022-01-20T20:31:56.560955Z",
     "iopub.status.idle": "2022-01-20T20:31:56.583187Z",
     "shell.execute_reply": "2022-01-20T20:31:56.583677Z",
     "shell.execute_reply.started": "2022-01-20T19:51:20.908293Z"
    },
    "papermill": {
     "duration": 0.07857,
     "end_time": "2022-01-20T20:31:56.583865",
     "exception": false,
     "start_time": "2022-01-20T20:31:56.505295",
     "status": "completed"
    },
    "tags": []
   },
   "outputs": [
    {
     "data": {
      "text/html": [
       "<div>\n",
       "<style scoped>\n",
       "    .dataframe tbody tr th:only-of-type {\n",
       "        vertical-align: middle;\n",
       "    }\n",
       "\n",
       "    .dataframe tbody tr th {\n",
       "        vertical-align: top;\n",
       "    }\n",
       "\n",
       "    .dataframe thead th {\n",
       "        text-align: right;\n",
       "    }\n",
       "</style>\n",
       "<table border=\"1\" class=\"dataframe\">\n",
       "  <thead>\n",
       "    <tr style=\"text-align: right;\">\n",
       "      <th></th>\n",
       "      <th>Time</th>\n",
       "      <th>V1</th>\n",
       "      <th>V2</th>\n",
       "      <th>V3</th>\n",
       "      <th>V4</th>\n",
       "      <th>V5</th>\n",
       "      <th>V6</th>\n",
       "      <th>V7</th>\n",
       "      <th>V8</th>\n",
       "      <th>V9</th>\n",
       "      <th>...</th>\n",
       "      <th>V20</th>\n",
       "      <th>V21</th>\n",
       "      <th>V22</th>\n",
       "      <th>V23</th>\n",
       "      <th>V24</th>\n",
       "      <th>V25</th>\n",
       "      <th>V26</th>\n",
       "      <th>V27</th>\n",
       "      <th>V28</th>\n",
       "      <th>Amount</th>\n",
       "    </tr>\n",
       "    <tr>\n",
       "      <th>Class</th>\n",
       "      <th></th>\n",
       "      <th></th>\n",
       "      <th></th>\n",
       "      <th></th>\n",
       "      <th></th>\n",
       "      <th></th>\n",
       "      <th></th>\n",
       "      <th></th>\n",
       "      <th></th>\n",
       "      <th></th>\n",
       "      <th></th>\n",
       "      <th></th>\n",
       "      <th></th>\n",
       "      <th></th>\n",
       "      <th></th>\n",
       "      <th></th>\n",
       "      <th></th>\n",
       "      <th></th>\n",
       "      <th></th>\n",
       "      <th></th>\n",
       "      <th></th>\n",
       "    </tr>\n",
       "  </thead>\n",
       "  <tbody>\n",
       "    <tr>\n",
       "      <th>0</th>\n",
       "      <td>95613.778455</td>\n",
       "      <td>-0.016664</td>\n",
       "      <td>0.057884</td>\n",
       "      <td>0.062485</td>\n",
       "      <td>-0.057757</td>\n",
       "      <td>0.072057</td>\n",
       "      <td>-0.041836</td>\n",
       "      <td>0.021756</td>\n",
       "      <td>-0.035147</td>\n",
       "      <td>-0.034269</td>\n",
       "      <td>...</td>\n",
       "      <td>0.004567</td>\n",
       "      <td>-0.056473</td>\n",
       "      <td>-0.025390</td>\n",
       "      <td>-0.033255</td>\n",
       "      <td>-0.00502</td>\n",
       "      <td>-0.038668</td>\n",
       "      <td>-0.002375</td>\n",
       "      <td>-0.006617</td>\n",
       "      <td>0.009908</td>\n",
       "      <td>84.774675</td>\n",
       "    </tr>\n",
       "    <tr>\n",
       "      <th>1</th>\n",
       "      <td>80746.806911</td>\n",
       "      <td>-4.771948</td>\n",
       "      <td>3.623778</td>\n",
       "      <td>-7.033281</td>\n",
       "      <td>4.542029</td>\n",
       "      <td>-3.151225</td>\n",
       "      <td>-1.397737</td>\n",
       "      <td>-5.568731</td>\n",
       "      <td>0.570636</td>\n",
       "      <td>-2.581123</td>\n",
       "      <td>...</td>\n",
       "      <td>0.372319</td>\n",
       "      <td>0.713588</td>\n",
       "      <td>0.014049</td>\n",
       "      <td>-0.040308</td>\n",
       "      <td>-0.10513</td>\n",
       "      <td>0.041449</td>\n",
       "      <td>0.051648</td>\n",
       "      <td>0.170575</td>\n",
       "      <td>0.075667</td>\n",
       "      <td>122.211321</td>\n",
       "    </tr>\n",
       "  </tbody>\n",
       "</table>\n",
       "<p>2 rows × 30 columns</p>\n",
       "</div>"
      ],
      "text/plain": [
       "               Time        V1        V2        V3        V4        V5  \\\n",
       "Class                                                                   \n",
       "0      95613.778455 -0.016664  0.057884  0.062485 -0.057757  0.072057   \n",
       "1      80746.806911 -4.771948  3.623778 -7.033281  4.542029 -3.151225   \n",
       "\n",
       "             V6        V7        V8        V9  ...       V20       V21  \\\n",
       "Class                                          ...                       \n",
       "0     -0.041836  0.021756 -0.035147 -0.034269  ...  0.004567 -0.056473   \n",
       "1     -1.397737 -5.568731  0.570636 -2.581123  ...  0.372319  0.713588   \n",
       "\n",
       "            V22       V23      V24       V25       V26       V27       V28  \\\n",
       "Class                                                                        \n",
       "0     -0.025390 -0.033255 -0.00502 -0.038668 -0.002375 -0.006617  0.009908   \n",
       "1      0.014049 -0.040308 -0.10513  0.041449  0.051648  0.170575  0.075667   \n",
       "\n",
       "           Amount  \n",
       "Class              \n",
       "0       84.774675  \n",
       "1      122.211321  \n",
       "\n",
       "[2 rows x 30 columns]"
      ]
     },
     "execution_count": 19,
     "metadata": {},
     "output_type": "execute_result"
    }
   ],
   "source": [
    "new_dataset.groupby('Class').mean()"
   ]
  },
  {
   "cell_type": "markdown",
   "id": "b611a530",
   "metadata": {
    "papermill": {
     "duration": 0.050607,
     "end_time": "2022-01-20T20:31:56.685714",
     "exception": false,
     "start_time": "2022-01-20T20:31:56.635107",
     "status": "completed"
    },
    "tags": []
   },
   "source": [
    "* **Findings:**\n",
    "\n",
    "We can see that numbers have not changed a lot as this looks almost similar to the previous means."
   ]
  },
  {
   "cell_type": "markdown",
   "id": "c05dd613",
   "metadata": {
    "papermill": {
     "duration": 0.050552,
     "end_time": "2022-01-20T20:31:56.787675",
     "exception": false,
     "start_time": "2022-01-20T20:31:56.737123",
     "status": "completed"
    },
    "tags": []
   },
   "source": [
    "**Splitting the data into Features and Targets**"
   ]
  },
  {
   "cell_type": "code",
   "execution_count": 20,
   "id": "6e242b25",
   "metadata": {
    "execution": {
     "iopub.execute_input": "2022-01-20T20:31:56.895808Z",
     "iopub.status.busy": "2022-01-20T20:31:56.895077Z",
     "iopub.status.idle": "2022-01-20T20:31:56.896422Z",
     "shell.execute_reply": "2022-01-20T20:31:56.897003Z",
     "shell.execute_reply.started": "2022-01-20T19:52:11.902946Z"
    },
    "papermill": {
     "duration": 0.05827,
     "end_time": "2022-01-20T20:31:56.897173",
     "exception": false,
     "start_time": "2022-01-20T20:31:56.838903",
     "status": "completed"
    },
    "tags": []
   },
   "outputs": [],
   "source": [
    "X = new_dataset.drop(columns=['Class', 'Time'],axis=1)     # Features\n",
    "Y = new_dataset['Class']                         #Target"
   ]
  },
  {
   "cell_type": "code",
   "execution_count": 21,
   "id": "c194acf5",
   "metadata": {
    "execution": {
     "iopub.execute_input": "2022-01-20T20:31:57.003457Z",
     "iopub.status.busy": "2022-01-20T20:31:57.002760Z",
     "iopub.status.idle": "2022-01-20T20:31:57.031515Z",
     "shell.execute_reply": "2022-01-20T20:31:57.032056Z",
     "shell.execute_reply.started": "2022-01-20T19:52:17.527564Z"
    },
    "papermill": {
     "duration": 0.083063,
     "end_time": "2022-01-20T20:31:57.032222",
     "exception": false,
     "start_time": "2022-01-20T20:31:56.949159",
     "status": "completed"
    },
    "tags": []
   },
   "outputs": [
    {
     "data": {
      "text/html": [
       "<div>\n",
       "<style scoped>\n",
       "    .dataframe tbody tr th:only-of-type {\n",
       "        vertical-align: middle;\n",
       "    }\n",
       "\n",
       "    .dataframe tbody tr th {\n",
       "        vertical-align: top;\n",
       "    }\n",
       "\n",
       "    .dataframe thead th {\n",
       "        text-align: right;\n",
       "    }\n",
       "</style>\n",
       "<table border=\"1\" class=\"dataframe\">\n",
       "  <thead>\n",
       "    <tr style=\"text-align: right;\">\n",
       "      <th></th>\n",
       "      <th>V1</th>\n",
       "      <th>V2</th>\n",
       "      <th>V3</th>\n",
       "      <th>V4</th>\n",
       "      <th>V5</th>\n",
       "      <th>V6</th>\n",
       "      <th>V7</th>\n",
       "      <th>V8</th>\n",
       "      <th>V9</th>\n",
       "      <th>V10</th>\n",
       "      <th>...</th>\n",
       "      <th>V20</th>\n",
       "      <th>V21</th>\n",
       "      <th>V22</th>\n",
       "      <th>V23</th>\n",
       "      <th>V24</th>\n",
       "      <th>V25</th>\n",
       "      <th>V26</th>\n",
       "      <th>V27</th>\n",
       "      <th>V28</th>\n",
       "      <th>Amount</th>\n",
       "    </tr>\n",
       "  </thead>\n",
       "  <tbody>\n",
       "    <tr>\n",
       "      <th>276948</th>\n",
       "      <td>0.000883</td>\n",
       "      <td>0.131659</td>\n",
       "      <td>-0.134154</td>\n",
       "      <td>-0.557773</td>\n",
       "      <td>-0.455798</td>\n",
       "      <td>0.881928</td>\n",
       "      <td>-0.721391</td>\n",
       "      <td>0.975757</td>\n",
       "      <td>0.873408</td>\n",
       "      <td>-1.108300</td>\n",
       "      <td>...</td>\n",
       "      <td>-0.126247</td>\n",
       "      <td>0.317558</td>\n",
       "      <td>0.659787</td>\n",
       "      <td>0.341045</td>\n",
       "      <td>-0.332508</td>\n",
       "      <td>-1.160073</td>\n",
       "      <td>0.356185</td>\n",
       "      <td>-0.067366</td>\n",
       "      <td>-0.010981</td>\n",
       "      <td>90.90</td>\n",
       "    </tr>\n",
       "    <tr>\n",
       "      <th>12862</th>\n",
       "      <td>-1.238684</td>\n",
       "      <td>0.036510</td>\n",
       "      <td>2.626052</td>\n",
       "      <td>1.683645</td>\n",
       "      <td>-0.452814</td>\n",
       "      <td>-0.134286</td>\n",
       "      <td>-0.208335</td>\n",
       "      <td>0.248817</td>\n",
       "      <td>1.531816</td>\n",
       "      <td>-0.542665</td>\n",
       "      <td>...</td>\n",
       "      <td>0.468790</td>\n",
       "      <td>0.076584</td>\n",
       "      <td>0.294218</td>\n",
       "      <td>0.047558</td>\n",
       "      <td>0.296282</td>\n",
       "      <td>0.343450</td>\n",
       "      <td>-0.080493</td>\n",
       "      <td>0.280983</td>\n",
       "      <td>0.164256</td>\n",
       "      <td>115.00</td>\n",
       "    </tr>\n",
       "    <tr>\n",
       "      <th>11101</th>\n",
       "      <td>-0.802037</td>\n",
       "      <td>0.266210</td>\n",
       "      <td>2.658371</td>\n",
       "      <td>-1.910571</td>\n",
       "      <td>0.027894</td>\n",
       "      <td>0.587127</td>\n",
       "      <td>0.140348</td>\n",
       "      <td>0.194926</td>\n",
       "      <td>2.329944</td>\n",
       "      <td>-1.953244</td>\n",
       "      <td>...</td>\n",
       "      <td>-0.127094</td>\n",
       "      <td>-0.050855</td>\n",
       "      <td>0.419235</td>\n",
       "      <td>-0.315112</td>\n",
       "      <td>-0.340323</td>\n",
       "      <td>0.280222</td>\n",
       "      <td>-0.799731</td>\n",
       "      <td>-0.056358</td>\n",
       "      <td>-0.169105</td>\n",
       "      <td>11.85</td>\n",
       "    </tr>\n",
       "    <tr>\n",
       "      <th>190584</th>\n",
       "      <td>2.041347</td>\n",
       "      <td>0.104702</td>\n",
       "      <td>-1.708360</td>\n",
       "      <td>0.438858</td>\n",
       "      <td>0.379927</td>\n",
       "      <td>-0.894991</td>\n",
       "      <td>0.205127</td>\n",
       "      <td>-0.240639</td>\n",
       "      <td>0.495837</td>\n",
       "      <td>-0.384616</td>\n",
       "      <td>...</td>\n",
       "      <td>-0.126498</td>\n",
       "      <td>-0.353103</td>\n",
       "      <td>-0.950459</td>\n",
       "      <td>0.330004</td>\n",
       "      <td>0.567832</td>\n",
       "      <td>-0.269751</td>\n",
       "      <td>0.168037</td>\n",
       "      <td>-0.065979</td>\n",
       "      <td>-0.027381</td>\n",
       "      <td>17.99</td>\n",
       "    </tr>\n",
       "    <tr>\n",
       "      <th>173734</th>\n",
       "      <td>0.301112</td>\n",
       "      <td>0.833446</td>\n",
       "      <td>-0.524646</td>\n",
       "      <td>1.611325</td>\n",
       "      <td>0.444283</td>\n",
       "      <td>-0.828345</td>\n",
       "      <td>0.904254</td>\n",
       "      <td>-0.533959</td>\n",
       "      <td>0.240264</td>\n",
       "      <td>-0.008316</td>\n",
       "      <td>...</td>\n",
       "      <td>0.112712</td>\n",
       "      <td>0.141394</td>\n",
       "      <td>1.037714</td>\n",
       "      <td>0.006824</td>\n",
       "      <td>0.318497</td>\n",
       "      <td>-1.473396</td>\n",
       "      <td>0.847114</td>\n",
       "      <td>-0.262094</td>\n",
       "      <td>-0.140896</td>\n",
       "      <td>29.56</td>\n",
       "    </tr>\n",
       "    <tr>\n",
       "      <th>...</th>\n",
       "      <td>...</td>\n",
       "      <td>...</td>\n",
       "      <td>...</td>\n",
       "      <td>...</td>\n",
       "      <td>...</td>\n",
       "      <td>...</td>\n",
       "      <td>...</td>\n",
       "      <td>...</td>\n",
       "      <td>...</td>\n",
       "      <td>...</td>\n",
       "      <td>...</td>\n",
       "      <td>...</td>\n",
       "      <td>...</td>\n",
       "      <td>...</td>\n",
       "      <td>...</td>\n",
       "      <td>...</td>\n",
       "      <td>...</td>\n",
       "      <td>...</td>\n",
       "      <td>...</td>\n",
       "      <td>...</td>\n",
       "      <td>...</td>\n",
       "    </tr>\n",
       "    <tr>\n",
       "      <th>279863</th>\n",
       "      <td>-1.927883</td>\n",
       "      <td>1.125653</td>\n",
       "      <td>-4.518331</td>\n",
       "      <td>1.749293</td>\n",
       "      <td>-1.566487</td>\n",
       "      <td>-2.010494</td>\n",
       "      <td>-0.882850</td>\n",
       "      <td>0.697211</td>\n",
       "      <td>-2.064945</td>\n",
       "      <td>-5.587794</td>\n",
       "      <td>...</td>\n",
       "      <td>1.252967</td>\n",
       "      <td>0.778584</td>\n",
       "      <td>-0.319189</td>\n",
       "      <td>0.639419</td>\n",
       "      <td>-0.294885</td>\n",
       "      <td>0.537503</td>\n",
       "      <td>0.788395</td>\n",
       "      <td>0.292680</td>\n",
       "      <td>0.147968</td>\n",
       "      <td>390.00</td>\n",
       "    </tr>\n",
       "    <tr>\n",
       "      <th>280143</th>\n",
       "      <td>1.378559</td>\n",
       "      <td>1.289381</td>\n",
       "      <td>-5.004247</td>\n",
       "      <td>1.411850</td>\n",
       "      <td>0.442581</td>\n",
       "      <td>-1.326536</td>\n",
       "      <td>-1.413170</td>\n",
       "      <td>0.248525</td>\n",
       "      <td>-1.127396</td>\n",
       "      <td>-3.232153</td>\n",
       "      <td>...</td>\n",
       "      <td>0.226138</td>\n",
       "      <td>0.370612</td>\n",
       "      <td>0.028234</td>\n",
       "      <td>-0.145640</td>\n",
       "      <td>-0.081049</td>\n",
       "      <td>0.521875</td>\n",
       "      <td>0.739467</td>\n",
       "      <td>0.389152</td>\n",
       "      <td>0.186637</td>\n",
       "      <td>0.76</td>\n",
       "    </tr>\n",
       "    <tr>\n",
       "      <th>280149</th>\n",
       "      <td>-0.676143</td>\n",
       "      <td>1.126366</td>\n",
       "      <td>-2.213700</td>\n",
       "      <td>0.468308</td>\n",
       "      <td>-1.120541</td>\n",
       "      <td>-0.003346</td>\n",
       "      <td>-2.234739</td>\n",
       "      <td>1.210158</td>\n",
       "      <td>-0.652250</td>\n",
       "      <td>-3.463891</td>\n",
       "      <td>...</td>\n",
       "      <td>0.247968</td>\n",
       "      <td>0.751826</td>\n",
       "      <td>0.834108</td>\n",
       "      <td>0.190944</td>\n",
       "      <td>0.032070</td>\n",
       "      <td>-0.739695</td>\n",
       "      <td>0.471111</td>\n",
       "      <td>0.385107</td>\n",
       "      <td>0.194361</td>\n",
       "      <td>77.89</td>\n",
       "    </tr>\n",
       "    <tr>\n",
       "      <th>281144</th>\n",
       "      <td>-3.113832</td>\n",
       "      <td>0.585864</td>\n",
       "      <td>-5.399730</td>\n",
       "      <td>1.817092</td>\n",
       "      <td>-0.840618</td>\n",
       "      <td>-2.943548</td>\n",
       "      <td>-2.208002</td>\n",
       "      <td>1.058733</td>\n",
       "      <td>-1.632333</td>\n",
       "      <td>-5.245984</td>\n",
       "      <td>...</td>\n",
       "      <td>0.306271</td>\n",
       "      <td>0.583276</td>\n",
       "      <td>-0.269209</td>\n",
       "      <td>-0.456108</td>\n",
       "      <td>-0.183659</td>\n",
       "      <td>-0.328168</td>\n",
       "      <td>0.606116</td>\n",
       "      <td>0.884876</td>\n",
       "      <td>-0.253700</td>\n",
       "      <td>245.00</td>\n",
       "    </tr>\n",
       "    <tr>\n",
       "      <th>281674</th>\n",
       "      <td>1.991976</td>\n",
       "      <td>0.158476</td>\n",
       "      <td>-2.583441</td>\n",
       "      <td>0.408670</td>\n",
       "      <td>1.151147</td>\n",
       "      <td>-0.096695</td>\n",
       "      <td>0.223050</td>\n",
       "      <td>-0.068384</td>\n",
       "      <td>0.577829</td>\n",
       "      <td>-0.888722</td>\n",
       "      <td>...</td>\n",
       "      <td>-0.017652</td>\n",
       "      <td>-0.164350</td>\n",
       "      <td>-0.295135</td>\n",
       "      <td>-0.072173</td>\n",
       "      <td>-0.450261</td>\n",
       "      <td>0.313267</td>\n",
       "      <td>-0.289617</td>\n",
       "      <td>0.002988</td>\n",
       "      <td>-0.015309</td>\n",
       "      <td>42.53</td>\n",
       "    </tr>\n",
       "  </tbody>\n",
       "</table>\n",
       "<p>984 rows × 29 columns</p>\n",
       "</div>"
      ],
      "text/plain": [
       "              V1        V2        V3        V4        V5        V6        V7  \\\n",
       "276948  0.000883  0.131659 -0.134154 -0.557773 -0.455798  0.881928 -0.721391   \n",
       "12862  -1.238684  0.036510  2.626052  1.683645 -0.452814 -0.134286 -0.208335   \n",
       "11101  -0.802037  0.266210  2.658371 -1.910571  0.027894  0.587127  0.140348   \n",
       "190584  2.041347  0.104702 -1.708360  0.438858  0.379927 -0.894991  0.205127   \n",
       "173734  0.301112  0.833446 -0.524646  1.611325  0.444283 -0.828345  0.904254   \n",
       "...          ...       ...       ...       ...       ...       ...       ...   \n",
       "279863 -1.927883  1.125653 -4.518331  1.749293 -1.566487 -2.010494 -0.882850   \n",
       "280143  1.378559  1.289381 -5.004247  1.411850  0.442581 -1.326536 -1.413170   \n",
       "280149 -0.676143  1.126366 -2.213700  0.468308 -1.120541 -0.003346 -2.234739   \n",
       "281144 -3.113832  0.585864 -5.399730  1.817092 -0.840618 -2.943548 -2.208002   \n",
       "281674  1.991976  0.158476 -2.583441  0.408670  1.151147 -0.096695  0.223050   \n",
       "\n",
       "              V8        V9       V10  ...       V20       V21       V22  \\\n",
       "276948  0.975757  0.873408 -1.108300  ... -0.126247  0.317558  0.659787   \n",
       "12862   0.248817  1.531816 -0.542665  ...  0.468790  0.076584  0.294218   \n",
       "11101   0.194926  2.329944 -1.953244  ... -0.127094 -0.050855  0.419235   \n",
       "190584 -0.240639  0.495837 -0.384616  ... -0.126498 -0.353103 -0.950459   \n",
       "173734 -0.533959  0.240264 -0.008316  ...  0.112712  0.141394  1.037714   \n",
       "...          ...       ...       ...  ...       ...       ...       ...   \n",
       "279863  0.697211 -2.064945 -5.587794  ...  1.252967  0.778584 -0.319189   \n",
       "280143  0.248525 -1.127396 -3.232153  ...  0.226138  0.370612  0.028234   \n",
       "280149  1.210158 -0.652250 -3.463891  ...  0.247968  0.751826  0.834108   \n",
       "281144  1.058733 -1.632333 -5.245984  ...  0.306271  0.583276 -0.269209   \n",
       "281674 -0.068384  0.577829 -0.888722  ... -0.017652 -0.164350 -0.295135   \n",
       "\n",
       "             V23       V24       V25       V26       V27       V28  Amount  \n",
       "276948  0.341045 -0.332508 -1.160073  0.356185 -0.067366 -0.010981   90.90  \n",
       "12862   0.047558  0.296282  0.343450 -0.080493  0.280983  0.164256  115.00  \n",
       "11101  -0.315112 -0.340323  0.280222 -0.799731 -0.056358 -0.169105   11.85  \n",
       "190584  0.330004  0.567832 -0.269751  0.168037 -0.065979 -0.027381   17.99  \n",
       "173734  0.006824  0.318497 -1.473396  0.847114 -0.262094 -0.140896   29.56  \n",
       "...          ...       ...       ...       ...       ...       ...     ...  \n",
       "279863  0.639419 -0.294885  0.537503  0.788395  0.292680  0.147968  390.00  \n",
       "280143 -0.145640 -0.081049  0.521875  0.739467  0.389152  0.186637    0.76  \n",
       "280149  0.190944  0.032070 -0.739695  0.471111  0.385107  0.194361   77.89  \n",
       "281144 -0.456108 -0.183659 -0.328168  0.606116  0.884876 -0.253700  245.00  \n",
       "281674 -0.072173 -0.450261  0.313267 -0.289617  0.002988 -0.015309   42.53  \n",
       "\n",
       "[984 rows x 29 columns]"
      ]
     },
     "execution_count": 21,
     "metadata": {},
     "output_type": "execute_result"
    }
   ],
   "source": [
    "X"
   ]
  },
  {
   "cell_type": "code",
   "execution_count": 22,
   "id": "a9c54612",
   "metadata": {
    "execution": {
     "iopub.execute_input": "2022-01-20T20:31:57.139754Z",
     "iopub.status.busy": "2022-01-20T20:31:57.139139Z",
     "iopub.status.idle": "2022-01-20T20:31:57.144894Z",
     "shell.execute_reply": "2022-01-20T20:31:57.145554Z",
     "shell.execute_reply.started": "2022-01-20T19:52:20.717024Z"
    },
    "papermill": {
     "duration": 0.060926,
     "end_time": "2022-01-20T20:31:57.145724",
     "exception": false,
     "start_time": "2022-01-20T20:31:57.084798",
     "status": "completed"
    },
    "tags": []
   },
   "outputs": [
    {
     "data": {
      "text/plain": [
       "276948    0\n",
       "12862     0\n",
       "11101     0\n",
       "190584    0\n",
       "173734    0\n",
       "         ..\n",
       "279863    1\n",
       "280143    1\n",
       "280149    1\n",
       "281144    1\n",
       "281674    1\n",
       "Name: Class, Length: 984, dtype: int64"
      ]
     },
     "execution_count": 22,
     "metadata": {},
     "output_type": "execute_result"
    }
   ],
   "source": [
    "Y"
   ]
  },
  {
   "cell_type": "markdown",
   "id": "16c8c7d1",
   "metadata": {
    "papermill": {
     "duration": 0.0515,
     "end_time": "2022-01-20T20:31:57.250049",
     "exception": false,
     "start_time": "2022-01-20T20:31:57.198549",
     "status": "completed"
    },
    "tags": []
   },
   "source": [
    "# **4. Spliting the data into train and test data**"
   ]
  },
  {
   "cell_type": "code",
   "execution_count": 23,
   "id": "7ec9d80e",
   "metadata": {
    "execution": {
     "iopub.execute_input": "2022-01-20T20:31:57.357117Z",
     "iopub.status.busy": "2022-01-20T20:31:57.356467Z",
     "iopub.status.idle": "2022-01-20T20:31:57.363339Z",
     "shell.execute_reply": "2022-01-20T20:31:57.363846Z",
     "shell.execute_reply.started": "2022-01-20T19:52:23.641004Z"
    },
    "papermill": {
     "duration": 0.062322,
     "end_time": "2022-01-20T20:31:57.364037",
     "exception": false,
     "start_time": "2022-01-20T20:31:57.301715",
     "status": "completed"
    },
    "tags": []
   },
   "outputs": [],
   "source": [
    "# 20% of the data will be taken for the Testing and 80% of the data will be taken for the Training\n",
    "\n",
    "X_train,X_test,Y_train,Y_test = train_test_split(X, Y, test_size=0.2, stratify=Y, random_state=2)"
   ]
  },
  {
   "cell_type": "code",
   "execution_count": 24,
   "id": "da533766",
   "metadata": {
    "execution": {
     "iopub.execute_input": "2022-01-20T20:31:57.472963Z",
     "iopub.status.busy": "2022-01-20T20:31:57.472368Z",
     "iopub.status.idle": "2022-01-20T20:31:57.476766Z",
     "shell.execute_reply": "2022-01-20T20:31:57.477322Z",
     "shell.execute_reply.started": "2022-01-20T19:52:23.988831Z"
    },
    "papermill": {
     "duration": 0.059599,
     "end_time": "2022-01-20T20:31:57.477490",
     "exception": false,
     "start_time": "2022-01-20T20:31:57.417891",
     "status": "completed"
    },
    "tags": []
   },
   "outputs": [
    {
     "name": "stdout",
     "output_type": "stream",
     "text": [
      "(984, 29) (787, 29) (197, 29)\n"
     ]
    }
   ],
   "source": [
    "print(X.shape, X_train.shape, X_test.shape)"
   ]
  },
  {
   "cell_type": "markdown",
   "id": "251a671d",
   "metadata": {
    "papermill": {
     "duration": 0.051893,
     "end_time": "2022-01-20T20:31:57.582929",
     "exception": false,
     "start_time": "2022-01-20T20:31:57.531036",
     "status": "completed"
    },
    "tags": []
   },
   "source": [
    "# **5. Model Training**"
   ]
  },
  {
   "cell_type": "markdown",
   "id": "23bcbd61",
   "metadata": {
    "papermill": {
     "duration": 0.05194,
     "end_time": "2022-01-20T20:31:57.686900",
     "exception": false,
     "start_time": "2022-01-20T20:31:57.634960",
     "status": "completed"
    },
    "tags": []
   },
   "source": [
    "### **Using Logistic Regression**"
   ]
  },
  {
   "cell_type": "code",
   "execution_count": 25,
   "id": "9b42e396",
   "metadata": {
    "execution": {
     "iopub.execute_input": "2022-01-20T20:31:57.794359Z",
     "iopub.status.busy": "2022-01-20T20:31:57.793716Z",
     "iopub.status.idle": "2022-01-20T20:31:57.796801Z",
     "shell.execute_reply": "2022-01-20T20:31:57.797271Z",
     "shell.execute_reply.started": "2022-01-20T19:54:45.487157Z"
    },
    "papermill": {
     "duration": 0.058298,
     "end_time": "2022-01-20T20:31:57.797440",
     "exception": false,
     "start_time": "2022-01-20T20:31:57.739142",
     "status": "completed"
    },
    "tags": []
   },
   "outputs": [],
   "source": [
    "# Defining Logistic Regression into a variable\n",
    "model = LogisticRegression(solver='liblinear')"
   ]
  },
  {
   "cell_type": "markdown",
   "id": "6674fd3d",
   "metadata": {
    "papermill": {
     "duration": 0.052811,
     "end_time": "2022-01-20T20:31:57.902401",
     "exception": false,
     "start_time": "2022-01-20T20:31:57.849590",
     "status": "completed"
    },
    "tags": []
   },
   "source": [
    "**Training the Logistic Regression model with training data**"
   ]
  },
  {
   "cell_type": "code",
   "execution_count": 26,
   "id": "174d5fee",
   "metadata": {
    "execution": {
     "iopub.execute_input": "2022-01-20T20:31:58.014529Z",
     "iopub.status.busy": "2022-01-20T20:31:58.011606Z",
     "iopub.status.idle": "2022-01-20T20:31:58.027051Z",
     "shell.execute_reply": "2022-01-20T20:31:58.027592Z",
     "shell.execute_reply.started": "2022-01-20T19:54:46.787886Z"
    },
    "papermill": {
     "duration": 0.072084,
     "end_time": "2022-01-20T20:31:58.027770",
     "exception": false,
     "start_time": "2022-01-20T20:31:57.955686",
     "status": "completed"
    },
    "tags": []
   },
   "outputs": [
    {
     "data": {
      "text/plain": [
       "LogisticRegression(solver='liblinear')"
      ]
     },
     "execution_count": 26,
     "metadata": {},
     "output_type": "execute_result"
    }
   ],
   "source": [
    "# Fitting the train dataset into the model for Training\n",
    "model.fit(X_train,Y_train)"
   ]
  },
  {
   "cell_type": "markdown",
   "id": "cfc99929",
   "metadata": {
    "papermill": {
     "duration": 0.052528,
     "end_time": "2022-01-20T20:31:58.132874",
     "exception": false,
     "start_time": "2022-01-20T20:31:58.080346",
     "status": "completed"
    },
    "tags": []
   },
   "source": [
    "# **6. Model Evaluation**"
   ]
  },
  {
   "cell_type": "markdown",
   "id": "709788de",
   "metadata": {
    "papermill": {
     "duration": 0.052361,
     "end_time": "2022-01-20T20:31:58.237676",
     "exception": false,
     "start_time": "2022-01-20T20:31:58.185315",
     "status": "completed"
    },
    "tags": []
   },
   "source": [
    "### **Accuracy Score**"
   ]
  },
  {
   "cell_type": "code",
   "execution_count": 27,
   "id": "cf489a9b",
   "metadata": {
    "execution": {
     "iopub.execute_input": "2022-01-20T20:31:58.351249Z",
     "iopub.status.busy": "2022-01-20T20:31:58.348342Z",
     "iopub.status.idle": "2022-01-20T20:31:58.354089Z",
     "shell.execute_reply": "2022-01-20T20:31:58.355839Z",
     "shell.execute_reply.started": "2022-01-20T19:54:51.650397Z"
    },
    "papermill": {
     "duration": 0.065814,
     "end_time": "2022-01-20T20:31:58.356134",
     "exception": false,
     "start_time": "2022-01-20T20:31:58.290320",
     "status": "completed"
    },
    "tags": []
   },
   "outputs": [],
   "source": [
    "# Accuracy on training data\n",
    "X_train_prediction = model.predict(X_train)\n",
    "training_data_accuracy = accuracy_score(X_train_prediction,Y_train)"
   ]
  },
  {
   "cell_type": "code",
   "execution_count": 28,
   "id": "549012c6",
   "metadata": {
    "execution": {
     "iopub.execute_input": "2022-01-20T20:31:58.523471Z",
     "iopub.status.busy": "2022-01-20T20:31:58.522624Z",
     "iopub.status.idle": "2022-01-20T20:31:58.526594Z",
     "shell.execute_reply": "2022-01-20T20:31:58.526096Z",
     "shell.execute_reply.started": "2022-01-20T19:54:57.153952Z"
    },
    "papermill": {
     "duration": 0.069871,
     "end_time": "2022-01-20T20:31:58.526733",
     "exception": false,
     "start_time": "2022-01-20T20:31:58.456862",
     "status": "completed"
    },
    "tags": []
   },
   "outputs": [],
   "source": [
    "# Accuracy on test data\n",
    "X_test_prediction = model.predict(X_test)\n",
    "test_data_accuracy = accuracy_score(X_test_prediction,Y_test)"
   ]
  },
  {
   "cell_type": "code",
   "execution_count": 29,
   "id": "253c717b",
   "metadata": {
    "execution": {
     "iopub.execute_input": "2022-01-20T20:31:58.638160Z",
     "iopub.status.busy": "2022-01-20T20:31:58.637387Z",
     "iopub.status.idle": "2022-01-20T20:31:58.640475Z",
     "shell.execute_reply": "2022-01-20T20:31:58.640972Z",
     "shell.execute_reply.started": "2022-01-20T19:54:57.900650Z"
    },
    "papermill": {
     "duration": 0.060867,
     "end_time": "2022-01-20T20:31:58.641173",
     "exception": false,
     "start_time": "2022-01-20T20:31:58.580306",
     "status": "completed"
    },
    "tags": []
   },
   "outputs": [
    {
     "name": "stdout",
     "output_type": "stream",
     "text": [
      "Accuracy on Training Data:  0.9466327827191868\n",
      "Accuracy on Test Data:  0.9289340101522843\n"
     ]
    }
   ],
   "source": [
    "print('Accuracy on Training Data: ',training_data_accuracy)\n",
    "print('Accuracy on Test Data: ',test_data_accuracy)"
   ]
  },
  {
   "cell_type": "markdown",
   "id": "91cfdfe6",
   "metadata": {
    "papermill": {
     "duration": 0.053191,
     "end_time": "2022-01-20T20:31:58.747009",
     "exception": false,
     "start_time": "2022-01-20T20:31:58.693818",
     "status": "completed"
    },
    "tags": []
   },
   "source": [
    "**Finding:**\n",
    "\n",
    "* Accuracy on train dataset is above 90% which is considered fairly good.\n",
    "* Accuracy on test dataset is above 90% which is considered fairly good."
   ]
  },
  {
   "cell_type": "markdown",
   "id": "f24e7888",
   "metadata": {
    "papermill": {
     "duration": 0.053221,
     "end_time": "2022-01-20T20:31:58.852716",
     "exception": false,
     "start_time": "2022-01-20T20:31:58.799495",
     "status": "completed"
    },
    "tags": []
   },
   "source": [
    "## **Drawbacks:**\n",
    "\n",
    "* We loose information by dropping out the data\n",
    "* Metric of accuracy is not convincing for the imbalanced problem\n",
    "* Model is not fine tuned"
   ]
  },
  {
   "cell_type": "code",
   "execution_count": 30,
   "id": "ddfec513",
   "metadata": {
    "execution": {
     "iopub.execute_input": "2022-01-20T20:31:58.966155Z",
     "iopub.status.busy": "2022-01-20T20:31:58.965313Z",
     "iopub.status.idle": "2022-01-20T20:35:22.992086Z",
     "shell.execute_reply": "2022-01-20T20:35:22.992656Z",
     "shell.execute_reply.started": "2022-01-20T20:14:40.824017Z"
    },
    "papermill": {
     "duration": 204.087523,
     "end_time": "2022-01-20T20:35:22.992830",
     "exception": false,
     "start_time": "2022-01-20T20:31:58.905307",
     "status": "completed"
    },
    "tags": []
   },
   "outputs": [
    {
     "name": "stderr",
     "output_type": "stream",
     "text": [
      "/opt/conda/lib/python3.7/site-packages/xgboost/sklearn.py:1224: UserWarning: The use of label encoder in XGBClassifier is deprecated and will be removed in a future release. To remove this warning, do the following: 1) Pass option use_label_encoder=False when constructing XGBClassifier object; and 2) Encode your labels (y) as integers starting with 0, i.e. 0, 1, 2, ..., [num_class - 1].\n",
      "  warnings.warn(label_encoder_deprecation_msg, UserWarning)\n"
     ]
    },
    {
     "name": "stdout",
     "output_type": "stream",
     "text": [
      "[20:32:00] WARNING: ../src/learner.cc:1115: Starting in XGBoost 1.3.0, the default evaluation metric used with the objective 'binary:logistic' was changed from 'error' to 'logloss'. Explicitly set eval_metric if you'd like to restore the old behavior.\n"
     ]
    },
    {
     "data": {
      "text/plain": [
       "XGBClassifier(alpha=10, base_score=0.5, booster='gbtree', colsample_bylevel=1,\n",
       "              colsample_bynode=1, colsample_bytree=1, enable_categorical=False,\n",
       "              gamma=0, gpu_id=-1, importance_type=None,\n",
       "              interaction_constraints='', learning_rate=0.1, max_delta_step=0,\n",
       "              max_depth=8, min_child_weight=1, missing=nan,\n",
       "              monotone_constraints='()', n_estimators=1000, n_jobs=4,\n",
       "              num_parallel_tree=1, predictor='auto', random_state=0,\n",
       "              reg_alpha=10, reg_lambda=1, scale_pos_weight=1, subsample=1,\n",
       "              tree_method='exact', validate_parameters=1, verbosity=None)"
      ]
     },
     "execution_count": 30,
     "metadata": {},
     "output_type": "execute_result"
    }
   ],
   "source": [
    "from xgboost import XGBClassifier\n",
    "params = {\n",
    "            'objective':'binary:logistic',\n",
    "            'max_depth': 8,\n",
    "            'alpha': 10,\n",
    "            'learning_rate': 0.1,\n",
    "            'n_estimators':1000\n",
    "        }         \n",
    "\n",
    "# instantiate the classifier \n",
    "xgb_clf = XGBClassifier(**params)\n",
    "X = credit_card_data.drop(columns=['Class', 'Time'],axis=1) # Features\n",
    "Y = credit_card_data['Class'] # Target\n",
    "X_train,X_test,Y_train,Y_test = train_test_split(X, Y, test_size=0.2, stratify=Y, random_state=2)\n",
    "# fit the classifier to the training data\n",
    "xgb_clf.fit(X_train, Y_train)"
   ]
  },
  {
   "cell_type": "code",
   "execution_count": 31,
   "id": "21bd5a95",
   "metadata": {
    "execution": {
     "iopub.execute_input": "2022-01-20T20:35:23.110508Z",
     "iopub.status.busy": "2022-01-20T20:35:23.109732Z",
     "iopub.status.idle": "2022-01-20T20:35:23.252784Z",
     "shell.execute_reply": "2022-01-20T20:35:23.252141Z",
     "shell.execute_reply.started": "2022-01-20T20:28:13.776842Z"
    },
    "papermill": {
     "duration": 0.206489,
     "end_time": "2022-01-20T20:35:23.252944",
     "exception": false,
     "start_time": "2022-01-20T20:35:23.046455",
     "status": "completed"
    },
    "tags": []
   },
   "outputs": [],
   "source": [
    "# Accuracy on test data\n",
    "X_test_prediction = xgb_clf.predict(X_test)"
   ]
  },
  {
   "cell_type": "code",
   "execution_count": 32,
   "id": "6b0ccdf8",
   "metadata": {
    "execution": {
     "iopub.execute_input": "2022-01-20T20:35:23.366815Z",
     "iopub.status.busy": "2022-01-20T20:35:23.366165Z",
     "iopub.status.idle": "2022-01-20T20:35:23.428886Z",
     "shell.execute_reply": "2022-01-20T20:35:23.429382Z",
     "shell.execute_reply.started": "2022-01-20T20:30:32.220069Z"
    },
    "papermill": {
     "duration": 0.121527,
     "end_time": "2022-01-20T20:35:23.429554",
     "exception": false,
     "start_time": "2022-01-20T20:35:23.308027",
     "status": "completed"
    },
    "tags": []
   },
   "outputs": [
    {
     "data": {
      "text/plain": [
       "{'0': {'precision': 0.9997010883899214,\n",
       "  'recall': 0.9998593134496342,\n",
       "  'f1-score': 0.9997801946596095,\n",
       "  'support': 56864},\n",
       " '1': {'precision': 0.9101123595505618,\n",
       "  'recall': 0.826530612244898,\n",
       "  'f1-score': 0.8663101604278074,\n",
       "  'support': 98},\n",
       " 'accuracy': 0.9995611109160493,\n",
       " 'macro avg': {'precision': 0.9549067239702416,\n",
       "  'recall': 0.9131949628472661,\n",
       "  'f1-score': 0.9330451775437085,\n",
       "  'support': 56962},\n",
       " 'weighted avg': {'precision': 0.9995469558906016,\n",
       "  'recall': 0.9995611109160493,\n",
       "  'f1-score': 0.9995505667786588,\n",
       "  'support': 56962}}"
      ]
     },
     "execution_count": 32,
     "metadata": {},
     "output_type": "execute_result"
    }
   ],
   "source": [
    "classification_report(Y_test, X_test_prediction, output_dict=True)"
   ]
  },
  {
   "cell_type": "code",
   "execution_count": null,
   "id": "75e43fab",
   "metadata": {
    "papermill": {
     "duration": 0.053571,
     "end_time": "2022-01-20T20:35:23.536936",
     "exception": false,
     "start_time": "2022-01-20T20:35:23.483365",
     "status": "completed"
    },
    "tags": []
   },
   "outputs": [],
   "source": []
  }
 ],
 "metadata": {
  "kernelspec": {
   "display_name": "Python 3",
   "language": "python",
   "name": "python3"
  },
  "language_info": {
   "codemirror_mode": {
    "name": "ipython",
    "version": 3
   },
   "file_extension": ".py",
   "mimetype": "text/x-python",
   "name": "python",
   "nbconvert_exporter": "python",
   "pygments_lexer": "ipython3",
   "version": "3.7.12"
  },
  "papermill": {
   "default_parameters": {},
   "duration": 228.458715,
   "end_time": "2022-01-20T20:35:24.302550",
   "environment_variables": {},
   "exception": null,
   "input_path": "__notebook__.ipynb",
   "output_path": "__notebook__.ipynb",
   "parameters": {},
   "start_time": "2022-01-20T20:31:35.843835",
   "version": "2.3.3"
  }
 },
 "nbformat": 4,
 "nbformat_minor": 5
}
