{
  "nbformat": 4,
  "nbformat_minor": 0,
  "metadata": {
    "colab": {
      "provenance": []
    },
    "kernelspec": {
      "name": "python3",
      "display_name": "Python 3"
    },
    "language_info": {
      "name": "python"
    }
  },
  "cells": [
    {
      "cell_type": "code",
      "metadata": {
        "id": "8WLdU59yCSay"
      },
      "source": [
        "import pandas as pd"
      ],
      "execution_count": 1,
      "outputs": []
    },
    {
      "cell_type": "code",
      "metadata": {
        "id": "QJbZ1wQRBmJ-"
      },
      "source": [
        "df = pd.read_csv('heart.csv')\n"
      ],
      "execution_count": 2,
      "outputs": []
    },
    {
      "cell_type": "markdown",
      "source": [
        "1.- age\n",
        "\n",
        "2.- sex\n",
        "\n",
        "3.- chest pain type (4 values)\n",
        "\n",
        "4.- resting blood pressure\n",
        "\n",
        "5.- serum cholestoral in mg/dl\n",
        "\n",
        "6.- fasting blood sugar > 120 mg/dl\n",
        "\n",
        "7.- resting electrocardiographic results (values 0,1,2)\n",
        "\n",
        "8.- maximum heart rate achieved\n",
        "\n",
        "9.- exercise induced angina\n",
        "\n",
        "10.- oldpeak = ST depression induced by exercise relative to rest\n",
        "\n",
        "11.- the slope of the peak exercise ST segment\n",
        "\n",
        "12.- number of major vessels (0-3) colored by flourosopy\n",
        "\n",
        "13.- thal: 0 = normal; 1 = fixed defect; 2 = reversable defect"
      ],
      "metadata": {
        "id": "-gDihtcGB6gF"
      }
    },
    {
      "cell_type": "code",
      "metadata": {
        "colab": {
          "base_uri": "https://localhost:8080/",
          "height": 206
        },
        "id": "7jjHTotvBoxu",
        "outputId": "e03ff65d-99e4-4c30-cce8-3c0838cc1d00"
      },
      "source": [
        "df.head()"
      ],
      "execution_count": 112,
      "outputs": [
        {
          "output_type": "execute_result",
          "data": {
            "text/plain": [
              "   age  sex  cp  trestbps  chol  fbs  restecg  thalach  exang  oldpeak  slope  \\\n",
              "0   63    1   3       145   233    1        0      150      0      2.3      0   \n",
              "1   37    1   2       130   250    0        1      187      0      3.5      0   \n",
              "2   41    0   1       130   204    0        0      172      0      1.4      2   \n",
              "3   56    1   1       120   236    0        1      178      0      0.8      2   \n",
              "4   57    0   0       120   354    0        1      163      1      0.6      2   \n",
              "\n",
              "   ca  thal  target  \n",
              "0   0     1       1  \n",
              "1   0     2       1  \n",
              "2   0     2       1  \n",
              "3   0     2       1  \n",
              "4   0     2       1  "
            ],
            "text/html": [
              "\n",
              "  <div id=\"df-d902fc8b-78c3-44fd-8a3f-05353b503c08\" class=\"colab-df-container\">\n",
              "    <div>\n",
              "<style scoped>\n",
              "    .dataframe tbody tr th:only-of-type {\n",
              "        vertical-align: middle;\n",
              "    }\n",
              "\n",
              "    .dataframe tbody tr th {\n",
              "        vertical-align: top;\n",
              "    }\n",
              "\n",
              "    .dataframe thead th {\n",
              "        text-align: right;\n",
              "    }\n",
              "</style>\n",
              "<table border=\"1\" class=\"dataframe\">\n",
              "  <thead>\n",
              "    <tr style=\"text-align: right;\">\n",
              "      <th></th>\n",
              "      <th>age</th>\n",
              "      <th>sex</th>\n",
              "      <th>cp</th>\n",
              "      <th>trestbps</th>\n",
              "      <th>chol</th>\n",
              "      <th>fbs</th>\n",
              "      <th>restecg</th>\n",
              "      <th>thalach</th>\n",
              "      <th>exang</th>\n",
              "      <th>oldpeak</th>\n",
              "      <th>slope</th>\n",
              "      <th>ca</th>\n",
              "      <th>thal</th>\n",
              "      <th>target</th>\n",
              "    </tr>\n",
              "  </thead>\n",
              "  <tbody>\n",
              "    <tr>\n",
              "      <th>0</th>\n",
              "      <td>63</td>\n",
              "      <td>1</td>\n",
              "      <td>3</td>\n",
              "      <td>145</td>\n",
              "      <td>233</td>\n",
              "      <td>1</td>\n",
              "      <td>0</td>\n",
              "      <td>150</td>\n",
              "      <td>0</td>\n",
              "      <td>2.3</td>\n",
              "      <td>0</td>\n",
              "      <td>0</td>\n",
              "      <td>1</td>\n",
              "      <td>1</td>\n",
              "    </tr>\n",
              "    <tr>\n",
              "      <th>1</th>\n",
              "      <td>37</td>\n",
              "      <td>1</td>\n",
              "      <td>2</td>\n",
              "      <td>130</td>\n",
              "      <td>250</td>\n",
              "      <td>0</td>\n",
              "      <td>1</td>\n",
              "      <td>187</td>\n",
              "      <td>0</td>\n",
              "      <td>3.5</td>\n",
              "      <td>0</td>\n",
              "      <td>0</td>\n",
              "      <td>2</td>\n",
              "      <td>1</td>\n",
              "    </tr>\n",
              "    <tr>\n",
              "      <th>2</th>\n",
              "      <td>41</td>\n",
              "      <td>0</td>\n",
              "      <td>1</td>\n",
              "      <td>130</td>\n",
              "      <td>204</td>\n",
              "      <td>0</td>\n",
              "      <td>0</td>\n",
              "      <td>172</td>\n",
              "      <td>0</td>\n",
              "      <td>1.4</td>\n",
              "      <td>2</td>\n",
              "      <td>0</td>\n",
              "      <td>2</td>\n",
              "      <td>1</td>\n",
              "    </tr>\n",
              "    <tr>\n",
              "      <th>3</th>\n",
              "      <td>56</td>\n",
              "      <td>1</td>\n",
              "      <td>1</td>\n",
              "      <td>120</td>\n",
              "      <td>236</td>\n",
              "      <td>0</td>\n",
              "      <td>1</td>\n",
              "      <td>178</td>\n",
              "      <td>0</td>\n",
              "      <td>0.8</td>\n",
              "      <td>2</td>\n",
              "      <td>0</td>\n",
              "      <td>2</td>\n",
              "      <td>1</td>\n",
              "    </tr>\n",
              "    <tr>\n",
              "      <th>4</th>\n",
              "      <td>57</td>\n",
              "      <td>0</td>\n",
              "      <td>0</td>\n",
              "      <td>120</td>\n",
              "      <td>354</td>\n",
              "      <td>0</td>\n",
              "      <td>1</td>\n",
              "      <td>163</td>\n",
              "      <td>1</td>\n",
              "      <td>0.6</td>\n",
              "      <td>2</td>\n",
              "      <td>0</td>\n",
              "      <td>2</td>\n",
              "      <td>1</td>\n",
              "    </tr>\n",
              "  </tbody>\n",
              "</table>\n",
              "</div>\n",
              "    <div class=\"colab-df-buttons\">\n",
              "\n",
              "  <div class=\"colab-df-container\">\n",
              "    <button class=\"colab-df-convert\" onclick=\"convertToInteractive('df-d902fc8b-78c3-44fd-8a3f-05353b503c08')\"\n",
              "            title=\"Convert this dataframe to an interactive table.\"\n",
              "            style=\"display:none;\">\n",
              "\n",
              "  <svg xmlns=\"http://www.w3.org/2000/svg\" height=\"24px\" viewBox=\"0 -960 960 960\">\n",
              "    <path d=\"M120-120v-720h720v720H120Zm60-500h600v-160H180v160Zm220 220h160v-160H400v160Zm0 220h160v-160H400v160ZM180-400h160v-160H180v160Zm440 0h160v-160H620v160ZM180-180h160v-160H180v160Zm440 0h160v-160H620v160Z\"/>\n",
              "  </svg>\n",
              "    </button>\n",
              "\n",
              "  <style>\n",
              "    .colab-df-container {\n",
              "      display:flex;\n",
              "      gap: 12px;\n",
              "    }\n",
              "\n",
              "    .colab-df-convert {\n",
              "      background-color: #E8F0FE;\n",
              "      border: none;\n",
              "      border-radius: 50%;\n",
              "      cursor: pointer;\n",
              "      display: none;\n",
              "      fill: #1967D2;\n",
              "      height: 32px;\n",
              "      padding: 0 0 0 0;\n",
              "      width: 32px;\n",
              "    }\n",
              "\n",
              "    .colab-df-convert:hover {\n",
              "      background-color: #E2EBFA;\n",
              "      box-shadow: 0px 1px 2px rgba(60, 64, 67, 0.3), 0px 1px 3px 1px rgba(60, 64, 67, 0.15);\n",
              "      fill: #174EA6;\n",
              "    }\n",
              "\n",
              "    .colab-df-buttons div {\n",
              "      margin-bottom: 4px;\n",
              "    }\n",
              "\n",
              "    [theme=dark] .colab-df-convert {\n",
              "      background-color: #3B4455;\n",
              "      fill: #D2E3FC;\n",
              "    }\n",
              "\n",
              "    [theme=dark] .colab-df-convert:hover {\n",
              "      background-color: #434B5C;\n",
              "      box-shadow: 0px 1px 3px 1px rgba(0, 0, 0, 0.15);\n",
              "      filter: drop-shadow(0px 1px 2px rgba(0, 0, 0, 0.3));\n",
              "      fill: #FFFFFF;\n",
              "    }\n",
              "  </style>\n",
              "\n",
              "    <script>\n",
              "      const buttonEl =\n",
              "        document.querySelector('#df-d902fc8b-78c3-44fd-8a3f-05353b503c08 button.colab-df-convert');\n",
              "      buttonEl.style.display =\n",
              "        google.colab.kernel.accessAllowed ? 'block' : 'none';\n",
              "\n",
              "      async function convertToInteractive(key) {\n",
              "        const element = document.querySelector('#df-d902fc8b-78c3-44fd-8a3f-05353b503c08');\n",
              "        const dataTable =\n",
              "          await google.colab.kernel.invokeFunction('convertToInteractive',\n",
              "                                                    [key], {});\n",
              "        if (!dataTable) return;\n",
              "\n",
              "        const docLinkHtml = 'Like what you see? Visit the ' +\n",
              "          '<a target=\"_blank\" href=https://colab.research.google.com/notebooks/data_table.ipynb>data table notebook</a>'\n",
              "          + ' to learn more about interactive tables.';\n",
              "        element.innerHTML = '';\n",
              "        dataTable['output_type'] = 'display_data';\n",
              "        await google.colab.output.renderOutput(dataTable, element);\n",
              "        const docLink = document.createElement('div');\n",
              "        docLink.innerHTML = docLinkHtml;\n",
              "        element.appendChild(docLink);\n",
              "      }\n",
              "    </script>\n",
              "  </div>\n",
              "\n",
              "\n",
              "<div id=\"df-647bae3f-8441-47b1-898c-4f6f1f1f082b\">\n",
              "  <button class=\"colab-df-quickchart\" onclick=\"quickchart('df-647bae3f-8441-47b1-898c-4f6f1f1f082b')\"\n",
              "            title=\"Suggest charts\"\n",
              "            style=\"display:none;\">\n",
              "\n",
              "<svg xmlns=\"http://www.w3.org/2000/svg\" height=\"24px\"viewBox=\"0 0 24 24\"\n",
              "     width=\"24px\">\n",
              "    <g>\n",
              "        <path d=\"M19 3H5c-1.1 0-2 .9-2 2v14c0 1.1.9 2 2 2h14c1.1 0 2-.9 2-2V5c0-1.1-.9-2-2-2zM9 17H7v-7h2v7zm4 0h-2V7h2v10zm4 0h-2v-4h2v4z\"/>\n",
              "    </g>\n",
              "</svg>\n",
              "  </button>\n",
              "\n",
              "<style>\n",
              "  .colab-df-quickchart {\n",
              "      --bg-color: #E8F0FE;\n",
              "      --fill-color: #1967D2;\n",
              "      --hover-bg-color: #E2EBFA;\n",
              "      --hover-fill-color: #174EA6;\n",
              "      --disabled-fill-color: #AAA;\n",
              "      --disabled-bg-color: #DDD;\n",
              "  }\n",
              "\n",
              "  [theme=dark] .colab-df-quickchart {\n",
              "      --bg-color: #3B4455;\n",
              "      --fill-color: #D2E3FC;\n",
              "      --hover-bg-color: #434B5C;\n",
              "      --hover-fill-color: #FFFFFF;\n",
              "      --disabled-bg-color: #3B4455;\n",
              "      --disabled-fill-color: #666;\n",
              "  }\n",
              "\n",
              "  .colab-df-quickchart {\n",
              "    background-color: var(--bg-color);\n",
              "    border: none;\n",
              "    border-radius: 50%;\n",
              "    cursor: pointer;\n",
              "    display: none;\n",
              "    fill: var(--fill-color);\n",
              "    height: 32px;\n",
              "    padding: 0;\n",
              "    width: 32px;\n",
              "  }\n",
              "\n",
              "  .colab-df-quickchart:hover {\n",
              "    background-color: var(--hover-bg-color);\n",
              "    box-shadow: 0 1px 2px rgba(60, 64, 67, 0.3), 0 1px 3px 1px rgba(60, 64, 67, 0.15);\n",
              "    fill: var(--button-hover-fill-color);\n",
              "  }\n",
              "\n",
              "  .colab-df-quickchart-complete:disabled,\n",
              "  .colab-df-quickchart-complete:disabled:hover {\n",
              "    background-color: var(--disabled-bg-color);\n",
              "    fill: var(--disabled-fill-color);\n",
              "    box-shadow: none;\n",
              "  }\n",
              "\n",
              "  .colab-df-spinner {\n",
              "    border: 2px solid var(--fill-color);\n",
              "    border-color: transparent;\n",
              "    border-bottom-color: var(--fill-color);\n",
              "    animation:\n",
              "      spin 1s steps(1) infinite;\n",
              "  }\n",
              "\n",
              "  @keyframes spin {\n",
              "    0% {\n",
              "      border-color: transparent;\n",
              "      border-bottom-color: var(--fill-color);\n",
              "      border-left-color: var(--fill-color);\n",
              "    }\n",
              "    20% {\n",
              "      border-color: transparent;\n",
              "      border-left-color: var(--fill-color);\n",
              "      border-top-color: var(--fill-color);\n",
              "    }\n",
              "    30% {\n",
              "      border-color: transparent;\n",
              "      border-left-color: var(--fill-color);\n",
              "      border-top-color: var(--fill-color);\n",
              "      border-right-color: var(--fill-color);\n",
              "    }\n",
              "    40% {\n",
              "      border-color: transparent;\n",
              "      border-right-color: var(--fill-color);\n",
              "      border-top-color: var(--fill-color);\n",
              "    }\n",
              "    60% {\n",
              "      border-color: transparent;\n",
              "      border-right-color: var(--fill-color);\n",
              "    }\n",
              "    80% {\n",
              "      border-color: transparent;\n",
              "      border-right-color: var(--fill-color);\n",
              "      border-bottom-color: var(--fill-color);\n",
              "    }\n",
              "    90% {\n",
              "      border-color: transparent;\n",
              "      border-bottom-color: var(--fill-color);\n",
              "    }\n",
              "  }\n",
              "</style>\n",
              "\n",
              "  <script>\n",
              "    async function quickchart(key) {\n",
              "      const quickchartButtonEl =\n",
              "        document.querySelector('#' + key + ' button');\n",
              "      quickchartButtonEl.disabled = true;  // To prevent multiple clicks.\n",
              "      quickchartButtonEl.classList.add('colab-df-spinner');\n",
              "      try {\n",
              "        const charts = await google.colab.kernel.invokeFunction(\n",
              "            'suggestCharts', [key], {});\n",
              "      } catch (error) {\n",
              "        console.error('Error during call to suggestCharts:', error);\n",
              "      }\n",
              "      quickchartButtonEl.classList.remove('colab-df-spinner');\n",
              "      quickchartButtonEl.classList.add('colab-df-quickchart-complete');\n",
              "    }\n",
              "    (() => {\n",
              "      let quickchartButtonEl =\n",
              "        document.querySelector('#df-647bae3f-8441-47b1-898c-4f6f1f1f082b button');\n",
              "      quickchartButtonEl.style.display =\n",
              "        google.colab.kernel.accessAllowed ? 'block' : 'none';\n",
              "    })();\n",
              "  </script>\n",
              "</div>\n",
              "    </div>\n",
              "  </div>\n"
            ]
          },
          "metadata": {},
          "execution_count": 112
        }
      ]
    },
    {
      "cell_type": "code",
      "source": [
        "df.target.unique()"
      ],
      "metadata": {
        "colab": {
          "base_uri": "https://localhost:8080/"
        },
        "id": "hDxHCiCfQwjD",
        "outputId": "f6a0bedb-b6a1-470c-dd09-22d569af2ed5"
      },
      "execution_count": 113,
      "outputs": [
        {
          "output_type": "execute_result",
          "data": {
            "text/plain": [
              "array([1, 0])"
            ]
          },
          "metadata": {},
          "execution_count": 113
        }
      ]
    },
    {
      "cell_type": "markdown",
      "source": [
        "# **REGRESIÓN LOGÍSTICA**"
      ],
      "metadata": {
        "id": "PTxFtj54Tq5l"
      }
    },
    {
      "cell_type": "markdown",
      "metadata": {
        "id": "0uJtM_ac-K7F"
      },
      "source": [
        "##  **PREGUNTA 1:** En caso de aplicar un modelo lineal, ¿qué deberíamos emplear, regresión lineal o logística?"
      ]
    },
    {
      "cell_type": "markdown",
      "source": [
        "### **Opción 1**"
      ],
      "metadata": {
        "id": "G1fAmF6p1mkZ"
      }
    },
    {
      "cell_type": "code",
      "metadata": {
        "id": "c9SMkfBGgPa4"
      },
      "source": [
        "y = df['target']\n",
        "X = df.drop(['target'],axis = 1)"
      ],
      "execution_count": 3,
      "outputs": []
    },
    {
      "cell_type": "markdown",
      "metadata": {
        "id": "f4YMwLkC_y3j"
      },
      "source": [
        "Estandarizamos"
      ]
    },
    {
      "cell_type": "code",
      "metadata": {
        "id": "LE7bATVw_GEb"
      },
      "source": [
        "from sklearn import preprocessing\n",
        "scaler = preprocessing.StandardScaler().fit(X)\n",
        "X_scaled = scaler.transform(X)"
      ],
      "execution_count": 11,
      "outputs": []
    },
    {
      "cell_type": "markdown",
      "metadata": {
        "id": "Ojo8SGou-XNR"
      },
      "source": [
        "*Aplica un método lineal*"
      ]
    },
    {
      "cell_type": "code",
      "metadata": {
        "id": "r6xxCYaChHXw"
      },
      "source": [
        "from sklearn.model_selection import train_test_split\n",
        "from sklearn.linear_model import LogisticRegression\n",
        "from sklearn.metrics import accuracy_score\n"
      ],
      "execution_count": 12,
      "outputs": []
    },
    {
      "cell_type": "code",
      "metadata": {
        "id": "V7Syf07qgvn6"
      },
      "source": [
        "X_train_logistic, X_test_logistic, y_train_logistic, y_test_logistic = train_test_split(X_scaled, y, train_size=0.7)\n"
      ],
      "execution_count": 13,
      "outputs": []
    },
    {
      "cell_type": "code",
      "metadata": {
        "colab": {
          "base_uri": "https://localhost:8080/",
          "height": 75
        },
        "id": "YTCcUTi7CKp6",
        "outputId": "a49bffd7-b96a-4988-b495-b666980f80d6"
      },
      "source": [
        "modelo = LogisticRegression()\n",
        "modelo.fit(X = X_train_logistic, y = y_train_logistic)"
      ],
      "execution_count": 118,
      "outputs": [
        {
          "output_type": "execute_result",
          "data": {
            "text/plain": [
              "LogisticRegression()"
            ],
            "text/html": [
              "<style>#sk-container-id-12 {color: black;background-color: white;}#sk-container-id-12 pre{padding: 0;}#sk-container-id-12 div.sk-toggleable {background-color: white;}#sk-container-id-12 label.sk-toggleable__label {cursor: pointer;display: block;width: 100%;margin-bottom: 0;padding: 0.3em;box-sizing: border-box;text-align: center;}#sk-container-id-12 label.sk-toggleable__label-arrow:before {content: \"▸\";float: left;margin-right: 0.25em;color: #696969;}#sk-container-id-12 label.sk-toggleable__label-arrow:hover:before {color: black;}#sk-container-id-12 div.sk-estimator:hover label.sk-toggleable__label-arrow:before {color: black;}#sk-container-id-12 div.sk-toggleable__content {max-height: 0;max-width: 0;overflow: hidden;text-align: left;background-color: #f0f8ff;}#sk-container-id-12 div.sk-toggleable__content pre {margin: 0.2em;color: black;border-radius: 0.25em;background-color: #f0f8ff;}#sk-container-id-12 input.sk-toggleable__control:checked~div.sk-toggleable__content {max-height: 200px;max-width: 100%;overflow: auto;}#sk-container-id-12 input.sk-toggleable__control:checked~label.sk-toggleable__label-arrow:before {content: \"▾\";}#sk-container-id-12 div.sk-estimator input.sk-toggleable__control:checked~label.sk-toggleable__label {background-color: #d4ebff;}#sk-container-id-12 div.sk-label input.sk-toggleable__control:checked~label.sk-toggleable__label {background-color: #d4ebff;}#sk-container-id-12 input.sk-hidden--visually {border: 0;clip: rect(1px 1px 1px 1px);clip: rect(1px, 1px, 1px, 1px);height: 1px;margin: -1px;overflow: hidden;padding: 0;position: absolute;width: 1px;}#sk-container-id-12 div.sk-estimator {font-family: monospace;background-color: #f0f8ff;border: 1px dotted black;border-radius: 0.25em;box-sizing: border-box;margin-bottom: 0.5em;}#sk-container-id-12 div.sk-estimator:hover {background-color: #d4ebff;}#sk-container-id-12 div.sk-parallel-item::after {content: \"\";width: 100%;border-bottom: 1px solid gray;flex-grow: 1;}#sk-container-id-12 div.sk-label:hover label.sk-toggleable__label {background-color: #d4ebff;}#sk-container-id-12 div.sk-serial::before {content: \"\";position: absolute;border-left: 1px solid gray;box-sizing: border-box;top: 0;bottom: 0;left: 50%;z-index: 0;}#sk-container-id-12 div.sk-serial {display: flex;flex-direction: column;align-items: center;background-color: white;padding-right: 0.2em;padding-left: 0.2em;position: relative;}#sk-container-id-12 div.sk-item {position: relative;z-index: 1;}#sk-container-id-12 div.sk-parallel {display: flex;align-items: stretch;justify-content: center;background-color: white;position: relative;}#sk-container-id-12 div.sk-item::before, #sk-container-id-12 div.sk-parallel-item::before {content: \"\";position: absolute;border-left: 1px solid gray;box-sizing: border-box;top: 0;bottom: 0;left: 50%;z-index: -1;}#sk-container-id-12 div.sk-parallel-item {display: flex;flex-direction: column;z-index: 1;position: relative;background-color: white;}#sk-container-id-12 div.sk-parallel-item:first-child::after {align-self: flex-end;width: 50%;}#sk-container-id-12 div.sk-parallel-item:last-child::after {align-self: flex-start;width: 50%;}#sk-container-id-12 div.sk-parallel-item:only-child::after {width: 0;}#sk-container-id-12 div.sk-dashed-wrapped {border: 1px dashed gray;margin: 0 0.4em 0.5em 0.4em;box-sizing: border-box;padding-bottom: 0.4em;background-color: white;}#sk-container-id-12 div.sk-label label {font-family: monospace;font-weight: bold;display: inline-block;line-height: 1.2em;}#sk-container-id-12 div.sk-label-container {text-align: center;}#sk-container-id-12 div.sk-container {/* jupyter's `normalize.less` sets `[hidden] { display: none; }` but bootstrap.min.css set `[hidden] { display: none !important; }` so we also need the `!important` here to be able to override the default hidden behavior on the sphinx rendered scikit-learn.org. See: https://github.com/scikit-learn/scikit-learn/issues/21755 */display: inline-block !important;position: relative;}#sk-container-id-12 div.sk-text-repr-fallback {display: none;}</style><div id=\"sk-container-id-12\" class=\"sk-top-container\"><div class=\"sk-text-repr-fallback\"><pre>LogisticRegression()</pre><b>In a Jupyter environment, please rerun this cell to show the HTML representation or trust the notebook. <br />On GitHub, the HTML representation is unable to render, please try loading this page with nbviewer.org.</b></div><div class=\"sk-container\" hidden><div class=\"sk-item\"><div class=\"sk-estimator sk-toggleable\"><input class=\"sk-toggleable__control sk-hidden--visually\" id=\"sk-estimator-id-28\" type=\"checkbox\" checked><label for=\"sk-estimator-id-28\" class=\"sk-toggleable__label sk-toggleable__label-arrow\">LogisticRegression</label><div class=\"sk-toggleable__content\"><pre>LogisticRegression()</pre></div></div></div></div></div>"
            ]
          },
          "metadata": {},
          "execution_count": 118
        }
      ]
    },
    {
      "cell_type": "code",
      "metadata": {
        "id": "xJV9GwYpI3BQ"
      },
      "source": [
        "y_pred_logistic = modelo.predict(X_test_logistic)"
      ],
      "execution_count": 119,
      "outputs": []
    },
    {
      "cell_type": "code",
      "source": [
        "y_pred_logistic"
      ],
      "metadata": {
        "colab": {
          "base_uri": "https://localhost:8080/"
        },
        "id": "ICdnD9zl0n2C",
        "outputId": "e9eb64cb-42ee-4c88-8e32-b2f20ad17056"
      },
      "execution_count": 120,
      "outputs": [
        {
          "output_type": "execute_result",
          "data": {
            "text/plain": [
              "array([1, 1, 1, 0, 1, 1, 1, 0, 0, 0, 0, 0, 0, 1, 1, 1, 1, 1, 1, 1, 0, 1,\n",
              "       0, 1, 1, 1, 1, 1, 1, 1, 1, 1, 0, 1, 0, 1, 1, 0, 0, 1, 1, 0, 1, 1,\n",
              "       0, 0, 1, 0, 1, 1, 0, 1, 1, 1, 1, 1, 0, 1, 1, 0, 0, 1, 0, 1, 1, 0,\n",
              "       1, 0, 1, 1, 1, 1, 1, 0, 1, 0, 1, 1, 0, 0, 1, 0, 1, 1, 0, 1, 0, 1,\n",
              "       1, 0, 1])"
            ]
          },
          "metadata": {},
          "execution_count": 120
        }
      ]
    },
    {
      "cell_type": "code",
      "source": [
        "y_pred_probabilidades = modelo.predict_proba(X = X_test_logistic)\n",
        "y_pred_probabilidades = pd.DataFrame(y_pred_probabilidades, columns = modelo.classes_)\n",
        "y_pred_probabilidades.head(5)"
      ],
      "metadata": {
        "colab": {
          "base_uri": "https://localhost:8080/",
          "height": 206
        },
        "id": "L54W9Ap0QnpJ",
        "outputId": "b6524d9a-f345-4121-b050-7a234e415bc9"
      },
      "execution_count": 121,
      "outputs": [
        {
          "output_type": "execute_result",
          "data": {
            "text/plain": [
              "          0         1\n",
              "0  0.014183  0.985817\n",
              "1  0.006266  0.993734\n",
              "2  0.356662  0.643338\n",
              "3  0.735176  0.264824\n",
              "4  0.044277  0.955723"
            ],
            "text/html": [
              "\n",
              "  <div id=\"df-8762cb9b-1ce6-4951-ba0a-31269b2b7012\" class=\"colab-df-container\">\n",
              "    <div>\n",
              "<style scoped>\n",
              "    .dataframe tbody tr th:only-of-type {\n",
              "        vertical-align: middle;\n",
              "    }\n",
              "\n",
              "    .dataframe tbody tr th {\n",
              "        vertical-align: top;\n",
              "    }\n",
              "\n",
              "    .dataframe thead th {\n",
              "        text-align: right;\n",
              "    }\n",
              "</style>\n",
              "<table border=\"1\" class=\"dataframe\">\n",
              "  <thead>\n",
              "    <tr style=\"text-align: right;\">\n",
              "      <th></th>\n",
              "      <th>0</th>\n",
              "      <th>1</th>\n",
              "    </tr>\n",
              "  </thead>\n",
              "  <tbody>\n",
              "    <tr>\n",
              "      <th>0</th>\n",
              "      <td>0.014183</td>\n",
              "      <td>0.985817</td>\n",
              "    </tr>\n",
              "    <tr>\n",
              "      <th>1</th>\n",
              "      <td>0.006266</td>\n",
              "      <td>0.993734</td>\n",
              "    </tr>\n",
              "    <tr>\n",
              "      <th>2</th>\n",
              "      <td>0.356662</td>\n",
              "      <td>0.643338</td>\n",
              "    </tr>\n",
              "    <tr>\n",
              "      <th>3</th>\n",
              "      <td>0.735176</td>\n",
              "      <td>0.264824</td>\n",
              "    </tr>\n",
              "    <tr>\n",
              "      <th>4</th>\n",
              "      <td>0.044277</td>\n",
              "      <td>0.955723</td>\n",
              "    </tr>\n",
              "  </tbody>\n",
              "</table>\n",
              "</div>\n",
              "    <div class=\"colab-df-buttons\">\n",
              "\n",
              "  <div class=\"colab-df-container\">\n",
              "    <button class=\"colab-df-convert\" onclick=\"convertToInteractive('df-8762cb9b-1ce6-4951-ba0a-31269b2b7012')\"\n",
              "            title=\"Convert this dataframe to an interactive table.\"\n",
              "            style=\"display:none;\">\n",
              "\n",
              "  <svg xmlns=\"http://www.w3.org/2000/svg\" height=\"24px\" viewBox=\"0 -960 960 960\">\n",
              "    <path d=\"M120-120v-720h720v720H120Zm60-500h600v-160H180v160Zm220 220h160v-160H400v160Zm0 220h160v-160H400v160ZM180-400h160v-160H180v160Zm440 0h160v-160H620v160ZM180-180h160v-160H180v160Zm440 0h160v-160H620v160Z\"/>\n",
              "  </svg>\n",
              "    </button>\n",
              "\n",
              "  <style>\n",
              "    .colab-df-container {\n",
              "      display:flex;\n",
              "      gap: 12px;\n",
              "    }\n",
              "\n",
              "    .colab-df-convert {\n",
              "      background-color: #E8F0FE;\n",
              "      border: none;\n",
              "      border-radius: 50%;\n",
              "      cursor: pointer;\n",
              "      display: none;\n",
              "      fill: #1967D2;\n",
              "      height: 32px;\n",
              "      padding: 0 0 0 0;\n",
              "      width: 32px;\n",
              "    }\n",
              "\n",
              "    .colab-df-convert:hover {\n",
              "      background-color: #E2EBFA;\n",
              "      box-shadow: 0px 1px 2px rgba(60, 64, 67, 0.3), 0px 1px 3px 1px rgba(60, 64, 67, 0.15);\n",
              "      fill: #174EA6;\n",
              "    }\n",
              "\n",
              "    .colab-df-buttons div {\n",
              "      margin-bottom: 4px;\n",
              "    }\n",
              "\n",
              "    [theme=dark] .colab-df-convert {\n",
              "      background-color: #3B4455;\n",
              "      fill: #D2E3FC;\n",
              "    }\n",
              "\n",
              "    [theme=dark] .colab-df-convert:hover {\n",
              "      background-color: #434B5C;\n",
              "      box-shadow: 0px 1px 3px 1px rgba(0, 0, 0, 0.15);\n",
              "      filter: drop-shadow(0px 1px 2px rgba(0, 0, 0, 0.3));\n",
              "      fill: #FFFFFF;\n",
              "    }\n",
              "  </style>\n",
              "\n",
              "    <script>\n",
              "      const buttonEl =\n",
              "        document.querySelector('#df-8762cb9b-1ce6-4951-ba0a-31269b2b7012 button.colab-df-convert');\n",
              "      buttonEl.style.display =\n",
              "        google.colab.kernel.accessAllowed ? 'block' : 'none';\n",
              "\n",
              "      async function convertToInteractive(key) {\n",
              "        const element = document.querySelector('#df-8762cb9b-1ce6-4951-ba0a-31269b2b7012');\n",
              "        const dataTable =\n",
              "          await google.colab.kernel.invokeFunction('convertToInteractive',\n",
              "                                                    [key], {});\n",
              "        if (!dataTable) return;\n",
              "\n",
              "        const docLinkHtml = 'Like what you see? Visit the ' +\n",
              "          '<a target=\"_blank\" href=https://colab.research.google.com/notebooks/data_table.ipynb>data table notebook</a>'\n",
              "          + ' to learn more about interactive tables.';\n",
              "        element.innerHTML = '';\n",
              "        dataTable['output_type'] = 'display_data';\n",
              "        await google.colab.output.renderOutput(dataTable, element);\n",
              "        const docLink = document.createElement('div');\n",
              "        docLink.innerHTML = docLinkHtml;\n",
              "        element.appendChild(docLink);\n",
              "      }\n",
              "    </script>\n",
              "  </div>\n",
              "\n",
              "\n",
              "<div id=\"df-ca330f66-c5a5-449f-be35-2c00934e4b9d\">\n",
              "  <button class=\"colab-df-quickchart\" onclick=\"quickchart('df-ca330f66-c5a5-449f-be35-2c00934e4b9d')\"\n",
              "            title=\"Suggest charts\"\n",
              "            style=\"display:none;\">\n",
              "\n",
              "<svg xmlns=\"http://www.w3.org/2000/svg\" height=\"24px\"viewBox=\"0 0 24 24\"\n",
              "     width=\"24px\">\n",
              "    <g>\n",
              "        <path d=\"M19 3H5c-1.1 0-2 .9-2 2v14c0 1.1.9 2 2 2h14c1.1 0 2-.9 2-2V5c0-1.1-.9-2-2-2zM9 17H7v-7h2v7zm4 0h-2V7h2v10zm4 0h-2v-4h2v4z\"/>\n",
              "    </g>\n",
              "</svg>\n",
              "  </button>\n",
              "\n",
              "<style>\n",
              "  .colab-df-quickchart {\n",
              "      --bg-color: #E8F0FE;\n",
              "      --fill-color: #1967D2;\n",
              "      --hover-bg-color: #E2EBFA;\n",
              "      --hover-fill-color: #174EA6;\n",
              "      --disabled-fill-color: #AAA;\n",
              "      --disabled-bg-color: #DDD;\n",
              "  }\n",
              "\n",
              "  [theme=dark] .colab-df-quickchart {\n",
              "      --bg-color: #3B4455;\n",
              "      --fill-color: #D2E3FC;\n",
              "      --hover-bg-color: #434B5C;\n",
              "      --hover-fill-color: #FFFFFF;\n",
              "      --disabled-bg-color: #3B4455;\n",
              "      --disabled-fill-color: #666;\n",
              "  }\n",
              "\n",
              "  .colab-df-quickchart {\n",
              "    background-color: var(--bg-color);\n",
              "    border: none;\n",
              "    border-radius: 50%;\n",
              "    cursor: pointer;\n",
              "    display: none;\n",
              "    fill: var(--fill-color);\n",
              "    height: 32px;\n",
              "    padding: 0;\n",
              "    width: 32px;\n",
              "  }\n",
              "\n",
              "  .colab-df-quickchart:hover {\n",
              "    background-color: var(--hover-bg-color);\n",
              "    box-shadow: 0 1px 2px rgba(60, 64, 67, 0.3), 0 1px 3px 1px rgba(60, 64, 67, 0.15);\n",
              "    fill: var(--button-hover-fill-color);\n",
              "  }\n",
              "\n",
              "  .colab-df-quickchart-complete:disabled,\n",
              "  .colab-df-quickchart-complete:disabled:hover {\n",
              "    background-color: var(--disabled-bg-color);\n",
              "    fill: var(--disabled-fill-color);\n",
              "    box-shadow: none;\n",
              "  }\n",
              "\n",
              "  .colab-df-spinner {\n",
              "    border: 2px solid var(--fill-color);\n",
              "    border-color: transparent;\n",
              "    border-bottom-color: var(--fill-color);\n",
              "    animation:\n",
              "      spin 1s steps(1) infinite;\n",
              "  }\n",
              "\n",
              "  @keyframes spin {\n",
              "    0% {\n",
              "      border-color: transparent;\n",
              "      border-bottom-color: var(--fill-color);\n",
              "      border-left-color: var(--fill-color);\n",
              "    }\n",
              "    20% {\n",
              "      border-color: transparent;\n",
              "      border-left-color: var(--fill-color);\n",
              "      border-top-color: var(--fill-color);\n",
              "    }\n",
              "    30% {\n",
              "      border-color: transparent;\n",
              "      border-left-color: var(--fill-color);\n",
              "      border-top-color: var(--fill-color);\n",
              "      border-right-color: var(--fill-color);\n",
              "    }\n",
              "    40% {\n",
              "      border-color: transparent;\n",
              "      border-right-color: var(--fill-color);\n",
              "      border-top-color: var(--fill-color);\n",
              "    }\n",
              "    60% {\n",
              "      border-color: transparent;\n",
              "      border-right-color: var(--fill-color);\n",
              "    }\n",
              "    80% {\n",
              "      border-color: transparent;\n",
              "      border-right-color: var(--fill-color);\n",
              "      border-bottom-color: var(--fill-color);\n",
              "    }\n",
              "    90% {\n",
              "      border-color: transparent;\n",
              "      border-bottom-color: var(--fill-color);\n",
              "    }\n",
              "  }\n",
              "</style>\n",
              "\n",
              "  <script>\n",
              "    async function quickchart(key) {\n",
              "      const quickchartButtonEl =\n",
              "        document.querySelector('#' + key + ' button');\n",
              "      quickchartButtonEl.disabled = true;  // To prevent multiple clicks.\n",
              "      quickchartButtonEl.classList.add('colab-df-spinner');\n",
              "      try {\n",
              "        const charts = await google.colab.kernel.invokeFunction(\n",
              "            'suggestCharts', [key], {});\n",
              "      } catch (error) {\n",
              "        console.error('Error during call to suggestCharts:', error);\n",
              "      }\n",
              "      quickchartButtonEl.classList.remove('colab-df-spinner');\n",
              "      quickchartButtonEl.classList.add('colab-df-quickchart-complete');\n",
              "    }\n",
              "    (() => {\n",
              "      let quickchartButtonEl =\n",
              "        document.querySelector('#df-ca330f66-c5a5-449f-be35-2c00934e4b9d button');\n",
              "      quickchartButtonEl.style.display =\n",
              "        google.colab.kernel.accessAllowed ? 'block' : 'none';\n",
              "    })();\n",
              "  </script>\n",
              "</div>\n",
              "    </div>\n",
              "  </div>\n"
            ]
          },
          "metadata": {},
          "execution_count": 121
        }
      ]
    },
    {
      "cell_type": "code",
      "metadata": {
        "colab": {
          "base_uri": "https://localhost:8080/"
        },
        "id": "YbMeKmvy_5g1",
        "outputId": "b1302f86-f105-4994-8b3a-0346c8c77773"
      },
      "source": [
        "print(\"Intercept:\", modelo.intercept_)\n",
        "print(\"Coeficientes:\", list(zip(X.columns, modelo.coef_.flatten(), )))\n",
        "\n",
        "print(\"Accuracy:\", modelo.score(X_test_logistic, y_test_logistic))"
      ],
      "execution_count": 122,
      "outputs": [
        {
          "output_type": "stream",
          "name": "stdout",
          "text": [
            "Intercept: [0.23967994]\n",
            "Coeficientes: [('age', -0.0498012662645267), ('sex', -0.8026886020214866), ('cp', 0.8052916094530405), ('trestbps', -0.4130438333544616), ('chol', -0.228822244252048), ('fbs', 0.1966013200221223), ('restecg', 0.21622117817707864), ('thalach', 0.5074966901223652), ('exang', -0.43432222377835983), ('oldpeak', -0.2659992557849716), ('slope', 0.5478595977711346), ('ca', -0.7225590992301913), ('thal', -0.3441113024562918)]\n",
            "Accuracy: 0.8461538461538461\n"
          ]
        }
      ]
    },
    {
      "cell_type": "markdown",
      "source": [
        "### **Opción 2**"
      ],
      "metadata": {
        "id": "h1dwxIxo1qm3"
      }
    },
    {
      "cell_type": "code",
      "source": [
        "from sklearn.model_selection import train_test_split\n",
        "from sklearn.preprocessing import StandardScaler\n",
        "from sklearn.linear_model import LogisticRegression\n",
        "from sklearn.pipeline import Pipeline\n",
        "\n",
        "X = df.drop(['target'],axis = 1)\n",
        "y = df['target']\n",
        "\n",
        "X_train_pipe, X_test_pipe, y_train_pipe, y_test_pipe = train_test_split(X, y, train_size=0.7)\n",
        "\n",
        "# Pipeline se usa para encadenar múltiples estimadores en uno\n",
        "pipe = Pipeline([('scaler', StandardScaler()), ('logistic', LogisticRegression())])\n",
        "\n",
        "pipe.fit(X_train_pipe, y_train_pipe).score(X_test_pipe, y_test_pipe)"
      ],
      "metadata": {
        "colab": {
          "base_uri": "https://localhost:8080/"
        },
        "id": "Tbc8MgWr2euw",
        "outputId": "53acb19e-17a4-4a75-8bc8-03a7ad75e541"
      },
      "execution_count": 123,
      "outputs": [
        {
          "output_type": "execute_result",
          "data": {
            "text/plain": [
              "0.8021978021978022"
            ]
          },
          "metadata": {},
          "execution_count": 123
        }
      ]
    },
    {
      "cell_type": "code",
      "source": [
        "pipe"
      ],
      "metadata": {
        "colab": {
          "base_uri": "https://localhost:8080/",
          "height": 126
        },
        "id": "uBgspaoREoNE",
        "outputId": "092e7bf0-c2b1-432c-8896-022d429f4e3c"
      },
      "execution_count": 124,
      "outputs": [
        {
          "output_type": "execute_result",
          "data": {
            "text/plain": [
              "Pipeline(steps=[('scaler', StandardScaler()),\n",
              "                ('logistic', LogisticRegression())])"
            ],
            "text/html": [
              "<style>#sk-container-id-13 {color: black;background-color: white;}#sk-container-id-13 pre{padding: 0;}#sk-container-id-13 div.sk-toggleable {background-color: white;}#sk-container-id-13 label.sk-toggleable__label {cursor: pointer;display: block;width: 100%;margin-bottom: 0;padding: 0.3em;box-sizing: border-box;text-align: center;}#sk-container-id-13 label.sk-toggleable__label-arrow:before {content: \"▸\";float: left;margin-right: 0.25em;color: #696969;}#sk-container-id-13 label.sk-toggleable__label-arrow:hover:before {color: black;}#sk-container-id-13 div.sk-estimator:hover label.sk-toggleable__label-arrow:before {color: black;}#sk-container-id-13 div.sk-toggleable__content {max-height: 0;max-width: 0;overflow: hidden;text-align: left;background-color: #f0f8ff;}#sk-container-id-13 div.sk-toggleable__content pre {margin: 0.2em;color: black;border-radius: 0.25em;background-color: #f0f8ff;}#sk-container-id-13 input.sk-toggleable__control:checked~div.sk-toggleable__content {max-height: 200px;max-width: 100%;overflow: auto;}#sk-container-id-13 input.sk-toggleable__control:checked~label.sk-toggleable__label-arrow:before {content: \"▾\";}#sk-container-id-13 div.sk-estimator input.sk-toggleable__control:checked~label.sk-toggleable__label {background-color: #d4ebff;}#sk-container-id-13 div.sk-label input.sk-toggleable__control:checked~label.sk-toggleable__label {background-color: #d4ebff;}#sk-container-id-13 input.sk-hidden--visually {border: 0;clip: rect(1px 1px 1px 1px);clip: rect(1px, 1px, 1px, 1px);height: 1px;margin: -1px;overflow: hidden;padding: 0;position: absolute;width: 1px;}#sk-container-id-13 div.sk-estimator {font-family: monospace;background-color: #f0f8ff;border: 1px dotted black;border-radius: 0.25em;box-sizing: border-box;margin-bottom: 0.5em;}#sk-container-id-13 div.sk-estimator:hover {background-color: #d4ebff;}#sk-container-id-13 div.sk-parallel-item::after {content: \"\";width: 100%;border-bottom: 1px solid gray;flex-grow: 1;}#sk-container-id-13 div.sk-label:hover label.sk-toggleable__label {background-color: #d4ebff;}#sk-container-id-13 div.sk-serial::before {content: \"\";position: absolute;border-left: 1px solid gray;box-sizing: border-box;top: 0;bottom: 0;left: 50%;z-index: 0;}#sk-container-id-13 div.sk-serial {display: flex;flex-direction: column;align-items: center;background-color: white;padding-right: 0.2em;padding-left: 0.2em;position: relative;}#sk-container-id-13 div.sk-item {position: relative;z-index: 1;}#sk-container-id-13 div.sk-parallel {display: flex;align-items: stretch;justify-content: center;background-color: white;position: relative;}#sk-container-id-13 div.sk-item::before, #sk-container-id-13 div.sk-parallel-item::before {content: \"\";position: absolute;border-left: 1px solid gray;box-sizing: border-box;top: 0;bottom: 0;left: 50%;z-index: -1;}#sk-container-id-13 div.sk-parallel-item {display: flex;flex-direction: column;z-index: 1;position: relative;background-color: white;}#sk-container-id-13 div.sk-parallel-item:first-child::after {align-self: flex-end;width: 50%;}#sk-container-id-13 div.sk-parallel-item:last-child::after {align-self: flex-start;width: 50%;}#sk-container-id-13 div.sk-parallel-item:only-child::after {width: 0;}#sk-container-id-13 div.sk-dashed-wrapped {border: 1px dashed gray;margin: 0 0.4em 0.5em 0.4em;box-sizing: border-box;padding-bottom: 0.4em;background-color: white;}#sk-container-id-13 div.sk-label label {font-family: monospace;font-weight: bold;display: inline-block;line-height: 1.2em;}#sk-container-id-13 div.sk-label-container {text-align: center;}#sk-container-id-13 div.sk-container {/* jupyter's `normalize.less` sets `[hidden] { display: none; }` but bootstrap.min.css set `[hidden] { display: none !important; }` so we also need the `!important` here to be able to override the default hidden behavior on the sphinx rendered scikit-learn.org. See: https://github.com/scikit-learn/scikit-learn/issues/21755 */display: inline-block !important;position: relative;}#sk-container-id-13 div.sk-text-repr-fallback {display: none;}</style><div id=\"sk-container-id-13\" class=\"sk-top-container\"><div class=\"sk-text-repr-fallback\"><pre>Pipeline(steps=[(&#x27;scaler&#x27;, StandardScaler()),\n",
              "                (&#x27;logistic&#x27;, LogisticRegression())])</pre><b>In a Jupyter environment, please rerun this cell to show the HTML representation or trust the notebook. <br />On GitHub, the HTML representation is unable to render, please try loading this page with nbviewer.org.</b></div><div class=\"sk-container\" hidden><div class=\"sk-item sk-dashed-wrapped\"><div class=\"sk-label-container\"><div class=\"sk-label sk-toggleable\"><input class=\"sk-toggleable__control sk-hidden--visually\" id=\"sk-estimator-id-29\" type=\"checkbox\" ><label for=\"sk-estimator-id-29\" class=\"sk-toggleable__label sk-toggleable__label-arrow\">Pipeline</label><div class=\"sk-toggleable__content\"><pre>Pipeline(steps=[(&#x27;scaler&#x27;, StandardScaler()),\n",
              "                (&#x27;logistic&#x27;, LogisticRegression())])</pre></div></div></div><div class=\"sk-serial\"><div class=\"sk-item\"><div class=\"sk-estimator sk-toggleable\"><input class=\"sk-toggleable__control sk-hidden--visually\" id=\"sk-estimator-id-30\" type=\"checkbox\" ><label for=\"sk-estimator-id-30\" class=\"sk-toggleable__label sk-toggleable__label-arrow\">StandardScaler</label><div class=\"sk-toggleable__content\"><pre>StandardScaler()</pre></div></div></div><div class=\"sk-item\"><div class=\"sk-estimator sk-toggleable\"><input class=\"sk-toggleable__control sk-hidden--visually\" id=\"sk-estimator-id-31\" type=\"checkbox\" ><label for=\"sk-estimator-id-31\" class=\"sk-toggleable__label sk-toggleable__label-arrow\">LogisticRegression</label><div class=\"sk-toggleable__content\"><pre>LogisticRegression()</pre></div></div></div></div></div></div></div>"
            ]
          },
          "metadata": {},
          "execution_count": 124
        }
      ]
    },
    {
      "cell_type": "code",
      "source": [
        "# Los estimadores de un pipeline se almacenan como una lista en el atributo steps\n",
        "pipe.steps[1][1]"
      ],
      "metadata": {
        "colab": {
          "base_uri": "https://localhost:8080/",
          "height": 75
        },
        "id": "ajfuu7_sF19Z",
        "outputId": "0d062a5f-fc68-45d4-c563-c3e94957a979"
      },
      "execution_count": 125,
      "outputs": [
        {
          "output_type": "execute_result",
          "data": {
            "text/plain": [
              "LogisticRegression()"
            ],
            "text/html": [
              "<style>#sk-container-id-14 {color: black;background-color: white;}#sk-container-id-14 pre{padding: 0;}#sk-container-id-14 div.sk-toggleable {background-color: white;}#sk-container-id-14 label.sk-toggleable__label {cursor: pointer;display: block;width: 100%;margin-bottom: 0;padding: 0.3em;box-sizing: border-box;text-align: center;}#sk-container-id-14 label.sk-toggleable__label-arrow:before {content: \"▸\";float: left;margin-right: 0.25em;color: #696969;}#sk-container-id-14 label.sk-toggleable__label-arrow:hover:before {color: black;}#sk-container-id-14 div.sk-estimator:hover label.sk-toggleable__label-arrow:before {color: black;}#sk-container-id-14 div.sk-toggleable__content {max-height: 0;max-width: 0;overflow: hidden;text-align: left;background-color: #f0f8ff;}#sk-container-id-14 div.sk-toggleable__content pre {margin: 0.2em;color: black;border-radius: 0.25em;background-color: #f0f8ff;}#sk-container-id-14 input.sk-toggleable__control:checked~div.sk-toggleable__content {max-height: 200px;max-width: 100%;overflow: auto;}#sk-container-id-14 input.sk-toggleable__control:checked~label.sk-toggleable__label-arrow:before {content: \"▾\";}#sk-container-id-14 div.sk-estimator input.sk-toggleable__control:checked~label.sk-toggleable__label {background-color: #d4ebff;}#sk-container-id-14 div.sk-label input.sk-toggleable__control:checked~label.sk-toggleable__label {background-color: #d4ebff;}#sk-container-id-14 input.sk-hidden--visually {border: 0;clip: rect(1px 1px 1px 1px);clip: rect(1px, 1px, 1px, 1px);height: 1px;margin: -1px;overflow: hidden;padding: 0;position: absolute;width: 1px;}#sk-container-id-14 div.sk-estimator {font-family: monospace;background-color: #f0f8ff;border: 1px dotted black;border-radius: 0.25em;box-sizing: border-box;margin-bottom: 0.5em;}#sk-container-id-14 div.sk-estimator:hover {background-color: #d4ebff;}#sk-container-id-14 div.sk-parallel-item::after {content: \"\";width: 100%;border-bottom: 1px solid gray;flex-grow: 1;}#sk-container-id-14 div.sk-label:hover label.sk-toggleable__label {background-color: #d4ebff;}#sk-container-id-14 div.sk-serial::before {content: \"\";position: absolute;border-left: 1px solid gray;box-sizing: border-box;top: 0;bottom: 0;left: 50%;z-index: 0;}#sk-container-id-14 div.sk-serial {display: flex;flex-direction: column;align-items: center;background-color: white;padding-right: 0.2em;padding-left: 0.2em;position: relative;}#sk-container-id-14 div.sk-item {position: relative;z-index: 1;}#sk-container-id-14 div.sk-parallel {display: flex;align-items: stretch;justify-content: center;background-color: white;position: relative;}#sk-container-id-14 div.sk-item::before, #sk-container-id-14 div.sk-parallel-item::before {content: \"\";position: absolute;border-left: 1px solid gray;box-sizing: border-box;top: 0;bottom: 0;left: 50%;z-index: -1;}#sk-container-id-14 div.sk-parallel-item {display: flex;flex-direction: column;z-index: 1;position: relative;background-color: white;}#sk-container-id-14 div.sk-parallel-item:first-child::after {align-self: flex-end;width: 50%;}#sk-container-id-14 div.sk-parallel-item:last-child::after {align-self: flex-start;width: 50%;}#sk-container-id-14 div.sk-parallel-item:only-child::after {width: 0;}#sk-container-id-14 div.sk-dashed-wrapped {border: 1px dashed gray;margin: 0 0.4em 0.5em 0.4em;box-sizing: border-box;padding-bottom: 0.4em;background-color: white;}#sk-container-id-14 div.sk-label label {font-family: monospace;font-weight: bold;display: inline-block;line-height: 1.2em;}#sk-container-id-14 div.sk-label-container {text-align: center;}#sk-container-id-14 div.sk-container {/* jupyter's `normalize.less` sets `[hidden] { display: none; }` but bootstrap.min.css set `[hidden] { display: none !important; }` so we also need the `!important` here to be able to override the default hidden behavior on the sphinx rendered scikit-learn.org. See: https://github.com/scikit-learn/scikit-learn/issues/21755 */display: inline-block !important;position: relative;}#sk-container-id-14 div.sk-text-repr-fallback {display: none;}</style><div id=\"sk-container-id-14\" class=\"sk-top-container\"><div class=\"sk-text-repr-fallback\"><pre>LogisticRegression()</pre><b>In a Jupyter environment, please rerun this cell to show the HTML representation or trust the notebook. <br />On GitHub, the HTML representation is unable to render, please try loading this page with nbviewer.org.</b></div><div class=\"sk-container\" hidden><div class=\"sk-item\"><div class=\"sk-estimator sk-toggleable\"><input class=\"sk-toggleable__control sk-hidden--visually\" id=\"sk-estimator-id-32\" type=\"checkbox\" checked><label for=\"sk-estimator-id-32\" class=\"sk-toggleable__label sk-toggleable__label-arrow\">LogisticRegression</label><div class=\"sk-toggleable__content\"><pre>LogisticRegression()</pre></div></div></div></div></div>"
            ]
          },
          "metadata": {},
          "execution_count": 125
        }
      ]
    },
    {
      "cell_type": "code",
      "source": [
        "# Los estimadores de un pipeline se almacenan como una lista en el atributo steps\n",
        "print(\"Intercept:\", pipe.steps[1][1].intercept_)\n",
        "print(\"Coeficientes:\", list(zip(X.columns, pipe.steps[1][1].coef_.flatten(), )))"
      ],
      "metadata": {
        "colab": {
          "base_uri": "https://localhost:8080/"
        },
        "id": "Cw8_4MxuDGmT",
        "outputId": "7faa2c10-8bc2-497a-aae7-dadbdd81fdf3"
      },
      "execution_count": 126,
      "outputs": [
        {
          "output_type": "stream",
          "name": "stdout",
          "text": [
            "Intercept: [-0.20754546]\n",
            "Coeficientes: [('age', -0.2485825173343453), ('sex', -0.8426022533607985), ('cp', 0.695260202953429), ('trestbps', -0.3876006984650952), ('chol', -0.22205300487629656), ('fbs', 0.11443675168363986), ('restecg', 0.24176205357907551), ('thalach', 0.45541299708642086), ('exang', -0.5331127534535476), ('oldpeak', -0.43711413971799556), ('slope', 0.5927703590860488), ('ca', -0.8063187018232146), ('thal', -0.4696794973171165)]\n"
          ]
        }
      ]
    },
    {
      "cell_type": "code",
      "source": [
        "predict_probs = pipe.predict_proba(X_test_pipe)\n",
        "predict_probs[:5,:]"
      ],
      "metadata": {
        "colab": {
          "base_uri": "https://localhost:8080/"
        },
        "id": "sBfQDFiX7d57",
        "outputId": "03abaec1-c9bc-4d56-f08e-7f360f37c07e"
      },
      "execution_count": 127,
      "outputs": [
        {
          "output_type": "execute_result",
          "data": {
            "text/plain": [
              "array([[0.66197386, 0.33802614],\n",
              "       [0.39592759, 0.60407241],\n",
              "       [0.94462608, 0.05537392],\n",
              "       [0.0842014 , 0.9157986 ],\n",
              "       [0.99644677, 0.00355323]])"
            ]
          },
          "metadata": {},
          "execution_count": 127
        }
      ]
    },
    {
      "cell_type": "markdown",
      "source": [
        "## **PREGUNTA 2:** ¿Cuál es el coeficiente para la variable 'exang'?"
      ],
      "metadata": {
        "id": "kE-RGiHxNans"
      }
    },
    {
      "cell_type": "code",
      "source": [
        "print(\"Coeficiente \" + X.columns.values[8] + \" es \" + str(modelo.coef_[0][8]))"
      ],
      "metadata": {
        "colab": {
          "base_uri": "https://localhost:8080/"
        },
        "id": "kDZSmcYyNv-c",
        "outputId": "94497f65-3582-43d8-94c1-f82339cfdfbb"
      },
      "execution_count": 128,
      "outputs": [
        {
          "output_type": "stream",
          "name": "stdout",
          "text": [
            "Coeficiente exang es -0.43432222377835983\n"
          ]
        }
      ]
    },
    {
      "cell_type": "markdown",
      "metadata": {
        "id": "EbipbMwACciJ"
      },
      "source": [
        "## **PREGUNTA 3:** ¿Que accuracy obtenemos?"
      ]
    },
    {
      "cell_type": "markdown",
      "source": [
        "### **Opción 1**"
      ],
      "metadata": {
        "id": "_Kw0dLc5Rew9"
      }
    },
    {
      "cell_type": "code",
      "source": [
        "print(\"Accuracy:\", modelo.score(X_test_logistic, y_test_logistic))"
      ],
      "metadata": {
        "colab": {
          "base_uri": "https://localhost:8080/"
        },
        "id": "wr0uncOORa28",
        "outputId": "e15d8e93-00d8-49fa-c7d0-6fcac57b0fc5"
      },
      "execution_count": 129,
      "outputs": [
        {
          "output_type": "stream",
          "name": "stdout",
          "text": [
            "Accuracy: 0.8461538461538461\n"
          ]
        }
      ]
    },
    {
      "cell_type": "markdown",
      "source": [
        "### **Opción 2**"
      ],
      "metadata": {
        "id": "Qdo_ZUQxR4my"
      }
    },
    {
      "cell_type": "code",
      "source": [
        "from sklearn.metrics import accuracy_score\n",
        "accuracy_score(y_test_logistic, y_pred_logistic)"
      ],
      "metadata": {
        "colab": {
          "base_uri": "https://localhost:8080/"
        },
        "id": "gS5aKhbuR-Fk",
        "outputId": "ae7ad6c9-f2d0-4add-af7d-5e1efc7118ad"
      },
      "execution_count": 154,
      "outputs": [
        {
          "output_type": "execute_result",
          "data": {
            "text/plain": [
              "0.8461538461538461"
            ]
          },
          "metadata": {},
          "execution_count": 154
        }
      ]
    },
    {
      "cell_type": "markdown",
      "metadata": {
        "id": "H-CZW3mfCyiq"
      },
      "source": [
        "## **PREGUNTA 4:** ¿Qué % tiene la segunda muestra (fila 3) para la clase 0?"
      ]
    },
    {
      "cell_type": "code",
      "source": [
        "y_pred_probabilidades.head(5)"
      ],
      "metadata": {
        "colab": {
          "base_uri": "https://localhost:8080/",
          "height": 206
        },
        "id": "K9F1brf5S1hu",
        "outputId": "98d21219-6f1d-4012-ca53-ddbcc0c223ce"
      },
      "execution_count": 131,
      "outputs": [
        {
          "output_type": "execute_result",
          "data": {
            "text/plain": [
              "          0         1\n",
              "0  0.014183  0.985817\n",
              "1  0.006266  0.993734\n",
              "2  0.356662  0.643338\n",
              "3  0.735176  0.264824\n",
              "4  0.044277  0.955723"
            ],
            "text/html": [
              "\n",
              "  <div id=\"df-464ace08-4de3-4d80-9dc9-ad220d0ee8ae\" class=\"colab-df-container\">\n",
              "    <div>\n",
              "<style scoped>\n",
              "    .dataframe tbody tr th:only-of-type {\n",
              "        vertical-align: middle;\n",
              "    }\n",
              "\n",
              "    .dataframe tbody tr th {\n",
              "        vertical-align: top;\n",
              "    }\n",
              "\n",
              "    .dataframe thead th {\n",
              "        text-align: right;\n",
              "    }\n",
              "</style>\n",
              "<table border=\"1\" class=\"dataframe\">\n",
              "  <thead>\n",
              "    <tr style=\"text-align: right;\">\n",
              "      <th></th>\n",
              "      <th>0</th>\n",
              "      <th>1</th>\n",
              "    </tr>\n",
              "  </thead>\n",
              "  <tbody>\n",
              "    <tr>\n",
              "      <th>0</th>\n",
              "      <td>0.014183</td>\n",
              "      <td>0.985817</td>\n",
              "    </tr>\n",
              "    <tr>\n",
              "      <th>1</th>\n",
              "      <td>0.006266</td>\n",
              "      <td>0.993734</td>\n",
              "    </tr>\n",
              "    <tr>\n",
              "      <th>2</th>\n",
              "      <td>0.356662</td>\n",
              "      <td>0.643338</td>\n",
              "    </tr>\n",
              "    <tr>\n",
              "      <th>3</th>\n",
              "      <td>0.735176</td>\n",
              "      <td>0.264824</td>\n",
              "    </tr>\n",
              "    <tr>\n",
              "      <th>4</th>\n",
              "      <td>0.044277</td>\n",
              "      <td>0.955723</td>\n",
              "    </tr>\n",
              "  </tbody>\n",
              "</table>\n",
              "</div>\n",
              "    <div class=\"colab-df-buttons\">\n",
              "\n",
              "  <div class=\"colab-df-container\">\n",
              "    <button class=\"colab-df-convert\" onclick=\"convertToInteractive('df-464ace08-4de3-4d80-9dc9-ad220d0ee8ae')\"\n",
              "            title=\"Convert this dataframe to an interactive table.\"\n",
              "            style=\"display:none;\">\n",
              "\n",
              "  <svg xmlns=\"http://www.w3.org/2000/svg\" height=\"24px\" viewBox=\"0 -960 960 960\">\n",
              "    <path d=\"M120-120v-720h720v720H120Zm60-500h600v-160H180v160Zm220 220h160v-160H400v160Zm0 220h160v-160H400v160ZM180-400h160v-160H180v160Zm440 0h160v-160H620v160ZM180-180h160v-160H180v160Zm440 0h160v-160H620v160Z\"/>\n",
              "  </svg>\n",
              "    </button>\n",
              "\n",
              "  <style>\n",
              "    .colab-df-container {\n",
              "      display:flex;\n",
              "      gap: 12px;\n",
              "    }\n",
              "\n",
              "    .colab-df-convert {\n",
              "      background-color: #E8F0FE;\n",
              "      border: none;\n",
              "      border-radius: 50%;\n",
              "      cursor: pointer;\n",
              "      display: none;\n",
              "      fill: #1967D2;\n",
              "      height: 32px;\n",
              "      padding: 0 0 0 0;\n",
              "      width: 32px;\n",
              "    }\n",
              "\n",
              "    .colab-df-convert:hover {\n",
              "      background-color: #E2EBFA;\n",
              "      box-shadow: 0px 1px 2px rgba(60, 64, 67, 0.3), 0px 1px 3px 1px rgba(60, 64, 67, 0.15);\n",
              "      fill: #174EA6;\n",
              "    }\n",
              "\n",
              "    .colab-df-buttons div {\n",
              "      margin-bottom: 4px;\n",
              "    }\n",
              "\n",
              "    [theme=dark] .colab-df-convert {\n",
              "      background-color: #3B4455;\n",
              "      fill: #D2E3FC;\n",
              "    }\n",
              "\n",
              "    [theme=dark] .colab-df-convert:hover {\n",
              "      background-color: #434B5C;\n",
              "      box-shadow: 0px 1px 3px 1px rgba(0, 0, 0, 0.15);\n",
              "      filter: drop-shadow(0px 1px 2px rgba(0, 0, 0, 0.3));\n",
              "      fill: #FFFFFF;\n",
              "    }\n",
              "  </style>\n",
              "\n",
              "    <script>\n",
              "      const buttonEl =\n",
              "        document.querySelector('#df-464ace08-4de3-4d80-9dc9-ad220d0ee8ae button.colab-df-convert');\n",
              "      buttonEl.style.display =\n",
              "        google.colab.kernel.accessAllowed ? 'block' : 'none';\n",
              "\n",
              "      async function convertToInteractive(key) {\n",
              "        const element = document.querySelector('#df-464ace08-4de3-4d80-9dc9-ad220d0ee8ae');\n",
              "        const dataTable =\n",
              "          await google.colab.kernel.invokeFunction('convertToInteractive',\n",
              "                                                    [key], {});\n",
              "        if (!dataTable) return;\n",
              "\n",
              "        const docLinkHtml = 'Like what you see? Visit the ' +\n",
              "          '<a target=\"_blank\" href=https://colab.research.google.com/notebooks/data_table.ipynb>data table notebook</a>'\n",
              "          + ' to learn more about interactive tables.';\n",
              "        element.innerHTML = '';\n",
              "        dataTable['output_type'] = 'display_data';\n",
              "        await google.colab.output.renderOutput(dataTable, element);\n",
              "        const docLink = document.createElement('div');\n",
              "        docLink.innerHTML = docLinkHtml;\n",
              "        element.appendChild(docLink);\n",
              "      }\n",
              "    </script>\n",
              "  </div>\n",
              "\n",
              "\n",
              "<div id=\"df-ecfb0558-a0ee-41a7-9f81-cd0e7560a5cf\">\n",
              "  <button class=\"colab-df-quickchart\" onclick=\"quickchart('df-ecfb0558-a0ee-41a7-9f81-cd0e7560a5cf')\"\n",
              "            title=\"Suggest charts\"\n",
              "            style=\"display:none;\">\n",
              "\n",
              "<svg xmlns=\"http://www.w3.org/2000/svg\" height=\"24px\"viewBox=\"0 0 24 24\"\n",
              "     width=\"24px\">\n",
              "    <g>\n",
              "        <path d=\"M19 3H5c-1.1 0-2 .9-2 2v14c0 1.1.9 2 2 2h14c1.1 0 2-.9 2-2V5c0-1.1-.9-2-2-2zM9 17H7v-7h2v7zm4 0h-2V7h2v10zm4 0h-2v-4h2v4z\"/>\n",
              "    </g>\n",
              "</svg>\n",
              "  </button>\n",
              "\n",
              "<style>\n",
              "  .colab-df-quickchart {\n",
              "      --bg-color: #E8F0FE;\n",
              "      --fill-color: #1967D2;\n",
              "      --hover-bg-color: #E2EBFA;\n",
              "      --hover-fill-color: #174EA6;\n",
              "      --disabled-fill-color: #AAA;\n",
              "      --disabled-bg-color: #DDD;\n",
              "  }\n",
              "\n",
              "  [theme=dark] .colab-df-quickchart {\n",
              "      --bg-color: #3B4455;\n",
              "      --fill-color: #D2E3FC;\n",
              "      --hover-bg-color: #434B5C;\n",
              "      --hover-fill-color: #FFFFFF;\n",
              "      --disabled-bg-color: #3B4455;\n",
              "      --disabled-fill-color: #666;\n",
              "  }\n",
              "\n",
              "  .colab-df-quickchart {\n",
              "    background-color: var(--bg-color);\n",
              "    border: none;\n",
              "    border-radius: 50%;\n",
              "    cursor: pointer;\n",
              "    display: none;\n",
              "    fill: var(--fill-color);\n",
              "    height: 32px;\n",
              "    padding: 0;\n",
              "    width: 32px;\n",
              "  }\n",
              "\n",
              "  .colab-df-quickchart:hover {\n",
              "    background-color: var(--hover-bg-color);\n",
              "    box-shadow: 0 1px 2px rgba(60, 64, 67, 0.3), 0 1px 3px 1px rgba(60, 64, 67, 0.15);\n",
              "    fill: var(--button-hover-fill-color);\n",
              "  }\n",
              "\n",
              "  .colab-df-quickchart-complete:disabled,\n",
              "  .colab-df-quickchart-complete:disabled:hover {\n",
              "    background-color: var(--disabled-bg-color);\n",
              "    fill: var(--disabled-fill-color);\n",
              "    box-shadow: none;\n",
              "  }\n",
              "\n",
              "  .colab-df-spinner {\n",
              "    border: 2px solid var(--fill-color);\n",
              "    border-color: transparent;\n",
              "    border-bottom-color: var(--fill-color);\n",
              "    animation:\n",
              "      spin 1s steps(1) infinite;\n",
              "  }\n",
              "\n",
              "  @keyframes spin {\n",
              "    0% {\n",
              "      border-color: transparent;\n",
              "      border-bottom-color: var(--fill-color);\n",
              "      border-left-color: var(--fill-color);\n",
              "    }\n",
              "    20% {\n",
              "      border-color: transparent;\n",
              "      border-left-color: var(--fill-color);\n",
              "      border-top-color: var(--fill-color);\n",
              "    }\n",
              "    30% {\n",
              "      border-color: transparent;\n",
              "      border-left-color: var(--fill-color);\n",
              "      border-top-color: var(--fill-color);\n",
              "      border-right-color: var(--fill-color);\n",
              "    }\n",
              "    40% {\n",
              "      border-color: transparent;\n",
              "      border-right-color: var(--fill-color);\n",
              "      border-top-color: var(--fill-color);\n",
              "    }\n",
              "    60% {\n",
              "      border-color: transparent;\n",
              "      border-right-color: var(--fill-color);\n",
              "    }\n",
              "    80% {\n",
              "      border-color: transparent;\n",
              "      border-right-color: var(--fill-color);\n",
              "      border-bottom-color: var(--fill-color);\n",
              "    }\n",
              "    90% {\n",
              "      border-color: transparent;\n",
              "      border-bottom-color: var(--fill-color);\n",
              "    }\n",
              "  }\n",
              "</style>\n",
              "\n",
              "  <script>\n",
              "    async function quickchart(key) {\n",
              "      const quickchartButtonEl =\n",
              "        document.querySelector('#' + key + ' button');\n",
              "      quickchartButtonEl.disabled = true;  // To prevent multiple clicks.\n",
              "      quickchartButtonEl.classList.add('colab-df-spinner');\n",
              "      try {\n",
              "        const charts = await google.colab.kernel.invokeFunction(\n",
              "            'suggestCharts', [key], {});\n",
              "      } catch (error) {\n",
              "        console.error('Error during call to suggestCharts:', error);\n",
              "      }\n",
              "      quickchartButtonEl.classList.remove('colab-df-spinner');\n",
              "      quickchartButtonEl.classList.add('colab-df-quickchart-complete');\n",
              "    }\n",
              "    (() => {\n",
              "      let quickchartButtonEl =\n",
              "        document.querySelector('#df-ecfb0558-a0ee-41a7-9f81-cd0e7560a5cf button');\n",
              "      quickchartButtonEl.style.display =\n",
              "        google.colab.kernel.accessAllowed ? 'block' : 'none';\n",
              "    })();\n",
              "  </script>\n",
              "</div>\n",
              "    </div>\n",
              "  </div>\n"
            ]
          },
          "metadata": {},
          "execution_count": 131
        }
      ]
    },
    {
      "cell_type": "markdown",
      "source": [
        "## **PARÁMETROS**"
      ],
      "metadata": {
        "id": "QkuxEAPHVtAE"
      }
    },
    {
      "cell_type": "markdown",
      "source": [
        "Los algoritmos presentan una serie de parámetros. En el caso de LogisticRegressiion:\n",
        "\n",
        "\n",
        "> class sklearn.linear_model.LogisticRegression(penalty='l2', *, dual=False, tol=0.0001, C=1.0, fit_intercept=True, intercept_scaling=1, class_weight=None, random_state=None, solver='lbfgs', max_iter=100, multi_class='auto', verbose=0, warm_start=False, n_jobs=None, l1_ratio=None)\n",
        "\n",
        "siendo la función de coste a minimizar:\n",
        "\n",
        "![image.png](data:image/png;base64,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)\n"
      ],
      "metadata": {
        "id": "fj-CvI4WV6js"
      }
    },
    {
      "cell_type": "markdown",
      "source": [
        "C es el parámetro que permite controlar la complejidad del algoritmo, penalizando los errores que se cometen en la clasificación. Este parámetro supone un compromiso entre la exactitud de la solución y la complejidad del algoritmo:\n",
        "\n",
        "\n",
        "\n",
        "*   Cuanto mayor es C (menor es a), más penalizamos los errores en clasificación y la frontera se ajusta mucho a los datos (en el caso extremo se ajustará perfectamente). Riesgo de overfitting, pero con potencial menor error de clasificación.\n",
        "*   Cuanto menor es C (mayor es a), menos penalizamos los errores en clasificación y tenderemos hacia modelos más sencillos (fronteras menos ajustadas, menor riesgo de overfitting, pero potencialmente con más error de clasificación)."
      ],
      "metadata": {
        "id": "kJ63Y7CiXU38"
      }
    },
    {
      "cell_type": "code",
      "source": [
        "modelo = LogisticRegression()                       # C = 1.0 (valor por defecto)\n",
        "modelo.fit(X = X_train_logistic, y = y_train_logistic)\n",
        "y_pred_logistic = modelo.predict(X_test_logistic)\n",
        "print(\"Accuracy:\", modelo.score(X_test_logistic, y_test_logistic))"
      ],
      "metadata": {
        "colab": {
          "base_uri": "https://localhost:8080/"
        },
        "id": "P_qeko-aXx7X",
        "outputId": "19c25cf5-d485-4a25-b40c-fd4ae9f619ce"
      },
      "execution_count": 14,
      "outputs": [
        {
          "output_type": "stream",
          "name": "stdout",
          "text": [
            "Accuracy: 0.8131868131868132\n"
          ]
        }
      ]
    },
    {
      "cell_type": "code",
      "source": [
        "modelo = LogisticRegression()                       # C = 0.4 (valor por defecto)\n",
        "modelo.fit(X = X_train_logistic, y = y_train_logistic)\n",
        "y_pred_logistic = modelo.predict(X_test_logistic)\n",
        "print(\"Accuracy:\", modelo.score(X_test_logistic, y_test_logistic))"
      ],
      "metadata": {
        "colab": {
          "base_uri": "https://localhost:8080/"
        },
        "id": "3IbcN60yblHg",
        "outputId": "1f25a2ef-2bcc-4167-ba49-b85504c4d076"
      },
      "execution_count": 15,
      "outputs": [
        {
          "output_type": "stream",
          "name": "stdout",
          "text": [
            "Accuracy: 0.8131868131868132\n"
          ]
        }
      ]
    },
    {
      "cell_type": "markdown",
      "source": [
        "Otro ejemplo en: https://keepcoding.io/blog/regularizacion-sobre-algoritmos-de-clasificacion/"
      ],
      "metadata": {
        "id": "EEY7S8JZb2QD"
      }
    },
    {
      "cell_type": "markdown",
      "source": [
        "# **SVM (Máquinas de vectores de soporte)**"
      ],
      "metadata": {
        "id": "EbBe-KvvEDPF"
      }
    },
    {
      "cell_type": "markdown",
      "source": [
        "## **SVC (Clasificación)**"
      ],
      "metadata": {
        "id": "B4_fYggbS7YI"
      }
    },
    {
      "cell_type": "markdown",
      "source": [
        "### **PREGUNTA 5:** Qué accuracy obtenemos mediante SVM?"
      ],
      "metadata": {
        "id": "fuJ1qyXwUHyp"
      }
    },
    {
      "cell_type": "markdown",
      "source": [
        "#### **Respuesta**"
      ],
      "metadata": {
        "id": "ZcbOXKRWp1sq"
      }
    },
    {
      "cell_type": "code",
      "metadata": {
        "id": "XBmZ2ONAIHCG"
      },
      "source": [
        "X_train_SVM, X_test_SVM, y_train_SVM, y_test_SVM = train_test_split(X_scaled, y, train_size=0.7)\n"
      ],
      "execution_count": 132,
      "outputs": []
    },
    {
      "cell_type": "code",
      "metadata": {
        "colab": {
          "base_uri": "https://localhost:8080/"
        },
        "id": "3eQ_cCaOhF5Z",
        "outputId": "3c191c9b-3140-437a-8b0f-6a4875be8780"
      },
      "source": [
        "from sklearn.svm import SVC\n",
        "from sklearn.metrics import accuracy_score\n",
        "\n",
        "modelo = SVC(kernel='linear')\n",
        "modelo.fit(X_train_SVM,y_train_SVM)\n",
        "y_pred_SVM = modelo.predict(X_test_SVM)\n",
        "print(accuracy_score(y_test_SVM, y_pred_SVM))"
      ],
      "execution_count": 160,
      "outputs": [
        {
          "output_type": "stream",
          "name": "stdout",
          "text": [
            "0.8351648351648352\n"
          ]
        }
      ]
    },
    {
      "cell_type": "code",
      "source": [
        "from sklearn.metrics import classification_report\n",
        "from sklearn.model_selection import GridSearchCV\n",
        "\n",
        "print(classification_report(y_test_SVM, y_pred_SVM))"
      ],
      "metadata": {
        "colab": {
          "base_uri": "https://localhost:8080/"
        },
        "id": "4N4ur54joXpW",
        "outputId": "1435d35e-3c84-4e34-d0a1-313e83fc0bd3"
      },
      "execution_count": 134,
      "outputs": [
        {
          "output_type": "stream",
          "name": "stdout",
          "text": [
            "              precision    recall  f1-score   support\n",
            "\n",
            "           0       0.88      0.78      0.83        46\n",
            "           1       0.80      0.89      0.84        45\n",
            "\n",
            "    accuracy                           0.84        91\n",
            "   macro avg       0.84      0.84      0.83        91\n",
            "weighted avg       0.84      0.84      0.83        91\n",
            "\n"
          ]
        }
      ]
    },
    {
      "cell_type": "markdown",
      "source": [
        "#### **Respuesta mejorada**"
      ],
      "metadata": {
        "id": "Nt3fowh8p9Xq"
      }
    },
    {
      "cell_type": "markdown",
      "source": [
        "Todos los algoritmos tienen una serie de parámetros, conocidos como hiperparámetros, que hay que seleccionar. Vamos a ver cómo seleccionar el mejor conjunto de hiperparámetros con GridSearchCV."
      ],
      "metadata": {
        "id": "YkhGfO6BqGxD"
      }
    },
    {
      "cell_type": "code",
      "source": [
        "# defining parameter range\n",
        "param_grid = {'C': [0.1, 1, 10, 100, 1000],\n",
        "              'gamma': [1, 0.1, 0.01, 0.001, 0.0001],\n",
        "              'kernel': ['linear', 'rbf']}\n",
        "\n",
        "grid = GridSearchCV(SVC(), param_grid, refit = True, verbose = 3)\n",
        "\n",
        "# fitting the model for grid search\n",
        "grid.fit(X_train_SVM, y_train_SVM)"
      ],
      "metadata": {
        "colab": {
          "base_uri": "https://localhost:8080/",
          "height": 1000
        },
        "id": "0q9XIeAFpBqY",
        "outputId": "a1db49e9-5d8a-4882-8ff6-d25298d9a71d"
      },
      "execution_count": 135,
      "outputs": [
        {
          "output_type": "stream",
          "name": "stdout",
          "text": [
            "Fitting 5 folds for each of 50 candidates, totalling 250 fits\n",
            "[CV 1/5] END .....C=0.1, gamma=1, kernel=linear;, score=0.767 total time=   0.0s\n",
            "[CV 2/5] END .....C=0.1, gamma=1, kernel=linear;, score=0.860 total time=   0.0s\n",
            "[CV 3/5] END .....C=0.1, gamma=1, kernel=linear;, score=0.857 total time=   0.0s\n",
            "[CV 4/5] END .....C=0.1, gamma=1, kernel=linear;, score=0.786 total time=   0.0s\n",
            "[CV 5/5] END .....C=0.1, gamma=1, kernel=linear;, score=0.857 total time=   0.0s\n",
            "[CV 1/5] END ........C=0.1, gamma=1, kernel=rbf;, score=0.558 total time=   0.0s\n",
            "[CV 2/5] END ........C=0.1, gamma=1, kernel=rbf;, score=0.558 total time=   0.0s\n",
            "[CV 3/5] END ........C=0.1, gamma=1, kernel=rbf;, score=0.571 total time=   0.0s\n",
            "[CV 4/5] END ........C=0.1, gamma=1, kernel=rbf;, score=0.571 total time=   0.0s\n",
            "[CV 5/5] END ........C=0.1, gamma=1, kernel=rbf;, score=0.571 total time=   0.0s\n",
            "[CV 1/5] END ...C=0.1, gamma=0.1, kernel=linear;, score=0.767 total time=   0.0s\n",
            "[CV 2/5] END ...C=0.1, gamma=0.1, kernel=linear;, score=0.860 total time=   0.0s\n",
            "[CV 3/5] END ...C=0.1, gamma=0.1, kernel=linear;, score=0.857 total time=   0.0s\n",
            "[CV 4/5] END ...C=0.1, gamma=0.1, kernel=linear;, score=0.786 total time=   0.0s\n",
            "[CV 5/5] END ...C=0.1, gamma=0.1, kernel=linear;, score=0.857 total time=   0.0s\n",
            "[CV 1/5] END ......C=0.1, gamma=0.1, kernel=rbf;, score=0.767 total time=   0.0s\n",
            "[CV 2/5] END ......C=0.1, gamma=0.1, kernel=rbf;, score=0.605 total time=   0.0s\n",
            "[CV 3/5] END ......C=0.1, gamma=0.1, kernel=rbf;, score=0.690 total time=   0.0s\n",
            "[CV 4/5] END ......C=0.1, gamma=0.1, kernel=rbf;, score=0.619 total time=   0.0s\n",
            "[CV 5/5] END ......C=0.1, gamma=0.1, kernel=rbf;, score=0.738 total time=   0.0s\n",
            "[CV 1/5] END ..C=0.1, gamma=0.01, kernel=linear;, score=0.767 total time=   0.0s\n",
            "[CV 2/5] END ..C=0.1, gamma=0.01, kernel=linear;, score=0.860 total time=   0.0s\n",
            "[CV 3/5] END ..C=0.1, gamma=0.01, kernel=linear;, score=0.857 total time=   0.0s\n",
            "[CV 4/5] END ..C=0.1, gamma=0.01, kernel=linear;, score=0.786 total time=   0.0s\n",
            "[CV 5/5] END ..C=0.1, gamma=0.01, kernel=linear;, score=0.857 total time=   0.0s\n",
            "[CV 1/5] END .....C=0.1, gamma=0.01, kernel=rbf;, score=0.581 total time=   0.0s\n",
            "[CV 2/5] END .....C=0.1, gamma=0.01, kernel=rbf;, score=0.581 total time=   0.0s\n",
            "[CV 3/5] END .....C=0.1, gamma=0.01, kernel=rbf;, score=0.571 total time=   0.0s\n",
            "[CV 4/5] END .....C=0.1, gamma=0.01, kernel=rbf;, score=0.595 total time=   0.0s\n",
            "[CV 5/5] END .....C=0.1, gamma=0.01, kernel=rbf;, score=0.595 total time=   0.0s\n",
            "[CV 1/5] END .C=0.1, gamma=0.001, kernel=linear;, score=0.767 total time=   0.0s\n",
            "[CV 2/5] END .C=0.1, gamma=0.001, kernel=linear;, score=0.860 total time=   0.0s\n",
            "[CV 3/5] END .C=0.1, gamma=0.001, kernel=linear;, score=0.857 total time=   0.0s\n",
            "[CV 4/5] END .C=0.1, gamma=0.001, kernel=linear;, score=0.786 total time=   0.0s\n",
            "[CV 5/5] END .C=0.1, gamma=0.001, kernel=linear;, score=0.857 total time=   0.0s\n",
            "[CV 1/5] END ....C=0.1, gamma=0.001, kernel=rbf;, score=0.558 total time=   0.0s\n",
            "[CV 2/5] END ....C=0.1, gamma=0.001, kernel=rbf;, score=0.558 total time=   0.0s\n",
            "[CV 3/5] END ....C=0.1, gamma=0.001, kernel=rbf;, score=0.571 total time=   0.0s\n",
            "[CV 4/5] END ....C=0.1, gamma=0.001, kernel=rbf;, score=0.571 total time=   0.0s\n",
            "[CV 5/5] END ....C=0.1, gamma=0.001, kernel=rbf;, score=0.571 total time=   0.0s\n",
            "[CV 1/5] END C=0.1, gamma=0.0001, kernel=linear;, score=0.767 total time=   0.0s\n",
            "[CV 2/5] END C=0.1, gamma=0.0001, kernel=linear;, score=0.860 total time=   0.0s\n",
            "[CV 3/5] END C=0.1, gamma=0.0001, kernel=linear;, score=0.857 total time=   0.0s\n",
            "[CV 4/5] END C=0.1, gamma=0.0001, kernel=linear;, score=0.786 total time=   0.0s\n",
            "[CV 5/5] END C=0.1, gamma=0.0001, kernel=linear;, score=0.857 total time=   0.0s\n",
            "[CV 1/5] END ...C=0.1, gamma=0.0001, kernel=rbf;, score=0.558 total time=   0.0s\n",
            "[CV 2/5] END ...C=0.1, gamma=0.0001, kernel=rbf;, score=0.558 total time=   0.0s\n",
            "[CV 3/5] END ...C=0.1, gamma=0.0001, kernel=rbf;, score=0.571 total time=   0.0s\n",
            "[CV 4/5] END ...C=0.1, gamma=0.0001, kernel=rbf;, score=0.571 total time=   0.0s\n",
            "[CV 5/5] END ...C=0.1, gamma=0.0001, kernel=rbf;, score=0.571 total time=   0.0s\n",
            "[CV 1/5] END .......C=1, gamma=1, kernel=linear;, score=0.767 total time=   0.0s\n",
            "[CV 2/5] END .......C=1, gamma=1, kernel=linear;, score=0.860 total time=   0.0s\n",
            "[CV 3/5] END .......C=1, gamma=1, kernel=linear;, score=0.857 total time=   0.0s\n",
            "[CV 4/5] END .......C=1, gamma=1, kernel=linear;, score=0.833 total time=   0.0s\n",
            "[CV 5/5] END .......C=1, gamma=1, kernel=linear;, score=0.786 total time=   0.0s\n",
            "[CV 1/5] END ..........C=1, gamma=1, kernel=rbf;, score=0.558 total time=   0.0s\n",
            "[CV 2/5] END ..........C=1, gamma=1, kernel=rbf;, score=0.558 total time=   0.0s\n",
            "[CV 3/5] END ..........C=1, gamma=1, kernel=rbf;, score=0.619 total time=   0.0s\n",
            "[CV 4/5] END ..........C=1, gamma=1, kernel=rbf;, score=0.595 total time=   0.0s\n",
            "[CV 5/5] END ..........C=1, gamma=1, kernel=rbf;, score=0.571 total time=   0.0s\n",
            "[CV 1/5] END .....C=1, gamma=0.1, kernel=linear;, score=0.767 total time=   0.0s\n",
            "[CV 2/5] END .....C=1, gamma=0.1, kernel=linear;, score=0.860 total time=   0.0s\n",
            "[CV 3/5] END .....C=1, gamma=0.1, kernel=linear;, score=0.857 total time=   0.0s\n",
            "[CV 4/5] END .....C=1, gamma=0.1, kernel=linear;, score=0.833 total time=   0.0s\n",
            "[CV 5/5] END .....C=1, gamma=0.1, kernel=linear;, score=0.786 total time=   0.0s\n",
            "[CV 1/5] END ........C=1, gamma=0.1, kernel=rbf;, score=0.814 total time=   0.0s\n",
            "[CV 2/5] END ........C=1, gamma=0.1, kernel=rbf;, score=0.907 total time=   0.0s\n",
            "[CV 3/5] END ........C=1, gamma=0.1, kernel=rbf;, score=0.833 total time=   0.0s\n",
            "[CV 4/5] END ........C=1, gamma=0.1, kernel=rbf;, score=0.833 total time=   0.0s\n",
            "[CV 5/5] END ........C=1, gamma=0.1, kernel=rbf;, score=0.786 total time=   0.0s\n",
            "[CV 1/5] END ....C=1, gamma=0.01, kernel=linear;, score=0.767 total time=   0.0s\n",
            "[CV 2/5] END ....C=1, gamma=0.01, kernel=linear;, score=0.860 total time=   0.0s\n",
            "[CV 3/5] END ....C=1, gamma=0.01, kernel=linear;, score=0.857 total time=   0.0s\n",
            "[CV 4/5] END ....C=1, gamma=0.01, kernel=linear;, score=0.833 total time=   0.0s\n",
            "[CV 5/5] END ....C=1, gamma=0.01, kernel=linear;, score=0.786 total time=   0.0s\n",
            "[CV 1/5] END .......C=1, gamma=0.01, kernel=rbf;, score=0.767 total time=   0.0s\n",
            "[CV 2/5] END .......C=1, gamma=0.01, kernel=rbf;, score=0.860 total time=   0.0s\n",
            "[CV 3/5] END .......C=1, gamma=0.01, kernel=rbf;, score=0.857 total time=   0.0s\n",
            "[CV 4/5] END .......C=1, gamma=0.01, kernel=rbf;, score=0.810 total time=   0.0s\n",
            "[CV 5/5] END .......C=1, gamma=0.01, kernel=rbf;, score=0.857 total time=   0.0s\n",
            "[CV 1/5] END ...C=1, gamma=0.001, kernel=linear;, score=0.767 total time=   0.0s\n",
            "[CV 2/5] END ...C=1, gamma=0.001, kernel=linear;, score=0.860 total time=   0.0s\n",
            "[CV 3/5] END ...C=1, gamma=0.001, kernel=linear;, score=0.857 total time=   0.0s\n",
            "[CV 4/5] END ...C=1, gamma=0.001, kernel=linear;, score=0.833 total time=   0.0s\n",
            "[CV 5/5] END ...C=1, gamma=0.001, kernel=linear;, score=0.786 total time=   0.0s\n",
            "[CV 1/5] END ......C=1, gamma=0.001, kernel=rbf;, score=0.721 total time=   0.0s\n",
            "[CV 2/5] END ......C=1, gamma=0.001, kernel=rbf;, score=0.628 total time=   0.0s\n",
            "[CV 3/5] END ......C=1, gamma=0.001, kernel=rbf;, score=0.690 total time=   0.0s\n",
            "[CV 4/5] END ......C=1, gamma=0.001, kernel=rbf;, score=0.619 total time=   0.0s\n",
            "[CV 5/5] END ......C=1, gamma=0.001, kernel=rbf;, score=0.690 total time=   0.0s\n",
            "[CV 1/5] END ..C=1, gamma=0.0001, kernel=linear;, score=0.767 total time=   0.0s\n",
            "[CV 2/5] END ..C=1, gamma=0.0001, kernel=linear;, score=0.860 total time=   0.0s\n",
            "[CV 3/5] END ..C=1, gamma=0.0001, kernel=linear;, score=0.857 total time=   0.0s\n",
            "[CV 4/5] END ..C=1, gamma=0.0001, kernel=linear;, score=0.833 total time=   0.0s\n",
            "[CV 5/5] END ..C=1, gamma=0.0001, kernel=linear;, score=0.786 total time=   0.0s\n",
            "[CV 1/5] END .....C=1, gamma=0.0001, kernel=rbf;, score=0.558 total time=   0.0s\n",
            "[CV 2/5] END .....C=1, gamma=0.0001, kernel=rbf;, score=0.558 total time=   0.0s\n",
            "[CV 3/5] END .....C=1, gamma=0.0001, kernel=rbf;, score=0.571 total time=   0.0s\n",
            "[CV 4/5] END .....C=1, gamma=0.0001, kernel=rbf;, score=0.571 total time=   0.0s\n",
            "[CV 5/5] END .....C=1, gamma=0.0001, kernel=rbf;, score=0.571 total time=   0.0s\n",
            "[CV 1/5] END ......C=10, gamma=1, kernel=linear;, score=0.744 total time=   0.0s\n",
            "[CV 2/5] END ......C=10, gamma=1, kernel=linear;, score=0.860 total time=   0.0s\n",
            "[CV 3/5] END ......C=10, gamma=1, kernel=linear;, score=0.857 total time=   0.0s\n",
            "[CV 4/5] END ......C=10, gamma=1, kernel=linear;, score=0.833 total time=   0.0s\n",
            "[CV 5/5] END ......C=10, gamma=1, kernel=linear;, score=0.738 total time=   0.0s\n",
            "[CV 1/5] END .........C=10, gamma=1, kernel=rbf;, score=0.558 total time=   0.0s\n",
            "[CV 2/5] END .........C=10, gamma=1, kernel=rbf;, score=0.558 total time=   0.0s\n",
            "[CV 3/5] END .........C=10, gamma=1, kernel=rbf;, score=0.619 total time=   0.0s\n",
            "[CV 4/5] END .........C=10, gamma=1, kernel=rbf;, score=0.571 total time=   0.0s\n",
            "[CV 5/5] END .........C=10, gamma=1, kernel=rbf;, score=0.571 total time=   0.0s\n",
            "[CV 1/5] END ....C=10, gamma=0.1, kernel=linear;, score=0.744 total time=   0.0s\n",
            "[CV 2/5] END ....C=10, gamma=0.1, kernel=linear;, score=0.860 total time=   0.0s\n",
            "[CV 3/5] END ....C=10, gamma=0.1, kernel=linear;, score=0.857 total time=   0.0s\n",
            "[CV 4/5] END ....C=10, gamma=0.1, kernel=linear;, score=0.833 total time=   0.0s\n",
            "[CV 5/5] END ....C=10, gamma=0.1, kernel=linear;, score=0.738 total time=   0.0s\n",
            "[CV 1/5] END .......C=10, gamma=0.1, kernel=rbf;, score=0.814 total time=   0.0s\n",
            "[CV 2/5] END .......C=10, gamma=0.1, kernel=rbf;, score=0.860 total time=   0.0s\n",
            "[CV 3/5] END .......C=10, gamma=0.1, kernel=rbf;, score=0.833 total time=   0.0s\n",
            "[CV 4/5] END .......C=10, gamma=0.1, kernel=rbf;, score=0.786 total time=   0.0s\n",
            "[CV 5/5] END .......C=10, gamma=0.1, kernel=rbf;, score=0.762 total time=   0.0s\n",
            "[CV 1/5] END ...C=10, gamma=0.01, kernel=linear;, score=0.744 total time=   0.0s\n",
            "[CV 2/5] END ...C=10, gamma=0.01, kernel=linear;, score=0.860 total time=   0.0s\n",
            "[CV 3/5] END ...C=10, gamma=0.01, kernel=linear;, score=0.857 total time=   0.0s\n",
            "[CV 4/5] END ...C=10, gamma=0.01, kernel=linear;, score=0.833 total time=   0.0s\n",
            "[CV 5/5] END ...C=10, gamma=0.01, kernel=linear;, score=0.738 total time=   0.0s\n",
            "[CV 1/5] END ......C=10, gamma=0.01, kernel=rbf;, score=0.791 total time=   0.0s\n",
            "[CV 2/5] END ......C=10, gamma=0.01, kernel=rbf;, score=0.860 total time=   0.0s\n",
            "[CV 3/5] END ......C=10, gamma=0.01, kernel=rbf;, score=0.857 total time=   0.0s\n",
            "[CV 4/5] END ......C=10, gamma=0.01, kernel=rbf;, score=0.833 total time=   0.0s\n",
            "[CV 5/5] END ......C=10, gamma=0.01, kernel=rbf;, score=0.786 total time=   0.0s\n",
            "[CV 1/5] END ..C=10, gamma=0.001, kernel=linear;, score=0.744 total time=   0.0s\n",
            "[CV 2/5] END ..C=10, gamma=0.001, kernel=linear;, score=0.860 total time=   0.0s\n",
            "[CV 3/5] END ..C=10, gamma=0.001, kernel=linear;, score=0.857 total time=   0.0s\n",
            "[CV 4/5] END ..C=10, gamma=0.001, kernel=linear;, score=0.833 total time=   0.0s\n",
            "[CV 5/5] END ..C=10, gamma=0.001, kernel=linear;, score=0.738 total time=   0.0s\n",
            "[CV 1/5] END .....C=10, gamma=0.001, kernel=rbf;, score=0.767 total time=   0.0s\n",
            "[CV 2/5] END .....C=10, gamma=0.001, kernel=rbf;, score=0.860 total time=   0.0s\n",
            "[CV 3/5] END .....C=10, gamma=0.001, kernel=rbf;, score=0.857 total time=   0.0s\n",
            "[CV 4/5] END .....C=10, gamma=0.001, kernel=rbf;, score=0.762 total time=   0.0s\n",
            "[CV 5/5] END .....C=10, gamma=0.001, kernel=rbf;, score=0.857 total time=   0.0s\n",
            "[CV 1/5] END .C=10, gamma=0.0001, kernel=linear;, score=0.744 total time=   0.0s\n",
            "[CV 2/5] END .C=10, gamma=0.0001, kernel=linear;, score=0.860 total time=   0.0s\n",
            "[CV 3/5] END .C=10, gamma=0.0001, kernel=linear;, score=0.857 total time=   0.0s\n",
            "[CV 4/5] END .C=10, gamma=0.0001, kernel=linear;, score=0.833 total time=   0.0s\n",
            "[CV 5/5] END .C=10, gamma=0.0001, kernel=linear;, score=0.738 total time=   0.0s\n",
            "[CV 1/5] END ....C=10, gamma=0.0001, kernel=rbf;, score=0.721 total time=   0.0s\n",
            "[CV 2/5] END ....C=10, gamma=0.0001, kernel=rbf;, score=0.628 total time=   0.0s\n",
            "[CV 3/5] END ....C=10, gamma=0.0001, kernel=rbf;, score=0.690 total time=   0.0s\n",
            "[CV 4/5] END ....C=10, gamma=0.0001, kernel=rbf;, score=0.619 total time=   0.0s\n",
            "[CV 5/5] END ....C=10, gamma=0.0001, kernel=rbf;, score=0.714 total time=   0.0s\n",
            "[CV 1/5] END .....C=100, gamma=1, kernel=linear;, score=0.767 total time=   0.1s\n",
            "[CV 2/5] END .....C=100, gamma=1, kernel=linear;, score=0.860 total time=   0.0s\n",
            "[CV 3/5] END .....C=100, gamma=1, kernel=linear;, score=0.857 total time=   0.0s\n",
            "[CV 4/5] END .....C=100, gamma=1, kernel=linear;, score=0.833 total time=   0.0s\n",
            "[CV 5/5] END .....C=100, gamma=1, kernel=linear;, score=0.762 total time=   0.0s\n",
            "[CV 1/5] END ........C=100, gamma=1, kernel=rbf;, score=0.558 total time=   0.0s\n",
            "[CV 2/5] END ........C=100, gamma=1, kernel=rbf;, score=0.558 total time=   0.0s\n",
            "[CV 3/5] END ........C=100, gamma=1, kernel=rbf;, score=0.619 total time=   0.0s\n",
            "[CV 4/5] END ........C=100, gamma=1, kernel=rbf;, score=0.571 total time=   0.0s\n",
            "[CV 5/5] END ........C=100, gamma=1, kernel=rbf;, score=0.571 total time=   0.0s\n",
            "[CV 1/5] END ...C=100, gamma=0.1, kernel=linear;, score=0.767 total time=   0.1s\n",
            "[CV 2/5] END ...C=100, gamma=0.1, kernel=linear;, score=0.860 total time=   0.0s\n",
            "[CV 3/5] END ...C=100, gamma=0.1, kernel=linear;, score=0.857 total time=   0.0s\n",
            "[CV 4/5] END ...C=100, gamma=0.1, kernel=linear;, score=0.833 total time=   0.0s\n",
            "[CV 5/5] END ...C=100, gamma=0.1, kernel=linear;, score=0.762 total time=   0.0s\n",
            "[CV 1/5] END ......C=100, gamma=0.1, kernel=rbf;, score=0.814 total time=   0.0s\n",
            "[CV 2/5] END ......C=100, gamma=0.1, kernel=rbf;, score=0.860 total time=   0.0s\n",
            "[CV 3/5] END ......C=100, gamma=0.1, kernel=rbf;, score=0.810 total time=   0.0s\n",
            "[CV 4/5] END ......C=100, gamma=0.1, kernel=rbf;, score=0.786 total time=   0.0s\n",
            "[CV 5/5] END ......C=100, gamma=0.1, kernel=rbf;, score=0.738 total time=   0.0s\n",
            "[CV 1/5] END ..C=100, gamma=0.01, kernel=linear;, score=0.767 total time=   0.1s\n",
            "[CV 2/5] END ..C=100, gamma=0.01, kernel=linear;, score=0.860 total time=   0.0s\n",
            "[CV 3/5] END ..C=100, gamma=0.01, kernel=linear;, score=0.857 total time=   0.0s\n",
            "[CV 4/5] END ..C=100, gamma=0.01, kernel=linear;, score=0.833 total time=   0.0s\n",
            "[CV 5/5] END ..C=100, gamma=0.01, kernel=linear;, score=0.762 total time=   0.0s\n",
            "[CV 1/5] END .....C=100, gamma=0.01, kernel=rbf;, score=0.814 total time=   0.0s\n",
            "[CV 2/5] END .....C=100, gamma=0.01, kernel=rbf;, score=0.884 total time=   0.0s\n",
            "[CV 3/5] END .....C=100, gamma=0.01, kernel=rbf;, score=0.810 total time=   0.0s\n",
            "[CV 4/5] END .....C=100, gamma=0.01, kernel=rbf;, score=0.833 total time=   0.0s\n",
            "[CV 5/5] END .....C=100, gamma=0.01, kernel=rbf;, score=0.786 total time=   0.0s\n",
            "[CV 1/5] END .C=100, gamma=0.001, kernel=linear;, score=0.767 total time=   0.1s\n",
            "[CV 2/5] END .C=100, gamma=0.001, kernel=linear;, score=0.860 total time=   0.0s\n",
            "[CV 3/5] END .C=100, gamma=0.001, kernel=linear;, score=0.857 total time=   0.0s\n",
            "[CV 4/5] END .C=100, gamma=0.001, kernel=linear;, score=0.833 total time=   0.0s\n",
            "[CV 5/5] END .C=100, gamma=0.001, kernel=linear;, score=0.762 total time=   0.0s\n",
            "[CV 1/5] END ....C=100, gamma=0.001, kernel=rbf;, score=0.767 total time=   0.0s\n",
            "[CV 2/5] END ....C=100, gamma=0.001, kernel=rbf;, score=0.860 total time=   0.0s\n",
            "[CV 3/5] END ....C=100, gamma=0.001, kernel=rbf;, score=0.857 total time=   0.0s\n",
            "[CV 4/5] END ....C=100, gamma=0.001, kernel=rbf;, score=0.786 total time=   0.0s\n",
            "[CV 5/5] END ....C=100, gamma=0.001, kernel=rbf;, score=0.786 total time=   0.0s\n",
            "[CV 1/5] END C=100, gamma=0.0001, kernel=linear;, score=0.767 total time=   0.1s\n",
            "[CV 2/5] END C=100, gamma=0.0001, kernel=linear;, score=0.860 total time=   0.0s\n",
            "[CV 3/5] END C=100, gamma=0.0001, kernel=linear;, score=0.857 total time=   0.0s\n",
            "[CV 4/5] END C=100, gamma=0.0001, kernel=linear;, score=0.833 total time=   0.0s\n",
            "[CV 5/5] END C=100, gamma=0.0001, kernel=linear;, score=0.762 total time=   0.0s\n",
            "[CV 1/5] END ...C=100, gamma=0.0001, kernel=rbf;, score=0.767 total time=   0.0s\n",
            "[CV 2/5] END ...C=100, gamma=0.0001, kernel=rbf;, score=0.860 total time=   0.0s\n",
            "[CV 3/5] END ...C=100, gamma=0.0001, kernel=rbf;, score=0.857 total time=   0.0s\n",
            "[CV 4/5] END ...C=100, gamma=0.0001, kernel=rbf;, score=0.786 total time=   0.0s\n",
            "[CV 5/5] END ...C=100, gamma=0.0001, kernel=rbf;, score=0.857 total time=   0.0s\n",
            "[CV 1/5] END ....C=1000, gamma=1, kernel=linear;, score=0.767 total time=   0.6s\n",
            "[CV 2/5] END ....C=1000, gamma=1, kernel=linear;, score=0.860 total time=   0.3s\n",
            "[CV 3/5] END ....C=1000, gamma=1, kernel=linear;, score=0.857 total time=   0.4s\n",
            "[CV 4/5] END ....C=1000, gamma=1, kernel=linear;, score=0.833 total time=   0.3s\n",
            "[CV 5/5] END ....C=1000, gamma=1, kernel=linear;, score=0.762 total time=   0.2s\n",
            "[CV 1/5] END .......C=1000, gamma=1, kernel=rbf;, score=0.558 total time=   0.0s\n",
            "[CV 2/5] END .......C=1000, gamma=1, kernel=rbf;, score=0.558 total time=   0.0s\n",
            "[CV 3/5] END .......C=1000, gamma=1, kernel=rbf;, score=0.619 total time=   0.0s\n",
            "[CV 4/5] END .......C=1000, gamma=1, kernel=rbf;, score=0.571 total time=   0.0s\n",
            "[CV 5/5] END .......C=1000, gamma=1, kernel=rbf;, score=0.571 total time=   0.0s\n",
            "[CV 1/5] END ..C=1000, gamma=0.1, kernel=linear;, score=0.767 total time=   0.6s\n",
            "[CV 2/5] END ..C=1000, gamma=0.1, kernel=linear;, score=0.860 total time=   0.3s\n",
            "[CV 3/5] END ..C=1000, gamma=0.1, kernel=linear;, score=0.857 total time=   0.4s\n",
            "[CV 4/5] END ..C=1000, gamma=0.1, kernel=linear;, score=0.833 total time=   0.3s\n",
            "[CV 5/5] END ..C=1000, gamma=0.1, kernel=linear;, score=0.762 total time=   0.2s\n",
            "[CV 1/5] END .....C=1000, gamma=0.1, kernel=rbf;, score=0.814 total time=   0.0s\n",
            "[CV 2/5] END .....C=1000, gamma=0.1, kernel=rbf;, score=0.860 total time=   0.0s\n",
            "[CV 3/5] END .....C=1000, gamma=0.1, kernel=rbf;, score=0.810 total time=   0.0s\n",
            "[CV 4/5] END .....C=1000, gamma=0.1, kernel=rbf;, score=0.786 total time=   0.0s\n",
            "[CV 5/5] END .....C=1000, gamma=0.1, kernel=rbf;, score=0.738 total time=   0.0s\n",
            "[CV 1/5] END .C=1000, gamma=0.01, kernel=linear;, score=0.767 total time=   0.6s\n",
            "[CV 2/5] END .C=1000, gamma=0.01, kernel=linear;, score=0.860 total time=   0.3s\n",
            "[CV 3/5] END .C=1000, gamma=0.01, kernel=linear;, score=0.857 total time=   0.4s\n",
            "[CV 4/5] END .C=1000, gamma=0.01, kernel=linear;, score=0.833 total time=   0.3s\n",
            "[CV 5/5] END .C=1000, gamma=0.01, kernel=linear;, score=0.762 total time=   0.2s\n",
            "[CV 1/5] END ....C=1000, gamma=0.01, kernel=rbf;, score=0.767 total time=   0.0s\n",
            "[CV 2/5] END ....C=1000, gamma=0.01, kernel=rbf;, score=0.860 total time=   0.0s\n",
            "[CV 3/5] END ....C=1000, gamma=0.01, kernel=rbf;, score=0.738 total time=   0.0s\n",
            "[CV 4/5] END ....C=1000, gamma=0.01, kernel=rbf;, score=0.810 total time=   0.0s\n",
            "[CV 5/5] END ....C=1000, gamma=0.01, kernel=rbf;, score=0.762 total time=   0.0s\n",
            "[CV 1/5] END C=1000, gamma=0.001, kernel=linear;, score=0.767 total time=   0.6s\n",
            "[CV 2/5] END C=1000, gamma=0.001, kernel=linear;, score=0.860 total time=   0.3s\n",
            "[CV 3/5] END C=1000, gamma=0.001, kernel=linear;, score=0.857 total time=   0.6s\n",
            "[CV 4/5] END C=1000, gamma=0.001, kernel=linear;, score=0.833 total time=   0.4s\n",
            "[CV 5/5] END C=1000, gamma=0.001, kernel=linear;, score=0.762 total time=   0.3s\n",
            "[CV 1/5] END ...C=1000, gamma=0.001, kernel=rbf;, score=0.814 total time=   0.0s\n",
            "[CV 2/5] END ...C=1000, gamma=0.001, kernel=rbf;, score=0.860 total time=   0.0s\n",
            "[CV 3/5] END ...C=1000, gamma=0.001, kernel=rbf;, score=0.857 total time=   0.0s\n",
            "[CV 4/5] END ...C=1000, gamma=0.001, kernel=rbf;, score=0.833 total time=   0.0s\n",
            "[CV 5/5] END ...C=1000, gamma=0.001, kernel=rbf;, score=0.786 total time=   0.0s\n",
            "[CV 1/5] END C=1000, gamma=0.0001, kernel=linear;, score=0.767 total time=   0.9s\n",
            "[CV 2/5] END C=1000, gamma=0.0001, kernel=linear;, score=0.860 total time=   0.4s\n",
            "[CV 3/5] END C=1000, gamma=0.0001, kernel=linear;, score=0.857 total time=   0.4s\n",
            "[CV 4/5] END C=1000, gamma=0.0001, kernel=linear;, score=0.833 total time=   0.3s\n",
            "[CV 5/5] END C=1000, gamma=0.0001, kernel=linear;, score=0.762 total time=   0.2s\n",
            "[CV 1/5] END ..C=1000, gamma=0.0001, kernel=rbf;, score=0.767 total time=   0.0s\n",
            "[CV 2/5] END ..C=1000, gamma=0.0001, kernel=rbf;, score=0.860 total time=   0.0s\n",
            "[CV 3/5] END ..C=1000, gamma=0.0001, kernel=rbf;, score=0.857 total time=   0.0s\n",
            "[CV 4/5] END ..C=1000, gamma=0.0001, kernel=rbf;, score=0.786 total time=   0.0s\n",
            "[CV 5/5] END ..C=1000, gamma=0.0001, kernel=rbf;, score=0.786 total time=   0.0s\n"
          ]
        },
        {
          "output_type": "execute_result",
          "data": {
            "text/plain": [
              "GridSearchCV(estimator=SVC(),\n",
              "             param_grid={'C': [0.1, 1, 10, 100, 1000],\n",
              "                         'gamma': [1, 0.1, 0.01, 0.001, 0.0001],\n",
              "                         'kernel': ['linear', 'rbf']},\n",
              "             verbose=3)"
            ],
            "text/html": [
              "<style>#sk-container-id-15 {color: black;background-color: white;}#sk-container-id-15 pre{padding: 0;}#sk-container-id-15 div.sk-toggleable {background-color: white;}#sk-container-id-15 label.sk-toggleable__label {cursor: pointer;display: block;width: 100%;margin-bottom: 0;padding: 0.3em;box-sizing: border-box;text-align: center;}#sk-container-id-15 label.sk-toggleable__label-arrow:before {content: \"▸\";float: left;margin-right: 0.25em;color: #696969;}#sk-container-id-15 label.sk-toggleable__label-arrow:hover:before {color: black;}#sk-container-id-15 div.sk-estimator:hover label.sk-toggleable__label-arrow:before {color: black;}#sk-container-id-15 div.sk-toggleable__content {max-height: 0;max-width: 0;overflow: hidden;text-align: left;background-color: #f0f8ff;}#sk-container-id-15 div.sk-toggleable__content pre {margin: 0.2em;color: black;border-radius: 0.25em;background-color: #f0f8ff;}#sk-container-id-15 input.sk-toggleable__control:checked~div.sk-toggleable__content {max-height: 200px;max-width: 100%;overflow: auto;}#sk-container-id-15 input.sk-toggleable__control:checked~label.sk-toggleable__label-arrow:before {content: \"▾\";}#sk-container-id-15 div.sk-estimator input.sk-toggleable__control:checked~label.sk-toggleable__label {background-color: #d4ebff;}#sk-container-id-15 div.sk-label input.sk-toggleable__control:checked~label.sk-toggleable__label {background-color: #d4ebff;}#sk-container-id-15 input.sk-hidden--visually {border: 0;clip: rect(1px 1px 1px 1px);clip: rect(1px, 1px, 1px, 1px);height: 1px;margin: -1px;overflow: hidden;padding: 0;position: absolute;width: 1px;}#sk-container-id-15 div.sk-estimator {font-family: monospace;background-color: #f0f8ff;border: 1px dotted black;border-radius: 0.25em;box-sizing: border-box;margin-bottom: 0.5em;}#sk-container-id-15 div.sk-estimator:hover {background-color: #d4ebff;}#sk-container-id-15 div.sk-parallel-item::after {content: \"\";width: 100%;border-bottom: 1px solid gray;flex-grow: 1;}#sk-container-id-15 div.sk-label:hover label.sk-toggleable__label {background-color: #d4ebff;}#sk-container-id-15 div.sk-serial::before {content: \"\";position: absolute;border-left: 1px solid gray;box-sizing: border-box;top: 0;bottom: 0;left: 50%;z-index: 0;}#sk-container-id-15 div.sk-serial {display: flex;flex-direction: column;align-items: center;background-color: white;padding-right: 0.2em;padding-left: 0.2em;position: relative;}#sk-container-id-15 div.sk-item {position: relative;z-index: 1;}#sk-container-id-15 div.sk-parallel {display: flex;align-items: stretch;justify-content: center;background-color: white;position: relative;}#sk-container-id-15 div.sk-item::before, #sk-container-id-15 div.sk-parallel-item::before {content: \"\";position: absolute;border-left: 1px solid gray;box-sizing: border-box;top: 0;bottom: 0;left: 50%;z-index: -1;}#sk-container-id-15 div.sk-parallel-item {display: flex;flex-direction: column;z-index: 1;position: relative;background-color: white;}#sk-container-id-15 div.sk-parallel-item:first-child::after {align-self: flex-end;width: 50%;}#sk-container-id-15 div.sk-parallel-item:last-child::after {align-self: flex-start;width: 50%;}#sk-container-id-15 div.sk-parallel-item:only-child::after {width: 0;}#sk-container-id-15 div.sk-dashed-wrapped {border: 1px dashed gray;margin: 0 0.4em 0.5em 0.4em;box-sizing: border-box;padding-bottom: 0.4em;background-color: white;}#sk-container-id-15 div.sk-label label {font-family: monospace;font-weight: bold;display: inline-block;line-height: 1.2em;}#sk-container-id-15 div.sk-label-container {text-align: center;}#sk-container-id-15 div.sk-container {/* jupyter's `normalize.less` sets `[hidden] { display: none; }` but bootstrap.min.css set `[hidden] { display: none !important; }` so we also need the `!important` here to be able to override the default hidden behavior on the sphinx rendered scikit-learn.org. See: https://github.com/scikit-learn/scikit-learn/issues/21755 */display: inline-block !important;position: relative;}#sk-container-id-15 div.sk-text-repr-fallback {display: none;}</style><div id=\"sk-container-id-15\" class=\"sk-top-container\"><div class=\"sk-text-repr-fallback\"><pre>GridSearchCV(estimator=SVC(),\n",
              "             param_grid={&#x27;C&#x27;: [0.1, 1, 10, 100, 1000],\n",
              "                         &#x27;gamma&#x27;: [1, 0.1, 0.01, 0.001, 0.0001],\n",
              "                         &#x27;kernel&#x27;: [&#x27;linear&#x27;, &#x27;rbf&#x27;]},\n",
              "             verbose=3)</pre><b>In a Jupyter environment, please rerun this cell to show the HTML representation or trust the notebook. <br />On GitHub, the HTML representation is unable to render, please try loading this page with nbviewer.org.</b></div><div class=\"sk-container\" hidden><div class=\"sk-item sk-dashed-wrapped\"><div class=\"sk-label-container\"><div class=\"sk-label sk-toggleable\"><input class=\"sk-toggleable__control sk-hidden--visually\" id=\"sk-estimator-id-33\" type=\"checkbox\" ><label for=\"sk-estimator-id-33\" class=\"sk-toggleable__label sk-toggleable__label-arrow\">GridSearchCV</label><div class=\"sk-toggleable__content\"><pre>GridSearchCV(estimator=SVC(),\n",
              "             param_grid={&#x27;C&#x27;: [0.1, 1, 10, 100, 1000],\n",
              "                         &#x27;gamma&#x27;: [1, 0.1, 0.01, 0.001, 0.0001],\n",
              "                         &#x27;kernel&#x27;: [&#x27;linear&#x27;, &#x27;rbf&#x27;]},\n",
              "             verbose=3)</pre></div></div></div><div class=\"sk-parallel\"><div class=\"sk-parallel-item\"><div class=\"sk-item\"><div class=\"sk-label-container\"><div class=\"sk-label sk-toggleable\"><input class=\"sk-toggleable__control sk-hidden--visually\" id=\"sk-estimator-id-34\" type=\"checkbox\" ><label for=\"sk-estimator-id-34\" class=\"sk-toggleable__label sk-toggleable__label-arrow\">estimator: SVC</label><div class=\"sk-toggleable__content\"><pre>SVC()</pre></div></div></div><div class=\"sk-serial\"><div class=\"sk-item\"><div class=\"sk-estimator sk-toggleable\"><input class=\"sk-toggleable__control sk-hidden--visually\" id=\"sk-estimator-id-35\" type=\"checkbox\" ><label for=\"sk-estimator-id-35\" class=\"sk-toggleable__label sk-toggleable__label-arrow\">SVC</label><div class=\"sk-toggleable__content\"><pre>SVC()</pre></div></div></div></div></div></div></div></div></div></div>"
            ]
          },
          "metadata": {},
          "execution_count": 135
        }
      ]
    },
    {
      "cell_type": "code",
      "source": [
        "# print best parameter after tuning\n",
        "print(grid.best_params_)\n",
        "\n",
        "# print how our model looks after hyper-parameter tuning\n",
        "print(grid.best_estimator_)"
      ],
      "metadata": {
        "colab": {
          "base_uri": "https://localhost:8080/"
        },
        "id": "iXmzAPPYpR-e",
        "outputId": "8c0133af-7251-4943-b411-6a3a0271e22a"
      },
      "execution_count": 136,
      "outputs": [
        {
          "output_type": "stream",
          "name": "stdout",
          "text": [
            "{'C': 1, 'gamma': 0.1, 'kernel': 'rbf'}\n",
            "SVC(C=1, gamma=0.1)\n"
          ]
        }
      ]
    },
    {
      "cell_type": "code",
      "source": [
        "grid_predictions = grid.predict(X_test_SVM)\n",
        "\n",
        "# print classification report\n",
        "print(classification_report(y_test_SVM, grid_predictions))"
      ],
      "metadata": {
        "colab": {
          "base_uri": "https://localhost:8080/"
        },
        "id": "l4bBSi8npURG",
        "outputId": "8dd6de4b-4ed9-4ca7-e93c-368e5cc33378"
      },
      "execution_count": 137,
      "outputs": [
        {
          "output_type": "stream",
          "name": "stdout",
          "text": [
            "              precision    recall  f1-score   support\n",
            "\n",
            "           0       0.84      0.80      0.82        46\n",
            "           1       0.81      0.84      0.83        45\n",
            "\n",
            "    accuracy                           0.82        91\n",
            "   macro avg       0.82      0.82      0.82        91\n",
            "weighted avg       0.82      0.82      0.82        91\n",
            "\n"
          ]
        }
      ]
    },
    {
      "cell_type": "markdown",
      "source": [
        "## **SVR (Regresión)**\n",
        "https://scikit-learn.org/stable/auto_examples/svm/plot_svm_regression.html"
      ],
      "metadata": {
        "id": "AuVgHe0CDeXO"
      }
    },
    {
      "cell_type": "code",
      "source": [
        "import matplotlib.pyplot as plt\n",
        "import numpy as np\n",
        "from sklearn.svm import SVR\n",
        "\n",
        "# Generamos los datos\n",
        "X = np.sort(5 * np.random.rand(40, 1), axis=0)\n",
        "y = np.sin(X).ravel()\n",
        "\n",
        "# add noise to targets\n",
        "y[::5] += 3 * (0.5 - np.random.rand(8))"
      ],
      "metadata": {
        "id": "dxW7l2QKDilO"
      },
      "execution_count": 138,
      "outputs": []
    },
    {
      "cell_type": "code",
      "source": [
        "svr_rbf = SVR(kernel=\"rbf\", C=100, gamma=0.1, epsilon=0.1)\n",
        "svr_lin = SVR(kernel=\"linear\", C=100, gamma=\"auto\")\n",
        "svr_poly = SVR(kernel=\"poly\", C=100, gamma=\"auto\", degree=3, epsilon=0.1, coef0=1)"
      ],
      "metadata": {
        "id": "clQr4FbWD8V2"
      },
      "execution_count": 139,
      "outputs": []
    },
    {
      "cell_type": "code",
      "source": [
        "lw = 2\n",
        "\n",
        "svrs = [svr_rbf, svr_lin, svr_poly]\n",
        "kernel_label = [\"RBF\", \"Linear\", \"Polynomial\"]\n",
        "model_color = [\"m\", \"c\", \"g\"]\n",
        "\n",
        "fig, axes = plt.subplots(nrows=1, ncols=3, figsize=(15, 10), sharey=True)\n",
        "for ix, svr in enumerate(svrs):\n",
        "    axes[ix].plot(\n",
        "        X,\n",
        "        svr.fit(X, y).predict(X),\n",
        "        color=model_color[ix],\n",
        "        lw=lw,\n",
        "        label=\"{} model\".format(kernel_label[ix]),\n",
        "    )\n",
        "    axes[ix].scatter(\n",
        "        X[svr.support_],\n",
        "        y[svr.support_],\n",
        "        facecolor=\"none\",\n",
        "        edgecolor=model_color[ix],\n",
        "        s=50,\n",
        "        label=\"{} support vectors\".format(kernel_label[ix]),\n",
        "    )\n",
        "    axes[ix].scatter(\n",
        "        X[np.setdiff1d(np.arange(len(X)), svr.support_)],\n",
        "        y[np.setdiff1d(np.arange(len(X)), svr.support_)],\n",
        "        facecolor=\"none\",\n",
        "        edgecolor=\"k\",\n",
        "        s=50,\n",
        "        label=\"other training data\",\n",
        "    )\n",
        "    axes[ix].legend(\n",
        "        loc=\"upper center\",\n",
        "        bbox_to_anchor=(0.5, 1.1),\n",
        "        ncol=1,\n",
        "        fancybox=True,\n",
        "        shadow=True,\n",
        "    )\n",
        "\n",
        "fig.text(0.5, 0.04, \"data\", ha=\"center\", va=\"center\")\n",
        "fig.text(0.06, 0.5, \"target\", ha=\"center\", va=\"center\", rotation=\"vertical\")\n",
        "fig.suptitle(\"Support Vector Regression\", fontsize=14)\n",
        "plt.show()"
      ],
      "metadata": {
        "colab": {
          "base_uri": "https://localhost:8080/",
          "height": 950
        },
        "id": "bTG0dOvHEsDV",
        "outputId": "ceb0380b-f3fe-445a-dcb4-48e04b95a456"
      },
      "execution_count": 140,
      "outputs": [
        {
          "output_type": "display_data",
          "data": {
            "text/plain": [
              "<Figure size 1500x1000 with 3 Axes>"
            ],
            "image/png": "[encoded data removed]"
          },
          "metadata": {}
        }
      ]
    },
    {
      "cell_type": "markdown",
      "metadata": {
        "id": "0njeES_9IWeu"
      },
      "source": [
        "# **DECISION TREE**"
      ]
    },
    {
      "cell_type": "code",
      "metadata": {
        "id": "SptB_5qqIZpq"
      },
      "source": [
        "y = df['target']\n",
        "X = df.drop(['target'],axis = 1)\n",
        "\n",
        "X_train_DT, X_test_DT, y_train_DT, y_test_DT = train_test_split(X_scaled, y, train_size=0.7)"
      ],
      "execution_count": 161,
      "outputs": []
    },
    {
      "cell_type": "code",
      "metadata": {
        "id": "uxhKofdgDglw"
      },
      "source": [
        "from sklearn import tree\n",
        "\n",
        "modelo = tree.DecisionTreeClassifier(random_state=0)\n",
        "modelo = clf.fit(X_train_DT, y_train_DT)"
      ],
      "execution_count": 166,
      "outputs": []
    },
    {
      "cell_type": "code",
      "metadata": {
        "id": "KbVVNiQeI83V"
      },
      "source": [
        "y_pred_DT = clf.predict(X_test_DT)"
      ],
      "execution_count": 167,
      "outputs": []
    },
    {
      "cell_type": "code",
      "metadata": {
        "colab": {
          "base_uri": "https://localhost:8080/"
        },
        "id": "hS9zcmDfLX0C",
        "outputId": "f83eaa27-9d4c-42be-e30d-f195ab40ceb6"
      },
      "source": [
        "print(\"Accuracy:\", modelo.score(X_test_DT, y_test_DT))"
      ],
      "execution_count": 168,
      "outputs": [
        {
          "output_type": "stream",
          "name": "stdout",
          "text": [
            "Accuracy: 0.7142857142857143\n"
          ]
        }
      ]
    },
    {
      "cell_type": "code",
      "source": [
        "from sklearn.tree import plot_tree\n",
        "\n",
        "fig, ax = plt.subplots(figsize = (14, 10))\n",
        "plot_tree(modelo, filled = True, feature_names = X.columns)\n",
        "plt.show()"
      ],
      "metadata": {
        "colab": {
          "base_uri": "https://localhost:8080/",
          "height": 807
        },
        "id": "9m1Z-9tcRhvm",
        "outputId": "fd67deb1-dbef-4a08-b908-46da634a6eda"
      },
      "execution_count": 169,
      "outputs": [
        {
          "output_type": "display_data",
          "data": {
            "text/plain": [
              "<Figure size 1400x1000 with 1 Axes>"
            ],
            "image/png": "[encoded data removed]"
          },
          "metadata": {}
        }
      ]
    },
    {
      "cell_type": "markdown",
      "metadata": {
        "id": "CxZJVAMFFj6C"
      },
      "source": [
        "## **PREGUNTA 6:** Del segundo al tercer nivel, ¿mejora la métrica *gini* en todos los casos?"
      ]
    },
    {
      "cell_type": "code",
      "metadata": {
        "colab": {
          "base_uri": "https://localhost:8080/"
        },
        "id": "obX5p545HKsm",
        "outputId": "6554538d-e33a-4e57-c5aa-f8b731608978"
      },
      "source": [
        "df['target'].value_counts()"
      ],
      "execution_count": 149,
      "outputs": [
        {
          "output_type": "execute_result",
          "data": {
            "text/plain": [
              "1    165\n",
              "0    138\n",
              "Name: target, dtype: int64"
            ]
          },
          "metadata": {},
          "execution_count": 149
        }
      ]
    },
    {
      "cell_type": "markdown",
      "metadata": {
        "id": "Ub_Az5vGKb9L"
      },
      "source": [
        "# **Precision:** cuantos pacientes hemos estimado correctamente que tienen un problema de corazón (TP) respecto el total de los que hemos estimado que lo tienen (TP+FP)"
      ]
    },
    {
      "cell_type": "code",
      "metadata": {
        "id": "NxiYbyipKAZR"
      },
      "source": [
        "from sklearn.metrics import precision_score"
      ],
      "execution_count": 150,
      "outputs": []
    },
    {
      "cell_type": "code",
      "metadata": {
        "colab": {
          "base_uri": "https://localhost:8080/"
        },
        "id": "0PVxjk3CHgXp",
        "outputId": "177b12ae-99f1-47b4-fcd8-ff908eedc0df"
      },
      "source": [
        "precision_score(y_test_logistic, y_pred_logistic, average='binary')"
      ],
      "execution_count": 170,
      "outputs": [
        {
          "output_type": "execute_result",
          "data": {
            "text/plain": [
              "0.8135593220338984"
            ]
          },
          "metadata": {},
          "execution_count": 170
        }
      ]
    },
    {
      "cell_type": "code",
      "metadata": {
        "colab": {
          "base_uri": "https://localhost:8080/"
        },
        "id": "M_XcPqIjH2JZ",
        "outputId": "5a8e495d-c059-45ed-d6d0-ac2c356c74e7"
      },
      "source": [
        "precision_score(y_test_SVM, y_pred_SVM, average='binary')"
      ],
      "execution_count": 171,
      "outputs": [
        {
          "output_type": "execute_result",
          "data": {
            "text/plain": [
              "0.8"
            ]
          },
          "metadata": {},
          "execution_count": 171
        }
      ]
    },
    {
      "cell_type": "code",
      "metadata": {
        "colab": {
          "base_uri": "https://localhost:8080/"
        },
        "id": "bVai46GyH2Dg",
        "outputId": "5e3446e2-c436-44e8-911a-769802450082"
      },
      "source": [
        "precision_score(y_test_DT, y_pred_DT, average='binary')"
      ],
      "execution_count": 172,
      "outputs": [
        {
          "output_type": "execute_result",
          "data": {
            "text/plain": [
              "0.7659574468085106"
            ]
          },
          "metadata": {},
          "execution_count": 172
        }
      ]
    },
    {
      "cell_type": "markdown",
      "metadata": {
        "id": "vSSalb9qKdVG"
      },
      "source": [
        "# **Recall:** cuantos pacientes hemos estimado que tienen problemas de corazón correctamente (TP) teniendo en cuenta los que si lo tienen y los que lo tienen pero se han clasificado como que no (FN) -> **NOS INTERESA**"
      ]
    },
    {
      "cell_type": "code",
      "metadata": {
        "id": "5DfwALhDKbI_"
      },
      "source": [
        "from sklearn.metrics import recall_score"
      ],
      "execution_count": 173,
      "outputs": []
    },
    {
      "cell_type": "code",
      "metadata": {
        "colab": {
          "base_uri": "https://localhost:8080/"
        },
        "id": "WS4azPTaKgJ7",
        "outputId": "64077402-dc0f-4507-c008-832d7afc582f"
      },
      "source": [
        "recall_score(y_test_logistic, y_pred_logistic, average='binary')"
      ],
      "execution_count": 174,
      "outputs": [
        {
          "output_type": "execute_result",
          "data": {
            "text/plain": [
              "0.9411764705882353"
            ]
          },
          "metadata": {},
          "execution_count": 174
        }
      ]
    },
    {
      "cell_type": "code",
      "metadata": {
        "colab": {
          "base_uri": "https://localhost:8080/"
        },
        "id": "5Xs9ocV_KgGd",
        "outputId": "c97a4eaf-e429-4b70-edbf-8aeb4160b189"
      },
      "source": [
        "recall_score(y_test_SVM, y_pred_SVM, average='binary')"
      ],
      "execution_count": 175,
      "outputs": [
        {
          "output_type": "execute_result",
          "data": {
            "text/plain": [
              "0.8888888888888888"
            ]
          },
          "metadata": {},
          "execution_count": 175
        }
      ]
    },
    {
      "cell_type": "code",
      "metadata": {
        "colab": {
          "base_uri": "https://localhost:8080/"
        },
        "id": "WEHc9d9DKgCG",
        "outputId": "005d9d34-0bd9-4467-a434-d7c6afb1e7a0"
      },
      "source": [
        "recall_score(y_test_DT, y_pred_DT, average='binary')"
      ],
      "execution_count": 158,
      "outputs": [
        {
          "output_type": "execute_result",
          "data": {
            "text/plain": [
              "0.6904761904761905"
            ]
          },
          "metadata": {},
          "execution_count": 158
        }
      ]
    },
    {
      "cell_type": "markdown",
      "metadata": {
        "id": "OiJqpBD3KoM2"
      },
      "source": [
        "# **PREGUNTA 7:** Si lo que nos interesa es acertar bien los que tienen problemas de corazón, aunque detectemos algunos que no lo sean (de esta manera evitamos que aquellos que sí que tienen problemas no los perdamos), ¿qué métrica debemos analizar? ¿Encontramos alguna diferencia entre el modelo que era mejor por accuracy que el modelo que es mejor en base a esta definición?\n"
      ]
    }
  ]
}