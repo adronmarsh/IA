{
  "nbformat": 4,
  "nbformat_minor": 0,
  "metadata": {
    "colab": {
      "provenance": []
    },
    "kernelspec": {
      "name": "python3",
      "display_name": "Python 3"
    },
    "language_info": {
      "name": "python"
    }
  },
  "cells": [
    {
      "cell_type": "markdown",
      "source": [
        "# **BERLIN AIRBNB**\n",
        "\n",
        "https://www.kaggle.com/datasets/lennarthaupts/airbnb-berlin-july-2021?resource=download"
      ],
      "metadata": {
        "id": "eQLyDb2jmScI"
      }
    },
    {
      "cell_type": "code",
      "source": [
        "import numpy as np\n",
        "import pandas as pd\n",
        "import seaborn as sns\n",
        "import matplotlib.pyplot as plt"
      ],
      "metadata": {
        "id": "iEwxoKY8nInI"
      },
      "execution_count": null,
      "outputs": []
    },
    {
      "cell_type": "code",
      "execution_count": null,
      "metadata": {
        "id": "n3HSZZc8l1yl",
        "colab": {
          "base_uri": "https://localhost:8080/"
        },
        "outputId": "fd8bfc58-7d6b-475e-e054-d85e9c1dabff"
      },
      "outputs": [
        {
          "output_type": "stream",
          "name": "stdout",
          "text": [
            "<class 'pandas.core.frame.DataFrame'>\n",
            "RangeIndex: 19095 entries, 0 to 19094\n",
            "Data columns (total 16 columns):\n",
            " #   Column                          Non-Null Count  Dtype  \n",
            "---  ------                          --------------  -----  \n",
            " 0   id                              19095 non-null  int64  \n",
            " 1   name                            19065 non-null  object \n",
            " 2   host_id                         19095 non-null  int64  \n",
            " 3   host_name                       19083 non-null  object \n",
            " 4   neighbourhood_group             19095 non-null  object \n",
            " 5   neighbourhood                   19095 non-null  object \n",
            " 6   latitude                        19095 non-null  float64\n",
            " 7   longitude                       19095 non-null  float64\n",
            " 8   room_type                       19095 non-null  object \n",
            " 9   price                           19095 non-null  int64  \n",
            " 10  minimum_nights                  19095 non-null  int64  \n",
            " 11  number_of_reviews               19095 non-null  int64  \n",
            " 12  last_review                     14940 non-null  object \n",
            " 13  reviews_per_month               14940 non-null  float64\n",
            " 14  calculated_host_listings_count  19095 non-null  int64  \n",
            " 15  availability_365                19095 non-null  int64  \n",
            "dtypes: float64(3), int64(7), object(6)\n",
            "memory usage: 2.3+ MB\n"
          ]
        }
      ],
      "source": [
        "data = pd.read_csv('listings_berlin.csv')\n",
        "data.info()"
      ]
    },
    {
      "cell_type": "code",
      "source": [
        "data.head()"
      ],
      "metadata": {
        "id": "y6B_ttgcoCBE",
        "colab": {
          "base_uri": "https://localhost:8080/",
          "height": 496
        },
        "outputId": "64fae29c-7eb4-4871-f26e-c004a233ce58"
      },
      "execution_count": null,
      "outputs": [
        {
          "output_type": "execute_result",
          "data": {
            "text/plain": [
              "     id                                               name  host_id host_name  \\\n",
              "0  1944         bright & airy Pberg/Mitte 3 months or more     2164     Lulah   \n",
              "1  2015   Berlin-Mitte Value! Quiet courtyard/very central     2217       Ion   \n",
              "2  3176                    Fabulous Flat in great Location     3718    Britta   \n",
              "3  3309                  BerlinSpot Schöneberg near KaDeWe     4108      Jana   \n",
              "4  6883  Stylish East Side Loft in Center with AC & 2 b...    16149   Steffen   \n",
              "\n",
              "        neighbourhood_group             neighbourhood  latitude  longitude  \\\n",
              "0                     Mitte          Brunnenstr. Nord  52.54433   13.39761   \n",
              "1                     Mitte           Brunnenstr. Süd  52.53305   13.40394   \n",
              "2                    Pankow   Prenzlauer Berg Südwest  52.53471   13.41810   \n",
              "3    Tempelhof - Schöneberg           Schöneberg-Nord  52.49884   13.34940   \n",
              "4  Friedrichshain-Kreuzberg  Frankfurter Allee Süd FK  52.51163   13.45289   \n",
              "\n",
              "         room_type  price  minimum_nights  number_of_reviews last_review  \\\n",
              "0     Private room     28              60                 18  2018-11-11   \n",
              "1  Entire home/apt     74              90                141  2020-04-03   \n",
              "2  Entire home/apt     90              62                147  2017-03-20   \n",
              "3     Private room     29               7                 27  2018-08-16   \n",
              "4  Entire home/apt     79               7                135  2021-01-02   \n",
              "\n",
              "   reviews_per_month  calculated_host_listings_count  availability_365  \n",
              "0               0.21                               3               101  \n",
              "1               2.20                               6               357  \n",
              "2               1.14                               1               254  \n",
              "3               0.28                               1               285  \n",
              "4               1.02                               1                 0  "
            ],
            "text/html": [
              "\n",
              "  <div id=\"df-cbf4209d-8dad-4a3f-9799-39c4c7056f2e\">\n",
              "    <div class=\"colab-df-container\">\n",
              "      <div>\n",
              "<style scoped>\n",
              "    .dataframe tbody tr th:only-of-type {\n",
              "        vertical-align: middle;\n",
              "    }\n",
              "\n",
              "    .dataframe tbody tr th {\n",
              "        vertical-align: top;\n",
              "    }\n",
              "\n",
              "    .dataframe thead th {\n",
              "        text-align: right;\n",
              "    }\n",
              "</style>\n",
              "<table border=\"1\" class=\"dataframe\">\n",
              "  <thead>\n",
              "    <tr style=\"text-align: right;\">\n",
              "      <th></th>\n",
              "      <th>id</th>\n",
              "      <th>name</th>\n",
              "      <th>host_id</th>\n",
              "      <th>host_name</th>\n",
              "      <th>neighbourhood_group</th>\n",
              "      <th>neighbourhood</th>\n",
              "      <th>latitude</th>\n",
              "      <th>longitude</th>\n",
              "      <th>room_type</th>\n",
              "      <th>price</th>\n",
              "      <th>minimum_nights</th>\n",
              "      <th>number_of_reviews</th>\n",
              "      <th>last_review</th>\n",
              "      <th>reviews_per_month</th>\n",
              "      <th>calculated_host_listings_count</th>\n",
              "      <th>availability_365</th>\n",
              "    </tr>\n",
              "  </thead>\n",
              "  <tbody>\n",
              "    <tr>\n",
              "      <th>0</th>\n",
              "      <td>1944</td>\n",
              "      <td>bright &amp; airy Pberg/Mitte 3 months or more</td>\n",
              "      <td>2164</td>\n",
              "      <td>Lulah</td>\n",
              "      <td>Mitte</td>\n",
              "      <td>Brunnenstr. Nord</td>\n",
              "      <td>52.54433</td>\n",
              "      <td>13.39761</td>\n",
              "      <td>Private room</td>\n",
              "      <td>28</td>\n",
              "      <td>60</td>\n",
              "      <td>18</td>\n",
              "      <td>2018-11-11</td>\n",
              "      <td>0.21</td>\n",
              "      <td>3</td>\n",
              "      <td>101</td>\n",
              "    </tr>\n",
              "    <tr>\n",
              "      <th>1</th>\n",
              "      <td>2015</td>\n",
              "      <td>Berlin-Mitte Value! Quiet courtyard/very central</td>\n",
              "      <td>2217</td>\n",
              "      <td>Ion</td>\n",
              "      <td>Mitte</td>\n",
              "      <td>Brunnenstr. Süd</td>\n",
              "      <td>52.53305</td>\n",
              "      <td>13.40394</td>\n",
              "      <td>Entire home/apt</td>\n",
              "      <td>74</td>\n",
              "      <td>90</td>\n",
              "      <td>141</td>\n",
              "      <td>2020-04-03</td>\n",
              "      <td>2.20</td>\n",
              "      <td>6</td>\n",
              "      <td>357</td>\n",
              "    </tr>\n",
              "    <tr>\n",
              "      <th>2</th>\n",
              "      <td>3176</td>\n",
              "      <td>Fabulous Flat in great Location</td>\n",
              "      <td>3718</td>\n",
              "      <td>Britta</td>\n",
              "      <td>Pankow</td>\n",
              "      <td>Prenzlauer Berg Südwest</td>\n",
              "      <td>52.53471</td>\n",
              "      <td>13.41810</td>\n",
              "      <td>Entire home/apt</td>\n",
              "      <td>90</td>\n",
              "      <td>62</td>\n",
              "      <td>147</td>\n",
              "      <td>2017-03-20</td>\n",
              "      <td>1.14</td>\n",
              "      <td>1</td>\n",
              "      <td>254</td>\n",
              "    </tr>\n",
              "    <tr>\n",
              "      <th>3</th>\n",
              "      <td>3309</td>\n",
              "      <td>BerlinSpot Schöneberg near KaDeWe</td>\n",
              "      <td>4108</td>\n",
              "      <td>Jana</td>\n",
              "      <td>Tempelhof - Schöneberg</td>\n",
              "      <td>Schöneberg-Nord</td>\n",
              "      <td>52.49884</td>\n",
              "      <td>13.34940</td>\n",
              "      <td>Private room</td>\n",
              "      <td>29</td>\n",
              "      <td>7</td>\n",
              "      <td>27</td>\n",
              "      <td>2018-08-16</td>\n",
              "      <td>0.28</td>\n",
              "      <td>1</td>\n",
              "      <td>285</td>\n",
              "    </tr>\n",
              "    <tr>\n",
              "      <th>4</th>\n",
              "      <td>6883</td>\n",
              "      <td>Stylish East Side Loft in Center with AC &amp; 2 b...</td>\n",
              "      <td>16149</td>\n",
              "      <td>Steffen</td>\n",
              "      <td>Friedrichshain-Kreuzberg</td>\n",
              "      <td>Frankfurter Allee Süd FK</td>\n",
              "      <td>52.51163</td>\n",
              "      <td>13.45289</td>\n",
              "      <td>Entire home/apt</td>\n",
              "      <td>79</td>\n",
              "      <td>7</td>\n",
              "      <td>135</td>\n",
              "      <td>2021-01-02</td>\n",
              "      <td>1.02</td>\n",
              "      <td>1</td>\n",
              "      <td>0</td>\n",
              "    </tr>\n",
              "  </tbody>\n",
              "</table>\n",
              "</div>\n",
              "      <button class=\"colab-df-convert\" onclick=\"convertToInteractive('df-cbf4209d-8dad-4a3f-9799-39c4c7056f2e')\"\n",
              "              title=\"Convert this dataframe to an interactive table.\"\n",
              "              style=\"display:none;\">\n",
              "        \n",
              "  <svg xmlns=\"http://www.w3.org/2000/svg\" height=\"24px\"viewBox=\"0 0 24 24\"\n",
              "       width=\"24px\">\n",
              "    <path d=\"M0 0h24v24H0V0z\" fill=\"none\"/>\n",
              "    <path d=\"M18.56 5.44l.94 2.06.94-2.06 2.06-.94-2.06-.94-.94-2.06-.94 2.06-2.06.94zm-11 1L8.5 8.5l.94-2.06 2.06-.94-2.06-.94L8.5 2.5l-.94 2.06-2.06.94zm10 10l.94 2.06.94-2.06 2.06-.94-2.06-.94-.94-2.06-.94 2.06-2.06.94z\"/><path d=\"M17.41 7.96l-1.37-1.37c-.4-.4-.92-.59-1.43-.59-.52 0-1.04.2-1.43.59L10.3 9.45l-7.72 7.72c-.78.78-.78 2.05 0 2.83L4 21.41c.39.39.9.59 1.41.59.51 0 1.02-.2 1.41-.59l7.78-7.78 2.81-2.81c.8-.78.8-2.07 0-2.86zM5.41 20L4 18.59l7.72-7.72 1.47 1.35L5.41 20z\"/>\n",
              "  </svg>\n",
              "      </button>\n",
              "      \n",
              "  <style>\n",
              "    .colab-df-container {\n",
              "      display:flex;\n",
              "      flex-wrap:wrap;\n",
              "      gap: 12px;\n",
              "    }\n",
              "\n",
              "    .colab-df-convert {\n",
              "      background-color: #E8F0FE;\n",
              "      border: none;\n",
              "      border-radius: 50%;\n",
              "      cursor: pointer;\n",
              "      display: none;\n",
              "      fill: #1967D2;\n",
              "      height: 32px;\n",
              "      padding: 0 0 0 0;\n",
              "      width: 32px;\n",
              "    }\n",
              "\n",
              "    .colab-df-convert:hover {\n",
              "      background-color: #E2EBFA;\n",
              "      box-shadow: 0px 1px 2px rgba(60, 64, 67, 0.3), 0px 1px 3px 1px rgba(60, 64, 67, 0.15);\n",
              "      fill: #174EA6;\n",
              "    }\n",
              "\n",
              "    [theme=dark] .colab-df-convert {\n",
              "      background-color: #3B4455;\n",
              "      fill: #D2E3FC;\n",
              "    }\n",
              "\n",
              "    [theme=dark] .colab-df-convert:hover {\n",
              "      background-color: #434B5C;\n",
              "      box-shadow: 0px 1px 3px 1px rgba(0, 0, 0, 0.15);\n",
              "      filter: drop-shadow(0px 1px 2px rgba(0, 0, 0, 0.3));\n",
              "      fill: #FFFFFF;\n",
              "    }\n",
              "  </style>\n",
              "\n",
              "      <script>\n",
              "        const buttonEl =\n",
              "          document.querySelector('#df-cbf4209d-8dad-4a3f-9799-39c4c7056f2e button.colab-df-convert');\n",
              "        buttonEl.style.display =\n",
              "          google.colab.kernel.accessAllowed ? 'block' : 'none';\n",
              "\n",
              "        async function convertToInteractive(key) {\n",
              "          const element = document.querySelector('#df-cbf4209d-8dad-4a3f-9799-39c4c7056f2e');\n",
              "          const dataTable =\n",
              "            await google.colab.kernel.invokeFunction('convertToInteractive',\n",
              "                                                     [key], {});\n",
              "          if (!dataTable) return;\n",
              "\n",
              "          const docLinkHtml = 'Like what you see? Visit the ' +\n",
              "            '<a target=\"_blank\" href=https://colab.research.google.com/notebooks/data_table.ipynb>data table notebook</a>'\n",
              "            + ' to learn more about interactive tables.';\n",
              "          element.innerHTML = '';\n",
              "          dataTable['output_type'] = 'display_data';\n",
              "          await google.colab.output.renderOutput(dataTable, element);\n",
              "          const docLink = document.createElement('div');\n",
              "          docLink.innerHTML = docLinkHtml;\n",
              "          element.appendChild(docLink);\n",
              "        }\n",
              "      </script>\n",
              "    </div>\n",
              "  </div>\n",
              "  "
            ]
          },
          "metadata": {},
          "execution_count": 188
        }
      ]
    },
    {
      "cell_type": "code",
      "source": [
        "porcentajes = (data.isnull().sum()/len(data))*100\n",
        "porcentajes"
      ],
      "metadata": {
        "id": "yuIVIFKXXciY",
        "colab": {
          "base_uri": "https://localhost:8080/"
        },
        "outputId": "da362927-8727-4e8b-ec79-f138e5fd4ed2"
      },
      "execution_count": null,
      "outputs": [
        {
          "output_type": "execute_result",
          "data": {
            "text/plain": [
              "id                                 0.000000\n",
              "name                               0.157109\n",
              "host_id                            0.000000\n",
              "host_name                          0.062844\n",
              "neighbourhood_group                0.000000\n",
              "neighbourhood                      0.000000\n",
              "latitude                           0.000000\n",
              "longitude                          0.000000\n",
              "room_type                          0.000000\n",
              "price                              0.000000\n",
              "minimum_nights                     0.000000\n",
              "number_of_reviews                  0.000000\n",
              "last_review                       21.759623\n",
              "reviews_per_month                 21.759623\n",
              "calculated_host_listings_count     0.000000\n",
              "availability_365                   0.000000\n",
              "dtype: float64"
            ]
          },
          "metadata": {},
          "execution_count": 189
        }
      ]
    },
    {
      "cell_type": "markdown",
      "source": [
        "# **DATA CLEANING**\n",
        "\n",
        "Vamos a ver que atributos nos pueden ser de utilidad"
      ],
      "metadata": {
        "id": "TOQpL-NXodmP"
      }
    },
    {
      "cell_type": "markdown",
      "source": [
        "## **id, name, host_id y host_name**"
      ],
      "metadata": {
        "id": "0jqQqgT2tXx-"
      }
    },
    {
      "cell_type": "code",
      "source": [
        "# En principio parece que podemos prescindir de id, name, host_id y host_name\n",
        "data = data.drop(['id', 'name', 'host_id', 'host_name'], axis=1)"
      ],
      "metadata": {
        "id": "T8GkDgMJpYCT"
      },
      "execution_count": null,
      "outputs": []
    },
    {
      "cell_type": "markdown",
      "source": [
        "## **zona**\n",
        "\n",
        "Vamos a crear una nueva variable, zona, que puede ser Berlín este o Berlín oeste, o Friedrichshain-Kreuzberg, que comprende tanto Berlín este como Berlín oeste, que usaremos con posterioridad para clasificación"
      ],
      "metadata": {
        "id": "jiQ9z27v6BY7"
      }
    },
    {
      "cell_type": "code",
      "source": [
        "# Vamos a crear una nueva variable\n",
        "\n",
        "east = ['Treptow - Köpenick', 'Marzahn - Hellersdorf', 'Lichtenberg', 'Pankow', 'Mitte']\n",
        "\n",
        "data['zona'] = 'west'\n",
        "for e in east:\n",
        "    data['zona'][data['neighbourhood_group'] == e] = 'east'\n",
        "# Hay zonas de Friedrichshain-Kreuzberg que pueden pertenecer tanto a Berlín este como a Berlín oeste\n",
        "data['zona'][data['neighbourhood_group'] == 'Friedrichshain-Kreuzberg'] = 'Friedrichshain-Kreuzberg'"
      ],
      "metadata": {
        "colab": {
          "base_uri": "https://localhost:8080/"
        },
        "id": "vrpctDPU6FvN",
        "outputId": "4dba3a3d-6c41-4f54-a414-2b4360f1f0a4"
      },
      "execution_count": null,
      "outputs": [
        {
          "output_type": "stream",
          "name": "stderr",
          "text": [
            "<ipython-input-191-64123fd604e1>:7: SettingWithCopyWarning: \n",
            "A value is trying to be set on a copy of a slice from a DataFrame\n",
            "\n",
            "See the caveats in the documentation: https://pandas.pydata.org/pandas-docs/stable/user_guide/indexing.html#returning-a-view-versus-a-copy\n",
            "  data['zona'][data['neighbourhood_group'] == e] = 'east'\n",
            "<ipython-input-191-64123fd604e1>:9: SettingWithCopyWarning: \n",
            "A value is trying to be set on a copy of a slice from a DataFrame\n",
            "\n",
            "See the caveats in the documentation: https://pandas.pydata.org/pandas-docs/stable/user_guide/indexing.html#returning-a-view-versus-a-copy\n",
            "  data['zona'][data['neighbourhood_group'] == 'Friedrichshain-Kreuzberg'] = 'Friedrichshain-Kreuzberg'\n"
          ]
        }
      ]
    },
    {
      "cell_type": "code",
      "source": [
        "data['zona'].value_counts()"
      ],
      "metadata": {
        "colab": {
          "base_uri": "https://localhost:8080/"
        },
        "id": "70myWdOv6Z77",
        "outputId": "d9add275-1c13-434d-8c4a-89796370dcc6"
      },
      "execution_count": null,
      "outputs": [
        {
          "output_type": "execute_result",
          "data": {
            "text/plain": [
              "east                        8528\n",
              "west                        6370\n",
              "Friedrichshain-Kreuzberg    4197\n",
              "Name: zona, dtype: int64"
            ]
          },
          "metadata": {},
          "execution_count": 192
        }
      ]
    },
    {
      "cell_type": "code",
      "source": [
        "data['zona']=data['zona'].astype('category').cat.codes"
      ],
      "metadata": {
        "id": "41sHaCib7QI0"
      },
      "execution_count": null,
      "outputs": []
    },
    {
      "cell_type": "markdown",
      "source": [
        "## **neighbourhood_group y neighbourhood**\n",
        "\n",
        "neighbourhood_group hace referencia a 12 diferentes distritos que a su vez contienen barrios (neighbourhood)"
      ],
      "metadata": {
        "id": "YK-xSRpvtHUG"
      }
    },
    {
      "cell_type": "code",
      "source": [
        "data['neighbourhood_group'].value_counts()"
      ],
      "metadata": {
        "id": "RgRucb4asKL2",
        "colab": {
          "base_uri": "https://localhost:8080/"
        },
        "outputId": "bd90f299-bacb-4945-d42e-da31213bc3ce"
      },
      "execution_count": null,
      "outputs": [
        {
          "output_type": "execute_result",
          "data": {
            "text/plain": [
              "Friedrichshain-Kreuzberg    4197\n",
              "Mitte                       4173\n",
              "Pankow                      2981\n",
              "Neukölln                    2608\n",
              "Charlottenburg-Wilm.        1567\n",
              "Tempelhof - Schöneberg      1371\n",
              "Treptow - Köpenick           620\n",
              "Lichtenberg                  612\n",
              "Steglitz - Zehlendorf        415\n",
              "Reinickendorf                271\n",
              "Marzahn - Hellersdorf        142\n",
              "Spandau                      138\n",
              "Name: neighbourhood_group, dtype: int64"
            ]
          },
          "metadata": {},
          "execution_count": 194
        }
      ]
    },
    {
      "cell_type": "code",
      "source": [
        "# Para simplificar nos quedamos con neighbourhood_group\n",
        "data['neighbourhood_group']=data['neighbourhood_group'].astype('category').cat.codes\n",
        "data = data.drop(['neighbourhood'], axis=1)"
      ],
      "metadata": {
        "id": "rt_M0iSVwSnm"
      },
      "execution_count": null,
      "outputs": []
    },
    {
      "cell_type": "markdown",
      "source": [
        "## **latitude y longitude**"
      ],
      "metadata": {
        "id": "0b2mVT7OthOV"
      }
    },
    {
      "cell_type": "code",
      "source": [
        "# Parece lógico que el precio dependa de la distancia al centro de Berlín\n",
        "\n",
        "# Coordenadas del centro de Berlín\n",
        "berlin = (52.52437, 13.41053)\n",
        "\n",
        "import geopy.distance\n",
        "data['to_centre'] = np.nan\n",
        "for i in data.index:\n",
        "    data['to_centre'][i] = geopy.distance.distance(berlin, (data['latitude'][i], data['longitude'][i])).km"
      ],
      "metadata": {
        "id": "fZPPqGuEtqXe",
        "colab": {
          "base_uri": "https://localhost:8080/"
        },
        "outputId": "388d7ac6-c003-47e9-b8fd-195b398e0d05"
      },
      "execution_count": null,
      "outputs": [
        {
          "output_type": "stream",
          "name": "stderr",
          "text": [
            "<ipython-input-196-15df7a428d15>:9: SettingWithCopyWarning: \n",
            "A value is trying to be set on a copy of a slice from a DataFrame\n",
            "\n",
            "See the caveats in the documentation: https://pandas.pydata.org/pandas-docs/stable/user_guide/indexing.html#returning-a-view-versus-a-copy\n",
            "  data['to_centre'][i] = geopy.distance.distance(berlin, (data['latitude'][i], data['longitude'][i])).km\n"
          ]
        }
      ]
    },
    {
      "cell_type": "code",
      "source": [
        "data = data.drop(['latitude', 'longitude'], axis=1)"
      ],
      "metadata": {
        "id": "uN24kaKivGg-"
      },
      "execution_count": null,
      "outputs": []
    },
    {
      "cell_type": "code",
      "source": [
        "data.info()"
      ],
      "metadata": {
        "id": "0Zdt8oDHxTn3",
        "colab": {
          "base_uri": "https://localhost:8080/"
        },
        "outputId": "ed97ea69-2406-4d97-a1a5-6554d0c30d85"
      },
      "execution_count": null,
      "outputs": [
        {
          "output_type": "stream",
          "name": "stdout",
          "text": [
            "<class 'pandas.core.frame.DataFrame'>\n",
            "RangeIndex: 19095 entries, 0 to 19094\n",
            "Data columns (total 11 columns):\n",
            " #   Column                          Non-Null Count  Dtype  \n",
            "---  ------                          --------------  -----  \n",
            " 0   neighbourhood_group             19095 non-null  int8   \n",
            " 1   room_type                       19095 non-null  object \n",
            " 2   price                           19095 non-null  int64  \n",
            " 3   minimum_nights                  19095 non-null  int64  \n",
            " 4   number_of_reviews               19095 non-null  int64  \n",
            " 5   last_review                     14940 non-null  object \n",
            " 6   reviews_per_month               14940 non-null  float64\n",
            " 7   calculated_host_listings_count  19095 non-null  int64  \n",
            " 8   availability_365                19095 non-null  int64  \n",
            " 9   zona                            19095 non-null  int8   \n",
            " 10  to_centre                       19095 non-null  float64\n",
            "dtypes: float64(2), int64(5), int8(2), object(2)\n",
            "memory usage: 1.3+ MB\n"
          ]
        }
      ]
    },
    {
      "cell_type": "markdown",
      "source": [
        "## **room_type**"
      ],
      "metadata": {
        "id": "DJzfaSgEyY7b"
      }
    },
    {
      "cell_type": "code",
      "source": [
        "data['room_type'].value_counts()"
      ],
      "metadata": {
        "id": "23fv2h42zEM0",
        "colab": {
          "base_uri": "https://localhost:8080/"
        },
        "outputId": "5ae8e358-774a-4775-bf78-0e7d11e16a6e"
      },
      "execution_count": null,
      "outputs": [
        {
          "output_type": "execute_result",
          "data": {
            "text/plain": [
              "Entire home/apt    10636\n",
              "Private room        8042\n",
              "Shared room          249\n",
              "Hotel room           168\n",
              "Name: room_type, dtype: int64"
            ]
          },
          "metadata": {},
          "execution_count": 199
        }
      ]
    },
    {
      "cell_type": "code",
      "source": [
        "data['room_type']=data['room_type'].astype('category').cat.codes"
      ],
      "metadata": {
        "id": "Yz1RtUHEzQyj"
      },
      "execution_count": null,
      "outputs": []
    },
    {
      "cell_type": "markdown",
      "source": [
        "## **number_of_reviews, last_review y reviews_per_month**"
      ],
      "metadata": {
        "id": "x5sej4xNyftr"
      }
    },
    {
      "cell_type": "code",
      "source": [
        "porcentajes = (data.isnull().sum()/len(data))*100\n",
        "porcentajes"
      ],
      "metadata": {
        "id": "NLWz6xqXzgGU",
        "colab": {
          "base_uri": "https://localhost:8080/"
        },
        "outputId": "cceacdd1-59fb-4a7a-884a-a36268227aaf"
      },
      "execution_count": null,
      "outputs": [
        {
          "output_type": "execute_result",
          "data": {
            "text/plain": [
              "neighbourhood_group                0.000000\n",
              "room_type                          0.000000\n",
              "price                              0.000000\n",
              "minimum_nights                     0.000000\n",
              "number_of_reviews                  0.000000\n",
              "last_review                       21.759623\n",
              "reviews_per_month                 21.759623\n",
              "calculated_host_listings_count     0.000000\n",
              "availability_365                   0.000000\n",
              "zona                               0.000000\n",
              "to_centre                          0.000000\n",
              "dtype: float64"
            ]
          },
          "metadata": {},
          "execution_count": 201
        }
      ]
    },
    {
      "cell_type": "code",
      "source": [
        "# Cuando last_review y reviews_per_month están a nulos es porque todavía no ha tenido ninguna visualización\n",
        "data = data.dropna()"
      ],
      "metadata": {
        "id": "Mz2q2IO8Vfgz"
      },
      "execution_count": null,
      "outputs": []
    },
    {
      "cell_type": "code",
      "source": [
        "# De la fecha de la última visualización nos quedamos con el año\n",
        "data['last_review'] = data['last_review'].str.slice(stop=4).astype('float64')"
      ],
      "metadata": {
        "id": "geXgAVmt0xLp",
        "colab": {
          "base_uri": "https://localhost:8080/"
        },
        "outputId": "9e8c2a61-4591-423d-c816-e6c0b7e649a2"
      },
      "execution_count": null,
      "outputs": [
        {
          "output_type": "stream",
          "name": "stderr",
          "text": [
            "<ipython-input-203-3458f3d63a17>:2: SettingWithCopyWarning: \n",
            "A value is trying to be set on a copy of a slice from a DataFrame.\n",
            "Try using .loc[row_indexer,col_indexer] = value instead\n",
            "\n",
            "See the caveats in the documentation: https://pandas.pydata.org/pandas-docs/stable/user_guide/indexing.html#returning-a-view-versus-a-copy\n",
            "  data['last_review'] = data['last_review'].str.slice(stop=4).astype('float64')\n"
          ]
        }
      ]
    },
    {
      "cell_type": "code",
      "source": [
        "data.info()"
      ],
      "metadata": {
        "id": "OtwvApC23qTs",
        "colab": {
          "base_uri": "https://localhost:8080/"
        },
        "outputId": "79de1091-23c8-4af8-e872-394268b0383c"
      },
      "execution_count": null,
      "outputs": [
        {
          "output_type": "stream",
          "name": "stdout",
          "text": [
            "<class 'pandas.core.frame.DataFrame'>\n",
            "Int64Index: 14940 entries, 0 to 19033\n",
            "Data columns (total 11 columns):\n",
            " #   Column                          Non-Null Count  Dtype  \n",
            "---  ------                          --------------  -----  \n",
            " 0   neighbourhood_group             14940 non-null  int8   \n",
            " 1   room_type                       14940 non-null  int8   \n",
            " 2   price                           14940 non-null  int64  \n",
            " 3   minimum_nights                  14940 non-null  int64  \n",
            " 4   number_of_reviews               14940 non-null  int64  \n",
            " 5   last_review                     14940 non-null  float64\n",
            " 6   reviews_per_month               14940 non-null  float64\n",
            " 7   calculated_host_listings_count  14940 non-null  int64  \n",
            " 8   availability_365                14940 non-null  int64  \n",
            " 9   zona                            14940 non-null  int8   \n",
            " 10  to_centre                       14940 non-null  float64\n",
            "dtypes: float64(3), int64(5), int8(3)\n",
            "memory usage: 1.1 MB\n"
          ]
        }
      ]
    },
    {
      "cell_type": "markdown",
      "source": [
        "## **Variable objetivo: price**"
      ],
      "metadata": {
        "id": "LNcNg8Iu4FUc"
      }
    },
    {
      "cell_type": "code",
      "source": [
        "plt.boxplot(data['price'])\n",
        "plt.title(\"Precios\")\n",
        "plt.show()"
      ],
      "metadata": {
        "id": "mUhUqIJpFSp7",
        "colab": {
          "base_uri": "https://localhost:8080/",
          "height": 554
        },
        "outputId": "052cdfbb-7f38-4f2a-bb02-29ce4cef39c2"
      },
      "execution_count": null,
      "outputs": [
        {
          "output_type": "display_data",
          "data": {
            "text/plain": [
              "<Figure size 1152x648 with 1 Axes>"
            ],
            "image/png": "[encoded data removed]"
          },
          "metadata": {}
        }
      ]
    },
    {
      "cell_type": "code",
      "source": [
        "# Vemos que hay muchos outliers\n",
        "# 99% de los precios está por debajo de 300 euros, aproximadamente\n",
        "data['price'].quantile(0.99)"
      ],
      "metadata": {
        "id": "PPYbyFEu3vd6",
        "colab": {
          "base_uri": "https://localhost:8080/"
        },
        "outputId": "4a47ce13-2c93-4f5c-fbfa-2031dbce0980"
      },
      "execution_count": null,
      "outputs": [
        {
          "output_type": "execute_result",
          "data": {
            "text/plain": [
              "299.0"
            ]
          },
          "metadata": {},
          "execution_count": 206
        }
      ]
    },
    {
      "cell_type": "code",
      "source": [
        "# Vamos a eliminar aquellos registros con precio igual a 0 o superior a 300 para que no nos distorsione los resultados\n",
        "data = data[data['price']<=300]\n",
        "data = data[data['price']>0]"
      ],
      "metadata": {
        "id": "BDljBbmKHPV2"
      },
      "execution_count": null,
      "outputs": []
    },
    {
      "cell_type": "code",
      "source": [
        "data.describe()"
      ],
      "metadata": {
        "colab": {
          "base_uri": "https://localhost:8080/",
          "height": 364
        },
        "id": "hWP9R7PczeSj",
        "outputId": "53979c46-3642-4cc9-9688-c5f9e7d77f75"
      },
      "execution_count": null,
      "outputs": [
        {
          "output_type": "execute_result",
          "data": {
            "text/plain": [
              "       neighbourhood_group     room_type         price  minimum_nights  \\\n",
              "count         14806.000000  14806.000000  14806.000000    14806.000000   \n",
              "mean              4.219776      0.893151     65.184250        8.030461   \n",
              "std               2.982657      1.009210     44.968027       32.285343   \n",
              "min               0.000000      0.000000      8.000000        1.000000   \n",
              "25%               1.000000      0.000000     35.000000        2.000000   \n",
              "50%               4.000000      0.000000     50.000000        3.000000   \n",
              "75%               6.000000      2.000000     80.000000        5.000000   \n",
              "max              11.000000      3.000000    300.000000     1124.000000   \n",
              "\n",
              "       number_of_reviews   last_review  reviews_per_month  \\\n",
              "count       14806.000000  14806.000000       14806.000000   \n",
              "mean           27.637377   2018.694178           0.717860   \n",
              "std            53.550624      1.632109           1.449207   \n",
              "min             1.000000   2012.000000           0.010000   \n",
              "25%             2.000000   2018.000000           0.090000   \n",
              "50%             7.000000   2019.000000           0.270000   \n",
              "75%            25.000000   2020.000000           0.830000   \n",
              "max           620.000000   2021.000000          94.350000   \n",
              "\n",
              "       calculated_host_listings_count  availability_365          zona  \\\n",
              "count                    14806.000000      14806.000000  14806.000000   \n",
              "mean                         2.668445         86.240916      1.108199   \n",
              "std                          6.342085        123.300350      0.737506   \n",
              "min                          1.000000          0.000000      0.000000   \n",
              "25%                          1.000000          0.000000      1.000000   \n",
              "50%                          1.000000          0.000000      1.000000   \n",
              "75%                          2.000000        163.000000      2.000000   \n",
              "max                         76.000000        365.000000      2.000000   \n",
              "\n",
              "          to_centre  \n",
              "count  14806.000000  \n",
              "mean       4.754775  \n",
              "std        3.177936  \n",
              "min        0.027850  \n",
              "25%        2.788865  \n",
              "50%        4.157607  \n",
              "75%        5.826992  \n",
              "max       26.163171  "
            ],
            "text/html": [
              "\n",
              "  <div id=\"df-f7a55f5f-4584-48bc-a4d2-2884004d58db\">\n",
              "    <div class=\"colab-df-container\">\n",
              "      <div>\n",
              "<style scoped>\n",
              "    .dataframe tbody tr th:only-of-type {\n",
              "        vertical-align: middle;\n",
              "    }\n",
              "\n",
              "    .dataframe tbody tr th {\n",
              "        vertical-align: top;\n",
              "    }\n",
              "\n",
              "    .dataframe thead th {\n",
              "        text-align: right;\n",
              "    }\n",
              "</style>\n",
              "<table border=\"1\" class=\"dataframe\">\n",
              "  <thead>\n",
              "    <tr style=\"text-align: right;\">\n",
              "      <th></th>\n",
              "      <th>neighbourhood_group</th>\n",
              "      <th>room_type</th>\n",
              "      <th>price</th>\n",
              "      <th>minimum_nights</th>\n",
              "      <th>number_of_reviews</th>\n",
              "      <th>last_review</th>\n",
              "      <th>reviews_per_month</th>\n",
              "      <th>calculated_host_listings_count</th>\n",
              "      <th>availability_365</th>\n",
              "      <th>zona</th>\n",
              "      <th>to_centre</th>\n",
              "    </tr>\n",
              "  </thead>\n",
              "  <tbody>\n",
              "    <tr>\n",
              "      <th>count</th>\n",
              "      <td>14806.000000</td>\n",
              "      <td>14806.000000</td>\n",
              "      <td>14806.000000</td>\n",
              "      <td>14806.000000</td>\n",
              "      <td>14806.000000</td>\n",
              "      <td>14806.000000</td>\n",
              "      <td>14806.000000</td>\n",
              "      <td>14806.000000</td>\n",
              "      <td>14806.000000</td>\n",
              "      <td>14806.000000</td>\n",
              "      <td>14806.000000</td>\n",
              "    </tr>\n",
              "    <tr>\n",
              "      <th>mean</th>\n",
              "      <td>4.219776</td>\n",
              "      <td>0.893151</td>\n",
              "      <td>65.184250</td>\n",
              "      <td>8.030461</td>\n",
              "      <td>27.637377</td>\n",
              "      <td>2018.694178</td>\n",
              "      <td>0.717860</td>\n",
              "      <td>2.668445</td>\n",
              "      <td>86.240916</td>\n",
              "      <td>1.108199</td>\n",
              "      <td>4.754775</td>\n",
              "    </tr>\n",
              "    <tr>\n",
              "      <th>std</th>\n",
              "      <td>2.982657</td>\n",
              "      <td>1.009210</td>\n",
              "      <td>44.968027</td>\n",
              "      <td>32.285343</td>\n",
              "      <td>53.550624</td>\n",
              "      <td>1.632109</td>\n",
              "      <td>1.449207</td>\n",
              "      <td>6.342085</td>\n",
              "      <td>123.300350</td>\n",
              "      <td>0.737506</td>\n",
              "      <td>3.177936</td>\n",
              "    </tr>\n",
              "    <tr>\n",
              "      <th>min</th>\n",
              "      <td>0.000000</td>\n",
              "      <td>0.000000</td>\n",
              "      <td>8.000000</td>\n",
              "      <td>1.000000</td>\n",
              "      <td>1.000000</td>\n",
              "      <td>2012.000000</td>\n",
              "      <td>0.010000</td>\n",
              "      <td>1.000000</td>\n",
              "      <td>0.000000</td>\n",
              "      <td>0.000000</td>\n",
              "      <td>0.027850</td>\n",
              "    </tr>\n",
              "    <tr>\n",
              "      <th>25%</th>\n",
              "      <td>1.000000</td>\n",
              "      <td>0.000000</td>\n",
              "      <td>35.000000</td>\n",
              "      <td>2.000000</td>\n",
              "      <td>2.000000</td>\n",
              "      <td>2018.000000</td>\n",
              "      <td>0.090000</td>\n",
              "      <td>1.000000</td>\n",
              "      <td>0.000000</td>\n",
              "      <td>1.000000</td>\n",
              "      <td>2.788865</td>\n",
              "    </tr>\n",
              "    <tr>\n",
              "      <th>50%</th>\n",
              "      <td>4.000000</td>\n",
              "      <td>0.000000</td>\n",
              "      <td>50.000000</td>\n",
              "      <td>3.000000</td>\n",
              "      <td>7.000000</td>\n",
              "      <td>2019.000000</td>\n",
              "      <td>0.270000</td>\n",
              "      <td>1.000000</td>\n",
              "      <td>0.000000</td>\n",
              "      <td>1.000000</td>\n",
              "      <td>4.157607</td>\n",
              "    </tr>\n",
              "    <tr>\n",
              "      <th>75%</th>\n",
              "      <td>6.000000</td>\n",
              "      <td>2.000000</td>\n",
              "      <td>80.000000</td>\n",
              "      <td>5.000000</td>\n",
              "      <td>25.000000</td>\n",
              "      <td>2020.000000</td>\n",
              "      <td>0.830000</td>\n",
              "      <td>2.000000</td>\n",
              "      <td>163.000000</td>\n",
              "      <td>2.000000</td>\n",
              "      <td>5.826992</td>\n",
              "    </tr>\n",
              "    <tr>\n",
              "      <th>max</th>\n",
              "      <td>11.000000</td>\n",
              "      <td>3.000000</td>\n",
              "      <td>300.000000</td>\n",
              "      <td>1124.000000</td>\n",
              "      <td>620.000000</td>\n",
              "      <td>2021.000000</td>\n",
              "      <td>94.350000</td>\n",
              "      <td>76.000000</td>\n",
              "      <td>365.000000</td>\n",
              "      <td>2.000000</td>\n",
              "      <td>26.163171</td>\n",
              "    </tr>\n",
              "  </tbody>\n",
              "</table>\n",
              "</div>\n",
              "      <button class=\"colab-df-convert\" onclick=\"convertToInteractive('df-f7a55f5f-4584-48bc-a4d2-2884004d58db')\"\n",
              "              title=\"Convert this dataframe to an interactive table.\"\n",
              "              style=\"display:none;\">\n",
              "        \n",
              "  <svg xmlns=\"http://www.w3.org/2000/svg\" height=\"24px\"viewBox=\"0 0 24 24\"\n",
              "       width=\"24px\">\n",
              "    <path d=\"M0 0h24v24H0V0z\" fill=\"none\"/>\n",
              "    <path d=\"M18.56 5.44l.94 2.06.94-2.06 2.06-.94-2.06-.94-.94-2.06-.94 2.06-2.06.94zm-11 1L8.5 8.5l.94-2.06 2.06-.94-2.06-.94L8.5 2.5l-.94 2.06-2.06.94zm10 10l.94 2.06.94-2.06 2.06-.94-2.06-.94-.94-2.06-.94 2.06-2.06.94z\"/><path d=\"M17.41 7.96l-1.37-1.37c-.4-.4-.92-.59-1.43-.59-.52 0-1.04.2-1.43.59L10.3 9.45l-7.72 7.72c-.78.78-.78 2.05 0 2.83L4 21.41c.39.39.9.59 1.41.59.51 0 1.02-.2 1.41-.59l7.78-7.78 2.81-2.81c.8-.78.8-2.07 0-2.86zM5.41 20L4 18.59l7.72-7.72 1.47 1.35L5.41 20z\"/>\n",
              "  </svg>\n",
              "      </button>\n",
              "      \n",
              "  <style>\n",
              "    .colab-df-container {\n",
              "      display:flex;\n",
              "      flex-wrap:wrap;\n",
              "      gap: 12px;\n",
              "    }\n",
              "\n",
              "    .colab-df-convert {\n",
              "      background-color: #E8F0FE;\n",
              "      border: none;\n",
              "      border-radius: 50%;\n",
              "      cursor: pointer;\n",
              "      display: none;\n",
              "      fill: #1967D2;\n",
              "      height: 32px;\n",
              "      padding: 0 0 0 0;\n",
              "      width: 32px;\n",
              "    }\n",
              "\n",
              "    .colab-df-convert:hover {\n",
              "      background-color: #E2EBFA;\n",
              "      box-shadow: 0px 1px 2px rgba(60, 64, 67, 0.3), 0px 1px 3px 1px rgba(60, 64, 67, 0.15);\n",
              "      fill: #174EA6;\n",
              "    }\n",
              "\n",
              "    [theme=dark] .colab-df-convert {\n",
              "      background-color: #3B4455;\n",
              "      fill: #D2E3FC;\n",
              "    }\n",
              "\n",
              "    [theme=dark] .colab-df-convert:hover {\n",
              "      background-color: #434B5C;\n",
              "      box-shadow: 0px 1px 3px 1px rgba(0, 0, 0, 0.15);\n",
              "      filter: drop-shadow(0px 1px 2px rgba(0, 0, 0, 0.3));\n",
              "      fill: #FFFFFF;\n",
              "    }\n",
              "  </style>\n",
              "\n",
              "      <script>\n",
              "        const buttonEl =\n",
              "          document.querySelector('#df-f7a55f5f-4584-48bc-a4d2-2884004d58db button.colab-df-convert');\n",
              "        buttonEl.style.display =\n",
              "          google.colab.kernel.accessAllowed ? 'block' : 'none';\n",
              "\n",
              "        async function convertToInteractive(key) {\n",
              "          const element = document.querySelector('#df-f7a55f5f-4584-48bc-a4d2-2884004d58db');\n",
              "          const dataTable =\n",
              "            await google.colab.kernel.invokeFunction('convertToInteractive',\n",
              "                                                     [key], {});\n",
              "          if (!dataTable) return;\n",
              "\n",
              "          const docLinkHtml = 'Like what you see? Visit the ' +\n",
              "            '<a target=\"_blank\" href=https://colab.research.google.com/notebooks/data_table.ipynb>data table notebook</a>'\n",
              "            + ' to learn more about interactive tables.';\n",
              "          element.innerHTML = '';\n",
              "          dataTable['output_type'] = 'display_data';\n",
              "          await google.colab.output.renderOutput(dataTable, element);\n",
              "          const docLink = document.createElement('div');\n",
              "          docLink.innerHTML = docLinkHtml;\n",
              "          element.appendChild(docLink);\n",
              "        }\n",
              "      </script>\n",
              "    </div>\n",
              "  </div>\n",
              "  "
            ]
          },
          "metadata": {},
          "execution_count": 208
        }
      ]
    },
    {
      "cell_type": "markdown",
      "source": [
        "# **REDUCCIÓN DIMENSIONALIDAD**"
      ],
      "metadata": {
        "id": "BWfbKQrxLbOh"
      }
    },
    {
      "cell_type": "markdown",
      "source": [
        "## **CORRELACIÓN**"
      ],
      "metadata": {
        "id": "GkCHcb5xKzwR"
      }
    },
    {
      "cell_type": "code",
      "source": [
        "plt.figure(figsize=(15,15))\n",
        "g=sns.heatmap(data.corr(), annot=True, cmap=\"RdYlGn\") "
      ],
      "metadata": {
        "id": "U0ncQ6gRK3hV",
        "colab": {
          "base_uri": "https://localhost:8080/",
          "height": 1000
        },
        "outputId": "c70c3938-e41f-46b3-d94b-cf5248b36da8"
      },
      "execution_count": null,
      "outputs": [
        {
          "output_type": "display_data",
          "data": {
            "text/plain": [
              "<Figure size 1080x1080 with 2 Axes>"
            ],
            "image/png": "[encoded data removed]"
          },
          "metadata": {}
        }
      ]
    },
    {
      "cell_type": "code",
      "source": [
        "# Como reviews_per_month y number_of_reviews están correlacionadas nos quedamos con una de ellas\n",
        "data = data.drop(['reviews_per_month'], axis=1)"
      ],
      "metadata": {
        "id": "MoogftsZXsrt"
      },
      "execution_count": null,
      "outputs": []
    },
    {
      "cell_type": "markdown",
      "source": [
        "## **PCA**"
      ],
      "metadata": {
        "id": "60X-vlKeLkpR"
      }
    },
    {
      "cell_type": "code",
      "source": [
        "X = data[['neighbourhood_group', 'room_type', 'minimum_nights', 'number_of_reviews', 'last_review', 'calculated_host_listings_count', 'availability_365', 'to_centre']]\n",
        "y = data['price']"
      ],
      "metadata": {
        "id": "AazQYVwJLi6p"
      },
      "execution_count": null,
      "outputs": []
    },
    {
      "cell_type": "code",
      "source": [
        "from sklearn import preprocessing\n",
        "from sklearn.preprocessing import StandardScaler\n",
        "\n",
        "scaler = preprocessing.StandardScaler().fit(X)\n",
        "X_scaled = scaler.transform(X)"
      ],
      "metadata": {
        "id": "bfdncZUQMWkP"
      },
      "execution_count": null,
      "outputs": []
    },
    {
      "cell_type": "code",
      "source": [
        "from sklearn.decomposition import PCA\n",
        "\n",
        "pca = PCA(n_components=8) \n",
        "pca.fit(X_scaled) \n",
        "X_pca = pca.transform(X_scaled) \n",
        "\n",
        "print(\"shape of X_pca\", X_pca.shape)\n",
        "expl = pca.explained_variance_ratio_\n",
        "print(expl)\n",
        "print('suma:',sum(expl[0:5]))"
      ],
      "metadata": {
        "colab": {
          "base_uri": "https://localhost:8080/"
        },
        "id": "5Fts6P7ZMknp",
        "outputId": "d629ec85-848a-4b20-c65d-ae023441c7e5"
      },
      "execution_count": null,
      "outputs": [
        {
          "output_type": "stream",
          "name": "stdout",
          "text": [
            "shape of X_pca (14806, 8)\n",
            "[0.21248674 0.16106767 0.13485336 0.12201617 0.11108253 0.09669104\n",
            " 0.08945842 0.07234408]\n",
            "suma: 0.7415064685372427\n"
          ]
        }
      ]
    },
    {
      "cell_type": "code",
      "source": [
        "plt.rcParams['figure.figsize'] = (16, 9)\n",
        "plt.style.use('ggplot')\n",
        "plt.plot(np.cumsum(pca.explained_variance_ratio_))\n",
        "plt.xlabel('number of components')\n",
        "plt.ylabel('cumulative explained variance')\n",
        "plt.show()"
      ],
      "metadata": {
        "colab": {
          "base_uri": "https://localhost:8080/",
          "height": 554
        },
        "id": "KTF1zpOGUQaM",
        "outputId": "011d13a7-41a2-4cad-b7ba-5b3fc1993794"
      },
      "execution_count": null,
      "outputs": [
        {
          "output_type": "display_data",
          "data": {
            "text/plain": [
              "<Figure size 1152x648 with 1 Axes>"
            ],
            "image/png": "[encoded data removed]"
          },
          "metadata": {}
        }
      ]
    },
    {
      "cell_type": "markdown",
      "source": [
        "# **SUPERVISADO (REGRESIÓN)**\n",
        "El objetivo es predecir el precio"
      ],
      "metadata": {
        "id": "Se3tf-6XNLOV"
      }
    },
    {
      "cell_type": "markdown",
      "source": [
        "## **REGRESIÓN LINEAL MÚLTIPLE**"
      ],
      "metadata": {
        "id": "gDm8Xae7aF6S"
      }
    },
    {
      "cell_type": "markdown",
      "source": [
        "### **Con 8 componentes**"
      ],
      "metadata": {
        "id": "f_4Kb73mXDCT"
      }
    },
    {
      "cell_type": "code",
      "source": [
        "from sklearn.model_selection import train_test_split\n",
        "from sklearn import datasets, linear_model\n",
        "from sklearn.metrics import mean_squared_error, r2_score\n",
        "\n",
        "X = data[['neighbourhood_group', 'room_type', 'minimum_nights', 'number_of_reviews', 'last_review', 'calculated_host_listings_count', 'availability_365', 'to_centre']]\n",
        "y = data['price']\n",
        "\n",
        "X_train, X_test, y_train, y_test = train_test_split(X, y, test_size=0.2)\n",
        "\n",
        "regr = linear_model.LinearRegression()\n",
        "regr.fit(X_train, y_train)\n",
        "y_pred = regr.predict(X_test)\n",
        "\n",
        "print('Coeficientes : \\n', regr.coef_) \n",
        "\n",
        "print('Error medio cuadrático: %.2f'\n",
        "      % mean_squared_error(y_test, y_pred))\n",
        "\n",
        "# Coeficiente de determinación -> va entre 0 y 1, nos indica cuanto podemos explicar con nuestro algoritmo\n",
        "# Puede considerarse aceptable a partir de un 0.65, sin embargo 0.7 - 0.8 son valores deseables.\n",
        "print('Coeficiente de determinación: %.2f'\n",
        "      % r2_score(y_test, y_pred))"
      ],
      "metadata": {
        "colab": {
          "base_uri": "https://localhost:8080/"
        },
        "id": "f-Q3EWGLaOW6",
        "outputId": "e8fdffcd-8f13-4e6c-e99b-5c7b5b2620ec"
      },
      "execution_count": null,
      "outputs": [
        {
          "output_type": "stream",
          "name": "stdout",
          "text": [
            "Coeficientes : \n",
            " [-1.40827724e-01 -2.07886405e+01 -1.43629027e-01 -2.97646216e-03\n",
            "  1.79199063e+00  4.59655237e-01  7.11611027e-02 -1.57026623e+00]\n",
            "Error medio cuadrático: 1371.08\n",
            "Coeficiente de determinación: 0.31\n"
          ]
        }
      ]
    },
    {
      "cell_type": "markdown",
      "source": [
        "### **Con reducción de componentes con PCA**"
      ],
      "metadata": {
        "id": "JgUjyKOEYDfd"
      }
    },
    {
      "cell_type": "code",
      "source": [
        "# Pregunta 4 del examen"
      ],
      "metadata": {
        "id": "QSO0gJC7yDEs"
      },
      "execution_count": null,
      "outputs": []
    },
    {
      "cell_type": "markdown",
      "source": [
        "## **SVR (Support Vector Regresion)**"
      ],
      "metadata": {
        "id": "n_Ow5SsbNPGH"
      }
    },
    {
      "cell_type": "code",
      "source": [
        "from sklearn.model_selection import train_test_split\n",
        "from sklearn.svm import SVR\n",
        "from sklearn.metrics import accuracy_score\n",
        "\n",
        "X = data.loc[:, ['neighbourhood_group', 'room_type', 'minimum_nights', 'number_of_reviews', 'last_review', 'calculated_host_listings_count', 'availability_365', 'to_centre']]\n",
        "y = data.loc[:, 'price']"
      ],
      "metadata": {
        "id": "WoxQqEUkNW32"
      },
      "execution_count": null,
      "outputs": []
    },
    {
      "cell_type": "code",
      "source": [
        "X_train, X_test, y_train, y_test = train_test_split(X, y, train_size=0.9)\n",
        "\n",
        "clf = SVR(kernel='rbf')\n",
        "clf.fit(X_train, y_train)\n",
        "y_pred = clf.predict(X_test)\n",
        "y_pred"
      ],
      "metadata": {
        "colab": {
          "base_uri": "https://localhost:8080/"
        },
        "id": "L0eUIAZzUPhN",
        "outputId": "3a38396c-914a-459c-b6ed-4138501e007e"
      },
      "execution_count": null,
      "outputs": [
        {
          "output_type": "execute_result",
          "data": {
            "text/plain": [
              "array([58.70433942, 58.46703935, 49.81906928, ..., 58.55700773,\n",
              "       49.42180703, 48.81795228])"
            ]
          },
          "metadata": {},
          "execution_count": 218
        }
      ]
    },
    {
      "cell_type": "markdown",
      "source": [
        "## **DECISION TREE**\n"
      ],
      "metadata": {
        "id": "qa4eNFj9Q9ZF"
      }
    },
    {
      "cell_type": "code",
      "source": [
        "X = data[['neighbourhood_group', 'room_type', 'minimum_nights', 'number_of_reviews', 'last_review', 'calculated_host_listings_count', 'availability_365', 'to_centre']]\n",
        "y = data['price']\n",
        "\n",
        "X_train, X_test, y_train, y_test = train_test_split(X, y, test_size=0.2)"
      ],
      "metadata": {
        "id": "Ript75U7NOuw"
      },
      "execution_count": null,
      "outputs": []
    },
    {
      "cell_type": "code",
      "source": [
        "from sklearn import tree\n",
        "\n",
        "clf = tree.DecisionTreeRegressor(random_state=0)\n",
        "clf = clf.fit(X_train, y_train)"
      ],
      "metadata": {
        "id": "t6BuZPRmMeZq"
      },
      "execution_count": null,
      "outputs": []
    },
    {
      "cell_type": "code",
      "source": [
        "y_pred = clf.predict(X_test)\n",
        "y_pred"
      ],
      "metadata": {
        "id": "ieHGgtT_Rjbb",
        "colab": {
          "base_uri": "https://localhost:8080/"
        },
        "outputId": "0929178c-422b-41f8-e7a6-225f9ba57782"
      },
      "execution_count": null,
      "outputs": [
        {
          "output_type": "execute_result",
          "data": {
            "text/plain": [
              "array([130.,  65.,  45., ...,  23.,  45.,  32.])"
            ]
          },
          "metadata": {},
          "execution_count": 221
        }
      ]
    },
    {
      "cell_type": "markdown",
      "source": [
        "# **SUPERVISADO (CLASIFICACIÓN)**\n",
        "El objetivo es clasificar las ofertas en dos zonas (este y oeste de Berlín), más otra que está entre este y oeste."
      ],
      "metadata": {
        "id": "eCt9IPLC2Sc6"
      }
    },
    {
      "cell_type": "markdown",
      "source": [
        "## **SVC**"
      ],
      "metadata": {
        "id": "9xhScnWy-znD"
      }
    },
    {
      "cell_type": "code",
      "source": [
        "data.info()"
      ],
      "metadata": {
        "colab": {
          "base_uri": "https://localhost:8080/"
        },
        "id": "IV6hbwgF8fty",
        "outputId": "ef3959e3-41e0-49fd-8201-8f98a2d7f82b"
      },
      "execution_count": null,
      "outputs": [
        {
          "output_type": "stream",
          "name": "stdout",
          "text": [
            "<class 'pandas.core.frame.DataFrame'>\n",
            "Int64Index: 14806 entries, 0 to 19033\n",
            "Data columns (total 10 columns):\n",
            " #   Column                          Non-Null Count  Dtype  \n",
            "---  ------                          --------------  -----  \n",
            " 0   neighbourhood_group             14806 non-null  int8   \n",
            " 1   room_type                       14806 non-null  int8   \n",
            " 2   price                           14806 non-null  int64  \n",
            " 3   minimum_nights                  14806 non-null  int64  \n",
            " 4   number_of_reviews               14806 non-null  int64  \n",
            " 5   last_review                     14806 non-null  float64\n",
            " 6   calculated_host_listings_count  14806 non-null  int64  \n",
            " 7   availability_365                14806 non-null  int64  \n",
            " 8   zona                            14806 non-null  int8   \n",
            " 9   to_centre                       14806 non-null  float64\n",
            "dtypes: float64(2), int64(5), int8(3)\n",
            "memory usage: 968.8 KB\n"
          ]
        }
      ]
    },
    {
      "cell_type": "code",
      "source": [
        "X = data.loc[:, ['neighbourhood_group', 'room_type', 'price', 'minimum_nights', 'number_of_reviews', 'last_review', 'calculated_host_listings_count', 'availability_365', 'to_centre']]\n",
        "y = data.loc[:, 'zona']\n",
        "\n",
        "X_train, X_test, y_train, y_test = train_test_split(X, y, test_size=0.2)"
      ],
      "metadata": {
        "id": "pxG4IXrm9VhC"
      },
      "execution_count": null,
      "outputs": []
    },
    {
      "cell_type": "code",
      "source": [
        "from sklearn.svm import SVC\n",
        "\n",
        "classifier =  SVC(kernel=\"linear\", C=0.025)\n",
        "classifier.fit(X_train, y_train)\n",
        "y_pred = classifier.predict(X_test)\n",
        "y_pred\n"
      ],
      "metadata": {
        "colab": {
          "base_uri": "https://localhost:8080/"
        },
        "id": "GsW-cFLd-YFo",
        "outputId": "e980e8c0-4ab1-4317-b2bf-5bc45be3695f"
      },
      "execution_count": null,
      "outputs": [
        {
          "output_type": "execute_result",
          "data": {
            "text/plain": [
              "array([2, 0, 1, ..., 0, 1, 1], dtype=int8)"
            ]
          },
          "metadata": {},
          "execution_count": 227
        }
      ]
    },
    {
      "cell_type": "code",
      "source": [
        "from sklearn.metrics import classification_report\n",
        " \n",
        "print(classification_report(y_test, y_pred))"
      ],
      "metadata": {
        "colab": {
          "base_uri": "https://localhost:8080/"
        },
        "id": "2dV3ADGcbogq",
        "outputId": "2e4b3eab-948f-4269-ea4f-5e86fe683eb1"
      },
      "execution_count": null,
      "outputs": [
        {
          "output_type": "stream",
          "name": "stdout",
          "text": [
            "              precision    recall  f1-score   support\n",
            "\n",
            "           0       0.99      1.00      0.99       650\n",
            "           1       0.87      0.78      0.82      1334\n",
            "           2       0.73      0.83      0.78       978\n",
            "\n",
            "    accuracy                           0.84      2962\n",
            "   macro avg       0.86      0.87      0.86      2962\n",
            "weighted avg       0.85      0.84      0.84      2962\n",
            "\n"
          ]
        }
      ]
    },
    {
      "cell_type": "code",
      "source": [
        "import seaborn as sns\n",
        "from sklearn.metrics import confusion_matrix, plot_confusion_matrix\n",
        "\n",
        "conf_mat = confusion_matrix(y_test, y_pred)\n",
        "\n",
        "sns.heatmap(conf_mat, annot=True)\n",
        "plt.xlabel(\"Predicted Label\")\n",
        "plt.ylabel('Actual Label')\n",
        "plt.title('Confusion matrix of the model')\n",
        "plt.show()"
      ],
      "metadata": {
        "colab": {
          "base_uri": "https://localhost:8080/",
          "height": 571
        },
        "id": "yHRRo407g5OB",
        "outputId": "4edb8dfc-e977-4d46-ef41-75b18b5e8bbd"
      },
      "execution_count": null,
      "outputs": [
        {
          "output_type": "display_data",
          "data": {
            "text/plain": [
              "<Figure size 1152x648 with 2 Axes>"
            ],
            "image/png": "[encoded data removed]"
          },
          "metadata": {}
        }
      ]
    },
    {
      "cell_type": "markdown",
      "source": [
        "## **DECISION TREE**"
      ],
      "metadata": {
        "id": "zDNOJ0a_-3UJ"
      }
    },
    {
      "cell_type": "code",
      "source": [
        "# Pregunta 7 del examen"
      ],
      "metadata": {
        "id": "63mc1zXRyNaU"
      },
      "execution_count": null,
      "outputs": []
    }
  ]
}