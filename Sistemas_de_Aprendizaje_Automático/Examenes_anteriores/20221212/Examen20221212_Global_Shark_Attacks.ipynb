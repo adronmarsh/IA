{
  "cells": [
    {
      "cell_type": "markdown",
      "metadata": {
        "id": "5pagTDWmwIA6"
      },
      "source": [
        "# Global Shark Attacks Dataset:\n",
        "## This is a table of shark attack incidents compiled by the Global Shark Attack File.\n",
        "https://www.kaggle.com/datasets/alinedebenath/global-shark-attacks"
      ]
    },
    {
      "cell_type": "code",
      "execution_count": 330,
      "metadata": {
        "colab": {
          "base_uri": "https://localhost:8080/",
          "height": 595
        },
        "id": "HL7fwWBJT0D-",
        "outputId": "f67d3c5a-88d9-4348-8b5c-1b5c3a230dd9"
      },
      "outputs": [
        {
          "data": {
            "text/html": [
              "<div>\n",
              "<style scoped>\n",
              "    .dataframe tbody tr th:only-of-type {\n",
              "        vertical-align: middle;\n",
              "    }\n",
              "\n",
              "    .dataframe tbody tr th {\n",
              "        vertical-align: top;\n",
              "    }\n",
              "\n",
              "    .dataframe thead th {\n",
              "        text-align: right;\n",
              "    }\n",
              "</style>\n",
              "<table border=\"1\" class=\"dataframe\">\n",
              "  <thead>\n",
              "    <tr style=\"text-align: right;\">\n",
              "      <th></th>\n",
              "      <th>Case Number</th>\n",
              "      <th>Date</th>\n",
              "      <th>Year</th>\n",
              "      <th>Type</th>\n",
              "      <th>Country</th>\n",
              "      <th>Area</th>\n",
              "      <th>Location</th>\n",
              "      <th>Activity</th>\n",
              "      <th>Name</th>\n",
              "      <th>Sex</th>\n",
              "      <th>...</th>\n",
              "      <th>Species</th>\n",
              "      <th>Investigator or Source</th>\n",
              "      <th>pdf</th>\n",
              "      <th>href formula</th>\n",
              "      <th>href</th>\n",
              "      <th>Case Number.1</th>\n",
              "      <th>Case Number.2</th>\n",
              "      <th>original order</th>\n",
              "      <th>Unnamed: 22</th>\n",
              "      <th>Unnamed: 23</th>\n",
              "    </tr>\n",
              "  </thead>\n",
              "  <tbody>\n",
              "    <tr>\n",
              "      <th>0</th>\n",
              "      <td>2016.09.18.c</td>\n",
              "      <td>18-Sep-16</td>\n",
              "      <td>2016</td>\n",
              "      <td>Unprovoked</td>\n",
              "      <td>USA</td>\n",
              "      <td>Florida</td>\n",
              "      <td>New Smyrna Beach, Volusia County</td>\n",
              "      <td>Surfing</td>\n",
              "      <td>male</td>\n",
              "      <td>M</td>\n",
              "      <td>...</td>\n",
              "      <td>NaN</td>\n",
              "      <td>Orlando Sentinel, 9/19/2016</td>\n",
              "      <td>2016.09.18.c-NSB.pdf</td>\n",
              "      <td>http://sharkattackfile.net/spreadsheets/pdf_di...</td>\n",
              "      <td>http://sharkattackfile.net/spreadsheets/pdf_di...</td>\n",
              "      <td>2016.09.18.c</td>\n",
              "      <td>2016.09.18.c</td>\n",
              "      <td>5993</td>\n",
              "      <td>NaN</td>\n",
              "      <td>NaN</td>\n",
              "    </tr>\n",
              "    <tr>\n",
              "      <th>1</th>\n",
              "      <td>2016.09.18.b</td>\n",
              "      <td>18-Sep-16</td>\n",
              "      <td>2016</td>\n",
              "      <td>Unprovoked</td>\n",
              "      <td>USA</td>\n",
              "      <td>Florida</td>\n",
              "      <td>New Smyrna Beach, Volusia County</td>\n",
              "      <td>Surfing</td>\n",
              "      <td>Chucky Luciano</td>\n",
              "      <td>M</td>\n",
              "      <td>...</td>\n",
              "      <td>NaN</td>\n",
              "      <td>Orlando Sentinel, 9/19/2016</td>\n",
              "      <td>2016.09.18.b-Luciano.pdf</td>\n",
              "      <td>http://sharkattackfile.net/spreadsheets/pdf_di...</td>\n",
              "      <td>http://sharkattackfile.net/spreadsheets/pdf_di...</td>\n",
              "      <td>2016.09.18.b</td>\n",
              "      <td>2016.09.18.b</td>\n",
              "      <td>5992</td>\n",
              "      <td>NaN</td>\n",
              "      <td>NaN</td>\n",
              "    </tr>\n",
              "    <tr>\n",
              "      <th>2</th>\n",
              "      <td>2016.09.18.a</td>\n",
              "      <td>18-Sep-16</td>\n",
              "      <td>2016</td>\n",
              "      <td>Unprovoked</td>\n",
              "      <td>USA</td>\n",
              "      <td>Florida</td>\n",
              "      <td>New Smyrna Beach, Volusia County</td>\n",
              "      <td>Surfing</td>\n",
              "      <td>male</td>\n",
              "      <td>M</td>\n",
              "      <td>...</td>\n",
              "      <td>NaN</td>\n",
              "      <td>Orlando Sentinel, 9/19/2016</td>\n",
              "      <td>2016.09.18.a-NSB.pdf</td>\n",
              "      <td>http://sharkattackfile.net/spreadsheets/pdf_di...</td>\n",
              "      <td>http://sharkattackfile.net/spreadsheets/pdf_di...</td>\n",
              "      <td>2016.09.18.a</td>\n",
              "      <td>2016.09.18.a</td>\n",
              "      <td>5991</td>\n",
              "      <td>NaN</td>\n",
              "      <td>NaN</td>\n",
              "    </tr>\n",
              "    <tr>\n",
              "      <th>3</th>\n",
              "      <td>2016.09.17</td>\n",
              "      <td>17-Sep-16</td>\n",
              "      <td>2016</td>\n",
              "      <td>Unprovoked</td>\n",
              "      <td>AUSTRALIA</td>\n",
              "      <td>Victoria</td>\n",
              "      <td>Thirteenth Beach</td>\n",
              "      <td>Surfing</td>\n",
              "      <td>Rory Angiolella</td>\n",
              "      <td>M</td>\n",
              "      <td>...</td>\n",
              "      <td>NaN</td>\n",
              "      <td>The Age, 9/18/2016</td>\n",
              "      <td>2016.09.17-Angiolella.pdf</td>\n",
              "      <td>http://sharkattackfile.net/spreadsheets/pdf_di...</td>\n",
              "      <td>http://sharkattackfile.net/spreadsheets/pdf_di...</td>\n",
              "      <td>2016.09.17</td>\n",
              "      <td>2016.09.17</td>\n",
              "      <td>5990</td>\n",
              "      <td>NaN</td>\n",
              "      <td>NaN</td>\n",
              "    </tr>\n",
              "    <tr>\n",
              "      <th>4</th>\n",
              "      <td>2016.09.15</td>\n",
              "      <td>16-Sep-16</td>\n",
              "      <td>2016</td>\n",
              "      <td>Unprovoked</td>\n",
              "      <td>AUSTRALIA</td>\n",
              "      <td>Victoria</td>\n",
              "      <td>Bells Beach</td>\n",
              "      <td>Surfing</td>\n",
              "      <td>male</td>\n",
              "      <td>M</td>\n",
              "      <td>...</td>\n",
              "      <td>2 m shark</td>\n",
              "      <td>The Age, 9/16/2016</td>\n",
              "      <td>2016.09.16-BellsBeach.pdf</td>\n",
              "      <td>http://sharkattackfile.net/spreadsheets/pdf_di...</td>\n",
              "      <td>http://sharkattackfile.net/spreadsheets/pdf_di...</td>\n",
              "      <td>2016.09.16</td>\n",
              "      <td>2016.09.15</td>\n",
              "      <td>5989</td>\n",
              "      <td>NaN</td>\n",
              "      <td>NaN</td>\n",
              "    </tr>\n",
              "  </tbody>\n",
              "</table>\n",
              "<p>5 rows × 24 columns</p>\n",
              "</div>"
            ],
            "text/plain": [
              "    Case Number       Date  Year        Type    Country      Area  \\\n",
              "0  2016.09.18.c  18-Sep-16  2016  Unprovoked        USA   Florida   \n",
              "1  2016.09.18.b  18-Sep-16  2016  Unprovoked        USA   Florida   \n",
              "2  2016.09.18.a  18-Sep-16  2016  Unprovoked        USA   Florida   \n",
              "3    2016.09.17  17-Sep-16  2016  Unprovoked  AUSTRALIA  Victoria   \n",
              "4    2016.09.15  16-Sep-16  2016  Unprovoked  AUSTRALIA  Victoria   \n",
              "\n",
              "                           Location Activity             Name Sex   ...  \\\n",
              "0  New Smyrna Beach, Volusia County  Surfing             male    M  ...   \n",
              "1  New Smyrna Beach, Volusia County  Surfing   Chucky Luciano    M  ...   \n",
              "2  New Smyrna Beach, Volusia County  Surfing             male    M  ...   \n",
              "3                  Thirteenth Beach  Surfing  Rory Angiolella    M  ...   \n",
              "4                       Bells Beach  Surfing             male    M  ...   \n",
              "\n",
              "    Species        Investigator or Source                        pdf  \\\n",
              "0        NaN  Orlando Sentinel, 9/19/2016       2016.09.18.c-NSB.pdf   \n",
              "1        NaN  Orlando Sentinel, 9/19/2016   2016.09.18.b-Luciano.pdf   \n",
              "2        NaN  Orlando Sentinel, 9/19/2016       2016.09.18.a-NSB.pdf   \n",
              "3        NaN           The Age, 9/18/2016  2016.09.17-Angiolella.pdf   \n",
              "4  2 m shark           The Age, 9/16/2016  2016.09.16-BellsBeach.pdf   \n",
              "\n",
              "                                        href formula  \\\n",
              "0  http://sharkattackfile.net/spreadsheets/pdf_di...   \n",
              "1  http://sharkattackfile.net/spreadsheets/pdf_di...   \n",
              "2  http://sharkattackfile.net/spreadsheets/pdf_di...   \n",
              "3  http://sharkattackfile.net/spreadsheets/pdf_di...   \n",
              "4  http://sharkattackfile.net/spreadsheets/pdf_di...   \n",
              "\n",
              "                                                href Case Number.1  \\\n",
              "0  http://sharkattackfile.net/spreadsheets/pdf_di...  2016.09.18.c   \n",
              "1  http://sharkattackfile.net/spreadsheets/pdf_di...  2016.09.18.b   \n",
              "2  http://sharkattackfile.net/spreadsheets/pdf_di...  2016.09.18.a   \n",
              "3  http://sharkattackfile.net/spreadsheets/pdf_di...    2016.09.17   \n",
              "4  http://sharkattackfile.net/spreadsheets/pdf_di...    2016.09.16   \n",
              "\n",
              "  Case Number.2 original order Unnamed: 22 Unnamed: 23  \n",
              "0  2016.09.18.c           5993         NaN         NaN  \n",
              "1  2016.09.18.b           5992         NaN         NaN  \n",
              "2  2016.09.18.a           5991         NaN         NaN  \n",
              "3    2016.09.17           5990         NaN         NaN  \n",
              "4    2016.09.15           5989         NaN         NaN  \n",
              "\n",
              "[5 rows x 24 columns]"
            ]
          },
          "execution_count": 330,
          "metadata": {},
          "output_type": "execute_result"
        }
      ],
      "source": [
        "import numpy as np\n",
        "import pandas as pd\n",
        "import seaborn as sns\n",
        "\n",
        "dataset = pd.read_csv('GSAF5.csv', header = 0, encoding=\"latin-1\")\n",
        "dataset.head()"
      ]
    },
    {
      "cell_type": "markdown",
      "metadata": {
        "id": "MC-xW-kRmLjo"
      },
      "source": [
        "# **Comprensión de los datos**"
      ]
    },
    {
      "cell_type": "code",
      "execution_count": 331,
      "metadata": {
        "colab": {
          "base_uri": "https://localhost:8080/"
        },
        "id": "xRMqLeShmmTp",
        "outputId": "554cd7f0-f004-40c7-a893-a646d73fdc60"
      },
      "outputs": [
        {
          "data": {
            "text/plain": [
              "(5992, 24)"
            ]
          },
          "execution_count": 331,
          "metadata": {},
          "output_type": "execute_result"
        }
      ],
      "source": [
        "dataset.shape"
      ]
    },
    {
      "cell_type": "code",
      "execution_count": 332,
      "metadata": {
        "colab": {
          "base_uri": "https://localhost:8080/"
        },
        "id": "sYToxeQdmX7S",
        "outputId": "d8187c26-2306-4ccc-ebec-3f6003c007a3"
      },
      "outputs": [
        {
          "name": "stdout",
          "output_type": "stream",
          "text": [
            "<class 'pandas.core.frame.DataFrame'>\n",
            "RangeIndex: 5992 entries, 0 to 5991\n",
            "Data columns (total 24 columns):\n",
            " #   Column                  Non-Null Count  Dtype \n",
            "---  ------                  --------------  ----- \n",
            " 0   Case Number             5992 non-null   object\n",
            " 1   Date                    5992 non-null   object\n",
            " 2   Year                    5992 non-null   int64 \n",
            " 3   Type                    5992 non-null   object\n",
            " 4   Country                 5949 non-null   object\n",
            " 5   Area                    5590 non-null   object\n",
            " 6   Location                5496 non-null   object\n",
            " 7   Activity                5465 non-null   object\n",
            " 8   Name                    5792 non-null   object\n",
            " 9   Sex                     5425 non-null   object\n",
            " 10  Age                     3311 non-null   object\n",
            " 11  Injury                  5965 non-null   object\n",
            " 12  Fatal (Y/N)             5973 non-null   object\n",
            " 13  Time                    2779 non-null   object\n",
            " 14  Species                 3058 non-null   object\n",
            " 15  Investigator or Source  5977 non-null   object\n",
            " 16  pdf                     5992 non-null   object\n",
            " 17  href formula            5991 non-null   object\n",
            " 18  href                    5989 non-null   object\n",
            " 19  Case Number.1           5992 non-null   object\n",
            " 20  Case Number.2           5992 non-null   object\n",
            " 21  original order          5992 non-null   int64 \n",
            " 22  Unnamed: 22             1 non-null      object\n",
            " 23  Unnamed: 23             2 non-null      object\n",
            "dtypes: int64(2), object(22)\n",
            "memory usage: 1.1+ MB\n"
          ]
        }
      ],
      "source": [
        "dataset.info()"
      ]
    },
    {
      "cell_type": "code",
      "execution_count": 333,
      "metadata": {
        "id": "xfrpC3rDZDXk"
      },
      "outputs": [],
      "source": [
        "# Por de pronto vamos a eliminar atributos que a priori no nos van a servir\n",
        "dataset = dataset.drop([\"Name\", \"Investigator or Source\", \"pdf\", \"href formula\", \"href\", \"original order\"], axis=1)"
      ]
    },
    {
      "cell_type": "code",
      "execution_count": 334,
      "metadata": {
        "colab": {
          "base_uri": "https://localhost:8080/"
        },
        "id": "6vOcO3ovXvpw",
        "outputId": "fbfeedf9-fc9e-4a0b-9202-01989b787b9f"
      },
      "outputs": [
        {
          "data": {
            "text/plain": [
              "Country          43\n",
              "Area            402\n",
              "Location        496\n",
              "Activity        527\n",
              "Sex             567\n",
              "Age            2681\n",
              "Injury           27\n",
              "Fatal (Y/N)      19\n",
              "Time           3213\n",
              "Species        2934\n",
              "Unnamed: 22    5991\n",
              "Unnamed: 23    5990\n",
              "dtype: int64"
            ]
          },
          "execution_count": 334,
          "metadata": {},
          "output_type": "execute_result"
        }
      ],
      "source": [
        "# Vamos a visualizar las columnas con valores nulos\n",
        "null_cols = dataset.isnull().sum()\n",
        "null_cols[null_cols > 0]"
      ]
    },
    {
      "cell_type": "code",
      "execution_count": 335,
      "metadata": {
        "colab": {
          "base_uri": "https://localhost:8080/",
          "height": 619
        },
        "id": "gOl6aaMLZRn4",
        "outputId": "ef16e968-e22a-4183-b975-c4b550e6a7ae"
      },
      "outputs": [
        {
          "data": {
            "text/plain": [
              "<Axes: >"
            ]
          },
          "execution_count": 335,
          "metadata": {},
          "output_type": "execute_result"
        },
        {
          "data": {
            "image/png": "[encoded data removed]",
            "text/plain": [
              "<Figure size 2500x1000 with 3 Axes>"
            ]
          },
          "metadata": {},
          "output_type": "display_data"
        }
      ],
      "source": [
        "import missingno as msno\n",
        "\n",
        "msno.bar(dataset)"
      ]
    },
    {
      "cell_type": "code",
      "execution_count": 336,
      "metadata": {
        "colab": {
          "base_uri": "https://localhost:8080/"
        },
        "id": "GFt3SWL06yty",
        "outputId": "08af5c47-e579-4039-fd78-c8cc12353ac3"
      },
      "outputs": [
        {
          "data": {
            "text/plain": [
              "0"
            ]
          },
          "execution_count": 336,
          "metadata": {},
          "output_type": "execute_result"
        }
      ],
      "source": [
        "# Podemos empezar viendo si hay duplicados\n",
        "dataset.duplicated().sum()                     "
      ]
    },
    {
      "cell_type": "markdown",
      "metadata": {
        "id": "ESqLQ7V7VW4-"
      },
      "source": [
        "# **Limpieza de datos**"
      ]
    },
    {
      "cell_type": "markdown",
      "metadata": {
        "id": "c4uqRp3-iTFC"
      },
      "source": [
        "## **Unnamed: 22 y Unnamed: 23**"
      ]
    },
    {
      "cell_type": "code",
      "execution_count": 337,
      "metadata": {
        "id": "Njz6YrH9igqK"
      },
      "outputs": [],
      "source": [
        "# Directamente eliminamos los atributos por la gran cantidad de valores nulos que contiene\n",
        "dataset = dataset.drop([\"Unnamed: 22\", \"Unnamed: 23\"], axis=1)\n"
      ]
    },
    {
      "cell_type": "markdown",
      "metadata": {
        "id": "Bt1YPoIelNsh"
      },
      "source": [
        "## **Time**"
      ]
    },
    {
      "cell_type": "code",
      "execution_count": 338,
      "metadata": {
        "colab": {
          "base_uri": "https://localhost:8080/"
        },
        "id": "_OB8kRTWlnGQ",
        "outputId": "bdfe56bb-7785-4414-dda6-05e146518918"
      },
      "outputs": [
        {
          "name": "stdout",
          "output_type": "stream",
          "text": [
            "53.62  % valores nulos\n"
          ]
        }
      ],
      "source": [
        "# ¿Cuántos valores nulos tiene?\n",
        "nan_per=dataset['Time'].isna().sum()/len(dataset)*100\n",
        "print (round(nan_per,2), ' % valores nulos')"
      ]
    },
    {
      "cell_type": "code",
      "execution_count": 339,
      "metadata": {
        "id": "8lg7dyTcmCVY"
      },
      "outputs": [],
      "source": [
        "# Eliminamos el atributo\n",
        "dataset = dataset.drop([\"Time\"], axis=1)"
      ]
    },
    {
      "cell_type": "markdown",
      "metadata": {
        "id": "CAtNfegDjhl3"
      },
      "source": [
        "## **Case Number, Case Number.1 y Case Number.2\"**"
      ]
    },
    {
      "cell_type": "code",
      "execution_count": 340,
      "metadata": {
        "colab": {
          "base_uri": "https://localhost:8080/"
        },
        "id": "GZJsNMV_j0EQ",
        "outputId": "4aac0472-9a46-4276-fdab-89362a535a69"
      },
      "outputs": [
        {
          "data": {
            "text/plain": [
              "Case Number.1\n",
              "True     5980\n",
              "False      12\n",
              "Name: count, dtype: int64"
            ]
          },
          "execution_count": 340,
          "metadata": {},
          "output_type": "execute_result"
        }
      ],
      "source": [
        "dataset['Case Number.1'].isin(dataset['Case Number']).value_counts()"
      ]
    },
    {
      "cell_type": "code",
      "execution_count": 341,
      "metadata": {
        "colab": {
          "base_uri": "https://localhost:8080/"
        },
        "id": "f7mMT_2Qj6qQ",
        "outputId": "480606a5-cbef-479d-f27b-92418f6bda5b"
      },
      "outputs": [
        {
          "data": {
            "text/plain": [
              "Case Number.2\n",
              "True     5990\n",
              "False       2\n",
              "Name: count, dtype: int64"
            ]
          },
          "execution_count": 341,
          "metadata": {},
          "output_type": "execute_result"
        }
      ],
      "source": [
        "dataset['Case Number.2'].isin(dataset['Case Number']).value_counts()"
      ]
    },
    {
      "cell_type": "code",
      "execution_count": 342,
      "metadata": {
        "id": "GVaicMlfkRrg"
      },
      "outputs": [],
      "source": [
        "# Como básicamente contienen lo mismo nos quedmos con Case Number\n",
        "dataset = dataset.drop([\"Case Number.1\", \"Case Number.2\"], axis=1)"
      ]
    },
    {
      "cell_type": "markdown",
      "metadata": {
        "id": "YtDiSCDEnoeR"
      },
      "source": [
        "## **Case Number y Date**"
      ]
    },
    {
      "cell_type": "code",
      "execution_count": 343,
      "metadata": {
        "colab": {
          "base_uri": "https://localhost:8080/"
        },
        "id": "gYZfeVMVn283",
        "outputId": "db52536d-513d-4a84-96d5-d2accb73aec4"
      },
      "outputs": [
        {
          "data": {
            "text/plain": [
              "0         18-Sep-16\n",
              "1         18-Sep-16\n",
              "2         18-Sep-16\n",
              "3         17-Sep-16\n",
              "4         16-Sep-16\n",
              "           ...     \n",
              "5987    Before 1903\n",
              "5988    Before 1903\n",
              "5989      1900-1905\n",
              "5990      1883-1889\n",
              "5991      1845-1853\n",
              "Name: Date, Length: 5992, dtype: object"
            ]
          },
          "execution_count": 343,
          "metadata": {},
          "output_type": "execute_result"
        }
      ],
      "source": [
        "dataset[\"Date\"]"
      ]
    },
    {
      "cell_type": "code",
      "execution_count": 344,
      "metadata": {
        "id": "-0AIvlr2oCho"
      },
      "outputs": [],
      "source": [
        "# Muchos formatos diferentes, veremos que pasa con Case Number, que también contiene la fecha\n",
        "# Podemos sacar el mes y el día, que el año ya lo tenemos, de Case Number\n",
        "# Hay que tener en cuenta que cuando no se sabe la fecha aparece ND\n",
        "\n",
        "dataset['Month']= dataset['Case Number'].apply(lambda x: x[5:7] if ((x[0:2]!='ND') & (x[0:2]!='nd') & (x[0:2]!='0.')) else 0)\n",
        "dataset['Day']= dataset['Case Number'].apply(lambda x: x[8:10] if ((x[0:2]!='ND') & (x[0:2]!='nd') & (x[0:2]!='0.')) else 0)\n",
        "\n",
        "dataset.Month = dataset.Month.astype('int64')\n",
        "dataset.Day = dataset.Day.astype('int64')"
      ]
    },
    {
      "cell_type": "code",
      "execution_count": 345,
      "metadata": {
        "colab": {
          "base_uri": "https://localhost:8080/",
          "height": 424
        },
        "id": "qZEdOFBRSZcw",
        "outputId": "279b6167-07d9-405a-eccd-144d7a9e6877"
      },
      "outputs": [
        {
          "data": {
            "text/html": [
              "<div>\n",
              "<style scoped>\n",
              "    .dataframe tbody tr th:only-of-type {\n",
              "        vertical-align: middle;\n",
              "    }\n",
              "\n",
              "    .dataframe tbody tr th {\n",
              "        vertical-align: top;\n",
              "    }\n",
              "\n",
              "    .dataframe thead th {\n",
              "        text-align: right;\n",
              "    }\n",
              "</style>\n",
              "<table border=\"1\" class=\"dataframe\">\n",
              "  <thead>\n",
              "    <tr style=\"text-align: right;\">\n",
              "      <th></th>\n",
              "      <th>Case Number</th>\n",
              "      <th>Year</th>\n",
              "      <th>Month</th>\n",
              "      <th>Day</th>\n",
              "    </tr>\n",
              "  </thead>\n",
              "  <tbody>\n",
              "    <tr>\n",
              "      <th>0</th>\n",
              "      <td>2016.09.18.c</td>\n",
              "      <td>2016</td>\n",
              "      <td>9</td>\n",
              "      <td>18</td>\n",
              "    </tr>\n",
              "    <tr>\n",
              "      <th>1</th>\n",
              "      <td>2016.09.18.b</td>\n",
              "      <td>2016</td>\n",
              "      <td>9</td>\n",
              "      <td>18</td>\n",
              "    </tr>\n",
              "    <tr>\n",
              "      <th>2</th>\n",
              "      <td>2016.09.18.a</td>\n",
              "      <td>2016</td>\n",
              "      <td>9</td>\n",
              "      <td>18</td>\n",
              "    </tr>\n",
              "    <tr>\n",
              "      <th>3</th>\n",
              "      <td>2016.09.17</td>\n",
              "      <td>2016</td>\n",
              "      <td>9</td>\n",
              "      <td>17</td>\n",
              "    </tr>\n",
              "    <tr>\n",
              "      <th>4</th>\n",
              "      <td>2016.09.15</td>\n",
              "      <td>2016</td>\n",
              "      <td>9</td>\n",
              "      <td>15</td>\n",
              "    </tr>\n",
              "    <tr>\n",
              "      <th>...</th>\n",
              "      <td>...</td>\n",
              "      <td>...</td>\n",
              "      <td>...</td>\n",
              "      <td>...</td>\n",
              "    </tr>\n",
              "    <tr>\n",
              "      <th>5987</th>\n",
              "      <td>ND.0005</td>\n",
              "      <td>0</td>\n",
              "      <td>0</td>\n",
              "      <td>0</td>\n",
              "    </tr>\n",
              "    <tr>\n",
              "      <th>5988</th>\n",
              "      <td>ND.0004</td>\n",
              "      <td>0</td>\n",
              "      <td>0</td>\n",
              "      <td>0</td>\n",
              "    </tr>\n",
              "    <tr>\n",
              "      <th>5989</th>\n",
              "      <td>ND.0003</td>\n",
              "      <td>0</td>\n",
              "      <td>0</td>\n",
              "      <td>0</td>\n",
              "    </tr>\n",
              "    <tr>\n",
              "      <th>5990</th>\n",
              "      <td>ND.0002</td>\n",
              "      <td>0</td>\n",
              "      <td>0</td>\n",
              "      <td>0</td>\n",
              "    </tr>\n",
              "    <tr>\n",
              "      <th>5991</th>\n",
              "      <td>ND.0001</td>\n",
              "      <td>0</td>\n",
              "      <td>0</td>\n",
              "      <td>0</td>\n",
              "    </tr>\n",
              "  </tbody>\n",
              "</table>\n",
              "<p>5992 rows × 4 columns</p>\n",
              "</div>"
            ],
            "text/plain": [
              "       Case Number  Year  Month  Day\n",
              "0     2016.09.18.c  2016      9   18\n",
              "1     2016.09.18.b  2016      9   18\n",
              "2     2016.09.18.a  2016      9   18\n",
              "3       2016.09.17  2016      9   17\n",
              "4       2016.09.15  2016      9   15\n",
              "...            ...   ...    ...  ...\n",
              "5987       ND.0005     0      0    0\n",
              "5988       ND.0004     0      0    0\n",
              "5989       ND.0003     0      0    0\n",
              "5990       ND.0002     0      0    0\n",
              "5991       ND.0001     0      0    0\n",
              "\n",
              "[5992 rows x 4 columns]"
            ]
          },
          "execution_count": 345,
          "metadata": {},
          "output_type": "execute_result"
        }
      ],
      "source": [
        "dataset[['Case Number', 'Year', 'Month', 'Day']]"
      ]
    },
    {
      "cell_type": "code",
      "execution_count": 346,
      "metadata": {
        "colab": {
          "base_uri": "https://localhost:8080/",
          "height": 295
        },
        "id": "SWa3YE3kIqXY",
        "outputId": "e1b33c7f-5b05-455f-bea6-a7e7339a775c"
      },
      "outputs": [
        {
          "data": {
            "image/png": "[encoded data removed]",
            "text/plain": [
              "<Figure size 640x480 with 1 Axes>"
            ]
          },
          "metadata": {},
          "output_type": "display_data"
        }
      ],
      "source": [
        "import matplotlib.pyplot as plot\n",
        "\n",
        "intervalos = range(min(dataset.Month), max(dataset.Month) + 2) #calculamos los extremos de los intervalos\n",
        "\n",
        "plot.hist(x=dataset.Month, bins=intervalos, color='#F2AB6D', rwidth=0.85)\n",
        "plot.title('Mes del ataque')\n",
        "plot.xlabel('Mes')\n",
        "plot.ylabel('Frecuencia')\n",
        "plot.xticks(intervalos)\n",
        "\n",
        "plot.show()"
      ]
    },
    {
      "cell_type": "code",
      "execution_count": 347,
      "metadata": {
        "colab": {
          "base_uri": "https://localhost:8080/",
          "height": 295
        },
        "id": "BiSLSy0oR-MB",
        "outputId": "e908092f-e858-4641-bdd6-249cecc47d07"
      },
      "outputs": [
        {
          "data": {
            "image/png": "[encoded data removed]",
            "text/plain": [
              "<Figure size 640x480 with 1 Axes>"
            ]
          },
          "metadata": {},
          "output_type": "display_data"
        }
      ],
      "source": [
        "intervalos = range(min(dataset.Day), max(dataset.Day) + 2) #calculamos los extremos de los intervalos\n",
        "\n",
        "plot.hist(x=dataset.Day, bins=intervalos, color='#F2AB6D', rwidth=0.85)\n",
        "plot.title('Día del ataque')\n",
        "plot.xlabel('Día')\n",
        "plot.ylabel('Frecuencia')\n",
        "plot.xticks(intervalos)\n",
        "\n",
        "plot.show()"
      ]
    },
    {
      "cell_type": "code",
      "execution_count": 348,
      "metadata": {
        "id": "SnqJHAmVNyMB"
      },
      "outputs": [],
      "source": [
        "# Con lo que podemos eliminar Case Number y Date\n",
        "\n",
        "dataset = dataset.drop([\"Case Number\", \"Date\"], axis=1)"
      ]
    },
    {
      "cell_type": "code",
      "execution_count": 349,
      "metadata": {
        "colab": {
          "base_uri": "https://localhost:8080/"
        },
        "id": "Hm4wW57-u9On",
        "outputId": "48b7f11e-671d-4c6f-e2f8-79c8e0e32954"
      },
      "outputs": [
        {
          "name": "stdout",
          "output_type": "stream",
          "text": [
            "<class 'pandas.core.frame.DataFrame'>\n",
            "RangeIndex: 5992 entries, 0 to 5991\n",
            "Data columns (total 13 columns):\n",
            " #   Column       Non-Null Count  Dtype \n",
            "---  ------       --------------  ----- \n",
            " 0   Year         5992 non-null   int64 \n",
            " 1   Type         5992 non-null   object\n",
            " 2   Country      5949 non-null   object\n",
            " 3   Area         5590 non-null   object\n",
            " 4   Location     5496 non-null   object\n",
            " 5   Activity     5465 non-null   object\n",
            " 6   Sex          5425 non-null   object\n",
            " 7   Age          3311 non-null   object\n",
            " 8   Injury       5965 non-null   object\n",
            " 9   Fatal (Y/N)  5973 non-null   object\n",
            " 10  Species      3058 non-null   object\n",
            " 11  Month        5992 non-null   int64 \n",
            " 12  Day          5992 non-null   int64 \n",
            "dtypes: int64(3), object(10)\n",
            "memory usage: 608.7+ KB\n"
          ]
        }
      ],
      "source": [
        "dataset.info()"
      ]
    },
    {
      "cell_type": "markdown",
      "metadata": {
        "id": "GABsPZ-KALT0"
      },
      "source": [
        "## **Year**"
      ]
    },
    {
      "cell_type": "code",
      "execution_count": 350,
      "metadata": {
        "colab": {
          "base_uri": "https://localhost:8080/"
        },
        "id": "b3BXQ8GBATyi",
        "outputId": "f5c70005-8b99-413d-a1ff-af0bbbc9fcb3"
      },
      "outputs": [
        {
          "data": {
            "text/plain": [
              "Year\n",
              "2015    139\n",
              "2011    128\n",
              "2014    125\n",
              "0       124\n",
              "2013    122\n",
              "       ... \n",
              "1791      1\n",
              "1788      1\n",
              "1787      1\n",
              "1785      1\n",
              "1803      1\n",
              "Name: count, Length: 232, dtype: int64"
            ]
          },
          "execution_count": 350,
          "metadata": {},
          "output_type": "execute_result"
        }
      ],
      "source": [
        "dataset['Year'].value_counts()"
      ]
    },
    {
      "cell_type": "code",
      "execution_count": 351,
      "metadata": {
        "colab": {
          "base_uri": "https://localhost:8080/"
        },
        "id": "_A8rVi0GBLZa",
        "outputId": "e241dbe8-4d6f-4434-f598-967bd615f70b"
      },
      "outputs": [
        {
          "data": {
            "text/plain": [
              "4228"
            ]
          },
          "execution_count": 351,
          "metadata": {},
          "output_type": "execute_result"
        }
      ],
      "source": [
        "# Solo estudiaremos los casos producidos desde 1950, que son los más numerosos \n",
        "dataset.loc[dataset['Year']>1950].Year.count()"
      ]
    },
    {
      "cell_type": "code",
      "execution_count": 352,
      "metadata": {
        "id": "KuC2JPtbBsdp"
      },
      "outputs": [],
      "source": [
        "dataset = dataset[dataset['Year'] > 1950]"
      ]
    },
    {
      "cell_type": "code",
      "execution_count": 353,
      "metadata": {
        "colab": {
          "base_uri": "https://localhost:8080/"
        },
        "id": "qX3KCgRGDkdt",
        "outputId": "92412631-25c0-4008-81a4-e7a408331294"
      },
      "outputs": [
        {
          "data": {
            "text/plain": [
              "2016"
            ]
          },
          "execution_count": 353,
          "metadata": {},
          "output_type": "execute_result"
        }
      ],
      "source": [
        "dataset.Year.max()"
      ]
    },
    {
      "cell_type": "code",
      "execution_count": 354,
      "metadata": {
        "id": "3H43wUsNAZo0"
      },
      "outputs": [],
      "source": [
        "# Vamos a agrupar\n",
        "dataset['Decada'] = pd.cut(dataset.Year, bins = [1950, 1960, 1970, 1980, 1990, 2000, 2010, 2020], labels=range(1950,2020,10))"
      ]
    },
    {
      "cell_type": "code",
      "execution_count": 355,
      "metadata": {
        "colab": {
          "base_uri": "https://localhost:8080/"
        },
        "id": "xBZCCGbDAso0",
        "outputId": "8ac20524-93fb-4fbd-9c7e-6f232cd6f6e8"
      },
      "outputs": [
        {
          "data": {
            "text/plain": [
              "Decada\n",
              "2000    1024\n",
              "2010     734\n",
              "1990     627\n",
              "1960     566\n",
              "1950     513\n",
              "1980     437\n",
              "1970     327\n",
              "Name: count, dtype: int64"
            ]
          },
          "execution_count": 355,
          "metadata": {},
          "output_type": "execute_result"
        }
      ],
      "source": [
        "dataset['Decada'].value_counts()"
      ]
    },
    {
      "cell_type": "code",
      "execution_count": 356,
      "metadata": {
        "id": "6kbgrsmAERzc"
      },
      "outputs": [],
      "source": [
        "dataset['Decada'] = dataset['Decada'].map({1950: 1, 1960: 2, 1970: 3, 1980: 4, 1990: 5, 2000: 6, 2010:7})"
      ]
    },
    {
      "cell_type": "code",
      "execution_count": 357,
      "metadata": {
        "colab": {
          "base_uri": "https://localhost:8080/"
        },
        "id": "jE5tpN8uErbA",
        "outputId": "d336f3b5-06fb-4628-d1fd-02e15c982d87"
      },
      "outputs": [
        {
          "data": {
            "text/plain": [
              "Decada\n",
              "6    1024\n",
              "7     734\n",
              "5     627\n",
              "2     566\n",
              "1     513\n",
              "4     437\n",
              "3     327\n",
              "Name: count, dtype: int64"
            ]
          },
          "execution_count": 357,
          "metadata": {},
          "output_type": "execute_result"
        }
      ],
      "source": [
        "dataset['Decada'].value_counts()"
      ]
    },
    {
      "cell_type": "code",
      "execution_count": 358,
      "metadata": {
        "id": "k-19RC_XccC7"
      },
      "outputs": [],
      "source": [
        "dataset = dataset.drop([\"Year\"], axis=1)"
      ]
    },
    {
      "cell_type": "markdown",
      "metadata": {
        "id": "ycC75O1tX4vT"
      },
      "source": [
        "## **Type**"
      ]
    },
    {
      "cell_type": "code",
      "execution_count": 359,
      "metadata": {
        "colab": {
          "base_uri": "https://localhost:8080/"
        },
        "id": "UZIkzdl8YG-3",
        "outputId": "0d3de996-65a5-4864-95ab-f97fcfc3925c"
      },
      "outputs": [
        {
          "data": {
            "text/plain": [
              "Type\n",
              "Unprovoked      3163\n",
              "Provoked         414\n",
              "Invalid          349\n",
              "Boat             194\n",
              "Sea Disaster      93\n",
              "Boating           15\n",
              "Name: count, dtype: int64"
            ]
          },
          "execution_count": 359,
          "metadata": {},
          "output_type": "execute_result"
        }
      ],
      "source": [
        "dataset['Type'].value_counts()"
      ]
    },
    {
      "cell_type": "code",
      "execution_count": 360,
      "metadata": {
        "colab": {
          "base_uri": "https://localhost:8080/"
        },
        "id": "dPx1OMlRYTjH",
        "outputId": "839dc37b-297d-47bd-9235-3bc7884ba740"
      },
      "outputs": [
        {
          "data": {
            "text/plain": [
              "Type\n",
              "Unprovoked      3163\n",
              "Provoked         414\n",
              "Unknown          349\n",
              "Boat             209\n",
              "Sea Disaster      93\n",
              "Name: count, dtype: int64"
            ]
          },
          "execution_count": 360,
          "metadata": {},
          "output_type": "execute_result"
        }
      ],
      "source": [
        "dataset['Type'] = dataset['Type'].str.strip()\n",
        "dataset['Type'] = dataset['Type'].str.replace('Boating','Boat')\n",
        "dataset['Type'] = dataset['Type'].str.replace('Invalid','Unknown')\n",
        "dataset['Type'].value_counts()"
      ]
    },
    {
      "cell_type": "code",
      "execution_count": 361,
      "metadata": {
        "colab": {
          "base_uri": "https://localhost:8080/"
        },
        "id": "CmCma68NfqWA",
        "outputId": "0e8ba0bd-41ed-46ef-a51c-a49eb0128513"
      },
      "outputs": [
        {
          "data": {
            "text/plain": [
              "Type\n",
              "1    3163\n",
              "2     414\n",
              "3     349\n",
              "4     209\n",
              "5      93\n",
              "Name: count, dtype: int64"
            ]
          },
          "execution_count": 361,
          "metadata": {},
          "output_type": "execute_result"
        }
      ],
      "source": [
        "dataset['Type'] = dataset['Type'].map({'Unprovoked': 1, 'Provoked': 2, 'Unknown': 3, 'Boat': 4, 'Sea Disaster': 5})\n",
        "dataset['Type'].value_counts()"
      ]
    },
    {
      "cell_type": "markdown",
      "metadata": {
        "id": "6UgCF1K9YncO"
      },
      "source": [
        "## **Country**"
      ]
    },
    {
      "cell_type": "code",
      "execution_count": 362,
      "metadata": {
        "colab": {
          "base_uri": "https://localhost:8080/"
        },
        "id": "JhEIE8obYw9g",
        "outputId": "5bcac42e-d1b8-441c-efd5-d9432e2d2866"
      },
      "outputs": [
        {
          "data": {
            "text/plain": [
              "Country\n",
              "USA                     1771\n",
              "AUSTRALIA                731\n",
              "SOUTH AFRICA             450\n",
              "PAPUA NEW GUINEA         110\n",
              "BRAZIL                    95\n",
              "                        ... \n",
              "ANGOLA                     1\n",
              "NAMIBIA                    1\n",
              "SOUTH CHINA SEA            1\n",
              "BANGLADESH                 1\n",
              "NETHERLANDS ANTILLES       1\n",
              "Name: count, Length: 147, dtype: int64"
            ]
          },
          "execution_count": 362,
          "metadata": {},
          "output_type": "execute_result"
        }
      ],
      "source": [
        "dataset['Country'].value_counts()"
      ]
    },
    {
      "cell_type": "code",
      "execution_count": 363,
      "metadata": {
        "colab": {
          "base_uri": "https://localhost:8080/"
        },
        "id": "PfWhdiSHY-Ck",
        "outputId": "c2e59ced-c4f0-451a-be6e-2b056d259c9b"
      },
      "outputs": [
        {
          "data": {
            "text/plain": [
              "Country\n",
              "USA                     1771\n",
              "AUSTRALIA                731\n",
              "SOUTH AFRICA             450\n",
              "PAPUA NEW GUINEA         110\n",
              "BRAZIL                    95\n",
              "                        ... \n",
              "CAPE VERDE                 1\n",
              "NAMIBIA                    1\n",
              "SOUTH CHINA SEA            1\n",
              "BANGLADESH                 1\n",
              "NETHERLANDS ANTILLES       1\n",
              "Name: count, Length: 142, dtype: int64"
            ]
          },
          "execution_count": 363,
          "metadata": {},
          "output_type": "execute_result"
        }
      ],
      "source": [
        "dataset['Country'].fillna('Unknown', inplace=True)\n",
        "dataset['Country'] = dataset['Country'].str.strip().str.upper()\n",
        "dataset['Country'].value_counts()"
      ]
    },
    {
      "cell_type": "code",
      "execution_count": 364,
      "metadata": {
        "id": "ofUwFRcsAdHZ"
      },
      "outputs": [],
      "source": [
        "# Tenemos muchos países con solo una ocurrencia, los podemos agrupar\n",
        "# dataset['Country'] = dataset['Country'].map(lambda x: 'OTHERS' if ((dataset['Country'] == x).sum() < 1) else x)\n",
        "# dataset.loc[dataset['Country']=='UNKNOWN'] = 'OTHERS'"
      ]
    },
    {
      "cell_type": "code",
      "execution_count": 365,
      "metadata": {
        "colab": {
          "base_uri": "https://localhost:8080/",
          "height": 1000
        },
        "id": "pbanrRH49Mxj",
        "outputId": "e2e17c2c-b1f0-409a-ea63-7a3d9a1d7d29"
      },
      "outputs": [
        {
          "data": {
            "text/html": [
              "<div>\n",
              "<style scoped>\n",
              "    .dataframe tbody tr th:only-of-type {\n",
              "        vertical-align: middle;\n",
              "    }\n",
              "\n",
              "    .dataframe tbody tr th {\n",
              "        vertical-align: top;\n",
              "    }\n",
              "\n",
              "    .dataframe thead th {\n",
              "        text-align: right;\n",
              "    }\n",
              "</style>\n",
              "<table border=\"1\" class=\"dataframe\">\n",
              "  <thead>\n",
              "    <tr style=\"text-align: right;\">\n",
              "      <th></th>\n",
              "      <th></th>\n",
              "      <th>Type</th>\n",
              "      <th>Location</th>\n",
              "      <th>Activity</th>\n",
              "      <th>Sex</th>\n",
              "      <th>Age</th>\n",
              "      <th>Injury</th>\n",
              "      <th>Fatal (Y/N)</th>\n",
              "      <th>Species</th>\n",
              "      <th>Month</th>\n",
              "      <th>Day</th>\n",
              "      <th>Decada</th>\n",
              "    </tr>\n",
              "    <tr>\n",
              "      <th>Country</th>\n",
              "      <th>Area</th>\n",
              "      <th></th>\n",
              "      <th></th>\n",
              "      <th></th>\n",
              "      <th></th>\n",
              "      <th></th>\n",
              "      <th></th>\n",
              "      <th></th>\n",
              "      <th></th>\n",
              "      <th></th>\n",
              "      <th></th>\n",
              "      <th></th>\n",
              "    </tr>\n",
              "  </thead>\n",
              "  <tbody>\n",
              "    <tr>\n",
              "      <th rowspan=\"37\" valign=\"top\">USA</th>\n",
              "      <th>Alabama</th>\n",
              "      <td>11</td>\n",
              "      <td>11</td>\n",
              "      <td>10</td>\n",
              "      <td>10</td>\n",
              "      <td>9</td>\n",
              "      <td>11</td>\n",
              "      <td>11</td>\n",
              "      <td>6</td>\n",
              "      <td>11</td>\n",
              "      <td>11</td>\n",
              "      <td>11</td>\n",
              "    </tr>\n",
              "    <tr>\n",
              "      <th>Alaska</th>\n",
              "      <td>1</td>\n",
              "      <td>1</td>\n",
              "      <td>1</td>\n",
              "      <td>1</td>\n",
              "      <td>0</td>\n",
              "      <td>1</td>\n",
              "      <td>1</td>\n",
              "      <td>1</td>\n",
              "      <td>1</td>\n",
              "      <td>1</td>\n",
              "      <td>1</td>\n",
              "    </tr>\n",
              "    <tr>\n",
              "      <th>California</th>\n",
              "      <td>253</td>\n",
              "      <td>252</td>\n",
              "      <td>245</td>\n",
              "      <td>236</td>\n",
              "      <td>171</td>\n",
              "      <td>252</td>\n",
              "      <td>253</td>\n",
              "      <td>211</td>\n",
              "      <td>253</td>\n",
              "      <td>253</td>\n",
              "      <td>253</td>\n",
              "    </tr>\n",
              "    <tr>\n",
              "      <th>Connecticut</th>\n",
              "      <td>2</td>\n",
              "      <td>2</td>\n",
              "      <td>2</td>\n",
              "      <td>1</td>\n",
              "      <td>1</td>\n",
              "      <td>2</td>\n",
              "      <td>2</td>\n",
              "      <td>0</td>\n",
              "      <td>2</td>\n",
              "      <td>2</td>\n",
              "      <td>2</td>\n",
              "    </tr>\n",
              "    <tr>\n",
              "      <th>Delaware</th>\n",
              "      <td>5</td>\n",
              "      <td>5</td>\n",
              "      <td>5</td>\n",
              "      <td>5</td>\n",
              "      <td>4</td>\n",
              "      <td>5</td>\n",
              "      <td>5</td>\n",
              "      <td>4</td>\n",
              "      <td>5</td>\n",
              "      <td>5</td>\n",
              "      <td>5</td>\n",
              "    </tr>\n",
              "    <tr>\n",
              "      <th>Florida</th>\n",
              "      <td>909</td>\n",
              "      <td>902</td>\n",
              "      <td>861</td>\n",
              "      <td>878</td>\n",
              "      <td>768</td>\n",
              "      <td>906</td>\n",
              "      <td>909</td>\n",
              "      <td>496</td>\n",
              "      <td>909</td>\n",
              "      <td>909</td>\n",
              "      <td>909</td>\n",
              "    </tr>\n",
              "    <tr>\n",
              "      <th>Florida</th>\n",
              "      <td>1</td>\n",
              "      <td>1</td>\n",
              "      <td>1</td>\n",
              "      <td>1</td>\n",
              "      <td>1</td>\n",
              "      <td>1</td>\n",
              "      <td>1</td>\n",
              "      <td>1</td>\n",
              "      <td>1</td>\n",
              "      <td>1</td>\n",
              "      <td>1</td>\n",
              "    </tr>\n",
              "    <tr>\n",
              "      <th>Georgia</th>\n",
              "      <td>9</td>\n",
              "      <td>9</td>\n",
              "      <td>9</td>\n",
              "      <td>9</td>\n",
              "      <td>8</td>\n",
              "      <td>9</td>\n",
              "      <td>9</td>\n",
              "      <td>3</td>\n",
              "      <td>9</td>\n",
              "      <td>9</td>\n",
              "      <td>9</td>\n",
              "    </tr>\n",
              "    <tr>\n",
              "      <th>Guam</th>\n",
              "      <td>1</td>\n",
              "      <td>1</td>\n",
              "      <td>1</td>\n",
              "      <td>1</td>\n",
              "      <td>1</td>\n",
              "      <td>1</td>\n",
              "      <td>1</td>\n",
              "      <td>1</td>\n",
              "      <td>1</td>\n",
              "      <td>1</td>\n",
              "      <td>1</td>\n",
              "    </tr>\n",
              "    <tr>\n",
              "      <th>Hawaii</th>\n",
              "      <td>223</td>\n",
              "      <td>223</td>\n",
              "      <td>217</td>\n",
              "      <td>208</td>\n",
              "      <td>126</td>\n",
              "      <td>223</td>\n",
              "      <td>223</td>\n",
              "      <td>151</td>\n",
              "      <td>223</td>\n",
              "      <td>223</td>\n",
              "      <td>223</td>\n",
              "    </tr>\n",
              "    <tr>\n",
              "      <th>Illinois</th>\n",
              "      <td>1</td>\n",
              "      <td>1</td>\n",
              "      <td>1</td>\n",
              "      <td>1</td>\n",
              "      <td>0</td>\n",
              "      <td>1</td>\n",
              "      <td>1</td>\n",
              "      <td>1</td>\n",
              "      <td>1</td>\n",
              "      <td>1</td>\n",
              "      <td>1</td>\n",
              "    </tr>\n",
              "    <tr>\n",
              "      <th>Johnston Atoll</th>\n",
              "      <td>1</td>\n",
              "      <td>0</td>\n",
              "      <td>1</td>\n",
              "      <td>1</td>\n",
              "      <td>1</td>\n",
              "      <td>1</td>\n",
              "      <td>1</td>\n",
              "      <td>1</td>\n",
              "      <td>1</td>\n",
              "      <td>1</td>\n",
              "      <td>1</td>\n",
              "    </tr>\n",
              "    <tr>\n",
              "      <th>Kentucky</th>\n",
              "      <td>1</td>\n",
              "      <td>1</td>\n",
              "      <td>1</td>\n",
              "      <td>0</td>\n",
              "      <td>0</td>\n",
              "      <td>1</td>\n",
              "      <td>1</td>\n",
              "      <td>1</td>\n",
              "      <td>1</td>\n",
              "      <td>1</td>\n",
              "      <td>1</td>\n",
              "    </tr>\n",
              "    <tr>\n",
              "      <th>Louisiana</th>\n",
              "      <td>8</td>\n",
              "      <td>7</td>\n",
              "      <td>8</td>\n",
              "      <td>7</td>\n",
              "      <td>5</td>\n",
              "      <td>8</td>\n",
              "      <td>8</td>\n",
              "      <td>7</td>\n",
              "      <td>8</td>\n",
              "      <td>8</td>\n",
              "      <td>8</td>\n",
              "    </tr>\n",
              "    <tr>\n",
              "      <th>Maine</th>\n",
              "      <td>1</td>\n",
              "      <td>1</td>\n",
              "      <td>1</td>\n",
              "      <td>1</td>\n",
              "      <td>1</td>\n",
              "      <td>1</td>\n",
              "      <td>1</td>\n",
              "      <td>1</td>\n",
              "      <td>1</td>\n",
              "      <td>1</td>\n",
              "      <td>1</td>\n",
              "    </tr>\n",
              "    <tr>\n",
              "      <th>Maryland</th>\n",
              "      <td>3</td>\n",
              "      <td>3</td>\n",
              "      <td>3</td>\n",
              "      <td>2</td>\n",
              "      <td>2</td>\n",
              "      <td>3</td>\n",
              "      <td>3</td>\n",
              "      <td>2</td>\n",
              "      <td>3</td>\n",
              "      <td>3</td>\n",
              "      <td>3</td>\n",
              "    </tr>\n",
              "    <tr>\n",
              "      <th>Massachusetts</th>\n",
              "      <td>7</td>\n",
              "      <td>7</td>\n",
              "      <td>7</td>\n",
              "      <td>6</td>\n",
              "      <td>6</td>\n",
              "      <td>7</td>\n",
              "      <td>7</td>\n",
              "      <td>6</td>\n",
              "      <td>7</td>\n",
              "      <td>7</td>\n",
              "      <td>7</td>\n",
              "    </tr>\n",
              "    <tr>\n",
              "      <th>Mississippi</th>\n",
              "      <td>3</td>\n",
              "      <td>3</td>\n",
              "      <td>3</td>\n",
              "      <td>3</td>\n",
              "      <td>3</td>\n",
              "      <td>3</td>\n",
              "      <td>3</td>\n",
              "      <td>2</td>\n",
              "      <td>3</td>\n",
              "      <td>3</td>\n",
              "      <td>3</td>\n",
              "    </tr>\n",
              "    <tr>\n",
              "      <th>Missouri</th>\n",
              "      <td>1</td>\n",
              "      <td>1</td>\n",
              "      <td>1</td>\n",
              "      <td>1</td>\n",
              "      <td>1</td>\n",
              "      <td>1</td>\n",
              "      <td>1</td>\n",
              "      <td>1</td>\n",
              "      <td>1</td>\n",
              "      <td>1</td>\n",
              "      <td>1</td>\n",
              "    </tr>\n",
              "    <tr>\n",
              "      <th>New Jersey</th>\n",
              "      <td>12</td>\n",
              "      <td>12</td>\n",
              "      <td>11</td>\n",
              "      <td>12</td>\n",
              "      <td>10</td>\n",
              "      <td>12</td>\n",
              "      <td>12</td>\n",
              "      <td>5</td>\n",
              "      <td>12</td>\n",
              "      <td>12</td>\n",
              "      <td>12</td>\n",
              "    </tr>\n",
              "    <tr>\n",
              "      <th>New Mexico</th>\n",
              "      <td>1</td>\n",
              "      <td>1</td>\n",
              "      <td>1</td>\n",
              "      <td>1</td>\n",
              "      <td>1</td>\n",
              "      <td>1</td>\n",
              "      <td>1</td>\n",
              "      <td>1</td>\n",
              "      <td>1</td>\n",
              "      <td>1</td>\n",
              "      <td>1</td>\n",
              "    </tr>\n",
              "    <tr>\n",
              "      <th>New York</th>\n",
              "      <td>7</td>\n",
              "      <td>7</td>\n",
              "      <td>7</td>\n",
              "      <td>7</td>\n",
              "      <td>6</td>\n",
              "      <td>7</td>\n",
              "      <td>7</td>\n",
              "      <td>5</td>\n",
              "      <td>7</td>\n",
              "      <td>7</td>\n",
              "      <td>7</td>\n",
              "    </tr>\n",
              "    <tr>\n",
              "      <th>North &amp; South Carolina</th>\n",
              "      <td>1</td>\n",
              "      <td>0</td>\n",
              "      <td>1</td>\n",
              "      <td>1</td>\n",
              "      <td>0</td>\n",
              "      <td>1</td>\n",
              "      <td>1</td>\n",
              "      <td>1</td>\n",
              "      <td>1</td>\n",
              "      <td>1</td>\n",
              "      <td>1</td>\n",
              "    </tr>\n",
              "    <tr>\n",
              "      <th>North Carolina</th>\n",
              "      <td>81</td>\n",
              "      <td>80</td>\n",
              "      <td>76</td>\n",
              "      <td>76</td>\n",
              "      <td>69</td>\n",
              "      <td>81</td>\n",
              "      <td>81</td>\n",
              "      <td>51</td>\n",
              "      <td>81</td>\n",
              "      <td>81</td>\n",
              "      <td>81</td>\n",
              "    </tr>\n",
              "    <tr>\n",
              "      <th>North Carolina</th>\n",
              "      <td>1</td>\n",
              "      <td>1</td>\n",
              "      <td>1</td>\n",
              "      <td>1</td>\n",
              "      <td>1</td>\n",
              "      <td>1</td>\n",
              "      <td>1</td>\n",
              "      <td>1</td>\n",
              "      <td>1</td>\n",
              "      <td>1</td>\n",
              "      <td>1</td>\n",
              "    </tr>\n",
              "    <tr>\n",
              "      <th>Oregon</th>\n",
              "      <td>28</td>\n",
              "      <td>27</td>\n",
              "      <td>28</td>\n",
              "      <td>28</td>\n",
              "      <td>24</td>\n",
              "      <td>28</td>\n",
              "      <td>28</td>\n",
              "      <td>24</td>\n",
              "      <td>28</td>\n",
              "      <td>28</td>\n",
              "      <td>28</td>\n",
              "    </tr>\n",
              "    <tr>\n",
              "      <th>Palmyra Atoll</th>\n",
              "      <td>2</td>\n",
              "      <td>0</td>\n",
              "      <td>2</td>\n",
              "      <td>2</td>\n",
              "      <td>2</td>\n",
              "      <td>2</td>\n",
              "      <td>2</td>\n",
              "      <td>1</td>\n",
              "      <td>2</td>\n",
              "      <td>2</td>\n",
              "      <td>2</td>\n",
              "    </tr>\n",
              "    <tr>\n",
              "      <th>Pennsylvania</th>\n",
              "      <td>1</td>\n",
              "      <td>1</td>\n",
              "      <td>1</td>\n",
              "      <td>1</td>\n",
              "      <td>1</td>\n",
              "      <td>1</td>\n",
              "      <td>1</td>\n",
              "      <td>0</td>\n",
              "      <td>1</td>\n",
              "      <td>1</td>\n",
              "      <td>1</td>\n",
              "    </tr>\n",
              "    <tr>\n",
              "      <th>Puerto Rico</th>\n",
              "      <td>10</td>\n",
              "      <td>7</td>\n",
              "      <td>9</td>\n",
              "      <td>9</td>\n",
              "      <td>6</td>\n",
              "      <td>10</td>\n",
              "      <td>10</td>\n",
              "      <td>4</td>\n",
              "      <td>10</td>\n",
              "      <td>10</td>\n",
              "      <td>10</td>\n",
              "    </tr>\n",
              "    <tr>\n",
              "      <th>Rhode Island</th>\n",
              "      <td>2</td>\n",
              "      <td>1</td>\n",
              "      <td>2</td>\n",
              "      <td>1</td>\n",
              "      <td>1</td>\n",
              "      <td>2</td>\n",
              "      <td>2</td>\n",
              "      <td>1</td>\n",
              "      <td>2</td>\n",
              "      <td>2</td>\n",
              "      <td>2</td>\n",
              "    </tr>\n",
              "    <tr>\n",
              "      <th>South Carolina</th>\n",
              "      <td>110</td>\n",
              "      <td>107</td>\n",
              "      <td>94</td>\n",
              "      <td>106</td>\n",
              "      <td>84</td>\n",
              "      <td>109</td>\n",
              "      <td>110</td>\n",
              "      <td>65</td>\n",
              "      <td>110</td>\n",
              "      <td>110</td>\n",
              "      <td>110</td>\n",
              "    </tr>\n",
              "    <tr>\n",
              "      <th>South Carolina</th>\n",
              "      <td>1</td>\n",
              "      <td>1</td>\n",
              "      <td>1</td>\n",
              "      <td>1</td>\n",
              "      <td>1</td>\n",
              "      <td>1</td>\n",
              "      <td>1</td>\n",
              "      <td>1</td>\n",
              "      <td>1</td>\n",
              "      <td>1</td>\n",
              "      <td>1</td>\n",
              "    </tr>\n",
              "    <tr>\n",
              "      <th>Texas</th>\n",
              "      <td>52</td>\n",
              "      <td>52</td>\n",
              "      <td>50</td>\n",
              "      <td>51</td>\n",
              "      <td>40</td>\n",
              "      <td>52</td>\n",
              "      <td>52</td>\n",
              "      <td>30</td>\n",
              "      <td>52</td>\n",
              "      <td>52</td>\n",
              "      <td>52</td>\n",
              "    </tr>\n",
              "    <tr>\n",
              "      <th>US Virgin Islands</th>\n",
              "      <td>4</td>\n",
              "      <td>4</td>\n",
              "      <td>4</td>\n",
              "      <td>4</td>\n",
              "      <td>3</td>\n",
              "      <td>4</td>\n",
              "      <td>4</td>\n",
              "      <td>4</td>\n",
              "      <td>4</td>\n",
              "      <td>4</td>\n",
              "      <td>4</td>\n",
              "    </tr>\n",
              "    <tr>\n",
              "      <th>Virginia</th>\n",
              "      <td>14</td>\n",
              "      <td>14</td>\n",
              "      <td>14</td>\n",
              "      <td>14</td>\n",
              "      <td>8</td>\n",
              "      <td>14</td>\n",
              "      <td>14</td>\n",
              "      <td>10</td>\n",
              "      <td>14</td>\n",
              "      <td>14</td>\n",
              "      <td>14</td>\n",
              "    </tr>\n",
              "    <tr>\n",
              "      <th>Wake Island</th>\n",
              "      <td>1</td>\n",
              "      <td>1</td>\n",
              "      <td>1</td>\n",
              "      <td>1</td>\n",
              "      <td>0</td>\n",
              "      <td>1</td>\n",
              "      <td>1</td>\n",
              "      <td>1</td>\n",
              "      <td>1</td>\n",
              "      <td>1</td>\n",
              "      <td>1</td>\n",
              "    </tr>\n",
              "    <tr>\n",
              "      <th>Washington</th>\n",
              "      <td>1</td>\n",
              "      <td>1</td>\n",
              "      <td>1</td>\n",
              "      <td>1</td>\n",
              "      <td>0</td>\n",
              "      <td>1</td>\n",
              "      <td>1</td>\n",
              "      <td>1</td>\n",
              "      <td>1</td>\n",
              "      <td>1</td>\n",
              "      <td>1</td>\n",
              "    </tr>\n",
              "  </tbody>\n",
              "</table>\n",
              "</div>"
            ],
            "text/plain": [
              "                                Type  Location  Activity  Sex   Age  Injury  \\\n",
              "Country Area                                                                  \n",
              "USA     Alabama                   11        11        10    10    9      11   \n",
              "        Alaska                     1         1         1     1    0       1   \n",
              "        California               253       252       245   236  171     252   \n",
              "        Connecticut                2         2         2     1    1       2   \n",
              "        Delaware                   5         5         5     5    4       5   \n",
              "        Florida                  909       902       861   878  768     906   \n",
              "        Florida                    1         1         1     1    1       1   \n",
              "        Georgia                    9         9         9     9    8       9   \n",
              "        Guam                       1         1         1     1    1       1   \n",
              "        Hawaii                   223       223       217   208  126     223   \n",
              "        Illinois                   1         1         1     1    0       1   \n",
              "        Johnston Atoll             1         0         1     1    1       1   \n",
              "        Kentucky                   1         1         1     0    0       1   \n",
              "        Louisiana                  8         7         8     7    5       8   \n",
              "        Maine                      1         1         1     1    1       1   \n",
              "        Maryland                   3         3         3     2    2       3   \n",
              "        Massachusetts              7         7         7     6    6       7   \n",
              "        Mississippi                3         3         3     3    3       3   \n",
              "        Missouri                   1         1         1     1    1       1   \n",
              "        New Jersey                12        12        11    12   10      12   \n",
              "        New Mexico                 1         1         1     1    1       1   \n",
              "        New York                   7         7         7     7    6       7   \n",
              "        North & South Carolina     1         0         1     1    0       1   \n",
              "        North Carolina            81        80        76    76   69      81   \n",
              "        North Carolina             1         1         1     1    1       1   \n",
              "        Oregon                    28        27        28    28   24      28   \n",
              "        Palmyra Atoll              2         0         2     2    2       2   \n",
              "        Pennsylvania               1         1         1     1    1       1   \n",
              "        Puerto Rico               10         7         9     9    6      10   \n",
              "        Rhode Island               2         1         2     1    1       2   \n",
              "        South Carolina           110       107        94   106   84     109   \n",
              "        South Carolina             1         1         1     1    1       1   \n",
              "        Texas                     52        52        50    51   40      52   \n",
              "        US Virgin Islands          4         4         4     4    3       4   \n",
              "        Virginia                  14        14        14    14    8      14   \n",
              "        Wake Island                1         1         1     1    0       1   \n",
              "        Washington                 1         1         1     1    0       1   \n",
              "\n",
              "                                Fatal (Y/N)  Species   Month  Day  Decada  \n",
              "Country Area                                                               \n",
              "USA     Alabama                          11         6     11   11      11  \n",
              "        Alaska                            1         1      1    1       1  \n",
              "        California                      253       211    253  253     253  \n",
              "        Connecticut                       2         0      2    2       2  \n",
              "        Delaware                          5         4      5    5       5  \n",
              "        Florida                         909       496    909  909     909  \n",
              "        Florida                           1         1      1    1       1  \n",
              "        Georgia                           9         3      9    9       9  \n",
              "        Guam                              1         1      1    1       1  \n",
              "        Hawaii                          223       151    223  223     223  \n",
              "        Illinois                          1         1      1    1       1  \n",
              "        Johnston Atoll                    1         1      1    1       1  \n",
              "        Kentucky                          1         1      1    1       1  \n",
              "        Louisiana                         8         7      8    8       8  \n",
              "        Maine                             1         1      1    1       1  \n",
              "        Maryland                          3         2      3    3       3  \n",
              "        Massachusetts                     7         6      7    7       7  \n",
              "        Mississippi                       3         2      3    3       3  \n",
              "        Missouri                          1         1      1    1       1  \n",
              "        New Jersey                       12         5     12   12      12  \n",
              "        New Mexico                        1         1      1    1       1  \n",
              "        New York                          7         5      7    7       7  \n",
              "        North & South Carolina            1         1      1    1       1  \n",
              "        North Carolina                   81        51     81   81      81  \n",
              "        North Carolina                    1         1      1    1       1  \n",
              "        Oregon                           28        24     28   28      28  \n",
              "        Palmyra Atoll                     2         1      2    2       2  \n",
              "        Pennsylvania                      1         0      1    1       1  \n",
              "        Puerto Rico                      10         4     10   10      10  \n",
              "        Rhode Island                      2         1      2    2       2  \n",
              "        South Carolina                  110        65    110  110     110  \n",
              "        South Carolina                    1         1      1    1       1  \n",
              "        Texas                            52        30     52   52      52  \n",
              "        US Virgin Islands                 4         4      4    4       4  \n",
              "        Virginia                         14        10     14   14      14  \n",
              "        Wake Island                       1         1      1    1       1  \n",
              "        Washington                        1         1      1    1       1  "
            ]
          },
          "execution_count": 365,
          "metadata": {},
          "output_type": "execute_result"
        }
      ],
      "source": [
        "# Vamos a simplificar y solo consideraremos los casos de USA, que son los más numerosos\n",
        "ds_USA = dataset[dataset['Country']=='USA']\n",
        "ds_USA.groupby(['Country', 'Area']).count()"
      ]
    },
    {
      "cell_type": "code",
      "execution_count": 366,
      "metadata": {
        "colab": {
          "base_uri": "https://localhost:8080/"
        },
        "id": "XGLxvuGa9-ey",
        "outputId": "23030039-e5ce-4457-af9f-d22af97ed08e"
      },
      "outputs": [
        {
          "name": "stdout",
          "output_type": "stream",
          "text": [
            "<class 'pandas.core.frame.DataFrame'>\n",
            "Index: 1771 entries, 0 to 4215\n",
            "Data columns (total 13 columns):\n",
            " #   Column       Non-Null Count  Dtype   \n",
            "---  ------       --------------  -----   \n",
            " 0   Type         1771 non-null   int64   \n",
            " 1   Country      1771 non-null   object  \n",
            " 2   Area         1770 non-null   object  \n",
            " 3   Location     1748 non-null   object  \n",
            " 4   Activity     1682 non-null   object  \n",
            " 5   Sex          1690 non-null   object  \n",
            " 6   Age          1365 non-null   object  \n",
            " 7   Injury       1766 non-null   object  \n",
            " 8   Fatal (Y/N)  1771 non-null   object  \n",
            " 9   Species      1102 non-null   object  \n",
            " 10  Month        1771 non-null   int64   \n",
            " 11  Day          1771 non-null   int64   \n",
            " 12  Decada       1771 non-null   category\n",
            "dtypes: category(1), int64(3), object(9)\n",
            "memory usage: 181.9+ KB\n"
          ]
        }
      ],
      "source": [
        "ds_USA.info()"
      ]
    },
    {
      "cell_type": "code",
      "execution_count": 367,
      "metadata": {
        "id": "T0UMnFhAA8PC"
      },
      "outputs": [],
      "source": [
        "# Con lo que podemos eliminar el atributo\n",
        "ds_USA = ds_USA.drop([\"Country\"], axis=1)"
      ]
    },
    {
      "cell_type": "markdown",
      "metadata": {
        "id": "VGOt1H1rZRKY"
      },
      "source": [
        "## **Area y Location**"
      ]
    },
    {
      "cell_type": "code",
      "execution_count": 368,
      "metadata": {
        "colab": {
          "base_uri": "https://localhost:8080/"
        },
        "id": "8UCI454j_rno",
        "outputId": "33522f7c-0bb8-4b7d-e0ab-597d45cdb352"
      },
      "outputs": [
        {
          "data": {
            "text/plain": [
              "1"
            ]
          },
          "execution_count": 368,
          "metadata": {},
          "output_type": "execute_result"
        }
      ],
      "source": [
        "ds_USA['Area'].isna().sum()"
      ]
    },
    {
      "cell_type": "code",
      "execution_count": 369,
      "metadata": {
        "id": "iH5p-0GBF-aL"
      },
      "outputs": [],
      "source": [
        "# Solo hay un nulo, lo eliminamos\n",
        "ds_USA.drop(ds_USA[ds_USA['Area'].isna()].index, inplace = True)\n",
        "# Otra opción es sustituir el nulo por la moda\n",
        "# ds_USA['Area'].fillna(ds_USA['Area'].mode()[0], inplace=True)"
      ]
    },
    {
      "cell_type": "code",
      "execution_count": 370,
      "metadata": {
        "id": "kBi7GegFb2-7"
      },
      "outputs": [],
      "source": [
        "ds_USA['Area']=ds_USA['Area'].astype('category').cat.codes"
      ]
    },
    {
      "cell_type": "code",
      "execution_count": 371,
      "metadata": {
        "colab": {
          "base_uri": "https://localhost:8080/"
        },
        "id": "gOLuqUZ9Im5S",
        "outputId": "7b48f150-1fcc-4582-9cf2-de878106d187"
      },
      "outputs": [
        {
          "data": {
            "text/plain": [
              "Area\n",
              "5     909\n",
              "2     253\n",
              "9     223\n",
              "30    110\n",
              "23     81\n",
              "32     52\n",
              "25     28\n",
              "34     14\n",
              "19     12\n",
              "0      11\n",
              "28     10\n",
              "7       9\n",
              "13      8\n",
              "21      7\n",
              "16      7\n",
              "4       5\n",
              "33      4\n",
              "15      3\n",
              "17      3\n",
              "26      2\n",
              "3       2\n",
              "29      2\n",
              "24      1\n",
              "10      1\n",
              "27      1\n",
              "6       1\n",
              "22      1\n",
              "36      1\n",
              "1       1\n",
              "18      1\n",
              "11      1\n",
              "31      1\n",
              "20      1\n",
              "8       1\n",
              "12      1\n",
              "14      1\n",
              "35      1\n",
              "Name: count, dtype: int64"
            ]
          },
          "execution_count": 371,
          "metadata": {},
          "output_type": "execute_result"
        }
      ],
      "source": [
        "ds_USA['Area'].value_counts()"
      ]
    },
    {
      "cell_type": "code",
      "execution_count": 372,
      "metadata": {
        "colab": {
          "base_uri": "https://localhost:8080/"
        },
        "id": "mhNyqXrX_wVz",
        "outputId": "b4665cf7-f700-4791-efcd-1c0df75fa462"
      },
      "outputs": [
        {
          "data": {
            "text/plain": [
              "Location\n",
              "New Smyrna Beach, Volusia County            157\n",
              "Daytona Beach, Volusia County                27\n",
              "Myrtle Beach, Horry County                   17\n",
              "Ponce Inlet, Volusia County                  17\n",
              "Melbourne Beach, Brevard County              15\n",
              "                                           ... \n",
              "Bryan Beach, Brazoria County                  1\n",
              "Gulf Shores Beach, Baldwin County             1\n",
              "Disney / Vero Beach, Indian River County      1\n",
              "Pirate's Beach, Galveston Island              1\n",
              "Kapehu Beach, Laupahoehoe, Hawai'i            1\n",
              "Name: count, Length: 1085, dtype: int64"
            ]
          },
          "execution_count": 372,
          "metadata": {},
          "output_type": "execute_result"
        }
      ],
      "source": [
        "ds_USA['Location'].value_counts()"
      ]
    },
    {
      "cell_type": "code",
      "execution_count": 373,
      "metadata": {
        "id": "i7T19K-RCkeB"
      },
      "outputs": [],
      "source": [
        "# Eliminamos Location\n",
        "ds_USA = ds_USA.drop([\"Location\"], axis=1)"
      ]
    },
    {
      "cell_type": "markdown",
      "metadata": {
        "id": "oIb8QkDUZaiH"
      },
      "source": [
        "## **Activity**"
      ]
    },
    {
      "cell_type": "code",
      "execution_count": 374,
      "metadata": {
        "colab": {
          "base_uri": "https://localhost:8080/"
        },
        "id": "IyPXTVOC_4Zv",
        "outputId": "88a9065d-c685-4635-dd3c-8e95d557a001"
      },
      "outputs": [
        {
          "data": {
            "text/plain": [
              "Activity\n",
              "Surfing                           531\n",
              "Swimming                          212\n",
              "Wading                             96\n",
              "Fishing                            57\n",
              "Standing                           48\n",
              "                                 ... \n",
              "Swimming near pod of whales         1\n",
              "Body surfing or body boarding       1\n",
              "Swimming, towing a kayak            1\n",
              "Splashing / wading                  1\n",
              "Swept out to sea while fishing      1\n",
              "Name: count, Length: 387, dtype: int64"
            ]
          },
          "execution_count": 374,
          "metadata": {},
          "output_type": "execute_result"
        }
      ],
      "source": [
        "ds_USA['Activity'].value_counts()"
      ]
    },
    {
      "cell_type": "code",
      "execution_count": 375,
      "metadata": {
        "id": "WDSZr2w8HOal"
      },
      "outputs": [],
      "source": [
        "# Podríamos centrarnos en las actividades más frecuentes, pero por ahora lo vamos a dejar\n",
        "ds_USA = ds_USA.drop([\"Activity\"], axis=1)"
      ]
    },
    {
      "cell_type": "markdown",
      "metadata": {
        "id": "xROOCoLKZndx"
      },
      "source": [
        "## **Sex**"
      ]
    },
    {
      "cell_type": "code",
      "execution_count": 376,
      "metadata": {
        "colab": {
          "base_uri": "https://localhost:8080/"
        },
        "id": "uSw8haEXZ5y4",
        "outputId": "595eb55d-4b91-44a4-f54d-c8494328c960"
      },
      "outputs": [
        {
          "data": {
            "text/plain": [
              "Sex\n",
              "M      1399\n",
              "F       288\n",
              "M         1\n",
              "lli       1\n",
              "Name: count, dtype: int64"
            ]
          },
          "execution_count": 376,
          "metadata": {},
          "output_type": "execute_result"
        }
      ],
      "source": [
        "# Tenemos que renombrar la columna\n",
        "ds_USA.rename(columns={'Sex ': 'Sex'}, inplace=True)\n",
        "ds_USA['Sex'].value_counts()"
      ]
    },
    {
      "cell_type": "code",
      "execution_count": 377,
      "metadata": {
        "colab": {
          "base_uri": "https://localhost:8080/"
        },
        "id": "t93yrALIh0Gj",
        "outputId": "79ae5ee0-6d52-40aa-d443-1b3a755c3519"
      },
      "outputs": [
        {
          "name": "stdout",
          "output_type": "stream",
          "text": [
            "1.92  % valores nulos\n"
          ]
        }
      ],
      "source": [
        "nan_per=ds_USA['Sex'].isna().sum()/len(dataset)*100\n",
        "print (round(nan_per,2), ' % valores nulos')"
      ]
    },
    {
      "cell_type": "code",
      "execution_count": 378,
      "metadata": {
        "colab": {
          "base_uri": "https://localhost:8080/"
        },
        "id": "ySkATAvkI0w1",
        "outputId": "3314b127-9431-42db-8866-8da5a4d31f3b"
      },
      "outputs": [
        {
          "data": {
            "text/plain": [
              "Sex\n",
              "M    1400\n",
              "F     288\n",
              "Name: count, dtype: int64"
            ]
          },
          "execution_count": 378,
          "metadata": {},
          "output_type": "execute_result"
        }
      ],
      "source": [
        "ds_USA['Sex'] = ds_USA['Sex'].str.strip()\n",
        "ds_USA.drop(ds_USA[ds_USA['Sex']=='lli'].index, inplace = True)\n",
        "ds_USA.drop(ds_USA[ds_USA['Sex'].isna()].index, inplace = True)\n",
        "ds_USA['Sex'].value_counts()"
      ]
    },
    {
      "cell_type": "code",
      "execution_count": 379,
      "metadata": {
        "id": "ZO9H5dMlHtXk"
      },
      "outputs": [],
      "source": [
        "ds_USA['Sex'] = ds_USA['Sex'].map({'M': 1, 'F': 2})"
      ]
    },
    {
      "cell_type": "markdown",
      "metadata": {
        "id": "NDqXw0jHbw9a"
      },
      "source": [
        "## **Age**"
      ]
    },
    {
      "cell_type": "code",
      "execution_count": 380,
      "metadata": {
        "colab": {
          "base_uri": "https://localhost:8080/"
        },
        "id": "WGx3_ThzABpY",
        "outputId": "ccc1d137-9351-4164-9efd-4aff21f5554c"
      },
      "outputs": [
        {
          "data": {
            "text/plain": [
              "Age\n",
              "16                         57\n",
              "15                         57\n",
              "19                         56\n",
              "17                         55\n",
              "18                         53\n",
              "                           ..\n",
              "64                          1\n",
              "50s                         1\n",
              "65                          1\n",
              "60s                         1\n",
              "37, 67, 35, 27,  ? & 27     1\n",
              "Name: count, Length: 94, dtype: int64"
            ]
          },
          "execution_count": 380,
          "metadata": {},
          "output_type": "execute_result"
        }
      ],
      "source": [
        "ds_USA['Age'].value_counts()"
      ]
    },
    {
      "cell_type": "code",
      "execution_count": 381,
      "metadata": {
        "id": "YTrxvyP4ephC"
      },
      "outputs": [],
      "source": [
        "ds_USA = ds_USA.drop([\"Age\"], axis=1)"
      ]
    },
    {
      "cell_type": "markdown",
      "metadata": {
        "id": "8rrNz1Prbz4Y"
      },
      "source": [
        "## **Injury**"
      ]
    },
    {
      "cell_type": "code",
      "execution_count": 382,
      "metadata": {
        "colab": {
          "base_uri": "https://localhost:8080/"
        },
        "id": "irc3koZuAGUA",
        "outputId": "078cdb0f-caae-4ca1-decd-f5aac4d464a6"
      },
      "outputs": [
        {
          "data": {
            "text/plain": [
              "Injury\n",
              "Foot bitten                                                            47\n",
              "Left foot bitten                                                       39\n",
              "Right foot bitten                                                      34\n",
              "FATAL                                                                  25\n",
              "No injury                                                              23\n",
              "                                                                       ..\n",
              "Right forearm & wrist lacerated                                         1\n",
              "Right forearm nearly severed and bites above & below the right knee     1\n",
              "Minor injury to left ankle                                              1\n",
              "No injury, shark struck his board                                       1\n",
              "FATAL, victim seen in shark's mouth                                     1\n",
              "Name: count, Length: 1152, dtype: int64"
            ]
          },
          "execution_count": 382,
          "metadata": {},
          "output_type": "execute_result"
        }
      ],
      "source": [
        "ds_USA['Injury'].value_counts()"
      ]
    },
    {
      "cell_type": "code",
      "execution_count": 383,
      "metadata": {
        "id": "ySVkyhWfevJp"
      },
      "outputs": [],
      "source": [
        "ds_USA = ds_USA.drop([\"Injury\"], axis=1)"
      ]
    },
    {
      "cell_type": "markdown",
      "metadata": {
        "id": "BJyShXraUlBK"
      },
      "source": [
        "## **Fatal (Y/N)**"
      ]
    },
    {
      "cell_type": "code",
      "execution_count": 384,
      "metadata": {
        "colab": {
          "base_uri": "https://localhost:8080/"
        },
        "id": "umBjDsoWwUbj",
        "outputId": "3674c164-b872-4fbf-f8e3-ad105734994a"
      },
      "outputs": [
        {
          "data": {
            "text/plain": [
              "Fatal (Y/N)\n",
              "N          3411\n",
              "Y           751\n",
              "UNKNOWN      50\n",
              " N            8\n",
              "Name: count, dtype: int64"
            ]
          },
          "execution_count": 384,
          "metadata": {},
          "output_type": "execute_result"
        }
      ],
      "source": [
        "# Sería la variable objetivo\n",
        "dataset['Fatal (Y/N)'].value_counts()"
      ]
    },
    {
      "cell_type": "code",
      "execution_count": 385,
      "metadata": {
        "colab": {
          "base_uri": "https://localhost:8080/"
        },
        "id": "ipukXz6lVKsh",
        "outputId": "6426eac4-c831-4b97-d4df-8318ba445a6f"
      },
      "outputs": [
        {
          "data": {
            "text/plain": [
              "Fatal (Y/N/U)\n",
              "N    1557\n",
              "Y     120\n",
              "U      11\n",
              "Name: count, dtype: int64"
            ]
          },
          "execution_count": 385,
          "metadata": {},
          "output_type": "execute_result"
        }
      ],
      "source": [
        "# Podríamos añadir un nuevo valor: desconocido (unknown)\n",
        "ds_USA['Fatal (Y/N)'] = ds_USA['Fatal (Y/N)'].str.strip()\n",
        "ds_USA['Fatal (Y/N)'] = ds_USA['Fatal (Y/N)'].fillna('U')\n",
        "ds_USA['Fatal (Y/N)'] = ds_USA['Fatal (Y/N)'].str.replace('n', 'N')\n",
        "ds_USA['Fatal (Y/N)'] = ds_USA['Fatal (Y/N)'].str.replace('#VALUE!', 'U')\n",
        "ds_USA['Fatal (Y/N)'] = ds_USA['Fatal (Y/N)'].str.replace('F', 'Y')\n",
        "ds_USA['Fatal (Y/N)'] = ds_USA['Fatal (Y/N)'].str.replace('UNKNOWN', 'U')\n",
        "ds_USA.rename(columns={'Fatal (Y/N)': 'Fatal (Y/N/U)'}, inplace=True)\n",
        "ds_USA['Fatal (Y/N/U)'].value_counts()\n"
      ]
    },
    {
      "cell_type": "code",
      "execution_count": 386,
      "metadata": {
        "id": "QL4xYybWfCeS"
      },
      "outputs": [],
      "source": [
        "ds_USA['Fatal (Y/N/U)'] = ds_USA['Fatal (Y/N/U)'].map({'N': 0, 'Y': 2, 'U':3})"
      ]
    },
    {
      "cell_type": "markdown",
      "metadata": {
        "id": "fkeDvWbbcDjI"
      },
      "source": [
        "## **Species**"
      ]
    },
    {
      "cell_type": "code",
      "execution_count": 387,
      "metadata": {
        "colab": {
          "base_uri": "https://localhost:8080/"
        },
        "id": "Xc8MjgKDceIw",
        "outputId": "59987eaa-77eb-4316-e783-01357a2ac8fd"
      },
      "outputs": [
        {
          "name": "stdout",
          "output_type": "stream",
          "text": [
            "<class 'pandas.core.frame.DataFrame'>\n",
            "Index: 1688 entries, 0 to 4215\n",
            "Data columns (total 8 columns):\n",
            " #   Column         Non-Null Count  Dtype   \n",
            "---  ------         --------------  -----   \n",
            " 0   Type           1688 non-null   int64   \n",
            " 1   Area           1688 non-null   int8    \n",
            " 2   Sex            1688 non-null   int64   \n",
            " 3   Fatal (Y/N/U)  1688 non-null   int64   \n",
            " 4   Species        1052 non-null   object  \n",
            " 5   Month          1688 non-null   int64   \n",
            " 6   Day            1688 non-null   int64   \n",
            " 7   Decada         1688 non-null   category\n",
            "dtypes: category(1), int64(5), int8(1), object(1)\n",
            "memory usage: 96.0+ KB\n"
          ]
        }
      ],
      "source": [
        "ds_USA.info()"
      ]
    },
    {
      "cell_type": "code",
      "execution_count": 388,
      "metadata": {
        "colab": {
          "base_uri": "https://localhost:8080/"
        },
        "id": "gtl_RBzWdCrH",
        "outputId": "f97c5dfd-2e31-4254-f705-16e9a3530f5a"
      },
      "outputs": [
        {
          "name": "stdout",
          "output_type": "stream",
          "text": [
            "15.04  % valores nulos\n"
          ]
        }
      ],
      "source": [
        "nan_per=ds_USA['Species '].isna().sum()/len(dataset)*100\n",
        "print (round(nan_per,2), ' % valores nulos')"
      ]
    },
    {
      "cell_type": "code",
      "execution_count": 389,
      "metadata": {
        "colab": {
          "base_uri": "https://localhost:8080/"
        },
        "id": "NippMK-6dKBY",
        "outputId": "0c1a4e88-9c41-4669-9dae-dc8f1e4a811e"
      },
      "outputs": [
        {
          "data": {
            "text/plain": [
              "Species\n",
              "Unknown                                   637\n",
              "Shark involvement not confirmed            44\n",
              "4' shark                                   35\n",
              "White shark                                34\n",
              "4' to 5' shark                             21\n",
              "                                         ... \n",
              "Nurse shark, 3'                             1\n",
              "Sandtiger shark, 2.1 m [7']                 1\n",
              "small hammerhead shark                      1\n",
              "18\" to 36\" shark                            1\n",
              "White shark, 2 m to 4 m [6'9\" to 13']       1\n",
              "Name: count, Length: 555, dtype: int64"
            ]
          },
          "execution_count": 389,
          "metadata": {},
          "output_type": "execute_result"
        }
      ],
      "source": [
        "ds_USA.rename(columns={'Species ': 'Species'}, inplace=True)\n",
        "ds_USA['Species'].fillna('Unknown', inplace=True)\n",
        "ds_USA['Species'].value_counts()"
      ]
    },
    {
      "cell_type": "code",
      "execution_count": 390,
      "metadata": {
        "id": "g8K8bvZ-diR4"
      },
      "outputs": [],
      "source": [
        "# Aunque puede ser una columna interesante en este supuesto no la vamos a considerar \n",
        "# por la gran cantidad de nulos y valores desconocidos que contiene y por el formato tan diferente\n",
        "ds_USA = ds_USA.drop([\"Species\"], axis=1)"
      ]
    },
    {
      "cell_type": "code",
      "execution_count": 391,
      "metadata": {
        "colab": {
          "base_uri": "https://localhost:8080/"
        },
        "id": "lJuQw2Drhl7x",
        "outputId": "034cef01-6469-4b4d-b05b-72f49bb5e788"
      },
      "outputs": [
        {
          "name": "stdout",
          "output_type": "stream",
          "text": [
            "<class 'pandas.core.frame.DataFrame'>\n",
            "Index: 1688 entries, 0 to 4215\n",
            "Data columns (total 7 columns):\n",
            " #   Column         Non-Null Count  Dtype   \n",
            "---  ------         --------------  -----   \n",
            " 0   Type           1688 non-null   int64   \n",
            " 1   Area           1688 non-null   int8    \n",
            " 2   Sex            1688 non-null   int64   \n",
            " 3   Fatal (Y/N/U)  1688 non-null   int64   \n",
            " 4   Month          1688 non-null   int64   \n",
            " 5   Day            1688 non-null   int64   \n",
            " 6   Decada         1688 non-null   category\n",
            "dtypes: category(1), int64(5), int8(1)\n",
            "memory usage: 82.8 KB\n"
          ]
        }
      ],
      "source": [
        "ds_USA.info()"
      ]
    },
    {
      "cell_type": "markdown",
      "metadata": {
        "id": "SyDJxWiTaLj4"
      },
      "source": [
        "#**Normalización 1**"
      ]
    },
    {
      "cell_type": "code",
      "execution_count": 392,
      "metadata": {
        "colab": {
          "base_uri": "https://localhost:8080/",
          "height": 300
        },
        "id": "uins43cHapti",
        "outputId": "db1021a1-ea41-45ca-eb19-529dcf35e307"
      },
      "outputs": [
        {
          "data": {
            "text/html": [
              "<div>\n",
              "<style scoped>\n",
              "    .dataframe tbody tr th:only-of-type {\n",
              "        vertical-align: middle;\n",
              "    }\n",
              "\n",
              "    .dataframe tbody tr th {\n",
              "        vertical-align: top;\n",
              "    }\n",
              "\n",
              "    .dataframe thead th {\n",
              "        text-align: right;\n",
              "    }\n",
              "</style>\n",
              "<table border=\"1\" class=\"dataframe\">\n",
              "  <thead>\n",
              "    <tr style=\"text-align: right;\">\n",
              "      <th></th>\n",
              "      <th>Type</th>\n",
              "      <th>Area</th>\n",
              "      <th>Sex</th>\n",
              "      <th>Fatal (Y/N/U)</th>\n",
              "      <th>Month</th>\n",
              "      <th>Day</th>\n",
              "    </tr>\n",
              "  </thead>\n",
              "  <tbody>\n",
              "    <tr>\n",
              "      <th>count</th>\n",
              "      <td>1688.000000</td>\n",
              "      <td>1688.000000</td>\n",
              "      <td>1688.000000</td>\n",
              "      <td>1688.000000</td>\n",
              "      <td>1688.000000</td>\n",
              "      <td>1688.000000</td>\n",
              "    </tr>\n",
              "    <tr>\n",
              "      <th>mean</th>\n",
              "      <td>1.299171</td>\n",
              "      <td>9.434242</td>\n",
              "      <td>1.170616</td>\n",
              "      <td>0.161730</td>\n",
              "      <td>7.009479</td>\n",
              "      <td>15.390995</td>\n",
              "    </tr>\n",
              "    <tr>\n",
              "      <th>std</th>\n",
              "      <td>0.723850</td>\n",
              "      <td>9.210465</td>\n",
              "      <td>0.376285</td>\n",
              "      <td>0.563064</td>\n",
              "      <td>2.737027</td>\n",
              "      <td>9.203487</td>\n",
              "    </tr>\n",
              "    <tr>\n",
              "      <th>min</th>\n",
              "      <td>1.000000</td>\n",
              "      <td>0.000000</td>\n",
              "      <td>1.000000</td>\n",
              "      <td>0.000000</td>\n",
              "      <td>0.000000</td>\n",
              "      <td>0.000000</td>\n",
              "    </tr>\n",
              "    <tr>\n",
              "      <th>25%</th>\n",
              "      <td>1.000000</td>\n",
              "      <td>5.000000</td>\n",
              "      <td>1.000000</td>\n",
              "      <td>0.000000</td>\n",
              "      <td>5.000000</td>\n",
              "      <td>7.000000</td>\n",
              "    </tr>\n",
              "    <tr>\n",
              "      <th>50%</th>\n",
              "      <td>1.000000</td>\n",
              "      <td>5.000000</td>\n",
              "      <td>1.000000</td>\n",
              "      <td>0.000000</td>\n",
              "      <td>7.000000</td>\n",
              "      <td>15.500000</td>\n",
              "    </tr>\n",
              "    <tr>\n",
              "      <th>75%</th>\n",
              "      <td>1.000000</td>\n",
              "      <td>9.000000</td>\n",
              "      <td>1.000000</td>\n",
              "      <td>0.000000</td>\n",
              "      <td>9.000000</td>\n",
              "      <td>24.000000</td>\n",
              "    </tr>\n",
              "    <tr>\n",
              "      <th>max</th>\n",
              "      <td>5.000000</td>\n",
              "      <td>36.000000</td>\n",
              "      <td>2.000000</td>\n",
              "      <td>3.000000</td>\n",
              "      <td>12.000000</td>\n",
              "      <td>31.000000</td>\n",
              "    </tr>\n",
              "  </tbody>\n",
              "</table>\n",
              "</div>"
            ],
            "text/plain": [
              "              Type         Area          Sex  Fatal (Y/N/U)        Month  \\\n",
              "count  1688.000000  1688.000000  1688.000000    1688.000000  1688.000000   \n",
              "mean      1.299171     9.434242     1.170616       0.161730     7.009479   \n",
              "std       0.723850     9.210465     0.376285       0.563064     2.737027   \n",
              "min       1.000000     0.000000     1.000000       0.000000     0.000000   \n",
              "25%       1.000000     5.000000     1.000000       0.000000     5.000000   \n",
              "50%       1.000000     5.000000     1.000000       0.000000     7.000000   \n",
              "75%       1.000000     9.000000     1.000000       0.000000     9.000000   \n",
              "max       5.000000    36.000000     2.000000       3.000000    12.000000   \n",
              "\n",
              "               Day  \n",
              "count  1688.000000  \n",
              "mean     15.390995  \n",
              "std       9.203487  \n",
              "min       0.000000  \n",
              "25%       7.000000  \n",
              "50%      15.500000  \n",
              "75%      24.000000  \n",
              "max      31.000000  "
            ]
          },
          "execution_count": 392,
          "metadata": {},
          "output_type": "execute_result"
        }
      ],
      "source": [
        "ds_USA.describe()"
      ]
    },
    {
      "cell_type": "code",
      "execution_count": 393,
      "metadata": {
        "id": "fyQNN_i1g1G3"
      },
      "outputs": [],
      "source": [
        "ds_USA.Decada = ds_USA.Decada.astype('int64')"
      ]
    },
    {
      "cell_type": "code",
      "execution_count": 394,
      "metadata": {
        "colab": {
          "base_uri": "https://localhost:8080/",
          "height": 300
        },
        "id": "1xnl6G27aQVP",
        "outputId": "d3de85f0-2094-41e0-8f8d-3f3fba8e5024"
      },
      "outputs": [
        {
          "data": {
            "text/html": [
              "<div>\n",
              "<style scoped>\n",
              "    .dataframe tbody tr th:only-of-type {\n",
              "        vertical-align: middle;\n",
              "    }\n",
              "\n",
              "    .dataframe tbody tr th {\n",
              "        vertical-align: top;\n",
              "    }\n",
              "\n",
              "    .dataframe thead th {\n",
              "        text-align: right;\n",
              "    }\n",
              "</style>\n",
              "<table border=\"1\" class=\"dataframe\">\n",
              "  <thead>\n",
              "    <tr style=\"text-align: right;\">\n",
              "      <th></th>\n",
              "      <th>Type</th>\n",
              "      <th>Area</th>\n",
              "      <th>Sex</th>\n",
              "      <th>Fatal (Y/N/U)</th>\n",
              "      <th>Month</th>\n",
              "      <th>Day</th>\n",
              "      <th>Decada</th>\n",
              "    </tr>\n",
              "  </thead>\n",
              "  <tbody>\n",
              "    <tr>\n",
              "      <th>count</th>\n",
              "      <td>1688.000000</td>\n",
              "      <td>1688.000000</td>\n",
              "      <td>1688.000000</td>\n",
              "      <td>1688.000000</td>\n",
              "      <td>1688.000000</td>\n",
              "      <td>1688.000000</td>\n",
              "      <td>1688.000000</td>\n",
              "    </tr>\n",
              "    <tr>\n",
              "      <th>mean</th>\n",
              "      <td>0.074793</td>\n",
              "      <td>0.262062</td>\n",
              "      <td>0.170616</td>\n",
              "      <td>0.053910</td>\n",
              "      <td>0.584123</td>\n",
              "      <td>0.496484</td>\n",
              "      <td>0.662520</td>\n",
              "    </tr>\n",
              "    <tr>\n",
              "      <th>std</th>\n",
              "      <td>0.180963</td>\n",
              "      <td>0.255846</td>\n",
              "      <td>0.376285</td>\n",
              "      <td>0.187688</td>\n",
              "      <td>0.228086</td>\n",
              "      <td>0.296887</td>\n",
              "      <td>0.300523</td>\n",
              "    </tr>\n",
              "    <tr>\n",
              "      <th>min</th>\n",
              "      <td>0.000000</td>\n",
              "      <td>0.000000</td>\n",
              "      <td>0.000000</td>\n",
              "      <td>0.000000</td>\n",
              "      <td>0.000000</td>\n",
              "      <td>0.000000</td>\n",
              "      <td>0.000000</td>\n",
              "    </tr>\n",
              "    <tr>\n",
              "      <th>25%</th>\n",
              "      <td>0.000000</td>\n",
              "      <td>0.138889</td>\n",
              "      <td>0.000000</td>\n",
              "      <td>0.000000</td>\n",
              "      <td>0.416667</td>\n",
              "      <td>0.225806</td>\n",
              "      <td>0.500000</td>\n",
              "    </tr>\n",
              "    <tr>\n",
              "      <th>50%</th>\n",
              "      <td>0.000000</td>\n",
              "      <td>0.138889</td>\n",
              "      <td>0.000000</td>\n",
              "      <td>0.000000</td>\n",
              "      <td>0.583333</td>\n",
              "      <td>0.500000</td>\n",
              "      <td>0.833333</td>\n",
              "    </tr>\n",
              "    <tr>\n",
              "      <th>75%</th>\n",
              "      <td>0.000000</td>\n",
              "      <td>0.250000</td>\n",
              "      <td>0.000000</td>\n",
              "      <td>0.000000</td>\n",
              "      <td>0.750000</td>\n",
              "      <td>0.774194</td>\n",
              "      <td>0.833333</td>\n",
              "    </tr>\n",
              "    <tr>\n",
              "      <th>max</th>\n",
              "      <td>1.000000</td>\n",
              "      <td>1.000000</td>\n",
              "      <td>1.000000</td>\n",
              "      <td>1.000000</td>\n",
              "      <td>1.000000</td>\n",
              "      <td>1.000000</td>\n",
              "      <td>1.000000</td>\n",
              "    </tr>\n",
              "  </tbody>\n",
              "</table>\n",
              "</div>"
            ],
            "text/plain": [
              "              Type         Area          Sex  Fatal (Y/N/U)        Month  \\\n",
              "count  1688.000000  1688.000000  1688.000000    1688.000000  1688.000000   \n",
              "mean      0.074793     0.262062     0.170616       0.053910     0.584123   \n",
              "std       0.180963     0.255846     0.376285       0.187688     0.228086   \n",
              "min       0.000000     0.000000     0.000000       0.000000     0.000000   \n",
              "25%       0.000000     0.138889     0.000000       0.000000     0.416667   \n",
              "50%       0.000000     0.138889     0.000000       0.000000     0.583333   \n",
              "75%       0.000000     0.250000     0.000000       0.000000     0.750000   \n",
              "max       1.000000     1.000000     1.000000       1.000000     1.000000   \n",
              "\n",
              "               Day       Decada  \n",
              "count  1688.000000  1688.000000  \n",
              "mean      0.496484     0.662520  \n",
              "std       0.296887     0.300523  \n",
              "min       0.000000     0.000000  \n",
              "25%       0.225806     0.500000  \n",
              "50%       0.500000     0.833333  \n",
              "75%       0.774194     0.833333  \n",
              "max       1.000000     1.000000  "
            ]
          },
          "execution_count": 394,
          "metadata": {},
          "output_type": "execute_result"
        }
      ],
      "source": [
        "def normalize (horses):\n",
        "  result = ds_USA.copy()\n",
        "\n",
        "  for feature_name in ds_USA.columns:\n",
        "    max_value = ds_USA[feature_name].max()\n",
        "    min_value = ds_USA[feature_name].min()\n",
        "    result[feature_name] = (ds_USA[feature_name] - min_value) / (max_value - min_value)\n",
        "  return result\n",
        "\n",
        "dataset_nor = normalize(dataset)\n",
        "dataset_nor.describe()"
      ]
    },
    {
      "cell_type": "markdown",
      "metadata": {
        "id": "NBGlfePFLrDD"
      },
      "source": [
        "#**Normalización 2**"
      ]
    },
    {
      "cell_type": "code",
      "execution_count": 395,
      "metadata": {
        "colab": {
          "base_uri": "https://localhost:8080/",
          "height": 206
        },
        "id": "sdoiiorjLv1B",
        "outputId": "8baafdca-d5a6-4489-d741-9afa2e3b5997"
      },
      "outputs": [
        {
          "data": {
            "text/html": [
              "<div>\n",
              "<style scoped>\n",
              "    .dataframe tbody tr th:only-of-type {\n",
              "        vertical-align: middle;\n",
              "    }\n",
              "\n",
              "    .dataframe tbody tr th {\n",
              "        vertical-align: top;\n",
              "    }\n",
              "\n",
              "    .dataframe thead th {\n",
              "        text-align: right;\n",
              "    }\n",
              "</style>\n",
              "<table border=\"1\" class=\"dataframe\">\n",
              "  <thead>\n",
              "    <tr style=\"text-align: right;\">\n",
              "      <th></th>\n",
              "      <th>Type</th>\n",
              "      <th>Area</th>\n",
              "      <th>Sex</th>\n",
              "      <th>Month</th>\n",
              "      <th>Day</th>\n",
              "      <th>Decada</th>\n",
              "    </tr>\n",
              "  </thead>\n",
              "  <tbody>\n",
              "    <tr>\n",
              "      <th>0</th>\n",
              "      <td>-0.413427</td>\n",
              "      <td>-0.481578</td>\n",
              "      <td>-0.453557</td>\n",
              "      <td>0.727472</td>\n",
              "      <td>0.283564</td>\n",
              "      <td>1.123309</td>\n",
              "    </tr>\n",
              "    <tr>\n",
              "      <th>1</th>\n",
              "      <td>-0.413427</td>\n",
              "      <td>-0.481578</td>\n",
              "      <td>-0.453557</td>\n",
              "      <td>0.727472</td>\n",
              "      <td>0.283564</td>\n",
              "      <td>1.123309</td>\n",
              "    </tr>\n",
              "    <tr>\n",
              "      <th>2</th>\n",
              "      <td>-0.413427</td>\n",
              "      <td>-0.481578</td>\n",
              "      <td>-0.453557</td>\n",
              "      <td>0.727472</td>\n",
              "      <td>0.283564</td>\n",
              "      <td>1.123309</td>\n",
              "    </tr>\n",
              "    <tr>\n",
              "      <th>3</th>\n",
              "      <td>-0.413427</td>\n",
              "      <td>-0.481578</td>\n",
              "      <td>-0.453557</td>\n",
              "      <td>0.727472</td>\n",
              "      <td>-0.477243</td>\n",
              "      <td>1.123309</td>\n",
              "    </tr>\n",
              "    <tr>\n",
              "      <th>4</th>\n",
              "      <td>-0.413427</td>\n",
              "      <td>-0.047161</td>\n",
              "      <td>2.204793</td>\n",
              "      <td>0.727472</td>\n",
              "      <td>-0.911989</td>\n",
              "      <td>1.123309</td>\n",
              "    </tr>\n",
              "  </tbody>\n",
              "</table>\n",
              "</div>"
            ],
            "text/plain": [
              "       Type      Area       Sex     Month       Day    Decada\n",
              "0 -0.413427 -0.481578 -0.453557  0.727472  0.283564  1.123309\n",
              "1 -0.413427 -0.481578 -0.453557  0.727472  0.283564  1.123309\n",
              "2 -0.413427 -0.481578 -0.453557  0.727472  0.283564  1.123309\n",
              "3 -0.413427 -0.481578 -0.453557  0.727472 -0.477243  1.123309\n",
              "4 -0.413427 -0.047161  2.204793  0.727472 -0.911989  1.123309"
            ]
          },
          "execution_count": 395,
          "metadata": {},
          "output_type": "execute_result"
        }
      ],
      "source": [
        "from sklearn.preprocessing import StandardScaler\n",
        "\n",
        "target = ds_USA['Fatal (Y/N/U)']\n",
        "dataset_nor = ds_USA.drop(columns = ['Fatal (Y/N/U)'], axis = 1) \n",
        "features = dataset_nor.columns\n",
        "scaler = StandardScaler()\n",
        "scaledTrain = scaler.fit_transform(dataset_nor)\n",
        "dfTrain = pd.DataFrame(data=scaledTrain, columns=features)\n",
        "dfTrain.head()"
      ]
    },
    {
      "cell_type": "markdown",
      "metadata": {
        "id": "drd8B5l-V_UN"
      },
      "source": [
        "#**Reducción de dimensionalidad**"
      ]
    },
    {
      "cell_type": "markdown",
      "metadata": {
        "id": "wp8DFaoz8onL"
      },
      "source": [
        "##**Feature importance**"
      ]
    },
    {
      "cell_type": "code",
      "execution_count": 396,
      "metadata": {
        "colab": {
          "base_uri": "https://localhost:8080/"
        },
        "id": "vxPf2Lzs81p2",
        "outputId": "00ea2e25-3a81-455e-8ad7-eacaccec23bf"
      },
      "outputs": [
        {
          "name": "stdout",
          "output_type": "stream",
          "text": [
            "[0.13640389 0.1823419  0.02227145 0.21341241 0.30966311 0.13590725]\n"
          ]
        }
      ],
      "source": [
        "import matplotlib.pyplot as plt\n",
        "from sklearn.ensemble import ExtraTreesClassifier\n",
        "\n",
        "# Feature_importances of tree based classifiers\n",
        "X = ds_USA.drop(\"Fatal (Y/N/U)\", axis=1)    # Independent columns\n",
        "y = ds_USA[\"Fatal (Y/N/U)\"]           # Target feature\n",
        "model = ExtraTreesClassifier()\n",
        "model.fit(X,y)\n",
        "print(model.feature_importances_) # Use inbuilt class"
      ]
    },
    {
      "cell_type": "code",
      "execution_count": 397,
      "metadata": {
        "colab": {
          "base_uri": "https://localhost:8080/",
          "height": 265
        },
        "id": "fyfRewLZ9Me3",
        "outputId": "abe0a185-cc8f-41b4-c43f-ac705cfa0f55"
      },
      "outputs": [
        {
          "data": {
            "image/png": "[encoded data removed]",
            "text/plain": [
              "<Figure size 640x480 with 1 Axes>"
            ]
          },
          "metadata": {},
          "output_type": "display_data"
        }
      ],
      "source": [
        "# plot graph of feature importances for better visualization\n",
        "feat_importances = pd.Series(model.feature_importances_, index=X.columns)\n",
        "feat_importances.nlargest(5).plot(kind='barh')\n",
        "plt.show()"
      ]
    },
    {
      "cell_type": "markdown",
      "metadata": {
        "id": "py9BuWhuWgiM"
      },
      "source": [
        "##**Varianza**\n",
        "Se calcula la varianza de cada una de las variables y se descantan aquellas que tengan una varianza baja en comparación con las otras variables de nuestro conjunto de datos, ya que las variables con una varianza baja no afectarán a la variable objetivo."
      ]
    },
    {
      "cell_type": "code",
      "execution_count": 398,
      "metadata": {
        "colab": {
          "base_uri": "https://localhost:8080/"
        },
        "id": "MBJ19fpmXQrp",
        "outputId": "8d98fc71-5372-4f83-df68-dbd8b4c43c0f"
      },
      "outputs": [
        {
          "data": {
            "text/plain": [
              "Type              0.523959\n",
              "Area             84.832662\n",
              "Sex               0.141590\n",
              "Fatal (Y/N/U)     0.317041\n",
              "Month             7.491315\n",
              "Day              84.704175\n",
              "Decada            3.251307\n",
              "dtype: float64"
            ]
          },
          "execution_count": 398,
          "metadata": {},
          "output_type": "execute_result"
        }
      ],
      "source": [
        "ds_USA.var()"
      ]
    },
    {
      "cell_type": "markdown",
      "metadata": {
        "id": "fDmqfcdYYfP0"
      },
      "source": [
        "#**Correlation (Pearson)**"
      ]
    },
    {
      "cell_type": "code",
      "execution_count": 399,
      "metadata": {
        "colab": {
          "base_uri": "https://localhost:8080/",
          "height": 269
        },
        "id": "08poA-I8Yd3l",
        "outputId": "465ef1d5-5f87-43b2-c9ef-934baa0c6a37"
      },
      "outputs": [
        {
          "data": {
            "text/html": [
              "<div>\n",
              "<style scoped>\n",
              "    .dataframe tbody tr th:only-of-type {\n",
              "        vertical-align: middle;\n",
              "    }\n",
              "\n",
              "    .dataframe tbody tr th {\n",
              "        vertical-align: top;\n",
              "    }\n",
              "\n",
              "    .dataframe thead th {\n",
              "        text-align: right;\n",
              "    }\n",
              "</style>\n",
              "<table border=\"1\" class=\"dataframe\">\n",
              "  <thead>\n",
              "    <tr style=\"text-align: right;\">\n",
              "      <th></th>\n",
              "      <th>Type</th>\n",
              "      <th>Area</th>\n",
              "      <th>Sex</th>\n",
              "      <th>Fatal (Y/N/U)</th>\n",
              "      <th>Month</th>\n",
              "      <th>Day</th>\n",
              "      <th>Decada</th>\n",
              "    </tr>\n",
              "  </thead>\n",
              "  <tbody>\n",
              "    <tr>\n",
              "      <th>Type</th>\n",
              "      <td>1.000000</td>\n",
              "      <td>0.023180</td>\n",
              "      <td>-0.043877</td>\n",
              "      <td>0.227358</td>\n",
              "      <td>-0.020581</td>\n",
              "      <td>-0.026645</td>\n",
              "      <td>-0.161878</td>\n",
              "    </tr>\n",
              "    <tr>\n",
              "      <th>Area</th>\n",
              "      <td>0.023180</td>\n",
              "      <td>1.000000</td>\n",
              "      <td>0.130148</td>\n",
              "      <td>0.025883</td>\n",
              "      <td>-0.035716</td>\n",
              "      <td>-0.000969</td>\n",
              "      <td>0.023530</td>\n",
              "    </tr>\n",
              "    <tr>\n",
              "      <th>Sex</th>\n",
              "      <td>-0.043877</td>\n",
              "      <td>0.130148</td>\n",
              "      <td>1.000000</td>\n",
              "      <td>-0.018404</td>\n",
              "      <td>-0.008478</td>\n",
              "      <td>0.012220</td>\n",
              "      <td>0.153908</td>\n",
              "    </tr>\n",
              "    <tr>\n",
              "      <th>Fatal (Y/N/U)</th>\n",
              "      <td>0.227358</td>\n",
              "      <td>0.025883</td>\n",
              "      <td>-0.018404</td>\n",
              "      <td>1.000000</td>\n",
              "      <td>-0.040997</td>\n",
              "      <td>-0.011180</td>\n",
              "      <td>-0.187536</td>\n",
              "    </tr>\n",
              "    <tr>\n",
              "      <th>Month</th>\n",
              "      <td>-0.020581</td>\n",
              "      <td>-0.035716</td>\n",
              "      <td>-0.008478</td>\n",
              "      <td>-0.040997</td>\n",
              "      <td>1.000000</td>\n",
              "      <td>0.016937</td>\n",
              "      <td>0.074636</td>\n",
              "    </tr>\n",
              "    <tr>\n",
              "      <th>Day</th>\n",
              "      <td>-0.026645</td>\n",
              "      <td>-0.000969</td>\n",
              "      <td>0.012220</td>\n",
              "      <td>-0.011180</td>\n",
              "      <td>0.016937</td>\n",
              "      <td>1.000000</td>\n",
              "      <td>0.062524</td>\n",
              "    </tr>\n",
              "    <tr>\n",
              "      <th>Decada</th>\n",
              "      <td>-0.161878</td>\n",
              "      <td>0.023530</td>\n",
              "      <td>0.153908</td>\n",
              "      <td>-0.187536</td>\n",
              "      <td>0.074636</td>\n",
              "      <td>0.062524</td>\n",
              "      <td>1.000000</td>\n",
              "    </tr>\n",
              "  </tbody>\n",
              "</table>\n",
              "</div>"
            ],
            "text/plain": [
              "                   Type      Area       Sex  Fatal (Y/N/U)     Month  \\\n",
              "Type           1.000000  0.023180 -0.043877       0.227358 -0.020581   \n",
              "Area           0.023180  1.000000  0.130148       0.025883 -0.035716   \n",
              "Sex           -0.043877  0.130148  1.000000      -0.018404 -0.008478   \n",
              "Fatal (Y/N/U)  0.227358  0.025883 -0.018404       1.000000 -0.040997   \n",
              "Month         -0.020581 -0.035716 -0.008478      -0.040997  1.000000   \n",
              "Day           -0.026645 -0.000969  0.012220      -0.011180  0.016937   \n",
              "Decada        -0.161878  0.023530  0.153908      -0.187536  0.074636   \n",
              "\n",
              "                    Day    Decada  \n",
              "Type          -0.026645 -0.161878  \n",
              "Area          -0.000969  0.023530  \n",
              "Sex            0.012220  0.153908  \n",
              "Fatal (Y/N/U) -0.011180 -0.187536  \n",
              "Month          0.016937  0.074636  \n",
              "Day            1.000000  0.062524  \n",
              "Decada         0.062524  1.000000  "
            ]
          },
          "execution_count": 399,
          "metadata": {},
          "output_type": "execute_result"
        }
      ],
      "source": [
        "import matplotlib.pyplot as plt\n",
        "\n",
        "ds_USA.corr()"
      ]
    },
    {
      "cell_type": "code",
      "execution_count": 400,
      "metadata": {
        "colab": {
          "base_uri": "https://localhost:8080/",
          "height": 1000
        },
        "id": "aRBsnM9uY1rp",
        "outputId": "4ba87afd-4f6c-42d6-ea53-31b756bcd59f"
      },
      "outputs": [
        {
          "data": {
            "image/png": "[encoded data removed]",
            "text/plain": [
              "<Figure size 2000x2000 with 2 Axes>"
            ]
          },
          "metadata": {},
          "output_type": "display_data"
        }
      ],
      "source": [
        "plt.figure(figsize=(20,20))\n",
        "g=sns.heatmap(ds_USA.corr(), annot=True, cmap=\"RdYlGn\") "
      ]
    },
    {
      "cell_type": "markdown",
      "metadata": {
        "id": "-rHY-xpt6k3i"
      },
      "source": [
        "#**Backward elimination**"
      ]
    },
    {
      "cell_type": "code",
      "execution_count": 401,
      "metadata": {
        "colab": {
          "base_uri": "https://localhost:8080/",
          "height": 206
        },
        "id": "PVurhpV-7hn4",
        "outputId": "13aeaca3-0407-4efc-fd0d-900467dcfd2e"
      },
      "outputs": [
        {
          "data": {
            "text/html": [
              "<div>\n",
              "<style scoped>\n",
              "    .dataframe tbody tr th:only-of-type {\n",
              "        vertical-align: middle;\n",
              "    }\n",
              "\n",
              "    .dataframe tbody tr th {\n",
              "        vertical-align: top;\n",
              "    }\n",
              "\n",
              "    .dataframe thead th {\n",
              "        text-align: right;\n",
              "    }\n",
              "</style>\n",
              "<table border=\"1\" class=\"dataframe\">\n",
              "  <thead>\n",
              "    <tr style=\"text-align: right;\">\n",
              "      <th></th>\n",
              "      <th>Type</th>\n",
              "      <th>Area</th>\n",
              "      <th>Sex</th>\n",
              "      <th>Fatal (Y/N/U)</th>\n",
              "      <th>Month</th>\n",
              "      <th>Day</th>\n",
              "      <th>Decada</th>\n",
              "    </tr>\n",
              "  </thead>\n",
              "  <tbody>\n",
              "    <tr>\n",
              "      <th>0</th>\n",
              "      <td>1</td>\n",
              "      <td>5</td>\n",
              "      <td>1</td>\n",
              "      <td>0</td>\n",
              "      <td>9</td>\n",
              "      <td>18</td>\n",
              "      <td>7</td>\n",
              "    </tr>\n",
              "    <tr>\n",
              "      <th>1</th>\n",
              "      <td>1</td>\n",
              "      <td>5</td>\n",
              "      <td>1</td>\n",
              "      <td>0</td>\n",
              "      <td>9</td>\n",
              "      <td>18</td>\n",
              "      <td>7</td>\n",
              "    </tr>\n",
              "    <tr>\n",
              "      <th>2</th>\n",
              "      <td>1</td>\n",
              "      <td>5</td>\n",
              "      <td>1</td>\n",
              "      <td>0</td>\n",
              "      <td>9</td>\n",
              "      <td>18</td>\n",
              "      <td>7</td>\n",
              "    </tr>\n",
              "    <tr>\n",
              "      <th>6</th>\n",
              "      <td>1</td>\n",
              "      <td>5</td>\n",
              "      <td>1</td>\n",
              "      <td>0</td>\n",
              "      <td>9</td>\n",
              "      <td>11</td>\n",
              "      <td>7</td>\n",
              "    </tr>\n",
              "    <tr>\n",
              "      <th>7</th>\n",
              "      <td>1</td>\n",
              "      <td>9</td>\n",
              "      <td>2</td>\n",
              "      <td>0</td>\n",
              "      <td>9</td>\n",
              "      <td>7</td>\n",
              "      <td>7</td>\n",
              "    </tr>\n",
              "  </tbody>\n",
              "</table>\n",
              "</div>"
            ],
            "text/plain": [
              "   Type  Area  Sex  Fatal (Y/N/U)  Month  Day  Decada\n",
              "0     1     5    1              0      9   18       7\n",
              "1     1     5    1              0      9   18       7\n",
              "2     1     5    1              0      9   18       7\n",
              "6     1     5    1              0      9   11       7\n",
              "7     1     9    2              0      9    7       7"
            ]
          },
          "execution_count": 401,
          "metadata": {},
          "output_type": "execute_result"
        }
      ],
      "source": [
        "import statsmodels.api as sm\n",
        "\n",
        "X = ds_USA \n",
        "y = ds_USA[\"Fatal (Y/N/U)\"]          \n",
        "ds_USA.head()"
      ]
    },
    {
      "cell_type": "code",
      "execution_count": 404,
      "metadata": {
        "colab": {
          "base_uri": "https://localhost:8080/"
        },
        "id": "nGklgUrp6wW_",
        "outputId": "9d639f5a-80fd-464d-b150-908dfd705e6d"
      },
      "outputs": [
        {
          "name": "stdout",
          "output_type": "stream",
          "text": [
            "['Type', 'Area', 'Fatal (Y/N/U)', 'Month', 'Day', 'Decada']\n"
          ]
        }
      ],
      "source": [
        "cols = list(X.columns)\n",
        "pmax = 1\n",
        "while (len(cols)>0):\n",
        "    p= []\n",
        "    X_1 = X[cols]\n",
        "    X_1 = sm.add_constant(X_1)\n",
        "    model = sm.OLS(y,X_1).fit()\n",
        "    p = pd.Series(model.pvalues.values[1:],index = cols)      \n",
        "    pmax = p.max()\n",
        "    feature_with_p_max = p.idxmax()\n",
        "    if(pmax>0.05):\n",
        "        cols.remove(feature_with_p_max)\n",
        "    else:\n",
        "        break\n",
        "selected_features_BE = cols\n",
        "print(selected_features_BE)"
      ]
    },
    {
      "cell_type": "markdown",
      "metadata": {
        "id": "sAGLGVzrdOJj"
      },
      "source": [
        "#**PCA 1**"
      ]
    },
    {
      "cell_type": "code",
      "execution_count": 74,
      "metadata": {
        "id": "q3Ve6tb8dr47"
      },
      "outputs": [],
      "source": [
        "from sklearn.decomposition import PCA\n",
        "from sklearn.preprocessing import StandardScaler"
      ]
    },
    {
      "cell_type": "code",
      "execution_count": 75,
      "metadata": {
        "id": "43_-fj5WdY57"
      },
      "outputs": [],
      "source": [
        "# Normalizamos los datos\n",
        "scaler=StandardScaler()\n",
        "df = ds_USA.drop(['Fatal (Y/N/U)'], axis=1)     # quito la variable dependiente \"Y\"\n",
        "scaler.fit(df)  \n",
        "X_scaled=scaler.transform(df)                   # Ahora si, escalo los datos y los normalizo"
      ]
    },
    {
      "cell_type": "code",
      "execution_count": 76,
      "metadata": {
        "id": "DDrGEpyGd06T"
      },
      "outputs": [],
      "source": [
        "# Instanciamos PCA\n",
        "pca=PCA(n_components=6)  \n",
        "pca.fit(X_scaled)             # obtener los componentes principales\n",
        "X_pca=pca.transform(X_scaled) # convertimos nuestros datos con las nuevas dimensiones de PCA"
      ]
    },
    {
      "cell_type": "code",
      "execution_count": 77,
      "metadata": {
        "colab": {
          "base_uri": "https://localhost:8080/"
        },
        "id": "y5ea29DPeDh_",
        "outputId": "9446e3ed-5077-44a8-9630-719e24d7ef5d"
      },
      "outputs": [
        {
          "name": "stdout",
          "output_type": "stream",
          "text": [
            "shape of X_pca (1688, 6)\n",
            "[0.21463175 0.18547428 0.16404353 0.16246269 0.14353039 0.12985736]\n",
            "suma: 1.0\n"
          ]
        }
      ],
      "source": [
        "print(\"shape of X_pca\", X_pca.shape)\n",
        "expl = pca.explained_variance_ratio_\n",
        "print(expl)\n",
        "print('suma:',sum(expl[0:14]))"
      ]
    },
    {
      "cell_type": "code",
      "execution_count": 78,
      "metadata": {
        "colab": {
          "base_uri": "https://localhost:8080/",
          "height": 279
        },
        "id": "F4h4_TmEeVtD",
        "outputId": "c6732a98-bc10-4d5b-c9ca-c020e799a5aa"
      },
      "outputs": [
        {
          "data": {
            "image/png": "[encoded data removed]",
            "text/plain": [
              "<Figure size 432x288 with 1 Axes>"
            ]
          },
          "metadata": {
            "needs_background": "light"
          },
          "output_type": "display_data"
        }
      ],
      "source": [
        "plt.plot(np.cumsum(pca.explained_variance_ratio_))\n",
        "plt.xlabel('number of components')\n",
        "plt.ylabel('cumulative explained variance')\n",
        "plt.show()"
      ]
    },
    {
      "cell_type": "markdown",
      "metadata": {
        "id": "VThuCePT_xkp"
      },
      "source": [
        "#**PCA 2**"
      ]
    },
    {
      "cell_type": "code",
      "execution_count": null,
      "metadata": {
        "colab": {
          "base_uri": "https://localhost:8080/"
        },
        "id": "56sMAs-XGeOp",
        "outputId": "538aa20b-121f-4bb5-cdff-570c3b6f51f6"
      },
      "outputs": [
        {
          "data": {
            "text/plain": [
              "Index(['Type', 'Area', 'Sex', 'Fatal (Y/N/U)', 'Month', 'Day', 'Decada'], dtype='object')"
            ]
          },
          "execution_count": 712,
          "metadata": {},
          "output_type": "execute_result"
        }
      ],
      "source": [
        "ds_USA.keys()"
      ]
    },
    {
      "cell_type": "code",
      "execution_count": null,
      "metadata": {
        "colab": {
          "base_uri": "https://localhost:8080/"
        },
        "id": "eLOtyA6Z_-6q",
        "outputId": "70489d3c-dd8f-4d80-a847-27cedbedd23d"
      },
      "outputs": [
        {
          "data": {
            "text/plain": [
              "array([[-0.41342712, -0.48157784, -0.45355737,  0.72747234,  0.28356403,\n",
              "         1.12330917],\n",
              "       [-0.41342712, -0.48157784, -0.45355737,  0.72747234,  0.28356403,\n",
              "         1.12330917],\n",
              "       [-0.41342712, -0.48157784, -0.45355737,  0.72747234,  0.28356403,\n",
              "         1.12330917],\n",
              "       ...,\n",
              "       [-0.41342712, -0.48157784, -0.45355737, -2.56174189, -1.67279598,\n",
              "        -2.20520905],\n",
              "       [-0.41342712, -0.80739082, -0.45355737, -0.00346415,  0.3922507 ,\n",
              "        -2.20520905],\n",
              "       [-0.41342712, -0.04716053, -0.45355737, -0.3689324 ,  1.0443707 ,\n",
              "        -2.20520905]])"
            ]
          },
          "execution_count": 713,
          "metadata": {},
          "output_type": "execute_result"
        }
      ],
      "source": [
        "from sklearn.preprocessing import MinMaxScaler\n",
        "from sklearn.preprocessing import StandardScaler\n",
        "\n",
        "scaler=StandardScaler()\n",
        "df = ds_USA.drop(['Fatal (Y/N/U)'], axis=1) # quito la variable dependiente \"Y\"\n",
        "scaler.fit(df)\n",
        "scaled_data=scaler.transform(df)\n",
        "scaled_data\n"
      ]
    },
    {
      "cell_type": "code",
      "execution_count": null,
      "metadata": {
        "id": "JFglZAeqAbos"
      },
      "outputs": [],
      "source": [
        "from sklearn.decomposition import PCA\n",
        "\n",
        "pca=PCA(n_components=2)\n",
        "pca.fit(scaled_data)\n",
        "x_pca=pca.transform(scaled_data)"
      ]
    },
    {
      "cell_type": "code",
      "execution_count": null,
      "metadata": {
        "colab": {
          "base_uri": "https://localhost:8080/",
          "height": 406
        },
        "id": "OW0qB1ufBqFw",
        "outputId": "9793af51-0725-4a94-dbc8-ededab4b7dc3"
      },
      "outputs": [
        {
          "data": {
            "text/plain": [
              "Text(0, 0.5, 'Second principle component')"
            ]
          },
          "execution_count": 716,
          "metadata": {},
          "output_type": "execute_result"
        },
        {
          "data": {
            "image/png": "[encoded data removed]",
            "text/plain": [
              "<Figure size 576x432 with 1 Axes>"
            ]
          },
          "metadata": {
            "needs_background": "light"
          },
          "output_type": "display_data"
        }
      ],
      "source": [
        "plt.figure(figsize=(8,6))\n",
        "plt.scatter(x_pca[:,0],x_pca[:,1],c=ds_USA['Fatal (Y/N/U)'])\n",
        "plt.xlabel('First principle component')\n",
        "plt.ylabel('Second principle component')"
      ]
    }
  ],
  "metadata": {
    "colab": {
      "provenance": []
    },
    "kernelspec": {
      "display_name": "Python 3",
      "name": "python3"
    },
    "language_info": {
      "codemirror_mode": {
        "name": "ipython",
        "version": 3
      },
      "file_extension": ".py",
      "mimetype": "text/x-python",
      "name": "python",
      "nbconvert_exporter": "python",
      "pygments_lexer": "ipython3",
      "version": "3.11.6"
    }
  },
  "nbformat": 4,
  "nbformat_minor": 0
}
